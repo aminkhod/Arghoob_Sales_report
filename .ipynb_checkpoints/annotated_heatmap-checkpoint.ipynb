{
 "cells": [
  {
   "cell_type": "markdown",
   "metadata": {},
   "source": [
    "#### New to Plotly? \n",
    "Plotly's Python library is free and open source! [Get started](https://plot.ly/python/getting-started/) by downloading the client and [reading the primer](https://plot.ly/python/getting-started/).\n",
    "<br>You can set up Plotly to work in [online](https://plot.ly/python/getting-started/#initialization-for-online-plotting) or [offline](https://plot.ly/python/getting-started/#initialization-for-offline-plotting) mode, or in [jupyter notebooks](https://plot.ly/python/getting-started/#start-plotting-online).\n",
    "<br>We also have a quick-reference [cheatsheet](https://images.plot.ly/plotly-documentation/images/python_cheat_sheet.pdf) (new!) to help you get started!"
   ]
  },
  {
   "cell_type": "markdown",
   "metadata": {},
   "source": [
    "#### Simple Annotated Heatmap"
   ]
  },
  {
   "cell_type": "code",
   "execution_count": 3,
   "metadata": {},
   "outputs": [
    {
     "data": {
      "text/html": [
       "        <script type=\"text/javascript\">\n",
       "        window.PlotlyConfig = {MathJaxConfig: 'local'};\n",
       "        if (window.MathJax) {MathJax.Hub.Config({SVG: {font: \"STIX-Web\"}});}\n",
       "        if (typeof require !== 'undefined') {\n",
       "        require.undef(\"plotly\");\n",
       "        requirejs.config({\n",
       "            paths: {\n",
       "                'plotly': ['https://cdn.plot.ly/plotly-latest.min']\n",
       "            }\n",
       "        });\n",
       "        require(['plotly'], function(Plotly) {\n",
       "            window._Plotly = Plotly;\n",
       "        });\n",
       "        }\n",
       "        </script>\n",
       "        "
      ]
     },
     "metadata": {},
     "output_type": "display_data"
    }
   ],
   "source": [
    "import pandas as pd\n",
    "import numpy as np\n",
    "import os\n",
    "import plotly.graph_objs as go\n",
    "import plotly.io as pio\n",
    "import plotly.plotly as py\n",
    "import plotly.figure_factory as FF\n",
    "import dash\n",
    "import dash_core_components as dcc\n",
    "import dash_html_components as html\n",
    "from  plotly.offline import plot\n",
    "import plotly\n",
    "from IPython.display import SVG, display\n",
    "from IPython.display import Image\n",
    "from IPython.display import display, Math, Latex\n",
    "import colorlover as cl\n",
    "from IPython.display import HTML\n",
    "from IPython.display import IFrame\n",
    "from plotly.offline import iplot, init_notebook_mode\n",
    "from IPython.display import YouTubeVideo\n",
    "init_notebook_mode(connected=True)\n",
    "df = pd.read_csv('allMonthes.csv')"
   ]
  },
  {
   "cell_type": "code",
   "execution_count": 4,
   "metadata": {},
   "outputs": [
    {
     "data": {
      "application/vnd.plotly.v1+json": {
       "config": {
        "linkText": "Export to plot.ly",
        "plotlyServerURL": "https://plot.ly",
        "showLink": false
       },
       "data": [
        {
         "colorscale": "RdBu",
         "reversescale": false,
         "showscale": false,
         "type": "heatmap",
         "uid": "a14cd239-2daf-4254-be05-eca6b008fce6",
         "z": [
          [
           0.1,
           0.3,
           0.5,
           0.7,
           0.9
          ],
          [
           1,
           0.8,
           0.6,
           0.4,
           0.2
          ],
          [
           0.2,
           0,
           0.5,
           0.7,
           0.9
          ],
          [
           0.9,
           0.8,
           0.4,
           0.2,
           0
          ],
          [
           0.3,
           0.4,
           0.5,
           0.7,
           1
          ]
         ]
        }
       ],
       "layout": {
        "annotations": [
         {
          "font": {
           "color": "#FFFFFF"
          },
          "showarrow": false,
          "text": "0.1",
          "x": 0,
          "xref": "x",
          "y": 0,
          "yref": "y"
         },
         {
          "font": {
           "color": "#FFFFFF"
          },
          "showarrow": false,
          "text": "0.3",
          "x": 1,
          "xref": "x",
          "y": 0,
          "yref": "y"
         },
         {
          "font": {
           "color": "#000000"
          },
          "showarrow": false,
          "text": "0.5",
          "x": 2,
          "xref": "x",
          "y": 0,
          "yref": "y"
         },
         {
          "font": {
           "color": "#000000"
          },
          "showarrow": false,
          "text": "0.7",
          "x": 3,
          "xref": "x",
          "y": 0,
          "yref": "y"
         },
         {
          "font": {
           "color": "#000000"
          },
          "showarrow": false,
          "text": "0.9",
          "x": 4,
          "xref": "x",
          "y": 0,
          "yref": "y"
         },
         {
          "font": {
           "color": "#000000"
          },
          "showarrow": false,
          "text": "1",
          "x": 0,
          "xref": "x",
          "y": 1,
          "yref": "y"
         },
         {
          "font": {
           "color": "#000000"
          },
          "showarrow": false,
          "text": "0.8",
          "x": 1,
          "xref": "x",
          "y": 1,
          "yref": "y"
         },
         {
          "font": {
           "color": "#000000"
          },
          "showarrow": false,
          "text": "0.6",
          "x": 2,
          "xref": "x",
          "y": 1,
          "yref": "y"
         },
         {
          "font": {
           "color": "#FFFFFF"
          },
          "showarrow": false,
          "text": "0.4",
          "x": 3,
          "xref": "x",
          "y": 1,
          "yref": "y"
         },
         {
          "font": {
           "color": "#FFFFFF"
          },
          "showarrow": false,
          "text": "0.2",
          "x": 4,
          "xref": "x",
          "y": 1,
          "yref": "y"
         },
         {
          "font": {
           "color": "#FFFFFF"
          },
          "showarrow": false,
          "text": "0.2",
          "x": 0,
          "xref": "x",
          "y": 2,
          "yref": "y"
         },
         {
          "font": {
           "color": "#FFFFFF"
          },
          "showarrow": false,
          "text": "0",
          "x": 1,
          "xref": "x",
          "y": 2,
          "yref": "y"
         },
         {
          "font": {
           "color": "#000000"
          },
          "showarrow": false,
          "text": "0.5",
          "x": 2,
          "xref": "x",
          "y": 2,
          "yref": "y"
         },
         {
          "font": {
           "color": "#000000"
          },
          "showarrow": false,
          "text": "0.7",
          "x": 3,
          "xref": "x",
          "y": 2,
          "yref": "y"
         },
         {
          "font": {
           "color": "#000000"
          },
          "showarrow": false,
          "text": "0.9",
          "x": 4,
          "xref": "x",
          "y": 2,
          "yref": "y"
         },
         {
          "font": {
           "color": "#000000"
          },
          "showarrow": false,
          "text": "0.9",
          "x": 0,
          "xref": "x",
          "y": 3,
          "yref": "y"
         },
         {
          "font": {
           "color": "#000000"
          },
          "showarrow": false,
          "text": "0.8",
          "x": 1,
          "xref": "x",
          "y": 3,
          "yref": "y"
         },
         {
          "font": {
           "color": "#FFFFFF"
          },
          "showarrow": false,
          "text": "0.4",
          "x": 2,
          "xref": "x",
          "y": 3,
          "yref": "y"
         },
         {
          "font": {
           "color": "#FFFFFF"
          },
          "showarrow": false,
          "text": "0.2",
          "x": 3,
          "xref": "x",
          "y": 3,
          "yref": "y"
         },
         {
          "font": {
           "color": "#FFFFFF"
          },
          "showarrow": false,
          "text": "0",
          "x": 4,
          "xref": "x",
          "y": 3,
          "yref": "y"
         },
         {
          "font": {
           "color": "#FFFFFF"
          },
          "showarrow": false,
          "text": "0.3",
          "x": 0,
          "xref": "x",
          "y": 4,
          "yref": "y"
         },
         {
          "font": {
           "color": "#FFFFFF"
          },
          "showarrow": false,
          "text": "0.4",
          "x": 1,
          "xref": "x",
          "y": 4,
          "yref": "y"
         },
         {
          "font": {
           "color": "#000000"
          },
          "showarrow": false,
          "text": "0.5",
          "x": 2,
          "xref": "x",
          "y": 4,
          "yref": "y"
         },
         {
          "font": {
           "color": "#000000"
          },
          "showarrow": false,
          "text": "0.7",
          "x": 3,
          "xref": "x",
          "y": 4,
          "yref": "y"
         },
         {
          "font": {
           "color": "#000000"
          },
          "showarrow": false,
          "text": "1",
          "x": 4,
          "xref": "x",
          "y": 4,
          "yref": "y"
         }
        ],
        "xaxis": {
         "gridcolor": "rgb(0, 0, 0)",
         "showticklabels": false,
         "side": "top",
         "ticks": ""
        },
        "yaxis": {
         "showticklabels": false,
         "ticks": "",
         "ticksuffix": "  "
        }
       }
      },
      "text/html": [
       "<div>\n",
       "        \n",
       "        \n",
       "            <div id=\"8cb029e8-bd34-4116-8393-0e31cf96db55\" class=\"plotly-graph-div\" style=\"height:525px; width:100%;\"></div>\n",
       "            <script type=\"text/javascript\">\n",
       "                require([\"plotly\"], function(Plotly) {\n",
       "                    window.PLOTLYENV=window.PLOTLYENV || {};\n",
       "                    window.PLOTLYENV.BASE_URL='https://plot.ly';\n",
       "                    \n",
       "                if (document.getElementById(\"8cb029e8-bd34-4116-8393-0e31cf96db55\")) {\n",
       "                    Plotly.newPlot(\n",
       "                        '8cb029e8-bd34-4116-8393-0e31cf96db55',\n",
       "                        [{\"colorscale\": \"RdBu\", \"reversescale\": false, \"showscale\": false, \"type\": \"heatmap\", \"uid\": \"a14cd239-2daf-4254-be05-eca6b008fce6\", \"z\": [[0.1, 0.3, 0.5, 0.7, 0.9], [1, 0.8, 0.6, 0.4, 0.2], [0.2, 0, 0.5, 0.7, 0.9], [0.9, 0.8, 0.4, 0.2, 0], [0.3, 0.4, 0.5, 0.7, 1]]}],\n",
       "                        {\"annotations\": [{\"font\": {\"color\": \"#FFFFFF\"}, \"showarrow\": false, \"text\": \"0.1\", \"x\": 0, \"xref\": \"x\", \"y\": 0, \"yref\": \"y\"}, {\"font\": {\"color\": \"#FFFFFF\"}, \"showarrow\": false, \"text\": \"0.3\", \"x\": 1, \"xref\": \"x\", \"y\": 0, \"yref\": \"y\"}, {\"font\": {\"color\": \"#000000\"}, \"showarrow\": false, \"text\": \"0.5\", \"x\": 2, \"xref\": \"x\", \"y\": 0, \"yref\": \"y\"}, {\"font\": {\"color\": \"#000000\"}, \"showarrow\": false, \"text\": \"0.7\", \"x\": 3, \"xref\": \"x\", \"y\": 0, \"yref\": \"y\"}, {\"font\": {\"color\": \"#000000\"}, \"showarrow\": false, \"text\": \"0.9\", \"x\": 4, \"xref\": \"x\", \"y\": 0, \"yref\": \"y\"}, {\"font\": {\"color\": \"#000000\"}, \"showarrow\": false, \"text\": \"1\", \"x\": 0, \"xref\": \"x\", \"y\": 1, \"yref\": \"y\"}, {\"font\": {\"color\": \"#000000\"}, \"showarrow\": false, \"text\": \"0.8\", \"x\": 1, \"xref\": \"x\", \"y\": 1, \"yref\": \"y\"}, {\"font\": {\"color\": \"#000000\"}, \"showarrow\": false, \"text\": \"0.6\", \"x\": 2, \"xref\": \"x\", \"y\": 1, \"yref\": \"y\"}, {\"font\": {\"color\": \"#FFFFFF\"}, \"showarrow\": false, \"text\": \"0.4\", \"x\": 3, \"xref\": \"x\", \"y\": 1, \"yref\": \"y\"}, {\"font\": {\"color\": \"#FFFFFF\"}, \"showarrow\": false, \"text\": \"0.2\", \"x\": 4, \"xref\": \"x\", \"y\": 1, \"yref\": \"y\"}, {\"font\": {\"color\": \"#FFFFFF\"}, \"showarrow\": false, \"text\": \"0.2\", \"x\": 0, \"xref\": \"x\", \"y\": 2, \"yref\": \"y\"}, {\"font\": {\"color\": \"#FFFFFF\"}, \"showarrow\": false, \"text\": \"0\", \"x\": 1, \"xref\": \"x\", \"y\": 2, \"yref\": \"y\"}, {\"font\": {\"color\": \"#000000\"}, \"showarrow\": false, \"text\": \"0.5\", \"x\": 2, \"xref\": \"x\", \"y\": 2, \"yref\": \"y\"}, {\"font\": {\"color\": \"#000000\"}, \"showarrow\": false, \"text\": \"0.7\", \"x\": 3, \"xref\": \"x\", \"y\": 2, \"yref\": \"y\"}, {\"font\": {\"color\": \"#000000\"}, \"showarrow\": false, \"text\": \"0.9\", \"x\": 4, \"xref\": \"x\", \"y\": 2, \"yref\": \"y\"}, {\"font\": {\"color\": \"#000000\"}, \"showarrow\": false, \"text\": \"0.9\", \"x\": 0, \"xref\": \"x\", \"y\": 3, \"yref\": \"y\"}, {\"font\": {\"color\": \"#000000\"}, \"showarrow\": false, \"text\": \"0.8\", \"x\": 1, \"xref\": \"x\", \"y\": 3, \"yref\": \"y\"}, {\"font\": {\"color\": \"#FFFFFF\"}, \"showarrow\": false, \"text\": \"0.4\", \"x\": 2, \"xref\": \"x\", \"y\": 3, \"yref\": \"y\"}, {\"font\": {\"color\": \"#FFFFFF\"}, \"showarrow\": false, \"text\": \"0.2\", \"x\": 3, \"xref\": \"x\", \"y\": 3, \"yref\": \"y\"}, {\"font\": {\"color\": \"#FFFFFF\"}, \"showarrow\": false, \"text\": \"0\", \"x\": 4, \"xref\": \"x\", \"y\": 3, \"yref\": \"y\"}, {\"font\": {\"color\": \"#FFFFFF\"}, \"showarrow\": false, \"text\": \"0.3\", \"x\": 0, \"xref\": \"x\", \"y\": 4, \"yref\": \"y\"}, {\"font\": {\"color\": \"#FFFFFF\"}, \"showarrow\": false, \"text\": \"0.4\", \"x\": 1, \"xref\": \"x\", \"y\": 4, \"yref\": \"y\"}, {\"font\": {\"color\": \"#000000\"}, \"showarrow\": false, \"text\": \"0.5\", \"x\": 2, \"xref\": \"x\", \"y\": 4, \"yref\": \"y\"}, {\"font\": {\"color\": \"#000000\"}, \"showarrow\": false, \"text\": \"0.7\", \"x\": 3, \"xref\": \"x\", \"y\": 4, \"yref\": \"y\"}, {\"font\": {\"color\": \"#000000\"}, \"showarrow\": false, \"text\": \"1\", \"x\": 4, \"xref\": \"x\", \"y\": 4, \"yref\": \"y\"}], \"xaxis\": {\"gridcolor\": \"rgb(0, 0, 0)\", \"showticklabels\": false, \"side\": \"top\", \"ticks\": \"\"}, \"yaxis\": {\"showticklabels\": false, \"ticks\": \"\", \"ticksuffix\": \"  \"}},\n",
       "                        {\"showLink\": false, \"linkText\": \"Export to plot.ly\", \"plotlyServerURL\": \"https://plot.ly\", \"responsive\": true}\n",
       "                    ).then(function(){\n",
       "                            \n",
       "var gd = document.getElementById('8cb029e8-bd34-4116-8393-0e31cf96db55');\n",
       "var x = new MutationObserver(function (mutations, observer) {{\n",
       "        var display = window.getComputedStyle(gd).display;\n",
       "        if (!display || display === 'none') {{\n",
       "            console.log([gd, 'removed!']);\n",
       "            Plotly.purge(gd);\n",
       "            observer.disconnect();\n",
       "        }}\n",
       "}});\n",
       "\n",
       "// Listen for the removal of the full notebook cells\n",
       "var notebookContainer = gd.closest('#notebook-container');\n",
       "if (notebookContainer) {{\n",
       "    x.observe(notebookContainer, {childList: true});\n",
       "}}\n",
       "\n",
       "// Listen for the clearing of the current output cell\n",
       "var outputEl = gd.closest('.output');\n",
       "if (outputEl) {{\n",
       "    x.observe(outputEl, {childList: true});\n",
       "}}\n",
       "\n",
       "                        })\n",
       "                };\n",
       "                });\n",
       "            </script>\n",
       "        </div>"
      ]
     },
     "metadata": {},
     "output_type": "display_data"
    }
   ],
   "source": [
    "z = [[.1, .3, .5, .7, .9],  \n",
    "     [1, .8, .6, .4, .2],\n",
    "     [.2, 0, .5, .7, .9],  \n",
    "     [.9, .8, .4, .2, 0],\n",
    "     [.3, .4, .5, .7, 1]] \n",
    "\n",
    "fig = FF.create_annotated_heatmap(z)\n",
    "iplot(fig, filename='annotated_heatmap')"
   ]
  },
  {
   "cell_type": "markdown",
   "metadata": {},
   "source": [
    "#### Defined Colorscale"
   ]
  },
  {
   "cell_type": "code",
   "execution_count": 5,
   "metadata": {},
   "outputs": [
    {
     "data": {
      "application/vnd.plotly.v1+json": {
       "config": {
        "linkText": "Export to plot.ly",
        "plotlyServerURL": "https://plot.ly",
        "showLink": false
       },
       "data": [
        {
         "colorscale": "Viridis",
         "reversescale": false,
         "showscale": false,
         "type": "heatmap",
         "uid": "0bee39ed-5619-4b95-a68f-c948a4a128b4",
         "z": [
          [
           0.1,
           0.3,
           0.5,
           0.7
          ],
          [
           1,
           0.8,
           0.6,
           0.4
          ],
          [
           0.6,
           0.4,
           0.2,
           0
          ],
          [
           0.9,
           0.7,
           0.5,
           0.3
          ]
         ]
        }
       ],
       "layout": {
        "annotations": [
         {
          "font": {
           "color": "#FFFFFF"
          },
          "showarrow": false,
          "text": "0.1",
          "x": 0,
          "xref": "x",
          "y": 0,
          "yref": "y"
         },
         {
          "font": {
           "color": "#FFFFFF"
          },
          "showarrow": false,
          "text": "0.3",
          "x": 1,
          "xref": "x",
          "y": 0,
          "yref": "y"
         },
         {
          "font": {
           "color": "#000000"
          },
          "showarrow": false,
          "text": "0.5",
          "x": 2,
          "xref": "x",
          "y": 0,
          "yref": "y"
         },
         {
          "font": {
           "color": "#000000"
          },
          "showarrow": false,
          "text": "0.7",
          "x": 3,
          "xref": "x",
          "y": 0,
          "yref": "y"
         },
         {
          "font": {
           "color": "#000000"
          },
          "showarrow": false,
          "text": "1",
          "x": 0,
          "xref": "x",
          "y": 1,
          "yref": "y"
         },
         {
          "font": {
           "color": "#000000"
          },
          "showarrow": false,
          "text": "0.8",
          "x": 1,
          "xref": "x",
          "y": 1,
          "yref": "y"
         },
         {
          "font": {
           "color": "#000000"
          },
          "showarrow": false,
          "text": "0.6",
          "x": 2,
          "xref": "x",
          "y": 1,
          "yref": "y"
         },
         {
          "font": {
           "color": "#FFFFFF"
          },
          "showarrow": false,
          "text": "0.4",
          "x": 3,
          "xref": "x",
          "y": 1,
          "yref": "y"
         },
         {
          "font": {
           "color": "#000000"
          },
          "showarrow": false,
          "text": "0.6",
          "x": 0,
          "xref": "x",
          "y": 2,
          "yref": "y"
         },
         {
          "font": {
           "color": "#FFFFFF"
          },
          "showarrow": false,
          "text": "0.4",
          "x": 1,
          "xref": "x",
          "y": 2,
          "yref": "y"
         },
         {
          "font": {
           "color": "#FFFFFF"
          },
          "showarrow": false,
          "text": "0.2",
          "x": 2,
          "xref": "x",
          "y": 2,
          "yref": "y"
         },
         {
          "font": {
           "color": "#FFFFFF"
          },
          "showarrow": false,
          "text": "0.0",
          "x": 3,
          "xref": "x",
          "y": 2,
          "yref": "y"
         },
         {
          "font": {
           "color": "#000000"
          },
          "showarrow": false,
          "text": "0.9",
          "x": 0,
          "xref": "x",
          "y": 3,
          "yref": "y"
         },
         {
          "font": {
           "color": "#000000"
          },
          "showarrow": false,
          "text": "0.7",
          "x": 1,
          "xref": "x",
          "y": 3,
          "yref": "y"
         },
         {
          "font": {
           "color": "#000000"
          },
          "showarrow": false,
          "text": "0.5",
          "x": 2,
          "xref": "x",
          "y": 3,
          "yref": "y"
         },
         {
          "font": {
           "color": "#FFFFFF"
          },
          "showarrow": false,
          "text": "0.3",
          "x": 3,
          "xref": "x",
          "y": 3,
          "yref": "y"
         }
        ],
        "xaxis": {
         "gridcolor": "rgb(0, 0, 0)",
         "showticklabels": false,
         "side": "top",
         "ticks": ""
        },
        "yaxis": {
         "showticklabels": false,
         "ticks": "",
         "ticksuffix": "  "
        }
       }
      },
      "text/html": [
       "<div>\n",
       "        \n",
       "        \n",
       "            <div id=\"b59c9af7-fa39-4825-8a3f-9ba8c4a6c427\" class=\"plotly-graph-div\" style=\"height:525px; width:100%;\"></div>\n",
       "            <script type=\"text/javascript\">\n",
       "                require([\"plotly\"], function(Plotly) {\n",
       "                    window.PLOTLYENV=window.PLOTLYENV || {};\n",
       "                    window.PLOTLYENV.BASE_URL='https://plot.ly';\n",
       "                    \n",
       "                if (document.getElementById(\"b59c9af7-fa39-4825-8a3f-9ba8c4a6c427\")) {\n",
       "                    Plotly.newPlot(\n",
       "                        'b59c9af7-fa39-4825-8a3f-9ba8c4a6c427',\n",
       "                        [{\"colorscale\": \"Viridis\", \"reversescale\": false, \"showscale\": false, \"type\": \"heatmap\", \"uid\": \"0bee39ed-5619-4b95-a68f-c948a4a128b4\", \"z\": [[0.1, 0.3, 0.5, 0.7], [1, 0.8, 0.6, 0.4], [0.6, 0.4, 0.2, 0.0], [0.9, 0.7, 0.5, 0.3]]}],\n",
       "                        {\"annotations\": [{\"font\": {\"color\": \"#FFFFFF\"}, \"showarrow\": false, \"text\": \"0.1\", \"x\": 0, \"xref\": \"x\", \"y\": 0, \"yref\": \"y\"}, {\"font\": {\"color\": \"#FFFFFF\"}, \"showarrow\": false, \"text\": \"0.3\", \"x\": 1, \"xref\": \"x\", \"y\": 0, \"yref\": \"y\"}, {\"font\": {\"color\": \"#000000\"}, \"showarrow\": false, \"text\": \"0.5\", \"x\": 2, \"xref\": \"x\", \"y\": 0, \"yref\": \"y\"}, {\"font\": {\"color\": \"#000000\"}, \"showarrow\": false, \"text\": \"0.7\", \"x\": 3, \"xref\": \"x\", \"y\": 0, \"yref\": \"y\"}, {\"font\": {\"color\": \"#000000\"}, \"showarrow\": false, \"text\": \"1\", \"x\": 0, \"xref\": \"x\", \"y\": 1, \"yref\": \"y\"}, {\"font\": {\"color\": \"#000000\"}, \"showarrow\": false, \"text\": \"0.8\", \"x\": 1, \"xref\": \"x\", \"y\": 1, \"yref\": \"y\"}, {\"font\": {\"color\": \"#000000\"}, \"showarrow\": false, \"text\": \"0.6\", \"x\": 2, \"xref\": \"x\", \"y\": 1, \"yref\": \"y\"}, {\"font\": {\"color\": \"#FFFFFF\"}, \"showarrow\": false, \"text\": \"0.4\", \"x\": 3, \"xref\": \"x\", \"y\": 1, \"yref\": \"y\"}, {\"font\": {\"color\": \"#000000\"}, \"showarrow\": false, \"text\": \"0.6\", \"x\": 0, \"xref\": \"x\", \"y\": 2, \"yref\": \"y\"}, {\"font\": {\"color\": \"#FFFFFF\"}, \"showarrow\": false, \"text\": \"0.4\", \"x\": 1, \"xref\": \"x\", \"y\": 2, \"yref\": \"y\"}, {\"font\": {\"color\": \"#FFFFFF\"}, \"showarrow\": false, \"text\": \"0.2\", \"x\": 2, \"xref\": \"x\", \"y\": 2, \"yref\": \"y\"}, {\"font\": {\"color\": \"#FFFFFF\"}, \"showarrow\": false, \"text\": \"0.0\", \"x\": 3, \"xref\": \"x\", \"y\": 2, \"yref\": \"y\"}, {\"font\": {\"color\": \"#000000\"}, \"showarrow\": false, \"text\": \"0.9\", \"x\": 0, \"xref\": \"x\", \"y\": 3, \"yref\": \"y\"}, {\"font\": {\"color\": \"#000000\"}, \"showarrow\": false, \"text\": \"0.7\", \"x\": 1, \"xref\": \"x\", \"y\": 3, \"yref\": \"y\"}, {\"font\": {\"color\": \"#000000\"}, \"showarrow\": false, \"text\": \"0.5\", \"x\": 2, \"xref\": \"x\", \"y\": 3, \"yref\": \"y\"}, {\"font\": {\"color\": \"#FFFFFF\"}, \"showarrow\": false, \"text\": \"0.3\", \"x\": 3, \"xref\": \"x\", \"y\": 3, \"yref\": \"y\"}], \"xaxis\": {\"gridcolor\": \"rgb(0, 0, 0)\", \"showticklabels\": false, \"side\": \"top\", \"ticks\": \"\"}, \"yaxis\": {\"showticklabels\": false, \"ticks\": \"\", \"ticksuffix\": \"  \"}},\n",
       "                        {\"showLink\": false, \"linkText\": \"Export to plot.ly\", \"plotlyServerURL\": \"https://plot.ly\", \"responsive\": true}\n",
       "                    ).then(function(){\n",
       "                            \n",
       "var gd = document.getElementById('b59c9af7-fa39-4825-8a3f-9ba8c4a6c427');\n",
       "var x = new MutationObserver(function (mutations, observer) {{\n",
       "        var display = window.getComputedStyle(gd).display;\n",
       "        if (!display || display === 'none') {{\n",
       "            console.log([gd, 'removed!']);\n",
       "            Plotly.purge(gd);\n",
       "            observer.disconnect();\n",
       "        }}\n",
       "}});\n",
       "\n",
       "// Listen for the removal of the full notebook cells\n",
       "var notebookContainer = gd.closest('#notebook-container');\n",
       "if (notebookContainer) {{\n",
       "    x.observe(notebookContainer, {childList: true});\n",
       "}}\n",
       "\n",
       "// Listen for the clearing of the current output cell\n",
       "var outputEl = gd.closest('.output');\n",
       "if (outputEl) {{\n",
       "    x.observe(outputEl, {childList: true});\n",
       "}}\n",
       "\n",
       "                        })\n",
       "                };\n",
       "                });\n",
       "            </script>\n",
       "        </div>"
      ]
     },
     "metadata": {},
     "output_type": "display_data"
    }
   ],
   "source": [
    "z = [[.1, .3, .5, .7],  \n",
    "     [1, .8, .6, .4],\n",
    "     [.6, .4, .2, .0],  \n",
    "     [.9, .7, .5, .3]] \n",
    "\n",
    "fig = FF.create_annotated_heatmap(z, colorscale='Viridis')\n",
    "iplot(fig, filename='annotated_heatmap_color')"
   ]
  },
  {
   "cell_type": "markdown",
   "metadata": {},
   "source": [
    "#### Custom Colorscale"
   ]
  },
  {
   "cell_type": "code",
   "execution_count": 6,
   "metadata": {},
   "outputs": [
    {
     "data": {
      "application/vnd.plotly.v1+json": {
       "config": {
        "linkText": "Export to plot.ly",
        "plotlyServerURL": "https://plot.ly",
        "showLink": false
       },
       "data": [
        {
         "colorscale": [
          [
           0,
           "#66475e"
          ],
          [
           1,
           "#ecbfe0"
          ]
         ],
         "reversescale": false,
         "showscale": false,
         "type": "heatmap",
         "uid": "0d62a970-4192-4f8e-9815-251b2dd36d8f",
         "z": [
          [
           0.1,
           0.3,
           0.5,
           0.7
          ],
          [
           1,
           0.8,
           0.6,
           0.4
          ],
          [
           0.6,
           0.4,
           0.2,
           0
          ],
          [
           0.9,
           0.7,
           0.5,
           0.3
          ]
         ]
        }
       ],
       "layout": {
        "annotations": [
         {
          "font": {
           "color": "#efecee"
          },
          "showarrow": false,
          "text": "0.1",
          "x": 0,
          "xref": "x",
          "y": 0,
          "yref": "y"
         },
         {
          "font": {
           "color": "#efecee"
          },
          "showarrow": false,
          "text": "0.3",
          "x": 1,
          "xref": "x",
          "y": 0,
          "yref": "y"
         },
         {
          "font": {
           "color": "#3c3636"
          },
          "showarrow": false,
          "text": "0.5",
          "x": 2,
          "xref": "x",
          "y": 0,
          "yref": "y"
         },
         {
          "font": {
           "color": "#3c3636"
          },
          "showarrow": false,
          "text": "0.7",
          "x": 3,
          "xref": "x",
          "y": 0,
          "yref": "y"
         },
         {
          "font": {
           "color": "#3c3636"
          },
          "showarrow": false,
          "text": "1.0",
          "x": 0,
          "xref": "x",
          "y": 1,
          "yref": "y"
         },
         {
          "font": {
           "color": "#3c3636"
          },
          "showarrow": false,
          "text": "0.8",
          "x": 1,
          "xref": "x",
          "y": 1,
          "yref": "y"
         },
         {
          "font": {
           "color": "#3c3636"
          },
          "showarrow": false,
          "text": "0.6",
          "x": 2,
          "xref": "x",
          "y": 1,
          "yref": "y"
         },
         {
          "font": {
           "color": "#efecee"
          },
          "showarrow": false,
          "text": "0.4",
          "x": 3,
          "xref": "x",
          "y": 1,
          "yref": "y"
         },
         {
          "font": {
           "color": "#3c3636"
          },
          "showarrow": false,
          "text": "0.6",
          "x": 0,
          "xref": "x",
          "y": 2,
          "yref": "y"
         },
         {
          "font": {
           "color": "#efecee"
          },
          "showarrow": false,
          "text": "0.4",
          "x": 1,
          "xref": "x",
          "y": 2,
          "yref": "y"
         },
         {
          "font": {
           "color": "#efecee"
          },
          "showarrow": false,
          "text": "0.2",
          "x": 2,
          "xref": "x",
          "y": 2,
          "yref": "y"
         },
         {
          "font": {
           "color": "#efecee"
          },
          "showarrow": false,
          "text": "0.0",
          "x": 3,
          "xref": "x",
          "y": 2,
          "yref": "y"
         },
         {
          "font": {
           "color": "#3c3636"
          },
          "showarrow": false,
          "text": "0.9",
          "x": 0,
          "xref": "x",
          "y": 3,
          "yref": "y"
         },
         {
          "font": {
           "color": "#3c3636"
          },
          "showarrow": false,
          "text": "0.7",
          "x": 1,
          "xref": "x",
          "y": 3,
          "yref": "y"
         },
         {
          "font": {
           "color": "#3c3636"
          },
          "showarrow": false,
          "text": "0.5",
          "x": 2,
          "xref": "x",
          "y": 3,
          "yref": "y"
         },
         {
          "font": {
           "color": "#efecee"
          },
          "showarrow": false,
          "text": "0.3",
          "x": 3,
          "xref": "x",
          "y": 3,
          "yref": "y"
         }
        ],
        "xaxis": {
         "gridcolor": "rgb(0, 0, 0)",
         "showticklabels": false,
         "side": "top",
         "ticks": ""
        },
        "yaxis": {
         "showticklabels": false,
         "ticks": "",
         "ticksuffix": "  "
        }
       }
      },
      "text/html": [
       "<div>\n",
       "        \n",
       "        \n",
       "            <div id=\"cca82d72-d602-46b3-a325-f4b44d5c2978\" class=\"plotly-graph-div\" style=\"height:525px; width:100%;\"></div>\n",
       "            <script type=\"text/javascript\">\n",
       "                require([\"plotly\"], function(Plotly) {\n",
       "                    window.PLOTLYENV=window.PLOTLYENV || {};\n",
       "                    window.PLOTLYENV.BASE_URL='https://plot.ly';\n",
       "                    \n",
       "                if (document.getElementById(\"cca82d72-d602-46b3-a325-f4b44d5c2978\")) {\n",
       "                    Plotly.newPlot(\n",
       "                        'cca82d72-d602-46b3-a325-f4b44d5c2978',\n",
       "                        [{\"colorscale\": [[0, \"#66475e\"], [1, \"#ecbfe0\"]], \"reversescale\": false, \"showscale\": false, \"type\": \"heatmap\", \"uid\": \"0d62a970-4192-4f8e-9815-251b2dd36d8f\", \"z\": [[0.1, 0.3, 0.5, 0.7], [1.0, 0.8, 0.6, 0.4], [0.6, 0.4, 0.2, 0.0], [0.9, 0.7, 0.5, 0.3]]}],\n",
       "                        {\"annotations\": [{\"font\": {\"color\": \"#efecee\"}, \"showarrow\": false, \"text\": \"0.1\", \"x\": 0, \"xref\": \"x\", \"y\": 0, \"yref\": \"y\"}, {\"font\": {\"color\": \"#efecee\"}, \"showarrow\": false, \"text\": \"0.3\", \"x\": 1, \"xref\": \"x\", \"y\": 0, \"yref\": \"y\"}, {\"font\": {\"color\": \"#3c3636\"}, \"showarrow\": false, \"text\": \"0.5\", \"x\": 2, \"xref\": \"x\", \"y\": 0, \"yref\": \"y\"}, {\"font\": {\"color\": \"#3c3636\"}, \"showarrow\": false, \"text\": \"0.7\", \"x\": 3, \"xref\": \"x\", \"y\": 0, \"yref\": \"y\"}, {\"font\": {\"color\": \"#3c3636\"}, \"showarrow\": false, \"text\": \"1.0\", \"x\": 0, \"xref\": \"x\", \"y\": 1, \"yref\": \"y\"}, {\"font\": {\"color\": \"#3c3636\"}, \"showarrow\": false, \"text\": \"0.8\", \"x\": 1, \"xref\": \"x\", \"y\": 1, \"yref\": \"y\"}, {\"font\": {\"color\": \"#3c3636\"}, \"showarrow\": false, \"text\": \"0.6\", \"x\": 2, \"xref\": \"x\", \"y\": 1, \"yref\": \"y\"}, {\"font\": {\"color\": \"#efecee\"}, \"showarrow\": false, \"text\": \"0.4\", \"x\": 3, \"xref\": \"x\", \"y\": 1, \"yref\": \"y\"}, {\"font\": {\"color\": \"#3c3636\"}, \"showarrow\": false, \"text\": \"0.6\", \"x\": 0, \"xref\": \"x\", \"y\": 2, \"yref\": \"y\"}, {\"font\": {\"color\": \"#efecee\"}, \"showarrow\": false, \"text\": \"0.4\", \"x\": 1, \"xref\": \"x\", \"y\": 2, \"yref\": \"y\"}, {\"font\": {\"color\": \"#efecee\"}, \"showarrow\": false, \"text\": \"0.2\", \"x\": 2, \"xref\": \"x\", \"y\": 2, \"yref\": \"y\"}, {\"font\": {\"color\": \"#efecee\"}, \"showarrow\": false, \"text\": \"0.0\", \"x\": 3, \"xref\": \"x\", \"y\": 2, \"yref\": \"y\"}, {\"font\": {\"color\": \"#3c3636\"}, \"showarrow\": false, \"text\": \"0.9\", \"x\": 0, \"xref\": \"x\", \"y\": 3, \"yref\": \"y\"}, {\"font\": {\"color\": \"#3c3636\"}, \"showarrow\": false, \"text\": \"0.7\", \"x\": 1, \"xref\": \"x\", \"y\": 3, \"yref\": \"y\"}, {\"font\": {\"color\": \"#3c3636\"}, \"showarrow\": false, \"text\": \"0.5\", \"x\": 2, \"xref\": \"x\", \"y\": 3, \"yref\": \"y\"}, {\"font\": {\"color\": \"#efecee\"}, \"showarrow\": false, \"text\": \"0.3\", \"x\": 3, \"xref\": \"x\", \"y\": 3, \"yref\": \"y\"}], \"xaxis\": {\"gridcolor\": \"rgb(0, 0, 0)\", \"showticklabels\": false, \"side\": \"top\", \"ticks\": \"\"}, \"yaxis\": {\"showticklabels\": false, \"ticks\": \"\", \"ticksuffix\": \"  \"}},\n",
       "                        {\"showLink\": false, \"linkText\": \"Export to plot.ly\", \"plotlyServerURL\": \"https://plot.ly\", \"responsive\": true}\n",
       "                    ).then(function(){\n",
       "                            \n",
       "var gd = document.getElementById('cca82d72-d602-46b3-a325-f4b44d5c2978');\n",
       "var x = new MutationObserver(function (mutations, observer) {{\n",
       "        var display = window.getComputedStyle(gd).display;\n",
       "        if (!display || display === 'none') {{\n",
       "            console.log([gd, 'removed!']);\n",
       "            Plotly.purge(gd);\n",
       "            observer.disconnect();\n",
       "        }}\n",
       "}});\n",
       "\n",
       "// Listen for the removal of the full notebook cells\n",
       "var notebookContainer = gd.closest('#notebook-container');\n",
       "if (notebookContainer) {{\n",
       "    x.observe(notebookContainer, {childList: true});\n",
       "}}\n",
       "\n",
       "// Listen for the clearing of the current output cell\n",
       "var outputEl = gd.closest('.output');\n",
       "if (outputEl) {{\n",
       "    x.observe(outputEl, {childList: true});\n",
       "}}\n",
       "\n",
       "                        })\n",
       "                };\n",
       "                });\n",
       "            </script>\n",
       "        </div>"
      ]
     },
     "metadata": {},
     "output_type": "display_data"
    }
   ],
   "source": [
    "z = [[.1, .3, .5, .7],  \n",
    "     [1.0, .8, .6, .4],\n",
    "     [.6, .4, .2, 0.0],  \n",
    "     [.9, .7, .5, .3]] \n",
    "\n",
    "colorscale = [[0, '#66475e'], [1, '#ecbfe0']]\n",
    "font_colors = ['#efecee', '#3c3636']\n",
    "fig = FF.create_annotated_heatmap(z, colorscale=colorscale, font_colors=font_colors)\n",
    "iplot(fig, filename='annotated_heatmap_custom_color')"
   ]
  },
  {
   "cell_type": "markdown",
   "metadata": {},
   "source": [
    "#### Custom Text and X & Y Labels \n",
    "set `annotation_text` to a matrix with the same dimmensions as `z`"
   ]
  },
  {
   "cell_type": "code",
   "execution_count": 7,
   "metadata": {},
   "outputs": [
    {
     "data": {
      "application/vnd.plotly.v1+json": {
       "config": {
        "linkText": "Export to plot.ly",
        "plotlyServerURL": "https://plot.ly",
        "showLink": false
       },
       "data": [
        {
         "colorscale": "Viridis",
         "reversescale": false,
         "showscale": false,
         "type": "heatmap",
         "uid": "2a356d64-430c-497d-8541-fc1b6188f5a5",
         "x": [
          "Team A",
          "Team B",
          "Team C"
         ],
         "y": [
          "Game Three",
          "Game Two",
          "Game One"
         ],
         "z": [
          [
           0.1,
           0.3,
           0.5
          ],
          [
           1,
           0.8,
           0.6
          ],
          [
           0.6,
           0.4,
           0.2
          ]
         ]
        }
       ],
       "layout": {
        "annotations": [
         {
          "font": {
           "color": "#FFFFFF"
          },
          "showarrow": false,
          "text": "Win",
          "x": "Team A",
          "xref": "x",
          "y": "Game Three",
          "yref": "y"
         },
         {
          "font": {
           "color": "#FFFFFF"
          },
          "showarrow": false,
          "text": "Lose",
          "x": "Team B",
          "xref": "x",
          "y": "Game Three",
          "yref": "y"
         },
         {
          "font": {
           "color": "#FFFFFF"
          },
          "showarrow": false,
          "text": "Win",
          "x": "Team C",
          "xref": "x",
          "y": "Game Three",
          "yref": "y"
         },
         {
          "font": {
           "color": "#000000"
          },
          "showarrow": false,
          "text": "Lose",
          "x": "Team A",
          "xref": "x",
          "y": "Game Two",
          "yref": "y"
         },
         {
          "font": {
           "color": "#000000"
          },
          "showarrow": false,
          "text": "Lose",
          "x": "Team B",
          "xref": "x",
          "y": "Game Two",
          "yref": "y"
         },
         {
          "font": {
           "color": "#000000"
          },
          "showarrow": false,
          "text": "Win",
          "x": "Team C",
          "xref": "x",
          "y": "Game Two",
          "yref": "y"
         },
         {
          "font": {
           "color": "#000000"
          },
          "showarrow": false,
          "text": "Win",
          "x": "Team A",
          "xref": "x",
          "y": "Game One",
          "yref": "y"
         },
         {
          "font": {
           "color": "#FFFFFF"
          },
          "showarrow": false,
          "text": "Win",
          "x": "Team B",
          "xref": "x",
          "y": "Game One",
          "yref": "y"
         },
         {
          "font": {
           "color": "#FFFFFF"
          },
          "showarrow": false,
          "text": "Lose",
          "x": "Team C",
          "xref": "x",
          "y": "Game One",
          "yref": "y"
         }
        ],
        "xaxis": {
         "dtick": 1,
         "gridcolor": "rgb(0, 0, 0)",
         "side": "top",
         "ticks": ""
        },
        "yaxis": {
         "dtick": 1,
         "ticks": "",
         "ticksuffix": "  "
        }
       }
      },
      "text/html": [
       "<div>\n",
       "        \n",
       "        \n",
       "            <div id=\"4f5fed50-16f6-4e2d-9fa7-75203b67c017\" class=\"plotly-graph-div\" style=\"height:525px; width:100%;\"></div>\n",
       "            <script type=\"text/javascript\">\n",
       "                require([\"plotly\"], function(Plotly) {\n",
       "                    window.PLOTLYENV=window.PLOTLYENV || {};\n",
       "                    window.PLOTLYENV.BASE_URL='https://plot.ly';\n",
       "                    \n",
       "                if (document.getElementById(\"4f5fed50-16f6-4e2d-9fa7-75203b67c017\")) {\n",
       "                    Plotly.newPlot(\n",
       "                        '4f5fed50-16f6-4e2d-9fa7-75203b67c017',\n",
       "                        [{\"colorscale\": \"Viridis\", \"reversescale\": false, \"showscale\": false, \"type\": \"heatmap\", \"uid\": \"2a356d64-430c-497d-8541-fc1b6188f5a5\", \"x\": [\"Team A\", \"Team B\", \"Team C\"], \"y\": [\"Game Three\", \"Game Two\", \"Game One\"], \"z\": [[0.1, 0.3, 0.5], [1.0, 0.8, 0.6], [0.6, 0.4, 0.2]]}],\n",
       "                        {\"annotations\": [{\"font\": {\"color\": \"#FFFFFF\"}, \"showarrow\": false, \"text\": \"Win\", \"x\": \"Team A\", \"xref\": \"x\", \"y\": \"Game Three\", \"yref\": \"y\"}, {\"font\": {\"color\": \"#FFFFFF\"}, \"showarrow\": false, \"text\": \"Lose\", \"x\": \"Team B\", \"xref\": \"x\", \"y\": \"Game Three\", \"yref\": \"y\"}, {\"font\": {\"color\": \"#FFFFFF\"}, \"showarrow\": false, \"text\": \"Win\", \"x\": \"Team C\", \"xref\": \"x\", \"y\": \"Game Three\", \"yref\": \"y\"}, {\"font\": {\"color\": \"#000000\"}, \"showarrow\": false, \"text\": \"Lose\", \"x\": \"Team A\", \"xref\": \"x\", \"y\": \"Game Two\", \"yref\": \"y\"}, {\"font\": {\"color\": \"#000000\"}, \"showarrow\": false, \"text\": \"Lose\", \"x\": \"Team B\", \"xref\": \"x\", \"y\": \"Game Two\", \"yref\": \"y\"}, {\"font\": {\"color\": \"#000000\"}, \"showarrow\": false, \"text\": \"Win\", \"x\": \"Team C\", \"xref\": \"x\", \"y\": \"Game Two\", \"yref\": \"y\"}, {\"font\": {\"color\": \"#000000\"}, \"showarrow\": false, \"text\": \"Win\", \"x\": \"Team A\", \"xref\": \"x\", \"y\": \"Game One\", \"yref\": \"y\"}, {\"font\": {\"color\": \"#FFFFFF\"}, \"showarrow\": false, \"text\": \"Win\", \"x\": \"Team B\", \"xref\": \"x\", \"y\": \"Game One\", \"yref\": \"y\"}, {\"font\": {\"color\": \"#FFFFFF\"}, \"showarrow\": false, \"text\": \"Lose\", \"x\": \"Team C\", \"xref\": \"x\", \"y\": \"Game One\", \"yref\": \"y\"}], \"xaxis\": {\"dtick\": 1, \"gridcolor\": \"rgb(0, 0, 0)\", \"side\": \"top\", \"ticks\": \"\"}, \"yaxis\": {\"dtick\": 1, \"ticks\": \"\", \"ticksuffix\": \"  \"}},\n",
       "                        {\"showLink\": false, \"linkText\": \"Export to plot.ly\", \"plotlyServerURL\": \"https://plot.ly\", \"responsive\": true}\n",
       "                    ).then(function(){\n",
       "                            \n",
       "var gd = document.getElementById('4f5fed50-16f6-4e2d-9fa7-75203b67c017');\n",
       "var x = new MutationObserver(function (mutations, observer) {{\n",
       "        var display = window.getComputedStyle(gd).display;\n",
       "        if (!display || display === 'none') {{\n",
       "            console.log([gd, 'removed!']);\n",
       "            Plotly.purge(gd);\n",
       "            observer.disconnect();\n",
       "        }}\n",
       "}});\n",
       "\n",
       "// Listen for the removal of the full notebook cells\n",
       "var notebookContainer = gd.closest('#notebook-container');\n",
       "if (notebookContainer) {{\n",
       "    x.observe(notebookContainer, {childList: true});\n",
       "}}\n",
       "\n",
       "// Listen for the clearing of the current output cell\n",
       "var outputEl = gd.closest('.output');\n",
       "if (outputEl) {{\n",
       "    x.observe(outputEl, {childList: true});\n",
       "}}\n",
       "\n",
       "                        })\n",
       "                };\n",
       "                });\n",
       "            </script>\n",
       "        </div>"
      ]
     },
     "metadata": {},
     "output_type": "display_data"
    }
   ],
   "source": [
    "z = [[.1, .3, .5],  \n",
    "     [1.0, .8, .6],\n",
    "     [.6, .4, .2]]\n",
    "\n",
    "x = ['Team A', 'Team B', 'Team C']\n",
    "y = ['Game Three', 'Game Two', 'Game One']\n",
    "\n",
    "z_text = [['Win', 'Lose', 'Win'],  \n",
    "          ['Lose', 'Lose', 'Win'],\n",
    "          ['Win', 'Win', 'Lose']]\n",
    "\n",
    "fig = FF.create_annotated_heatmap(z, x=x, y=y, annotation_text=z_text, colorscale='Viridis')\n",
    "iplot(fig, filename='annotated_heatmap_text')"
   ]
  },
  {
   "cell_type": "code",
   "execution_count": 8,
   "metadata": {},
   "outputs": [
    {
     "data": {
      "application/vnd.plotly.v1+json": {
       "config": {
        "linkText": "Export to plot.ly",
        "plotlyServerURL": "https://plot.ly",
        "showLink": false
       },
       "data": [
        {
         "cells": {
          "values": [
           [
            758231,
            734836,
            734837,
            734838,
            734881,
            734906,
            734920,
            734922,
            734927,
            734943,
            735670,
            738078,
            739727,
            742248,
            742249,
            742295,
            742296,
            742300,
            743953,
            743955,
            743956,
            743960,
            743968,
            743975,
            746699,
            746700,
            751056,
            751059,
            751060,
            751063
           ],
           [
            7450000000000,
            6950000000000,
            6950000000000,
            6950000000000,
            6950000000000,
            6950000000000,
            6950000000000,
            6950000000000,
            6950000000000,
            6950000000000,
            6950000000000,
            6950000000000,
            6950000000000,
            6950000000000,
            6950000000000,
            6950000000000,
            6950000000000,
            6950000000000,
            6950000000000,
            6950000000000,
            6950000000000,
            6950000000000,
            6950000000000,
            6950000000000,
            745000000000,
            745000000000,
            6950000000000,
            6950000000000,
            6950000000000,
            6950000000000
           ],
           [
            "BHL-715        ",
            "WXZN-01        ",
            "ACHDCJ-01      ",
            "ACHDCJ-02      ",
            "WX2IN1-02      ",
            "SGAPIPHX-TZ01  ",
            "SUYZD-01       ",
            "SUYZD-0S       ",
            "SUER-B01       ",
            "TZARGS-01      ",
            "SGAPIPHX-RA01  ",
            "ACSLCJ-06      ",
            "WIAPPOD-01     ",
            "ACSLCJ-01      ",
            "SUCJLF-01      ",
            "SUGENT-XF0S    ",
            "SUGENT-XF01    ",
            "ACPCL-01       ",
            "WIAPIPH58-ASL01",
            "WIAPIPH58-ASL03",
            "WIAPIPH58-ASL04",
            "WIAPIPH65-ASL01",
            "SUCJG9-02      ",
            "SUCJG9-01      ",
            "BHL-712        ",
            "BHL-713        ",
            "ACPBCJ-01      ",
            "ACPBCJ-02      ",
            "SGAPWA4-A01    ",
            "SGAPWA4-B01    "
           ],
           [
            "BRAVE 2-IN-1 UNIVERSAL MAGNETIC HOLDER                                                                        ",
            "BASEUS CAR WIRELESS CHARGER SMART VEHICLE BRACKET                                                             ",
            "BASEUS HOLDER RED-DOT MOBILE GAME SCORING TOOL BLACK                                                          ",
            "BASEUS HOLDER RED-DOT MOBILE GAME SCORING TOOL TRANSPARENT                                                    ",
            "BASEUS SMART 2 IN 1 WIRELESS CHARGER WHITE                                                                    ",
            "BASEUS GLASS FILM SET BLACK FOR IPHONE X                                                                      ",
            "BASEUS BULLET ON-BOARD CAR MAGNETIC BRACKET BLACK                                                             ",
            "BASEUS BULLET ON-BOARD CAR MAGNETIC BRACKET SILVER                                                            ",
            "BASEUS SMALL EARS VERTICAL MAGNETIC BRACKET BLACK                                                             ",
            "BASEUS CASE FOR AIRPODS BLACK                                                                                 ",
            "BASEUS DROP-PROOF CURVED FULL SCREEN TEMPERED GLASS BLACK FOR IPHONE X                                        ",
            "BASEUS GRENADE BLACK/ARMY GREEN GRIP FOR SMARTPHONES                                                          ",
            "BASEUS PROTECTIVE CASE/WIRELESS CHARGER BLACK FOR AIRPODS                                                     ",
            "BASEUS GRENADE BLACK GRIP FOR SMARTPHONES                                                                     ",
            "BASEUS WINNER COOLING HEAT SINK BLACK FOR SMARTPHONES                                                         ",
            "BASEUS SUSPENSION GLASS DESKTOP BRACKET SILVER FOR SMARTPHONES                                                ",
            "BASEUS SUSPENSION GLASS DESKTOP BRACKET BLACK FOR SMARTPHONES                                                 ",
            "BASEUS GOLDEN CUDGEL CAPACITIVE STYLUS BLACK                                                                  ",
            "BASEUS ORIGINAL LSR CASE BLACK FOR IPHONE XS                                                                  ",
            "BASEUS ORIGINAL LSR CASE LIGHT AQUA MARINE FOR IPHONE XS                                                      ",
            "BASEUS ORIGINAL LSR CASE PINK FOR IPHONE XS                                                                   ",
            "BASEUS ORIGINAL LSR CASE BLACK FOR IPHONE XS MAX                                                              ",
            "BASEUS G9 MOBILE GAME SCORING TOOL WHITE FOR SMARTPHONES/TABLET                                               ",
            "BASEUS G9 MOBILE GAME SCORING TOOL BLACK FOR SMARTPHONES/TABLET                                               ",
            "BRAVE LOTTO SERIES MAGNETIC CAR MOUNTS                                                                        ",
            "BRAVE 2-IN-1 UNIVERSAL MAGNETIC HOLDER                                                                        ",
            "BASEUS SHOOTING GAME TOOL FOR PAD BLACK                                                                       ",
            "BASEUS SHOOTING GAME TOOL FOR PAD TRANSPARENT                                                                 ",
            "BASEUS 0.3MM FULL-SCREEN CURVED TEMPERED FILM BLACK FOR APPLE WATCH SERIES 4 40MM                             ",
            "BASEUS 0.3MM FULL-SCREEN CURVED TEMPERED FILM BLACK FOR APPLE WATCH SERIES 4 44MM                             "
           ],
           [
            "BRAVEN                        ",
            "BASEUS                        ",
            "BASEUS                        ",
            "BASEUS                        ",
            "BASEUS                        ",
            "BASEUS                        ",
            "BASEUS                        ",
            "BASEUS                        ",
            "BASEUS                        ",
            "BASEUS                        ",
            "BASEUS                        ",
            "BASEUS                        ",
            "BASEUS                        ",
            "BASEUS                        ",
            "BASEUS                        ",
            "BASEUS                        ",
            "BASEUS                        ",
            "BASEUS                        ",
            "BASEUS                        ",
            "BASEUS                        ",
            "BASEUS                        ",
            "BASEUS                        ",
            "BASEUS                        ",
            "BASEUS                        ",
            "BRAVE                         ",
            "BRAVE                         ",
            "BASEUS                        ",
            "BASEUS                        ",
            "BASEUS                        ",
            "BASEUS                        "
           ],
           [
            1,
            1,
            1,
            1,
            1,
            1,
            1,
            1,
            1,
            1,
            1,
            1,
            1,
            1,
            1,
            1,
            1,
            1,
            1,
            1,
            1,
            1,
            1,
            1,
            1,
            1,
            1,
            1,
            1,
            1
           ],
           [
            30,
            69.5,
            24.5,
            24.5,
            84.5,
            49.5,
            34.5,
            34.5,
            24.5,
            24.5,
            19.5,
            24.5,
            44.5,
            24.5,
            44.5,
            39.5,
            39.5,
            29.5,
            34.5,
            34.5,
            34.5,
            34.5,
            24.5,
            24.5,
            34.5,
            29.5,
            34.5,
            34.5,
            29.5,
            29.5
           ],
           [
            62,
            149,
            49,
            49,
            179,
            109,
            69,
            69,
            49,
            49,
            39,
            49,
            99,
            49,
            99,
            79,
            79,
            59,
            69,
            69,
            69,
            69,
            49,
            49,
            69,
            59,
            69,
            69,
            59,
            59
           ]
          ]
         },
         "header": {
          "values": [
           "Sku",
           "UPC",
           "Catalogue N",
           "Title",
           "Label",
           "Arq COST",
           "Cost Price",
           "V.S.P."
          ]
         },
         "type": "table",
         "uid": "3559247c-08ae-4c57-a17a-96648d19eb38"
        }
       ],
       "layout": {}
      },
      "text/html": [
       "<div>\n",
       "        \n",
       "        \n",
       "            <div id=\"78b73e81-f7c5-4a72-89ab-fd53c028929e\" class=\"plotly-graph-div\" style=\"height:525px; width:100%;\"></div>\n",
       "            <script type=\"text/javascript\">\n",
       "                require([\"plotly\"], function(Plotly) {\n",
       "                    window.PLOTLYENV=window.PLOTLYENV || {};\n",
       "                    window.PLOTLYENV.BASE_URL='https://plot.ly';\n",
       "                    \n",
       "                if (document.getElementById(\"78b73e81-f7c5-4a72-89ab-fd53c028929e\")) {\n",
       "                    Plotly.newPlot(\n",
       "                        '78b73e81-f7c5-4a72-89ab-fd53c028929e',\n",
       "                        [{\"cells\": {\"values\": [[758231, 734836, 734837, 734838, 734881, 734906, 734920, 734922, 734927, 734943, 735670, 738078, 739727, 742248, 742249, 742295, 742296, 742300, 743953, 743955, 743956, 743960, 743968, 743975, 746699, 746700, 751056, 751059, 751060, 751063], [7450000000000.0, 6950000000000.0, 6950000000000.0, 6950000000000.0, 6950000000000.0, 6950000000000.0, 6950000000000.0, 6950000000000.0, 6950000000000.0, 6950000000000.0, 6950000000000.0, 6950000000000.0, 6950000000000.0, 6950000000000.0, 6950000000000.0, 6950000000000.0, 6950000000000.0, 6950000000000.0, 6950000000000.0, 6950000000000.0, 6950000000000.0, 6950000000000.0, 6950000000000.0, 6950000000000.0, 745000000000.0, 745000000000.0, 6950000000000.0, 6950000000000.0, 6950000000000.0, 6950000000000.0], [\"BHL-715        \", \"WXZN-01        \", \"ACHDCJ-01      \", \"ACHDCJ-02      \", \"WX2IN1-02      \", \"SGAPIPHX-TZ01  \", \"SUYZD-01       \", \"SUYZD-0S       \", \"SUER-B01       \", \"TZARGS-01      \", \"SGAPIPHX-RA01  \", \"ACSLCJ-06      \", \"WIAPPOD-01     \", \"ACSLCJ-01      \", \"SUCJLF-01      \", \"SUGENT-XF0S    \", \"SUGENT-XF01    \", \"ACPCL-01       \", \"WIAPIPH58-ASL01\", \"WIAPIPH58-ASL03\", \"WIAPIPH58-ASL04\", \"WIAPIPH65-ASL01\", \"SUCJG9-02      \", \"SUCJG9-01      \", \"BHL-712        \", \"BHL-713        \", \"ACPBCJ-01      \", \"ACPBCJ-02      \", \"SGAPWA4-A01    \", \"SGAPWA4-B01    \"], [\"BRAVE 2-IN-1 UNIVERSAL MAGNETIC HOLDER                                                                        \", \"BASEUS CAR WIRELESS CHARGER SMART VEHICLE BRACKET                                                             \", \"BASEUS HOLDER RED-DOT MOBILE GAME SCORING TOOL BLACK                                                          \", \"BASEUS HOLDER RED-DOT MOBILE GAME SCORING TOOL TRANSPARENT                                                    \", \"BASEUS SMART 2 IN 1 WIRELESS CHARGER WHITE                                                                    \", \"BASEUS GLASS FILM SET BLACK FOR IPHONE X                                                                      \", \"BASEUS BULLET ON-BOARD CAR MAGNETIC BRACKET BLACK                                                             \", \"BASEUS BULLET ON-BOARD CAR MAGNETIC BRACKET SILVER                                                            \", \"BASEUS SMALL EARS VERTICAL MAGNETIC BRACKET BLACK                                                             \", \"BASEUS CASE FOR AIRPODS BLACK                                                                                 \", \"BASEUS DROP-PROOF CURVED FULL SCREEN TEMPERED GLASS BLACK FOR IPHONE X                                        \", \"BASEUS GRENADE BLACK/ARMY GREEN GRIP FOR SMARTPHONES                                                          \", \"BASEUS PROTECTIVE CASE/WIRELESS CHARGER BLACK FOR AIRPODS                                                     \", \"BASEUS GRENADE BLACK GRIP FOR SMARTPHONES                                                                     \", \"BASEUS WINNER COOLING HEAT SINK BLACK FOR SMARTPHONES                                                         \", \"BASEUS SUSPENSION GLASS DESKTOP BRACKET SILVER FOR SMARTPHONES                                                \", \"BASEUS SUSPENSION GLASS DESKTOP BRACKET BLACK FOR SMARTPHONES                                                 \", \"BASEUS GOLDEN CUDGEL CAPACITIVE STYLUS BLACK                                                                  \", \"BASEUS ORIGINAL LSR CASE BLACK FOR IPHONE XS                                                                  \", \"BASEUS ORIGINAL LSR CASE LIGHT AQUA MARINE FOR IPHONE XS                                                      \", \"BASEUS ORIGINAL LSR CASE PINK FOR IPHONE XS                                                                   \", \"BASEUS ORIGINAL LSR CASE BLACK FOR IPHONE XS MAX                                                              \", \"BASEUS G9 MOBILE GAME SCORING TOOL WHITE FOR SMARTPHONES/TABLET                                               \", \"BASEUS G9 MOBILE GAME SCORING TOOL BLACK FOR SMARTPHONES/TABLET                                               \", \"BRAVE LOTTO SERIES MAGNETIC CAR MOUNTS                                                                        \", \"BRAVE 2-IN-1 UNIVERSAL MAGNETIC HOLDER                                                                        \", \"BASEUS SHOOTING GAME TOOL FOR PAD BLACK                                                                       \", \"BASEUS SHOOTING GAME TOOL FOR PAD TRANSPARENT                                                                 \", \"BASEUS 0.3MM FULL-SCREEN CURVED TEMPERED FILM BLACK FOR APPLE WATCH SERIES 4 40MM                             \", \"BASEUS 0.3MM FULL-SCREEN CURVED TEMPERED FILM BLACK FOR APPLE WATCH SERIES 4 44MM                             \"], [\"BRAVEN                        \", \"BASEUS                        \", \"BASEUS                        \", \"BASEUS                        \", \"BASEUS                        \", \"BASEUS                        \", \"BASEUS                        \", \"BASEUS                        \", \"BASEUS                        \", \"BASEUS                        \", \"BASEUS                        \", \"BASEUS                        \", \"BASEUS                        \", \"BASEUS                        \", \"BASEUS                        \", \"BASEUS                        \", \"BASEUS                        \", \"BASEUS                        \", \"BASEUS                        \", \"BASEUS                        \", \"BASEUS                        \", \"BASEUS                        \", \"BASEUS                        \", \"BASEUS                        \", \"BRAVE                         \", \"BRAVE                         \", \"BASEUS                        \", \"BASEUS                        \", \"BASEUS                        \", \"BASEUS                        \"], [1, 1, 1, 1, 1, 1, 1, 1, 1, 1, 1, 1, 1, 1, 1, 1, 1, 1, 1, 1, 1, 1, 1, 1, 1, 1, 1, 1, 1, 1], [30.0, 69.5, 24.5, 24.5, 84.5, 49.5, 34.5, 34.5, 24.5, 24.5, 19.5, 24.5, 44.5, 24.5, 44.5, 39.5, 39.5, 29.5, 34.5, 34.5, 34.5, 34.5, 24.5, 24.5, 34.5, 29.5, 34.5, 34.5, 29.5, 29.5], [62, 149, 49, 49, 179, 109, 69, 69, 49, 49, 39, 49, 99, 49, 99, 79, 79, 59, 69, 69, 69, 69, 49, 49, 69, 59, 69, 69, 59, 59]]}, \"header\": {\"values\": [\"Sku\", \"UPC\", \"Catalogue N\", \"Title\", \"Label\", \"Arq COST\", \"Cost Price\", \"V.S.P.\"]}, \"type\": \"table\", \"uid\": \"3559247c-08ae-4c57-a17a-96648d19eb38\"}],\n",
       "                        {},\n",
       "                        {\"showLink\": false, \"linkText\": \"Export to plot.ly\", \"plotlyServerURL\": \"https://plot.ly\", \"responsive\": true}\n",
       "                    ).then(function(){\n",
       "                            \n",
       "var gd = document.getElementById('78b73e81-f7c5-4a72-89ab-fd53c028929e');\n",
       "var x = new MutationObserver(function (mutations, observer) {{\n",
       "        var display = window.getComputedStyle(gd).display;\n",
       "        if (!display || display === 'none') {{\n",
       "            console.log([gd, 'removed!']);\n",
       "            Plotly.purge(gd);\n",
       "            observer.disconnect();\n",
       "        }}\n",
       "}});\n",
       "\n",
       "// Listen for the removal of the full notebook cells\n",
       "var notebookContainer = gd.closest('#notebook-container');\n",
       "if (notebookContainer) {{\n",
       "    x.observe(notebookContainer, {childList: true});\n",
       "}}\n",
       "\n",
       "// Listen for the clearing of the current output cell\n",
       "var outputEl = gd.closest('.output');\n",
       "if (outputEl) {{\n",
       "    x.observe(outputEl, {childList: true});\n",
       "}}\n",
       "\n",
       "                        })\n",
       "                };\n",
       "                });\n",
       "            </script>\n",
       "        </div>"
      ]
     },
     "metadata": {},
     "output_type": "display_data"
    }
   ],
   "source": [
    "import plotly.graph_objs as go\n",
    "\n",
    "df = pd.read_csv('allMonthes.csv')\n",
    "newdf = df[df['Stock Status'] == 'Fast moving']\n",
    "newdf = newdf.loc[:,['Sku', 'UPC', 'Catalogue N', 'Title', 'Label', 'Arq COST', \"Cost Price\", 'V.S.P.']].reindex()\n",
    "trace = go.Table(\n",
    "    header=dict(values=['Sku', 'UPC', 'Catalogue N', 'Title', 'Label', 'Arq COST', \"Cost Price\", 'V.S.P.']),\n",
    "    cells=dict(values=np.transpose(newdf.values[:,:])))\n",
    "\n",
    "data = [trace] \n",
    "iplot(data, filename = 'basic_table')"
   ]
  },
  {
   "cell_type": "markdown",
   "metadata": {},
   "source": [
    "#### Annotated Heatmap with numpy"
   ]
  },
  {
   "cell_type": "code",
   "execution_count": 9,
   "metadata": {},
   "outputs": [
    {
     "name": "stderr",
     "output_type": "stream",
     "text": [
      "c:\\program files\\python36\\lib\\site-packages\\plotly\\tools.py:1176: UserWarning:\n",
      "\n",
      "plotly.tools.FigureFactory.create_annotated_heatmap is deprecated. Use plotly.figure_factory.create_annotated_heatmap\n",
      "\n"
     ]
    },
    {
     "data": {
      "application/vnd.plotly.v1+json": {
       "config": {
        "linkText": "Export to plot.ly",
        "plotlyServerURL": "https://plot.ly",
        "showLink": false
       },
       "data": [
        {
         "colorscale": "Greys",
         "hoverinfo": "z",
         "reversescale": false,
         "showscale": false,
         "type": "heatmap",
         "uid": "deb2818e-ec7c-44f5-9943-c32eb8acb93b",
         "z": [
          [
           -0.24630480562320858,
           -0.04633703114856988,
           0.2870340822511146,
           -0.30400690508596867,
           0.11611640098549782,
           0.02193984371264398,
           1.1372819427765581,
           0.2658309590974008,
           0.59405175509629,
           0.25426308389029,
           -0.09322227743703211,
           -0.44783345613327186,
           -1.255473022977413,
           -1.298000994599308,
           -2.898135594737493,
           -0.8744674669013797,
           1.4533276434930555,
           0.2681377596355864,
           -0.6478262764113577,
           -0.7668510750242769
          ],
          [
           -0.3845796620001322,
           0.8072224346199076,
           -2.363283084739259,
           -1.674977174691574,
           0.01808913096232637,
           -1.7078280234192127,
           1.0744252628781314,
           0.6384021207281324,
           1.578327623109915,
           0.29231405261924076,
           -0.9945016948748093,
           0.3642490182603976,
           -0.055847568700434926,
           1.1852414579482822,
           -0.33246539730969016,
           0.04190972181281666,
           0.9019184583877102,
           -0.4398541283847452,
           -0.8996145836256542,
           -1.514347020496577
          ],
          [
           -0.23998949751386622,
           -1.2947062222631545,
           -2.0412351252452763,
           -1.804924939757067,
           1.5756403272236728,
           2.4312617351318657,
           -0.5124449265006821,
           1.0756705797853607,
           -0.8275410434142999,
           1.0167963699389366,
           0.27935269591195383,
           1.5655241237320696,
           0.9519943311324657,
           -0.06281927284699079,
           -0.7852631442018803,
           0.2479927962568995,
           0.10746982263048431,
           -1.0066459886521162,
           2.0748225130097953,
           -0.012333045785706915
          ],
          [
           -1.3868319122853952,
           -0.3937170323854901,
           -1.859947804118638,
           0.04042833156706707,
           -1.9759717188642092,
           0.39014551145618864,
           0.6317616987443455,
           -0.9518099396463814,
           0.3846585275163645,
           0.5362771143337624,
           -1.452638646569562,
           -1.019785092777618,
           0.011826121039074494,
           0.6025478295667842,
           -1.0541723625247046,
           1.1135926416771758,
           1.1771757906591425,
           0.19500297725117907,
           -0.2684270238831864,
           2.195145916456401
          ],
          [
           -1.8834207504087594,
           0.31809684235735547,
           -0.24817798917618902,
           1.4003539447739923,
           0.30973144187558105,
           -0.2043413031621224,
           -2.405522995454535,
           -0.770664216297904,
           -0.19972731936831956,
           -0.12399568786941681,
           -0.3471360748503788,
           -0.3340132179290607,
           -0.6001347697214532,
           0.815978367415665,
           -0.294637656975569,
           0.3270517126742784,
           0.2868925508223788,
           0.28863099683053794,
           0.7010997682855205,
           0.8698819669115144
          ],
          [
           2.632337313458838,
           -0.30368557820673786,
           -1.5459508986202368,
           -1.1829398174311294,
           -1.1452915089775597,
           1.381250722536438,
           0.07798618379219178,
           1.3090790166567463,
           -0.6599979855768497,
           -2.075282988803286,
           0.5993150587749855,
           0.4816646602378534,
           0.5974692752583411,
           1.3071137722829913,
           -1.5577377680407904,
           -1.8672408748347535,
           -1.9018260537558473,
           -1.5315897058529293,
           0.46469237844310934,
           0.10596491154983385
          ],
          [
           0.9261557481413939,
           1.0035288068277404,
           0.01490267552076058,
           -1.6519366171855698,
           -0.737167479432158,
           0.20228177881981382,
           -0.43518713524322344,
           1.2693722422389009,
           -0.18299176880019702,
           0.5457882524442721,
           -0.012413022327892511,
           -1.4187128631638384,
           -0.5340096813944848,
           0.44198673298711055,
           -1.8265079751828892,
           -0.8977399442913969,
           0.21633411147095608,
           0.13938284458694702,
           0.5724873892853236,
           1.0397950156250202
          ],
          [
           -0.0813131505448138,
           -1.1807357398103158,
           2.2186653214899223,
           0.20281508977137616,
           1.0238198220480037,
           0.011275252441207894,
           0.5694095085084613,
           2.696895837445969,
           -0.10730888781162985,
           1.4203418158821857,
           0.16161412060118355,
           -0.36828609002717094,
           0.10316932450286054,
           1.778637613486276,
           -0.22961091217659071,
           -0.5713742574824331,
           -0.988695330085387,
           -1.0494562263874216,
           0.022409005679182754,
           -0.13239374437723578
          ],
          [
           0.6482712927497273,
           -0.8569875785104197,
           -1.3005119721797986,
           0.5067460738855265,
           2.2936696397586034,
           0.5014613731004521,
           0.6066486859430643,
           0.2990887900962371,
           0.9753067909379333,
           -0.49502096481847185,
           0.5985836035328055,
           -0.5898611346735084,
           -0.10086529468299697,
           -0.11297590062646616,
           0.8119352644125191,
           0.5098246314738215,
           0.24576048317786783,
           -0.2540002851042655,
           0.35642807171082685,
           0.25449186163935056
          ],
          [
           0.7570339825460738,
           1.2420790563599937,
           0.6713448444178461,
           -0.5610176741723449,
           -0.018433958356488776,
           0.12820359829567998,
           -0.46036713551579284,
           -1.2010865734424214,
           0.3480697565899883,
           -0.2635722138529573,
           0.6386179456719632,
           2.2416480387142865,
           -0.8854994136342955,
           3.3242444752382663,
           0.13000097309050984,
           -1.2462656641614065,
           -0.6905874595271972,
           -0.8615843718593198,
           -1.8126605590902596,
           -0.14197499043335013
          ],
          [
           -0.39741417014254776,
           0.6962227646089089,
           -0.4552634236059773,
           -1.0001383082264472,
           2.9930804116341228,
           -0.5716539532952036,
           0.022865164106481154,
           -1.0166341702182478,
           -0.6202589883804233,
           0.5683173304265021,
           0.6835994231512855,
           -0.6087744116665811,
           0.29118984398596276,
           -0.31941691079565343,
           -1.6736642666058692,
           0.6560972870369762,
           -0.7118141164689257,
           1.3837844738703378,
           -0.9502454343465152,
           0.10738790983971389
          ],
          [
           0.2789400824099151,
           0.8685572938279211,
           0.04548260343314662,
           -0.7099115539964509,
           0.4374618402324915,
           2.1328338668658833,
           -0.848461328438535,
           0.28549417944544564,
           -0.43457974409359784,
           -0.3369837883893917,
           1.8110094600008477,
           1.685930564419953,
           0.4409272284650938,
           0.2653642149320771,
           0.7869060676418238,
           -0.7395722955540788,
           0.6034385268759941,
           -0.14425140998176028,
           -2.268145044333249,
           1.141249162382362
          ],
          [
           0.42330155472368647,
           1.3296957369221052,
           1.7218584652184423,
           -1.6547903001456445,
           1.7839202831033247,
           -0.6628962575727453,
           0.1906866152169213,
           1.8813223927589866,
           -1.0349514881107416,
           0.6232954020922175,
           1.505592258438099,
           -0.5900915452178939,
           0.21582987804435325,
           0.18872861684087794,
           -0.4341100010269793,
           -0.13664433391820222,
           0.628668200472961,
           0.8254673009627937,
           -1.5258285085357102,
           0.45914258083203685
          ],
          [
           -1.2032971886247554,
           -0.6280199782562346,
           0.7023666467173837,
           -0.6034609898666811,
           -1.5506062585001676,
           -0.3869069482131029,
           -1.6750225654244277,
           0.6374884487020439,
           -1.915163558412756,
           -0.5609156769998336,
           0.8798607678310384,
           -1.9300831926085489,
           -0.6547553260137471,
           -0.9660731984303147,
           2.8262381424207357,
           0.4549521209291527,
           0.1896795967617045,
           0.24472829066741544,
           2.2932690912281473,
           0.6788870649890063
          ],
          [
           0.4415010919137826,
           -0.7351298499037145,
           1.466159342184731,
           -1.6837669429632183,
           -0.8665352595826566,
           -1.6372995721413366,
           -2.6383338170948667,
           -0.2658271272276609,
           0.45590661863663434,
           -1.3157640944603828,
           -0.3891720641807571,
           1.4855697693153014,
           0.9231576083169334,
           -0.007440234522586847,
           1.0261327916413254,
           -0.0022546856531281963,
           0.5605352140589788,
           -1.1616909721830933,
           -0.2303842275164403,
           -1.299168977110715
          ],
          [
           -0.5153629300933069,
           -1.0325933517897063,
           0.30071485348250565,
           -0.6359991575943797,
           -0.2882616726972818,
           1.0919664060452985,
           -1.696423646510268,
           -0.2612398164044549,
           -0.019880484869664802,
           0.389541469646927,
           0.9390579400897805,
           0.72834946172325,
           -2.2882229101759988,
           -0.742624450406902,
           -0.03278330132712659,
           -0.12075369686609154,
           -0.579246787367612,
           1.9023448928738416,
           0.7391613960808823,
           -0.6875465633354052
          ],
          [
           0.9868971535408825,
           0.038231091502931774,
           1.825304928381053,
           -2.077332589878259,
           -0.6560691689302487,
           -0.6214498144343374,
           -0.033539330024260856,
           -0.0706308996773085,
           0.09148158497096635,
           0.019779776694037153,
           -0.313651776283793,
           -0.5263053830728543,
           -0.8089855864415769,
           -1.853700634123959,
           -1.836863218623785,
           -0.30236003530106303,
           1.9363870286097296,
           1.5976786353915133,
           -1.6305601607252045,
           1.1989450198662772
          ],
          [
           -0.1679561378374679,
           0.4640637002122117,
           0.20851746340511565,
           2.701915050767935,
           0.6069881221173267,
           1.3090669311286087,
           0.3603871608172838,
           -0.7394734025365368,
           -0.2775378488051214,
           2.46542124376589,
           0.006206606031343031,
           -1.6321325889380078,
           -0.3500974567285482,
           1.2781094003983746,
           -0.07279661222658941,
           -0.04654048772497247,
           1.3805372737029113,
           1.0525948818404116,
           0.005038636743567238,
           -0.36618129604761324
          ],
          [
           -0.2602842211707868,
           0.06295073925924774,
           -1.3736310867863062,
           -1.5292570157345462,
           1.2853491271384605,
           -0.1663606308393185,
           1.2527119030071698,
           -0.3532850457385784,
           0.5838668266416409,
           -1.1321975523892411,
           -0.17223683238798235,
           2.1522073595874587,
           0.1936207742976781,
           1.4018997360503822,
           0.3977791467848046,
           0.4882744859654464,
           0.7062850481826796,
           0.10374389323053736,
           0.26566535030967314,
           -0.6003911826416226
          ],
          [
           -0.008640081291889389,
           -1.74357538450133,
           -1.1598097156772593,
           0.4457145032548969,
           -0.2190029460166868,
           -1.3381930863567317,
           -0.2096261077217448,
           0.7592346085905064,
           -0.9870554288814568,
           1.5053935899121522,
           0.5168972351178189,
           -0.5899780932871348,
           -0.1032028537530981,
           0.2814853466270706,
           -0.11314472551325919,
           -0.38966260061330604,
           0.28547133817842857,
           0.46898640318499174,
           1.9824206493308199,
           -0.1687089923341107
          ]
         ]
        }
       ],
       "layout": {
        "annotations": [
         {
          "font": {
           "color": "#FFFFFF",
           "size": 8
          },
          "showarrow": false,
          "text": "-0.25",
          "x": 0,
          "xref": "x",
          "y": 0,
          "yref": "y"
         },
         {
          "font": {
           "color": "#FFFFFF",
           "size": 8
          },
          "showarrow": false,
          "text": "-0.05",
          "x": 1,
          "xref": "x",
          "y": 0,
          "yref": "y"
         },
         {
          "font": {
           "color": "#000000",
           "size": 8
          },
          "showarrow": false,
          "text": "0.29",
          "x": 2,
          "xref": "x",
          "y": 0,
          "yref": "y"
         },
         {
          "font": {
           "color": "#FFFFFF",
           "size": 8
          },
          "showarrow": false,
          "text": "-0.3",
          "x": 3,
          "xref": "x",
          "y": 0,
          "yref": "y"
         },
         {
          "font": {
           "color": "#FFFFFF",
           "size": 8
          },
          "showarrow": false,
          "text": "0.12",
          "x": 4,
          "xref": "x",
          "y": 0,
          "yref": "y"
         },
         {
          "font": {
           "color": "#FFFFFF",
           "size": 8
          },
          "showarrow": false,
          "text": "0.02",
          "x": 5,
          "xref": "x",
          "y": 0,
          "yref": "y"
         },
         {
          "font": {
           "color": "#000000",
           "size": 8
          },
          "showarrow": false,
          "text": "1.14",
          "x": 6,
          "xref": "x",
          "y": 0,
          "yref": "y"
         },
         {
          "font": {
           "color": "#000000",
           "size": 8
          },
          "showarrow": false,
          "text": "0.27",
          "x": 7,
          "xref": "x",
          "y": 0,
          "yref": "y"
         },
         {
          "font": {
           "color": "#000000",
           "size": 8
          },
          "showarrow": false,
          "text": "0.59",
          "x": 8,
          "xref": "x",
          "y": 0,
          "yref": "y"
         },
         {
          "font": {
           "color": "#000000",
           "size": 8
          },
          "showarrow": false,
          "text": "0.25",
          "x": 9,
          "xref": "x",
          "y": 0,
          "yref": "y"
         },
         {
          "font": {
           "color": "#FFFFFF",
           "size": 8
          },
          "showarrow": false,
          "text": "-0.09",
          "x": 10,
          "xref": "x",
          "y": 0,
          "yref": "y"
         },
         {
          "font": {
           "color": "#FFFFFF",
           "size": 8
          },
          "showarrow": false,
          "text": "-0.45",
          "x": 11,
          "xref": "x",
          "y": 0,
          "yref": "y"
         },
         {
          "font": {
           "color": "#FFFFFF",
           "size": 8
          },
          "showarrow": false,
          "text": "-1.26",
          "x": 12,
          "xref": "x",
          "y": 0,
          "yref": "y"
         },
         {
          "font": {
           "color": "#FFFFFF",
           "size": 8
          },
          "showarrow": false,
          "text": "-1.3",
          "x": 13,
          "xref": "x",
          "y": 0,
          "yref": "y"
         },
         {
          "font": {
           "color": "#FFFFFF",
           "size": 8
          },
          "showarrow": false,
          "text": "-2.9",
          "x": 14,
          "xref": "x",
          "y": 0,
          "yref": "y"
         },
         {
          "font": {
           "color": "#FFFFFF",
           "size": 8
          },
          "showarrow": false,
          "text": "-0.87",
          "x": 15,
          "xref": "x",
          "y": 0,
          "yref": "y"
         },
         {
          "font": {
           "color": "#000000",
           "size": 8
          },
          "showarrow": false,
          "text": "1.45",
          "x": 16,
          "xref": "x",
          "y": 0,
          "yref": "y"
         },
         {
          "font": {
           "color": "#000000",
           "size": 8
          },
          "showarrow": false,
          "text": "0.27",
          "x": 17,
          "xref": "x",
          "y": 0,
          "yref": "y"
         },
         {
          "font": {
           "color": "#FFFFFF",
           "size": 8
          },
          "showarrow": false,
          "text": "-0.65",
          "x": 18,
          "xref": "x",
          "y": 0,
          "yref": "y"
         },
         {
          "font": {
           "color": "#FFFFFF",
           "size": 8
          },
          "showarrow": false,
          "text": "-0.77",
          "x": 19,
          "xref": "x",
          "y": 0,
          "yref": "y"
         },
         {
          "font": {
           "color": "#FFFFFF",
           "size": 8
          },
          "showarrow": false,
          "text": "-0.38",
          "x": 0,
          "xref": "x",
          "y": 1,
          "yref": "y"
         },
         {
          "font": {
           "color": "#000000",
           "size": 8
          },
          "showarrow": false,
          "text": "0.81",
          "x": 1,
          "xref": "x",
          "y": 1,
          "yref": "y"
         },
         {
          "font": {
           "color": "#FFFFFF",
           "size": 8
          },
          "showarrow": false,
          "text": "-2.36",
          "x": 2,
          "xref": "x",
          "y": 1,
          "yref": "y"
         },
         {
          "font": {
           "color": "#FFFFFF",
           "size": 8
          },
          "showarrow": false,
          "text": "-1.67",
          "x": 3,
          "xref": "x",
          "y": 1,
          "yref": "y"
         },
         {
          "font": {
           "color": "#FFFFFF",
           "size": 8
          },
          "showarrow": false,
          "text": "0.02",
          "x": 4,
          "xref": "x",
          "y": 1,
          "yref": "y"
         },
         {
          "font": {
           "color": "#FFFFFF",
           "size": 8
          },
          "showarrow": false,
          "text": "-1.71",
          "x": 5,
          "xref": "x",
          "y": 1,
          "yref": "y"
         },
         {
          "font": {
           "color": "#000000",
           "size": 8
          },
          "showarrow": false,
          "text": "1.07",
          "x": 6,
          "xref": "x",
          "y": 1,
          "yref": "y"
         },
         {
          "font": {
           "color": "#000000",
           "size": 8
          },
          "showarrow": false,
          "text": "0.64",
          "x": 7,
          "xref": "x",
          "y": 1,
          "yref": "y"
         },
         {
          "font": {
           "color": "#000000",
           "size": 8
          },
          "showarrow": false,
          "text": "1.58",
          "x": 8,
          "xref": "x",
          "y": 1,
          "yref": "y"
         },
         {
          "font": {
           "color": "#000000",
           "size": 8
          },
          "showarrow": false,
          "text": "0.29",
          "x": 9,
          "xref": "x",
          "y": 1,
          "yref": "y"
         },
         {
          "font": {
           "color": "#FFFFFF",
           "size": 8
          },
          "showarrow": false,
          "text": "-0.99",
          "x": 10,
          "xref": "x",
          "y": 1,
          "yref": "y"
         },
         {
          "font": {
           "color": "#000000",
           "size": 8
          },
          "showarrow": false,
          "text": "0.36",
          "x": 11,
          "xref": "x",
          "y": 1,
          "yref": "y"
         },
         {
          "font": {
           "color": "#FFFFFF",
           "size": 8
          },
          "showarrow": false,
          "text": "-0.06",
          "x": 12,
          "xref": "x",
          "y": 1,
          "yref": "y"
         },
         {
          "font": {
           "color": "#000000",
           "size": 8
          },
          "showarrow": false,
          "text": "1.19",
          "x": 13,
          "xref": "x",
          "y": 1,
          "yref": "y"
         },
         {
          "font": {
           "color": "#FFFFFF",
           "size": 8
          },
          "showarrow": false,
          "text": "-0.33",
          "x": 14,
          "xref": "x",
          "y": 1,
          "yref": "y"
         },
         {
          "font": {
           "color": "#FFFFFF",
           "size": 8
          },
          "showarrow": false,
          "text": "0.04",
          "x": 15,
          "xref": "x",
          "y": 1,
          "yref": "y"
         },
         {
          "font": {
           "color": "#000000",
           "size": 8
          },
          "showarrow": false,
          "text": "0.9",
          "x": 16,
          "xref": "x",
          "y": 1,
          "yref": "y"
         },
         {
          "font": {
           "color": "#FFFFFF",
           "size": 8
          },
          "showarrow": false,
          "text": "-0.44",
          "x": 17,
          "xref": "x",
          "y": 1,
          "yref": "y"
         },
         {
          "font": {
           "color": "#FFFFFF",
           "size": 8
          },
          "showarrow": false,
          "text": "-0.9",
          "x": 18,
          "xref": "x",
          "y": 1,
          "yref": "y"
         },
         {
          "font": {
           "color": "#FFFFFF",
           "size": 8
          },
          "showarrow": false,
          "text": "-1.51",
          "x": 19,
          "xref": "x",
          "y": 1,
          "yref": "y"
         },
         {
          "font": {
           "color": "#FFFFFF",
           "size": 8
          },
          "showarrow": false,
          "text": "-0.24",
          "x": 0,
          "xref": "x",
          "y": 2,
          "yref": "y"
         },
         {
          "font": {
           "color": "#FFFFFF",
           "size": 8
          },
          "showarrow": false,
          "text": "-1.29",
          "x": 1,
          "xref": "x",
          "y": 2,
          "yref": "y"
         },
         {
          "font": {
           "color": "#FFFFFF",
           "size": 8
          },
          "showarrow": false,
          "text": "-2.04",
          "x": 2,
          "xref": "x",
          "y": 2,
          "yref": "y"
         },
         {
          "font": {
           "color": "#FFFFFF",
           "size": 8
          },
          "showarrow": false,
          "text": "-1.8",
          "x": 3,
          "xref": "x",
          "y": 2,
          "yref": "y"
         },
         {
          "font": {
           "color": "#000000",
           "size": 8
          },
          "showarrow": false,
          "text": "1.58",
          "x": 4,
          "xref": "x",
          "y": 2,
          "yref": "y"
         },
         {
          "font": {
           "color": "#000000",
           "size": 8
          },
          "showarrow": false,
          "text": "2.43",
          "x": 5,
          "xref": "x",
          "y": 2,
          "yref": "y"
         },
         {
          "font": {
           "color": "#FFFFFF",
           "size": 8
          },
          "showarrow": false,
          "text": "-0.51",
          "x": 6,
          "xref": "x",
          "y": 2,
          "yref": "y"
         },
         {
          "font": {
           "color": "#000000",
           "size": 8
          },
          "showarrow": false,
          "text": "1.08",
          "x": 7,
          "xref": "x",
          "y": 2,
          "yref": "y"
         },
         {
          "font": {
           "color": "#FFFFFF",
           "size": 8
          },
          "showarrow": false,
          "text": "-0.83",
          "x": 8,
          "xref": "x",
          "y": 2,
          "yref": "y"
         },
         {
          "font": {
           "color": "#000000",
           "size": 8
          },
          "showarrow": false,
          "text": "1.02",
          "x": 9,
          "xref": "x",
          "y": 2,
          "yref": "y"
         },
         {
          "font": {
           "color": "#000000",
           "size": 8
          },
          "showarrow": false,
          "text": "0.28",
          "x": 10,
          "xref": "x",
          "y": 2,
          "yref": "y"
         },
         {
          "font": {
           "color": "#000000",
           "size": 8
          },
          "showarrow": false,
          "text": "1.57",
          "x": 11,
          "xref": "x",
          "y": 2,
          "yref": "y"
         },
         {
          "font": {
           "color": "#000000",
           "size": 8
          },
          "showarrow": false,
          "text": "0.95",
          "x": 12,
          "xref": "x",
          "y": 2,
          "yref": "y"
         },
         {
          "font": {
           "color": "#FFFFFF",
           "size": 8
          },
          "showarrow": false,
          "text": "-0.06",
          "x": 13,
          "xref": "x",
          "y": 2,
          "yref": "y"
         },
         {
          "font": {
           "color": "#FFFFFF",
           "size": 8
          },
          "showarrow": false,
          "text": "-0.79",
          "x": 14,
          "xref": "x",
          "y": 2,
          "yref": "y"
         },
         {
          "font": {
           "color": "#000000",
           "size": 8
          },
          "showarrow": false,
          "text": "0.25",
          "x": 15,
          "xref": "x",
          "y": 2,
          "yref": "y"
         },
         {
          "font": {
           "color": "#FFFFFF",
           "size": 8
          },
          "showarrow": false,
          "text": "0.11",
          "x": 16,
          "xref": "x",
          "y": 2,
          "yref": "y"
         },
         {
          "font": {
           "color": "#FFFFFF",
           "size": 8
          },
          "showarrow": false,
          "text": "-1.01",
          "x": 17,
          "xref": "x",
          "y": 2,
          "yref": "y"
         },
         {
          "font": {
           "color": "#000000",
           "size": 8
          },
          "showarrow": false,
          "text": "2.07",
          "x": 18,
          "xref": "x",
          "y": 2,
          "yref": "y"
         },
         {
          "font": {
           "color": "#FFFFFF",
           "size": 8
          },
          "showarrow": false,
          "text": "-0.01",
          "x": 19,
          "xref": "x",
          "y": 2,
          "yref": "y"
         },
         {
          "font": {
           "color": "#FFFFFF",
           "size": 8
          },
          "showarrow": false,
          "text": "-1.39",
          "x": 0,
          "xref": "x",
          "y": 3,
          "yref": "y"
         },
         {
          "font": {
           "color": "#FFFFFF",
           "size": 8
          },
          "showarrow": false,
          "text": "-0.39",
          "x": 1,
          "xref": "x",
          "y": 3,
          "yref": "y"
         },
         {
          "font": {
           "color": "#FFFFFF",
           "size": 8
          },
          "showarrow": false,
          "text": "-1.86",
          "x": 2,
          "xref": "x",
          "y": 3,
          "yref": "y"
         },
         {
          "font": {
           "color": "#FFFFFF",
           "size": 8
          },
          "showarrow": false,
          "text": "0.04",
          "x": 3,
          "xref": "x",
          "y": 3,
          "yref": "y"
         },
         {
          "font": {
           "color": "#FFFFFF",
           "size": 8
          },
          "showarrow": false,
          "text": "-1.98",
          "x": 4,
          "xref": "x",
          "y": 3,
          "yref": "y"
         },
         {
          "font": {
           "color": "#000000",
           "size": 8
          },
          "showarrow": false,
          "text": "0.39",
          "x": 5,
          "xref": "x",
          "y": 3,
          "yref": "y"
         },
         {
          "font": {
           "color": "#000000",
           "size": 8
          },
          "showarrow": false,
          "text": "0.63",
          "x": 6,
          "xref": "x",
          "y": 3,
          "yref": "y"
         },
         {
          "font": {
           "color": "#FFFFFF",
           "size": 8
          },
          "showarrow": false,
          "text": "-0.95",
          "x": 7,
          "xref": "x",
          "y": 3,
          "yref": "y"
         },
         {
          "font": {
           "color": "#000000",
           "size": 8
          },
          "showarrow": false,
          "text": "0.38",
          "x": 8,
          "xref": "x",
          "y": 3,
          "yref": "y"
         },
         {
          "font": {
           "color": "#000000",
           "size": 8
          },
          "showarrow": false,
          "text": "0.54",
          "x": 9,
          "xref": "x",
          "y": 3,
          "yref": "y"
         },
         {
          "font": {
           "color": "#FFFFFF",
           "size": 8
          },
          "showarrow": false,
          "text": "-1.45",
          "x": 10,
          "xref": "x",
          "y": 3,
          "yref": "y"
         },
         {
          "font": {
           "color": "#FFFFFF",
           "size": 8
          },
          "showarrow": false,
          "text": "-1.02",
          "x": 11,
          "xref": "x",
          "y": 3,
          "yref": "y"
         },
         {
          "font": {
           "color": "#FFFFFF",
           "size": 8
          },
          "showarrow": false,
          "text": "0.01",
          "x": 12,
          "xref": "x",
          "y": 3,
          "yref": "y"
         },
         {
          "font": {
           "color": "#000000",
           "size": 8
          },
          "showarrow": false,
          "text": "0.6",
          "x": 13,
          "xref": "x",
          "y": 3,
          "yref": "y"
         },
         {
          "font": {
           "color": "#FFFFFF",
           "size": 8
          },
          "showarrow": false,
          "text": "-1.05",
          "x": 14,
          "xref": "x",
          "y": 3,
          "yref": "y"
         },
         {
          "font": {
           "color": "#000000",
           "size": 8
          },
          "showarrow": false,
          "text": "1.11",
          "x": 15,
          "xref": "x",
          "y": 3,
          "yref": "y"
         },
         {
          "font": {
           "color": "#000000",
           "size": 8
          },
          "showarrow": false,
          "text": "1.18",
          "x": 16,
          "xref": "x",
          "y": 3,
          "yref": "y"
         },
         {
          "font": {
           "color": "#FFFFFF",
           "size": 8
          },
          "showarrow": false,
          "text": "0.2",
          "x": 17,
          "xref": "x",
          "y": 3,
          "yref": "y"
         },
         {
          "font": {
           "color": "#FFFFFF",
           "size": 8
          },
          "showarrow": false,
          "text": "-0.27",
          "x": 18,
          "xref": "x",
          "y": 3,
          "yref": "y"
         },
         {
          "font": {
           "color": "#000000",
           "size": 8
          },
          "showarrow": false,
          "text": "2.2",
          "x": 19,
          "xref": "x",
          "y": 3,
          "yref": "y"
         },
         {
          "font": {
           "color": "#FFFFFF",
           "size": 8
          },
          "showarrow": false,
          "text": "-1.88",
          "x": 0,
          "xref": "x",
          "y": 4,
          "yref": "y"
         },
         {
          "font": {
           "color": "#000000",
           "size": 8
          },
          "showarrow": false,
          "text": "0.32",
          "x": 1,
          "xref": "x",
          "y": 4,
          "yref": "y"
         },
         {
          "font": {
           "color": "#FFFFFF",
           "size": 8
          },
          "showarrow": false,
          "text": "-0.25",
          "x": 2,
          "xref": "x",
          "y": 4,
          "yref": "y"
         },
         {
          "font": {
           "color": "#000000",
           "size": 8
          },
          "showarrow": false,
          "text": "1.4",
          "x": 3,
          "xref": "x",
          "y": 4,
          "yref": "y"
         },
         {
          "font": {
           "color": "#000000",
           "size": 8
          },
          "showarrow": false,
          "text": "0.31",
          "x": 4,
          "xref": "x",
          "y": 4,
          "yref": "y"
         },
         {
          "font": {
           "color": "#FFFFFF",
           "size": 8
          },
          "showarrow": false,
          "text": "-0.2",
          "x": 5,
          "xref": "x",
          "y": 4,
          "yref": "y"
         },
         {
          "font": {
           "color": "#FFFFFF",
           "size": 8
          },
          "showarrow": false,
          "text": "-2.41",
          "x": 6,
          "xref": "x",
          "y": 4,
          "yref": "y"
         },
         {
          "font": {
           "color": "#FFFFFF",
           "size": 8
          },
          "showarrow": false,
          "text": "-0.77",
          "x": 7,
          "xref": "x",
          "y": 4,
          "yref": "y"
         },
         {
          "font": {
           "color": "#FFFFFF",
           "size": 8
          },
          "showarrow": false,
          "text": "-0.2",
          "x": 8,
          "xref": "x",
          "y": 4,
          "yref": "y"
         },
         {
          "font": {
           "color": "#FFFFFF",
           "size": 8
          },
          "showarrow": false,
          "text": "-0.12",
          "x": 9,
          "xref": "x",
          "y": 4,
          "yref": "y"
         },
         {
          "font": {
           "color": "#FFFFFF",
           "size": 8
          },
          "showarrow": false,
          "text": "-0.35",
          "x": 10,
          "xref": "x",
          "y": 4,
          "yref": "y"
         },
         {
          "font": {
           "color": "#FFFFFF",
           "size": 8
          },
          "showarrow": false,
          "text": "-0.33",
          "x": 11,
          "xref": "x",
          "y": 4,
          "yref": "y"
         },
         {
          "font": {
           "color": "#FFFFFF",
           "size": 8
          },
          "showarrow": false,
          "text": "-0.6",
          "x": 12,
          "xref": "x",
          "y": 4,
          "yref": "y"
         },
         {
          "font": {
           "color": "#000000",
           "size": 8
          },
          "showarrow": false,
          "text": "0.82",
          "x": 13,
          "xref": "x",
          "y": 4,
          "yref": "y"
         },
         {
          "font": {
           "color": "#FFFFFF",
           "size": 8
          },
          "showarrow": false,
          "text": "-0.29",
          "x": 14,
          "xref": "x",
          "y": 4,
          "yref": "y"
         },
         {
          "font": {
           "color": "#000000",
           "size": 8
          },
          "showarrow": false,
          "text": "0.33",
          "x": 15,
          "xref": "x",
          "y": 4,
          "yref": "y"
         },
         {
          "font": {
           "color": "#000000",
           "size": 8
          },
          "showarrow": false,
          "text": "0.29",
          "x": 16,
          "xref": "x",
          "y": 4,
          "yref": "y"
         },
         {
          "font": {
           "color": "#000000",
           "size": 8
          },
          "showarrow": false,
          "text": "0.29",
          "x": 17,
          "xref": "x",
          "y": 4,
          "yref": "y"
         },
         {
          "font": {
           "color": "#000000",
           "size": 8
          },
          "showarrow": false,
          "text": "0.7",
          "x": 18,
          "xref": "x",
          "y": 4,
          "yref": "y"
         },
         {
          "font": {
           "color": "#000000",
           "size": 8
          },
          "showarrow": false,
          "text": "0.87",
          "x": 19,
          "xref": "x",
          "y": 4,
          "yref": "y"
         },
         {
          "font": {
           "color": "#000000",
           "size": 8
          },
          "showarrow": false,
          "text": "2.63",
          "x": 0,
          "xref": "x",
          "y": 5,
          "yref": "y"
         },
         {
          "font": {
           "color": "#FFFFFF",
           "size": 8
          },
          "showarrow": false,
          "text": "-0.3",
          "x": 1,
          "xref": "x",
          "y": 5,
          "yref": "y"
         },
         {
          "font": {
           "color": "#FFFFFF",
           "size": 8
          },
          "showarrow": false,
          "text": "-1.55",
          "x": 2,
          "xref": "x",
          "y": 5,
          "yref": "y"
         },
         {
          "font": {
           "color": "#FFFFFF",
           "size": 8
          },
          "showarrow": false,
          "text": "-1.18",
          "x": 3,
          "xref": "x",
          "y": 5,
          "yref": "y"
         },
         {
          "font": {
           "color": "#FFFFFF",
           "size": 8
          },
          "showarrow": false,
          "text": "-1.15",
          "x": 4,
          "xref": "x",
          "y": 5,
          "yref": "y"
         },
         {
          "font": {
           "color": "#000000",
           "size": 8
          },
          "showarrow": false,
          "text": "1.38",
          "x": 5,
          "xref": "x",
          "y": 5,
          "yref": "y"
         },
         {
          "font": {
           "color": "#FFFFFF",
           "size": 8
          },
          "showarrow": false,
          "text": "0.08",
          "x": 6,
          "xref": "x",
          "y": 5,
          "yref": "y"
         },
         {
          "font": {
           "color": "#000000",
           "size": 8
          },
          "showarrow": false,
          "text": "1.31",
          "x": 7,
          "xref": "x",
          "y": 5,
          "yref": "y"
         },
         {
          "font": {
           "color": "#FFFFFF",
           "size": 8
          },
          "showarrow": false,
          "text": "-0.66",
          "x": 8,
          "xref": "x",
          "y": 5,
          "yref": "y"
         },
         {
          "font": {
           "color": "#FFFFFF",
           "size": 8
          },
          "showarrow": false,
          "text": "-2.08",
          "x": 9,
          "xref": "x",
          "y": 5,
          "yref": "y"
         },
         {
          "font": {
           "color": "#000000",
           "size": 8
          },
          "showarrow": false,
          "text": "0.6",
          "x": 10,
          "xref": "x",
          "y": 5,
          "yref": "y"
         },
         {
          "font": {
           "color": "#000000",
           "size": 8
          },
          "showarrow": false,
          "text": "0.48",
          "x": 11,
          "xref": "x",
          "y": 5,
          "yref": "y"
         },
         {
          "font": {
           "color": "#000000",
           "size": 8
          },
          "showarrow": false,
          "text": "0.6",
          "x": 12,
          "xref": "x",
          "y": 5,
          "yref": "y"
         },
         {
          "font": {
           "color": "#000000",
           "size": 8
          },
          "showarrow": false,
          "text": "1.31",
          "x": 13,
          "xref": "x",
          "y": 5,
          "yref": "y"
         },
         {
          "font": {
           "color": "#FFFFFF",
           "size": 8
          },
          "showarrow": false,
          "text": "-1.56",
          "x": 14,
          "xref": "x",
          "y": 5,
          "yref": "y"
         },
         {
          "font": {
           "color": "#FFFFFF",
           "size": 8
          },
          "showarrow": false,
          "text": "-1.87",
          "x": 15,
          "xref": "x",
          "y": 5,
          "yref": "y"
         },
         {
          "font": {
           "color": "#FFFFFF",
           "size": 8
          },
          "showarrow": false,
          "text": "-1.9",
          "x": 16,
          "xref": "x",
          "y": 5,
          "yref": "y"
         },
         {
          "font": {
           "color": "#FFFFFF",
           "size": 8
          },
          "showarrow": false,
          "text": "-1.53",
          "x": 17,
          "xref": "x",
          "y": 5,
          "yref": "y"
         },
         {
          "font": {
           "color": "#000000",
           "size": 8
          },
          "showarrow": false,
          "text": "0.46",
          "x": 18,
          "xref": "x",
          "y": 5,
          "yref": "y"
         },
         {
          "font": {
           "color": "#FFFFFF",
           "size": 8
          },
          "showarrow": false,
          "text": "0.11",
          "x": 19,
          "xref": "x",
          "y": 5,
          "yref": "y"
         },
         {
          "font": {
           "color": "#000000",
           "size": 8
          },
          "showarrow": false,
          "text": "0.93",
          "x": 0,
          "xref": "x",
          "y": 6,
          "yref": "y"
         },
         {
          "font": {
           "color": "#000000",
           "size": 8
          },
          "showarrow": false,
          "text": "1.0",
          "x": 1,
          "xref": "x",
          "y": 6,
          "yref": "y"
         },
         {
          "font": {
           "color": "#FFFFFF",
           "size": 8
          },
          "showarrow": false,
          "text": "0.01",
          "x": 2,
          "xref": "x",
          "y": 6,
          "yref": "y"
         },
         {
          "font": {
           "color": "#FFFFFF",
           "size": 8
          },
          "showarrow": false,
          "text": "-1.65",
          "x": 3,
          "xref": "x",
          "y": 6,
          "yref": "y"
         },
         {
          "font": {
           "color": "#FFFFFF",
           "size": 8
          },
          "showarrow": false,
          "text": "-0.74",
          "x": 4,
          "xref": "x",
          "y": 6,
          "yref": "y"
         },
         {
          "font": {
           "color": "#FFFFFF",
           "size": 8
          },
          "showarrow": false,
          "text": "0.2",
          "x": 5,
          "xref": "x",
          "y": 6,
          "yref": "y"
         },
         {
          "font": {
           "color": "#FFFFFF",
           "size": 8
          },
          "showarrow": false,
          "text": "-0.44",
          "x": 6,
          "xref": "x",
          "y": 6,
          "yref": "y"
         },
         {
          "font": {
           "color": "#000000",
           "size": 8
          },
          "showarrow": false,
          "text": "1.27",
          "x": 7,
          "xref": "x",
          "y": 6,
          "yref": "y"
         },
         {
          "font": {
           "color": "#FFFFFF",
           "size": 8
          },
          "showarrow": false,
          "text": "-0.18",
          "x": 8,
          "xref": "x",
          "y": 6,
          "yref": "y"
         },
         {
          "font": {
           "color": "#000000",
           "size": 8
          },
          "showarrow": false,
          "text": "0.55",
          "x": 9,
          "xref": "x",
          "y": 6,
          "yref": "y"
         },
         {
          "font": {
           "color": "#FFFFFF",
           "size": 8
          },
          "showarrow": false,
          "text": "-0.01",
          "x": 10,
          "xref": "x",
          "y": 6,
          "yref": "y"
         },
         {
          "font": {
           "color": "#FFFFFF",
           "size": 8
          },
          "showarrow": false,
          "text": "-1.42",
          "x": 11,
          "xref": "x",
          "y": 6,
          "yref": "y"
         },
         {
          "font": {
           "color": "#FFFFFF",
           "size": 8
          },
          "showarrow": false,
          "text": "-0.53",
          "x": 12,
          "xref": "x",
          "y": 6,
          "yref": "y"
         },
         {
          "font": {
           "color": "#000000",
           "size": 8
          },
          "showarrow": false,
          "text": "0.44",
          "x": 13,
          "xref": "x",
          "y": 6,
          "yref": "y"
         },
         {
          "font": {
           "color": "#FFFFFF",
           "size": 8
          },
          "showarrow": false,
          "text": "-1.83",
          "x": 14,
          "xref": "x",
          "y": 6,
          "yref": "y"
         },
         {
          "font": {
           "color": "#FFFFFF",
           "size": 8
          },
          "showarrow": false,
          "text": "-0.9",
          "x": 15,
          "xref": "x",
          "y": 6,
          "yref": "y"
         },
         {
          "font": {
           "color": "#000000",
           "size": 8
          },
          "showarrow": false,
          "text": "0.22",
          "x": 16,
          "xref": "x",
          "y": 6,
          "yref": "y"
         },
         {
          "font": {
           "color": "#FFFFFF",
           "size": 8
          },
          "showarrow": false,
          "text": "0.14",
          "x": 17,
          "xref": "x",
          "y": 6,
          "yref": "y"
         },
         {
          "font": {
           "color": "#000000",
           "size": 8
          },
          "showarrow": false,
          "text": "0.57",
          "x": 18,
          "xref": "x",
          "y": 6,
          "yref": "y"
         },
         {
          "font": {
           "color": "#000000",
           "size": 8
          },
          "showarrow": false,
          "text": "1.04",
          "x": 19,
          "xref": "x",
          "y": 6,
          "yref": "y"
         },
         {
          "font": {
           "color": "#FFFFFF",
           "size": 8
          },
          "showarrow": false,
          "text": "-0.08",
          "x": 0,
          "xref": "x",
          "y": 7,
          "yref": "y"
         },
         {
          "font": {
           "color": "#FFFFFF",
           "size": 8
          },
          "showarrow": false,
          "text": "-1.18",
          "x": 1,
          "xref": "x",
          "y": 7,
          "yref": "y"
         },
         {
          "font": {
           "color": "#000000",
           "size": 8
          },
          "showarrow": false,
          "text": "2.22",
          "x": 2,
          "xref": "x",
          "y": 7,
          "yref": "y"
         },
         {
          "font": {
           "color": "#FFFFFF",
           "size": 8
          },
          "showarrow": false,
          "text": "0.2",
          "x": 3,
          "xref": "x",
          "y": 7,
          "yref": "y"
         },
         {
          "font": {
           "color": "#000000",
           "size": 8
          },
          "showarrow": false,
          "text": "1.02",
          "x": 4,
          "xref": "x",
          "y": 7,
          "yref": "y"
         },
         {
          "font": {
           "color": "#FFFFFF",
           "size": 8
          },
          "showarrow": false,
          "text": "0.01",
          "x": 5,
          "xref": "x",
          "y": 7,
          "yref": "y"
         },
         {
          "font": {
           "color": "#000000",
           "size": 8
          },
          "showarrow": false,
          "text": "0.57",
          "x": 6,
          "xref": "x",
          "y": 7,
          "yref": "y"
         },
         {
          "font": {
           "color": "#000000",
           "size": 8
          },
          "showarrow": false,
          "text": "2.7",
          "x": 7,
          "xref": "x",
          "y": 7,
          "yref": "y"
         },
         {
          "font": {
           "color": "#FFFFFF",
           "size": 8
          },
          "showarrow": false,
          "text": "-0.11",
          "x": 8,
          "xref": "x",
          "y": 7,
          "yref": "y"
         },
         {
          "font": {
           "color": "#000000",
           "size": 8
          },
          "showarrow": false,
          "text": "1.42",
          "x": 9,
          "xref": "x",
          "y": 7,
          "yref": "y"
         },
         {
          "font": {
           "color": "#FFFFFF",
           "size": 8
          },
          "showarrow": false,
          "text": "0.16",
          "x": 10,
          "xref": "x",
          "y": 7,
          "yref": "y"
         },
         {
          "font": {
           "color": "#FFFFFF",
           "size": 8
          },
          "showarrow": false,
          "text": "-0.37",
          "x": 11,
          "xref": "x",
          "y": 7,
          "yref": "y"
         },
         {
          "font": {
           "color": "#FFFFFF",
           "size": 8
          },
          "showarrow": false,
          "text": "0.1",
          "x": 12,
          "xref": "x",
          "y": 7,
          "yref": "y"
         },
         {
          "font": {
           "color": "#000000",
           "size": 8
          },
          "showarrow": false,
          "text": "1.78",
          "x": 13,
          "xref": "x",
          "y": 7,
          "yref": "y"
         },
         {
          "font": {
           "color": "#FFFFFF",
           "size": 8
          },
          "showarrow": false,
          "text": "-0.23",
          "x": 14,
          "xref": "x",
          "y": 7,
          "yref": "y"
         },
         {
          "font": {
           "color": "#FFFFFF",
           "size": 8
          },
          "showarrow": false,
          "text": "-0.57",
          "x": 15,
          "xref": "x",
          "y": 7,
          "yref": "y"
         },
         {
          "font": {
           "color": "#FFFFFF",
           "size": 8
          },
          "showarrow": false,
          "text": "-0.99",
          "x": 16,
          "xref": "x",
          "y": 7,
          "yref": "y"
         },
         {
          "font": {
           "color": "#FFFFFF",
           "size": 8
          },
          "showarrow": false,
          "text": "-1.05",
          "x": 17,
          "xref": "x",
          "y": 7,
          "yref": "y"
         },
         {
          "font": {
           "color": "#FFFFFF",
           "size": 8
          },
          "showarrow": false,
          "text": "0.02",
          "x": 18,
          "xref": "x",
          "y": 7,
          "yref": "y"
         },
         {
          "font": {
           "color": "#FFFFFF",
           "size": 8
          },
          "showarrow": false,
          "text": "-0.13",
          "x": 19,
          "xref": "x",
          "y": 7,
          "yref": "y"
         },
         {
          "font": {
           "color": "#000000",
           "size": 8
          },
          "showarrow": false,
          "text": "0.65",
          "x": 0,
          "xref": "x",
          "y": 8,
          "yref": "y"
         },
         {
          "font": {
           "color": "#FFFFFF",
           "size": 8
          },
          "showarrow": false,
          "text": "-0.86",
          "x": 1,
          "xref": "x",
          "y": 8,
          "yref": "y"
         },
         {
          "font": {
           "color": "#FFFFFF",
           "size": 8
          },
          "showarrow": false,
          "text": "-1.3",
          "x": 2,
          "xref": "x",
          "y": 8,
          "yref": "y"
         },
         {
          "font": {
           "color": "#000000",
           "size": 8
          },
          "showarrow": false,
          "text": "0.51",
          "x": 3,
          "xref": "x",
          "y": 8,
          "yref": "y"
         },
         {
          "font": {
           "color": "#000000",
           "size": 8
          },
          "showarrow": false,
          "text": "2.29",
          "x": 4,
          "xref": "x",
          "y": 8,
          "yref": "y"
         },
         {
          "font": {
           "color": "#000000",
           "size": 8
          },
          "showarrow": false,
          "text": "0.5",
          "x": 5,
          "xref": "x",
          "y": 8,
          "yref": "y"
         },
         {
          "font": {
           "color": "#000000",
           "size": 8
          },
          "showarrow": false,
          "text": "0.61",
          "x": 6,
          "xref": "x",
          "y": 8,
          "yref": "y"
         },
         {
          "font": {
           "color": "#000000",
           "size": 8
          },
          "showarrow": false,
          "text": "0.3",
          "x": 7,
          "xref": "x",
          "y": 8,
          "yref": "y"
         },
         {
          "font": {
           "color": "#000000",
           "size": 8
          },
          "showarrow": false,
          "text": "0.98",
          "x": 8,
          "xref": "x",
          "y": 8,
          "yref": "y"
         },
         {
          "font": {
           "color": "#FFFFFF",
           "size": 8
          },
          "showarrow": false,
          "text": "-0.5",
          "x": 9,
          "xref": "x",
          "y": 8,
          "yref": "y"
         },
         {
          "font": {
           "color": "#000000",
           "size": 8
          },
          "showarrow": false,
          "text": "0.6",
          "x": 10,
          "xref": "x",
          "y": 8,
          "yref": "y"
         },
         {
          "font": {
           "color": "#FFFFFF",
           "size": 8
          },
          "showarrow": false,
          "text": "-0.59",
          "x": 11,
          "xref": "x",
          "y": 8,
          "yref": "y"
         },
         {
          "font": {
           "color": "#FFFFFF",
           "size": 8
          },
          "showarrow": false,
          "text": "-0.1",
          "x": 12,
          "xref": "x",
          "y": 8,
          "yref": "y"
         },
         {
          "font": {
           "color": "#FFFFFF",
           "size": 8
          },
          "showarrow": false,
          "text": "-0.11",
          "x": 13,
          "xref": "x",
          "y": 8,
          "yref": "y"
         },
         {
          "font": {
           "color": "#000000",
           "size": 8
          },
          "showarrow": false,
          "text": "0.81",
          "x": 14,
          "xref": "x",
          "y": 8,
          "yref": "y"
         },
         {
          "font": {
           "color": "#000000",
           "size": 8
          },
          "showarrow": false,
          "text": "0.51",
          "x": 15,
          "xref": "x",
          "y": 8,
          "yref": "y"
         },
         {
          "font": {
           "color": "#000000",
           "size": 8
          },
          "showarrow": false,
          "text": "0.25",
          "x": 16,
          "xref": "x",
          "y": 8,
          "yref": "y"
         },
         {
          "font": {
           "color": "#FFFFFF",
           "size": 8
          },
          "showarrow": false,
          "text": "-0.25",
          "x": 17,
          "xref": "x",
          "y": 8,
          "yref": "y"
         },
         {
          "font": {
           "color": "#000000",
           "size": 8
          },
          "showarrow": false,
          "text": "0.36",
          "x": 18,
          "xref": "x",
          "y": 8,
          "yref": "y"
         },
         {
          "font": {
           "color": "#000000",
           "size": 8
          },
          "showarrow": false,
          "text": "0.25",
          "x": 19,
          "xref": "x",
          "y": 8,
          "yref": "y"
         },
         {
          "font": {
           "color": "#000000",
           "size": 8
          },
          "showarrow": false,
          "text": "0.76",
          "x": 0,
          "xref": "x",
          "y": 9,
          "yref": "y"
         },
         {
          "font": {
           "color": "#000000",
           "size": 8
          },
          "showarrow": false,
          "text": "1.24",
          "x": 1,
          "xref": "x",
          "y": 9,
          "yref": "y"
         },
         {
          "font": {
           "color": "#000000",
           "size": 8
          },
          "showarrow": false,
          "text": "0.67",
          "x": 2,
          "xref": "x",
          "y": 9,
          "yref": "y"
         },
         {
          "font": {
           "color": "#FFFFFF",
           "size": 8
          },
          "showarrow": false,
          "text": "-0.56",
          "x": 3,
          "xref": "x",
          "y": 9,
          "yref": "y"
         },
         {
          "font": {
           "color": "#FFFFFF",
           "size": 8
          },
          "showarrow": false,
          "text": "-0.02",
          "x": 4,
          "xref": "x",
          "y": 9,
          "yref": "y"
         },
         {
          "font": {
           "color": "#FFFFFF",
           "size": 8
          },
          "showarrow": false,
          "text": "0.13",
          "x": 5,
          "xref": "x",
          "y": 9,
          "yref": "y"
         },
         {
          "font": {
           "color": "#FFFFFF",
           "size": 8
          },
          "showarrow": false,
          "text": "-0.46",
          "x": 6,
          "xref": "x",
          "y": 9,
          "yref": "y"
         },
         {
          "font": {
           "color": "#FFFFFF",
           "size": 8
          },
          "showarrow": false,
          "text": "-1.2",
          "x": 7,
          "xref": "x",
          "y": 9,
          "yref": "y"
         },
         {
          "font": {
           "color": "#000000",
           "size": 8
          },
          "showarrow": false,
          "text": "0.35",
          "x": 8,
          "xref": "x",
          "y": 9,
          "yref": "y"
         },
         {
          "font": {
           "color": "#FFFFFF",
           "size": 8
          },
          "showarrow": false,
          "text": "-0.26",
          "x": 9,
          "xref": "x",
          "y": 9,
          "yref": "y"
         },
         {
          "font": {
           "color": "#000000",
           "size": 8
          },
          "showarrow": false,
          "text": "0.64",
          "x": 10,
          "xref": "x",
          "y": 9,
          "yref": "y"
         },
         {
          "font": {
           "color": "#000000",
           "size": 8
          },
          "showarrow": false,
          "text": "2.24",
          "x": 11,
          "xref": "x",
          "y": 9,
          "yref": "y"
         },
         {
          "font": {
           "color": "#FFFFFF",
           "size": 8
          },
          "showarrow": false,
          "text": "-0.89",
          "x": 12,
          "xref": "x",
          "y": 9,
          "yref": "y"
         },
         {
          "font": {
           "color": "#000000",
           "size": 8
          },
          "showarrow": false,
          "text": "3.32",
          "x": 13,
          "xref": "x",
          "y": 9,
          "yref": "y"
         },
         {
          "font": {
           "color": "#FFFFFF",
           "size": 8
          },
          "showarrow": false,
          "text": "0.13",
          "x": 14,
          "xref": "x",
          "y": 9,
          "yref": "y"
         },
         {
          "font": {
           "color": "#FFFFFF",
           "size": 8
          },
          "showarrow": false,
          "text": "-1.25",
          "x": 15,
          "xref": "x",
          "y": 9,
          "yref": "y"
         },
         {
          "font": {
           "color": "#FFFFFF",
           "size": 8
          },
          "showarrow": false,
          "text": "-0.69",
          "x": 16,
          "xref": "x",
          "y": 9,
          "yref": "y"
         },
         {
          "font": {
           "color": "#FFFFFF",
           "size": 8
          },
          "showarrow": false,
          "text": "-0.86",
          "x": 17,
          "xref": "x",
          "y": 9,
          "yref": "y"
         },
         {
          "font": {
           "color": "#FFFFFF",
           "size": 8
          },
          "showarrow": false,
          "text": "-1.81",
          "x": 18,
          "xref": "x",
          "y": 9,
          "yref": "y"
         },
         {
          "font": {
           "color": "#FFFFFF",
           "size": 8
          },
          "showarrow": false,
          "text": "-0.14",
          "x": 19,
          "xref": "x",
          "y": 9,
          "yref": "y"
         },
         {
          "font": {
           "color": "#FFFFFF",
           "size": 8
          },
          "showarrow": false,
          "text": "-0.4",
          "x": 0,
          "xref": "x",
          "y": 10,
          "yref": "y"
         },
         {
          "font": {
           "color": "#000000",
           "size": 8
          },
          "showarrow": false,
          "text": "0.7",
          "x": 1,
          "xref": "x",
          "y": 10,
          "yref": "y"
         },
         {
          "font": {
           "color": "#FFFFFF",
           "size": 8
          },
          "showarrow": false,
          "text": "-0.46",
          "x": 2,
          "xref": "x",
          "y": 10,
          "yref": "y"
         },
         {
          "font": {
           "color": "#FFFFFF",
           "size": 8
          },
          "showarrow": false,
          "text": "-1.0",
          "x": 3,
          "xref": "x",
          "y": 10,
          "yref": "y"
         },
         {
          "font": {
           "color": "#000000",
           "size": 8
          },
          "showarrow": false,
          "text": "2.99",
          "x": 4,
          "xref": "x",
          "y": 10,
          "yref": "y"
         },
         {
          "font": {
           "color": "#FFFFFF",
           "size": 8
          },
          "showarrow": false,
          "text": "-0.57",
          "x": 5,
          "xref": "x",
          "y": 10,
          "yref": "y"
         },
         {
          "font": {
           "color": "#FFFFFF",
           "size": 8
          },
          "showarrow": false,
          "text": "0.02",
          "x": 6,
          "xref": "x",
          "y": 10,
          "yref": "y"
         },
         {
          "font": {
           "color": "#FFFFFF",
           "size": 8
          },
          "showarrow": false,
          "text": "-1.02",
          "x": 7,
          "xref": "x",
          "y": 10,
          "yref": "y"
         },
         {
          "font": {
           "color": "#FFFFFF",
           "size": 8
          },
          "showarrow": false,
          "text": "-0.62",
          "x": 8,
          "xref": "x",
          "y": 10,
          "yref": "y"
         },
         {
          "font": {
           "color": "#000000",
           "size": 8
          },
          "showarrow": false,
          "text": "0.57",
          "x": 9,
          "xref": "x",
          "y": 10,
          "yref": "y"
         },
         {
          "font": {
           "color": "#000000",
           "size": 8
          },
          "showarrow": false,
          "text": "0.68",
          "x": 10,
          "xref": "x",
          "y": 10,
          "yref": "y"
         },
         {
          "font": {
           "color": "#FFFFFF",
           "size": 8
          },
          "showarrow": false,
          "text": "-0.61",
          "x": 11,
          "xref": "x",
          "y": 10,
          "yref": "y"
         },
         {
          "font": {
           "color": "#000000",
           "size": 8
          },
          "showarrow": false,
          "text": "0.29",
          "x": 12,
          "xref": "x",
          "y": 10,
          "yref": "y"
         },
         {
          "font": {
           "color": "#FFFFFF",
           "size": 8
          },
          "showarrow": false,
          "text": "-0.32",
          "x": 13,
          "xref": "x",
          "y": 10,
          "yref": "y"
         },
         {
          "font": {
           "color": "#FFFFFF",
           "size": 8
          },
          "showarrow": false,
          "text": "-1.67",
          "x": 14,
          "xref": "x",
          "y": 10,
          "yref": "y"
         },
         {
          "font": {
           "color": "#000000",
           "size": 8
          },
          "showarrow": false,
          "text": "0.66",
          "x": 15,
          "xref": "x",
          "y": 10,
          "yref": "y"
         },
         {
          "font": {
           "color": "#FFFFFF",
           "size": 8
          },
          "showarrow": false,
          "text": "-0.71",
          "x": 16,
          "xref": "x",
          "y": 10,
          "yref": "y"
         },
         {
          "font": {
           "color": "#000000",
           "size": 8
          },
          "showarrow": false,
          "text": "1.38",
          "x": 17,
          "xref": "x",
          "y": 10,
          "yref": "y"
         },
         {
          "font": {
           "color": "#FFFFFF",
           "size": 8
          },
          "showarrow": false,
          "text": "-0.95",
          "x": 18,
          "xref": "x",
          "y": 10,
          "yref": "y"
         },
         {
          "font": {
           "color": "#FFFFFF",
           "size": 8
          },
          "showarrow": false,
          "text": "0.11",
          "x": 19,
          "xref": "x",
          "y": 10,
          "yref": "y"
         },
         {
          "font": {
           "color": "#000000",
           "size": 8
          },
          "showarrow": false,
          "text": "0.28",
          "x": 0,
          "xref": "x",
          "y": 11,
          "yref": "y"
         },
         {
          "font": {
           "color": "#000000",
           "size": 8
          },
          "showarrow": false,
          "text": "0.87",
          "x": 1,
          "xref": "x",
          "y": 11,
          "yref": "y"
         },
         {
          "font": {
           "color": "#FFFFFF",
           "size": 8
          },
          "showarrow": false,
          "text": "0.05",
          "x": 2,
          "xref": "x",
          "y": 11,
          "yref": "y"
         },
         {
          "font": {
           "color": "#FFFFFF",
           "size": 8
          },
          "showarrow": false,
          "text": "-0.71",
          "x": 3,
          "xref": "x",
          "y": 11,
          "yref": "y"
         },
         {
          "font": {
           "color": "#000000",
           "size": 8
          },
          "showarrow": false,
          "text": "0.44",
          "x": 4,
          "xref": "x",
          "y": 11,
          "yref": "y"
         },
         {
          "font": {
           "color": "#000000",
           "size": 8
          },
          "showarrow": false,
          "text": "2.13",
          "x": 5,
          "xref": "x",
          "y": 11,
          "yref": "y"
         },
         {
          "font": {
           "color": "#FFFFFF",
           "size": 8
          },
          "showarrow": false,
          "text": "-0.85",
          "x": 6,
          "xref": "x",
          "y": 11,
          "yref": "y"
         },
         {
          "font": {
           "color": "#000000",
           "size": 8
          },
          "showarrow": false,
          "text": "0.29",
          "x": 7,
          "xref": "x",
          "y": 11,
          "yref": "y"
         },
         {
          "font": {
           "color": "#FFFFFF",
           "size": 8
          },
          "showarrow": false,
          "text": "-0.43",
          "x": 8,
          "xref": "x",
          "y": 11,
          "yref": "y"
         },
         {
          "font": {
           "color": "#FFFFFF",
           "size": 8
          },
          "showarrow": false,
          "text": "-0.34",
          "x": 9,
          "xref": "x",
          "y": 11,
          "yref": "y"
         },
         {
          "font": {
           "color": "#000000",
           "size": 8
          },
          "showarrow": false,
          "text": "1.81",
          "x": 10,
          "xref": "x",
          "y": 11,
          "yref": "y"
         },
         {
          "font": {
           "color": "#000000",
           "size": 8
          },
          "showarrow": false,
          "text": "1.69",
          "x": 11,
          "xref": "x",
          "y": 11,
          "yref": "y"
         },
         {
          "font": {
           "color": "#000000",
           "size": 8
          },
          "showarrow": false,
          "text": "0.44",
          "x": 12,
          "xref": "x",
          "y": 11,
          "yref": "y"
         },
         {
          "font": {
           "color": "#000000",
           "size": 8
          },
          "showarrow": false,
          "text": "0.27",
          "x": 13,
          "xref": "x",
          "y": 11,
          "yref": "y"
         },
         {
          "font": {
           "color": "#000000",
           "size": 8
          },
          "showarrow": false,
          "text": "0.79",
          "x": 14,
          "xref": "x",
          "y": 11,
          "yref": "y"
         },
         {
          "font": {
           "color": "#FFFFFF",
           "size": 8
          },
          "showarrow": false,
          "text": "-0.74",
          "x": 15,
          "xref": "x",
          "y": 11,
          "yref": "y"
         },
         {
          "font": {
           "color": "#000000",
           "size": 8
          },
          "showarrow": false,
          "text": "0.6",
          "x": 16,
          "xref": "x",
          "y": 11,
          "yref": "y"
         },
         {
          "font": {
           "color": "#FFFFFF",
           "size": 8
          },
          "showarrow": false,
          "text": "-0.14",
          "x": 17,
          "xref": "x",
          "y": 11,
          "yref": "y"
         },
         {
          "font": {
           "color": "#FFFFFF",
           "size": 8
          },
          "showarrow": false,
          "text": "-2.27",
          "x": 18,
          "xref": "x",
          "y": 11,
          "yref": "y"
         },
         {
          "font": {
           "color": "#000000",
           "size": 8
          },
          "showarrow": false,
          "text": "1.14",
          "x": 19,
          "xref": "x",
          "y": 11,
          "yref": "y"
         },
         {
          "font": {
           "color": "#000000",
           "size": 8
          },
          "showarrow": false,
          "text": "0.42",
          "x": 0,
          "xref": "x",
          "y": 12,
          "yref": "y"
         },
         {
          "font": {
           "color": "#000000",
           "size": 8
          },
          "showarrow": false,
          "text": "1.33",
          "x": 1,
          "xref": "x",
          "y": 12,
          "yref": "y"
         },
         {
          "font": {
           "color": "#000000",
           "size": 8
          },
          "showarrow": false,
          "text": "1.72",
          "x": 2,
          "xref": "x",
          "y": 12,
          "yref": "y"
         },
         {
          "font": {
           "color": "#FFFFFF",
           "size": 8
          },
          "showarrow": false,
          "text": "-1.65",
          "x": 3,
          "xref": "x",
          "y": 12,
          "yref": "y"
         },
         {
          "font": {
           "color": "#000000",
           "size": 8
          },
          "showarrow": false,
          "text": "1.78",
          "x": 4,
          "xref": "x",
          "y": 12,
          "yref": "y"
         },
         {
          "font": {
           "color": "#FFFFFF",
           "size": 8
          },
          "showarrow": false,
          "text": "-0.66",
          "x": 5,
          "xref": "x",
          "y": 12,
          "yref": "y"
         },
         {
          "font": {
           "color": "#FFFFFF",
           "size": 8
          },
          "showarrow": false,
          "text": "0.19",
          "x": 6,
          "xref": "x",
          "y": 12,
          "yref": "y"
         },
         {
          "font": {
           "color": "#000000",
           "size": 8
          },
          "showarrow": false,
          "text": "1.88",
          "x": 7,
          "xref": "x",
          "y": 12,
          "yref": "y"
         },
         {
          "font": {
           "color": "#FFFFFF",
           "size": 8
          },
          "showarrow": false,
          "text": "-1.03",
          "x": 8,
          "xref": "x",
          "y": 12,
          "yref": "y"
         },
         {
          "font": {
           "color": "#000000",
           "size": 8
          },
          "showarrow": false,
          "text": "0.62",
          "x": 9,
          "xref": "x",
          "y": 12,
          "yref": "y"
         },
         {
          "font": {
           "color": "#000000",
           "size": 8
          },
          "showarrow": false,
          "text": "1.51",
          "x": 10,
          "xref": "x",
          "y": 12,
          "yref": "y"
         },
         {
          "font": {
           "color": "#FFFFFF",
           "size": 8
          },
          "showarrow": false,
          "text": "-0.59",
          "x": 11,
          "xref": "x",
          "y": 12,
          "yref": "y"
         },
         {
          "font": {
           "color": "#000000",
           "size": 8
          },
          "showarrow": false,
          "text": "0.22",
          "x": 12,
          "xref": "x",
          "y": 12,
          "yref": "y"
         },
         {
          "font": {
           "color": "#FFFFFF",
           "size": 8
          },
          "showarrow": false,
          "text": "0.19",
          "x": 13,
          "xref": "x",
          "y": 12,
          "yref": "y"
         },
         {
          "font": {
           "color": "#FFFFFF",
           "size": 8
          },
          "showarrow": false,
          "text": "-0.43",
          "x": 14,
          "xref": "x",
          "y": 12,
          "yref": "y"
         },
         {
          "font": {
           "color": "#FFFFFF",
           "size": 8
          },
          "showarrow": false,
          "text": "-0.14",
          "x": 15,
          "xref": "x",
          "y": 12,
          "yref": "y"
         },
         {
          "font": {
           "color": "#000000",
           "size": 8
          },
          "showarrow": false,
          "text": "0.63",
          "x": 16,
          "xref": "x",
          "y": 12,
          "yref": "y"
         },
         {
          "font": {
           "color": "#000000",
           "size": 8
          },
          "showarrow": false,
          "text": "0.83",
          "x": 17,
          "xref": "x",
          "y": 12,
          "yref": "y"
         },
         {
          "font": {
           "color": "#FFFFFF",
           "size": 8
          },
          "showarrow": false,
          "text": "-1.53",
          "x": 18,
          "xref": "x",
          "y": 12,
          "yref": "y"
         },
         {
          "font": {
           "color": "#000000",
           "size": 8
          },
          "showarrow": false,
          "text": "0.46",
          "x": 19,
          "xref": "x",
          "y": 12,
          "yref": "y"
         },
         {
          "font": {
           "color": "#FFFFFF",
           "size": 8
          },
          "showarrow": false,
          "text": "-1.2",
          "x": 0,
          "xref": "x",
          "y": 13,
          "yref": "y"
         },
         {
          "font": {
           "color": "#FFFFFF",
           "size": 8
          },
          "showarrow": false,
          "text": "-0.63",
          "x": 1,
          "xref": "x",
          "y": 13,
          "yref": "y"
         },
         {
          "font": {
           "color": "#000000",
           "size": 8
          },
          "showarrow": false,
          "text": "0.7",
          "x": 2,
          "xref": "x",
          "y": 13,
          "yref": "y"
         },
         {
          "font": {
           "color": "#FFFFFF",
           "size": 8
          },
          "showarrow": false,
          "text": "-0.6",
          "x": 3,
          "xref": "x",
          "y": 13,
          "yref": "y"
         },
         {
          "font": {
           "color": "#FFFFFF",
           "size": 8
          },
          "showarrow": false,
          "text": "-1.55",
          "x": 4,
          "xref": "x",
          "y": 13,
          "yref": "y"
         },
         {
          "font": {
           "color": "#FFFFFF",
           "size": 8
          },
          "showarrow": false,
          "text": "-0.39",
          "x": 5,
          "xref": "x",
          "y": 13,
          "yref": "y"
         },
         {
          "font": {
           "color": "#FFFFFF",
           "size": 8
          },
          "showarrow": false,
          "text": "-1.68",
          "x": 6,
          "xref": "x",
          "y": 13,
          "yref": "y"
         },
         {
          "font": {
           "color": "#000000",
           "size": 8
          },
          "showarrow": false,
          "text": "0.64",
          "x": 7,
          "xref": "x",
          "y": 13,
          "yref": "y"
         },
         {
          "font": {
           "color": "#FFFFFF",
           "size": 8
          },
          "showarrow": false,
          "text": "-1.92",
          "x": 8,
          "xref": "x",
          "y": 13,
          "yref": "y"
         },
         {
          "font": {
           "color": "#FFFFFF",
           "size": 8
          },
          "showarrow": false,
          "text": "-0.56",
          "x": 9,
          "xref": "x",
          "y": 13,
          "yref": "y"
         },
         {
          "font": {
           "color": "#000000",
           "size": 8
          },
          "showarrow": false,
          "text": "0.88",
          "x": 10,
          "xref": "x",
          "y": 13,
          "yref": "y"
         },
         {
          "font": {
           "color": "#FFFFFF",
           "size": 8
          },
          "showarrow": false,
          "text": "-1.93",
          "x": 11,
          "xref": "x",
          "y": 13,
          "yref": "y"
         },
         {
          "font": {
           "color": "#FFFFFF",
           "size": 8
          },
          "showarrow": false,
          "text": "-0.65",
          "x": 12,
          "xref": "x",
          "y": 13,
          "yref": "y"
         },
         {
          "font": {
           "color": "#FFFFFF",
           "size": 8
          },
          "showarrow": false,
          "text": "-0.97",
          "x": 13,
          "xref": "x",
          "y": 13,
          "yref": "y"
         },
         {
          "font": {
           "color": "#000000",
           "size": 8
          },
          "showarrow": false,
          "text": "2.83",
          "x": 14,
          "xref": "x",
          "y": 13,
          "yref": "y"
         },
         {
          "font": {
           "color": "#000000",
           "size": 8
          },
          "showarrow": false,
          "text": "0.45",
          "x": 15,
          "xref": "x",
          "y": 13,
          "yref": "y"
         },
         {
          "font": {
           "color": "#FFFFFF",
           "size": 8
          },
          "showarrow": false,
          "text": "0.19",
          "x": 16,
          "xref": "x",
          "y": 13,
          "yref": "y"
         },
         {
          "font": {
           "color": "#000000",
           "size": 8
          },
          "showarrow": false,
          "text": "0.24",
          "x": 17,
          "xref": "x",
          "y": 13,
          "yref": "y"
         },
         {
          "font": {
           "color": "#000000",
           "size": 8
          },
          "showarrow": false,
          "text": "2.29",
          "x": 18,
          "xref": "x",
          "y": 13,
          "yref": "y"
         },
         {
          "font": {
           "color": "#000000",
           "size": 8
          },
          "showarrow": false,
          "text": "0.68",
          "x": 19,
          "xref": "x",
          "y": 13,
          "yref": "y"
         },
         {
          "font": {
           "color": "#000000",
           "size": 8
          },
          "showarrow": false,
          "text": "0.44",
          "x": 0,
          "xref": "x",
          "y": 14,
          "yref": "y"
         },
         {
          "font": {
           "color": "#FFFFFF",
           "size": 8
          },
          "showarrow": false,
          "text": "-0.74",
          "x": 1,
          "xref": "x",
          "y": 14,
          "yref": "y"
         },
         {
          "font": {
           "color": "#000000",
           "size": 8
          },
          "showarrow": false,
          "text": "1.47",
          "x": 2,
          "xref": "x",
          "y": 14,
          "yref": "y"
         },
         {
          "font": {
           "color": "#FFFFFF",
           "size": 8
          },
          "showarrow": false,
          "text": "-1.68",
          "x": 3,
          "xref": "x",
          "y": 14,
          "yref": "y"
         },
         {
          "font": {
           "color": "#FFFFFF",
           "size": 8
          },
          "showarrow": false,
          "text": "-0.87",
          "x": 4,
          "xref": "x",
          "y": 14,
          "yref": "y"
         },
         {
          "font": {
           "color": "#FFFFFF",
           "size": 8
          },
          "showarrow": false,
          "text": "-1.64",
          "x": 5,
          "xref": "x",
          "y": 14,
          "yref": "y"
         },
         {
          "font": {
           "color": "#FFFFFF",
           "size": 8
          },
          "showarrow": false,
          "text": "-2.64",
          "x": 6,
          "xref": "x",
          "y": 14,
          "yref": "y"
         },
         {
          "font": {
           "color": "#FFFFFF",
           "size": 8
          },
          "showarrow": false,
          "text": "-0.27",
          "x": 7,
          "xref": "x",
          "y": 14,
          "yref": "y"
         },
         {
          "font": {
           "color": "#000000",
           "size": 8
          },
          "showarrow": false,
          "text": "0.46",
          "x": 8,
          "xref": "x",
          "y": 14,
          "yref": "y"
         },
         {
          "font": {
           "color": "#FFFFFF",
           "size": 8
          },
          "showarrow": false,
          "text": "-1.32",
          "x": 9,
          "xref": "x",
          "y": 14,
          "yref": "y"
         },
         {
          "font": {
           "color": "#FFFFFF",
           "size": 8
          },
          "showarrow": false,
          "text": "-0.39",
          "x": 10,
          "xref": "x",
          "y": 14,
          "yref": "y"
         },
         {
          "font": {
           "color": "#000000",
           "size": 8
          },
          "showarrow": false,
          "text": "1.49",
          "x": 11,
          "xref": "x",
          "y": 14,
          "yref": "y"
         },
         {
          "font": {
           "color": "#000000",
           "size": 8
          },
          "showarrow": false,
          "text": "0.92",
          "x": 12,
          "xref": "x",
          "y": 14,
          "yref": "y"
         },
         {
          "font": {
           "color": "#FFFFFF",
           "size": 8
          },
          "showarrow": false,
          "text": "-0.01",
          "x": 13,
          "xref": "x",
          "y": 14,
          "yref": "y"
         },
         {
          "font": {
           "color": "#000000",
           "size": 8
          },
          "showarrow": false,
          "text": "1.03",
          "x": 14,
          "xref": "x",
          "y": 14,
          "yref": "y"
         },
         {
          "font": {
           "color": "#FFFFFF",
           "size": 8
          },
          "showarrow": false,
          "text": "-0.0",
          "x": 15,
          "xref": "x",
          "y": 14,
          "yref": "y"
         },
         {
          "font": {
           "color": "#000000",
           "size": 8
          },
          "showarrow": false,
          "text": "0.56",
          "x": 16,
          "xref": "x",
          "y": 14,
          "yref": "y"
         },
         {
          "font": {
           "color": "#FFFFFF",
           "size": 8
          },
          "showarrow": false,
          "text": "-1.16",
          "x": 17,
          "xref": "x",
          "y": 14,
          "yref": "y"
         },
         {
          "font": {
           "color": "#FFFFFF",
           "size": 8
          },
          "showarrow": false,
          "text": "-0.23",
          "x": 18,
          "xref": "x",
          "y": 14,
          "yref": "y"
         },
         {
          "font": {
           "color": "#FFFFFF",
           "size": 8
          },
          "showarrow": false,
          "text": "-1.3",
          "x": 19,
          "xref": "x",
          "y": 14,
          "yref": "y"
         },
         {
          "font": {
           "color": "#FFFFFF",
           "size": 8
          },
          "showarrow": false,
          "text": "-0.52",
          "x": 0,
          "xref": "x",
          "y": 15,
          "yref": "y"
         },
         {
          "font": {
           "color": "#FFFFFF",
           "size": 8
          },
          "showarrow": false,
          "text": "-1.03",
          "x": 1,
          "xref": "x",
          "y": 15,
          "yref": "y"
         },
         {
          "font": {
           "color": "#000000",
           "size": 8
          },
          "showarrow": false,
          "text": "0.3",
          "x": 2,
          "xref": "x",
          "y": 15,
          "yref": "y"
         },
         {
          "font": {
           "color": "#FFFFFF",
           "size": 8
          },
          "showarrow": false,
          "text": "-0.64",
          "x": 3,
          "xref": "x",
          "y": 15,
          "yref": "y"
         },
         {
          "font": {
           "color": "#FFFFFF",
           "size": 8
          },
          "showarrow": false,
          "text": "-0.29",
          "x": 4,
          "xref": "x",
          "y": 15,
          "yref": "y"
         },
         {
          "font": {
           "color": "#000000",
           "size": 8
          },
          "showarrow": false,
          "text": "1.09",
          "x": 5,
          "xref": "x",
          "y": 15,
          "yref": "y"
         },
         {
          "font": {
           "color": "#FFFFFF",
           "size": 8
          },
          "showarrow": false,
          "text": "-1.7",
          "x": 6,
          "xref": "x",
          "y": 15,
          "yref": "y"
         },
         {
          "font": {
           "color": "#FFFFFF",
           "size": 8
          },
          "showarrow": false,
          "text": "-0.26",
          "x": 7,
          "xref": "x",
          "y": 15,
          "yref": "y"
         },
         {
          "font": {
           "color": "#FFFFFF",
           "size": 8
          },
          "showarrow": false,
          "text": "-0.02",
          "x": 8,
          "xref": "x",
          "y": 15,
          "yref": "y"
         },
         {
          "font": {
           "color": "#000000",
           "size": 8
          },
          "showarrow": false,
          "text": "0.39",
          "x": 9,
          "xref": "x",
          "y": 15,
          "yref": "y"
         },
         {
          "font": {
           "color": "#000000",
           "size": 8
          },
          "showarrow": false,
          "text": "0.94",
          "x": 10,
          "xref": "x",
          "y": 15,
          "yref": "y"
         },
         {
          "font": {
           "color": "#000000",
           "size": 8
          },
          "showarrow": false,
          "text": "0.73",
          "x": 11,
          "xref": "x",
          "y": 15,
          "yref": "y"
         },
         {
          "font": {
           "color": "#FFFFFF",
           "size": 8
          },
          "showarrow": false,
          "text": "-2.29",
          "x": 12,
          "xref": "x",
          "y": 15,
          "yref": "y"
         },
         {
          "font": {
           "color": "#FFFFFF",
           "size": 8
          },
          "showarrow": false,
          "text": "-0.74",
          "x": 13,
          "xref": "x",
          "y": 15,
          "yref": "y"
         },
         {
          "font": {
           "color": "#FFFFFF",
           "size": 8
          },
          "showarrow": false,
          "text": "-0.03",
          "x": 14,
          "xref": "x",
          "y": 15,
          "yref": "y"
         },
         {
          "font": {
           "color": "#FFFFFF",
           "size": 8
          },
          "showarrow": false,
          "text": "-0.12",
          "x": 15,
          "xref": "x",
          "y": 15,
          "yref": "y"
         },
         {
          "font": {
           "color": "#FFFFFF",
           "size": 8
          },
          "showarrow": false,
          "text": "-0.58",
          "x": 16,
          "xref": "x",
          "y": 15,
          "yref": "y"
         },
         {
          "font": {
           "color": "#000000",
           "size": 8
          },
          "showarrow": false,
          "text": "1.9",
          "x": 17,
          "xref": "x",
          "y": 15,
          "yref": "y"
         },
         {
          "font": {
           "color": "#000000",
           "size": 8
          },
          "showarrow": false,
          "text": "0.74",
          "x": 18,
          "xref": "x",
          "y": 15,
          "yref": "y"
         },
         {
          "font": {
           "color": "#FFFFFF",
           "size": 8
          },
          "showarrow": false,
          "text": "-0.69",
          "x": 19,
          "xref": "x",
          "y": 15,
          "yref": "y"
         },
         {
          "font": {
           "color": "#000000",
           "size": 8
          },
          "showarrow": false,
          "text": "0.99",
          "x": 0,
          "xref": "x",
          "y": 16,
          "yref": "y"
         },
         {
          "font": {
           "color": "#FFFFFF",
           "size": 8
          },
          "showarrow": false,
          "text": "0.04",
          "x": 1,
          "xref": "x",
          "y": 16,
          "yref": "y"
         },
         {
          "font": {
           "color": "#000000",
           "size": 8
          },
          "showarrow": false,
          "text": "1.83",
          "x": 2,
          "xref": "x",
          "y": 16,
          "yref": "y"
         },
         {
          "font": {
           "color": "#FFFFFF",
           "size": 8
          },
          "showarrow": false,
          "text": "-2.08",
          "x": 3,
          "xref": "x",
          "y": 16,
          "yref": "y"
         },
         {
          "font": {
           "color": "#FFFFFF",
           "size": 8
          },
          "showarrow": false,
          "text": "-0.66",
          "x": 4,
          "xref": "x",
          "y": 16,
          "yref": "y"
         },
         {
          "font": {
           "color": "#FFFFFF",
           "size": 8
          },
          "showarrow": false,
          "text": "-0.62",
          "x": 5,
          "xref": "x",
          "y": 16,
          "yref": "y"
         },
         {
          "font": {
           "color": "#FFFFFF",
           "size": 8
          },
          "showarrow": false,
          "text": "-0.03",
          "x": 6,
          "xref": "x",
          "y": 16,
          "yref": "y"
         },
         {
          "font": {
           "color": "#FFFFFF",
           "size": 8
          },
          "showarrow": false,
          "text": "-0.07",
          "x": 7,
          "xref": "x",
          "y": 16,
          "yref": "y"
         },
         {
          "font": {
           "color": "#FFFFFF",
           "size": 8
          },
          "showarrow": false,
          "text": "0.09",
          "x": 8,
          "xref": "x",
          "y": 16,
          "yref": "y"
         },
         {
          "font": {
           "color": "#FFFFFF",
           "size": 8
          },
          "showarrow": false,
          "text": "0.02",
          "x": 9,
          "xref": "x",
          "y": 16,
          "yref": "y"
         },
         {
          "font": {
           "color": "#FFFFFF",
           "size": 8
          },
          "showarrow": false,
          "text": "-0.31",
          "x": 10,
          "xref": "x",
          "y": 16,
          "yref": "y"
         },
         {
          "font": {
           "color": "#FFFFFF",
           "size": 8
          },
          "showarrow": false,
          "text": "-0.53",
          "x": 11,
          "xref": "x",
          "y": 16,
          "yref": "y"
         },
         {
          "font": {
           "color": "#FFFFFF",
           "size": 8
          },
          "showarrow": false,
          "text": "-0.81",
          "x": 12,
          "xref": "x",
          "y": 16,
          "yref": "y"
         },
         {
          "font": {
           "color": "#FFFFFF",
           "size": 8
          },
          "showarrow": false,
          "text": "-1.85",
          "x": 13,
          "xref": "x",
          "y": 16,
          "yref": "y"
         },
         {
          "font": {
           "color": "#FFFFFF",
           "size": 8
          },
          "showarrow": false,
          "text": "-1.84",
          "x": 14,
          "xref": "x",
          "y": 16,
          "yref": "y"
         },
         {
          "font": {
           "color": "#FFFFFF",
           "size": 8
          },
          "showarrow": false,
          "text": "-0.3",
          "x": 15,
          "xref": "x",
          "y": 16,
          "yref": "y"
         },
         {
          "font": {
           "color": "#000000",
           "size": 8
          },
          "showarrow": false,
          "text": "1.94",
          "x": 16,
          "xref": "x",
          "y": 16,
          "yref": "y"
         },
         {
          "font": {
           "color": "#000000",
           "size": 8
          },
          "showarrow": false,
          "text": "1.6",
          "x": 17,
          "xref": "x",
          "y": 16,
          "yref": "y"
         },
         {
          "font": {
           "color": "#FFFFFF",
           "size": 8
          },
          "showarrow": false,
          "text": "-1.63",
          "x": 18,
          "xref": "x",
          "y": 16,
          "yref": "y"
         },
         {
          "font": {
           "color": "#000000",
           "size": 8
          },
          "showarrow": false,
          "text": "1.2",
          "x": 19,
          "xref": "x",
          "y": 16,
          "yref": "y"
         },
         {
          "font": {
           "color": "#FFFFFF",
           "size": 8
          },
          "showarrow": false,
          "text": "-0.17",
          "x": 0,
          "xref": "x",
          "y": 17,
          "yref": "y"
         },
         {
          "font": {
           "color": "#000000",
           "size": 8
          },
          "showarrow": false,
          "text": "0.46",
          "x": 1,
          "xref": "x",
          "y": 17,
          "yref": "y"
         },
         {
          "font": {
           "color": "#FFFFFF",
           "size": 8
          },
          "showarrow": false,
          "text": "0.21",
          "x": 2,
          "xref": "x",
          "y": 17,
          "yref": "y"
         },
         {
          "font": {
           "color": "#000000",
           "size": 8
          },
          "showarrow": false,
          "text": "2.7",
          "x": 3,
          "xref": "x",
          "y": 17,
          "yref": "y"
         },
         {
          "font": {
           "color": "#000000",
           "size": 8
          },
          "showarrow": false,
          "text": "0.61",
          "x": 4,
          "xref": "x",
          "y": 17,
          "yref": "y"
         },
         {
          "font": {
           "color": "#000000",
           "size": 8
          },
          "showarrow": false,
          "text": "1.31",
          "x": 5,
          "xref": "x",
          "y": 17,
          "yref": "y"
         },
         {
          "font": {
           "color": "#000000",
           "size": 8
          },
          "showarrow": false,
          "text": "0.36",
          "x": 6,
          "xref": "x",
          "y": 17,
          "yref": "y"
         },
         {
          "font": {
           "color": "#FFFFFF",
           "size": 8
          },
          "showarrow": false,
          "text": "-0.74",
          "x": 7,
          "xref": "x",
          "y": 17,
          "yref": "y"
         },
         {
          "font": {
           "color": "#FFFFFF",
           "size": 8
          },
          "showarrow": false,
          "text": "-0.28",
          "x": 8,
          "xref": "x",
          "y": 17,
          "yref": "y"
         },
         {
          "font": {
           "color": "#000000",
           "size": 8
          },
          "showarrow": false,
          "text": "2.47",
          "x": 9,
          "xref": "x",
          "y": 17,
          "yref": "y"
         },
         {
          "font": {
           "color": "#FFFFFF",
           "size": 8
          },
          "showarrow": false,
          "text": "0.01",
          "x": 10,
          "xref": "x",
          "y": 17,
          "yref": "y"
         },
         {
          "font": {
           "color": "#FFFFFF",
           "size": 8
          },
          "showarrow": false,
          "text": "-1.63",
          "x": 11,
          "xref": "x",
          "y": 17,
          "yref": "y"
         },
         {
          "font": {
           "color": "#FFFFFF",
           "size": 8
          },
          "showarrow": false,
          "text": "-0.35",
          "x": 12,
          "xref": "x",
          "y": 17,
          "yref": "y"
         },
         {
          "font": {
           "color": "#000000",
           "size": 8
          },
          "showarrow": false,
          "text": "1.28",
          "x": 13,
          "xref": "x",
          "y": 17,
          "yref": "y"
         },
         {
          "font": {
           "color": "#FFFFFF",
           "size": 8
          },
          "showarrow": false,
          "text": "-0.07",
          "x": 14,
          "xref": "x",
          "y": 17,
          "yref": "y"
         },
         {
          "font": {
           "color": "#FFFFFF",
           "size": 8
          },
          "showarrow": false,
          "text": "-0.05",
          "x": 15,
          "xref": "x",
          "y": 17,
          "yref": "y"
         },
         {
          "font": {
           "color": "#000000",
           "size": 8
          },
          "showarrow": false,
          "text": "1.38",
          "x": 16,
          "xref": "x",
          "y": 17,
          "yref": "y"
         },
         {
          "font": {
           "color": "#000000",
           "size": 8
          },
          "showarrow": false,
          "text": "1.05",
          "x": 17,
          "xref": "x",
          "y": 17,
          "yref": "y"
         },
         {
          "font": {
           "color": "#FFFFFF",
           "size": 8
          },
          "showarrow": false,
          "text": "0.01",
          "x": 18,
          "xref": "x",
          "y": 17,
          "yref": "y"
         },
         {
          "font": {
           "color": "#FFFFFF",
           "size": 8
          },
          "showarrow": false,
          "text": "-0.37",
          "x": 19,
          "xref": "x",
          "y": 17,
          "yref": "y"
         },
         {
          "font": {
           "color": "#FFFFFF",
           "size": 8
          },
          "showarrow": false,
          "text": "-0.26",
          "x": 0,
          "xref": "x",
          "y": 18,
          "yref": "y"
         },
         {
          "font": {
           "color": "#FFFFFF",
           "size": 8
          },
          "showarrow": false,
          "text": "0.06",
          "x": 1,
          "xref": "x",
          "y": 18,
          "yref": "y"
         },
         {
          "font": {
           "color": "#FFFFFF",
           "size": 8
          },
          "showarrow": false,
          "text": "-1.37",
          "x": 2,
          "xref": "x",
          "y": 18,
          "yref": "y"
         },
         {
          "font": {
           "color": "#FFFFFF",
           "size": 8
          },
          "showarrow": false,
          "text": "-1.53",
          "x": 3,
          "xref": "x",
          "y": 18,
          "yref": "y"
         },
         {
          "font": {
           "color": "#000000",
           "size": 8
          },
          "showarrow": false,
          "text": "1.29",
          "x": 4,
          "xref": "x",
          "y": 18,
          "yref": "y"
         },
         {
          "font": {
           "color": "#FFFFFF",
           "size": 8
          },
          "showarrow": false,
          "text": "-0.17",
          "x": 5,
          "xref": "x",
          "y": 18,
          "yref": "y"
         },
         {
          "font": {
           "color": "#000000",
           "size": 8
          },
          "showarrow": false,
          "text": "1.25",
          "x": 6,
          "xref": "x",
          "y": 18,
          "yref": "y"
         },
         {
          "font": {
           "color": "#FFFFFF",
           "size": 8
          },
          "showarrow": false,
          "text": "-0.35",
          "x": 7,
          "xref": "x",
          "y": 18,
          "yref": "y"
         },
         {
          "font": {
           "color": "#000000",
           "size": 8
          },
          "showarrow": false,
          "text": "0.58",
          "x": 8,
          "xref": "x",
          "y": 18,
          "yref": "y"
         },
         {
          "font": {
           "color": "#FFFFFF",
           "size": 8
          },
          "showarrow": false,
          "text": "-1.13",
          "x": 9,
          "xref": "x",
          "y": 18,
          "yref": "y"
         },
         {
          "font": {
           "color": "#FFFFFF",
           "size": 8
          },
          "showarrow": false,
          "text": "-0.17",
          "x": 10,
          "xref": "x",
          "y": 18,
          "yref": "y"
         },
         {
          "font": {
           "color": "#000000",
           "size": 8
          },
          "showarrow": false,
          "text": "2.15",
          "x": 11,
          "xref": "x",
          "y": 18,
          "yref": "y"
         },
         {
          "font": {
           "color": "#FFFFFF",
           "size": 8
          },
          "showarrow": false,
          "text": "0.19",
          "x": 12,
          "xref": "x",
          "y": 18,
          "yref": "y"
         },
         {
          "font": {
           "color": "#000000",
           "size": 8
          },
          "showarrow": false,
          "text": "1.4",
          "x": 13,
          "xref": "x",
          "y": 18,
          "yref": "y"
         },
         {
          "font": {
           "color": "#000000",
           "size": 8
          },
          "showarrow": false,
          "text": "0.4",
          "x": 14,
          "xref": "x",
          "y": 18,
          "yref": "y"
         },
         {
          "font": {
           "color": "#000000",
           "size": 8
          },
          "showarrow": false,
          "text": "0.49",
          "x": 15,
          "xref": "x",
          "y": 18,
          "yref": "y"
         },
         {
          "font": {
           "color": "#000000",
           "size": 8
          },
          "showarrow": false,
          "text": "0.71",
          "x": 16,
          "xref": "x",
          "y": 18,
          "yref": "y"
         },
         {
          "font": {
           "color": "#FFFFFF",
           "size": 8
          },
          "showarrow": false,
          "text": "0.1",
          "x": 17,
          "xref": "x",
          "y": 18,
          "yref": "y"
         },
         {
          "font": {
           "color": "#000000",
           "size": 8
          },
          "showarrow": false,
          "text": "0.27",
          "x": 18,
          "xref": "x",
          "y": 18,
          "yref": "y"
         },
         {
          "font": {
           "color": "#FFFFFF",
           "size": 8
          },
          "showarrow": false,
          "text": "-0.6",
          "x": 19,
          "xref": "x",
          "y": 18,
          "yref": "y"
         },
         {
          "font": {
           "color": "#FFFFFF",
           "size": 8
          },
          "showarrow": false,
          "text": "-0.01",
          "x": 0,
          "xref": "x",
          "y": 19,
          "yref": "y"
         },
         {
          "font": {
           "color": "#FFFFFF",
           "size": 8
          },
          "showarrow": false,
          "text": "-1.74",
          "x": 1,
          "xref": "x",
          "y": 19,
          "yref": "y"
         },
         {
          "font": {
           "color": "#FFFFFF",
           "size": 8
          },
          "showarrow": false,
          "text": "-1.16",
          "x": 2,
          "xref": "x",
          "y": 19,
          "yref": "y"
         },
         {
          "font": {
           "color": "#000000",
           "size": 8
          },
          "showarrow": false,
          "text": "0.45",
          "x": 3,
          "xref": "x",
          "y": 19,
          "yref": "y"
         },
         {
          "font": {
           "color": "#FFFFFF",
           "size": 8
          },
          "showarrow": false,
          "text": "-0.22",
          "x": 4,
          "xref": "x",
          "y": 19,
          "yref": "y"
         },
         {
          "font": {
           "color": "#FFFFFF",
           "size": 8
          },
          "showarrow": false,
          "text": "-1.34",
          "x": 5,
          "xref": "x",
          "y": 19,
          "yref": "y"
         },
         {
          "font": {
           "color": "#FFFFFF",
           "size": 8
          },
          "showarrow": false,
          "text": "-0.21",
          "x": 6,
          "xref": "x",
          "y": 19,
          "yref": "y"
         },
         {
          "font": {
           "color": "#000000",
           "size": 8
          },
          "showarrow": false,
          "text": "0.76",
          "x": 7,
          "xref": "x",
          "y": 19,
          "yref": "y"
         },
         {
          "font": {
           "color": "#FFFFFF",
           "size": 8
          },
          "showarrow": false,
          "text": "-0.99",
          "x": 8,
          "xref": "x",
          "y": 19,
          "yref": "y"
         },
         {
          "font": {
           "color": "#000000",
           "size": 8
          },
          "showarrow": false,
          "text": "1.51",
          "x": 9,
          "xref": "x",
          "y": 19,
          "yref": "y"
         },
         {
          "font": {
           "color": "#000000",
           "size": 8
          },
          "showarrow": false,
          "text": "0.52",
          "x": 10,
          "xref": "x",
          "y": 19,
          "yref": "y"
         },
         {
          "font": {
           "color": "#FFFFFF",
           "size": 8
          },
          "showarrow": false,
          "text": "-0.59",
          "x": 11,
          "xref": "x",
          "y": 19,
          "yref": "y"
         },
         {
          "font": {
           "color": "#FFFFFF",
           "size": 8
          },
          "showarrow": false,
          "text": "-0.1",
          "x": 12,
          "xref": "x",
          "y": 19,
          "yref": "y"
         },
         {
          "font": {
           "color": "#000000",
           "size": 8
          },
          "showarrow": false,
          "text": "0.28",
          "x": 13,
          "xref": "x",
          "y": 19,
          "yref": "y"
         },
         {
          "font": {
           "color": "#FFFFFF",
           "size": 8
          },
          "showarrow": false,
          "text": "-0.11",
          "x": 14,
          "xref": "x",
          "y": 19,
          "yref": "y"
         },
         {
          "font": {
           "color": "#FFFFFF",
           "size": 8
          },
          "showarrow": false,
          "text": "-0.39",
          "x": 15,
          "xref": "x",
          "y": 19,
          "yref": "y"
         },
         {
          "font": {
           "color": "#000000",
           "size": 8
          },
          "showarrow": false,
          "text": "0.29",
          "x": 16,
          "xref": "x",
          "y": 19,
          "yref": "y"
         },
         {
          "font": {
           "color": "#000000",
           "size": 8
          },
          "showarrow": false,
          "text": "0.47",
          "x": 17,
          "xref": "x",
          "y": 19,
          "yref": "y"
         },
         {
          "font": {
           "color": "#000000",
           "size": 8
          },
          "showarrow": false,
          "text": "1.98",
          "x": 18,
          "xref": "x",
          "y": 19,
          "yref": "y"
         },
         {
          "font": {
           "color": "#FFFFFF",
           "size": 8
          },
          "showarrow": false,
          "text": "-0.17",
          "x": 19,
          "xref": "x",
          "y": 19,
          "yref": "y"
         }
        ],
        "xaxis": {
         "gridcolor": "rgb(0, 0, 0)",
         "showticklabels": false,
         "side": "top",
         "ticks": ""
        },
        "yaxis": {
         "showticklabels": false,
         "ticks": "",
         "ticksuffix": "  "
        }
       }
      },
      "text/html": [
       "<div>\n",
       "        \n",
       "        \n",
       "            <div id=\"62dcef8f-8d8b-412e-b4f6-1bf9e2ffaa30\" class=\"plotly-graph-div\" style=\"height:525px; width:100%;\"></div>\n",
       "            <script type=\"text/javascript\">\n",
       "                require([\"plotly\"], function(Plotly) {\n",
       "                    window.PLOTLYENV=window.PLOTLYENV || {};\n",
       "                    window.PLOTLYENV.BASE_URL='https://plot.ly';\n",
       "                    \n",
       "                if (document.getElementById(\"62dcef8f-8d8b-412e-b4f6-1bf9e2ffaa30\")) {\n",
       "                    Plotly.newPlot(\n",
       "                        '62dcef8f-8d8b-412e-b4f6-1bf9e2ffaa30',\n",
       "                        [{\"colorscale\": \"Greys\", \"hoverinfo\": \"z\", \"reversescale\": false, \"showscale\": false, \"type\": \"heatmap\", \"uid\": \"deb2818e-ec7c-44f5-9943-c32eb8acb93b\", \"z\": [[-0.24630480562320858, -0.04633703114856988, 0.2870340822511146, -0.30400690508596867, 0.11611640098549782, 0.02193984371264398, 1.1372819427765581, 0.2658309590974008, 0.59405175509629, 0.25426308389029, -0.09322227743703211, -0.44783345613327186, -1.255473022977413, -1.298000994599308, -2.898135594737493, -0.8744674669013797, 1.4533276434930555, 0.2681377596355864, -0.6478262764113577, -0.7668510750242769], [-0.3845796620001322, 0.8072224346199076, -2.363283084739259, -1.674977174691574, 0.01808913096232637, -1.7078280234192127, 1.0744252628781314, 0.6384021207281324, 1.578327623109915, 0.29231405261924076, -0.9945016948748093, 0.3642490182603976, -0.055847568700434926, 1.1852414579482822, -0.33246539730969016, 0.04190972181281666, 0.9019184583877102, -0.4398541283847452, -0.8996145836256542, -1.514347020496577], [-0.23998949751386622, -1.2947062222631545, -2.0412351252452763, -1.804924939757067, 1.5756403272236728, 2.4312617351318657, -0.5124449265006821, 1.0756705797853607, -0.8275410434142999, 1.0167963699389366, 0.27935269591195383, 1.5655241237320696, 0.9519943311324657, -0.06281927284699079, -0.7852631442018803, 0.2479927962568995, 0.10746982263048431, -1.0066459886521162, 2.0748225130097953, -0.012333045785706915], [-1.3868319122853952, -0.3937170323854901, -1.859947804118638, 0.04042833156706707, -1.9759717188642092, 0.39014551145618864, 0.6317616987443455, -0.9518099396463814, 0.3846585275163645, 0.5362771143337624, -1.452638646569562, -1.019785092777618, 0.011826121039074494, 0.6025478295667842, -1.0541723625247046, 1.1135926416771758, 1.1771757906591425, 0.19500297725117907, -0.2684270238831864, 2.195145916456401], [-1.8834207504087594, 0.31809684235735547, -0.24817798917618902, 1.4003539447739923, 0.30973144187558105, -0.2043413031621224, -2.405522995454535, -0.770664216297904, -0.19972731936831956, -0.12399568786941681, -0.3471360748503788, -0.3340132179290607, -0.6001347697214532, 0.815978367415665, -0.294637656975569, 0.3270517126742784, 0.2868925508223788, 0.28863099683053794, 0.7010997682855205, 0.8698819669115144], [2.632337313458838, -0.30368557820673786, -1.5459508986202368, -1.1829398174311294, -1.1452915089775597, 1.381250722536438, 0.07798618379219178, 1.3090790166567463, -0.6599979855768497, -2.075282988803286, 0.5993150587749855, 0.4816646602378534, 0.5974692752583411, 1.3071137722829913, -1.5577377680407904, -1.8672408748347535, -1.9018260537558473, -1.5315897058529293, 0.46469237844310934, 0.10596491154983385], [0.9261557481413939, 1.0035288068277404, 0.01490267552076058, -1.6519366171855698, -0.737167479432158, 0.20228177881981382, -0.43518713524322344, 1.2693722422389009, -0.18299176880019702, 0.5457882524442721, -0.012413022327892511, -1.4187128631638384, -0.5340096813944848, 0.44198673298711055, -1.8265079751828892, -0.8977399442913969, 0.21633411147095608, 0.13938284458694702, 0.5724873892853236, 1.0397950156250202], [-0.0813131505448138, -1.1807357398103158, 2.2186653214899223, 0.20281508977137616, 1.0238198220480037, 0.011275252441207894, 0.5694095085084613, 2.696895837445969, -0.10730888781162985, 1.4203418158821857, 0.16161412060118355, -0.36828609002717094, 0.10316932450286054, 1.778637613486276, -0.22961091217659071, -0.5713742574824331, -0.988695330085387, -1.0494562263874216, 0.022409005679182754, -0.13239374437723578], [0.6482712927497273, -0.8569875785104197, -1.3005119721797986, 0.5067460738855265, 2.2936696397586034, 0.5014613731004521, 0.6066486859430643, 0.2990887900962371, 0.9753067909379333, -0.49502096481847185, 0.5985836035328055, -0.5898611346735084, -0.10086529468299697, -0.11297590062646616, 0.8119352644125191, 0.5098246314738215, 0.24576048317786783, -0.2540002851042655, 0.35642807171082685, 0.25449186163935056], [0.7570339825460738, 1.2420790563599937, 0.6713448444178461, -0.5610176741723449, -0.018433958356488776, 0.12820359829567998, -0.46036713551579284, -1.2010865734424214, 0.3480697565899883, -0.2635722138529573, 0.6386179456719632, 2.2416480387142865, -0.8854994136342955, 3.3242444752382663, 0.13000097309050984, -1.2462656641614065, -0.6905874595271972, -0.8615843718593198, -1.8126605590902596, -0.14197499043335013], [-0.39741417014254776, 0.6962227646089089, -0.4552634236059773, -1.0001383082264472, 2.9930804116341228, -0.5716539532952036, 0.022865164106481154, -1.0166341702182478, -0.6202589883804233, 0.5683173304265021, 0.6835994231512855, -0.6087744116665811, 0.29118984398596276, -0.31941691079565343, -1.6736642666058692, 0.6560972870369762, -0.7118141164689257, 1.3837844738703378, -0.9502454343465152, 0.10738790983971389], [0.2789400824099151, 0.8685572938279211, 0.04548260343314662, -0.7099115539964509, 0.4374618402324915, 2.1328338668658833, -0.848461328438535, 0.28549417944544564, -0.43457974409359784, -0.3369837883893917, 1.8110094600008477, 1.685930564419953, 0.4409272284650938, 0.2653642149320771, 0.7869060676418238, -0.7395722955540788, 0.6034385268759941, -0.14425140998176028, -2.268145044333249, 1.141249162382362], [0.42330155472368647, 1.3296957369221052, 1.7218584652184423, -1.6547903001456445, 1.7839202831033247, -0.6628962575727453, 0.1906866152169213, 1.8813223927589866, -1.0349514881107416, 0.6232954020922175, 1.505592258438099, -0.5900915452178939, 0.21582987804435325, 0.18872861684087794, -0.4341100010269793, -0.13664433391820222, 0.628668200472961, 0.8254673009627937, -1.5258285085357102, 0.45914258083203685], [-1.2032971886247554, -0.6280199782562346, 0.7023666467173837, -0.6034609898666811, -1.5506062585001676, -0.3869069482131029, -1.6750225654244277, 0.6374884487020439, -1.915163558412756, -0.5609156769998336, 0.8798607678310384, -1.9300831926085489, -0.6547553260137471, -0.9660731984303147, 2.8262381424207357, 0.4549521209291527, 0.1896795967617045, 0.24472829066741544, 2.2932690912281473, 0.6788870649890063], [0.4415010919137826, -0.7351298499037145, 1.466159342184731, -1.6837669429632183, -0.8665352595826566, -1.6372995721413366, -2.6383338170948667, -0.2658271272276609, 0.45590661863663434, -1.3157640944603828, -0.3891720641807571, 1.4855697693153014, 0.9231576083169334, -0.007440234522586847, 1.0261327916413254, -0.0022546856531281963, 0.5605352140589788, -1.1616909721830933, -0.2303842275164403, -1.299168977110715], [-0.5153629300933069, -1.0325933517897063, 0.30071485348250565, -0.6359991575943797, -0.2882616726972818, 1.0919664060452985, -1.696423646510268, -0.2612398164044549, -0.019880484869664802, 0.389541469646927, 0.9390579400897805, 0.72834946172325, -2.2882229101759988, -0.742624450406902, -0.03278330132712659, -0.12075369686609154, -0.579246787367612, 1.9023448928738416, 0.7391613960808823, -0.6875465633354052], [0.9868971535408825, 0.038231091502931774, 1.825304928381053, -2.077332589878259, -0.6560691689302487, -0.6214498144343374, -0.033539330024260856, -0.0706308996773085, 0.09148158497096635, 0.019779776694037153, -0.313651776283793, -0.5263053830728543, -0.8089855864415769, -1.853700634123959, -1.836863218623785, -0.30236003530106303, 1.9363870286097296, 1.5976786353915133, -1.6305601607252045, 1.1989450198662772], [-0.1679561378374679, 0.4640637002122117, 0.20851746340511565, 2.701915050767935, 0.6069881221173267, 1.3090669311286087, 0.3603871608172838, -0.7394734025365368, -0.2775378488051214, 2.46542124376589, 0.006206606031343031, -1.6321325889380078, -0.3500974567285482, 1.2781094003983746, -0.07279661222658941, -0.04654048772497247, 1.3805372737029113, 1.0525948818404116, 0.005038636743567238, -0.36618129604761324], [-0.2602842211707868, 0.06295073925924774, -1.3736310867863062, -1.5292570157345462, 1.2853491271384605, -0.1663606308393185, 1.2527119030071698, -0.3532850457385784, 0.5838668266416409, -1.1321975523892411, -0.17223683238798235, 2.1522073595874587, 0.1936207742976781, 1.4018997360503822, 0.3977791467848046, 0.4882744859654464, 0.7062850481826796, 0.10374389323053736, 0.26566535030967314, -0.6003911826416226], [-0.008640081291889389, -1.74357538450133, -1.1598097156772593, 0.4457145032548969, -0.2190029460166868, -1.3381930863567317, -0.2096261077217448, 0.7592346085905064, -0.9870554288814568, 1.5053935899121522, 0.5168972351178189, -0.5899780932871348, -0.1032028537530981, 0.2814853466270706, -0.11314472551325919, -0.38966260061330604, 0.28547133817842857, 0.46898640318499174, 1.9824206493308199, -0.1687089923341107]]}],\n",
       "                        {\"annotations\": [{\"font\": {\"color\": \"#FFFFFF\", \"size\": 8}, \"showarrow\": false, \"text\": \"-0.25\", \"x\": 0, \"xref\": \"x\", \"y\": 0, \"yref\": \"y\"}, {\"font\": {\"color\": \"#FFFFFF\", \"size\": 8}, \"showarrow\": false, \"text\": \"-0.05\", \"x\": 1, \"xref\": \"x\", \"y\": 0, \"yref\": \"y\"}, {\"font\": {\"color\": \"#000000\", \"size\": 8}, \"showarrow\": false, \"text\": \"0.29\", \"x\": 2, \"xref\": \"x\", \"y\": 0, \"yref\": \"y\"}, {\"font\": {\"color\": \"#FFFFFF\", \"size\": 8}, \"showarrow\": false, \"text\": \"-0.3\", \"x\": 3, \"xref\": \"x\", \"y\": 0, \"yref\": \"y\"}, {\"font\": {\"color\": \"#FFFFFF\", \"size\": 8}, \"showarrow\": false, \"text\": \"0.12\", \"x\": 4, \"xref\": \"x\", \"y\": 0, \"yref\": \"y\"}, {\"font\": {\"color\": \"#FFFFFF\", \"size\": 8}, \"showarrow\": false, \"text\": \"0.02\", \"x\": 5, \"xref\": \"x\", \"y\": 0, \"yref\": \"y\"}, {\"font\": {\"color\": \"#000000\", \"size\": 8}, \"showarrow\": false, \"text\": \"1.14\", \"x\": 6, \"xref\": \"x\", \"y\": 0, \"yref\": \"y\"}, {\"font\": {\"color\": \"#000000\", \"size\": 8}, \"showarrow\": false, \"text\": \"0.27\", \"x\": 7, \"xref\": \"x\", \"y\": 0, \"yref\": \"y\"}, {\"font\": {\"color\": \"#000000\", \"size\": 8}, \"showarrow\": false, \"text\": \"0.59\", \"x\": 8, \"xref\": \"x\", \"y\": 0, \"yref\": \"y\"}, {\"font\": {\"color\": \"#000000\", \"size\": 8}, \"showarrow\": false, \"text\": \"0.25\", \"x\": 9, \"xref\": \"x\", \"y\": 0, \"yref\": \"y\"}, {\"font\": {\"color\": \"#FFFFFF\", \"size\": 8}, \"showarrow\": false, \"text\": \"-0.09\", \"x\": 10, \"xref\": \"x\", \"y\": 0, \"yref\": \"y\"}, {\"font\": {\"color\": \"#FFFFFF\", \"size\": 8}, \"showarrow\": false, \"text\": \"-0.45\", \"x\": 11, \"xref\": \"x\", \"y\": 0, \"yref\": \"y\"}, {\"font\": {\"color\": \"#FFFFFF\", \"size\": 8}, \"showarrow\": false, \"text\": \"-1.26\", \"x\": 12, \"xref\": \"x\", \"y\": 0, \"yref\": \"y\"}, {\"font\": {\"color\": \"#FFFFFF\", \"size\": 8}, \"showarrow\": false, \"text\": \"-1.3\", \"x\": 13, \"xref\": \"x\", \"y\": 0, \"yref\": \"y\"}, {\"font\": {\"color\": \"#FFFFFF\", \"size\": 8}, \"showarrow\": false, \"text\": \"-2.9\", \"x\": 14, \"xref\": \"x\", \"y\": 0, \"yref\": \"y\"}, {\"font\": {\"color\": \"#FFFFFF\", \"size\": 8}, \"showarrow\": false, \"text\": \"-0.87\", \"x\": 15, \"xref\": \"x\", \"y\": 0, \"yref\": \"y\"}, {\"font\": {\"color\": \"#000000\", \"size\": 8}, \"showarrow\": false, \"text\": \"1.45\", \"x\": 16, \"xref\": \"x\", \"y\": 0, \"yref\": \"y\"}, {\"font\": {\"color\": \"#000000\", \"size\": 8}, \"showarrow\": false, \"text\": \"0.27\", \"x\": 17, \"xref\": \"x\", \"y\": 0, \"yref\": \"y\"}, {\"font\": {\"color\": \"#FFFFFF\", \"size\": 8}, \"showarrow\": false, \"text\": \"-0.65\", \"x\": 18, \"xref\": \"x\", \"y\": 0, \"yref\": \"y\"}, {\"font\": {\"color\": \"#FFFFFF\", \"size\": 8}, \"showarrow\": false, \"text\": \"-0.77\", \"x\": 19, \"xref\": \"x\", \"y\": 0, \"yref\": \"y\"}, {\"font\": {\"color\": \"#FFFFFF\", \"size\": 8}, \"showarrow\": false, \"text\": \"-0.38\", \"x\": 0, \"xref\": \"x\", \"y\": 1, \"yref\": \"y\"}, {\"font\": {\"color\": \"#000000\", \"size\": 8}, \"showarrow\": false, \"text\": \"0.81\", \"x\": 1, \"xref\": \"x\", \"y\": 1, \"yref\": \"y\"}, {\"font\": {\"color\": \"#FFFFFF\", \"size\": 8}, \"showarrow\": false, \"text\": \"-2.36\", \"x\": 2, \"xref\": \"x\", \"y\": 1, \"yref\": \"y\"}, {\"font\": {\"color\": \"#FFFFFF\", \"size\": 8}, \"showarrow\": false, \"text\": \"-1.67\", \"x\": 3, \"xref\": \"x\", \"y\": 1, \"yref\": \"y\"}, {\"font\": {\"color\": \"#FFFFFF\", \"size\": 8}, \"showarrow\": false, \"text\": \"0.02\", \"x\": 4, \"xref\": \"x\", \"y\": 1, \"yref\": \"y\"}, {\"font\": {\"color\": \"#FFFFFF\", \"size\": 8}, \"showarrow\": false, \"text\": \"-1.71\", \"x\": 5, \"xref\": \"x\", \"y\": 1, \"yref\": \"y\"}, {\"font\": {\"color\": \"#000000\", \"size\": 8}, \"showarrow\": false, \"text\": \"1.07\", \"x\": 6, \"xref\": \"x\", \"y\": 1, \"yref\": \"y\"}, {\"font\": {\"color\": \"#000000\", \"size\": 8}, \"showarrow\": false, \"text\": \"0.64\", \"x\": 7, \"xref\": \"x\", \"y\": 1, \"yref\": \"y\"}, {\"font\": {\"color\": \"#000000\", \"size\": 8}, \"showarrow\": false, \"text\": \"1.58\", \"x\": 8, \"xref\": \"x\", \"y\": 1, \"yref\": \"y\"}, {\"font\": {\"color\": \"#000000\", \"size\": 8}, \"showarrow\": false, \"text\": \"0.29\", \"x\": 9, \"xref\": \"x\", \"y\": 1, \"yref\": \"y\"}, {\"font\": {\"color\": \"#FFFFFF\", \"size\": 8}, \"showarrow\": false, \"text\": \"-0.99\", \"x\": 10, \"xref\": \"x\", \"y\": 1, \"yref\": \"y\"}, {\"font\": {\"color\": \"#000000\", \"size\": 8}, \"showarrow\": false, \"text\": \"0.36\", \"x\": 11, \"xref\": \"x\", \"y\": 1, \"yref\": \"y\"}, {\"font\": {\"color\": \"#FFFFFF\", \"size\": 8}, \"showarrow\": false, \"text\": \"-0.06\", \"x\": 12, \"xref\": \"x\", \"y\": 1, \"yref\": \"y\"}, {\"font\": {\"color\": \"#000000\", \"size\": 8}, \"showarrow\": false, \"text\": \"1.19\", \"x\": 13, \"xref\": \"x\", \"y\": 1, \"yref\": \"y\"}, {\"font\": {\"color\": \"#FFFFFF\", \"size\": 8}, \"showarrow\": false, \"text\": \"-0.33\", \"x\": 14, \"xref\": \"x\", \"y\": 1, \"yref\": \"y\"}, {\"font\": {\"color\": \"#FFFFFF\", \"size\": 8}, \"showarrow\": false, \"text\": \"0.04\", \"x\": 15, \"xref\": \"x\", \"y\": 1, \"yref\": \"y\"}, {\"font\": {\"color\": \"#000000\", \"size\": 8}, \"showarrow\": false, \"text\": \"0.9\", \"x\": 16, \"xref\": \"x\", \"y\": 1, \"yref\": \"y\"}, {\"font\": {\"color\": \"#FFFFFF\", \"size\": 8}, \"showarrow\": false, \"text\": \"-0.44\", \"x\": 17, \"xref\": \"x\", \"y\": 1, \"yref\": \"y\"}, {\"font\": {\"color\": \"#FFFFFF\", \"size\": 8}, \"showarrow\": false, \"text\": \"-0.9\", \"x\": 18, \"xref\": \"x\", \"y\": 1, \"yref\": \"y\"}, {\"font\": {\"color\": \"#FFFFFF\", \"size\": 8}, \"showarrow\": false, \"text\": \"-1.51\", \"x\": 19, \"xref\": \"x\", \"y\": 1, \"yref\": \"y\"}, {\"font\": {\"color\": \"#FFFFFF\", \"size\": 8}, \"showarrow\": false, \"text\": \"-0.24\", \"x\": 0, \"xref\": \"x\", \"y\": 2, \"yref\": \"y\"}, {\"font\": {\"color\": \"#FFFFFF\", \"size\": 8}, \"showarrow\": false, \"text\": \"-1.29\", \"x\": 1, \"xref\": \"x\", \"y\": 2, \"yref\": \"y\"}, {\"font\": {\"color\": \"#FFFFFF\", \"size\": 8}, \"showarrow\": false, \"text\": \"-2.04\", \"x\": 2, \"xref\": \"x\", \"y\": 2, \"yref\": \"y\"}, {\"font\": {\"color\": \"#FFFFFF\", \"size\": 8}, \"showarrow\": false, \"text\": \"-1.8\", \"x\": 3, \"xref\": \"x\", \"y\": 2, \"yref\": \"y\"}, {\"font\": {\"color\": \"#000000\", \"size\": 8}, \"showarrow\": false, \"text\": \"1.58\", \"x\": 4, \"xref\": \"x\", \"y\": 2, \"yref\": \"y\"}, {\"font\": {\"color\": \"#000000\", \"size\": 8}, \"showarrow\": false, \"text\": \"2.43\", \"x\": 5, \"xref\": \"x\", \"y\": 2, \"yref\": \"y\"}, {\"font\": {\"color\": \"#FFFFFF\", \"size\": 8}, \"showarrow\": false, \"text\": \"-0.51\", \"x\": 6, \"xref\": \"x\", \"y\": 2, \"yref\": \"y\"}, {\"font\": {\"color\": \"#000000\", \"size\": 8}, \"showarrow\": false, \"text\": \"1.08\", \"x\": 7, \"xref\": \"x\", \"y\": 2, \"yref\": \"y\"}, {\"font\": {\"color\": \"#FFFFFF\", \"size\": 8}, \"showarrow\": false, \"text\": \"-0.83\", \"x\": 8, \"xref\": \"x\", \"y\": 2, \"yref\": \"y\"}, {\"font\": {\"color\": \"#000000\", \"size\": 8}, \"showarrow\": false, \"text\": \"1.02\", \"x\": 9, \"xref\": \"x\", \"y\": 2, \"yref\": \"y\"}, {\"font\": {\"color\": \"#000000\", \"size\": 8}, \"showarrow\": false, \"text\": \"0.28\", \"x\": 10, \"xref\": \"x\", \"y\": 2, \"yref\": \"y\"}, {\"font\": {\"color\": \"#000000\", \"size\": 8}, \"showarrow\": false, \"text\": \"1.57\", \"x\": 11, \"xref\": \"x\", \"y\": 2, \"yref\": \"y\"}, {\"font\": {\"color\": \"#000000\", \"size\": 8}, \"showarrow\": false, \"text\": \"0.95\", \"x\": 12, \"xref\": \"x\", \"y\": 2, \"yref\": \"y\"}, {\"font\": {\"color\": \"#FFFFFF\", \"size\": 8}, \"showarrow\": false, \"text\": \"-0.06\", \"x\": 13, \"xref\": \"x\", \"y\": 2, \"yref\": \"y\"}, {\"font\": {\"color\": \"#FFFFFF\", \"size\": 8}, \"showarrow\": false, \"text\": \"-0.79\", \"x\": 14, \"xref\": \"x\", \"y\": 2, \"yref\": \"y\"}, {\"font\": {\"color\": \"#000000\", \"size\": 8}, \"showarrow\": false, \"text\": \"0.25\", \"x\": 15, \"xref\": \"x\", \"y\": 2, \"yref\": \"y\"}, {\"font\": {\"color\": \"#FFFFFF\", \"size\": 8}, \"showarrow\": false, \"text\": \"0.11\", \"x\": 16, \"xref\": \"x\", \"y\": 2, \"yref\": \"y\"}, {\"font\": {\"color\": \"#FFFFFF\", \"size\": 8}, \"showarrow\": false, \"text\": \"-1.01\", \"x\": 17, \"xref\": \"x\", \"y\": 2, \"yref\": \"y\"}, {\"font\": {\"color\": \"#000000\", \"size\": 8}, \"showarrow\": false, \"text\": \"2.07\", \"x\": 18, \"xref\": \"x\", \"y\": 2, \"yref\": \"y\"}, {\"font\": {\"color\": \"#FFFFFF\", \"size\": 8}, \"showarrow\": false, \"text\": \"-0.01\", \"x\": 19, \"xref\": \"x\", \"y\": 2, \"yref\": \"y\"}, {\"font\": {\"color\": \"#FFFFFF\", \"size\": 8}, \"showarrow\": false, \"text\": \"-1.39\", \"x\": 0, \"xref\": \"x\", \"y\": 3, \"yref\": \"y\"}, {\"font\": {\"color\": \"#FFFFFF\", \"size\": 8}, \"showarrow\": false, \"text\": \"-0.39\", \"x\": 1, \"xref\": \"x\", \"y\": 3, \"yref\": \"y\"}, {\"font\": {\"color\": \"#FFFFFF\", \"size\": 8}, \"showarrow\": false, \"text\": \"-1.86\", \"x\": 2, \"xref\": \"x\", \"y\": 3, \"yref\": \"y\"}, {\"font\": {\"color\": \"#FFFFFF\", \"size\": 8}, \"showarrow\": false, \"text\": \"0.04\", \"x\": 3, \"xref\": \"x\", \"y\": 3, \"yref\": \"y\"}, {\"font\": {\"color\": \"#FFFFFF\", \"size\": 8}, \"showarrow\": false, \"text\": \"-1.98\", \"x\": 4, \"xref\": \"x\", \"y\": 3, \"yref\": \"y\"}, {\"font\": {\"color\": \"#000000\", \"size\": 8}, \"showarrow\": false, \"text\": \"0.39\", \"x\": 5, \"xref\": \"x\", \"y\": 3, \"yref\": \"y\"}, {\"font\": {\"color\": \"#000000\", \"size\": 8}, \"showarrow\": false, \"text\": \"0.63\", \"x\": 6, \"xref\": \"x\", \"y\": 3, \"yref\": \"y\"}, {\"font\": {\"color\": \"#FFFFFF\", \"size\": 8}, \"showarrow\": false, \"text\": \"-0.95\", \"x\": 7, \"xref\": \"x\", \"y\": 3, \"yref\": \"y\"}, {\"font\": {\"color\": \"#000000\", \"size\": 8}, \"showarrow\": false, \"text\": \"0.38\", \"x\": 8, \"xref\": \"x\", \"y\": 3, \"yref\": \"y\"}, {\"font\": {\"color\": \"#000000\", \"size\": 8}, \"showarrow\": false, \"text\": \"0.54\", \"x\": 9, \"xref\": \"x\", \"y\": 3, \"yref\": \"y\"}, {\"font\": {\"color\": \"#FFFFFF\", \"size\": 8}, \"showarrow\": false, \"text\": \"-1.45\", \"x\": 10, \"xref\": \"x\", \"y\": 3, \"yref\": \"y\"}, {\"font\": {\"color\": \"#FFFFFF\", \"size\": 8}, \"showarrow\": false, \"text\": \"-1.02\", \"x\": 11, \"xref\": \"x\", \"y\": 3, \"yref\": \"y\"}, {\"font\": {\"color\": \"#FFFFFF\", \"size\": 8}, \"showarrow\": false, \"text\": \"0.01\", \"x\": 12, \"xref\": \"x\", \"y\": 3, \"yref\": \"y\"}, {\"font\": {\"color\": \"#000000\", \"size\": 8}, \"showarrow\": false, \"text\": \"0.6\", \"x\": 13, \"xref\": \"x\", \"y\": 3, \"yref\": \"y\"}, {\"font\": {\"color\": \"#FFFFFF\", \"size\": 8}, \"showarrow\": false, \"text\": \"-1.05\", \"x\": 14, \"xref\": \"x\", \"y\": 3, \"yref\": \"y\"}, {\"font\": {\"color\": \"#000000\", \"size\": 8}, \"showarrow\": false, \"text\": \"1.11\", \"x\": 15, \"xref\": \"x\", \"y\": 3, \"yref\": \"y\"}, {\"font\": {\"color\": \"#000000\", \"size\": 8}, \"showarrow\": false, \"text\": \"1.18\", \"x\": 16, \"xref\": \"x\", \"y\": 3, \"yref\": \"y\"}, {\"font\": {\"color\": \"#FFFFFF\", \"size\": 8}, \"showarrow\": false, \"text\": \"0.2\", \"x\": 17, \"xref\": \"x\", \"y\": 3, \"yref\": \"y\"}, {\"font\": {\"color\": \"#FFFFFF\", \"size\": 8}, \"showarrow\": false, \"text\": \"-0.27\", \"x\": 18, \"xref\": \"x\", \"y\": 3, \"yref\": \"y\"}, {\"font\": {\"color\": \"#000000\", \"size\": 8}, \"showarrow\": false, \"text\": \"2.2\", \"x\": 19, \"xref\": \"x\", \"y\": 3, \"yref\": \"y\"}, {\"font\": {\"color\": \"#FFFFFF\", \"size\": 8}, \"showarrow\": false, \"text\": \"-1.88\", \"x\": 0, \"xref\": \"x\", \"y\": 4, \"yref\": \"y\"}, {\"font\": {\"color\": \"#000000\", \"size\": 8}, \"showarrow\": false, \"text\": \"0.32\", \"x\": 1, \"xref\": \"x\", \"y\": 4, \"yref\": \"y\"}, {\"font\": {\"color\": \"#FFFFFF\", \"size\": 8}, \"showarrow\": false, \"text\": \"-0.25\", \"x\": 2, \"xref\": \"x\", \"y\": 4, \"yref\": \"y\"}, {\"font\": {\"color\": \"#000000\", \"size\": 8}, \"showarrow\": false, \"text\": \"1.4\", \"x\": 3, \"xref\": \"x\", \"y\": 4, \"yref\": \"y\"}, {\"font\": {\"color\": \"#000000\", \"size\": 8}, \"showarrow\": false, \"text\": \"0.31\", \"x\": 4, \"xref\": \"x\", \"y\": 4, \"yref\": \"y\"}, {\"font\": {\"color\": \"#FFFFFF\", \"size\": 8}, \"showarrow\": false, \"text\": \"-0.2\", \"x\": 5, \"xref\": \"x\", \"y\": 4, \"yref\": \"y\"}, {\"font\": {\"color\": \"#FFFFFF\", \"size\": 8}, \"showarrow\": false, \"text\": \"-2.41\", \"x\": 6, \"xref\": \"x\", \"y\": 4, \"yref\": \"y\"}, {\"font\": {\"color\": \"#FFFFFF\", \"size\": 8}, \"showarrow\": false, \"text\": \"-0.77\", \"x\": 7, \"xref\": \"x\", \"y\": 4, \"yref\": \"y\"}, {\"font\": {\"color\": \"#FFFFFF\", \"size\": 8}, \"showarrow\": false, \"text\": \"-0.2\", \"x\": 8, \"xref\": \"x\", \"y\": 4, \"yref\": \"y\"}, {\"font\": {\"color\": \"#FFFFFF\", \"size\": 8}, \"showarrow\": false, \"text\": \"-0.12\", \"x\": 9, \"xref\": \"x\", \"y\": 4, \"yref\": \"y\"}, {\"font\": {\"color\": \"#FFFFFF\", \"size\": 8}, \"showarrow\": false, \"text\": \"-0.35\", \"x\": 10, \"xref\": \"x\", \"y\": 4, \"yref\": \"y\"}, {\"font\": {\"color\": \"#FFFFFF\", \"size\": 8}, \"showarrow\": false, \"text\": \"-0.33\", \"x\": 11, \"xref\": \"x\", \"y\": 4, \"yref\": \"y\"}, {\"font\": {\"color\": \"#FFFFFF\", \"size\": 8}, \"showarrow\": false, \"text\": \"-0.6\", \"x\": 12, \"xref\": \"x\", \"y\": 4, \"yref\": \"y\"}, {\"font\": {\"color\": \"#000000\", \"size\": 8}, \"showarrow\": false, \"text\": \"0.82\", \"x\": 13, \"xref\": \"x\", \"y\": 4, \"yref\": \"y\"}, {\"font\": {\"color\": \"#FFFFFF\", \"size\": 8}, \"showarrow\": false, \"text\": \"-0.29\", \"x\": 14, \"xref\": \"x\", \"y\": 4, \"yref\": \"y\"}, {\"font\": {\"color\": \"#000000\", \"size\": 8}, \"showarrow\": false, \"text\": \"0.33\", \"x\": 15, \"xref\": \"x\", \"y\": 4, \"yref\": \"y\"}, {\"font\": {\"color\": \"#000000\", \"size\": 8}, \"showarrow\": false, \"text\": \"0.29\", \"x\": 16, \"xref\": \"x\", \"y\": 4, \"yref\": \"y\"}, {\"font\": {\"color\": \"#000000\", \"size\": 8}, \"showarrow\": false, \"text\": \"0.29\", \"x\": 17, \"xref\": \"x\", \"y\": 4, \"yref\": \"y\"}, {\"font\": {\"color\": \"#000000\", \"size\": 8}, \"showarrow\": false, \"text\": \"0.7\", \"x\": 18, \"xref\": \"x\", \"y\": 4, \"yref\": \"y\"}, {\"font\": {\"color\": \"#000000\", \"size\": 8}, \"showarrow\": false, \"text\": \"0.87\", \"x\": 19, \"xref\": \"x\", \"y\": 4, \"yref\": \"y\"}, {\"font\": {\"color\": \"#000000\", \"size\": 8}, \"showarrow\": false, \"text\": \"2.63\", \"x\": 0, \"xref\": \"x\", \"y\": 5, \"yref\": \"y\"}, {\"font\": {\"color\": \"#FFFFFF\", \"size\": 8}, \"showarrow\": false, \"text\": \"-0.3\", \"x\": 1, \"xref\": \"x\", \"y\": 5, \"yref\": \"y\"}, {\"font\": {\"color\": \"#FFFFFF\", \"size\": 8}, \"showarrow\": false, \"text\": \"-1.55\", \"x\": 2, \"xref\": \"x\", \"y\": 5, \"yref\": \"y\"}, {\"font\": {\"color\": \"#FFFFFF\", \"size\": 8}, \"showarrow\": false, \"text\": \"-1.18\", \"x\": 3, \"xref\": \"x\", \"y\": 5, \"yref\": \"y\"}, {\"font\": {\"color\": \"#FFFFFF\", \"size\": 8}, \"showarrow\": false, \"text\": \"-1.15\", \"x\": 4, \"xref\": \"x\", \"y\": 5, \"yref\": \"y\"}, {\"font\": {\"color\": \"#000000\", \"size\": 8}, \"showarrow\": false, \"text\": \"1.38\", \"x\": 5, \"xref\": \"x\", \"y\": 5, \"yref\": \"y\"}, {\"font\": {\"color\": \"#FFFFFF\", \"size\": 8}, \"showarrow\": false, \"text\": \"0.08\", \"x\": 6, \"xref\": \"x\", \"y\": 5, \"yref\": \"y\"}, {\"font\": {\"color\": \"#000000\", \"size\": 8}, \"showarrow\": false, \"text\": \"1.31\", \"x\": 7, \"xref\": \"x\", \"y\": 5, \"yref\": \"y\"}, {\"font\": {\"color\": \"#FFFFFF\", \"size\": 8}, \"showarrow\": false, \"text\": \"-0.66\", \"x\": 8, \"xref\": \"x\", \"y\": 5, \"yref\": \"y\"}, {\"font\": {\"color\": \"#FFFFFF\", \"size\": 8}, \"showarrow\": false, \"text\": \"-2.08\", \"x\": 9, \"xref\": \"x\", \"y\": 5, \"yref\": \"y\"}, {\"font\": {\"color\": \"#000000\", \"size\": 8}, \"showarrow\": false, \"text\": \"0.6\", \"x\": 10, \"xref\": \"x\", \"y\": 5, \"yref\": \"y\"}, {\"font\": {\"color\": \"#000000\", \"size\": 8}, \"showarrow\": false, \"text\": \"0.48\", \"x\": 11, \"xref\": \"x\", \"y\": 5, \"yref\": \"y\"}, {\"font\": {\"color\": \"#000000\", \"size\": 8}, \"showarrow\": false, \"text\": \"0.6\", \"x\": 12, \"xref\": \"x\", \"y\": 5, \"yref\": \"y\"}, {\"font\": {\"color\": \"#000000\", \"size\": 8}, \"showarrow\": false, \"text\": \"1.31\", \"x\": 13, \"xref\": \"x\", \"y\": 5, \"yref\": \"y\"}, {\"font\": {\"color\": \"#FFFFFF\", \"size\": 8}, \"showarrow\": false, \"text\": \"-1.56\", \"x\": 14, \"xref\": \"x\", \"y\": 5, \"yref\": \"y\"}, {\"font\": {\"color\": \"#FFFFFF\", \"size\": 8}, \"showarrow\": false, \"text\": \"-1.87\", \"x\": 15, \"xref\": \"x\", \"y\": 5, \"yref\": \"y\"}, {\"font\": {\"color\": \"#FFFFFF\", \"size\": 8}, \"showarrow\": false, \"text\": \"-1.9\", \"x\": 16, \"xref\": \"x\", \"y\": 5, \"yref\": \"y\"}, {\"font\": {\"color\": \"#FFFFFF\", \"size\": 8}, \"showarrow\": false, \"text\": \"-1.53\", \"x\": 17, \"xref\": \"x\", \"y\": 5, \"yref\": \"y\"}, {\"font\": {\"color\": \"#000000\", \"size\": 8}, \"showarrow\": false, \"text\": \"0.46\", \"x\": 18, \"xref\": \"x\", \"y\": 5, \"yref\": \"y\"}, {\"font\": {\"color\": \"#FFFFFF\", \"size\": 8}, \"showarrow\": false, \"text\": \"0.11\", \"x\": 19, \"xref\": \"x\", \"y\": 5, \"yref\": \"y\"}, {\"font\": {\"color\": \"#000000\", \"size\": 8}, \"showarrow\": false, \"text\": \"0.93\", \"x\": 0, \"xref\": \"x\", \"y\": 6, \"yref\": \"y\"}, {\"font\": {\"color\": \"#000000\", \"size\": 8}, \"showarrow\": false, \"text\": \"1.0\", \"x\": 1, \"xref\": \"x\", \"y\": 6, \"yref\": \"y\"}, {\"font\": {\"color\": \"#FFFFFF\", \"size\": 8}, \"showarrow\": false, \"text\": \"0.01\", \"x\": 2, \"xref\": \"x\", \"y\": 6, \"yref\": \"y\"}, {\"font\": {\"color\": \"#FFFFFF\", \"size\": 8}, \"showarrow\": false, \"text\": \"-1.65\", \"x\": 3, \"xref\": \"x\", \"y\": 6, \"yref\": \"y\"}, {\"font\": {\"color\": \"#FFFFFF\", \"size\": 8}, \"showarrow\": false, \"text\": \"-0.74\", \"x\": 4, \"xref\": \"x\", \"y\": 6, \"yref\": \"y\"}, {\"font\": {\"color\": \"#FFFFFF\", \"size\": 8}, \"showarrow\": false, \"text\": \"0.2\", \"x\": 5, \"xref\": \"x\", \"y\": 6, \"yref\": \"y\"}, {\"font\": {\"color\": \"#FFFFFF\", \"size\": 8}, \"showarrow\": false, \"text\": \"-0.44\", \"x\": 6, \"xref\": \"x\", \"y\": 6, \"yref\": \"y\"}, {\"font\": {\"color\": \"#000000\", \"size\": 8}, \"showarrow\": false, \"text\": \"1.27\", \"x\": 7, \"xref\": \"x\", \"y\": 6, \"yref\": \"y\"}, {\"font\": {\"color\": \"#FFFFFF\", \"size\": 8}, \"showarrow\": false, \"text\": \"-0.18\", \"x\": 8, \"xref\": \"x\", \"y\": 6, \"yref\": \"y\"}, {\"font\": {\"color\": \"#000000\", \"size\": 8}, \"showarrow\": false, \"text\": \"0.55\", \"x\": 9, \"xref\": \"x\", \"y\": 6, \"yref\": \"y\"}, {\"font\": {\"color\": \"#FFFFFF\", \"size\": 8}, \"showarrow\": false, \"text\": \"-0.01\", \"x\": 10, \"xref\": \"x\", \"y\": 6, \"yref\": \"y\"}, {\"font\": {\"color\": \"#FFFFFF\", \"size\": 8}, \"showarrow\": false, \"text\": \"-1.42\", \"x\": 11, \"xref\": \"x\", \"y\": 6, \"yref\": \"y\"}, {\"font\": {\"color\": \"#FFFFFF\", \"size\": 8}, \"showarrow\": false, \"text\": \"-0.53\", \"x\": 12, \"xref\": \"x\", \"y\": 6, \"yref\": \"y\"}, {\"font\": {\"color\": \"#000000\", \"size\": 8}, \"showarrow\": false, \"text\": \"0.44\", \"x\": 13, \"xref\": \"x\", \"y\": 6, \"yref\": \"y\"}, {\"font\": {\"color\": \"#FFFFFF\", \"size\": 8}, \"showarrow\": false, \"text\": \"-1.83\", \"x\": 14, \"xref\": \"x\", \"y\": 6, \"yref\": \"y\"}, {\"font\": {\"color\": \"#FFFFFF\", \"size\": 8}, \"showarrow\": false, \"text\": \"-0.9\", \"x\": 15, \"xref\": \"x\", \"y\": 6, \"yref\": \"y\"}, {\"font\": {\"color\": \"#000000\", \"size\": 8}, \"showarrow\": false, \"text\": \"0.22\", \"x\": 16, \"xref\": \"x\", \"y\": 6, \"yref\": \"y\"}, {\"font\": {\"color\": \"#FFFFFF\", \"size\": 8}, \"showarrow\": false, \"text\": \"0.14\", \"x\": 17, \"xref\": \"x\", \"y\": 6, \"yref\": \"y\"}, {\"font\": {\"color\": \"#000000\", \"size\": 8}, \"showarrow\": false, \"text\": \"0.57\", \"x\": 18, \"xref\": \"x\", \"y\": 6, \"yref\": \"y\"}, {\"font\": {\"color\": \"#000000\", \"size\": 8}, \"showarrow\": false, \"text\": \"1.04\", \"x\": 19, \"xref\": \"x\", \"y\": 6, \"yref\": \"y\"}, {\"font\": {\"color\": \"#FFFFFF\", \"size\": 8}, \"showarrow\": false, \"text\": \"-0.08\", \"x\": 0, \"xref\": \"x\", \"y\": 7, \"yref\": \"y\"}, {\"font\": {\"color\": \"#FFFFFF\", \"size\": 8}, \"showarrow\": false, \"text\": \"-1.18\", \"x\": 1, \"xref\": \"x\", \"y\": 7, \"yref\": \"y\"}, {\"font\": {\"color\": \"#000000\", \"size\": 8}, \"showarrow\": false, \"text\": \"2.22\", \"x\": 2, \"xref\": \"x\", \"y\": 7, \"yref\": \"y\"}, {\"font\": {\"color\": \"#FFFFFF\", \"size\": 8}, \"showarrow\": false, \"text\": \"0.2\", \"x\": 3, \"xref\": \"x\", \"y\": 7, \"yref\": \"y\"}, {\"font\": {\"color\": \"#000000\", \"size\": 8}, \"showarrow\": false, \"text\": \"1.02\", \"x\": 4, \"xref\": \"x\", \"y\": 7, \"yref\": \"y\"}, {\"font\": {\"color\": \"#FFFFFF\", \"size\": 8}, \"showarrow\": false, \"text\": \"0.01\", \"x\": 5, \"xref\": \"x\", \"y\": 7, \"yref\": \"y\"}, {\"font\": {\"color\": \"#000000\", \"size\": 8}, \"showarrow\": false, \"text\": \"0.57\", \"x\": 6, \"xref\": \"x\", \"y\": 7, \"yref\": \"y\"}, {\"font\": {\"color\": \"#000000\", \"size\": 8}, \"showarrow\": false, \"text\": \"2.7\", \"x\": 7, \"xref\": \"x\", \"y\": 7, \"yref\": \"y\"}, {\"font\": {\"color\": \"#FFFFFF\", \"size\": 8}, \"showarrow\": false, \"text\": \"-0.11\", \"x\": 8, \"xref\": \"x\", \"y\": 7, \"yref\": \"y\"}, {\"font\": {\"color\": \"#000000\", \"size\": 8}, \"showarrow\": false, \"text\": \"1.42\", \"x\": 9, \"xref\": \"x\", \"y\": 7, \"yref\": \"y\"}, {\"font\": {\"color\": \"#FFFFFF\", \"size\": 8}, \"showarrow\": false, \"text\": \"0.16\", \"x\": 10, \"xref\": \"x\", \"y\": 7, \"yref\": \"y\"}, {\"font\": {\"color\": \"#FFFFFF\", \"size\": 8}, \"showarrow\": false, \"text\": \"-0.37\", \"x\": 11, \"xref\": \"x\", \"y\": 7, \"yref\": \"y\"}, {\"font\": {\"color\": \"#FFFFFF\", \"size\": 8}, \"showarrow\": false, \"text\": \"0.1\", \"x\": 12, \"xref\": \"x\", \"y\": 7, \"yref\": \"y\"}, {\"font\": {\"color\": \"#000000\", \"size\": 8}, \"showarrow\": false, \"text\": \"1.78\", \"x\": 13, \"xref\": \"x\", \"y\": 7, \"yref\": \"y\"}, {\"font\": {\"color\": \"#FFFFFF\", \"size\": 8}, \"showarrow\": false, \"text\": \"-0.23\", \"x\": 14, \"xref\": \"x\", \"y\": 7, \"yref\": \"y\"}, {\"font\": {\"color\": \"#FFFFFF\", \"size\": 8}, \"showarrow\": false, \"text\": \"-0.57\", \"x\": 15, \"xref\": \"x\", \"y\": 7, \"yref\": \"y\"}, {\"font\": {\"color\": \"#FFFFFF\", \"size\": 8}, \"showarrow\": false, \"text\": \"-0.99\", \"x\": 16, \"xref\": \"x\", \"y\": 7, \"yref\": \"y\"}, {\"font\": {\"color\": \"#FFFFFF\", \"size\": 8}, \"showarrow\": false, \"text\": \"-1.05\", \"x\": 17, \"xref\": \"x\", \"y\": 7, \"yref\": \"y\"}, {\"font\": {\"color\": \"#FFFFFF\", \"size\": 8}, \"showarrow\": false, \"text\": \"0.02\", \"x\": 18, \"xref\": \"x\", \"y\": 7, \"yref\": \"y\"}, {\"font\": {\"color\": \"#FFFFFF\", \"size\": 8}, \"showarrow\": false, \"text\": \"-0.13\", \"x\": 19, \"xref\": \"x\", \"y\": 7, \"yref\": \"y\"}, {\"font\": {\"color\": \"#000000\", \"size\": 8}, \"showarrow\": false, \"text\": \"0.65\", \"x\": 0, \"xref\": \"x\", \"y\": 8, \"yref\": \"y\"}, {\"font\": {\"color\": \"#FFFFFF\", \"size\": 8}, \"showarrow\": false, \"text\": \"-0.86\", \"x\": 1, \"xref\": \"x\", \"y\": 8, \"yref\": \"y\"}, {\"font\": {\"color\": \"#FFFFFF\", \"size\": 8}, \"showarrow\": false, \"text\": \"-1.3\", \"x\": 2, \"xref\": \"x\", \"y\": 8, \"yref\": \"y\"}, {\"font\": {\"color\": \"#000000\", \"size\": 8}, \"showarrow\": false, \"text\": \"0.51\", \"x\": 3, \"xref\": \"x\", \"y\": 8, \"yref\": \"y\"}, {\"font\": {\"color\": \"#000000\", \"size\": 8}, \"showarrow\": false, \"text\": \"2.29\", \"x\": 4, \"xref\": \"x\", \"y\": 8, \"yref\": \"y\"}, {\"font\": {\"color\": \"#000000\", \"size\": 8}, \"showarrow\": false, \"text\": \"0.5\", \"x\": 5, \"xref\": \"x\", \"y\": 8, \"yref\": \"y\"}, {\"font\": {\"color\": \"#000000\", \"size\": 8}, \"showarrow\": false, \"text\": \"0.61\", \"x\": 6, \"xref\": \"x\", \"y\": 8, \"yref\": \"y\"}, {\"font\": {\"color\": \"#000000\", \"size\": 8}, \"showarrow\": false, \"text\": \"0.3\", \"x\": 7, \"xref\": \"x\", \"y\": 8, \"yref\": \"y\"}, {\"font\": {\"color\": \"#000000\", \"size\": 8}, \"showarrow\": false, \"text\": \"0.98\", \"x\": 8, \"xref\": \"x\", \"y\": 8, \"yref\": \"y\"}, {\"font\": {\"color\": \"#FFFFFF\", \"size\": 8}, \"showarrow\": false, \"text\": \"-0.5\", \"x\": 9, \"xref\": \"x\", \"y\": 8, \"yref\": \"y\"}, {\"font\": {\"color\": \"#000000\", \"size\": 8}, \"showarrow\": false, \"text\": \"0.6\", \"x\": 10, \"xref\": \"x\", \"y\": 8, \"yref\": \"y\"}, {\"font\": {\"color\": \"#FFFFFF\", \"size\": 8}, \"showarrow\": false, \"text\": \"-0.59\", \"x\": 11, \"xref\": \"x\", \"y\": 8, \"yref\": \"y\"}, {\"font\": {\"color\": \"#FFFFFF\", \"size\": 8}, \"showarrow\": false, \"text\": \"-0.1\", \"x\": 12, \"xref\": \"x\", \"y\": 8, \"yref\": \"y\"}, {\"font\": {\"color\": \"#FFFFFF\", \"size\": 8}, \"showarrow\": false, \"text\": \"-0.11\", \"x\": 13, \"xref\": \"x\", \"y\": 8, \"yref\": \"y\"}, {\"font\": {\"color\": \"#000000\", \"size\": 8}, \"showarrow\": false, \"text\": \"0.81\", \"x\": 14, \"xref\": \"x\", \"y\": 8, \"yref\": \"y\"}, {\"font\": {\"color\": \"#000000\", \"size\": 8}, \"showarrow\": false, \"text\": \"0.51\", \"x\": 15, \"xref\": \"x\", \"y\": 8, \"yref\": \"y\"}, {\"font\": {\"color\": \"#000000\", \"size\": 8}, \"showarrow\": false, \"text\": \"0.25\", \"x\": 16, \"xref\": \"x\", \"y\": 8, \"yref\": \"y\"}, {\"font\": {\"color\": \"#FFFFFF\", \"size\": 8}, \"showarrow\": false, \"text\": \"-0.25\", \"x\": 17, \"xref\": \"x\", \"y\": 8, \"yref\": \"y\"}, {\"font\": {\"color\": \"#000000\", \"size\": 8}, \"showarrow\": false, \"text\": \"0.36\", \"x\": 18, \"xref\": \"x\", \"y\": 8, \"yref\": \"y\"}, {\"font\": {\"color\": \"#000000\", \"size\": 8}, \"showarrow\": false, \"text\": \"0.25\", \"x\": 19, \"xref\": \"x\", \"y\": 8, \"yref\": \"y\"}, {\"font\": {\"color\": \"#000000\", \"size\": 8}, \"showarrow\": false, \"text\": \"0.76\", \"x\": 0, \"xref\": \"x\", \"y\": 9, \"yref\": \"y\"}, {\"font\": {\"color\": \"#000000\", \"size\": 8}, \"showarrow\": false, \"text\": \"1.24\", \"x\": 1, \"xref\": \"x\", \"y\": 9, \"yref\": \"y\"}, {\"font\": {\"color\": \"#000000\", \"size\": 8}, \"showarrow\": false, \"text\": \"0.67\", \"x\": 2, \"xref\": \"x\", \"y\": 9, \"yref\": \"y\"}, {\"font\": {\"color\": \"#FFFFFF\", \"size\": 8}, \"showarrow\": false, \"text\": \"-0.56\", \"x\": 3, \"xref\": \"x\", \"y\": 9, \"yref\": \"y\"}, {\"font\": {\"color\": \"#FFFFFF\", \"size\": 8}, \"showarrow\": false, \"text\": \"-0.02\", \"x\": 4, \"xref\": \"x\", \"y\": 9, \"yref\": \"y\"}, {\"font\": {\"color\": \"#FFFFFF\", \"size\": 8}, \"showarrow\": false, \"text\": \"0.13\", \"x\": 5, \"xref\": \"x\", \"y\": 9, \"yref\": \"y\"}, {\"font\": {\"color\": \"#FFFFFF\", \"size\": 8}, \"showarrow\": false, \"text\": \"-0.46\", \"x\": 6, \"xref\": \"x\", \"y\": 9, \"yref\": \"y\"}, {\"font\": {\"color\": \"#FFFFFF\", \"size\": 8}, \"showarrow\": false, \"text\": \"-1.2\", \"x\": 7, \"xref\": \"x\", \"y\": 9, \"yref\": \"y\"}, {\"font\": {\"color\": \"#000000\", \"size\": 8}, \"showarrow\": false, \"text\": \"0.35\", \"x\": 8, \"xref\": \"x\", \"y\": 9, \"yref\": \"y\"}, {\"font\": {\"color\": \"#FFFFFF\", \"size\": 8}, \"showarrow\": false, \"text\": \"-0.26\", \"x\": 9, \"xref\": \"x\", \"y\": 9, \"yref\": \"y\"}, {\"font\": {\"color\": \"#000000\", \"size\": 8}, \"showarrow\": false, \"text\": \"0.64\", \"x\": 10, \"xref\": \"x\", \"y\": 9, \"yref\": \"y\"}, {\"font\": {\"color\": \"#000000\", \"size\": 8}, \"showarrow\": false, \"text\": \"2.24\", \"x\": 11, \"xref\": \"x\", \"y\": 9, \"yref\": \"y\"}, {\"font\": {\"color\": \"#FFFFFF\", \"size\": 8}, \"showarrow\": false, \"text\": \"-0.89\", \"x\": 12, \"xref\": \"x\", \"y\": 9, \"yref\": \"y\"}, {\"font\": {\"color\": \"#000000\", \"size\": 8}, \"showarrow\": false, \"text\": \"3.32\", \"x\": 13, \"xref\": \"x\", \"y\": 9, \"yref\": \"y\"}, {\"font\": {\"color\": \"#FFFFFF\", \"size\": 8}, \"showarrow\": false, \"text\": \"0.13\", \"x\": 14, \"xref\": \"x\", \"y\": 9, \"yref\": \"y\"}, {\"font\": {\"color\": \"#FFFFFF\", \"size\": 8}, \"showarrow\": false, \"text\": \"-1.25\", \"x\": 15, \"xref\": \"x\", \"y\": 9, \"yref\": \"y\"}, {\"font\": {\"color\": \"#FFFFFF\", \"size\": 8}, \"showarrow\": false, \"text\": \"-0.69\", \"x\": 16, \"xref\": \"x\", \"y\": 9, \"yref\": \"y\"}, {\"font\": {\"color\": \"#FFFFFF\", \"size\": 8}, \"showarrow\": false, \"text\": \"-0.86\", \"x\": 17, \"xref\": \"x\", \"y\": 9, \"yref\": \"y\"}, {\"font\": {\"color\": \"#FFFFFF\", \"size\": 8}, \"showarrow\": false, \"text\": \"-1.81\", \"x\": 18, \"xref\": \"x\", \"y\": 9, \"yref\": \"y\"}, {\"font\": {\"color\": \"#FFFFFF\", \"size\": 8}, \"showarrow\": false, \"text\": \"-0.14\", \"x\": 19, \"xref\": \"x\", \"y\": 9, \"yref\": \"y\"}, {\"font\": {\"color\": \"#FFFFFF\", \"size\": 8}, \"showarrow\": false, \"text\": \"-0.4\", \"x\": 0, \"xref\": \"x\", \"y\": 10, \"yref\": \"y\"}, {\"font\": {\"color\": \"#000000\", \"size\": 8}, \"showarrow\": false, \"text\": \"0.7\", \"x\": 1, \"xref\": \"x\", \"y\": 10, \"yref\": \"y\"}, {\"font\": {\"color\": \"#FFFFFF\", \"size\": 8}, \"showarrow\": false, \"text\": \"-0.46\", \"x\": 2, \"xref\": \"x\", \"y\": 10, \"yref\": \"y\"}, {\"font\": {\"color\": \"#FFFFFF\", \"size\": 8}, \"showarrow\": false, \"text\": \"-1.0\", \"x\": 3, \"xref\": \"x\", \"y\": 10, \"yref\": \"y\"}, {\"font\": {\"color\": \"#000000\", \"size\": 8}, \"showarrow\": false, \"text\": \"2.99\", \"x\": 4, \"xref\": \"x\", \"y\": 10, \"yref\": \"y\"}, {\"font\": {\"color\": \"#FFFFFF\", \"size\": 8}, \"showarrow\": false, \"text\": \"-0.57\", \"x\": 5, \"xref\": \"x\", \"y\": 10, \"yref\": \"y\"}, {\"font\": {\"color\": \"#FFFFFF\", \"size\": 8}, \"showarrow\": false, \"text\": \"0.02\", \"x\": 6, \"xref\": \"x\", \"y\": 10, \"yref\": \"y\"}, {\"font\": {\"color\": \"#FFFFFF\", \"size\": 8}, \"showarrow\": false, \"text\": \"-1.02\", \"x\": 7, \"xref\": \"x\", \"y\": 10, \"yref\": \"y\"}, {\"font\": {\"color\": \"#FFFFFF\", \"size\": 8}, \"showarrow\": false, \"text\": \"-0.62\", \"x\": 8, \"xref\": \"x\", \"y\": 10, \"yref\": \"y\"}, {\"font\": {\"color\": \"#000000\", \"size\": 8}, \"showarrow\": false, \"text\": \"0.57\", \"x\": 9, \"xref\": \"x\", \"y\": 10, \"yref\": \"y\"}, {\"font\": {\"color\": \"#000000\", \"size\": 8}, \"showarrow\": false, \"text\": \"0.68\", \"x\": 10, \"xref\": \"x\", \"y\": 10, \"yref\": \"y\"}, {\"font\": {\"color\": \"#FFFFFF\", \"size\": 8}, \"showarrow\": false, \"text\": \"-0.61\", \"x\": 11, \"xref\": \"x\", \"y\": 10, \"yref\": \"y\"}, {\"font\": {\"color\": \"#000000\", \"size\": 8}, \"showarrow\": false, \"text\": \"0.29\", \"x\": 12, \"xref\": \"x\", \"y\": 10, \"yref\": \"y\"}, {\"font\": {\"color\": \"#FFFFFF\", \"size\": 8}, \"showarrow\": false, \"text\": \"-0.32\", \"x\": 13, \"xref\": \"x\", \"y\": 10, \"yref\": \"y\"}, {\"font\": {\"color\": \"#FFFFFF\", \"size\": 8}, \"showarrow\": false, \"text\": \"-1.67\", \"x\": 14, \"xref\": \"x\", \"y\": 10, \"yref\": \"y\"}, {\"font\": {\"color\": \"#000000\", \"size\": 8}, \"showarrow\": false, \"text\": \"0.66\", \"x\": 15, \"xref\": \"x\", \"y\": 10, \"yref\": \"y\"}, {\"font\": {\"color\": \"#FFFFFF\", \"size\": 8}, \"showarrow\": false, \"text\": \"-0.71\", \"x\": 16, \"xref\": \"x\", \"y\": 10, \"yref\": \"y\"}, {\"font\": {\"color\": \"#000000\", \"size\": 8}, \"showarrow\": false, \"text\": \"1.38\", \"x\": 17, \"xref\": \"x\", \"y\": 10, \"yref\": \"y\"}, {\"font\": {\"color\": \"#FFFFFF\", \"size\": 8}, \"showarrow\": false, \"text\": \"-0.95\", \"x\": 18, \"xref\": \"x\", \"y\": 10, \"yref\": \"y\"}, {\"font\": {\"color\": \"#FFFFFF\", \"size\": 8}, \"showarrow\": false, \"text\": \"0.11\", \"x\": 19, \"xref\": \"x\", \"y\": 10, \"yref\": \"y\"}, {\"font\": {\"color\": \"#000000\", \"size\": 8}, \"showarrow\": false, \"text\": \"0.28\", \"x\": 0, \"xref\": \"x\", \"y\": 11, \"yref\": \"y\"}, {\"font\": {\"color\": \"#000000\", \"size\": 8}, \"showarrow\": false, \"text\": \"0.87\", \"x\": 1, \"xref\": \"x\", \"y\": 11, \"yref\": \"y\"}, {\"font\": {\"color\": \"#FFFFFF\", \"size\": 8}, \"showarrow\": false, \"text\": \"0.05\", \"x\": 2, \"xref\": \"x\", \"y\": 11, \"yref\": \"y\"}, {\"font\": {\"color\": \"#FFFFFF\", \"size\": 8}, \"showarrow\": false, \"text\": \"-0.71\", \"x\": 3, \"xref\": \"x\", \"y\": 11, \"yref\": \"y\"}, {\"font\": {\"color\": \"#000000\", \"size\": 8}, \"showarrow\": false, \"text\": \"0.44\", \"x\": 4, \"xref\": \"x\", \"y\": 11, \"yref\": \"y\"}, {\"font\": {\"color\": \"#000000\", \"size\": 8}, \"showarrow\": false, \"text\": \"2.13\", \"x\": 5, \"xref\": \"x\", \"y\": 11, \"yref\": \"y\"}, {\"font\": {\"color\": \"#FFFFFF\", \"size\": 8}, \"showarrow\": false, \"text\": \"-0.85\", \"x\": 6, \"xref\": \"x\", \"y\": 11, \"yref\": \"y\"}, {\"font\": {\"color\": \"#000000\", \"size\": 8}, \"showarrow\": false, \"text\": \"0.29\", \"x\": 7, \"xref\": \"x\", \"y\": 11, \"yref\": \"y\"}, {\"font\": {\"color\": \"#FFFFFF\", \"size\": 8}, \"showarrow\": false, \"text\": \"-0.43\", \"x\": 8, \"xref\": \"x\", \"y\": 11, \"yref\": \"y\"}, {\"font\": {\"color\": \"#FFFFFF\", \"size\": 8}, \"showarrow\": false, \"text\": \"-0.34\", \"x\": 9, \"xref\": \"x\", \"y\": 11, \"yref\": \"y\"}, {\"font\": {\"color\": \"#000000\", \"size\": 8}, \"showarrow\": false, \"text\": \"1.81\", \"x\": 10, \"xref\": \"x\", \"y\": 11, \"yref\": \"y\"}, {\"font\": {\"color\": \"#000000\", \"size\": 8}, \"showarrow\": false, \"text\": \"1.69\", \"x\": 11, \"xref\": \"x\", \"y\": 11, \"yref\": \"y\"}, {\"font\": {\"color\": \"#000000\", \"size\": 8}, \"showarrow\": false, \"text\": \"0.44\", \"x\": 12, \"xref\": \"x\", \"y\": 11, \"yref\": \"y\"}, {\"font\": {\"color\": \"#000000\", \"size\": 8}, \"showarrow\": false, \"text\": \"0.27\", \"x\": 13, \"xref\": \"x\", \"y\": 11, \"yref\": \"y\"}, {\"font\": {\"color\": \"#000000\", \"size\": 8}, \"showarrow\": false, \"text\": \"0.79\", \"x\": 14, \"xref\": \"x\", \"y\": 11, \"yref\": \"y\"}, {\"font\": {\"color\": \"#FFFFFF\", \"size\": 8}, \"showarrow\": false, \"text\": \"-0.74\", \"x\": 15, \"xref\": \"x\", \"y\": 11, \"yref\": \"y\"}, {\"font\": {\"color\": \"#000000\", \"size\": 8}, \"showarrow\": false, \"text\": \"0.6\", \"x\": 16, \"xref\": \"x\", \"y\": 11, \"yref\": \"y\"}, {\"font\": {\"color\": \"#FFFFFF\", \"size\": 8}, \"showarrow\": false, \"text\": \"-0.14\", \"x\": 17, \"xref\": \"x\", \"y\": 11, \"yref\": \"y\"}, {\"font\": {\"color\": \"#FFFFFF\", \"size\": 8}, \"showarrow\": false, \"text\": \"-2.27\", \"x\": 18, \"xref\": \"x\", \"y\": 11, \"yref\": \"y\"}, {\"font\": {\"color\": \"#000000\", \"size\": 8}, \"showarrow\": false, \"text\": \"1.14\", \"x\": 19, \"xref\": \"x\", \"y\": 11, \"yref\": \"y\"}, {\"font\": {\"color\": \"#000000\", \"size\": 8}, \"showarrow\": false, \"text\": \"0.42\", \"x\": 0, \"xref\": \"x\", \"y\": 12, \"yref\": \"y\"}, {\"font\": {\"color\": \"#000000\", \"size\": 8}, \"showarrow\": false, \"text\": \"1.33\", \"x\": 1, \"xref\": \"x\", \"y\": 12, \"yref\": \"y\"}, {\"font\": {\"color\": \"#000000\", \"size\": 8}, \"showarrow\": false, \"text\": \"1.72\", \"x\": 2, \"xref\": \"x\", \"y\": 12, \"yref\": \"y\"}, {\"font\": {\"color\": \"#FFFFFF\", \"size\": 8}, \"showarrow\": false, \"text\": \"-1.65\", \"x\": 3, \"xref\": \"x\", \"y\": 12, \"yref\": \"y\"}, {\"font\": {\"color\": \"#000000\", \"size\": 8}, \"showarrow\": false, \"text\": \"1.78\", \"x\": 4, \"xref\": \"x\", \"y\": 12, \"yref\": \"y\"}, {\"font\": {\"color\": \"#FFFFFF\", \"size\": 8}, \"showarrow\": false, \"text\": \"-0.66\", \"x\": 5, \"xref\": \"x\", \"y\": 12, \"yref\": \"y\"}, {\"font\": {\"color\": \"#FFFFFF\", \"size\": 8}, \"showarrow\": false, \"text\": \"0.19\", \"x\": 6, \"xref\": \"x\", \"y\": 12, \"yref\": \"y\"}, {\"font\": {\"color\": \"#000000\", \"size\": 8}, \"showarrow\": false, \"text\": \"1.88\", \"x\": 7, \"xref\": \"x\", \"y\": 12, \"yref\": \"y\"}, {\"font\": {\"color\": \"#FFFFFF\", \"size\": 8}, \"showarrow\": false, \"text\": \"-1.03\", \"x\": 8, \"xref\": \"x\", \"y\": 12, \"yref\": \"y\"}, {\"font\": {\"color\": \"#000000\", \"size\": 8}, \"showarrow\": false, \"text\": \"0.62\", \"x\": 9, \"xref\": \"x\", \"y\": 12, \"yref\": \"y\"}, {\"font\": {\"color\": \"#000000\", \"size\": 8}, \"showarrow\": false, \"text\": \"1.51\", \"x\": 10, \"xref\": \"x\", \"y\": 12, \"yref\": \"y\"}, {\"font\": {\"color\": \"#FFFFFF\", \"size\": 8}, \"showarrow\": false, \"text\": \"-0.59\", \"x\": 11, \"xref\": \"x\", \"y\": 12, \"yref\": \"y\"}, {\"font\": {\"color\": \"#000000\", \"size\": 8}, \"showarrow\": false, \"text\": \"0.22\", \"x\": 12, \"xref\": \"x\", \"y\": 12, \"yref\": \"y\"}, {\"font\": {\"color\": \"#FFFFFF\", \"size\": 8}, \"showarrow\": false, \"text\": \"0.19\", \"x\": 13, \"xref\": \"x\", \"y\": 12, \"yref\": \"y\"}, {\"font\": {\"color\": \"#FFFFFF\", \"size\": 8}, \"showarrow\": false, \"text\": \"-0.43\", \"x\": 14, \"xref\": \"x\", \"y\": 12, \"yref\": \"y\"}, {\"font\": {\"color\": \"#FFFFFF\", \"size\": 8}, \"showarrow\": false, \"text\": \"-0.14\", \"x\": 15, \"xref\": \"x\", \"y\": 12, \"yref\": \"y\"}, {\"font\": {\"color\": \"#000000\", \"size\": 8}, \"showarrow\": false, \"text\": \"0.63\", \"x\": 16, \"xref\": \"x\", \"y\": 12, \"yref\": \"y\"}, {\"font\": {\"color\": \"#000000\", \"size\": 8}, \"showarrow\": false, \"text\": \"0.83\", \"x\": 17, \"xref\": \"x\", \"y\": 12, \"yref\": \"y\"}, {\"font\": {\"color\": \"#FFFFFF\", \"size\": 8}, \"showarrow\": false, \"text\": \"-1.53\", \"x\": 18, \"xref\": \"x\", \"y\": 12, \"yref\": \"y\"}, {\"font\": {\"color\": \"#000000\", \"size\": 8}, \"showarrow\": false, \"text\": \"0.46\", \"x\": 19, \"xref\": \"x\", \"y\": 12, \"yref\": \"y\"}, {\"font\": {\"color\": \"#FFFFFF\", \"size\": 8}, \"showarrow\": false, \"text\": \"-1.2\", \"x\": 0, \"xref\": \"x\", \"y\": 13, \"yref\": \"y\"}, {\"font\": {\"color\": \"#FFFFFF\", \"size\": 8}, \"showarrow\": false, \"text\": \"-0.63\", \"x\": 1, \"xref\": \"x\", \"y\": 13, \"yref\": \"y\"}, {\"font\": {\"color\": \"#000000\", \"size\": 8}, \"showarrow\": false, \"text\": \"0.7\", \"x\": 2, \"xref\": \"x\", \"y\": 13, \"yref\": \"y\"}, {\"font\": {\"color\": \"#FFFFFF\", \"size\": 8}, \"showarrow\": false, \"text\": \"-0.6\", \"x\": 3, \"xref\": \"x\", \"y\": 13, \"yref\": \"y\"}, {\"font\": {\"color\": \"#FFFFFF\", \"size\": 8}, \"showarrow\": false, \"text\": \"-1.55\", \"x\": 4, \"xref\": \"x\", \"y\": 13, \"yref\": \"y\"}, {\"font\": {\"color\": \"#FFFFFF\", \"size\": 8}, \"showarrow\": false, \"text\": \"-0.39\", \"x\": 5, \"xref\": \"x\", \"y\": 13, \"yref\": \"y\"}, {\"font\": {\"color\": \"#FFFFFF\", \"size\": 8}, \"showarrow\": false, \"text\": \"-1.68\", \"x\": 6, \"xref\": \"x\", \"y\": 13, \"yref\": \"y\"}, {\"font\": {\"color\": \"#000000\", \"size\": 8}, \"showarrow\": false, \"text\": \"0.64\", \"x\": 7, \"xref\": \"x\", \"y\": 13, \"yref\": \"y\"}, {\"font\": {\"color\": \"#FFFFFF\", \"size\": 8}, \"showarrow\": false, \"text\": \"-1.92\", \"x\": 8, \"xref\": \"x\", \"y\": 13, \"yref\": \"y\"}, {\"font\": {\"color\": \"#FFFFFF\", \"size\": 8}, \"showarrow\": false, \"text\": \"-0.56\", \"x\": 9, \"xref\": \"x\", \"y\": 13, \"yref\": \"y\"}, {\"font\": {\"color\": \"#000000\", \"size\": 8}, \"showarrow\": false, \"text\": \"0.88\", \"x\": 10, \"xref\": \"x\", \"y\": 13, \"yref\": \"y\"}, {\"font\": {\"color\": \"#FFFFFF\", \"size\": 8}, \"showarrow\": false, \"text\": \"-1.93\", \"x\": 11, \"xref\": \"x\", \"y\": 13, \"yref\": \"y\"}, {\"font\": {\"color\": \"#FFFFFF\", \"size\": 8}, \"showarrow\": false, \"text\": \"-0.65\", \"x\": 12, \"xref\": \"x\", \"y\": 13, \"yref\": \"y\"}, {\"font\": {\"color\": \"#FFFFFF\", \"size\": 8}, \"showarrow\": false, \"text\": \"-0.97\", \"x\": 13, \"xref\": \"x\", \"y\": 13, \"yref\": \"y\"}, {\"font\": {\"color\": \"#000000\", \"size\": 8}, \"showarrow\": false, \"text\": \"2.83\", \"x\": 14, \"xref\": \"x\", \"y\": 13, \"yref\": \"y\"}, {\"font\": {\"color\": \"#000000\", \"size\": 8}, \"showarrow\": false, \"text\": \"0.45\", \"x\": 15, \"xref\": \"x\", \"y\": 13, \"yref\": \"y\"}, {\"font\": {\"color\": \"#FFFFFF\", \"size\": 8}, \"showarrow\": false, \"text\": \"0.19\", \"x\": 16, \"xref\": \"x\", \"y\": 13, \"yref\": \"y\"}, {\"font\": {\"color\": \"#000000\", \"size\": 8}, \"showarrow\": false, \"text\": \"0.24\", \"x\": 17, \"xref\": \"x\", \"y\": 13, \"yref\": \"y\"}, {\"font\": {\"color\": \"#000000\", \"size\": 8}, \"showarrow\": false, \"text\": \"2.29\", \"x\": 18, \"xref\": \"x\", \"y\": 13, \"yref\": \"y\"}, {\"font\": {\"color\": \"#000000\", \"size\": 8}, \"showarrow\": false, \"text\": \"0.68\", \"x\": 19, \"xref\": \"x\", \"y\": 13, \"yref\": \"y\"}, {\"font\": {\"color\": \"#000000\", \"size\": 8}, \"showarrow\": false, \"text\": \"0.44\", \"x\": 0, \"xref\": \"x\", \"y\": 14, \"yref\": \"y\"}, {\"font\": {\"color\": \"#FFFFFF\", \"size\": 8}, \"showarrow\": false, \"text\": \"-0.74\", \"x\": 1, \"xref\": \"x\", \"y\": 14, \"yref\": \"y\"}, {\"font\": {\"color\": \"#000000\", \"size\": 8}, \"showarrow\": false, \"text\": \"1.47\", \"x\": 2, \"xref\": \"x\", \"y\": 14, \"yref\": \"y\"}, {\"font\": {\"color\": \"#FFFFFF\", \"size\": 8}, \"showarrow\": false, \"text\": \"-1.68\", \"x\": 3, \"xref\": \"x\", \"y\": 14, \"yref\": \"y\"}, {\"font\": {\"color\": \"#FFFFFF\", \"size\": 8}, \"showarrow\": false, \"text\": \"-0.87\", \"x\": 4, \"xref\": \"x\", \"y\": 14, \"yref\": \"y\"}, {\"font\": {\"color\": \"#FFFFFF\", \"size\": 8}, \"showarrow\": false, \"text\": \"-1.64\", \"x\": 5, \"xref\": \"x\", \"y\": 14, \"yref\": \"y\"}, {\"font\": {\"color\": \"#FFFFFF\", \"size\": 8}, \"showarrow\": false, \"text\": \"-2.64\", \"x\": 6, \"xref\": \"x\", \"y\": 14, \"yref\": \"y\"}, {\"font\": {\"color\": \"#FFFFFF\", \"size\": 8}, \"showarrow\": false, \"text\": \"-0.27\", \"x\": 7, \"xref\": \"x\", \"y\": 14, \"yref\": \"y\"}, {\"font\": {\"color\": \"#000000\", \"size\": 8}, \"showarrow\": false, \"text\": \"0.46\", \"x\": 8, \"xref\": \"x\", \"y\": 14, \"yref\": \"y\"}, {\"font\": {\"color\": \"#FFFFFF\", \"size\": 8}, \"showarrow\": false, \"text\": \"-1.32\", \"x\": 9, \"xref\": \"x\", \"y\": 14, \"yref\": \"y\"}, {\"font\": {\"color\": \"#FFFFFF\", \"size\": 8}, \"showarrow\": false, \"text\": \"-0.39\", \"x\": 10, \"xref\": \"x\", \"y\": 14, \"yref\": \"y\"}, {\"font\": {\"color\": \"#000000\", \"size\": 8}, \"showarrow\": false, \"text\": \"1.49\", \"x\": 11, \"xref\": \"x\", \"y\": 14, \"yref\": \"y\"}, {\"font\": {\"color\": \"#000000\", \"size\": 8}, \"showarrow\": false, \"text\": \"0.92\", \"x\": 12, \"xref\": \"x\", \"y\": 14, \"yref\": \"y\"}, {\"font\": {\"color\": \"#FFFFFF\", \"size\": 8}, \"showarrow\": false, \"text\": \"-0.01\", \"x\": 13, \"xref\": \"x\", \"y\": 14, \"yref\": \"y\"}, {\"font\": {\"color\": \"#000000\", \"size\": 8}, \"showarrow\": false, \"text\": \"1.03\", \"x\": 14, \"xref\": \"x\", \"y\": 14, \"yref\": \"y\"}, {\"font\": {\"color\": \"#FFFFFF\", \"size\": 8}, \"showarrow\": false, \"text\": \"-0.0\", \"x\": 15, \"xref\": \"x\", \"y\": 14, \"yref\": \"y\"}, {\"font\": {\"color\": \"#000000\", \"size\": 8}, \"showarrow\": false, \"text\": \"0.56\", \"x\": 16, \"xref\": \"x\", \"y\": 14, \"yref\": \"y\"}, {\"font\": {\"color\": \"#FFFFFF\", \"size\": 8}, \"showarrow\": false, \"text\": \"-1.16\", \"x\": 17, \"xref\": \"x\", \"y\": 14, \"yref\": \"y\"}, {\"font\": {\"color\": \"#FFFFFF\", \"size\": 8}, \"showarrow\": false, \"text\": \"-0.23\", \"x\": 18, \"xref\": \"x\", \"y\": 14, \"yref\": \"y\"}, {\"font\": {\"color\": \"#FFFFFF\", \"size\": 8}, \"showarrow\": false, \"text\": \"-1.3\", \"x\": 19, \"xref\": \"x\", \"y\": 14, \"yref\": \"y\"}, {\"font\": {\"color\": \"#FFFFFF\", \"size\": 8}, \"showarrow\": false, \"text\": \"-0.52\", \"x\": 0, \"xref\": \"x\", \"y\": 15, \"yref\": \"y\"}, {\"font\": {\"color\": \"#FFFFFF\", \"size\": 8}, \"showarrow\": false, \"text\": \"-1.03\", \"x\": 1, \"xref\": \"x\", \"y\": 15, \"yref\": \"y\"}, {\"font\": {\"color\": \"#000000\", \"size\": 8}, \"showarrow\": false, \"text\": \"0.3\", \"x\": 2, \"xref\": \"x\", \"y\": 15, \"yref\": \"y\"}, {\"font\": {\"color\": \"#FFFFFF\", \"size\": 8}, \"showarrow\": false, \"text\": \"-0.64\", \"x\": 3, \"xref\": \"x\", \"y\": 15, \"yref\": \"y\"}, {\"font\": {\"color\": \"#FFFFFF\", \"size\": 8}, \"showarrow\": false, \"text\": \"-0.29\", \"x\": 4, \"xref\": \"x\", \"y\": 15, \"yref\": \"y\"}, {\"font\": {\"color\": \"#000000\", \"size\": 8}, \"showarrow\": false, \"text\": \"1.09\", \"x\": 5, \"xref\": \"x\", \"y\": 15, \"yref\": \"y\"}, {\"font\": {\"color\": \"#FFFFFF\", \"size\": 8}, \"showarrow\": false, \"text\": \"-1.7\", \"x\": 6, \"xref\": \"x\", \"y\": 15, \"yref\": \"y\"}, {\"font\": {\"color\": \"#FFFFFF\", \"size\": 8}, \"showarrow\": false, \"text\": \"-0.26\", \"x\": 7, \"xref\": \"x\", \"y\": 15, \"yref\": \"y\"}, {\"font\": {\"color\": \"#FFFFFF\", \"size\": 8}, \"showarrow\": false, \"text\": \"-0.02\", \"x\": 8, \"xref\": \"x\", \"y\": 15, \"yref\": \"y\"}, {\"font\": {\"color\": \"#000000\", \"size\": 8}, \"showarrow\": false, \"text\": \"0.39\", \"x\": 9, \"xref\": \"x\", \"y\": 15, \"yref\": \"y\"}, {\"font\": {\"color\": \"#000000\", \"size\": 8}, \"showarrow\": false, \"text\": \"0.94\", \"x\": 10, \"xref\": \"x\", \"y\": 15, \"yref\": \"y\"}, {\"font\": {\"color\": \"#000000\", \"size\": 8}, \"showarrow\": false, \"text\": \"0.73\", \"x\": 11, \"xref\": \"x\", \"y\": 15, \"yref\": \"y\"}, {\"font\": {\"color\": \"#FFFFFF\", \"size\": 8}, \"showarrow\": false, \"text\": \"-2.29\", \"x\": 12, \"xref\": \"x\", \"y\": 15, \"yref\": \"y\"}, {\"font\": {\"color\": \"#FFFFFF\", \"size\": 8}, \"showarrow\": false, \"text\": \"-0.74\", \"x\": 13, \"xref\": \"x\", \"y\": 15, \"yref\": \"y\"}, {\"font\": {\"color\": \"#FFFFFF\", \"size\": 8}, \"showarrow\": false, \"text\": \"-0.03\", \"x\": 14, \"xref\": \"x\", \"y\": 15, \"yref\": \"y\"}, {\"font\": {\"color\": \"#FFFFFF\", \"size\": 8}, \"showarrow\": false, \"text\": \"-0.12\", \"x\": 15, \"xref\": \"x\", \"y\": 15, \"yref\": \"y\"}, {\"font\": {\"color\": \"#FFFFFF\", \"size\": 8}, \"showarrow\": false, \"text\": \"-0.58\", \"x\": 16, \"xref\": \"x\", \"y\": 15, \"yref\": \"y\"}, {\"font\": {\"color\": \"#000000\", \"size\": 8}, \"showarrow\": false, \"text\": \"1.9\", \"x\": 17, \"xref\": \"x\", \"y\": 15, \"yref\": \"y\"}, {\"font\": {\"color\": \"#000000\", \"size\": 8}, \"showarrow\": false, \"text\": \"0.74\", \"x\": 18, \"xref\": \"x\", \"y\": 15, \"yref\": \"y\"}, {\"font\": {\"color\": \"#FFFFFF\", \"size\": 8}, \"showarrow\": false, \"text\": \"-0.69\", \"x\": 19, \"xref\": \"x\", \"y\": 15, \"yref\": \"y\"}, {\"font\": {\"color\": \"#000000\", \"size\": 8}, \"showarrow\": false, \"text\": \"0.99\", \"x\": 0, \"xref\": \"x\", \"y\": 16, \"yref\": \"y\"}, {\"font\": {\"color\": \"#FFFFFF\", \"size\": 8}, \"showarrow\": false, \"text\": \"0.04\", \"x\": 1, \"xref\": \"x\", \"y\": 16, \"yref\": \"y\"}, {\"font\": {\"color\": \"#000000\", \"size\": 8}, \"showarrow\": false, \"text\": \"1.83\", \"x\": 2, \"xref\": \"x\", \"y\": 16, \"yref\": \"y\"}, {\"font\": {\"color\": \"#FFFFFF\", \"size\": 8}, \"showarrow\": false, \"text\": \"-2.08\", \"x\": 3, \"xref\": \"x\", \"y\": 16, \"yref\": \"y\"}, {\"font\": {\"color\": \"#FFFFFF\", \"size\": 8}, \"showarrow\": false, \"text\": \"-0.66\", \"x\": 4, \"xref\": \"x\", \"y\": 16, \"yref\": \"y\"}, {\"font\": {\"color\": \"#FFFFFF\", \"size\": 8}, \"showarrow\": false, \"text\": \"-0.62\", \"x\": 5, \"xref\": \"x\", \"y\": 16, \"yref\": \"y\"}, {\"font\": {\"color\": \"#FFFFFF\", \"size\": 8}, \"showarrow\": false, \"text\": \"-0.03\", \"x\": 6, \"xref\": \"x\", \"y\": 16, \"yref\": \"y\"}, {\"font\": {\"color\": \"#FFFFFF\", \"size\": 8}, \"showarrow\": false, \"text\": \"-0.07\", \"x\": 7, \"xref\": \"x\", \"y\": 16, \"yref\": \"y\"}, {\"font\": {\"color\": \"#FFFFFF\", \"size\": 8}, \"showarrow\": false, \"text\": \"0.09\", \"x\": 8, \"xref\": \"x\", \"y\": 16, \"yref\": \"y\"}, {\"font\": {\"color\": \"#FFFFFF\", \"size\": 8}, \"showarrow\": false, \"text\": \"0.02\", \"x\": 9, \"xref\": \"x\", \"y\": 16, \"yref\": \"y\"}, {\"font\": {\"color\": \"#FFFFFF\", \"size\": 8}, \"showarrow\": false, \"text\": \"-0.31\", \"x\": 10, \"xref\": \"x\", \"y\": 16, \"yref\": \"y\"}, {\"font\": {\"color\": \"#FFFFFF\", \"size\": 8}, \"showarrow\": false, \"text\": \"-0.53\", \"x\": 11, \"xref\": \"x\", \"y\": 16, \"yref\": \"y\"}, {\"font\": {\"color\": \"#FFFFFF\", \"size\": 8}, \"showarrow\": false, \"text\": \"-0.81\", \"x\": 12, \"xref\": \"x\", \"y\": 16, \"yref\": \"y\"}, {\"font\": {\"color\": \"#FFFFFF\", \"size\": 8}, \"showarrow\": false, \"text\": \"-1.85\", \"x\": 13, \"xref\": \"x\", \"y\": 16, \"yref\": \"y\"}, {\"font\": {\"color\": \"#FFFFFF\", \"size\": 8}, \"showarrow\": false, \"text\": \"-1.84\", \"x\": 14, \"xref\": \"x\", \"y\": 16, \"yref\": \"y\"}, {\"font\": {\"color\": \"#FFFFFF\", \"size\": 8}, \"showarrow\": false, \"text\": \"-0.3\", \"x\": 15, \"xref\": \"x\", \"y\": 16, \"yref\": \"y\"}, {\"font\": {\"color\": \"#000000\", \"size\": 8}, \"showarrow\": false, \"text\": \"1.94\", \"x\": 16, \"xref\": \"x\", \"y\": 16, \"yref\": \"y\"}, {\"font\": {\"color\": \"#000000\", \"size\": 8}, \"showarrow\": false, \"text\": \"1.6\", \"x\": 17, \"xref\": \"x\", \"y\": 16, \"yref\": \"y\"}, {\"font\": {\"color\": \"#FFFFFF\", \"size\": 8}, \"showarrow\": false, \"text\": \"-1.63\", \"x\": 18, \"xref\": \"x\", \"y\": 16, \"yref\": \"y\"}, {\"font\": {\"color\": \"#000000\", \"size\": 8}, \"showarrow\": false, \"text\": \"1.2\", \"x\": 19, \"xref\": \"x\", \"y\": 16, \"yref\": \"y\"}, {\"font\": {\"color\": \"#FFFFFF\", \"size\": 8}, \"showarrow\": false, \"text\": \"-0.17\", \"x\": 0, \"xref\": \"x\", \"y\": 17, \"yref\": \"y\"}, {\"font\": {\"color\": \"#000000\", \"size\": 8}, \"showarrow\": false, \"text\": \"0.46\", \"x\": 1, \"xref\": \"x\", \"y\": 17, \"yref\": \"y\"}, {\"font\": {\"color\": \"#FFFFFF\", \"size\": 8}, \"showarrow\": false, \"text\": \"0.21\", \"x\": 2, \"xref\": \"x\", \"y\": 17, \"yref\": \"y\"}, {\"font\": {\"color\": \"#000000\", \"size\": 8}, \"showarrow\": false, \"text\": \"2.7\", \"x\": 3, \"xref\": \"x\", \"y\": 17, \"yref\": \"y\"}, {\"font\": {\"color\": \"#000000\", \"size\": 8}, \"showarrow\": false, \"text\": \"0.61\", \"x\": 4, \"xref\": \"x\", \"y\": 17, \"yref\": \"y\"}, {\"font\": {\"color\": \"#000000\", \"size\": 8}, \"showarrow\": false, \"text\": \"1.31\", \"x\": 5, \"xref\": \"x\", \"y\": 17, \"yref\": \"y\"}, {\"font\": {\"color\": \"#000000\", \"size\": 8}, \"showarrow\": false, \"text\": \"0.36\", \"x\": 6, \"xref\": \"x\", \"y\": 17, \"yref\": \"y\"}, {\"font\": {\"color\": \"#FFFFFF\", \"size\": 8}, \"showarrow\": false, \"text\": \"-0.74\", \"x\": 7, \"xref\": \"x\", \"y\": 17, \"yref\": \"y\"}, {\"font\": {\"color\": \"#FFFFFF\", \"size\": 8}, \"showarrow\": false, \"text\": \"-0.28\", \"x\": 8, \"xref\": \"x\", \"y\": 17, \"yref\": \"y\"}, {\"font\": {\"color\": \"#000000\", \"size\": 8}, \"showarrow\": false, \"text\": \"2.47\", \"x\": 9, \"xref\": \"x\", \"y\": 17, \"yref\": \"y\"}, {\"font\": {\"color\": \"#FFFFFF\", \"size\": 8}, \"showarrow\": false, \"text\": \"0.01\", \"x\": 10, \"xref\": \"x\", \"y\": 17, \"yref\": \"y\"}, {\"font\": {\"color\": \"#FFFFFF\", \"size\": 8}, \"showarrow\": false, \"text\": \"-1.63\", \"x\": 11, \"xref\": \"x\", \"y\": 17, \"yref\": \"y\"}, {\"font\": {\"color\": \"#FFFFFF\", \"size\": 8}, \"showarrow\": false, \"text\": \"-0.35\", \"x\": 12, \"xref\": \"x\", \"y\": 17, \"yref\": \"y\"}, {\"font\": {\"color\": \"#000000\", \"size\": 8}, \"showarrow\": false, \"text\": \"1.28\", \"x\": 13, \"xref\": \"x\", \"y\": 17, \"yref\": \"y\"}, {\"font\": {\"color\": \"#FFFFFF\", \"size\": 8}, \"showarrow\": false, \"text\": \"-0.07\", \"x\": 14, \"xref\": \"x\", \"y\": 17, \"yref\": \"y\"}, {\"font\": {\"color\": \"#FFFFFF\", \"size\": 8}, \"showarrow\": false, \"text\": \"-0.05\", \"x\": 15, \"xref\": \"x\", \"y\": 17, \"yref\": \"y\"}, {\"font\": {\"color\": \"#000000\", \"size\": 8}, \"showarrow\": false, \"text\": \"1.38\", \"x\": 16, \"xref\": \"x\", \"y\": 17, \"yref\": \"y\"}, {\"font\": {\"color\": \"#000000\", \"size\": 8}, \"showarrow\": false, \"text\": \"1.05\", \"x\": 17, \"xref\": \"x\", \"y\": 17, \"yref\": \"y\"}, {\"font\": {\"color\": \"#FFFFFF\", \"size\": 8}, \"showarrow\": false, \"text\": \"0.01\", \"x\": 18, \"xref\": \"x\", \"y\": 17, \"yref\": \"y\"}, {\"font\": {\"color\": \"#FFFFFF\", \"size\": 8}, \"showarrow\": false, \"text\": \"-0.37\", \"x\": 19, \"xref\": \"x\", \"y\": 17, \"yref\": \"y\"}, {\"font\": {\"color\": \"#FFFFFF\", \"size\": 8}, \"showarrow\": false, \"text\": \"-0.26\", \"x\": 0, \"xref\": \"x\", \"y\": 18, \"yref\": \"y\"}, {\"font\": {\"color\": \"#FFFFFF\", \"size\": 8}, \"showarrow\": false, \"text\": \"0.06\", \"x\": 1, \"xref\": \"x\", \"y\": 18, \"yref\": \"y\"}, {\"font\": {\"color\": \"#FFFFFF\", \"size\": 8}, \"showarrow\": false, \"text\": \"-1.37\", \"x\": 2, \"xref\": \"x\", \"y\": 18, \"yref\": \"y\"}, {\"font\": {\"color\": \"#FFFFFF\", \"size\": 8}, \"showarrow\": false, \"text\": \"-1.53\", \"x\": 3, \"xref\": \"x\", \"y\": 18, \"yref\": \"y\"}, {\"font\": {\"color\": \"#000000\", \"size\": 8}, \"showarrow\": false, \"text\": \"1.29\", \"x\": 4, \"xref\": \"x\", \"y\": 18, \"yref\": \"y\"}, {\"font\": {\"color\": \"#FFFFFF\", \"size\": 8}, \"showarrow\": false, \"text\": \"-0.17\", \"x\": 5, \"xref\": \"x\", \"y\": 18, \"yref\": \"y\"}, {\"font\": {\"color\": \"#000000\", \"size\": 8}, \"showarrow\": false, \"text\": \"1.25\", \"x\": 6, \"xref\": \"x\", \"y\": 18, \"yref\": \"y\"}, {\"font\": {\"color\": \"#FFFFFF\", \"size\": 8}, \"showarrow\": false, \"text\": \"-0.35\", \"x\": 7, \"xref\": \"x\", \"y\": 18, \"yref\": \"y\"}, {\"font\": {\"color\": \"#000000\", \"size\": 8}, \"showarrow\": false, \"text\": \"0.58\", \"x\": 8, \"xref\": \"x\", \"y\": 18, \"yref\": \"y\"}, {\"font\": {\"color\": \"#FFFFFF\", \"size\": 8}, \"showarrow\": false, \"text\": \"-1.13\", \"x\": 9, \"xref\": \"x\", \"y\": 18, \"yref\": \"y\"}, {\"font\": {\"color\": \"#FFFFFF\", \"size\": 8}, \"showarrow\": false, \"text\": \"-0.17\", \"x\": 10, \"xref\": \"x\", \"y\": 18, \"yref\": \"y\"}, {\"font\": {\"color\": \"#000000\", \"size\": 8}, \"showarrow\": false, \"text\": \"2.15\", \"x\": 11, \"xref\": \"x\", \"y\": 18, \"yref\": \"y\"}, {\"font\": {\"color\": \"#FFFFFF\", \"size\": 8}, \"showarrow\": false, \"text\": \"0.19\", \"x\": 12, \"xref\": \"x\", \"y\": 18, \"yref\": \"y\"}, {\"font\": {\"color\": \"#000000\", \"size\": 8}, \"showarrow\": false, \"text\": \"1.4\", \"x\": 13, \"xref\": \"x\", \"y\": 18, \"yref\": \"y\"}, {\"font\": {\"color\": \"#000000\", \"size\": 8}, \"showarrow\": false, \"text\": \"0.4\", \"x\": 14, \"xref\": \"x\", \"y\": 18, \"yref\": \"y\"}, {\"font\": {\"color\": \"#000000\", \"size\": 8}, \"showarrow\": false, \"text\": \"0.49\", \"x\": 15, \"xref\": \"x\", \"y\": 18, \"yref\": \"y\"}, {\"font\": {\"color\": \"#000000\", \"size\": 8}, \"showarrow\": false, \"text\": \"0.71\", \"x\": 16, \"xref\": \"x\", \"y\": 18, \"yref\": \"y\"}, {\"font\": {\"color\": \"#FFFFFF\", \"size\": 8}, \"showarrow\": false, \"text\": \"0.1\", \"x\": 17, \"xref\": \"x\", \"y\": 18, \"yref\": \"y\"}, {\"font\": {\"color\": \"#000000\", \"size\": 8}, \"showarrow\": false, \"text\": \"0.27\", \"x\": 18, \"xref\": \"x\", \"y\": 18, \"yref\": \"y\"}, {\"font\": {\"color\": \"#FFFFFF\", \"size\": 8}, \"showarrow\": false, \"text\": \"-0.6\", \"x\": 19, \"xref\": \"x\", \"y\": 18, \"yref\": \"y\"}, {\"font\": {\"color\": \"#FFFFFF\", \"size\": 8}, \"showarrow\": false, \"text\": \"-0.01\", \"x\": 0, \"xref\": \"x\", \"y\": 19, \"yref\": \"y\"}, {\"font\": {\"color\": \"#FFFFFF\", \"size\": 8}, \"showarrow\": false, \"text\": \"-1.74\", \"x\": 1, \"xref\": \"x\", \"y\": 19, \"yref\": \"y\"}, {\"font\": {\"color\": \"#FFFFFF\", \"size\": 8}, \"showarrow\": false, \"text\": \"-1.16\", \"x\": 2, \"xref\": \"x\", \"y\": 19, \"yref\": \"y\"}, {\"font\": {\"color\": \"#000000\", \"size\": 8}, \"showarrow\": false, \"text\": \"0.45\", \"x\": 3, \"xref\": \"x\", \"y\": 19, \"yref\": \"y\"}, {\"font\": {\"color\": \"#FFFFFF\", \"size\": 8}, \"showarrow\": false, \"text\": \"-0.22\", \"x\": 4, \"xref\": \"x\", \"y\": 19, \"yref\": \"y\"}, {\"font\": {\"color\": \"#FFFFFF\", \"size\": 8}, \"showarrow\": false, \"text\": \"-1.34\", \"x\": 5, \"xref\": \"x\", \"y\": 19, \"yref\": \"y\"}, {\"font\": {\"color\": \"#FFFFFF\", \"size\": 8}, \"showarrow\": false, \"text\": \"-0.21\", \"x\": 6, \"xref\": \"x\", \"y\": 19, \"yref\": \"y\"}, {\"font\": {\"color\": \"#000000\", \"size\": 8}, \"showarrow\": false, \"text\": \"0.76\", \"x\": 7, \"xref\": \"x\", \"y\": 19, \"yref\": \"y\"}, {\"font\": {\"color\": \"#FFFFFF\", \"size\": 8}, \"showarrow\": false, \"text\": \"-0.99\", \"x\": 8, \"xref\": \"x\", \"y\": 19, \"yref\": \"y\"}, {\"font\": {\"color\": \"#000000\", \"size\": 8}, \"showarrow\": false, \"text\": \"1.51\", \"x\": 9, \"xref\": \"x\", \"y\": 19, \"yref\": \"y\"}, {\"font\": {\"color\": \"#000000\", \"size\": 8}, \"showarrow\": false, \"text\": \"0.52\", \"x\": 10, \"xref\": \"x\", \"y\": 19, \"yref\": \"y\"}, {\"font\": {\"color\": \"#FFFFFF\", \"size\": 8}, \"showarrow\": false, \"text\": \"-0.59\", \"x\": 11, \"xref\": \"x\", \"y\": 19, \"yref\": \"y\"}, {\"font\": {\"color\": \"#FFFFFF\", \"size\": 8}, \"showarrow\": false, \"text\": \"-0.1\", \"x\": 12, \"xref\": \"x\", \"y\": 19, \"yref\": \"y\"}, {\"font\": {\"color\": \"#000000\", \"size\": 8}, \"showarrow\": false, \"text\": \"0.28\", \"x\": 13, \"xref\": \"x\", \"y\": 19, \"yref\": \"y\"}, {\"font\": {\"color\": \"#FFFFFF\", \"size\": 8}, \"showarrow\": false, \"text\": \"-0.11\", \"x\": 14, \"xref\": \"x\", \"y\": 19, \"yref\": \"y\"}, {\"font\": {\"color\": \"#FFFFFF\", \"size\": 8}, \"showarrow\": false, \"text\": \"-0.39\", \"x\": 15, \"xref\": \"x\", \"y\": 19, \"yref\": \"y\"}, {\"font\": {\"color\": \"#000000\", \"size\": 8}, \"showarrow\": false, \"text\": \"0.29\", \"x\": 16, \"xref\": \"x\", \"y\": 19, \"yref\": \"y\"}, {\"font\": {\"color\": \"#000000\", \"size\": 8}, \"showarrow\": false, \"text\": \"0.47\", \"x\": 17, \"xref\": \"x\", \"y\": 19, \"yref\": \"y\"}, {\"font\": {\"color\": \"#000000\", \"size\": 8}, \"showarrow\": false, \"text\": \"1.98\", \"x\": 18, \"xref\": \"x\", \"y\": 19, \"yref\": \"y\"}, {\"font\": {\"color\": \"#FFFFFF\", \"size\": 8}, \"showarrow\": false, \"text\": \"-0.17\", \"x\": 19, \"xref\": \"x\", \"y\": 19, \"yref\": \"y\"}], \"xaxis\": {\"gridcolor\": \"rgb(0, 0, 0)\", \"showticklabels\": false, \"side\": \"top\", \"ticks\": \"\"}, \"yaxis\": {\"showticklabels\": false, \"ticks\": \"\", \"ticksuffix\": \"  \"}},\n",
       "                        {\"showLink\": false, \"linkText\": \"Export to plot.ly\", \"plotlyServerURL\": \"https://plot.ly\", \"responsive\": true}\n",
       "                    ).then(function(){\n",
       "                            \n",
       "var gd = document.getElementById('62dcef8f-8d8b-412e-b4f6-1bf9e2ffaa30');\n",
       "var x = new MutationObserver(function (mutations, observer) {{\n",
       "        var display = window.getComputedStyle(gd).display;\n",
       "        if (!display || display === 'none') {{\n",
       "            console.log([gd, 'removed!']);\n",
       "            Plotly.purge(gd);\n",
       "            observer.disconnect();\n",
       "        }}\n",
       "}});\n",
       "\n",
       "// Listen for the removal of the full notebook cells\n",
       "var notebookContainer = gd.closest('#notebook-container');\n",
       "if (notebookContainer) {{\n",
       "    x.observe(notebookContainer, {childList: true});\n",
       "}}\n",
       "\n",
       "// Listen for the clearing of the current output cell\n",
       "var outputEl = gd.closest('.output');\n",
       "if (outputEl) {{\n",
       "    x.observe(outputEl, {childList: true});\n",
       "}}\n",
       "\n",
       "                        })\n",
       "                };\n",
       "                });\n",
       "            </script>\n",
       "        </div>"
      ]
     },
     "metadata": {},
     "output_type": "display_data"
    }
   ],
   "source": [
    "import plotly.plotly as py\n",
    "from plotly.tools import FigureFactory as FF\n",
    "import numpy as np\n",
    "\n",
    "z = np.random.randn(20, 20)\n",
    "z_text = np.around(z, decimals=2) # Only show rounded value (full value on hover)\n",
    "\n",
    "fig = FF.create_annotated_heatmap(z, annotation_text=z_text, colorscale='Greys', hoverinfo='z')\n",
    "\n",
    "# Make text size smaller\n",
    "for i in range(len(fig.layout.annotations)):\n",
    "    fig.layout.annotations[i].font.size = 8\n",
    "    \n",
    "iplot(fig, filename='annotated_heatmap_numpy')"
   ]
  },
  {
   "cell_type": "markdown",
   "metadata": {},
   "source": [
    "#### Custom Hovertext"
   ]
  },
  {
   "cell_type": "code",
   "execution_count": 11,
   "metadata": {},
   "outputs": [
    {
     "data": {
      "application/vnd.plotly.v1+json": {
       "config": {
        "linkText": "Export to plot.ly",
        "plotlyServerURL": "https://plot.ly",
        "showLink": false
       },
       "data": [
        {
         "colorscale": [
          [
           0,
           "rgb(255,255,255)"
          ],
          [
           0.2,
           "rgb(255, 255, 153)"
          ],
          [
           0.4,
           "rgb(153, 255, 204)"
          ],
          [
           0.6,
           "rgb(179, 217, 255)"
          ],
          [
           0.8,
           "rgb(240, 179, 255)"
          ],
          [
           1,
           "rgb(255, 77, 148)"
          ]
         ],
         "hoverinfo": "text",
         "reversescale": false,
         "showscale": false,
         "text": [
          [
           "<br>Atomic Mass: 0.0",
           "<br>Atomic Mass: 0.0",
           "<br>Atomic Mass: 0.0",
           "<br>Atomic Mass: 0.0",
           "<br>Atomic Mass: 0.0",
           "<br>Atomic Mass: 0.0",
           "<br>Atomic Mass: 0.0",
           "<br>Atomic Mass: 0.0",
           "<br>Atomic Mass: 0.0",
           "<br>Atomic Mass: 0.0",
           "<br>Atomic Mass: 0.0",
           "<br>Atomic Mass: 0.0",
           "<br>Atomic Mass: 0.0",
           "<br>Atomic Mass: 0.0",
           "<br>Atomic Mass: 0.0",
           "<br>Atomic Mass: 0.0",
           "<br>Atomic Mass: 0.0",
           "<br>Atomic Mass: 0.0"
          ],
          [
           "<br>Atomic Mass: 0.0",
           "<br>Atomic Mass: 0.0",
           "<br>Atomic Mass: 0.0",
           "<br>Atomic Mass: 0.0",
           "<br>Atomic Mass: 0.0",
           "<br>Atomic Mass: 0.0",
           "<br>Atomic Mass: 0.0",
           "<br>Atomic Mass: 0.0",
           "<br>Atomic Mass: 0.0",
           "<br>Atomic Mass: 0.0",
           "<br>Atomic Mass: 0.0",
           "<br>Atomic Mass: 0.0",
           "<br>Atomic Mass: 0.0",
           "<br>Atomic Mass: 0.0",
           "<br>Atomic Mass: 0.0",
           "<br>Atomic Mass: 0.0",
           "<br>Atomic Mass: 0.0",
           "<br>Atomic Mass: 0.0"
          ],
          [
           "<br>Atomic Mass: 0.0",
           "<br>Atomic Mass: 0.0",
           "<br>Atomic Mass: 0.0",
           "<br>Atomic Mass: 0.0",
           "<br>Atomic Mass: 0.0",
           "<br>Atomic Mass: 0.0",
           "<br>Atomic Mass: 0.0",
           "<br>Atomic Mass: 0.0",
           "<br>Atomic Mass: 0.0",
           "<br>Atomic Mass: 0.0",
           "<br>Atomic Mass: 0.0",
           "<br>Atomic Mass: 0.0",
           "<br>Atomic Mass: 0.0",
           "<br>Atomic Mass: 0.0",
           "<br>Atomic Mass: 0.0",
           "<br>Atomic Mass: 0.0",
           "<br>Atomic Mass: 0.0",
           "<br>Atomic Mass: 0.0"
          ],
          [
           "<br>Atomic Mass: 0.0",
           "<br>Atomic Mass: 0.0",
           "Actinium<br>Atomic Mass: 227",
           "Thorium<br>Atomic Mass: 232.03806",
           "Protactinium<br>Atomic Mass: 231.03588",
           "Uranium<br>Atomic Mass: 238.02891",
           "Neptunium<br>Atomic Mass: 237",
           "Plutonium<br>Atomic Mass: 244",
           "Americium<br>Atomic Mass: 243",
           "Curium<br>Atomic Mass: 247",
           "Berkelium<br>Atomic Mass: 247",
           "Californium<br>Atomic Mass: 251",
           "Einsteinium<br>Atomic Mass: 252",
           "Fermium<br>Atomic Mass: 257",
           "Mendelevium<br>Atomic Mass: 258",
           "Nobelium<br>Atomic Mass: 259",
           "Lawrencium<br>Atomic Mass: 262",
           "<br>Atomic Mass: 0.0"
          ],
          [
           "<br>Atomic Mass: 0.0",
           "<br>Atomic Mass: 0.0",
           "Lanthanum<br>Atomic Mass: 138.90547",
           "Cerium<br>Atomic Mass: 140.116",
           "Praseodymium<br>Atomic Mass: 140.90765",
           "Neodymium<br>Atomic Mass: 144.242",
           "Promethium<br>Atomic Mass: 145",
           "Samarium<br>Atomic Mass: 150.36",
           "Europium<br>Atomic Mass: 151.964",
           "Gadolinium<br>Atomic Mass: 157.25",
           "Terbium<br>Atomic Mass: 158.92535",
           "Dysprosium<br>Atomic Mass: 162.5",
           "Holmium<br>Atomic Mass: 164.93032",
           "Erbium<br>Atomic Mass: 167.259",
           "Thulium<br>Atomic Mass: 168.93421",
           "Ytterbium<br>Atomic Mass: 173.054",
           "Lutetium<br>Atomic Mass: 174.9668",
           "<br>Atomic Mass: 0.0"
          ],
          [
           " Francium<br>Atomic Mass: 223",
           " Radium<br>Atomic Mass: 226",
           "<br>Atomic Mass: 0.0",
           "Rutherfordium<br>Atomic Mass: 267",
           "Dubnium<br>Atomic Mass: 268",
           "Seaborgium<br>Atomic Mass: 271",
           "Bohrium<br>Atomic Mass: 272",
           "Hassium<br>Atomic Mass: 270",
           "Meitnerium<br>Atomic Mass: 276",
           "Darmstadtium<br>Atomic Mass: 281",
           "Roentgenium<br>Atomic Mass: 280",
           "Copernicium<br>Atomic Mass: 285",
           "Ununtrium<br>Atomic Mass: 284",
           "Ununquadium<br>Atomic Mass: 289",
           "Ununpentium<br>Atomic Mass: 288",
           "Ununhexium<br>Atomic Mass: 293",
           "Ununseptium<br>Atomic Mass: unknown",
           "Ununoctium<br>Atomic Mass: 294"
          ],
          [
           " Cesium<br>Atomic Mass: 132.9054519",
           " Barium<br>Atomic Mass: 137.327",
           "<br>Atomic Mass: 0.0",
           "Hafnium<br>Atomic Mass: 178.49",
           "Tantalum<br>Atomic Mass: 180.94788",
           "Tungsten<br>Atomic Mass: 183.84",
           "Rhenium<br>Atomic Mass: 186.207",
           "Osmium<br>Atomic Mass: 190.23",
           "Iridium<br>Atomic Mass: 192.217",
           "Platinum<br>Atomic Mass: 195.084",
           "Gold<br>Atomic Mass: 196.966569",
           "Mercury<br>Atomic Mass: 200.59",
           "Thallium<br>Atomic Mass: 204.3833",
           "Lead<br>Atomic Mass: 207.2",
           "Bismuth<br>Atomic Mass: 208.9804",
           "Polonium<br>Atomic Mass: 209",
           "Astatine<br>Atomic Mass: 210",
           "Radon<br>Atomic Mass: 222"
          ],
          [
           "Rubidium<br>Atomic Mass: 85.4678",
           "Strontium<br>Atomic Mass: 87.62",
           "Yttrium<br>Atomic Mass: 88.90585",
           "Zirconium<br>Atomic Mass: 91.224",
           "Niobium<br>Atomic Mass: 92.90638",
           "Molybdenum<br>Atomic Mass: 95.96",
           "Technetium<br>Atomic Mass: 98",
           "Ruthenium<br>Atomic Mass: 101.07",
           "Rhodium<br>Atomic Mass: 102.9055",
           "Palladium<br>Atomic Mass: 106.42",
           "Silver<br>Atomic Mass: 107.8682",
           "Cadmium<br>Atomic Mass: 112.411",
           "Indium<br>Atomic Mass: 114.818",
           "Tin<br>Atomic Mass: 118.71",
           "Antimony<br>Atomic Mass: 121.76",
           "Tellurium<br>Atomic Mass: 127.6",
           "Iodine<br>Atomic Mass: 126.90447",
           "Xenon<br>Atomic Mass: 131.293"
          ],
          [
           "Potassium<br>Atomic Mass: 39.0983",
           " Calcium<br>Atomic Mass: 40.078",
           " Scandium<br>Atomic Mass: 44.955912",
           " Titanium<br>Atomic Mass: 47.867",
           " Vanadium<br>Atomic Mass: 50.9415",
           " Chromium<br>Atomic Mass: 51.9961",
           "Manganese<br>Atomic Mass: 54.938045",
           "Iron<br>Atomic Mass: 55.845",
           "Cobalt<br>Atomic Mass: 58.933195",
           "Nickel<br>Atomic Mass: 58.6934",
           "Copper<br>Atomic Mass: 63.546",
           "Zinc<br>Atomic Mass: 65.38",
           "Gallium<br>Atomic Mass: 69.723",
           "Germanium<br>Atomic Mass: 72.64",
           "Arsenic<br>Atomic Mass: 74.9216",
           "Selenium<br>Atomic Mass: 78.96",
           "Bromine<br>Atomic Mass: 79.904",
           "Krypton<br>Atomic Mass: 83.798"
          ],
          [
           "Sodium<br>Atomic Mass: 22.98976928",
           "Magnesium<br>Atomic Mass: 24.305",
           "<br>Atomic Mass: 0.0",
           "<br>Atomic Mass: 0.0",
           "<br>Atomic Mass: 0.0",
           "<br>Atomic Mass: 0.0",
           "<br>Atomic Mass: 0.0",
           "<br>Atomic Mass: 0.0",
           "<br>Atomic Mass: 0.0",
           "<br>Atomic Mass: 0.0",
           "<br>Atomic Mass: 0.0",
           "<br>Atomic Mass: 0.0",
           "Aluminium<br>Atomic Mass: 26.9815386",
           "Silicon<br>Atomic Mass: 28.0855",
           "Phosphorus<br>Atomic Mass: 30.973762",
           "Sulfur<br>Atomic Mass: 32.065",
           "Chlorine<br>Atomic Mass: 35.453",
           " Argon<br>Atomic Mass: 39.948"
          ],
          [
           "Lithium<br>Atomic Mass: 6.941",
           "Beryllium<br>Atomic Mass: 9.012182",
           "<br>Atomic Mass: 0.0",
           "<br>Atomic Mass: 0.0",
           "<br>Atomic Mass: 0.0",
           "<br>Atomic Mass: 0.0",
           "<br>Atomic Mass: 0.0",
           "<br>Atomic Mass: 0.0",
           "<br>Atomic Mass: 0.0",
           "<br>Atomic Mass: 0.0",
           "<br>Atomic Mass: 0.0",
           "<br>Atomic Mass: 0.0",
           "Boron<br>Atomic Mass: 10.811",
           "Carbon<br>Atomic Mass: 12.0107",
           "Nitrogen<br>Atomic Mass: 14.0067",
           "Oxygen<br>Atomic Mass: 15.9994",
           "Fluorine<br>Atomic Mass: 18.9984032",
           "Neon<br>Atomic Mass: 20.1797"
          ],
          [
           "Hydrogen<br>Atomic Mass: 1.00794",
           "<br>Atomic Mass: 0.0",
           "<br>Atomic Mass: 0.0",
           "<br>Atomic Mass: 0.0",
           "<br>Atomic Mass: 0.0",
           "<br>Atomic Mass: 0.0",
           "<br>Atomic Mass: 0.0",
           "<br>Atomic Mass: 0.0",
           "<br>Atomic Mass: 0.0",
           "<br>Atomic Mass: 0.0",
           "<br>Atomic Mass: 0.0",
           "<br>Atomic Mass: 0.0",
           "<br>Atomic Mass: 0.0",
           "<br>Atomic Mass: 0.0",
           "<br>Atomic Mass: 0.0",
           "<br>Atomic Mass: 0.0",
           "<br>Atomic Mass: 0.0",
           "Helium<br>Atomic Mass: 4.002602"
          ]
         ],
         "type": "heatmap",
         "uid": "56fc4c9b-72cb-4321-a179-f98ddb31e64f",
         "z": [
          [
           0.2,
           0.2,
           0.2,
           0.4,
           0.4,
           0.4,
           0.6,
           0.6,
           0.6,
           0.8,
           0.8,
           0.8,
           1,
           1,
           1,
           0,
           0,
           0
          ],
          [
           0.1,
           0.1,
           0.1,
           0.3,
           0.3,
           0.3,
           0.5,
           0.5,
           0.5,
           0.7,
           0.7,
           0.7,
           0.9,
           0.9,
           0.9,
           0,
           0,
           0
          ],
          [
           0,
           0,
           0,
           0,
           0,
           0,
           0,
           0,
           0,
           0,
           0,
           0,
           0,
           0,
           0,
           0,
           0,
           0
          ],
          [
           0,
           0,
           0.5,
           0.5,
           0.5,
           0.5,
           0.5,
           0.5,
           0.5,
           0.5,
           0.5,
           0.5,
           0.5,
           0.5,
           0.5,
           0.5,
           0.5,
           0
          ],
          [
           0,
           0,
           0.4,
           0.4,
           0.4,
           0.4,
           0.4,
           0.4,
           0.4,
           0.4,
           0.4,
           0.4,
           0.4,
           0.4,
           0.4,
           0.4,
           0.4,
           0
          ],
          [
           0.1,
           0.2,
           0.5,
           0.3,
           0.3,
           0.3,
           0.3,
           0.3,
           0.3,
           0.3,
           0.3,
           0.3,
           0.6,
           0.6,
           0.6,
           0.6,
           0.9,
           1
          ],
          [
           0.1,
           0.2,
           0.4,
           0.3,
           0.3,
           0.3,
           0.3,
           0.3,
           0.3,
           0.3,
           0.3,
           0.3,
           0.6,
           0.6,
           0.6,
           0.7,
           0.9,
           1
          ],
          [
           0.1,
           0.2,
           0.3,
           0.3,
           0.3,
           0.3,
           0.3,
           0.3,
           0.3,
           0.3,
           0.3,
           0.3,
           0.6,
           0.6,
           0.7,
           0.7,
           0.9,
           1
          ],
          [
           0.1,
           0.2,
           0.3,
           0.3,
           0.3,
           0.3,
           0.3,
           0.3,
           0.3,
           0.3,
           0.3,
           0.3,
           0.6,
           0.7,
           0.8,
           0.8,
           0.9,
           1
          ],
          [
           0.1,
           0.2,
           0,
           0,
           0,
           0,
           0,
           0,
           0,
           0,
           0,
           0,
           0.6,
           0.7,
           0.8,
           0.8,
           0.9,
           1
          ],
          [
           0.1,
           0.2,
           0,
           0,
           0,
           0,
           0,
           0,
           0,
           0,
           0,
           0,
           0.7,
           0.8,
           0.8,
           0.8,
           0.9,
           1
          ],
          [
           0.8,
           0,
           0,
           0,
           0,
           0,
           0,
           0,
           0,
           0,
           0,
           0,
           0,
           0,
           0,
           0,
           0,
           1
          ]
         ]
        }
       ],
       "layout": {
        "annotations": [
         {
          "font": {
           "color": "black"
          },
          "showarrow": false,
          "text": "",
          "x": 0,
          "xref": "x",
          "y": 0,
          "yref": "y"
         },
         {
          "font": {
           "color": "black"
          },
          "showarrow": false,
          "text": "Alkaline Metal",
          "x": 1,
          "xref": "x",
          "y": 0,
          "yref": "y"
         },
         {
          "font": {
           "color": "black"
          },
          "showarrow": false,
          "text": "",
          "x": 2,
          "xref": "x",
          "y": 0,
          "yref": "y"
         },
         {
          "font": {
           "color": "black"
          },
          "showarrow": false,
          "text": "",
          "x": 3,
          "xref": "x",
          "y": 0,
          "yref": "y"
         },
         {
          "font": {
           "color": "black"
          },
          "showarrow": false,
          "text": "Lanthanide",
          "x": 4,
          "xref": "x",
          "y": 0,
          "yref": "y"
         },
         {
          "font": {
           "color": "black"
          },
          "showarrow": false,
          "text": "",
          "x": 5,
          "xref": "x",
          "y": 0,
          "yref": "y"
         },
         {
          "font": {
           "color": "black"
          },
          "showarrow": false,
          "text": "",
          "x": 6,
          "xref": "x",
          "y": 0,
          "yref": "y"
         },
         {
          "font": {
           "color": "black"
          },
          "showarrow": false,
          "text": "Basic Metal",
          "x": 7,
          "xref": "x",
          "y": 0,
          "yref": "y"
         },
         {
          "font": {
           "color": "black"
          },
          "showarrow": false,
          "text": "",
          "x": 8,
          "xref": "x",
          "y": 0,
          "yref": "y"
         },
         {
          "font": {
           "color": "black"
          },
          "showarrow": false,
          "text": "",
          "x": 9,
          "xref": "x",
          "y": 0,
          "yref": "y"
         },
         {
          "font": {
           "color": "black"
          },
          "showarrow": false,
          "text": "Nonmetal",
          "x": 10,
          "xref": "x",
          "y": 0,
          "yref": "y"
         },
         {
          "font": {
           "color": "black"
          },
          "showarrow": false,
          "text": "",
          "x": 11,
          "xref": "x",
          "y": 0,
          "yref": "y"
         },
         {
          "font": {
           "color": "black"
          },
          "showarrow": false,
          "text": "",
          "x": 12,
          "xref": "x",
          "y": 0,
          "yref": "y"
         },
         {
          "font": {
           "color": "black"
          },
          "showarrow": false,
          "text": "Noble Gas",
          "x": 13,
          "xref": "x",
          "y": 0,
          "yref": "y"
         },
         {
          "font": {
           "color": "black"
          },
          "showarrow": false,
          "text": "",
          "x": 14,
          "xref": "x",
          "y": 0,
          "yref": "y"
         },
         {
          "font": {
           "color": "black"
          },
          "showarrow": false,
          "text": "",
          "x": 15,
          "xref": "x",
          "y": 0,
          "yref": "y"
         },
         {
          "font": {
           "color": "black"
          },
          "showarrow": false,
          "text": "",
          "x": 16,
          "xref": "x",
          "y": 0,
          "yref": "y"
         },
         {
          "font": {
           "color": "black"
          },
          "showarrow": false,
          "text": "",
          "x": 17,
          "xref": "x",
          "y": 0,
          "yref": "y"
         },
         {
          "font": {
           "color": "black"
          },
          "showarrow": false,
          "text": "",
          "x": 0,
          "xref": "x",
          "y": 1,
          "yref": "y"
         },
         {
          "font": {
           "color": "black"
          },
          "showarrow": false,
          "text": "Alkali Metal",
          "x": 1,
          "xref": "x",
          "y": 1,
          "yref": "y"
         },
         {
          "font": {
           "color": "black"
          },
          "showarrow": false,
          "text": "",
          "x": 2,
          "xref": "x",
          "y": 1,
          "yref": "y"
         },
         {
          "font": {
           "color": "black"
          },
          "showarrow": false,
          "text": "",
          "x": 3,
          "xref": "x",
          "y": 1,
          "yref": "y"
         },
         {
          "font": {
           "color": "black"
          },
          "showarrow": false,
          "text": "Transition Metal",
          "x": 4,
          "xref": "x",
          "y": 1,
          "yref": "y"
         },
         {
          "font": {
           "color": "black"
          },
          "showarrow": false,
          "text": "",
          "x": 5,
          "xref": "x",
          "y": 1,
          "yref": "y"
         },
         {
          "font": {
           "color": "black"
          },
          "showarrow": false,
          "text": "",
          "x": 6,
          "xref": "x",
          "y": 1,
          "yref": "y"
         },
         {
          "font": {
           "color": "black"
          },
          "showarrow": false,
          "text": "Actinide",
          "x": 7,
          "xref": "x",
          "y": 1,
          "yref": "y"
         },
         {
          "font": {
           "color": "black"
          },
          "showarrow": false,
          "text": "",
          "x": 8,
          "xref": "x",
          "y": 1,
          "yref": "y"
         },
         {
          "font": {
           "color": "black"
          },
          "showarrow": false,
          "text": "",
          "x": 9,
          "xref": "x",
          "y": 1,
          "yref": "y"
         },
         {
          "font": {
           "color": "black"
          },
          "showarrow": false,
          "text": "Semimetal",
          "x": 10,
          "xref": "x",
          "y": 1,
          "yref": "y"
         },
         {
          "font": {
           "color": "black"
          },
          "showarrow": false,
          "text": "",
          "x": 11,
          "xref": "x",
          "y": 1,
          "yref": "y"
         },
         {
          "font": {
           "color": "black"
          },
          "showarrow": false,
          "text": "",
          "x": 12,
          "xref": "x",
          "y": 1,
          "yref": "y"
         },
         {
          "font": {
           "color": "black"
          },
          "showarrow": false,
          "text": "Halogen",
          "x": 13,
          "xref": "x",
          "y": 1,
          "yref": "y"
         },
         {
          "font": {
           "color": "black"
          },
          "showarrow": false,
          "text": "",
          "x": 14,
          "xref": "x",
          "y": 1,
          "yref": "y"
         },
         {
          "font": {
           "color": "black"
          },
          "showarrow": false,
          "text": "",
          "x": 15,
          "xref": "x",
          "y": 1,
          "yref": "y"
         },
         {
          "font": {
           "color": "black"
          },
          "showarrow": false,
          "text": "",
          "x": 16,
          "xref": "x",
          "y": 1,
          "yref": "y"
         },
         {
          "font": {
           "color": "black"
          },
          "showarrow": false,
          "text": "",
          "x": 17,
          "xref": "x",
          "y": 1,
          "yref": "y"
         },
         {
          "font": {
           "color": "black"
          },
          "showarrow": false,
          "text": "",
          "x": 0,
          "xref": "x",
          "y": 2,
          "yref": "y"
         },
         {
          "font": {
           "color": "black"
          },
          "showarrow": false,
          "text": "",
          "x": 1,
          "xref": "x",
          "y": 2,
          "yref": "y"
         },
         {
          "font": {
           "color": "black"
          },
          "showarrow": false,
          "text": "",
          "x": 2,
          "xref": "x",
          "y": 2,
          "yref": "y"
         },
         {
          "font": {
           "color": "black"
          },
          "showarrow": false,
          "text": "",
          "x": 3,
          "xref": "x",
          "y": 2,
          "yref": "y"
         },
         {
          "font": {
           "color": "black"
          },
          "showarrow": false,
          "text": "",
          "x": 4,
          "xref": "x",
          "y": 2,
          "yref": "y"
         },
         {
          "font": {
           "color": "black"
          },
          "showarrow": false,
          "text": "",
          "x": 5,
          "xref": "x",
          "y": 2,
          "yref": "y"
         },
         {
          "font": {
           "color": "black"
          },
          "showarrow": false,
          "text": "",
          "x": 6,
          "xref": "x",
          "y": 2,
          "yref": "y"
         },
         {
          "font": {
           "color": "black"
          },
          "showarrow": false,
          "text": "",
          "x": 7,
          "xref": "x",
          "y": 2,
          "yref": "y"
         },
         {
          "font": {
           "color": "black"
          },
          "showarrow": false,
          "text": "",
          "x": 8,
          "xref": "x",
          "y": 2,
          "yref": "y"
         },
         {
          "font": {
           "color": "black"
          },
          "showarrow": false,
          "text": "",
          "x": 9,
          "xref": "x",
          "y": 2,
          "yref": "y"
         },
         {
          "font": {
           "color": "black"
          },
          "showarrow": false,
          "text": "",
          "x": 10,
          "xref": "x",
          "y": 2,
          "yref": "y"
         },
         {
          "font": {
           "color": "black"
          },
          "showarrow": false,
          "text": "",
          "x": 11,
          "xref": "x",
          "y": 2,
          "yref": "y"
         },
         {
          "font": {
           "color": "black"
          },
          "showarrow": false,
          "text": "",
          "x": 12,
          "xref": "x",
          "y": 2,
          "yref": "y"
         },
         {
          "font": {
           "color": "black"
          },
          "showarrow": false,
          "text": "",
          "x": 13,
          "xref": "x",
          "y": 2,
          "yref": "y"
         },
         {
          "font": {
           "color": "black"
          },
          "showarrow": false,
          "text": "",
          "x": 14,
          "xref": "x",
          "y": 2,
          "yref": "y"
         },
         {
          "font": {
           "color": "black"
          },
          "showarrow": false,
          "text": "",
          "x": 15,
          "xref": "x",
          "y": 2,
          "yref": "y"
         },
         {
          "font": {
           "color": "black"
          },
          "showarrow": false,
          "text": "",
          "x": 16,
          "xref": "x",
          "y": 2,
          "yref": "y"
         },
         {
          "font": {
           "color": "black"
          },
          "showarrow": false,
          "text": "",
          "x": 17,
          "xref": "x",
          "y": 2,
          "yref": "y"
         },
         {
          "font": {
           "color": "black"
          },
          "showarrow": false,
          "text": "",
          "x": 0,
          "xref": "x",
          "y": 3,
          "yref": "y"
         },
         {
          "font": {
           "color": "black"
          },
          "showarrow": false,
          "text": "",
          "x": 1,
          "xref": "x",
          "y": 3,
          "yref": "y"
         },
         {
          "font": {
           "color": "black"
          },
          "showarrow": false,
          "text": "Ac",
          "x": 2,
          "xref": "x",
          "y": 3,
          "yref": "y"
         },
         {
          "font": {
           "color": "black"
          },
          "showarrow": false,
          "text": "Th",
          "x": 3,
          "xref": "x",
          "y": 3,
          "yref": "y"
         },
         {
          "font": {
           "color": "black"
          },
          "showarrow": false,
          "text": "Pa",
          "x": 4,
          "xref": "x",
          "y": 3,
          "yref": "y"
         },
         {
          "font": {
           "color": "black"
          },
          "showarrow": false,
          "text": "U",
          "x": 5,
          "xref": "x",
          "y": 3,
          "yref": "y"
         },
         {
          "font": {
           "color": "black"
          },
          "showarrow": false,
          "text": "Np",
          "x": 6,
          "xref": "x",
          "y": 3,
          "yref": "y"
         },
         {
          "font": {
           "color": "black"
          },
          "showarrow": false,
          "text": "Pu",
          "x": 7,
          "xref": "x",
          "y": 3,
          "yref": "y"
         },
         {
          "font": {
           "color": "black"
          },
          "showarrow": false,
          "text": "Am",
          "x": 8,
          "xref": "x",
          "y": 3,
          "yref": "y"
         },
         {
          "font": {
           "color": "black"
          },
          "showarrow": false,
          "text": "Cm",
          "x": 9,
          "xref": "x",
          "y": 3,
          "yref": "y"
         },
         {
          "font": {
           "color": "black"
          },
          "showarrow": false,
          "text": "Bk",
          "x": 10,
          "xref": "x",
          "y": 3,
          "yref": "y"
         },
         {
          "font": {
           "color": "black"
          },
          "showarrow": false,
          "text": "Cf",
          "x": 11,
          "xref": "x",
          "y": 3,
          "yref": "y"
         },
         {
          "font": {
           "color": "black"
          },
          "showarrow": false,
          "text": "Es",
          "x": 12,
          "xref": "x",
          "y": 3,
          "yref": "y"
         },
         {
          "font": {
           "color": "black"
          },
          "showarrow": false,
          "text": "Fm",
          "x": 13,
          "xref": "x",
          "y": 3,
          "yref": "y"
         },
         {
          "font": {
           "color": "black"
          },
          "showarrow": false,
          "text": "Md",
          "x": 14,
          "xref": "x",
          "y": 3,
          "yref": "y"
         },
         {
          "font": {
           "color": "black"
          },
          "showarrow": false,
          "text": "No",
          "x": 15,
          "xref": "x",
          "y": 3,
          "yref": "y"
         },
         {
          "font": {
           "color": "black"
          },
          "showarrow": false,
          "text": "Lr",
          "x": 16,
          "xref": "x",
          "y": 3,
          "yref": "y"
         },
         {
          "font": {
           "color": "black"
          },
          "showarrow": false,
          "text": "",
          "x": 17,
          "xref": "x",
          "y": 3,
          "yref": "y"
         },
         {
          "font": {
           "color": "black"
          },
          "showarrow": false,
          "text": "",
          "x": 0,
          "xref": "x",
          "y": 4,
          "yref": "y"
         },
         {
          "font": {
           "color": "black"
          },
          "showarrow": false,
          "text": "",
          "x": 1,
          "xref": "x",
          "y": 4,
          "yref": "y"
         },
         {
          "font": {
           "color": "black"
          },
          "showarrow": false,
          "text": "La",
          "x": 2,
          "xref": "x",
          "y": 4,
          "yref": "y"
         },
         {
          "font": {
           "color": "black"
          },
          "showarrow": false,
          "text": "Ce",
          "x": 3,
          "xref": "x",
          "y": 4,
          "yref": "y"
         },
         {
          "font": {
           "color": "black"
          },
          "showarrow": false,
          "text": "Pr",
          "x": 4,
          "xref": "x",
          "y": 4,
          "yref": "y"
         },
         {
          "font": {
           "color": "black"
          },
          "showarrow": false,
          "text": "Nd",
          "x": 5,
          "xref": "x",
          "y": 4,
          "yref": "y"
         },
         {
          "font": {
           "color": "black"
          },
          "showarrow": false,
          "text": "Pm",
          "x": 6,
          "xref": "x",
          "y": 4,
          "yref": "y"
         },
         {
          "font": {
           "color": "black"
          },
          "showarrow": false,
          "text": "Sm",
          "x": 7,
          "xref": "x",
          "y": 4,
          "yref": "y"
         },
         {
          "font": {
           "color": "black"
          },
          "showarrow": false,
          "text": "Eu",
          "x": 8,
          "xref": "x",
          "y": 4,
          "yref": "y"
         },
         {
          "font": {
           "color": "black"
          },
          "showarrow": false,
          "text": "Gd",
          "x": 9,
          "xref": "x",
          "y": 4,
          "yref": "y"
         },
         {
          "font": {
           "color": "black"
          },
          "showarrow": false,
          "text": "Tb",
          "x": 10,
          "xref": "x",
          "y": 4,
          "yref": "y"
         },
         {
          "font": {
           "color": "black"
          },
          "showarrow": false,
          "text": "Dy",
          "x": 11,
          "xref": "x",
          "y": 4,
          "yref": "y"
         },
         {
          "font": {
           "color": "black"
          },
          "showarrow": false,
          "text": "Ho",
          "x": 12,
          "xref": "x",
          "y": 4,
          "yref": "y"
         },
         {
          "font": {
           "color": "black"
          },
          "showarrow": false,
          "text": "Er",
          "x": 13,
          "xref": "x",
          "y": 4,
          "yref": "y"
         },
         {
          "font": {
           "color": "black"
          },
          "showarrow": false,
          "text": "Tm",
          "x": 14,
          "xref": "x",
          "y": 4,
          "yref": "y"
         },
         {
          "font": {
           "color": "black"
          },
          "showarrow": false,
          "text": "Yb",
          "x": 15,
          "xref": "x",
          "y": 4,
          "yref": "y"
         },
         {
          "font": {
           "color": "black"
          },
          "showarrow": false,
          "text": "Lu",
          "x": 16,
          "xref": "x",
          "y": 4,
          "yref": "y"
         },
         {
          "font": {
           "color": "black"
          },
          "showarrow": false,
          "text": "",
          "x": 17,
          "xref": "x",
          "y": 4,
          "yref": "y"
         },
         {
          "font": {
           "color": "black"
          },
          "showarrow": false,
          "text": "Fr",
          "x": 0,
          "xref": "x",
          "y": 5,
          "yref": "y"
         },
         {
          "font": {
           "color": "black"
          },
          "showarrow": false,
          "text": "Ra",
          "x": 1,
          "xref": "x",
          "y": 5,
          "yref": "y"
         },
         {
          "font": {
           "color": "black"
          },
          "showarrow": false,
          "text": "",
          "x": 2,
          "xref": "x",
          "y": 5,
          "yref": "y"
         },
         {
          "font": {
           "color": "black"
          },
          "showarrow": false,
          "text": "Rf",
          "x": 3,
          "xref": "x",
          "y": 5,
          "yref": "y"
         },
         {
          "font": {
           "color": "black"
          },
          "showarrow": false,
          "text": "Db",
          "x": 4,
          "xref": "x",
          "y": 5,
          "yref": "y"
         },
         {
          "font": {
           "color": "black"
          },
          "showarrow": false,
          "text": "Sg",
          "x": 5,
          "xref": "x",
          "y": 5,
          "yref": "y"
         },
         {
          "font": {
           "color": "black"
          },
          "showarrow": false,
          "text": "Bh",
          "x": 6,
          "xref": "x",
          "y": 5,
          "yref": "y"
         },
         {
          "font": {
           "color": "black"
          },
          "showarrow": false,
          "text": "Hs",
          "x": 7,
          "xref": "x",
          "y": 5,
          "yref": "y"
         },
         {
          "font": {
           "color": "black"
          },
          "showarrow": false,
          "text": "Mt",
          "x": 8,
          "xref": "x",
          "y": 5,
          "yref": "y"
         },
         {
          "font": {
           "color": "black"
          },
          "showarrow": false,
          "text": "Ds",
          "x": 9,
          "xref": "x",
          "y": 5,
          "yref": "y"
         },
         {
          "font": {
           "color": "black"
          },
          "showarrow": false,
          "text": "Rg",
          "x": 10,
          "xref": "x",
          "y": 5,
          "yref": "y"
         },
         {
          "font": {
           "color": "black"
          },
          "showarrow": false,
          "text": "Cn",
          "x": 11,
          "xref": "x",
          "y": 5,
          "yref": "y"
         },
         {
          "font": {
           "color": "black"
          },
          "showarrow": false,
          "text": "Uut",
          "x": 12,
          "xref": "x",
          "y": 5,
          "yref": "y"
         },
         {
          "font": {
           "color": "black"
          },
          "showarrow": false,
          "text": "Fl",
          "x": 13,
          "xref": "x",
          "y": 5,
          "yref": "y"
         },
         {
          "font": {
           "color": "black"
          },
          "showarrow": false,
          "text": "Uup",
          "x": 14,
          "xref": "x",
          "y": 5,
          "yref": "y"
         },
         {
          "font": {
           "color": "black"
          },
          "showarrow": false,
          "text": "Lv",
          "x": 15,
          "xref": "x",
          "y": 5,
          "yref": "y"
         },
         {
          "font": {
           "color": "black"
          },
          "showarrow": false,
          "text": "Uus",
          "x": 16,
          "xref": "x",
          "y": 5,
          "yref": "y"
         },
         {
          "font": {
           "color": "black"
          },
          "showarrow": false,
          "text": "Uuo",
          "x": 17,
          "xref": "x",
          "y": 5,
          "yref": "y"
         },
         {
          "font": {
           "color": "black"
          },
          "showarrow": false,
          "text": "Cs",
          "x": 0,
          "xref": "x",
          "y": 6,
          "yref": "y"
         },
         {
          "font": {
           "color": "black"
          },
          "showarrow": false,
          "text": "Ba",
          "x": 1,
          "xref": "x",
          "y": 6,
          "yref": "y"
         },
         {
          "font": {
           "color": "black"
          },
          "showarrow": false,
          "text": "",
          "x": 2,
          "xref": "x",
          "y": 6,
          "yref": "y"
         },
         {
          "font": {
           "color": "black"
          },
          "showarrow": false,
          "text": "Hf",
          "x": 3,
          "xref": "x",
          "y": 6,
          "yref": "y"
         },
         {
          "font": {
           "color": "black"
          },
          "showarrow": false,
          "text": "Ta",
          "x": 4,
          "xref": "x",
          "y": 6,
          "yref": "y"
         },
         {
          "font": {
           "color": "black"
          },
          "showarrow": false,
          "text": "W",
          "x": 5,
          "xref": "x",
          "y": 6,
          "yref": "y"
         },
         {
          "font": {
           "color": "black"
          },
          "showarrow": false,
          "text": "Re",
          "x": 6,
          "xref": "x",
          "y": 6,
          "yref": "y"
         },
         {
          "font": {
           "color": "black"
          },
          "showarrow": false,
          "text": "Os",
          "x": 7,
          "xref": "x",
          "y": 6,
          "yref": "y"
         },
         {
          "font": {
           "color": "black"
          },
          "showarrow": false,
          "text": "Ir",
          "x": 8,
          "xref": "x",
          "y": 6,
          "yref": "y"
         },
         {
          "font": {
           "color": "black"
          },
          "showarrow": false,
          "text": "Pt",
          "x": 9,
          "xref": "x",
          "y": 6,
          "yref": "y"
         },
         {
          "font": {
           "color": "black"
          },
          "showarrow": false,
          "text": "Au",
          "x": 10,
          "xref": "x",
          "y": 6,
          "yref": "y"
         },
         {
          "font": {
           "color": "black"
          },
          "showarrow": false,
          "text": "Hg",
          "x": 11,
          "xref": "x",
          "y": 6,
          "yref": "y"
         },
         {
          "font": {
           "color": "black"
          },
          "showarrow": false,
          "text": "Tl",
          "x": 12,
          "xref": "x",
          "y": 6,
          "yref": "y"
         },
         {
          "font": {
           "color": "black"
          },
          "showarrow": false,
          "text": "Pb",
          "x": 13,
          "xref": "x",
          "y": 6,
          "yref": "y"
         },
         {
          "font": {
           "color": "black"
          },
          "showarrow": false,
          "text": "Bi",
          "x": 14,
          "xref": "x",
          "y": 6,
          "yref": "y"
         },
         {
          "font": {
           "color": "black"
          },
          "showarrow": false,
          "text": "Po",
          "x": 15,
          "xref": "x",
          "y": 6,
          "yref": "y"
         },
         {
          "font": {
           "color": "black"
          },
          "showarrow": false,
          "text": "At",
          "x": 16,
          "xref": "x",
          "y": 6,
          "yref": "y"
         },
         {
          "font": {
           "color": "black"
          },
          "showarrow": false,
          "text": "Rn",
          "x": 17,
          "xref": "x",
          "y": 6,
          "yref": "y"
         },
         {
          "font": {
           "color": "black"
          },
          "showarrow": false,
          "text": "Rb ",
          "x": 0,
          "xref": "x",
          "y": 7,
          "yref": "y"
         },
         {
          "font": {
           "color": "black"
          },
          "showarrow": false,
          "text": "Sr",
          "x": 1,
          "xref": "x",
          "y": 7,
          "yref": "y"
         },
         {
          "font": {
           "color": "black"
          },
          "showarrow": false,
          "text": "Y",
          "x": 2,
          "xref": "x",
          "y": 7,
          "yref": "y"
         },
         {
          "font": {
           "color": "black"
          },
          "showarrow": false,
          "text": "Zr",
          "x": 3,
          "xref": "x",
          "y": 7,
          "yref": "y"
         },
         {
          "font": {
           "color": "black"
          },
          "showarrow": false,
          "text": "Nb",
          "x": 4,
          "xref": "x",
          "y": 7,
          "yref": "y"
         },
         {
          "font": {
           "color": "black"
          },
          "showarrow": false,
          "text": "Mo",
          "x": 5,
          "xref": "x",
          "y": 7,
          "yref": "y"
         },
         {
          "font": {
           "color": "black"
          },
          "showarrow": false,
          "text": "Tc",
          "x": 6,
          "xref": "x",
          "y": 7,
          "yref": "y"
         },
         {
          "font": {
           "color": "black"
          },
          "showarrow": false,
          "text": "Ru",
          "x": 7,
          "xref": "x",
          "y": 7,
          "yref": "y"
         },
         {
          "font": {
           "color": "black"
          },
          "showarrow": false,
          "text": "Rh",
          "x": 8,
          "xref": "x",
          "y": 7,
          "yref": "y"
         },
         {
          "font": {
           "color": "black"
          },
          "showarrow": false,
          "text": "Pd",
          "x": 9,
          "xref": "x",
          "y": 7,
          "yref": "y"
         },
         {
          "font": {
           "color": "black"
          },
          "showarrow": false,
          "text": "Ag",
          "x": 10,
          "xref": "x",
          "y": 7,
          "yref": "y"
         },
         {
          "font": {
           "color": "black"
          },
          "showarrow": false,
          "text": "Cd",
          "x": 11,
          "xref": "x",
          "y": 7,
          "yref": "y"
         },
         {
          "font": {
           "color": "black"
          },
          "showarrow": false,
          "text": "In",
          "x": 12,
          "xref": "x",
          "y": 7,
          "yref": "y"
         },
         {
          "font": {
           "color": "black"
          },
          "showarrow": false,
          "text": "Sn",
          "x": 13,
          "xref": "x",
          "y": 7,
          "yref": "y"
         },
         {
          "font": {
           "color": "black"
          },
          "showarrow": false,
          "text": "Sb",
          "x": 14,
          "xref": "x",
          "y": 7,
          "yref": "y"
         },
         {
          "font": {
           "color": "black"
          },
          "showarrow": false,
          "text": "Te",
          "x": 15,
          "xref": "x",
          "y": 7,
          "yref": "y"
         },
         {
          "font": {
           "color": "black"
          },
          "showarrow": false,
          "text": "I",
          "x": 16,
          "xref": "x",
          "y": 7,
          "yref": "y"
         },
         {
          "font": {
           "color": "black"
          },
          "showarrow": false,
          "text": "Xe",
          "x": 17,
          "xref": "x",
          "y": 7,
          "yref": "y"
         },
         {
          "font": {
           "color": "black"
          },
          "showarrow": false,
          "text": "K",
          "x": 0,
          "xref": "x",
          "y": 8,
          "yref": "y"
         },
         {
          "font": {
           "color": "black"
          },
          "showarrow": false,
          "text": "Ca",
          "x": 1,
          "xref": "x",
          "y": 8,
          "yref": "y"
         },
         {
          "font": {
           "color": "black"
          },
          "showarrow": false,
          "text": "Sc",
          "x": 2,
          "xref": "x",
          "y": 8,
          "yref": "y"
         },
         {
          "font": {
           "color": "black"
          },
          "showarrow": false,
          "text": "Ti",
          "x": 3,
          "xref": "x",
          "y": 8,
          "yref": "y"
         },
         {
          "font": {
           "color": "black"
          },
          "showarrow": false,
          "text": "V",
          "x": 4,
          "xref": "x",
          "y": 8,
          "yref": "y"
         },
         {
          "font": {
           "color": "black"
          },
          "showarrow": false,
          "text": "Cr",
          "x": 5,
          "xref": "x",
          "y": 8,
          "yref": "y"
         },
         {
          "font": {
           "color": "black"
          },
          "showarrow": false,
          "text": "Mn",
          "x": 6,
          "xref": "x",
          "y": 8,
          "yref": "y"
         },
         {
          "font": {
           "color": "black"
          },
          "showarrow": false,
          "text": "Fe",
          "x": 7,
          "xref": "x",
          "y": 8,
          "yref": "y"
         },
         {
          "font": {
           "color": "black"
          },
          "showarrow": false,
          "text": "Co",
          "x": 8,
          "xref": "x",
          "y": 8,
          "yref": "y"
         },
         {
          "font": {
           "color": "black"
          },
          "showarrow": false,
          "text": "Ni",
          "x": 9,
          "xref": "x",
          "y": 8,
          "yref": "y"
         },
         {
          "font": {
           "color": "black"
          },
          "showarrow": false,
          "text": "Cu",
          "x": 10,
          "xref": "x",
          "y": 8,
          "yref": "y"
         },
         {
          "font": {
           "color": "black"
          },
          "showarrow": false,
          "text": "Zn",
          "x": 11,
          "xref": "x",
          "y": 8,
          "yref": "y"
         },
         {
          "font": {
           "color": "black"
          },
          "showarrow": false,
          "text": "Ga",
          "x": 12,
          "xref": "x",
          "y": 8,
          "yref": "y"
         },
         {
          "font": {
           "color": "black"
          },
          "showarrow": false,
          "text": "Ge",
          "x": 13,
          "xref": "x",
          "y": 8,
          "yref": "y"
         },
         {
          "font": {
           "color": "black"
          },
          "showarrow": false,
          "text": "As",
          "x": 14,
          "xref": "x",
          "y": 8,
          "yref": "y"
         },
         {
          "font": {
           "color": "black"
          },
          "showarrow": false,
          "text": "Se",
          "x": 15,
          "xref": "x",
          "y": 8,
          "yref": "y"
         },
         {
          "font": {
           "color": "black"
          },
          "showarrow": false,
          "text": "Br",
          "x": 16,
          "xref": "x",
          "y": 8,
          "yref": "y"
         },
         {
          "font": {
           "color": "black"
          },
          "showarrow": false,
          "text": "Kr",
          "x": 17,
          "xref": "x",
          "y": 8,
          "yref": "y"
         },
         {
          "font": {
           "color": "black"
          },
          "showarrow": false,
          "text": "Na",
          "x": 0,
          "xref": "x",
          "y": 9,
          "yref": "y"
         },
         {
          "font": {
           "color": "black"
          },
          "showarrow": false,
          "text": "Mg",
          "x": 1,
          "xref": "x",
          "y": 9,
          "yref": "y"
         },
         {
          "font": {
           "color": "black"
          },
          "showarrow": false,
          "text": "",
          "x": 2,
          "xref": "x",
          "y": 9,
          "yref": "y"
         },
         {
          "font": {
           "color": "black"
          },
          "showarrow": false,
          "text": "",
          "x": 3,
          "xref": "x",
          "y": 9,
          "yref": "y"
         },
         {
          "font": {
           "color": "black"
          },
          "showarrow": false,
          "text": "",
          "x": 4,
          "xref": "x",
          "y": 9,
          "yref": "y"
         },
         {
          "font": {
           "color": "black"
          },
          "showarrow": false,
          "text": "",
          "x": 5,
          "xref": "x",
          "y": 9,
          "yref": "y"
         },
         {
          "font": {
           "color": "black"
          },
          "showarrow": false,
          "text": "",
          "x": 6,
          "xref": "x",
          "y": 9,
          "yref": "y"
         },
         {
          "font": {
           "color": "black"
          },
          "showarrow": false,
          "text": "",
          "x": 7,
          "xref": "x",
          "y": 9,
          "yref": "y"
         },
         {
          "font": {
           "color": "black"
          },
          "showarrow": false,
          "text": "",
          "x": 8,
          "xref": "x",
          "y": 9,
          "yref": "y"
         },
         {
          "font": {
           "color": "black"
          },
          "showarrow": false,
          "text": "",
          "x": 9,
          "xref": "x",
          "y": 9,
          "yref": "y"
         },
         {
          "font": {
           "color": "black"
          },
          "showarrow": false,
          "text": "",
          "x": 10,
          "xref": "x",
          "y": 9,
          "yref": "y"
         },
         {
          "font": {
           "color": "black"
          },
          "showarrow": false,
          "text": "",
          "x": 11,
          "xref": "x",
          "y": 9,
          "yref": "y"
         },
         {
          "font": {
           "color": "black"
          },
          "showarrow": false,
          "text": "Al",
          "x": 12,
          "xref": "x",
          "y": 9,
          "yref": "y"
         },
         {
          "font": {
           "color": "black"
          },
          "showarrow": false,
          "text": "Si",
          "x": 13,
          "xref": "x",
          "y": 9,
          "yref": "y"
         },
         {
          "font": {
           "color": "black"
          },
          "showarrow": false,
          "text": "P",
          "x": 14,
          "xref": "x",
          "y": 9,
          "yref": "y"
         },
         {
          "font": {
           "color": "black"
          },
          "showarrow": false,
          "text": "S",
          "x": 15,
          "xref": "x",
          "y": 9,
          "yref": "y"
         },
         {
          "font": {
           "color": "black"
          },
          "showarrow": false,
          "text": "Cl",
          "x": 16,
          "xref": "x",
          "y": 9,
          "yref": "y"
         },
         {
          "font": {
           "color": "black"
          },
          "showarrow": false,
          "text": "Ar",
          "x": 17,
          "xref": "x",
          "y": 9,
          "yref": "y"
         },
         {
          "font": {
           "color": "black"
          },
          "showarrow": false,
          "text": "Li",
          "x": 0,
          "xref": "x",
          "y": 10,
          "yref": "y"
         },
         {
          "font": {
           "color": "black"
          },
          "showarrow": false,
          "text": "Be",
          "x": 1,
          "xref": "x",
          "y": 10,
          "yref": "y"
         },
         {
          "font": {
           "color": "black"
          },
          "showarrow": false,
          "text": "",
          "x": 2,
          "xref": "x",
          "y": 10,
          "yref": "y"
         },
         {
          "font": {
           "color": "black"
          },
          "showarrow": false,
          "text": "",
          "x": 3,
          "xref": "x",
          "y": 10,
          "yref": "y"
         },
         {
          "font": {
           "color": "black"
          },
          "showarrow": false,
          "text": "",
          "x": 4,
          "xref": "x",
          "y": 10,
          "yref": "y"
         },
         {
          "font": {
           "color": "black"
          },
          "showarrow": false,
          "text": "",
          "x": 5,
          "xref": "x",
          "y": 10,
          "yref": "y"
         },
         {
          "font": {
           "color": "black"
          },
          "showarrow": false,
          "text": "",
          "x": 6,
          "xref": "x",
          "y": 10,
          "yref": "y"
         },
         {
          "font": {
           "color": "black"
          },
          "showarrow": false,
          "text": "",
          "x": 7,
          "xref": "x",
          "y": 10,
          "yref": "y"
         },
         {
          "font": {
           "color": "black"
          },
          "showarrow": false,
          "text": "",
          "x": 8,
          "xref": "x",
          "y": 10,
          "yref": "y"
         },
         {
          "font": {
           "color": "black"
          },
          "showarrow": false,
          "text": "",
          "x": 9,
          "xref": "x",
          "y": 10,
          "yref": "y"
         },
         {
          "font": {
           "color": "black"
          },
          "showarrow": false,
          "text": "",
          "x": 10,
          "xref": "x",
          "y": 10,
          "yref": "y"
         },
         {
          "font": {
           "color": "black"
          },
          "showarrow": false,
          "text": "",
          "x": 11,
          "xref": "x",
          "y": 10,
          "yref": "y"
         },
         {
          "font": {
           "color": "black"
          },
          "showarrow": false,
          "text": "B",
          "x": 12,
          "xref": "x",
          "y": 10,
          "yref": "y"
         },
         {
          "font": {
           "color": "black"
          },
          "showarrow": false,
          "text": "C",
          "x": 13,
          "xref": "x",
          "y": 10,
          "yref": "y"
         },
         {
          "font": {
           "color": "black"
          },
          "showarrow": false,
          "text": "N",
          "x": 14,
          "xref": "x",
          "y": 10,
          "yref": "y"
         },
         {
          "font": {
           "color": "black"
          },
          "showarrow": false,
          "text": "O",
          "x": 15,
          "xref": "x",
          "y": 10,
          "yref": "y"
         },
         {
          "font": {
           "color": "black"
          },
          "showarrow": false,
          "text": "F",
          "x": 16,
          "xref": "x",
          "y": 10,
          "yref": "y"
         },
         {
          "font": {
           "color": "black"
          },
          "showarrow": false,
          "text": "Ne",
          "x": 17,
          "xref": "x",
          "y": 10,
          "yref": "y"
         },
         {
          "font": {
           "color": "black"
          },
          "showarrow": false,
          "text": "H",
          "x": 0,
          "xref": "x",
          "y": 11,
          "yref": "y"
         },
         {
          "font": {
           "color": "black"
          },
          "showarrow": false,
          "text": "",
          "x": 1,
          "xref": "x",
          "y": 11,
          "yref": "y"
         },
         {
          "font": {
           "color": "black"
          },
          "showarrow": false,
          "text": "",
          "x": 2,
          "xref": "x",
          "y": 11,
          "yref": "y"
         },
         {
          "font": {
           "color": "black"
          },
          "showarrow": false,
          "text": "",
          "x": 3,
          "xref": "x",
          "y": 11,
          "yref": "y"
         },
         {
          "font": {
           "color": "black"
          },
          "showarrow": false,
          "text": "",
          "x": 4,
          "xref": "x",
          "y": 11,
          "yref": "y"
         },
         {
          "font": {
           "color": "black"
          },
          "showarrow": false,
          "text": "",
          "x": 5,
          "xref": "x",
          "y": 11,
          "yref": "y"
         },
         {
          "font": {
           "color": "black"
          },
          "showarrow": false,
          "text": "",
          "x": 6,
          "xref": "x",
          "y": 11,
          "yref": "y"
         },
         {
          "font": {
           "color": "black"
          },
          "showarrow": false,
          "text": "",
          "x": 7,
          "xref": "x",
          "y": 11,
          "yref": "y"
         },
         {
          "font": {
           "color": "black"
          },
          "showarrow": false,
          "text": "",
          "x": 8,
          "xref": "x",
          "y": 11,
          "yref": "y"
         },
         {
          "font": {
           "color": "black"
          },
          "showarrow": false,
          "text": "",
          "x": 9,
          "xref": "x",
          "y": 11,
          "yref": "y"
         },
         {
          "font": {
           "color": "black"
          },
          "showarrow": false,
          "text": "",
          "x": 10,
          "xref": "x",
          "y": 11,
          "yref": "y"
         },
         {
          "font": {
           "color": "black"
          },
          "showarrow": false,
          "text": "",
          "x": 11,
          "xref": "x",
          "y": 11,
          "yref": "y"
         },
         {
          "font": {
           "color": "black"
          },
          "showarrow": false,
          "text": "",
          "x": 12,
          "xref": "x",
          "y": 11,
          "yref": "y"
         },
         {
          "font": {
           "color": "black"
          },
          "showarrow": false,
          "text": "",
          "x": 13,
          "xref": "x",
          "y": 11,
          "yref": "y"
         },
         {
          "font": {
           "color": "black"
          },
          "showarrow": false,
          "text": "",
          "x": 14,
          "xref": "x",
          "y": 11,
          "yref": "y"
         },
         {
          "font": {
           "color": "black"
          },
          "showarrow": false,
          "text": "",
          "x": 15,
          "xref": "x",
          "y": 11,
          "yref": "y"
         },
         {
          "font": {
           "color": "black"
          },
          "showarrow": false,
          "text": "",
          "x": 16,
          "xref": "x",
          "y": 11,
          "yref": "y"
         },
         {
          "font": {
           "color": "black"
          },
          "showarrow": false,
          "text": "He",
          "x": 17,
          "xref": "x",
          "y": 11,
          "yref": "y"
         }
        ],
        "title": {
         "text": "Periodic Table"
        },
        "xaxis": {
         "gridcolor": "rgb(0, 0, 0)",
         "showticklabels": false,
         "side": "top",
         "ticks": ""
        },
        "yaxis": {
         "showticklabels": false,
         "ticks": "",
         "ticksuffix": "  "
        }
       }
      },
      "text/html": [
       "<div>\n",
       "        \n",
       "        \n",
       "            <div id=\"42383317-c677-41c0-b9c2-2ad0ab55ffbf\" class=\"plotly-graph-div\" style=\"height:525px; width:100%;\"></div>\n",
       "            <script type=\"text/javascript\">\n",
       "                require([\"plotly\"], function(Plotly) {\n",
       "                    window.PLOTLYENV=window.PLOTLYENV || {};\n",
       "                    window.PLOTLYENV.BASE_URL='https://plot.ly';\n",
       "                    \n",
       "                if (document.getElementById(\"42383317-c677-41c0-b9c2-2ad0ab55ffbf\")) {\n",
       "                    Plotly.newPlot(\n",
       "                        '42383317-c677-41c0-b9c2-2ad0ab55ffbf',\n",
       "                        [{\"colorscale\": [[0.0, \"rgb(255,255,255)\"], [0.2, \"rgb(255, 255, 153)\"], [0.4, \"rgb(153, 255, 204)\"], [0.6, \"rgb(179, 217, 255)\"], [0.8, \"rgb(240, 179, 255)\"], [1.0, \"rgb(255, 77, 148)\"]], \"hoverinfo\": \"text\", \"reversescale\": false, \"showscale\": false, \"text\": [[\"<br>Atomic Mass: 0.0\", \"<br>Atomic Mass: 0.0\", \"<br>Atomic Mass: 0.0\", \"<br>Atomic Mass: 0.0\", \"<br>Atomic Mass: 0.0\", \"<br>Atomic Mass: 0.0\", \"<br>Atomic Mass: 0.0\", \"<br>Atomic Mass: 0.0\", \"<br>Atomic Mass: 0.0\", \"<br>Atomic Mass: 0.0\", \"<br>Atomic Mass: 0.0\", \"<br>Atomic Mass: 0.0\", \"<br>Atomic Mass: 0.0\", \"<br>Atomic Mass: 0.0\", \"<br>Atomic Mass: 0.0\", \"<br>Atomic Mass: 0.0\", \"<br>Atomic Mass: 0.0\", \"<br>Atomic Mass: 0.0\"], [\"<br>Atomic Mass: 0.0\", \"<br>Atomic Mass: 0.0\", \"<br>Atomic Mass: 0.0\", \"<br>Atomic Mass: 0.0\", \"<br>Atomic Mass: 0.0\", \"<br>Atomic Mass: 0.0\", \"<br>Atomic Mass: 0.0\", \"<br>Atomic Mass: 0.0\", \"<br>Atomic Mass: 0.0\", \"<br>Atomic Mass: 0.0\", \"<br>Atomic Mass: 0.0\", \"<br>Atomic Mass: 0.0\", \"<br>Atomic Mass: 0.0\", \"<br>Atomic Mass: 0.0\", \"<br>Atomic Mass: 0.0\", \"<br>Atomic Mass: 0.0\", \"<br>Atomic Mass: 0.0\", \"<br>Atomic Mass: 0.0\"], [\"<br>Atomic Mass: 0.0\", \"<br>Atomic Mass: 0.0\", \"<br>Atomic Mass: 0.0\", \"<br>Atomic Mass: 0.0\", \"<br>Atomic Mass: 0.0\", \"<br>Atomic Mass: 0.0\", \"<br>Atomic Mass: 0.0\", \"<br>Atomic Mass: 0.0\", \"<br>Atomic Mass: 0.0\", \"<br>Atomic Mass: 0.0\", \"<br>Atomic Mass: 0.0\", \"<br>Atomic Mass: 0.0\", \"<br>Atomic Mass: 0.0\", \"<br>Atomic Mass: 0.0\", \"<br>Atomic Mass: 0.0\", \"<br>Atomic Mass: 0.0\", \"<br>Atomic Mass: 0.0\", \"<br>Atomic Mass: 0.0\"], [\"<br>Atomic Mass: 0.0\", \"<br>Atomic Mass: 0.0\", \"Actinium<br>Atomic Mass: 227\", \"Thorium<br>Atomic Mass: 232.03806\", \"Protactinium<br>Atomic Mass: 231.03588\", \"Uranium<br>Atomic Mass: 238.02891\", \"Neptunium<br>Atomic Mass: 237\", \"Plutonium<br>Atomic Mass: 244\", \"Americium<br>Atomic Mass: 243\", \"Curium<br>Atomic Mass: 247\", \"Berkelium<br>Atomic Mass: 247\", \"Californium<br>Atomic Mass: 251\", \"Einsteinium<br>Atomic Mass: 252\", \"Fermium<br>Atomic Mass: 257\", \"Mendelevium<br>Atomic Mass: 258\", \"Nobelium<br>Atomic Mass: 259\", \"Lawrencium<br>Atomic Mass: 262\", \"<br>Atomic Mass: 0.0\"], [\"<br>Atomic Mass: 0.0\", \"<br>Atomic Mass: 0.0\", \"Lanthanum<br>Atomic Mass: 138.90547\", \"Cerium<br>Atomic Mass: 140.116\", \"Praseodymium<br>Atomic Mass: 140.90765\", \"Neodymium<br>Atomic Mass: 144.242\", \"Promethium<br>Atomic Mass: 145\", \"Samarium<br>Atomic Mass: 150.36\", \"Europium<br>Atomic Mass: 151.964\", \"Gadolinium<br>Atomic Mass: 157.25\", \"Terbium<br>Atomic Mass: 158.92535\", \"Dysprosium<br>Atomic Mass: 162.5\", \"Holmium<br>Atomic Mass: 164.93032\", \"Erbium<br>Atomic Mass: 167.259\", \"Thulium<br>Atomic Mass: 168.93421\", \"Ytterbium<br>Atomic Mass: 173.054\", \"Lutetium<br>Atomic Mass: 174.9668\", \"<br>Atomic Mass: 0.0\"], [\" Francium<br>Atomic Mass: 223\", \" Radium<br>Atomic Mass: 226\", \"<br>Atomic Mass: 0.0\", \"Rutherfordium<br>Atomic Mass: 267\", \"Dubnium<br>Atomic Mass: 268\", \"Seaborgium<br>Atomic Mass: 271\", \"Bohrium<br>Atomic Mass: 272\", \"Hassium<br>Atomic Mass: 270\", \"Meitnerium<br>Atomic Mass: 276\", \"Darmstadtium<br>Atomic Mass: 281\", \"Roentgenium<br>Atomic Mass: 280\", \"Copernicium<br>Atomic Mass: 285\", \"Ununtrium<br>Atomic Mass: 284\", \"Ununquadium<br>Atomic Mass: 289\", \"Ununpentium<br>Atomic Mass: 288\", \"Ununhexium<br>Atomic Mass: 293\", \"Ununseptium<br>Atomic Mass: unknown\", \"Ununoctium<br>Atomic Mass: 294\"], [\" Cesium<br>Atomic Mass: 132.9054519\", \" Barium<br>Atomic Mass: 137.327\", \"<br>Atomic Mass: 0.0\", \"Hafnium<br>Atomic Mass: 178.49\", \"Tantalum<br>Atomic Mass: 180.94788\", \"Tungsten<br>Atomic Mass: 183.84\", \"Rhenium<br>Atomic Mass: 186.207\", \"Osmium<br>Atomic Mass: 190.23\", \"Iridium<br>Atomic Mass: 192.217\", \"Platinum<br>Atomic Mass: 195.084\", \"Gold<br>Atomic Mass: 196.966569\", \"Mercury<br>Atomic Mass: 200.59\", \"Thallium<br>Atomic Mass: 204.3833\", \"Lead<br>Atomic Mass: 207.2\", \"Bismuth<br>Atomic Mass: 208.9804\", \"Polonium<br>Atomic Mass: 209\", \"Astatine<br>Atomic Mass: 210\", \"Radon<br>Atomic Mass: 222\"], [\"Rubidium<br>Atomic Mass: 85.4678\", \"Strontium<br>Atomic Mass: 87.62\", \"Yttrium<br>Atomic Mass: 88.90585\", \"Zirconium<br>Atomic Mass: 91.224\", \"Niobium<br>Atomic Mass: 92.90638\", \"Molybdenum<br>Atomic Mass: 95.96\", \"Technetium<br>Atomic Mass: 98\", \"Ruthenium<br>Atomic Mass: 101.07\", \"Rhodium<br>Atomic Mass: 102.9055\", \"Palladium<br>Atomic Mass: 106.42\", \"Silver<br>Atomic Mass: 107.8682\", \"Cadmium<br>Atomic Mass: 112.411\", \"Indium<br>Atomic Mass: 114.818\", \"Tin<br>Atomic Mass: 118.71\", \"Antimony<br>Atomic Mass: 121.76\", \"Tellurium<br>Atomic Mass: 127.6\", \"Iodine<br>Atomic Mass: 126.90447\", \"Xenon<br>Atomic Mass: 131.293\"], [\"Potassium<br>Atomic Mass: 39.0983\", \" Calcium<br>Atomic Mass: 40.078\", \" Scandium<br>Atomic Mass: 44.955912\", \" Titanium<br>Atomic Mass: 47.867\", \" Vanadium<br>Atomic Mass: 50.9415\", \" Chromium<br>Atomic Mass: 51.9961\", \"Manganese<br>Atomic Mass: 54.938045\", \"Iron<br>Atomic Mass: 55.845\", \"Cobalt<br>Atomic Mass: 58.933195\", \"Nickel<br>Atomic Mass: 58.6934\", \"Copper<br>Atomic Mass: 63.546\", \"Zinc<br>Atomic Mass: 65.38\", \"Gallium<br>Atomic Mass: 69.723\", \"Germanium<br>Atomic Mass: 72.64\", \"Arsenic<br>Atomic Mass: 74.9216\", \"Selenium<br>Atomic Mass: 78.96\", \"Bromine<br>Atomic Mass: 79.904\", \"Krypton<br>Atomic Mass: 83.798\"], [\"Sodium<br>Atomic Mass: 22.98976928\", \"Magnesium<br>Atomic Mass: 24.305\", \"<br>Atomic Mass: 0.0\", \"<br>Atomic Mass: 0.0\", \"<br>Atomic Mass: 0.0\", \"<br>Atomic Mass: 0.0\", \"<br>Atomic Mass: 0.0\", \"<br>Atomic Mass: 0.0\", \"<br>Atomic Mass: 0.0\", \"<br>Atomic Mass: 0.0\", \"<br>Atomic Mass: 0.0\", \"<br>Atomic Mass: 0.0\", \"Aluminium<br>Atomic Mass: 26.9815386\", \"Silicon<br>Atomic Mass: 28.0855\", \"Phosphorus<br>Atomic Mass: 30.973762\", \"Sulfur<br>Atomic Mass: 32.065\", \"Chlorine<br>Atomic Mass: 35.453\", \" Argon<br>Atomic Mass: 39.948\"], [\"Lithium<br>Atomic Mass: 6.941\", \"Beryllium<br>Atomic Mass: 9.012182\", \"<br>Atomic Mass: 0.0\", \"<br>Atomic Mass: 0.0\", \"<br>Atomic Mass: 0.0\", \"<br>Atomic Mass: 0.0\", \"<br>Atomic Mass: 0.0\", \"<br>Atomic Mass: 0.0\", \"<br>Atomic Mass: 0.0\", \"<br>Atomic Mass: 0.0\", \"<br>Atomic Mass: 0.0\", \"<br>Atomic Mass: 0.0\", \"Boron<br>Atomic Mass: 10.811\", \"Carbon<br>Atomic Mass: 12.0107\", \"Nitrogen<br>Atomic Mass: 14.0067\", \"Oxygen<br>Atomic Mass: 15.9994\", \"Fluorine<br>Atomic Mass: 18.9984032\", \"Neon<br>Atomic Mass: 20.1797\"], [\"Hydrogen<br>Atomic Mass: 1.00794\", \"<br>Atomic Mass: 0.0\", \"<br>Atomic Mass: 0.0\", \"<br>Atomic Mass: 0.0\", \"<br>Atomic Mass: 0.0\", \"<br>Atomic Mass: 0.0\", \"<br>Atomic Mass: 0.0\", \"<br>Atomic Mass: 0.0\", \"<br>Atomic Mass: 0.0\", \"<br>Atomic Mass: 0.0\", \"<br>Atomic Mass: 0.0\", \"<br>Atomic Mass: 0.0\", \"<br>Atomic Mass: 0.0\", \"<br>Atomic Mass: 0.0\", \"<br>Atomic Mass: 0.0\", \"<br>Atomic Mass: 0.0\", \"<br>Atomic Mass: 0.0\", \"Helium<br>Atomic Mass: 4.002602\"]], \"type\": \"heatmap\", \"uid\": \"56fc4c9b-72cb-4321-a179-f98ddb31e64f\", \"z\": [[0.2, 0.2, 0.2, 0.4, 0.4, 0.4, 0.6, 0.6, 0.6, 0.8, 0.8, 0.8, 1.0, 1.0, 1.0, 0.0, 0.0, 0.0], [0.1, 0.1, 0.1, 0.3, 0.3, 0.3, 0.5, 0.5, 0.5, 0.7, 0.7, 0.7, 0.9, 0.9, 0.9, 0.0, 0.0, 0.0], [0.0, 0.0, 0.0, 0.0, 0.0, 0.0, 0.0, 0.0, 0.0, 0.0, 0.0, 0.0, 0.0, 0.0, 0.0, 0.0, 0.0, 0.0], [0.0, 0.0, 0.5, 0.5, 0.5, 0.5, 0.5, 0.5, 0.5, 0.5, 0.5, 0.5, 0.5, 0.5, 0.5, 0.5, 0.5, 0.0], [0.0, 0.0, 0.4, 0.4, 0.4, 0.4, 0.4, 0.4, 0.4, 0.4, 0.4, 0.4, 0.4, 0.4, 0.4, 0.4, 0.4, 0.0], [0.1, 0.2, 0.5, 0.3, 0.3, 0.3, 0.3, 0.3, 0.3, 0.3, 0.3, 0.3, 0.6, 0.6, 0.6, 0.6, 0.9, 1.0], [0.1, 0.2, 0.4, 0.3, 0.3, 0.3, 0.3, 0.3, 0.3, 0.3, 0.3, 0.3, 0.6, 0.6, 0.6, 0.7, 0.9, 1.0], [0.1, 0.2, 0.3, 0.3, 0.3, 0.3, 0.3, 0.3, 0.3, 0.3, 0.3, 0.3, 0.6, 0.6, 0.7, 0.7, 0.9, 1.0], [0.1, 0.2, 0.3, 0.3, 0.3, 0.3, 0.3, 0.3, 0.3, 0.3, 0.3, 0.3, 0.6, 0.7, 0.8, 0.8, 0.9, 1.0], [0.1, 0.2, 0.0, 0.0, 0.0, 0.0, 0.0, 0.0, 0.0, 0.0, 0.0, 0.0, 0.6, 0.7, 0.8, 0.8, 0.9, 1], [0.1, 0.2, 0.0, 0.0, 0.0, 0.0, 0.0, 0.0, 0.0, 0.0, 0.0, 0.0, 0.7, 0.8, 0.8, 0.8, 0.9, 1.0], [0.8, 0.0, 0.0, 0.0, 0.0, 0.0, 0.0, 0.0, 0.0, 0.0, 0.0, 0.0, 0.0, 0.0, 0.0, 0.0, 0.0, 1.0]]}],\n",
       "                        {\"annotations\": [{\"font\": {\"color\": \"black\"}, \"showarrow\": false, \"text\": \"\", \"x\": 0, \"xref\": \"x\", \"y\": 0, \"yref\": \"y\"}, {\"font\": {\"color\": \"black\"}, \"showarrow\": false, \"text\": \"Alkaline Metal\", \"x\": 1, \"xref\": \"x\", \"y\": 0, \"yref\": \"y\"}, {\"font\": {\"color\": \"black\"}, \"showarrow\": false, \"text\": \"\", \"x\": 2, \"xref\": \"x\", \"y\": 0, \"yref\": \"y\"}, {\"font\": {\"color\": \"black\"}, \"showarrow\": false, \"text\": \"\", \"x\": 3, \"xref\": \"x\", \"y\": 0, \"yref\": \"y\"}, {\"font\": {\"color\": \"black\"}, \"showarrow\": false, \"text\": \"Lanthanide\", \"x\": 4, \"xref\": \"x\", \"y\": 0, \"yref\": \"y\"}, {\"font\": {\"color\": \"black\"}, \"showarrow\": false, \"text\": \"\", \"x\": 5, \"xref\": \"x\", \"y\": 0, \"yref\": \"y\"}, {\"font\": {\"color\": \"black\"}, \"showarrow\": false, \"text\": \"\", \"x\": 6, \"xref\": \"x\", \"y\": 0, \"yref\": \"y\"}, {\"font\": {\"color\": \"black\"}, \"showarrow\": false, \"text\": \"Basic Metal\", \"x\": 7, \"xref\": \"x\", \"y\": 0, \"yref\": \"y\"}, {\"font\": {\"color\": \"black\"}, \"showarrow\": false, \"text\": \"\", \"x\": 8, \"xref\": \"x\", \"y\": 0, \"yref\": \"y\"}, {\"font\": {\"color\": \"black\"}, \"showarrow\": false, \"text\": \"\", \"x\": 9, \"xref\": \"x\", \"y\": 0, \"yref\": \"y\"}, {\"font\": {\"color\": \"black\"}, \"showarrow\": false, \"text\": \"Nonmetal\", \"x\": 10, \"xref\": \"x\", \"y\": 0, \"yref\": \"y\"}, {\"font\": {\"color\": \"black\"}, \"showarrow\": false, \"text\": \"\", \"x\": 11, \"xref\": \"x\", \"y\": 0, \"yref\": \"y\"}, {\"font\": {\"color\": \"black\"}, \"showarrow\": false, \"text\": \"\", \"x\": 12, \"xref\": \"x\", \"y\": 0, \"yref\": \"y\"}, {\"font\": {\"color\": \"black\"}, \"showarrow\": false, \"text\": \"Noble Gas\", \"x\": 13, \"xref\": \"x\", \"y\": 0, \"yref\": \"y\"}, {\"font\": {\"color\": \"black\"}, \"showarrow\": false, \"text\": \"\", \"x\": 14, \"xref\": \"x\", \"y\": 0, \"yref\": \"y\"}, {\"font\": {\"color\": \"black\"}, \"showarrow\": false, \"text\": \"\", \"x\": 15, \"xref\": \"x\", \"y\": 0, \"yref\": \"y\"}, {\"font\": {\"color\": \"black\"}, \"showarrow\": false, \"text\": \"\", \"x\": 16, \"xref\": \"x\", \"y\": 0, \"yref\": \"y\"}, {\"font\": {\"color\": \"black\"}, \"showarrow\": false, \"text\": \"\", \"x\": 17, \"xref\": \"x\", \"y\": 0, \"yref\": \"y\"}, {\"font\": {\"color\": \"black\"}, \"showarrow\": false, \"text\": \"\", \"x\": 0, \"xref\": \"x\", \"y\": 1, \"yref\": \"y\"}, {\"font\": {\"color\": \"black\"}, \"showarrow\": false, \"text\": \"Alkali Metal\", \"x\": 1, \"xref\": \"x\", \"y\": 1, \"yref\": \"y\"}, {\"font\": {\"color\": \"black\"}, \"showarrow\": false, \"text\": \"\", \"x\": 2, \"xref\": \"x\", \"y\": 1, \"yref\": \"y\"}, {\"font\": {\"color\": \"black\"}, \"showarrow\": false, \"text\": \"\", \"x\": 3, \"xref\": \"x\", \"y\": 1, \"yref\": \"y\"}, {\"font\": {\"color\": \"black\"}, \"showarrow\": false, \"text\": \"Transition Metal\", \"x\": 4, \"xref\": \"x\", \"y\": 1, \"yref\": \"y\"}, {\"font\": {\"color\": \"black\"}, \"showarrow\": false, \"text\": \"\", \"x\": 5, \"xref\": \"x\", \"y\": 1, \"yref\": \"y\"}, {\"font\": {\"color\": \"black\"}, \"showarrow\": false, \"text\": \"\", \"x\": 6, \"xref\": \"x\", \"y\": 1, \"yref\": \"y\"}, {\"font\": {\"color\": \"black\"}, \"showarrow\": false, \"text\": \"Actinide\", \"x\": 7, \"xref\": \"x\", \"y\": 1, \"yref\": \"y\"}, {\"font\": {\"color\": \"black\"}, \"showarrow\": false, \"text\": \"\", \"x\": 8, \"xref\": \"x\", \"y\": 1, \"yref\": \"y\"}, {\"font\": {\"color\": \"black\"}, \"showarrow\": false, \"text\": \"\", \"x\": 9, \"xref\": \"x\", \"y\": 1, \"yref\": \"y\"}, {\"font\": {\"color\": \"black\"}, \"showarrow\": false, \"text\": \"Semimetal\", \"x\": 10, \"xref\": \"x\", \"y\": 1, \"yref\": \"y\"}, {\"font\": {\"color\": \"black\"}, \"showarrow\": false, \"text\": \"\", \"x\": 11, \"xref\": \"x\", \"y\": 1, \"yref\": \"y\"}, {\"font\": {\"color\": \"black\"}, \"showarrow\": false, \"text\": \"\", \"x\": 12, \"xref\": \"x\", \"y\": 1, \"yref\": \"y\"}, {\"font\": {\"color\": \"black\"}, \"showarrow\": false, \"text\": \"Halogen\", \"x\": 13, \"xref\": \"x\", \"y\": 1, \"yref\": \"y\"}, {\"font\": {\"color\": \"black\"}, \"showarrow\": false, \"text\": \"\", \"x\": 14, \"xref\": \"x\", \"y\": 1, \"yref\": \"y\"}, {\"font\": {\"color\": \"black\"}, \"showarrow\": false, \"text\": \"\", \"x\": 15, \"xref\": \"x\", \"y\": 1, \"yref\": \"y\"}, {\"font\": {\"color\": \"black\"}, \"showarrow\": false, \"text\": \"\", \"x\": 16, \"xref\": \"x\", \"y\": 1, \"yref\": \"y\"}, {\"font\": {\"color\": \"black\"}, \"showarrow\": false, \"text\": \"\", \"x\": 17, \"xref\": \"x\", \"y\": 1, \"yref\": \"y\"}, {\"font\": {\"color\": \"black\"}, \"showarrow\": false, \"text\": \"\", \"x\": 0, \"xref\": \"x\", \"y\": 2, \"yref\": \"y\"}, {\"font\": {\"color\": \"black\"}, \"showarrow\": false, \"text\": \"\", \"x\": 1, \"xref\": \"x\", \"y\": 2, \"yref\": \"y\"}, {\"font\": {\"color\": \"black\"}, \"showarrow\": false, \"text\": \"\", \"x\": 2, \"xref\": \"x\", \"y\": 2, \"yref\": \"y\"}, {\"font\": {\"color\": \"black\"}, \"showarrow\": false, \"text\": \"\", \"x\": 3, \"xref\": \"x\", \"y\": 2, \"yref\": \"y\"}, {\"font\": {\"color\": \"black\"}, \"showarrow\": false, \"text\": \"\", \"x\": 4, \"xref\": \"x\", \"y\": 2, \"yref\": \"y\"}, {\"font\": {\"color\": \"black\"}, \"showarrow\": false, \"text\": \"\", \"x\": 5, \"xref\": \"x\", \"y\": 2, \"yref\": \"y\"}, {\"font\": {\"color\": \"black\"}, \"showarrow\": false, \"text\": \"\", \"x\": 6, \"xref\": \"x\", \"y\": 2, \"yref\": \"y\"}, {\"font\": {\"color\": \"black\"}, \"showarrow\": false, \"text\": \"\", \"x\": 7, \"xref\": \"x\", \"y\": 2, \"yref\": \"y\"}, {\"font\": {\"color\": \"black\"}, \"showarrow\": false, \"text\": \"\", \"x\": 8, \"xref\": \"x\", \"y\": 2, \"yref\": \"y\"}, {\"font\": {\"color\": \"black\"}, \"showarrow\": false, \"text\": \"\", \"x\": 9, \"xref\": \"x\", \"y\": 2, \"yref\": \"y\"}, {\"font\": {\"color\": \"black\"}, \"showarrow\": false, \"text\": \"\", \"x\": 10, \"xref\": \"x\", \"y\": 2, \"yref\": \"y\"}, {\"font\": {\"color\": \"black\"}, \"showarrow\": false, \"text\": \"\", \"x\": 11, \"xref\": \"x\", \"y\": 2, \"yref\": \"y\"}, {\"font\": {\"color\": \"black\"}, \"showarrow\": false, \"text\": \"\", \"x\": 12, \"xref\": \"x\", \"y\": 2, \"yref\": \"y\"}, {\"font\": {\"color\": \"black\"}, \"showarrow\": false, \"text\": \"\", \"x\": 13, \"xref\": \"x\", \"y\": 2, \"yref\": \"y\"}, {\"font\": {\"color\": \"black\"}, \"showarrow\": false, \"text\": \"\", \"x\": 14, \"xref\": \"x\", \"y\": 2, \"yref\": \"y\"}, {\"font\": {\"color\": \"black\"}, \"showarrow\": false, \"text\": \"\", \"x\": 15, \"xref\": \"x\", \"y\": 2, \"yref\": \"y\"}, {\"font\": {\"color\": \"black\"}, \"showarrow\": false, \"text\": \"\", \"x\": 16, \"xref\": \"x\", \"y\": 2, \"yref\": \"y\"}, {\"font\": {\"color\": \"black\"}, \"showarrow\": false, \"text\": \"\", \"x\": 17, \"xref\": \"x\", \"y\": 2, \"yref\": \"y\"}, {\"font\": {\"color\": \"black\"}, \"showarrow\": false, \"text\": \"\", \"x\": 0, \"xref\": \"x\", \"y\": 3, \"yref\": \"y\"}, {\"font\": {\"color\": \"black\"}, \"showarrow\": false, \"text\": \"\", \"x\": 1, \"xref\": \"x\", \"y\": 3, \"yref\": \"y\"}, {\"font\": {\"color\": \"black\"}, \"showarrow\": false, \"text\": \"Ac\", \"x\": 2, \"xref\": \"x\", \"y\": 3, \"yref\": \"y\"}, {\"font\": {\"color\": \"black\"}, \"showarrow\": false, \"text\": \"Th\", \"x\": 3, \"xref\": \"x\", \"y\": 3, \"yref\": \"y\"}, {\"font\": {\"color\": \"black\"}, \"showarrow\": false, \"text\": \"Pa\", \"x\": 4, \"xref\": \"x\", \"y\": 3, \"yref\": \"y\"}, {\"font\": {\"color\": \"black\"}, \"showarrow\": false, \"text\": \"U\", \"x\": 5, \"xref\": \"x\", \"y\": 3, \"yref\": \"y\"}, {\"font\": {\"color\": \"black\"}, \"showarrow\": false, \"text\": \"Np\", \"x\": 6, \"xref\": \"x\", \"y\": 3, \"yref\": \"y\"}, {\"font\": {\"color\": \"black\"}, \"showarrow\": false, \"text\": \"Pu\", \"x\": 7, \"xref\": \"x\", \"y\": 3, \"yref\": \"y\"}, {\"font\": {\"color\": \"black\"}, \"showarrow\": false, \"text\": \"Am\", \"x\": 8, \"xref\": \"x\", \"y\": 3, \"yref\": \"y\"}, {\"font\": {\"color\": \"black\"}, \"showarrow\": false, \"text\": \"Cm\", \"x\": 9, \"xref\": \"x\", \"y\": 3, \"yref\": \"y\"}, {\"font\": {\"color\": \"black\"}, \"showarrow\": false, \"text\": \"Bk\", \"x\": 10, \"xref\": \"x\", \"y\": 3, \"yref\": \"y\"}, {\"font\": {\"color\": \"black\"}, \"showarrow\": false, \"text\": \"Cf\", \"x\": 11, \"xref\": \"x\", \"y\": 3, \"yref\": \"y\"}, {\"font\": {\"color\": \"black\"}, \"showarrow\": false, \"text\": \"Es\", \"x\": 12, \"xref\": \"x\", \"y\": 3, \"yref\": \"y\"}, {\"font\": {\"color\": \"black\"}, \"showarrow\": false, \"text\": \"Fm\", \"x\": 13, \"xref\": \"x\", \"y\": 3, \"yref\": \"y\"}, {\"font\": {\"color\": \"black\"}, \"showarrow\": false, \"text\": \"Md\", \"x\": 14, \"xref\": \"x\", \"y\": 3, \"yref\": \"y\"}, {\"font\": {\"color\": \"black\"}, \"showarrow\": false, \"text\": \"No\", \"x\": 15, \"xref\": \"x\", \"y\": 3, \"yref\": \"y\"}, {\"font\": {\"color\": \"black\"}, \"showarrow\": false, \"text\": \"Lr\", \"x\": 16, \"xref\": \"x\", \"y\": 3, \"yref\": \"y\"}, {\"font\": {\"color\": \"black\"}, \"showarrow\": false, \"text\": \"\", \"x\": 17, \"xref\": \"x\", \"y\": 3, \"yref\": \"y\"}, {\"font\": {\"color\": \"black\"}, \"showarrow\": false, \"text\": \"\", \"x\": 0, \"xref\": \"x\", \"y\": 4, \"yref\": \"y\"}, {\"font\": {\"color\": \"black\"}, \"showarrow\": false, \"text\": \"\", \"x\": 1, \"xref\": \"x\", \"y\": 4, \"yref\": \"y\"}, {\"font\": {\"color\": \"black\"}, \"showarrow\": false, \"text\": \"La\", \"x\": 2, \"xref\": \"x\", \"y\": 4, \"yref\": \"y\"}, {\"font\": {\"color\": \"black\"}, \"showarrow\": false, \"text\": \"Ce\", \"x\": 3, \"xref\": \"x\", \"y\": 4, \"yref\": \"y\"}, {\"font\": {\"color\": \"black\"}, \"showarrow\": false, \"text\": \"Pr\", \"x\": 4, \"xref\": \"x\", \"y\": 4, \"yref\": \"y\"}, {\"font\": {\"color\": \"black\"}, \"showarrow\": false, \"text\": \"Nd\", \"x\": 5, \"xref\": \"x\", \"y\": 4, \"yref\": \"y\"}, {\"font\": {\"color\": \"black\"}, \"showarrow\": false, \"text\": \"Pm\", \"x\": 6, \"xref\": \"x\", \"y\": 4, \"yref\": \"y\"}, {\"font\": {\"color\": \"black\"}, \"showarrow\": false, \"text\": \"Sm\", \"x\": 7, \"xref\": \"x\", \"y\": 4, \"yref\": \"y\"}, {\"font\": {\"color\": \"black\"}, \"showarrow\": false, \"text\": \"Eu\", \"x\": 8, \"xref\": \"x\", \"y\": 4, \"yref\": \"y\"}, {\"font\": {\"color\": \"black\"}, \"showarrow\": false, \"text\": \"Gd\", \"x\": 9, \"xref\": \"x\", \"y\": 4, \"yref\": \"y\"}, {\"font\": {\"color\": \"black\"}, \"showarrow\": false, \"text\": \"Tb\", \"x\": 10, \"xref\": \"x\", \"y\": 4, \"yref\": \"y\"}, {\"font\": {\"color\": \"black\"}, \"showarrow\": false, \"text\": \"Dy\", \"x\": 11, \"xref\": \"x\", \"y\": 4, \"yref\": \"y\"}, {\"font\": {\"color\": \"black\"}, \"showarrow\": false, \"text\": \"Ho\", \"x\": 12, \"xref\": \"x\", \"y\": 4, \"yref\": \"y\"}, {\"font\": {\"color\": \"black\"}, \"showarrow\": false, \"text\": \"Er\", \"x\": 13, \"xref\": \"x\", \"y\": 4, \"yref\": \"y\"}, {\"font\": {\"color\": \"black\"}, \"showarrow\": false, \"text\": \"Tm\", \"x\": 14, \"xref\": \"x\", \"y\": 4, \"yref\": \"y\"}, {\"font\": {\"color\": \"black\"}, \"showarrow\": false, \"text\": \"Yb\", \"x\": 15, \"xref\": \"x\", \"y\": 4, \"yref\": \"y\"}, {\"font\": {\"color\": \"black\"}, \"showarrow\": false, \"text\": \"Lu\", \"x\": 16, \"xref\": \"x\", \"y\": 4, \"yref\": \"y\"}, {\"font\": {\"color\": \"black\"}, \"showarrow\": false, \"text\": \"\", \"x\": 17, \"xref\": \"x\", \"y\": 4, \"yref\": \"y\"}, {\"font\": {\"color\": \"black\"}, \"showarrow\": false, \"text\": \"Fr\", \"x\": 0, \"xref\": \"x\", \"y\": 5, \"yref\": \"y\"}, {\"font\": {\"color\": \"black\"}, \"showarrow\": false, \"text\": \"Ra\", \"x\": 1, \"xref\": \"x\", \"y\": 5, \"yref\": \"y\"}, {\"font\": {\"color\": \"black\"}, \"showarrow\": false, \"text\": \"\", \"x\": 2, \"xref\": \"x\", \"y\": 5, \"yref\": \"y\"}, {\"font\": {\"color\": \"black\"}, \"showarrow\": false, \"text\": \"Rf\", \"x\": 3, \"xref\": \"x\", \"y\": 5, \"yref\": \"y\"}, {\"font\": {\"color\": \"black\"}, \"showarrow\": false, \"text\": \"Db\", \"x\": 4, \"xref\": \"x\", \"y\": 5, \"yref\": \"y\"}, {\"font\": {\"color\": \"black\"}, \"showarrow\": false, \"text\": \"Sg\", \"x\": 5, \"xref\": \"x\", \"y\": 5, \"yref\": \"y\"}, {\"font\": {\"color\": \"black\"}, \"showarrow\": false, \"text\": \"Bh\", \"x\": 6, \"xref\": \"x\", \"y\": 5, \"yref\": \"y\"}, {\"font\": {\"color\": \"black\"}, \"showarrow\": false, \"text\": \"Hs\", \"x\": 7, \"xref\": \"x\", \"y\": 5, \"yref\": \"y\"}, {\"font\": {\"color\": \"black\"}, \"showarrow\": false, \"text\": \"Mt\", \"x\": 8, \"xref\": \"x\", \"y\": 5, \"yref\": \"y\"}, {\"font\": {\"color\": \"black\"}, \"showarrow\": false, \"text\": \"Ds\", \"x\": 9, \"xref\": \"x\", \"y\": 5, \"yref\": \"y\"}, {\"font\": {\"color\": \"black\"}, \"showarrow\": false, \"text\": \"Rg\", \"x\": 10, \"xref\": \"x\", \"y\": 5, \"yref\": \"y\"}, {\"font\": {\"color\": \"black\"}, \"showarrow\": false, \"text\": \"Cn\", \"x\": 11, \"xref\": \"x\", \"y\": 5, \"yref\": \"y\"}, {\"font\": {\"color\": \"black\"}, \"showarrow\": false, \"text\": \"Uut\", \"x\": 12, \"xref\": \"x\", \"y\": 5, \"yref\": \"y\"}, {\"font\": {\"color\": \"black\"}, \"showarrow\": false, \"text\": \"Fl\", \"x\": 13, \"xref\": \"x\", \"y\": 5, \"yref\": \"y\"}, {\"font\": {\"color\": \"black\"}, \"showarrow\": false, \"text\": \"Uup\", \"x\": 14, \"xref\": \"x\", \"y\": 5, \"yref\": \"y\"}, {\"font\": {\"color\": \"black\"}, \"showarrow\": false, \"text\": \"Lv\", \"x\": 15, \"xref\": \"x\", \"y\": 5, \"yref\": \"y\"}, {\"font\": {\"color\": \"black\"}, \"showarrow\": false, \"text\": \"Uus\", \"x\": 16, \"xref\": \"x\", \"y\": 5, \"yref\": \"y\"}, {\"font\": {\"color\": \"black\"}, \"showarrow\": false, \"text\": \"Uuo\", \"x\": 17, \"xref\": \"x\", \"y\": 5, \"yref\": \"y\"}, {\"font\": {\"color\": \"black\"}, \"showarrow\": false, \"text\": \"Cs\", \"x\": 0, \"xref\": \"x\", \"y\": 6, \"yref\": \"y\"}, {\"font\": {\"color\": \"black\"}, \"showarrow\": false, \"text\": \"Ba\", \"x\": 1, \"xref\": \"x\", \"y\": 6, \"yref\": \"y\"}, {\"font\": {\"color\": \"black\"}, \"showarrow\": false, \"text\": \"\", \"x\": 2, \"xref\": \"x\", \"y\": 6, \"yref\": \"y\"}, {\"font\": {\"color\": \"black\"}, \"showarrow\": false, \"text\": \"Hf\", \"x\": 3, \"xref\": \"x\", \"y\": 6, \"yref\": \"y\"}, {\"font\": {\"color\": \"black\"}, \"showarrow\": false, \"text\": \"Ta\", \"x\": 4, \"xref\": \"x\", \"y\": 6, \"yref\": \"y\"}, {\"font\": {\"color\": \"black\"}, \"showarrow\": false, \"text\": \"W\", \"x\": 5, \"xref\": \"x\", \"y\": 6, \"yref\": \"y\"}, {\"font\": {\"color\": \"black\"}, \"showarrow\": false, \"text\": \"Re\", \"x\": 6, \"xref\": \"x\", \"y\": 6, \"yref\": \"y\"}, {\"font\": {\"color\": \"black\"}, \"showarrow\": false, \"text\": \"Os\", \"x\": 7, \"xref\": \"x\", \"y\": 6, \"yref\": \"y\"}, {\"font\": {\"color\": \"black\"}, \"showarrow\": false, \"text\": \"Ir\", \"x\": 8, \"xref\": \"x\", \"y\": 6, \"yref\": \"y\"}, {\"font\": {\"color\": \"black\"}, \"showarrow\": false, \"text\": \"Pt\", \"x\": 9, \"xref\": \"x\", \"y\": 6, \"yref\": \"y\"}, {\"font\": {\"color\": \"black\"}, \"showarrow\": false, \"text\": \"Au\", \"x\": 10, \"xref\": \"x\", \"y\": 6, \"yref\": \"y\"}, {\"font\": {\"color\": \"black\"}, \"showarrow\": false, \"text\": \"Hg\", \"x\": 11, \"xref\": \"x\", \"y\": 6, \"yref\": \"y\"}, {\"font\": {\"color\": \"black\"}, \"showarrow\": false, \"text\": \"Tl\", \"x\": 12, \"xref\": \"x\", \"y\": 6, \"yref\": \"y\"}, {\"font\": {\"color\": \"black\"}, \"showarrow\": false, \"text\": \"Pb\", \"x\": 13, \"xref\": \"x\", \"y\": 6, \"yref\": \"y\"}, {\"font\": {\"color\": \"black\"}, \"showarrow\": false, \"text\": \"Bi\", \"x\": 14, \"xref\": \"x\", \"y\": 6, \"yref\": \"y\"}, {\"font\": {\"color\": \"black\"}, \"showarrow\": false, \"text\": \"Po\", \"x\": 15, \"xref\": \"x\", \"y\": 6, \"yref\": \"y\"}, {\"font\": {\"color\": \"black\"}, \"showarrow\": false, \"text\": \"At\", \"x\": 16, \"xref\": \"x\", \"y\": 6, \"yref\": \"y\"}, {\"font\": {\"color\": \"black\"}, \"showarrow\": false, \"text\": \"Rn\", \"x\": 17, \"xref\": \"x\", \"y\": 6, \"yref\": \"y\"}, {\"font\": {\"color\": \"black\"}, \"showarrow\": false, \"text\": \"Rb \", \"x\": 0, \"xref\": \"x\", \"y\": 7, \"yref\": \"y\"}, {\"font\": {\"color\": \"black\"}, \"showarrow\": false, \"text\": \"Sr\", \"x\": 1, \"xref\": \"x\", \"y\": 7, \"yref\": \"y\"}, {\"font\": {\"color\": \"black\"}, \"showarrow\": false, \"text\": \"Y\", \"x\": 2, \"xref\": \"x\", \"y\": 7, \"yref\": \"y\"}, {\"font\": {\"color\": \"black\"}, \"showarrow\": false, \"text\": \"Zr\", \"x\": 3, \"xref\": \"x\", \"y\": 7, \"yref\": \"y\"}, {\"font\": {\"color\": \"black\"}, \"showarrow\": false, \"text\": \"Nb\", \"x\": 4, \"xref\": \"x\", \"y\": 7, \"yref\": \"y\"}, {\"font\": {\"color\": \"black\"}, \"showarrow\": false, \"text\": \"Mo\", \"x\": 5, \"xref\": \"x\", \"y\": 7, \"yref\": \"y\"}, {\"font\": {\"color\": \"black\"}, \"showarrow\": false, \"text\": \"Tc\", \"x\": 6, \"xref\": \"x\", \"y\": 7, \"yref\": \"y\"}, {\"font\": {\"color\": \"black\"}, \"showarrow\": false, \"text\": \"Ru\", \"x\": 7, \"xref\": \"x\", \"y\": 7, \"yref\": \"y\"}, {\"font\": {\"color\": \"black\"}, \"showarrow\": false, \"text\": \"Rh\", \"x\": 8, \"xref\": \"x\", \"y\": 7, \"yref\": \"y\"}, {\"font\": {\"color\": \"black\"}, \"showarrow\": false, \"text\": \"Pd\", \"x\": 9, \"xref\": \"x\", \"y\": 7, \"yref\": \"y\"}, {\"font\": {\"color\": \"black\"}, \"showarrow\": false, \"text\": \"Ag\", \"x\": 10, \"xref\": \"x\", \"y\": 7, \"yref\": \"y\"}, {\"font\": {\"color\": \"black\"}, \"showarrow\": false, \"text\": \"Cd\", \"x\": 11, \"xref\": \"x\", \"y\": 7, \"yref\": \"y\"}, {\"font\": {\"color\": \"black\"}, \"showarrow\": false, \"text\": \"In\", \"x\": 12, \"xref\": \"x\", \"y\": 7, \"yref\": \"y\"}, {\"font\": {\"color\": \"black\"}, \"showarrow\": false, \"text\": \"Sn\", \"x\": 13, \"xref\": \"x\", \"y\": 7, \"yref\": \"y\"}, {\"font\": {\"color\": \"black\"}, \"showarrow\": false, \"text\": \"Sb\", \"x\": 14, \"xref\": \"x\", \"y\": 7, \"yref\": \"y\"}, {\"font\": {\"color\": \"black\"}, \"showarrow\": false, \"text\": \"Te\", \"x\": 15, \"xref\": \"x\", \"y\": 7, \"yref\": \"y\"}, {\"font\": {\"color\": \"black\"}, \"showarrow\": false, \"text\": \"I\", \"x\": 16, \"xref\": \"x\", \"y\": 7, \"yref\": \"y\"}, {\"font\": {\"color\": \"black\"}, \"showarrow\": false, \"text\": \"Xe\", \"x\": 17, \"xref\": \"x\", \"y\": 7, \"yref\": \"y\"}, {\"font\": {\"color\": \"black\"}, \"showarrow\": false, \"text\": \"K\", \"x\": 0, \"xref\": \"x\", \"y\": 8, \"yref\": \"y\"}, {\"font\": {\"color\": \"black\"}, \"showarrow\": false, \"text\": \"Ca\", \"x\": 1, \"xref\": \"x\", \"y\": 8, \"yref\": \"y\"}, {\"font\": {\"color\": \"black\"}, \"showarrow\": false, \"text\": \"Sc\", \"x\": 2, \"xref\": \"x\", \"y\": 8, \"yref\": \"y\"}, {\"font\": {\"color\": \"black\"}, \"showarrow\": false, \"text\": \"Ti\", \"x\": 3, \"xref\": \"x\", \"y\": 8, \"yref\": \"y\"}, {\"font\": {\"color\": \"black\"}, \"showarrow\": false, \"text\": \"V\", \"x\": 4, \"xref\": \"x\", \"y\": 8, \"yref\": \"y\"}, {\"font\": {\"color\": \"black\"}, \"showarrow\": false, \"text\": \"Cr\", \"x\": 5, \"xref\": \"x\", \"y\": 8, \"yref\": \"y\"}, {\"font\": {\"color\": \"black\"}, \"showarrow\": false, \"text\": \"Mn\", \"x\": 6, \"xref\": \"x\", \"y\": 8, \"yref\": \"y\"}, {\"font\": {\"color\": \"black\"}, \"showarrow\": false, \"text\": \"Fe\", \"x\": 7, \"xref\": \"x\", \"y\": 8, \"yref\": \"y\"}, {\"font\": {\"color\": \"black\"}, \"showarrow\": false, \"text\": \"Co\", \"x\": 8, \"xref\": \"x\", \"y\": 8, \"yref\": \"y\"}, {\"font\": {\"color\": \"black\"}, \"showarrow\": false, \"text\": \"Ni\", \"x\": 9, \"xref\": \"x\", \"y\": 8, \"yref\": \"y\"}, {\"font\": {\"color\": \"black\"}, \"showarrow\": false, \"text\": \"Cu\", \"x\": 10, \"xref\": \"x\", \"y\": 8, \"yref\": \"y\"}, {\"font\": {\"color\": \"black\"}, \"showarrow\": false, \"text\": \"Zn\", \"x\": 11, \"xref\": \"x\", \"y\": 8, \"yref\": \"y\"}, {\"font\": {\"color\": \"black\"}, \"showarrow\": false, \"text\": \"Ga\", \"x\": 12, \"xref\": \"x\", \"y\": 8, \"yref\": \"y\"}, {\"font\": {\"color\": \"black\"}, \"showarrow\": false, \"text\": \"Ge\", \"x\": 13, \"xref\": \"x\", \"y\": 8, \"yref\": \"y\"}, {\"font\": {\"color\": \"black\"}, \"showarrow\": false, \"text\": \"As\", \"x\": 14, \"xref\": \"x\", \"y\": 8, \"yref\": \"y\"}, {\"font\": {\"color\": \"black\"}, \"showarrow\": false, \"text\": \"Se\", \"x\": 15, \"xref\": \"x\", \"y\": 8, \"yref\": \"y\"}, {\"font\": {\"color\": \"black\"}, \"showarrow\": false, \"text\": \"Br\", \"x\": 16, \"xref\": \"x\", \"y\": 8, \"yref\": \"y\"}, {\"font\": {\"color\": \"black\"}, \"showarrow\": false, \"text\": \"Kr\", \"x\": 17, \"xref\": \"x\", \"y\": 8, \"yref\": \"y\"}, {\"font\": {\"color\": \"black\"}, \"showarrow\": false, \"text\": \"Na\", \"x\": 0, \"xref\": \"x\", \"y\": 9, \"yref\": \"y\"}, {\"font\": {\"color\": \"black\"}, \"showarrow\": false, \"text\": \"Mg\", \"x\": 1, \"xref\": \"x\", \"y\": 9, \"yref\": \"y\"}, {\"font\": {\"color\": \"black\"}, \"showarrow\": false, \"text\": \"\", \"x\": 2, \"xref\": \"x\", \"y\": 9, \"yref\": \"y\"}, {\"font\": {\"color\": \"black\"}, \"showarrow\": false, \"text\": \"\", \"x\": 3, \"xref\": \"x\", \"y\": 9, \"yref\": \"y\"}, {\"font\": {\"color\": \"black\"}, \"showarrow\": false, \"text\": \"\", \"x\": 4, \"xref\": \"x\", \"y\": 9, \"yref\": \"y\"}, {\"font\": {\"color\": \"black\"}, \"showarrow\": false, \"text\": \"\", \"x\": 5, \"xref\": \"x\", \"y\": 9, \"yref\": \"y\"}, {\"font\": {\"color\": \"black\"}, \"showarrow\": false, \"text\": \"\", \"x\": 6, \"xref\": \"x\", \"y\": 9, \"yref\": \"y\"}, {\"font\": {\"color\": \"black\"}, \"showarrow\": false, \"text\": \"\", \"x\": 7, \"xref\": \"x\", \"y\": 9, \"yref\": \"y\"}, {\"font\": {\"color\": \"black\"}, \"showarrow\": false, \"text\": \"\", \"x\": 8, \"xref\": \"x\", \"y\": 9, \"yref\": \"y\"}, {\"font\": {\"color\": \"black\"}, \"showarrow\": false, \"text\": \"\", \"x\": 9, \"xref\": \"x\", \"y\": 9, \"yref\": \"y\"}, {\"font\": {\"color\": \"black\"}, \"showarrow\": false, \"text\": \"\", \"x\": 10, \"xref\": \"x\", \"y\": 9, \"yref\": \"y\"}, {\"font\": {\"color\": \"black\"}, \"showarrow\": false, \"text\": \"\", \"x\": 11, \"xref\": \"x\", \"y\": 9, \"yref\": \"y\"}, {\"font\": {\"color\": \"black\"}, \"showarrow\": false, \"text\": \"Al\", \"x\": 12, \"xref\": \"x\", \"y\": 9, \"yref\": \"y\"}, {\"font\": {\"color\": \"black\"}, \"showarrow\": false, \"text\": \"Si\", \"x\": 13, \"xref\": \"x\", \"y\": 9, \"yref\": \"y\"}, {\"font\": {\"color\": \"black\"}, \"showarrow\": false, \"text\": \"P\", \"x\": 14, \"xref\": \"x\", \"y\": 9, \"yref\": \"y\"}, {\"font\": {\"color\": \"black\"}, \"showarrow\": false, \"text\": \"S\", \"x\": 15, \"xref\": \"x\", \"y\": 9, \"yref\": \"y\"}, {\"font\": {\"color\": \"black\"}, \"showarrow\": false, \"text\": \"Cl\", \"x\": 16, \"xref\": \"x\", \"y\": 9, \"yref\": \"y\"}, {\"font\": {\"color\": \"black\"}, \"showarrow\": false, \"text\": \"Ar\", \"x\": 17, \"xref\": \"x\", \"y\": 9, \"yref\": \"y\"}, {\"font\": {\"color\": \"black\"}, \"showarrow\": false, \"text\": \"Li\", \"x\": 0, \"xref\": \"x\", \"y\": 10, \"yref\": \"y\"}, {\"font\": {\"color\": \"black\"}, \"showarrow\": false, \"text\": \"Be\", \"x\": 1, \"xref\": \"x\", \"y\": 10, \"yref\": \"y\"}, {\"font\": {\"color\": \"black\"}, \"showarrow\": false, \"text\": \"\", \"x\": 2, \"xref\": \"x\", \"y\": 10, \"yref\": \"y\"}, {\"font\": {\"color\": \"black\"}, \"showarrow\": false, \"text\": \"\", \"x\": 3, \"xref\": \"x\", \"y\": 10, \"yref\": \"y\"}, {\"font\": {\"color\": \"black\"}, \"showarrow\": false, \"text\": \"\", \"x\": 4, \"xref\": \"x\", \"y\": 10, \"yref\": \"y\"}, {\"font\": {\"color\": \"black\"}, \"showarrow\": false, \"text\": \"\", \"x\": 5, \"xref\": \"x\", \"y\": 10, \"yref\": \"y\"}, {\"font\": {\"color\": \"black\"}, \"showarrow\": false, \"text\": \"\", \"x\": 6, \"xref\": \"x\", \"y\": 10, \"yref\": \"y\"}, {\"font\": {\"color\": \"black\"}, \"showarrow\": false, \"text\": \"\", \"x\": 7, \"xref\": \"x\", \"y\": 10, \"yref\": \"y\"}, {\"font\": {\"color\": \"black\"}, \"showarrow\": false, \"text\": \"\", \"x\": 8, \"xref\": \"x\", \"y\": 10, \"yref\": \"y\"}, {\"font\": {\"color\": \"black\"}, \"showarrow\": false, \"text\": \"\", \"x\": 9, \"xref\": \"x\", \"y\": 10, \"yref\": \"y\"}, {\"font\": {\"color\": \"black\"}, \"showarrow\": false, \"text\": \"\", \"x\": 10, \"xref\": \"x\", \"y\": 10, \"yref\": \"y\"}, {\"font\": {\"color\": \"black\"}, \"showarrow\": false, \"text\": \"\", \"x\": 11, \"xref\": \"x\", \"y\": 10, \"yref\": \"y\"}, {\"font\": {\"color\": \"black\"}, \"showarrow\": false, \"text\": \"B\", \"x\": 12, \"xref\": \"x\", \"y\": 10, \"yref\": \"y\"}, {\"font\": {\"color\": \"black\"}, \"showarrow\": false, \"text\": \"C\", \"x\": 13, \"xref\": \"x\", \"y\": 10, \"yref\": \"y\"}, {\"font\": {\"color\": \"black\"}, \"showarrow\": false, \"text\": \"N\", \"x\": 14, \"xref\": \"x\", \"y\": 10, \"yref\": \"y\"}, {\"font\": {\"color\": \"black\"}, \"showarrow\": false, \"text\": \"O\", \"x\": 15, \"xref\": \"x\", \"y\": 10, \"yref\": \"y\"}, {\"font\": {\"color\": \"black\"}, \"showarrow\": false, \"text\": \"F\", \"x\": 16, \"xref\": \"x\", \"y\": 10, \"yref\": \"y\"}, {\"font\": {\"color\": \"black\"}, \"showarrow\": false, \"text\": \"Ne\", \"x\": 17, \"xref\": \"x\", \"y\": 10, \"yref\": \"y\"}, {\"font\": {\"color\": \"black\"}, \"showarrow\": false, \"text\": \"H\", \"x\": 0, \"xref\": \"x\", \"y\": 11, \"yref\": \"y\"}, {\"font\": {\"color\": \"black\"}, \"showarrow\": false, \"text\": \"\", \"x\": 1, \"xref\": \"x\", \"y\": 11, \"yref\": \"y\"}, {\"font\": {\"color\": \"black\"}, \"showarrow\": false, \"text\": \"\", \"x\": 2, \"xref\": \"x\", \"y\": 11, \"yref\": \"y\"}, {\"font\": {\"color\": \"black\"}, \"showarrow\": false, \"text\": \"\", \"x\": 3, \"xref\": \"x\", \"y\": 11, \"yref\": \"y\"}, {\"font\": {\"color\": \"black\"}, \"showarrow\": false, \"text\": \"\", \"x\": 4, \"xref\": \"x\", \"y\": 11, \"yref\": \"y\"}, {\"font\": {\"color\": \"black\"}, \"showarrow\": false, \"text\": \"\", \"x\": 5, \"xref\": \"x\", \"y\": 11, \"yref\": \"y\"}, {\"font\": {\"color\": \"black\"}, \"showarrow\": false, \"text\": \"\", \"x\": 6, \"xref\": \"x\", \"y\": 11, \"yref\": \"y\"}, {\"font\": {\"color\": \"black\"}, \"showarrow\": false, \"text\": \"\", \"x\": 7, \"xref\": \"x\", \"y\": 11, \"yref\": \"y\"}, {\"font\": {\"color\": \"black\"}, \"showarrow\": false, \"text\": \"\", \"x\": 8, \"xref\": \"x\", \"y\": 11, \"yref\": \"y\"}, {\"font\": {\"color\": \"black\"}, \"showarrow\": false, \"text\": \"\", \"x\": 9, \"xref\": \"x\", \"y\": 11, \"yref\": \"y\"}, {\"font\": {\"color\": \"black\"}, \"showarrow\": false, \"text\": \"\", \"x\": 10, \"xref\": \"x\", \"y\": 11, \"yref\": \"y\"}, {\"font\": {\"color\": \"black\"}, \"showarrow\": false, \"text\": \"\", \"x\": 11, \"xref\": \"x\", \"y\": 11, \"yref\": \"y\"}, {\"font\": {\"color\": \"black\"}, \"showarrow\": false, \"text\": \"\", \"x\": 12, \"xref\": \"x\", \"y\": 11, \"yref\": \"y\"}, {\"font\": {\"color\": \"black\"}, \"showarrow\": false, \"text\": \"\", \"x\": 13, \"xref\": \"x\", \"y\": 11, \"yref\": \"y\"}, {\"font\": {\"color\": \"black\"}, \"showarrow\": false, \"text\": \"\", \"x\": 14, \"xref\": \"x\", \"y\": 11, \"yref\": \"y\"}, {\"font\": {\"color\": \"black\"}, \"showarrow\": false, \"text\": \"\", \"x\": 15, \"xref\": \"x\", \"y\": 11, \"yref\": \"y\"}, {\"font\": {\"color\": \"black\"}, \"showarrow\": false, \"text\": \"\", \"x\": 16, \"xref\": \"x\", \"y\": 11, \"yref\": \"y\"}, {\"font\": {\"color\": \"black\"}, \"showarrow\": false, \"text\": \"He\", \"x\": 17, \"xref\": \"x\", \"y\": 11, \"yref\": \"y\"}], \"title\": {\"text\": \"Periodic Table\"}, \"xaxis\": {\"gridcolor\": \"rgb(0, 0, 0)\", \"showticklabels\": false, \"side\": \"top\", \"ticks\": \"\"}, \"yaxis\": {\"showticklabels\": false, \"ticks\": \"\", \"ticksuffix\": \"  \"}},\n",
       "                        {\"showLink\": false, \"linkText\": \"Export to plot.ly\", \"plotlyServerURL\": \"https://plot.ly\", \"responsive\": true}\n",
       "                    ).then(function(){\n",
       "                            \n",
       "var gd = document.getElementById('42383317-c677-41c0-b9c2-2ad0ab55ffbf');\n",
       "var x = new MutationObserver(function (mutations, observer) {{\n",
       "        var display = window.getComputedStyle(gd).display;\n",
       "        if (!display || display === 'none') {{\n",
       "            console.log([gd, 'removed!']);\n",
       "            Plotly.purge(gd);\n",
       "            observer.disconnect();\n",
       "        }}\n",
       "}});\n",
       "\n",
       "// Listen for the removal of the full notebook cells\n",
       "var notebookContainer = gd.closest('#notebook-container');\n",
       "if (notebookContainer) {{\n",
       "    x.observe(notebookContainer, {childList: true});\n",
       "}}\n",
       "\n",
       "// Listen for the clearing of the current output cell\n",
       "var outputEl = gd.closest('.output');\n",
       "if (outputEl) {{\n",
       "    x.observe(outputEl, {childList: true});\n",
       "}}\n",
       "\n",
       "                        })\n",
       "                };\n",
       "                });\n",
       "            </script>\n",
       "        </div>"
      ]
     },
     "metadata": {},
     "output_type": "display_data"
    }
   ],
   "source": [
    "# Add Periodic Table Data\n",
    "symbol = [['H', '', '', '', '', '', '', '', '', '', '', '', '', '', '', '', '', 'He'],\n",
    "         ['Li', 'Be', '', '', '', '', '', '', '', '', '', '', 'B', 'C', 'N', 'O', 'F', 'Ne'],\n",
    "         ['Na', 'Mg', '', '', '', '', '', '', '', '', '', '', 'Al', 'Si', 'P', 'S', 'Cl', 'Ar'],\n",
    "         ['K', 'Ca', 'Sc', 'Ti', 'V', 'Cr', 'Mn', 'Fe', 'Co', 'Ni', 'Cu', 'Zn', 'Ga', 'Ge', 'As', 'Se', 'Br', 'Kr'],\n",
    "         ['Rb ', 'Sr', 'Y', 'Zr', 'Nb', 'Mo', 'Tc', 'Ru', 'Rh', 'Pd', 'Ag', 'Cd', 'In', 'Sn', 'Sb', 'Te', 'I', 'Xe' ],\n",
    "         ['Cs', 'Ba', '', 'Hf', 'Ta', 'W', 'Re', 'Os', 'Ir', 'Pt', 'Au', 'Hg', 'Tl', 'Pb', 'Bi', 'Po', 'At', 'Rn' ],\n",
    "         ['Fr', 'Ra', '', 'Rf', 'Db', 'Sg', 'Bh', 'Hs', 'Mt', 'Ds', 'Rg', 'Cn', 'Uut', 'Fl', 'Uup', 'Lv', 'Uus', 'Uuo'],\n",
    "         ['', '', 'La', 'Ce', 'Pr', 'Nd', 'Pm', 'Sm', 'Eu', 'Gd', 'Tb', 'Dy', 'Ho', 'Er', 'Tm', 'Yb', 'Lu', ''],\n",
    "         ['', '', 'Ac', 'Th', 'Pa', 'U', 'Np', 'Pu', 'Am', 'Cm', 'Bk', 'Cf', 'Es', 'Fm', 'Md', 'No', 'Lr', '' ],\n",
    "         ['', '', '', '', '', '', '', '', '', '', '', '', '', '', '', '', '', ''],\n",
    "         ['', 'Alkali Metal', '', '', 'Transition Metal', '', '', 'Actinide', '', '', 'Semimetal', '', '', 'Halogen', '', '', '', ''],\n",
    "         ['', 'Alkaline Metal', '', '', 'Lanthanide', '', '', 'Basic Metal', '', '', 'Nonmetal', '', '', 'Noble Gas', '', '', '', '']]\n",
    "\n",
    "element = [['Hydrogen', '', '', '', '', '', '', '', '', '', '', '', '', '', '', '', '', 'Helium'],\n",
    "           ['Lithium', 'Beryllium', '', '', '', '', '', '', '', '', '', '', 'Boron', 'Carbon', 'Nitrogen', 'Oxygen', 'Fluorine', 'Neon'],\n",
    "           ['Sodium', 'Magnesium', '', '', '', '', '', '', '', '', '', '', 'Aluminium', 'Silicon', 'Phosphorus', 'Sulfur', 'Chlorine', ' Argon'],\n",
    "           ['Potassium', ' Calcium', ' Scandium', ' Titanium', ' Vanadium', ' Chromium',  'Manganese', 'Iron', 'Cobalt', 'Nickel', 'Copper', 'Zinc', 'Gallium', 'Germanium', 'Arsenic', 'Selenium', 'Bromine', 'Krypton'],\n",
    "           ['Rubidium', 'Strontium', 'Yttrium', 'Zirconium', 'Niobium', 'Molybdenum', 'Technetium', 'Ruthenium', 'Rhodium', 'Palladium', 'Silver', 'Cadmium', 'Indium', 'Tin', 'Antimony', 'Tellurium', 'Iodine', 'Xenon'],\n",
    "           [' Cesium', ' Barium', '',  'Hafnium', 'Tantalum', 'Tungsten', 'Rhenium', 'Osmium', 'Iridium', 'Platinum', 'Gold', 'Mercury', 'Thallium', 'Lead', 'Bismuth', 'Polonium', 'Astatine', 'Radon'],\n",
    "           [' Francium', ' Radium', '', 'Rutherfordium','Dubnium','Seaborgium','Bohrium','Hassium','Meitnerium','Darmstadtium','Roentgenium','Copernicium','Ununtrium','Ununquadium','Ununpentium','Ununhexium','Ununseptium','Ununoctium'],\n",
    "           ['', '',  'Lanthanum', 'Cerium', 'Praseodymium', 'Neodymium', 'Promethium', 'Samarium', 'Europium', 'Gadolinium', 'Terbium', 'Dysprosium', 'Holmium', 'Erbium', 'Thulium', 'Ytterbium', 'Lutetium', ''],\n",
    "           ['', '', 'Actinium', 'Thorium', 'Protactinium', 'Uranium', 'Neptunium', 'Plutonium', 'Americium', 'Curium', 'Berkelium', 'Californium', 'Einsteinium','Fermium' ,'Mendelevium', 'Nobelium', 'Lawrencium', '' ],\n",
    "           ['', '', '', '', '', '', '', '', '', '', '', '', '', '', '', '', '', ''],\n",
    "           ['', '', '', '', '', '', '', '', '', '', '', '', '', '', '', '', '', ''],\n",
    "           ['', '', '', '', '', '', '', '', '', '', '', '', '', '', '', '', '', '']]\n",
    "\n",
    "atomic_mass = [[ 1.00794, .0, .0, .0, .0, .0, .0, .0, .0, .0, .0, .0, .0, .0, .0, .0, .0,  4.002602],\n",
    "     [ 6.941, 9.012182, .0, .0, .0, .0, .0, .0, .0, .0, .0, .0,  10.811, 12.0107, 14.0067, 15.9994, 18.9984032, 20.1797],\n",
    "     [ 22.98976928, 24.3050, .0, .0, .0, .0, .0, .0, .0, .0, .0, .0,  26.9815386, 28.0855, 30.973762, 32.065, 35.453, 39.948], \n",
    "     [ 39.0983, 40.078, 44.955912, 47.867, 50.9415, 51.9961, 54.938045, 55.845, 58.933195, 58.6934, 63.546, 65.38, 69.723, 72.64, 74.92160, 78.96, 79.904, 83.798],\n",
    "     [ 85.4678, 87.62, 88.90585, 91.224, 92.90638, 95.96, 98, 101.07, 102.90550, 106.42, 107.8682, 112.411, 114.818, 118.710, 121.760, 127.60, 126.90447, 131.293],\n",
    "     [ 132.9054519, 137.327, .0, 178.49, 180.94788, 183.84, 186.207, 190.23, 192.217, 195.084, 196.966569, 200.59, 204.3833, 207.2, 208.98040, 209, 210, 222],\n",
    "     [223, 226, .0, 267, 268, 271, 272, 270, 276, 281, 280, 285, 284, 289, 288, 293, 'unknown', 294],\n",
    "     [.0, .0, 138.90547, 140.116, 140.90765, 144.242, 145, 150.36, 151.964, 157.25, 158.92535, 162.500, 164.93032, 167.259, 168.93421, 173.054, 174.9668, .0],\n",
    "     [.0, .0, 227, 232.03806, 231.03588, 238.02891, 237, 244, 243, 247, 247, 251, 252, 257, 258, 259, 262, .0],\n",
    "     [.0, .0, .0, .0, .0, .0, .0, .0, .0, .0, .0, .0, .0, .0, .0, .0, .0, .0],\n",
    "     [.0, .0, .0, .0, .0, .0, .0, .0, .0, .0, .0, .0, .0, .0, .0, .0, .0, .0],\n",
    "     [.0, .0, .0, .0, .0, .0, .0, .0, .0, .0, .0, .0, .0, .0, .0, .0, .0, .0]]\n",
    "\n",
    "z = [[.8, .0, .0, .0, .0, .0, .0, .0, .0, .0, .0, .0, .0, .0, .0, .0, .0, 1.],\n",
    "     [.1, .2, .0, .0, .0, .0, .0, .0, .0, .0, .0, .0, .7, .8, .8, .8, .9, 1.],\n",
    "     [.1, .2, .0, .0, .0, .0, .0, .0, .0, .0, .0, .0, .6, .7, .8, .8, .9, 1], \n",
    "     [.1, .2, .3, .3, .3, .3, .3, .3, .3, .3, .3, .3, .6, .7, .8, .8, .9, 1.],\n",
    "     [.1, .2, .3, .3, .3, .3, .3, .3, .3, .3, .3, .3, .6, .6, .7, .7, .9, 1.],\n",
    "     [.1, .2, .4, .3, .3, .3, .3, .3, .3, .3, .3, .3, .6, .6, .6, .7, .9, 1.],\n",
    "     [.1, .2, .5, .3, .3, .3, .3, .3, .3, .3, .3, .3, .6, .6, .6, .6, .9, 1.],\n",
    "     [.0, .0, .4, .4, .4, .4, .4, .4, .4, .4, .4, .4, .4, .4, .4, .4, .4, .0],\n",
    "     [.0, .0, .5, .5, .5, .5, .5, .5, .5, .5, .5, .5, .5, .5, .5, .5, .5, .0],\n",
    "     [.0, .0, .0, .0, .0, .0, .0, .0, .0, .0, .0, .0, .0, .0, .0, .0, .0, .0],\n",
    "     [.1, .1, .1, .3, .3, .3, .5, .5, .5, .7, .7, .7, .9, .9, .9, .0, .0, .0],\n",
    "     [.2, .2, .2, .4, .4, .4, .6, .6, .6, .8, .8, .8, 1., 1., 1., .0, .0, .0]]\n",
    "\n",
    "# Display element name and atomic mass on hover\n",
    "hover=list(range(len(symbol)))\n",
    "for x in range(len(symbol)):\n",
    "    hover[x] = [i + '<br>' + 'Atomic Mass: ' + str(j) for i, j in zip(element[x], atomic_mass[x])]\n",
    "\n",
    "# Invert Matrices\n",
    "symbol = symbol[::-1]\n",
    "hover = hover[::-1]\n",
    "z = z[::-1]\n",
    "\n",
    "# Set Colorscale\n",
    "colorscale=[[0.0, 'rgb(255,255,255)'], [.2, 'rgb(255, 255, 153)'], \n",
    "            [.4, 'rgb(153, 255, 204)'], [.6, 'rgb(179, 217, 255)'], \n",
    "            [.8, 'rgb(240, 179, 255)'],[1.0, 'rgb(255, 77, 148)']]\n",
    "\n",
    "# Make Annotated Heatmap\n",
    "pt = FF.create_annotated_heatmap(z, annotation_text=symbol, text=hover,\n",
    "                                 colorscale=colorscale, font_colors=['black'], hoverinfo='text')\n",
    "pt.layout.title = 'Periodic Table'\n",
    "\n",
    "iplot(pt, filename='periodic_table')"
   ]
  },
  {
   "cell_type": "markdown",
   "metadata": {},
   "source": [
    "#### Reference\n",
    "For more info on Plotly heatmaps, see: https://plot.ly/python/reference/#heatmap.<br> For more info on using colorscales with Plotly see: https://plot.ly/python/heatmap-and-contour-colorscales/ <br>For more info on annotated_heatmaps, see:"
   ]
  },
  {
   "cell_type": "code",
   "execution_count": 13,
   "metadata": {},
   "outputs": [
    {
     "name": "stdout",
     "output_type": "stream",
     "text": [
      "Help on function create_annotated_heatmap in module plotly.tools:\n",
      "\n",
      "create_annotated_heatmap(*args, **kwargs)\n",
      "\n"
     ]
    }
   ],
   "source": [
    "help(FF.create_annotated_heatmap)"
   ]
  },
  {
   "cell_type": "code",
   "execution_count": null,
   "metadata": {},
   "outputs": [],
   "source": []
  }
 ],
 "metadata": {
  "anaconda-cloud": {},
  "kernelspec": {
   "display_name": "Python 3",
   "language": "python",
   "name": "python3"
  },
  "language_info": {
   "codemirror_mode": {
    "name": "ipython",
    "version": 3
   },
   "file_extension": ".py",
   "mimetype": "text/x-python",
   "name": "python",
   "nbconvert_exporter": "python",
   "pygments_lexer": "ipython3",
   "version": "3.6.7"
  }
 },
 "nbformat": 4,
 "nbformat_minor": 1
}
