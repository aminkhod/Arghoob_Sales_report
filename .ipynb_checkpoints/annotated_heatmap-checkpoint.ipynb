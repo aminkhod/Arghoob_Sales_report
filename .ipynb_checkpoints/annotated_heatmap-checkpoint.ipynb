{
 "cells": [
  {
   "cell_type": "markdown",
   "metadata": {},
   "source": [
    "#### New to Plotly? \n",
    "Plotly's Python library is free and open source! [Get started](https://plot.ly/python/getting-started/) by downloading the client and [reading the primer](https://plot.ly/python/getting-started/).\n",
    "<br>You can set up Plotly to work in [online](https://plot.ly/python/getting-started/#initialization-for-online-plotting) or [offline](https://plot.ly/python/getting-started/#initialization-for-offline-plotting) mode, or in [jupyter notebooks](https://plot.ly/python/getting-started/#start-plotting-online).\n",
    "<br>We also have a quick-reference [cheatsheet](https://images.plot.ly/plotly-documentation/images/python_cheat_sheet.pdf) (new!) to help you get started!"
   ]
  },
  {
   "cell_type": "markdown",
   "metadata": {},
   "source": [
    "#### Simple Annotated Heatmap"
   ]
  },
  {
   "cell_type": "code",
   "execution_count": 2,
   "metadata": {},
   "outputs": [
    {
     "data": {
      "text/html": [
       "        <script type=\"text/javascript\">\n",
       "        window.PlotlyConfig = {MathJaxConfig: 'local'};\n",
       "        if (window.MathJax) {MathJax.Hub.Config({SVG: {font: \"STIX-Web\"}});}\n",
       "        if (typeof require !== 'undefined') {\n",
       "        require.undef(\"plotly\");\n",
       "        requirejs.config({\n",
       "            paths: {\n",
       "                'plotly': ['https://cdn.plot.ly/plotly-latest.min']\n",
       "            }\n",
       "        });\n",
       "        require(['plotly'], function(Plotly) {\n",
       "            window._Plotly = Plotly;\n",
       "        });\n",
       "        }\n",
       "        </script>\n",
       "        "
      ]
     },
     "metadata": {},
     "output_type": "display_data"
    }
   ],
   "source": [
    "import pandas as pd\n",
    "import numpy as np\n",
    "import os\n",
    "import plotly.graph_objs as go\n",
    "import plotly.io as pio\n",
    "import plotly.plotly as py\n",
    "import plotly.figure_factory as ff\n",
    "import dash\n",
    "import dash_core_components as dcc\n",
    "import dash_html_components as html\n",
    "from  plotly.offline import plot\n",
    "import plotly\n",
    "from IPython.display import SVG, display\n",
    "from IPython.display import Image\n",
    "from IPython.display import display, Math, Latex\n",
    "import colorlover as cl\n",
    "from IPython.display import HTML\n",
    "from IPython.display import IFrame\n",
    "from plotly.offline import iplot, init_notebook_mode\n",
    "from IPython.display import YouTubeVideo\n",
    "init_notebook_mode(connected=True)\n",
    "df = pd.read_csv('allMonthes.csv')"
   ]
  },
  {
   "cell_type": "code",
   "execution_count": 7,
   "metadata": {},
   "outputs": [
    {
     "name": "stderr",
     "output_type": "stream",
     "text": [
      "c:\\program files\\python36\\lib\\site-packages\\plotly\\tools.py:1176: UserWarning:\n",
      "\n",
      "plotly.tools.FigureFactory.create_annotated_heatmap is deprecated. Use plotly.figure_factory.create_annotated_heatmap\n",
      "\n"
     ]
    },
    {
     "data": {
      "application/vnd.plotly.v1+json": {
       "config": {
        "linkText": "Export to plot.ly",
        "plotlyServerURL": "https://plot.ly",
        "showLink": false
       },
       "data": [
        {
         "colorscale": "RdBu",
         "reversescale": false,
         "showscale": false,
         "type": "heatmap",
         "uid": "c59418e8-2d0e-40e0-92fd-ef06443e9553",
         "z": [
          [
           0.1,
           0.3,
           0.5,
           0.7,
           0.9
          ],
          [
           1,
           0.8,
           0.6,
           0.4,
           0.2
          ],
          [
           0.2,
           0,
           0.5,
           0.7,
           0.9
          ],
          [
           0.9,
           0.8,
           0.4,
           0.2,
           0
          ],
          [
           0.3,
           0.4,
           0.5,
           0.7,
           1
          ]
         ]
        }
       ],
       "layout": {
        "annotations": [
         {
          "font": {
           "color": "#FFFFFF"
          },
          "showarrow": false,
          "text": "0.1",
          "x": 0,
          "xref": "x",
          "y": 0,
          "yref": "y"
         },
         {
          "font": {
           "color": "#FFFFFF"
          },
          "showarrow": false,
          "text": "0.3",
          "x": 1,
          "xref": "x",
          "y": 0,
          "yref": "y"
         },
         {
          "font": {
           "color": "#000000"
          },
          "showarrow": false,
          "text": "0.5",
          "x": 2,
          "xref": "x",
          "y": 0,
          "yref": "y"
         },
         {
          "font": {
           "color": "#000000"
          },
          "showarrow": false,
          "text": "0.7",
          "x": 3,
          "xref": "x",
          "y": 0,
          "yref": "y"
         },
         {
          "font": {
           "color": "#000000"
          },
          "showarrow": false,
          "text": "0.9",
          "x": 4,
          "xref": "x",
          "y": 0,
          "yref": "y"
         },
         {
          "font": {
           "color": "#000000"
          },
          "showarrow": false,
          "text": "1",
          "x": 0,
          "xref": "x",
          "y": 1,
          "yref": "y"
         },
         {
          "font": {
           "color": "#000000"
          },
          "showarrow": false,
          "text": "0.8",
          "x": 1,
          "xref": "x",
          "y": 1,
          "yref": "y"
         },
         {
          "font": {
           "color": "#000000"
          },
          "showarrow": false,
          "text": "0.6",
          "x": 2,
          "xref": "x",
          "y": 1,
          "yref": "y"
         },
         {
          "font": {
           "color": "#FFFFFF"
          },
          "showarrow": false,
          "text": "0.4",
          "x": 3,
          "xref": "x",
          "y": 1,
          "yref": "y"
         },
         {
          "font": {
           "color": "#FFFFFF"
          },
          "showarrow": false,
          "text": "0.2",
          "x": 4,
          "xref": "x",
          "y": 1,
          "yref": "y"
         },
         {
          "font": {
           "color": "#FFFFFF"
          },
          "showarrow": false,
          "text": "0.2",
          "x": 0,
          "xref": "x",
          "y": 2,
          "yref": "y"
         },
         {
          "font": {
           "color": "#FFFFFF"
          },
          "showarrow": false,
          "text": "0",
          "x": 1,
          "xref": "x",
          "y": 2,
          "yref": "y"
         },
         {
          "font": {
           "color": "#000000"
          },
          "showarrow": false,
          "text": "0.5",
          "x": 2,
          "xref": "x",
          "y": 2,
          "yref": "y"
         },
         {
          "font": {
           "color": "#000000"
          },
          "showarrow": false,
          "text": "0.7",
          "x": 3,
          "xref": "x",
          "y": 2,
          "yref": "y"
         },
         {
          "font": {
           "color": "#000000"
          },
          "showarrow": false,
          "text": "0.9",
          "x": 4,
          "xref": "x",
          "y": 2,
          "yref": "y"
         },
         {
          "font": {
           "color": "#000000"
          },
          "showarrow": false,
          "text": "0.9",
          "x": 0,
          "xref": "x",
          "y": 3,
          "yref": "y"
         },
         {
          "font": {
           "color": "#000000"
          },
          "showarrow": false,
          "text": "0.8",
          "x": 1,
          "xref": "x",
          "y": 3,
          "yref": "y"
         },
         {
          "font": {
           "color": "#FFFFFF"
          },
          "showarrow": false,
          "text": "0.4",
          "x": 2,
          "xref": "x",
          "y": 3,
          "yref": "y"
         },
         {
          "font": {
           "color": "#FFFFFF"
          },
          "showarrow": false,
          "text": "0.2",
          "x": 3,
          "xref": "x",
          "y": 3,
          "yref": "y"
         },
         {
          "font": {
           "color": "#FFFFFF"
          },
          "showarrow": false,
          "text": "0",
          "x": 4,
          "xref": "x",
          "y": 3,
          "yref": "y"
         },
         {
          "font": {
           "color": "#FFFFFF"
          },
          "showarrow": false,
          "text": "0.3",
          "x": 0,
          "xref": "x",
          "y": 4,
          "yref": "y"
         },
         {
          "font": {
           "color": "#FFFFFF"
          },
          "showarrow": false,
          "text": "0.4",
          "x": 1,
          "xref": "x",
          "y": 4,
          "yref": "y"
         },
         {
          "font": {
           "color": "#000000"
          },
          "showarrow": false,
          "text": "0.5",
          "x": 2,
          "xref": "x",
          "y": 4,
          "yref": "y"
         },
         {
          "font": {
           "color": "#000000"
          },
          "showarrow": false,
          "text": "0.7",
          "x": 3,
          "xref": "x",
          "y": 4,
          "yref": "y"
         },
         {
          "font": {
           "color": "#000000"
          },
          "showarrow": false,
          "text": "1",
          "x": 4,
          "xref": "x",
          "y": 4,
          "yref": "y"
         }
        ],
        "xaxis": {
         "gridcolor": "rgb(0, 0, 0)",
         "showticklabels": false,
         "side": "top",
         "ticks": ""
        },
        "yaxis": {
         "showticklabels": false,
         "ticks": "",
         "ticksuffix": "  "
        }
       }
      },
      "text/html": [
       "<div>\n",
       "        \n",
       "        \n",
       "            <div id=\"f1c2ade7-1ae5-4cd4-a2ba-d5fec26d32f4\" class=\"plotly-graph-div\" style=\"height:525px; width:100%;\"></div>\n",
       "            <script type=\"text/javascript\">\n",
       "                require([\"plotly\"], function(Plotly) {\n",
       "                    window.PLOTLYENV=window.PLOTLYENV || {};\n",
       "                    window.PLOTLYENV.BASE_URL='https://plot.ly';\n",
       "                    \n",
       "                if (document.getElementById(\"f1c2ade7-1ae5-4cd4-a2ba-d5fec26d32f4\")) {\n",
       "                    Plotly.newPlot(\n",
       "                        'f1c2ade7-1ae5-4cd4-a2ba-d5fec26d32f4',\n",
       "                        [{\"colorscale\": \"RdBu\", \"reversescale\": false, \"showscale\": false, \"type\": \"heatmap\", \"uid\": \"c59418e8-2d0e-40e0-92fd-ef06443e9553\", \"z\": [[0.1, 0.3, 0.5, 0.7, 0.9], [1, 0.8, 0.6, 0.4, 0.2], [0.2, 0, 0.5, 0.7, 0.9], [0.9, 0.8, 0.4, 0.2, 0], [0.3, 0.4, 0.5, 0.7, 1]]}],\n",
       "                        {\"annotations\": [{\"font\": {\"color\": \"#FFFFFF\"}, \"showarrow\": false, \"text\": \"0.1\", \"x\": 0, \"xref\": \"x\", \"y\": 0, \"yref\": \"y\"}, {\"font\": {\"color\": \"#FFFFFF\"}, \"showarrow\": false, \"text\": \"0.3\", \"x\": 1, \"xref\": \"x\", \"y\": 0, \"yref\": \"y\"}, {\"font\": {\"color\": \"#000000\"}, \"showarrow\": false, \"text\": \"0.5\", \"x\": 2, \"xref\": \"x\", \"y\": 0, \"yref\": \"y\"}, {\"font\": {\"color\": \"#000000\"}, \"showarrow\": false, \"text\": \"0.7\", \"x\": 3, \"xref\": \"x\", \"y\": 0, \"yref\": \"y\"}, {\"font\": {\"color\": \"#000000\"}, \"showarrow\": false, \"text\": \"0.9\", \"x\": 4, \"xref\": \"x\", \"y\": 0, \"yref\": \"y\"}, {\"font\": {\"color\": \"#000000\"}, \"showarrow\": false, \"text\": \"1\", \"x\": 0, \"xref\": \"x\", \"y\": 1, \"yref\": \"y\"}, {\"font\": {\"color\": \"#000000\"}, \"showarrow\": false, \"text\": \"0.8\", \"x\": 1, \"xref\": \"x\", \"y\": 1, \"yref\": \"y\"}, {\"font\": {\"color\": \"#000000\"}, \"showarrow\": false, \"text\": \"0.6\", \"x\": 2, \"xref\": \"x\", \"y\": 1, \"yref\": \"y\"}, {\"font\": {\"color\": \"#FFFFFF\"}, \"showarrow\": false, \"text\": \"0.4\", \"x\": 3, \"xref\": \"x\", \"y\": 1, \"yref\": \"y\"}, {\"font\": {\"color\": \"#FFFFFF\"}, \"showarrow\": false, \"text\": \"0.2\", \"x\": 4, \"xref\": \"x\", \"y\": 1, \"yref\": \"y\"}, {\"font\": {\"color\": \"#FFFFFF\"}, \"showarrow\": false, \"text\": \"0.2\", \"x\": 0, \"xref\": \"x\", \"y\": 2, \"yref\": \"y\"}, {\"font\": {\"color\": \"#FFFFFF\"}, \"showarrow\": false, \"text\": \"0\", \"x\": 1, \"xref\": \"x\", \"y\": 2, \"yref\": \"y\"}, {\"font\": {\"color\": \"#000000\"}, \"showarrow\": false, \"text\": \"0.5\", \"x\": 2, \"xref\": \"x\", \"y\": 2, \"yref\": \"y\"}, {\"font\": {\"color\": \"#000000\"}, \"showarrow\": false, \"text\": \"0.7\", \"x\": 3, \"xref\": \"x\", \"y\": 2, \"yref\": \"y\"}, {\"font\": {\"color\": \"#000000\"}, \"showarrow\": false, \"text\": \"0.9\", \"x\": 4, \"xref\": \"x\", \"y\": 2, \"yref\": \"y\"}, {\"font\": {\"color\": \"#000000\"}, \"showarrow\": false, \"text\": \"0.9\", \"x\": 0, \"xref\": \"x\", \"y\": 3, \"yref\": \"y\"}, {\"font\": {\"color\": \"#000000\"}, \"showarrow\": false, \"text\": \"0.8\", \"x\": 1, \"xref\": \"x\", \"y\": 3, \"yref\": \"y\"}, {\"font\": {\"color\": \"#FFFFFF\"}, \"showarrow\": false, \"text\": \"0.4\", \"x\": 2, \"xref\": \"x\", \"y\": 3, \"yref\": \"y\"}, {\"font\": {\"color\": \"#FFFFFF\"}, \"showarrow\": false, \"text\": \"0.2\", \"x\": 3, \"xref\": \"x\", \"y\": 3, \"yref\": \"y\"}, {\"font\": {\"color\": \"#FFFFFF\"}, \"showarrow\": false, \"text\": \"0\", \"x\": 4, \"xref\": \"x\", \"y\": 3, \"yref\": \"y\"}, {\"font\": {\"color\": \"#FFFFFF\"}, \"showarrow\": false, \"text\": \"0.3\", \"x\": 0, \"xref\": \"x\", \"y\": 4, \"yref\": \"y\"}, {\"font\": {\"color\": \"#FFFFFF\"}, \"showarrow\": false, \"text\": \"0.4\", \"x\": 1, \"xref\": \"x\", \"y\": 4, \"yref\": \"y\"}, {\"font\": {\"color\": \"#000000\"}, \"showarrow\": false, \"text\": \"0.5\", \"x\": 2, \"xref\": \"x\", \"y\": 4, \"yref\": \"y\"}, {\"font\": {\"color\": \"#000000\"}, \"showarrow\": false, \"text\": \"0.7\", \"x\": 3, \"xref\": \"x\", \"y\": 4, \"yref\": \"y\"}, {\"font\": {\"color\": \"#000000\"}, \"showarrow\": false, \"text\": \"1\", \"x\": 4, \"xref\": \"x\", \"y\": 4, \"yref\": \"y\"}], \"xaxis\": {\"gridcolor\": \"rgb(0, 0, 0)\", \"showticklabels\": false, \"side\": \"top\", \"ticks\": \"\"}, \"yaxis\": {\"showticklabels\": false, \"ticks\": \"\", \"ticksuffix\": \"  \"}},\n",
       "                        {\"showLink\": false, \"linkText\": \"Export to plot.ly\", \"plotlyServerURL\": \"https://plot.ly\", \"responsive\": true}\n",
       "                    ).then(function(){\n",
       "                            \n",
       "var gd = document.getElementById('f1c2ade7-1ae5-4cd4-a2ba-d5fec26d32f4');\n",
       "var x = new MutationObserver(function (mutations, observer) {{\n",
       "        var display = window.getComputedStyle(gd).display;\n",
       "        if (!display || display === 'none') {{\n",
       "            console.log([gd, 'removed!']);\n",
       "            Plotly.purge(gd);\n",
       "            observer.disconnect();\n",
       "        }}\n",
       "}});\n",
       "\n",
       "// Listen for the removal of the full notebook cells\n",
       "var notebookContainer = gd.closest('#notebook-container');\n",
       "if (notebookContainer) {{\n",
       "    x.observe(notebookContainer, {childList: true});\n",
       "}}\n",
       "\n",
       "// Listen for the clearing of the current output cell\n",
       "var outputEl = gd.closest('.output');\n",
       "if (outputEl) {{\n",
       "    x.observe(outputEl, {childList: true});\n",
       "}}\n",
       "\n",
       "                        })\n",
       "                };\n",
       "                });\n",
       "            </script>\n",
       "        </div>"
      ]
     },
     "metadata": {},
     "output_type": "display_data"
    }
   ],
   "source": [
    "import plotly.plotly as py\n",
    "from plotly.tools import FigureFactory as FF\n",
    "\n",
    "z = [[.1, .3, .5, .7, .9],  \n",
    "     [1, .8, .6, .4, .2],\n",
    "     [.2, 0, .5, .7, .9],  \n",
    "     [.9, .8, .4, .2, 0],\n",
    "     [.3, .4, .5, .7, 1]] \n",
    "\n",
    "fig = FF.create_annotated_heatmap(z)\n",
    "iplot(fig, filename='annotated_heatmap')"
   ]
  },
  {
   "cell_type": "markdown",
   "metadata": {},
   "source": [
    "#### Defined Colorscale"
   ]
  },
  {
   "cell_type": "code",
   "execution_count": 8,
   "metadata": {},
   "outputs": [
    {
     "data": {
      "application/vnd.plotly.v1+json": {
       "config": {
        "linkText": "Export to plot.ly",
        "plotlyServerURL": "https://plot.ly",
        "showLink": false
       },
       "data": [
        {
         "colorscale": "Viridis",
         "reversescale": false,
         "showscale": false,
         "type": "heatmap",
         "uid": "f4f82eb9-fce8-4bf7-84de-869fb8f431d5",
         "z": [
          [
           0.1,
           0.3,
           0.5,
           0.7
          ],
          [
           1,
           0.8,
           0.6,
           0.4
          ],
          [
           0.6,
           0.4,
           0.2,
           0
          ],
          [
           0.9,
           0.7,
           0.5,
           0.3
          ]
         ]
        }
       ],
       "layout": {
        "annotations": [
         {
          "font": {
           "color": "#FFFFFF"
          },
          "showarrow": false,
          "text": "0.1",
          "x": 0,
          "xref": "x",
          "y": 0,
          "yref": "y"
         },
         {
          "font": {
           "color": "#FFFFFF"
          },
          "showarrow": false,
          "text": "0.3",
          "x": 1,
          "xref": "x",
          "y": 0,
          "yref": "y"
         },
         {
          "font": {
           "color": "#000000"
          },
          "showarrow": false,
          "text": "0.5",
          "x": 2,
          "xref": "x",
          "y": 0,
          "yref": "y"
         },
         {
          "font": {
           "color": "#000000"
          },
          "showarrow": false,
          "text": "0.7",
          "x": 3,
          "xref": "x",
          "y": 0,
          "yref": "y"
         },
         {
          "font": {
           "color": "#000000"
          },
          "showarrow": false,
          "text": "1",
          "x": 0,
          "xref": "x",
          "y": 1,
          "yref": "y"
         },
         {
          "font": {
           "color": "#000000"
          },
          "showarrow": false,
          "text": "0.8",
          "x": 1,
          "xref": "x",
          "y": 1,
          "yref": "y"
         },
         {
          "font": {
           "color": "#000000"
          },
          "showarrow": false,
          "text": "0.6",
          "x": 2,
          "xref": "x",
          "y": 1,
          "yref": "y"
         },
         {
          "font": {
           "color": "#FFFFFF"
          },
          "showarrow": false,
          "text": "0.4",
          "x": 3,
          "xref": "x",
          "y": 1,
          "yref": "y"
         },
         {
          "font": {
           "color": "#000000"
          },
          "showarrow": false,
          "text": "0.6",
          "x": 0,
          "xref": "x",
          "y": 2,
          "yref": "y"
         },
         {
          "font": {
           "color": "#FFFFFF"
          },
          "showarrow": false,
          "text": "0.4",
          "x": 1,
          "xref": "x",
          "y": 2,
          "yref": "y"
         },
         {
          "font": {
           "color": "#FFFFFF"
          },
          "showarrow": false,
          "text": "0.2",
          "x": 2,
          "xref": "x",
          "y": 2,
          "yref": "y"
         },
         {
          "font": {
           "color": "#FFFFFF"
          },
          "showarrow": false,
          "text": "0.0",
          "x": 3,
          "xref": "x",
          "y": 2,
          "yref": "y"
         },
         {
          "font": {
           "color": "#000000"
          },
          "showarrow": false,
          "text": "0.9",
          "x": 0,
          "xref": "x",
          "y": 3,
          "yref": "y"
         },
         {
          "font": {
           "color": "#000000"
          },
          "showarrow": false,
          "text": "0.7",
          "x": 1,
          "xref": "x",
          "y": 3,
          "yref": "y"
         },
         {
          "font": {
           "color": "#000000"
          },
          "showarrow": false,
          "text": "0.5",
          "x": 2,
          "xref": "x",
          "y": 3,
          "yref": "y"
         },
         {
          "font": {
           "color": "#FFFFFF"
          },
          "showarrow": false,
          "text": "0.3",
          "x": 3,
          "xref": "x",
          "y": 3,
          "yref": "y"
         }
        ],
        "xaxis": {
         "gridcolor": "rgb(0, 0, 0)",
         "showticklabels": false,
         "side": "top",
         "ticks": ""
        },
        "yaxis": {
         "showticklabels": false,
         "ticks": "",
         "ticksuffix": "  "
        }
       }
      },
      "text/html": [
       "<div>\n",
       "        \n",
       "        \n",
       "            <div id=\"ba591eb7-8ca7-4fa5-a575-1bd9fbe8449b\" class=\"plotly-graph-div\" style=\"height:525px; width:100%;\"></div>\n",
       "            <script type=\"text/javascript\">\n",
       "                require([\"plotly\"], function(Plotly) {\n",
       "                    window.PLOTLYENV=window.PLOTLYENV || {};\n",
       "                    window.PLOTLYENV.BASE_URL='https://plot.ly';\n",
       "                    \n",
       "                if (document.getElementById(\"ba591eb7-8ca7-4fa5-a575-1bd9fbe8449b\")) {\n",
       "                    Plotly.newPlot(\n",
       "                        'ba591eb7-8ca7-4fa5-a575-1bd9fbe8449b',\n",
       "                        [{\"colorscale\": \"Viridis\", \"reversescale\": false, \"showscale\": false, \"type\": \"heatmap\", \"uid\": \"f4f82eb9-fce8-4bf7-84de-869fb8f431d5\", \"z\": [[0.1, 0.3, 0.5, 0.7], [1, 0.8, 0.6, 0.4], [0.6, 0.4, 0.2, 0.0], [0.9, 0.7, 0.5, 0.3]]}],\n",
       "                        {\"annotations\": [{\"font\": {\"color\": \"#FFFFFF\"}, \"showarrow\": false, \"text\": \"0.1\", \"x\": 0, \"xref\": \"x\", \"y\": 0, \"yref\": \"y\"}, {\"font\": {\"color\": \"#FFFFFF\"}, \"showarrow\": false, \"text\": \"0.3\", \"x\": 1, \"xref\": \"x\", \"y\": 0, \"yref\": \"y\"}, {\"font\": {\"color\": \"#000000\"}, \"showarrow\": false, \"text\": \"0.5\", \"x\": 2, \"xref\": \"x\", \"y\": 0, \"yref\": \"y\"}, {\"font\": {\"color\": \"#000000\"}, \"showarrow\": false, \"text\": \"0.7\", \"x\": 3, \"xref\": \"x\", \"y\": 0, \"yref\": \"y\"}, {\"font\": {\"color\": \"#000000\"}, \"showarrow\": false, \"text\": \"1\", \"x\": 0, \"xref\": \"x\", \"y\": 1, \"yref\": \"y\"}, {\"font\": {\"color\": \"#000000\"}, \"showarrow\": false, \"text\": \"0.8\", \"x\": 1, \"xref\": \"x\", \"y\": 1, \"yref\": \"y\"}, {\"font\": {\"color\": \"#000000\"}, \"showarrow\": false, \"text\": \"0.6\", \"x\": 2, \"xref\": \"x\", \"y\": 1, \"yref\": \"y\"}, {\"font\": {\"color\": \"#FFFFFF\"}, \"showarrow\": false, \"text\": \"0.4\", \"x\": 3, \"xref\": \"x\", \"y\": 1, \"yref\": \"y\"}, {\"font\": {\"color\": \"#000000\"}, \"showarrow\": false, \"text\": \"0.6\", \"x\": 0, \"xref\": \"x\", \"y\": 2, \"yref\": \"y\"}, {\"font\": {\"color\": \"#FFFFFF\"}, \"showarrow\": false, \"text\": \"0.4\", \"x\": 1, \"xref\": \"x\", \"y\": 2, \"yref\": \"y\"}, {\"font\": {\"color\": \"#FFFFFF\"}, \"showarrow\": false, \"text\": \"0.2\", \"x\": 2, \"xref\": \"x\", \"y\": 2, \"yref\": \"y\"}, {\"font\": {\"color\": \"#FFFFFF\"}, \"showarrow\": false, \"text\": \"0.0\", \"x\": 3, \"xref\": \"x\", \"y\": 2, \"yref\": \"y\"}, {\"font\": {\"color\": \"#000000\"}, \"showarrow\": false, \"text\": \"0.9\", \"x\": 0, \"xref\": \"x\", \"y\": 3, \"yref\": \"y\"}, {\"font\": {\"color\": \"#000000\"}, \"showarrow\": false, \"text\": \"0.7\", \"x\": 1, \"xref\": \"x\", \"y\": 3, \"yref\": \"y\"}, {\"font\": {\"color\": \"#000000\"}, \"showarrow\": false, \"text\": \"0.5\", \"x\": 2, \"xref\": \"x\", \"y\": 3, \"yref\": \"y\"}, {\"font\": {\"color\": \"#FFFFFF\"}, \"showarrow\": false, \"text\": \"0.3\", \"x\": 3, \"xref\": \"x\", \"y\": 3, \"yref\": \"y\"}], \"xaxis\": {\"gridcolor\": \"rgb(0, 0, 0)\", \"showticklabels\": false, \"side\": \"top\", \"ticks\": \"\"}, \"yaxis\": {\"showticklabels\": false, \"ticks\": \"\", \"ticksuffix\": \"  \"}},\n",
       "                        {\"showLink\": false, \"linkText\": \"Export to plot.ly\", \"plotlyServerURL\": \"https://plot.ly\", \"responsive\": true}\n",
       "                    ).then(function(){\n",
       "                            \n",
       "var gd = document.getElementById('ba591eb7-8ca7-4fa5-a575-1bd9fbe8449b');\n",
       "var x = new MutationObserver(function (mutations, observer) {{\n",
       "        var display = window.getComputedStyle(gd).display;\n",
       "        if (!display || display === 'none') {{\n",
       "            console.log([gd, 'removed!']);\n",
       "            Plotly.purge(gd);\n",
       "            observer.disconnect();\n",
       "        }}\n",
       "}});\n",
       "\n",
       "// Listen for the removal of the full notebook cells\n",
       "var notebookContainer = gd.closest('#notebook-container');\n",
       "if (notebookContainer) {{\n",
       "    x.observe(notebookContainer, {childList: true});\n",
       "}}\n",
       "\n",
       "// Listen for the clearing of the current output cell\n",
       "var outputEl = gd.closest('.output');\n",
       "if (outputEl) {{\n",
       "    x.observe(outputEl, {childList: true});\n",
       "}}\n",
       "\n",
       "                        })\n",
       "                };\n",
       "                });\n",
       "            </script>\n",
       "        </div>"
      ]
     },
     "metadata": {},
     "output_type": "display_data"
    }
   ],
   "source": [
    "import plotly.plotly as py\n",
    "from plotly.tools import FigureFactory as FF\n",
    "\n",
    "z = [[.1, .3, .5, .7],  \n",
    "     [1, .8, .6, .4],\n",
    "     [.6, .4, .2, .0],  \n",
    "     [.9, .7, .5, .3]] \n",
    "\n",
    "fig = FF.create_annotated_heatmap(z, colorscale='Viridis')\n",
    "iplot(fig, filename='annotated_heatmap_color')"
   ]
  },
  {
   "cell_type": "markdown",
   "metadata": {},
   "source": [
    "#### Custom Colorscale"
   ]
  },
  {
   "cell_type": "code",
   "execution_count": 9,
   "metadata": {},
   "outputs": [
    {
     "data": {
      "application/vnd.plotly.v1+json": {
       "config": {
        "linkText": "Export to plot.ly",
        "plotlyServerURL": "https://plot.ly",
        "showLink": false
       },
       "data": [
        {
         "colorscale": [
          [
           0,
           "#66475e"
          ],
          [
           1,
           "#ecbfe0"
          ]
         ],
         "reversescale": false,
         "showscale": false,
         "type": "heatmap",
         "uid": "573a8efd-5b40-4d03-867e-719cb74fafc8",
         "z": [
          [
           0.1,
           0.3,
           0.5,
           0.7
          ],
          [
           1,
           0.8,
           0.6,
           0.4
          ],
          [
           0.6,
           0.4,
           0.2,
           0
          ],
          [
           0.9,
           0.7,
           0.5,
           0.3
          ]
         ]
        }
       ],
       "layout": {
        "annotations": [
         {
          "font": {
           "color": "#efecee"
          },
          "showarrow": false,
          "text": "0.1",
          "x": 0,
          "xref": "x",
          "y": 0,
          "yref": "y"
         },
         {
          "font": {
           "color": "#efecee"
          },
          "showarrow": false,
          "text": "0.3",
          "x": 1,
          "xref": "x",
          "y": 0,
          "yref": "y"
         },
         {
          "font": {
           "color": "#3c3636"
          },
          "showarrow": false,
          "text": "0.5",
          "x": 2,
          "xref": "x",
          "y": 0,
          "yref": "y"
         },
         {
          "font": {
           "color": "#3c3636"
          },
          "showarrow": false,
          "text": "0.7",
          "x": 3,
          "xref": "x",
          "y": 0,
          "yref": "y"
         },
         {
          "font": {
           "color": "#3c3636"
          },
          "showarrow": false,
          "text": "1.0",
          "x": 0,
          "xref": "x",
          "y": 1,
          "yref": "y"
         },
         {
          "font": {
           "color": "#3c3636"
          },
          "showarrow": false,
          "text": "0.8",
          "x": 1,
          "xref": "x",
          "y": 1,
          "yref": "y"
         },
         {
          "font": {
           "color": "#3c3636"
          },
          "showarrow": false,
          "text": "0.6",
          "x": 2,
          "xref": "x",
          "y": 1,
          "yref": "y"
         },
         {
          "font": {
           "color": "#efecee"
          },
          "showarrow": false,
          "text": "0.4",
          "x": 3,
          "xref": "x",
          "y": 1,
          "yref": "y"
         },
         {
          "font": {
           "color": "#3c3636"
          },
          "showarrow": false,
          "text": "0.6",
          "x": 0,
          "xref": "x",
          "y": 2,
          "yref": "y"
         },
         {
          "font": {
           "color": "#efecee"
          },
          "showarrow": false,
          "text": "0.4",
          "x": 1,
          "xref": "x",
          "y": 2,
          "yref": "y"
         },
         {
          "font": {
           "color": "#efecee"
          },
          "showarrow": false,
          "text": "0.2",
          "x": 2,
          "xref": "x",
          "y": 2,
          "yref": "y"
         },
         {
          "font": {
           "color": "#efecee"
          },
          "showarrow": false,
          "text": "0.0",
          "x": 3,
          "xref": "x",
          "y": 2,
          "yref": "y"
         },
         {
          "font": {
           "color": "#3c3636"
          },
          "showarrow": false,
          "text": "0.9",
          "x": 0,
          "xref": "x",
          "y": 3,
          "yref": "y"
         },
         {
          "font": {
           "color": "#3c3636"
          },
          "showarrow": false,
          "text": "0.7",
          "x": 1,
          "xref": "x",
          "y": 3,
          "yref": "y"
         },
         {
          "font": {
           "color": "#3c3636"
          },
          "showarrow": false,
          "text": "0.5",
          "x": 2,
          "xref": "x",
          "y": 3,
          "yref": "y"
         },
         {
          "font": {
           "color": "#efecee"
          },
          "showarrow": false,
          "text": "0.3",
          "x": 3,
          "xref": "x",
          "y": 3,
          "yref": "y"
         }
        ],
        "xaxis": {
         "gridcolor": "rgb(0, 0, 0)",
         "showticklabels": false,
         "side": "top",
         "ticks": ""
        },
        "yaxis": {
         "showticklabels": false,
         "ticks": "",
         "ticksuffix": "  "
        }
       }
      },
      "text/html": [
       "<div>\n",
       "        \n",
       "        \n",
       "            <div id=\"a13663b7-1918-4e47-8c7a-58a882e92b39\" class=\"plotly-graph-div\" style=\"height:525px; width:100%;\"></div>\n",
       "            <script type=\"text/javascript\">\n",
       "                require([\"plotly\"], function(Plotly) {\n",
       "                    window.PLOTLYENV=window.PLOTLYENV || {};\n",
       "                    window.PLOTLYENV.BASE_URL='https://plot.ly';\n",
       "                    \n",
       "                if (document.getElementById(\"a13663b7-1918-4e47-8c7a-58a882e92b39\")) {\n",
       "                    Plotly.newPlot(\n",
       "                        'a13663b7-1918-4e47-8c7a-58a882e92b39',\n",
       "                        [{\"colorscale\": [[0, \"#66475e\"], [1, \"#ecbfe0\"]], \"reversescale\": false, \"showscale\": false, \"type\": \"heatmap\", \"uid\": \"573a8efd-5b40-4d03-867e-719cb74fafc8\", \"z\": [[0.1, 0.3, 0.5, 0.7], [1.0, 0.8, 0.6, 0.4], [0.6, 0.4, 0.2, 0.0], [0.9, 0.7, 0.5, 0.3]]}],\n",
       "                        {\"annotations\": [{\"font\": {\"color\": \"#efecee\"}, \"showarrow\": false, \"text\": \"0.1\", \"x\": 0, \"xref\": \"x\", \"y\": 0, \"yref\": \"y\"}, {\"font\": {\"color\": \"#efecee\"}, \"showarrow\": false, \"text\": \"0.3\", \"x\": 1, \"xref\": \"x\", \"y\": 0, \"yref\": \"y\"}, {\"font\": {\"color\": \"#3c3636\"}, \"showarrow\": false, \"text\": \"0.5\", \"x\": 2, \"xref\": \"x\", \"y\": 0, \"yref\": \"y\"}, {\"font\": {\"color\": \"#3c3636\"}, \"showarrow\": false, \"text\": \"0.7\", \"x\": 3, \"xref\": \"x\", \"y\": 0, \"yref\": \"y\"}, {\"font\": {\"color\": \"#3c3636\"}, \"showarrow\": false, \"text\": \"1.0\", \"x\": 0, \"xref\": \"x\", \"y\": 1, \"yref\": \"y\"}, {\"font\": {\"color\": \"#3c3636\"}, \"showarrow\": false, \"text\": \"0.8\", \"x\": 1, \"xref\": \"x\", \"y\": 1, \"yref\": \"y\"}, {\"font\": {\"color\": \"#3c3636\"}, \"showarrow\": false, \"text\": \"0.6\", \"x\": 2, \"xref\": \"x\", \"y\": 1, \"yref\": \"y\"}, {\"font\": {\"color\": \"#efecee\"}, \"showarrow\": false, \"text\": \"0.4\", \"x\": 3, \"xref\": \"x\", \"y\": 1, \"yref\": \"y\"}, {\"font\": {\"color\": \"#3c3636\"}, \"showarrow\": false, \"text\": \"0.6\", \"x\": 0, \"xref\": \"x\", \"y\": 2, \"yref\": \"y\"}, {\"font\": {\"color\": \"#efecee\"}, \"showarrow\": false, \"text\": \"0.4\", \"x\": 1, \"xref\": \"x\", \"y\": 2, \"yref\": \"y\"}, {\"font\": {\"color\": \"#efecee\"}, \"showarrow\": false, \"text\": \"0.2\", \"x\": 2, \"xref\": \"x\", \"y\": 2, \"yref\": \"y\"}, {\"font\": {\"color\": \"#efecee\"}, \"showarrow\": false, \"text\": \"0.0\", \"x\": 3, \"xref\": \"x\", \"y\": 2, \"yref\": \"y\"}, {\"font\": {\"color\": \"#3c3636\"}, \"showarrow\": false, \"text\": \"0.9\", \"x\": 0, \"xref\": \"x\", \"y\": 3, \"yref\": \"y\"}, {\"font\": {\"color\": \"#3c3636\"}, \"showarrow\": false, \"text\": \"0.7\", \"x\": 1, \"xref\": \"x\", \"y\": 3, \"yref\": \"y\"}, {\"font\": {\"color\": \"#3c3636\"}, \"showarrow\": false, \"text\": \"0.5\", \"x\": 2, \"xref\": \"x\", \"y\": 3, \"yref\": \"y\"}, {\"font\": {\"color\": \"#efecee\"}, \"showarrow\": false, \"text\": \"0.3\", \"x\": 3, \"xref\": \"x\", \"y\": 3, \"yref\": \"y\"}], \"xaxis\": {\"gridcolor\": \"rgb(0, 0, 0)\", \"showticklabels\": false, \"side\": \"top\", \"ticks\": \"\"}, \"yaxis\": {\"showticklabels\": false, \"ticks\": \"\", \"ticksuffix\": \"  \"}},\n",
       "                        {\"showLink\": false, \"linkText\": \"Export to plot.ly\", \"plotlyServerURL\": \"https://plot.ly\", \"responsive\": true}\n",
       "                    ).then(function(){\n",
       "                            \n",
       "var gd = document.getElementById('a13663b7-1918-4e47-8c7a-58a882e92b39');\n",
       "var x = new MutationObserver(function (mutations, observer) {{\n",
       "        var display = window.getComputedStyle(gd).display;\n",
       "        if (!display || display === 'none') {{\n",
       "            console.log([gd, 'removed!']);\n",
       "            Plotly.purge(gd);\n",
       "            observer.disconnect();\n",
       "        }}\n",
       "}});\n",
       "\n",
       "// Listen for the removal of the full notebook cells\n",
       "var notebookContainer = gd.closest('#notebook-container');\n",
       "if (notebookContainer) {{\n",
       "    x.observe(notebookContainer, {childList: true});\n",
       "}}\n",
       "\n",
       "// Listen for the clearing of the current output cell\n",
       "var outputEl = gd.closest('.output');\n",
       "if (outputEl) {{\n",
       "    x.observe(outputEl, {childList: true});\n",
       "}}\n",
       "\n",
       "                        })\n",
       "                };\n",
       "                });\n",
       "            </script>\n",
       "        </div>"
      ]
     },
     "metadata": {},
     "output_type": "display_data"
    }
   ],
   "source": [
    "import plotly.plotly as py\n",
    "from plotly.tools import FigureFactory as FF\n",
    "\n",
    "z = [[.1, .3, .5, .7],  \n",
    "     [1.0, .8, .6, .4],\n",
    "     [.6, .4, .2, 0.0],  \n",
    "     [.9, .7, .5, .3]] \n",
    "\n",
    "colorscale = [[0, '#66475e'], [1, '#ecbfe0']]\n",
    "font_colors = ['#efecee', '#3c3636']\n",
    "fig = FF.create_annotated_heatmap(z, colorscale=colorscale, font_colors=font_colors)\n",
    "iplot(fig, filename='annotated_heatmap_custom_color')"
   ]
  },
  {
   "cell_type": "markdown",
   "metadata": {},
   "source": [
    "#### Custom Text and X & Y Labels \n",
    "set `annotation_text` to a matrix with the same dimmensions as `z`"
   ]
  },
  {
   "cell_type": "code",
   "execution_count": 3,
   "metadata": {},
   "outputs": [
    {
     "name": "stderr",
     "output_type": "stream",
     "text": [
      "c:\\program files\\python36\\lib\\site-packages\\plotly\\tools.py:1176: UserWarning:\n",
      "\n",
      "plotly.tools.FigureFactory.create_annotated_heatmap is deprecated. Use plotly.figure_factory.create_annotated_heatmap\n",
      "\n"
     ]
    },
    {
     "data": {
      "application/vnd.plotly.v1+json": {
       "config": {
        "linkText": "Export to plot.ly",
        "plotlyServerURL": "https://plot.ly",
        "showLink": false
       },
       "data": [
        {
         "colorscale": "Viridis",
         "reversescale": false,
         "showscale": false,
         "type": "heatmap",
         "uid": "6ad71096-dce6-41ed-b7ea-b3e69221da62",
         "x": [
          "Team A",
          "Team B",
          "Team C"
         ],
         "y": [
          "Game Three",
          "Game Two",
          "Game One"
         ],
         "z": [
          [
           0.1,
           0.3,
           0.5
          ],
          [
           1,
           0.8,
           0.6
          ],
          [
           0.6,
           0.4,
           0.2
          ]
         ]
        }
       ],
       "layout": {
        "annotations": [
         {
          "font": {
           "color": "#FFFFFF"
          },
          "showarrow": false,
          "text": "1",
          "x": "Team A",
          "xref": "x",
          "y": "Game Three",
          "yref": "y"
         },
         {
          "font": {
           "color": "#FFFFFF"
          },
          "showarrow": false,
          "text": "Lose",
          "x": "Team B",
          "xref": "x",
          "y": "Game Three",
          "yref": "y"
         },
         {
          "font": {
           "color": "#FFFFFF"
          },
          "showarrow": false,
          "text": "Win",
          "x": "Team C",
          "xref": "x",
          "y": "Game Three",
          "yref": "y"
         },
         {
          "font": {
           "color": "#000000"
          },
          "showarrow": false,
          "text": "Lose",
          "x": "Team A",
          "xref": "x",
          "y": "Game Two",
          "yref": "y"
         },
         {
          "font": {
           "color": "#000000"
          },
          "showarrow": false,
          "text": "Lose",
          "x": "Team B",
          "xref": "x",
          "y": "Game Two",
          "yref": "y"
         },
         {
          "font": {
           "color": "#000000"
          },
          "showarrow": false,
          "text": "Win",
          "x": "Team C",
          "xref": "x",
          "y": "Game Two",
          "yref": "y"
         },
         {
          "font": {
           "color": "#000000"
          },
          "showarrow": false,
          "text": "Win",
          "x": "Team A",
          "xref": "x",
          "y": "Game One",
          "yref": "y"
         },
         {
          "font": {
           "color": "#FFFFFF"
          },
          "showarrow": false,
          "text": "Win",
          "x": "Team B",
          "xref": "x",
          "y": "Game One",
          "yref": "y"
         },
         {
          "font": {
           "color": "#FFFFFF"
          },
          "showarrow": false,
          "text": "Lose",
          "x": "Team C",
          "xref": "x",
          "y": "Game One",
          "yref": "y"
         }
        ],
        "xaxis": {
         "dtick": 1,
         "gridcolor": "rgb(0, 0, 0)",
         "side": "top",
         "ticks": ""
        },
        "yaxis": {
         "dtick": 1,
         "ticks": "",
         "ticksuffix": "  "
        }
       }
      },
      "text/html": [
       "<div>\n",
       "        \n",
       "        \n",
       "            <div id=\"72cba22d-aa21-49b5-8444-cedb434c9525\" class=\"plotly-graph-div\" style=\"height:525px; width:100%;\"></div>\n",
       "            <script type=\"text/javascript\">\n",
       "                require([\"plotly\"], function(Plotly) {\n",
       "                    window.PLOTLYENV=window.PLOTLYENV || {};\n",
       "                    window.PLOTLYENV.BASE_URL='https://plot.ly';\n",
       "                    \n",
       "                if (document.getElementById(\"72cba22d-aa21-49b5-8444-cedb434c9525\")) {\n",
       "                    Plotly.newPlot(\n",
       "                        '72cba22d-aa21-49b5-8444-cedb434c9525',\n",
       "                        [{\"colorscale\": \"Viridis\", \"reversescale\": false, \"showscale\": false, \"type\": \"heatmap\", \"uid\": \"6ad71096-dce6-41ed-b7ea-b3e69221da62\", \"x\": [\"Team A\", \"Team B\", \"Team C\"], \"y\": [\"Game Three\", \"Game Two\", \"Game One\"], \"z\": [[0.1, 0.3, 0.5], [1.0, 0.8, 0.6], [0.6, 0.4, 0.2]]}],\n",
       "                        {\"annotations\": [{\"font\": {\"color\": \"#FFFFFF\"}, \"showarrow\": false, \"text\": \"1\", \"x\": \"Team A\", \"xref\": \"x\", \"y\": \"Game Three\", \"yref\": \"y\"}, {\"font\": {\"color\": \"#FFFFFF\"}, \"showarrow\": false, \"text\": \"Lose\", \"x\": \"Team B\", \"xref\": \"x\", \"y\": \"Game Three\", \"yref\": \"y\"}, {\"font\": {\"color\": \"#FFFFFF\"}, \"showarrow\": false, \"text\": \"Win\", \"x\": \"Team C\", \"xref\": \"x\", \"y\": \"Game Three\", \"yref\": \"y\"}, {\"font\": {\"color\": \"#000000\"}, \"showarrow\": false, \"text\": \"Lose\", \"x\": \"Team A\", \"xref\": \"x\", \"y\": \"Game Two\", \"yref\": \"y\"}, {\"font\": {\"color\": \"#000000\"}, \"showarrow\": false, \"text\": \"Lose\", \"x\": \"Team B\", \"xref\": \"x\", \"y\": \"Game Two\", \"yref\": \"y\"}, {\"font\": {\"color\": \"#000000\"}, \"showarrow\": false, \"text\": \"Win\", \"x\": \"Team C\", \"xref\": \"x\", \"y\": \"Game Two\", \"yref\": \"y\"}, {\"font\": {\"color\": \"#000000\"}, \"showarrow\": false, \"text\": \"Win\", \"x\": \"Team A\", \"xref\": \"x\", \"y\": \"Game One\", \"yref\": \"y\"}, {\"font\": {\"color\": \"#FFFFFF\"}, \"showarrow\": false, \"text\": \"Win\", \"x\": \"Team B\", \"xref\": \"x\", \"y\": \"Game One\", \"yref\": \"y\"}, {\"font\": {\"color\": \"#FFFFFF\"}, \"showarrow\": false, \"text\": \"Lose\", \"x\": \"Team C\", \"xref\": \"x\", \"y\": \"Game One\", \"yref\": \"y\"}], \"xaxis\": {\"dtick\": 1, \"gridcolor\": \"rgb(0, 0, 0)\", \"side\": \"top\", \"ticks\": \"\"}, \"yaxis\": {\"dtick\": 1, \"ticks\": \"\", \"ticksuffix\": \"  \"}},\n",
       "                        {\"showLink\": false, \"linkText\": \"Export to plot.ly\", \"plotlyServerURL\": \"https://plot.ly\", \"responsive\": true}\n",
       "                    ).then(function(){\n",
       "                            \n",
       "var gd = document.getElementById('72cba22d-aa21-49b5-8444-cedb434c9525');\n",
       "var x = new MutationObserver(function (mutations, observer) {{\n",
       "        var display = window.getComputedStyle(gd).display;\n",
       "        if (!display || display === 'none') {{\n",
       "            console.log([gd, 'removed!']);\n",
       "            Plotly.purge(gd);\n",
       "            observer.disconnect();\n",
       "        }}\n",
       "}});\n",
       "\n",
       "// Listen for the removal of the full notebook cells\n",
       "var notebookContainer = gd.closest('#notebook-container');\n",
       "if (notebookContainer) {{\n",
       "    x.observe(notebookContainer, {childList: true});\n",
       "}}\n",
       "\n",
       "// Listen for the clearing of the current output cell\n",
       "var outputEl = gd.closest('.output');\n",
       "if (outputEl) {{\n",
       "    x.observe(outputEl, {childList: true});\n",
       "}}\n",
       "\n",
       "                        })\n",
       "                };\n",
       "                });\n",
       "            </script>\n",
       "        </div>"
      ]
     },
     "metadata": {},
     "output_type": "display_data"
    }
   ],
   "source": [
    "import plotly.plotly as py\n",
    "from plotly.tools import FigureFactory as FF\n",
    "\n",
    "z = [[.1, .3, .5],  \n",
    "     [1.0, .8, .6],\n",
    "     [.6, .4, .2]]\n",
    "\n",
    "x = ['Team A', 'Team B', 'Team C']\n",
    "y = ['Game Three', 'Game Two', 'Game One']\n",
    "\n",
    "z_text = [['Win', 'Lose', 'Win'],  \n",
    "          ['Lose', 'Lose', 'Win'],\n",
    "          ['Win', 'Win', 'Lose']]\n",
    "\n",
    "fig = FF.create_annotated_heatmap(z, x=x, y=y, annotation_text=z_text, colorscale='Viridis')\n",
    "iplot(fig, filename='annotated_heatmap_text')"
   ]
  },
  {
   "cell_type": "code",
   "execution_count": 7,
   "metadata": {},
   "outputs": [
    {
     "data": {
      "application/vnd.plotly.v1+json": {
       "config": {
        "linkText": "Export to plot.ly",
        "plotlyServerURL": "https://plot.ly",
        "showLink": false
       },
       "data": [
        {
         "colorscale": "RdBu",
         "reversescale": false,
         "showscale": false,
         "type": "heatmap",
         "uid": "c3bf0d55-486c-4251-ab14-477332863462",
         "z": [
          [
           -0.8884471636875384,
           1.8001412759168982,
           1.2692731408729923,
           0.969061008022709,
           2.2247696954188516,
           0.43622734741324454,
           0.40436137324953547,
           -1.9346839587050546
          ],
          [
           -0.7736209249084371,
           1.3199015230928597,
           1.3000559761578436,
           -2.065531846638963,
           -1.3691305630515749,
           1.5496882136738455,
           2.061414411567135,
           0.3774322298812351
          ],
          [
           -2.1562233980697325,
           0.10775639832191518,
           1.2932178873417794,
           0.7125348562407742,
           -0.58871686843707,
           0.37746914268564064,
           1.9909635137325385,
           -0.534640204865476
          ],
          [
           -0.035442355980418554,
           -0.9440148305821945,
           -0.6817219123816114,
           -0.3023678082544276,
           0.41443680794776816,
           0.3852487236559746,
           0.4111849318429985,
           -0.13266202726676427
          ],
          [
           0.5518890977371319,
           -1.6873475558049027,
           0.6479595773688098,
           0.6365754874432487,
           0.20729497266381328,
           -1.126981632405575,
           0.1778386315002588,
           -0.13807418880496317
          ],
          [
           0.6035848726177533,
           -1.1179964715161568,
           -0.11114036217197415,
           0.13752174482361162,
           -1.1692069388396586,
           -0.1653088348069275,
           -0.36054528497072363,
           -0.13766361735875118
          ],
          [
           -2.0369558389568834,
           -0.3513702280347847,
           -0.6185379712041036,
           0.8583177345160103,
           1.4311004490127865,
           -0.67586358072148,
           -0.20648314412387933,
           -0.8821888817604074
          ],
          [
           -0.06939109323143992,
           -0.07096088737841494,
           -0.9962130478571095,
           -0.7460357207957503,
           -0.08905279281969408,
           2.1430624244935994,
           1.2341751479201695,
           1.1858235536834936
          ],
          [
           1.4369315144564894,
           -0.7077542785106956,
           -1.375839254505725,
           0.5180865171043744,
           -0.9973820182167781,
           -1.1420840296000212,
           -0.848456969435568,
           0.6243503121971444
          ],
          [
           -2.2093701111411597,
           0.31910930933753195,
           1.4660469636247409,
           -0.9655503919592154,
           -0.4706886388253188,
           2.0033947228498157,
           0.09143705311520063,
           0.8784930976085195
          ],
          [
           0.11879368835168345,
           1.5598907644931779,
           -1.1998011224401348,
           -1.282312463186318,
           -1.3279098557951772,
           0.2408711230593829,
           1.6818204706733426,
           -0.5826813017834356
          ],
          [
           -0.121806456170185,
           1.0674710597744552,
           0.39625560749800137,
           0.3557965489776824,
           0.7982252759515284,
           0.2141474772674405,
           1.9572861298478061,
           -1.779725938710131
          ],
          [
           1.0314872036389438,
           1.3945539561442555,
           -0.19062716883103645,
           -0.9744186828779453,
           1.8081838970215,
           -1.1424028266026092,
           0.17811996519900752,
           -0.4357227846919152
          ],
          [
           0.7268160676322647,
           -1.2948915515231145,
           -0.04698376772081029,
           1.38740572903823,
           -0.1332324661953786,
           -0.632018094121867,
           -1.1741022601462694,
           -0.240211237497534
          ],
          [
           1.3609058406536474,
           1.0871469711664432,
           1.6212020539419003,
           -0.1645618087604891,
           -0.34537008456823975,
           -1.1453186119741454,
           -0.8827971934872555,
           0.4952752384345332
          ],
          [
           1.055135633433523,
           -0.3516699949788441,
           -0.40594347341343084,
           0.728021902874621,
           0.4445960877432969,
           -0.38838218587408685,
           1.5867548785581365,
           0.9622487808030938
          ],
          [
           1.419381212226259,
           -0.8057247288799869,
           -0.42182388782999813,
           0.4676620307883382,
           -0.4263124522048327,
           0.37960005976235794,
           0.21320104765563833,
           0.6830715458182243
          ],
          [
           1.0684521850409816,
           -0.8853480463251893,
           -0.031149767400449207,
           2.4050058588084555,
           -2.710140127950508,
           0.9678109496820418,
           -1.0822075552425472,
           1.824341806029549
          ],
          [
           -1.4763832103390302,
           -0.873437406069198,
           -0.08109281130865499,
           -0.3045124328528333,
           -0.1024196820493315,
           0.11465584824550813,
           0.6119001847644487,
           0.715064063868729
          ],
          [
           -0.2287083528054447,
           -1.4755572481163313,
           0.7549352790738317,
           -0.6081418295306116,
           0.2673423148629807,
           -0.9964783914082049,
           -0.46042561803278603,
           -0.8600065065261366
          ],
          [
           0.8921082475168338,
           -0.5646989161793466,
           -0.10748512139201614,
           -0.6414979029481327,
           -0.5232093320691176,
           1.661428642669182,
           1.148645922239179,
           0.12800875273174195
          ],
          [
           -0.5941972655610696,
           0.5812861208180254,
           -0.5208014258897291,
           1.0830037041278566,
           -0.5738740412463014,
           -0.911520755883625,
           0.7820626151576313,
           -0.1017167797568657
          ],
          [
           -0.8392225794691012,
           0.27468258521720407,
           0.1624918318799111,
           0.3925358726947723,
           -1.010580815687058,
           -0.38005492452606476,
           -0.7922817732536138,
           -0.6421355771006527
          ],
          [
           1.4202657354063613,
           -1.1402359098669528,
           -0.7824618413456284,
           0.14597282861744854,
           0.19357601536720445,
           -0.6917381528011914,
           -1.9242205857947359,
           0.21164700324425084
          ],
          [
           -1.083168123054312,
           -0.9314780818737657,
           0.9969682419066442,
           1.5235177875262675,
           0.16984440946379833,
           0.6611696957478226,
           0.20746247390833225,
           0.9122811760510886
          ],
          [
           0.644924614657496,
           0.8029550990796087,
           0.920802670033812,
           -0.13985306604432357,
           1.030016065821932,
           -0.2301705203029824,
           1.7368123543103318,
           1.2907301266379652
          ],
          [
           -0.27071084277172186,
           1.349013553696621,
           0.9945606247115054,
           -1.6810092263935876,
           -0.370337614227754,
           0.8459759399958896,
           0.41177958360693856,
           1.6731901584170665
          ],
          [
           -0.341892006205153,
           -0.5244902686248442,
           0.5092775996705037,
           2.27591547242262,
           1.2379161331169024,
           -1.1698916337888068,
           -0.8454453345698487,
           -1.8149674963624887
          ],
          [
           1.1381106601442572,
           -0.2688457450737396,
           0.12074279967534833,
           1.3181115790966638,
           1.2054503866552355,
           -1.5206139176140316,
           -2.1197123751347933,
           -0.25038471920036015
          ],
          [
           -0.7124060835278134,
           -0.7691938317207141,
           -0.6524024425683994,
           -0.18348289540980958,
           -1.4697392502332725,
           0.3712334504278172,
           -0.26722692945155496,
           -0.9595086385446082
          ],
          [
           -0.5056908369440442,
           0.6977079172267943,
           -0.09602100767160981,
           -0.2843634634925653,
           0.26386825258118013,
           -1.7291537530236991,
           -0.8102015731550428,
           -0.5708531619350905
          ],
          [
           -1.06214941166301,
           1.5363053648435976,
           1.1063070061568132,
           -1.5416366132701573,
           -1.1604384817108642,
           0.09637972567799591,
           0.17296688128670595,
           -1.2822373089667924
          ],
          [
           0.45969996500233956,
           0.729345924779893,
           -0.11209101573602209,
           -0.7514849812957402,
           -0.047242420456826306,
           -1.225585605905729,
           -1.1717697340043487,
           -0.33590841488147793
          ],
          [
           1.08051142115307,
           -1.1652241414028508,
           0.19964972651146243,
           -0.6935022412909663,
           -0.9590945974134845,
           0.8568546549903331,
           0.39317611795629565,
           0.7125870776731249
          ],
          [
           0.16075016481794546,
           0.9030435140870458,
           0.2062069724097308,
           1.1300304866348252,
           0.47082809982760776,
           -1.0574331455310617,
           0.5653286287360964,
           0.92440405790886
          ],
          [
           0.29402102073841324,
           -2.469755022610324,
           -0.8903588372248779,
           0.7707527839447624,
           -0.0656409372611998,
           -0.2567294583912235,
           1.2424571147831618,
           1.0267425670895671
          ]
         ]
        }
       ],
       "layout": {
        "annotations": [
         {
          "font": {
           "color": "#FFFFFF"
          },
          "showarrow": false,
          "text": "734836",
          "x": 0,
          "xref": "x",
          "y": 0,
          "yref": "y"
         },
         {
          "font": {
           "color": "#000000"
          },
          "showarrow": false,
          "text": "6950000000000",
          "x": 1,
          "xref": "x",
          "y": 0,
          "yref": "y"
         },
         {
          "font": {
           "color": "#000000"
          },
          "showarrow": false,
          "text": "WXZN-01        ",
          "x": 2,
          "xref": "x",
          "y": 0,
          "yref": "y"
         },
         {
          "font": {
           "color": "#000000"
          },
          "showarrow": false,
          "text": "BASEUS CAR WIRELESS CHARGER SMART VEHICLE BRACKET                                                             ",
          "x": 3,
          "xref": "x",
          "y": 0,
          "yref": "y"
         },
         {
          "font": {
           "color": "#000000"
          },
          "showarrow": false,
          "text": "BASEUS                        ",
          "x": 4,
          "xref": "x",
          "y": 0,
          "yref": "y"
         },
         {
          "font": {
           "color": "#000000"
          },
          "showarrow": false,
          "text": "1",
          "x": 5,
          "xref": "x",
          "y": 0,
          "yref": "y"
         },
         {
          "font": {
           "color": "#000000"
          },
          "showarrow": false,
          "text": "69.5",
          "x": 6,
          "xref": "x",
          "y": 0,
          "yref": "y"
         },
         {
          "font": {
           "color": "#FFFFFF"
          },
          "showarrow": false,
          "text": "149",
          "x": 7,
          "xref": "x",
          "y": 0,
          "yref": "y"
         },
         {
          "font": {
           "color": "#FFFFFF"
          },
          "showarrow": false,
          "text": "734837",
          "x": 0,
          "xref": "x",
          "y": 1,
          "yref": "y"
         },
         {
          "font": {
           "color": "#000000"
          },
          "showarrow": false,
          "text": "6950000000000",
          "x": 1,
          "xref": "x",
          "y": 1,
          "yref": "y"
         },
         {
          "font": {
           "color": "#000000"
          },
          "showarrow": false,
          "text": "ACHDCJ-01      ",
          "x": 2,
          "xref": "x",
          "y": 1,
          "yref": "y"
         },
         {
          "font": {
           "color": "#FFFFFF"
          },
          "showarrow": false,
          "text": "BASEUS HOLDER RED-DOT MOBILE GAME SCORING TOOL BLACK                                                          ",
          "x": 3,
          "xref": "x",
          "y": 1,
          "yref": "y"
         },
         {
          "font": {
           "color": "#FFFFFF"
          },
          "showarrow": false,
          "text": "BASEUS                        ",
          "x": 4,
          "xref": "x",
          "y": 1,
          "yref": "y"
         },
         {
          "font": {
           "color": "#000000"
          },
          "showarrow": false,
          "text": "1",
          "x": 5,
          "xref": "x",
          "y": 1,
          "yref": "y"
         },
         {
          "font": {
           "color": "#000000"
          },
          "showarrow": false,
          "text": "24.5",
          "x": 6,
          "xref": "x",
          "y": 1,
          "yref": "y"
         },
         {
          "font": {
           "color": "#000000"
          },
          "showarrow": false,
          "text": "49",
          "x": 7,
          "xref": "x",
          "y": 1,
          "yref": "y"
         },
         {
          "font": {
           "color": "#FFFFFF"
          },
          "showarrow": false,
          "text": "734838",
          "x": 0,
          "xref": "x",
          "y": 2,
          "yref": "y"
         },
         {
          "font": {
           "color": "#000000"
          },
          "showarrow": false,
          "text": "6950000000000",
          "x": 1,
          "xref": "x",
          "y": 2,
          "yref": "y"
         },
         {
          "font": {
           "color": "#000000"
          },
          "showarrow": false,
          "text": "ACHDCJ-02      ",
          "x": 2,
          "xref": "x",
          "y": 2,
          "yref": "y"
         },
         {
          "font": {
           "color": "#000000"
          },
          "showarrow": false,
          "text": "BASEUS HOLDER RED-DOT MOBILE GAME SCORING TOOL TRANSPARENT                                                    ",
          "x": 3,
          "xref": "x",
          "y": 2,
          "yref": "y"
         },
         {
          "font": {
           "color": "#FFFFFF"
          },
          "showarrow": false,
          "text": "BASEUS                        ",
          "x": 4,
          "xref": "x",
          "y": 2,
          "yref": "y"
         },
         {
          "font": {
           "color": "#000000"
          },
          "showarrow": false,
          "text": "1",
          "x": 5,
          "xref": "x",
          "y": 2,
          "yref": "y"
         },
         {
          "font": {
           "color": "#000000"
          },
          "showarrow": false,
          "text": "24.5",
          "x": 6,
          "xref": "x",
          "y": 2,
          "yref": "y"
         },
         {
          "font": {
           "color": "#FFFFFF"
          },
          "showarrow": false,
          "text": "49",
          "x": 7,
          "xref": "x",
          "y": 2,
          "yref": "y"
         },
         {
          "font": {
           "color": "#000000"
          },
          "showarrow": false,
          "text": "734881",
          "x": 0,
          "xref": "x",
          "y": 3,
          "yref": "y"
         },
         {
          "font": {
           "color": "#FFFFFF"
          },
          "showarrow": false,
          "text": "6950000000000",
          "x": 1,
          "xref": "x",
          "y": 3,
          "yref": "y"
         },
         {
          "font": {
           "color": "#FFFFFF"
          },
          "showarrow": false,
          "text": "WX2IN1-02      ",
          "x": 2,
          "xref": "x",
          "y": 3,
          "yref": "y"
         },
         {
          "font": {
           "color": "#FFFFFF"
          },
          "showarrow": false,
          "text": "BASEUS SMART 2 IN 1 WIRELESS CHARGER WHITE                                                                    ",
          "x": 3,
          "xref": "x",
          "y": 3,
          "yref": "y"
         },
         {
          "font": {
           "color": "#000000"
          },
          "showarrow": false,
          "text": "BASEUS                        ",
          "x": 4,
          "xref": "x",
          "y": 3,
          "yref": "y"
         },
         {
          "font": {
           "color": "#000000"
          },
          "showarrow": false,
          "text": "1",
          "x": 5,
          "xref": "x",
          "y": 3,
          "yref": "y"
         },
         {
          "font": {
           "color": "#000000"
          },
          "showarrow": false,
          "text": "84.5",
          "x": 6,
          "xref": "x",
          "y": 3,
          "yref": "y"
         },
         {
          "font": {
           "color": "#000000"
          },
          "showarrow": false,
          "text": "179",
          "x": 7,
          "xref": "x",
          "y": 3,
          "yref": "y"
         },
         {
          "font": {
           "color": "#000000"
          },
          "showarrow": false,
          "text": "734882",
          "x": 0,
          "xref": "x",
          "y": 4,
          "yref": "y"
         },
         {
          "font": {
           "color": "#FFFFFF"
          },
          "showarrow": false,
          "text": "6950000000000",
          "x": 1,
          "xref": "x",
          "y": 4,
          "yref": "y"
         },
         {
          "font": {
           "color": "#000000"
          },
          "showarrow": false,
          "text": "PPALL-AKU01    ",
          "x": 2,
          "xref": "x",
          "y": 4,
          "yref": "y"
         },
         {
          "font": {
           "color": "#000000"
          },
          "showarrow": false,
          "text": "BASEUS MINI CU DIGITAL DISPLAY POWER BANK 10000MAH BLACK                                                      ",
          "x": 3,
          "xref": "x",
          "y": 4,
          "yref": "y"
         },
         {
          "font": {
           "color": "#000000"
          },
          "showarrow": false,
          "text": "BASEUS                        ",
          "x": 4,
          "xref": "x",
          "y": 4,
          "yref": "y"
         },
         {
          "font": {
           "color": "#FFFFFF"
          },
          "showarrow": false,
          "text": "1",
          "x": 5,
          "xref": "x",
          "y": 4,
          "yref": "y"
         },
         {
          "font": {
           "color": "#000000"
          },
          "showarrow": false,
          "text": "64.5",
          "x": 6,
          "xref": "x",
          "y": 4,
          "yref": "y"
         },
         {
          "font": {
           "color": "#000000"
          },
          "showarrow": false,
          "text": "139",
          "x": 7,
          "xref": "x",
          "y": 4,
          "yref": "y"
         },
         {
          "font": {
           "color": "#000000"
          },
          "showarrow": false,
          "text": "734906",
          "x": 0,
          "xref": "x",
          "y": 5,
          "yref": "y"
         },
         {
          "font": {
           "color": "#FFFFFF"
          },
          "showarrow": false,
          "text": "6950000000000",
          "x": 1,
          "xref": "x",
          "y": 5,
          "yref": "y"
         },
         {
          "font": {
           "color": "#000000"
          },
          "showarrow": false,
          "text": "SGAPIPHX-TZ01  ",
          "x": 2,
          "xref": "x",
          "y": 5,
          "yref": "y"
         },
         {
          "font": {
           "color": "#000000"
          },
          "showarrow": false,
          "text": "BASEUS GLASS FILM SET BLACK FOR IPHONE X                                                                      ",
          "x": 3,
          "xref": "x",
          "y": 5,
          "yref": "y"
         },
         {
          "font": {
           "color": "#FFFFFF"
          },
          "showarrow": false,
          "text": "BASEUS                        ",
          "x": 4,
          "xref": "x",
          "y": 5,
          "yref": "y"
         },
         {
          "font": {
           "color": "#FFFFFF"
          },
          "showarrow": false,
          "text": "1",
          "x": 5,
          "xref": "x",
          "y": 5,
          "yref": "y"
         },
         {
          "font": {
           "color": "#FFFFFF"
          },
          "showarrow": false,
          "text": "49.5",
          "x": 6,
          "xref": "x",
          "y": 5,
          "yref": "y"
         },
         {
          "font": {
           "color": "#000000"
          },
          "showarrow": false,
          "text": "109",
          "x": 7,
          "xref": "x",
          "y": 5,
          "yref": "y"
         },
         {
          "font": {
           "color": "#FFFFFF"
          },
          "showarrow": false,
          "text": "734909",
          "x": 0,
          "xref": "x",
          "y": 6,
          "yref": "y"
         },
         {
          "font": {
           "color": "#FFFFFF"
          },
          "showarrow": false,
          "text": "6950000000000",
          "x": 1,
          "xref": "x",
          "y": 6,
          "yref": "y"
         },
         {
          "font": {
           "color": "#FFFFFF"
          },
          "showarrow": false,
          "text": "SUER-A01       ",
          "x": 2,
          "xref": "x",
          "y": 6,
          "yref": "y"
         },
         {
          "font": {
           "color": "#000000"
          },
          "showarrow": false,
          "text": "BASEUS SMALL EARS MAGNETIC CAR VENT SUCTION BRACKET BLACK                                                     ",
          "x": 3,
          "xref": "x",
          "y": 6,
          "yref": "y"
         },
         {
          "font": {
           "color": "#000000"
          },
          "showarrow": false,
          "text": "BASEUS                        ",
          "x": 4,
          "xref": "x",
          "y": 6,
          "yref": "y"
         },
         {
          "font": {
           "color": "#FFFFFF"
          },
          "showarrow": false,
          "text": "1",
          "x": 5,
          "xref": "x",
          "y": 6,
          "yref": "y"
         },
         {
          "font": {
           "color": "#FFFFFF"
          },
          "showarrow": false,
          "text": "24.5",
          "x": 6,
          "xref": "x",
          "y": 6,
          "yref": "y"
         },
         {
          "font": {
           "color": "#FFFFFF"
          },
          "showarrow": false,
          "text": "49",
          "x": 7,
          "xref": "x",
          "y": 6,
          "yref": "y"
         },
         {
          "font": {
           "color": "#000000"
          },
          "showarrow": false,
          "text": "734920",
          "x": 0,
          "xref": "x",
          "y": 7,
          "yref": "y"
         },
         {
          "font": {
           "color": "#000000"
          },
          "showarrow": false,
          "text": "6950000000000",
          "x": 1,
          "xref": "x",
          "y": 7,
          "yref": "y"
         },
         {
          "font": {
           "color": "#FFFFFF"
          },
          "showarrow": false,
          "text": "SUYZD-01       ",
          "x": 2,
          "xref": "x",
          "y": 7,
          "yref": "y"
         },
         {
          "font": {
           "color": "#FFFFFF"
          },
          "showarrow": false,
          "text": "BASEUS BULLET ON-BOARD CAR MAGNETIC BRACKET BLACK                                                             ",
          "x": 3,
          "xref": "x",
          "y": 7,
          "yref": "y"
         },
         {
          "font": {
           "color": "#000000"
          },
          "showarrow": false,
          "text": "BASEUS                        ",
          "x": 4,
          "xref": "x",
          "y": 7,
          "yref": "y"
         },
         {
          "font": {
           "color": "#000000"
          },
          "showarrow": false,
          "text": "1",
          "x": 5,
          "xref": "x",
          "y": 7,
          "yref": "y"
         },
         {
          "font": {
           "color": "#000000"
          },
          "showarrow": false,
          "text": "34.5",
          "x": 6,
          "xref": "x",
          "y": 7,
          "yref": "y"
         },
         {
          "font": {
           "color": "#000000"
          },
          "showarrow": false,
          "text": "69",
          "x": 7,
          "xref": "x",
          "y": 7,
          "yref": "y"
         },
         {
          "font": {
           "color": "#000000"
          },
          "showarrow": false,
          "text": "734922",
          "x": 0,
          "xref": "x",
          "y": 8,
          "yref": "y"
         },
         {
          "font": {
           "color": "#FFFFFF"
          },
          "showarrow": false,
          "text": "6950000000000",
          "x": 1,
          "xref": "x",
          "y": 8,
          "yref": "y"
         },
         {
          "font": {
           "color": "#FFFFFF"
          },
          "showarrow": false,
          "text": "SUYZD-0S       ",
          "x": 2,
          "xref": "x",
          "y": 8,
          "yref": "y"
         },
         {
          "font": {
           "color": "#000000"
          },
          "showarrow": false,
          "text": "BASEUS BULLET ON-BOARD CAR MAGNETIC BRACKET SILVER                                                            ",
          "x": 3,
          "xref": "x",
          "y": 8,
          "yref": "y"
         },
         {
          "font": {
           "color": "#FFFFFF"
          },
          "showarrow": false,
          "text": "BASEUS                        ",
          "x": 4,
          "xref": "x",
          "y": 8,
          "yref": "y"
         },
         {
          "font": {
           "color": "#FFFFFF"
          },
          "showarrow": false,
          "text": "1",
          "x": 5,
          "xref": "x",
          "y": 8,
          "yref": "y"
         },
         {
          "font": {
           "color": "#FFFFFF"
          },
          "showarrow": false,
          "text": "34.5",
          "x": 6,
          "xref": "x",
          "y": 8,
          "yref": "y"
         },
         {
          "font": {
           "color": "#000000"
          },
          "showarrow": false,
          "text": "69",
          "x": 7,
          "xref": "x",
          "y": 8,
          "yref": "y"
         },
         {
          "font": {
           "color": "#FFFFFF"
          },
          "showarrow": false,
          "text": "734927",
          "x": 0,
          "xref": "x",
          "y": 9,
          "yref": "y"
         },
         {
          "font": {
           "color": "#000000"
          },
          "showarrow": false,
          "text": "6950000000000",
          "x": 1,
          "xref": "x",
          "y": 9,
          "yref": "y"
         },
         {
          "font": {
           "color": "#000000"
          },
          "showarrow": false,
          "text": "SUER-B01       ",
          "x": 2,
          "xref": "x",
          "y": 9,
          "yref": "y"
         },
         {
          "font": {
           "color": "#FFFFFF"
          },
          "showarrow": false,
          "text": "BASEUS SMALL EARS VERTICAL MAGNETIC BRACKET BLACK                                                             ",
          "x": 3,
          "xref": "x",
          "y": 9,
          "yref": "y"
         },
         {
          "font": {
           "color": "#FFFFFF"
          },
          "showarrow": false,
          "text": "BASEUS                        ",
          "x": 4,
          "xref": "x",
          "y": 9,
          "yref": "y"
         },
         {
          "font": {
           "color": "#000000"
          },
          "showarrow": false,
          "text": "1",
          "x": 5,
          "xref": "x",
          "y": 9,
          "yref": "y"
         },
         {
          "font": {
           "color": "#000000"
          },
          "showarrow": false,
          "text": "24.5",
          "x": 6,
          "xref": "x",
          "y": 9,
          "yref": "y"
         },
         {
          "font": {
           "color": "#000000"
          },
          "showarrow": false,
          "text": "49",
          "x": 7,
          "xref": "x",
          "y": 9,
          "yref": "y"
         },
         {
          "font": {
           "color": "#000000"
          },
          "showarrow": false,
          "text": "734943",
          "x": 0,
          "xref": "x",
          "y": 10,
          "yref": "y"
         },
         {
          "font": {
           "color": "#000000"
          },
          "showarrow": false,
          "text": "6950000000000",
          "x": 1,
          "xref": "x",
          "y": 10,
          "yref": "y"
         },
         {
          "font": {
           "color": "#FFFFFF"
          },
          "showarrow": false,
          "text": "TZARGS-01      ",
          "x": 2,
          "xref": "x",
          "y": 10,
          "yref": "y"
         },
         {
          "font": {
           "color": "#FFFFFF"
          },
          "showarrow": false,
          "text": "BASEUS CASE FOR AIRPODS BLACK                                                                                 ",
          "x": 3,
          "xref": "x",
          "y": 10,
          "yref": "y"
         },
         {
          "font": {
           "color": "#FFFFFF"
          },
          "showarrow": false,
          "text": "BASEUS                        ",
          "x": 4,
          "xref": "x",
          "y": 10,
          "yref": "y"
         },
         {
          "font": {
           "color": "#000000"
          },
          "showarrow": false,
          "text": "1",
          "x": 5,
          "xref": "x",
          "y": 10,
          "yref": "y"
         },
         {
          "font": {
           "color": "#000000"
          },
          "showarrow": false,
          "text": "24.5",
          "x": 6,
          "xref": "x",
          "y": 10,
          "yref": "y"
         },
         {
          "font": {
           "color": "#FFFFFF"
          },
          "showarrow": false,
          "text": "49",
          "x": 7,
          "xref": "x",
          "y": 10,
          "yref": "y"
         },
         {
          "font": {
           "color": "#000000"
          },
          "showarrow": false,
          "text": "735670",
          "x": 0,
          "xref": "x",
          "y": 11,
          "yref": "y"
         },
         {
          "font": {
           "color": "#000000"
          },
          "showarrow": false,
          "text": "6950000000000",
          "x": 1,
          "xref": "x",
          "y": 11,
          "yref": "y"
         },
         {
          "font": {
           "color": "#000000"
          },
          "showarrow": false,
          "text": "SGAPIPHX-RA01  ",
          "x": 2,
          "xref": "x",
          "y": 11,
          "yref": "y"
         },
         {
          "font": {
           "color": "#000000"
          },
          "showarrow": false,
          "text": "BASEUS DROP-PROOF CURVED FULL SCREEN TEMPERED GLASS BLACK FOR IPHONE X                                        ",
          "x": 3,
          "xref": "x",
          "y": 11,
          "yref": "y"
         },
         {
          "font": {
           "color": "#000000"
          },
          "showarrow": false,
          "text": "BASEUS                        ",
          "x": 4,
          "xref": "x",
          "y": 11,
          "yref": "y"
         },
         {
          "font": {
           "color": "#000000"
          },
          "showarrow": false,
          "text": "1",
          "x": 5,
          "xref": "x",
          "y": 11,
          "yref": "y"
         },
         {
          "font": {
           "color": "#000000"
          },
          "showarrow": false,
          "text": "19.5",
          "x": 6,
          "xref": "x",
          "y": 11,
          "yref": "y"
         },
         {
          "font": {
           "color": "#FFFFFF"
          },
          "showarrow": false,
          "text": "39",
          "x": 7,
          "xref": "x",
          "y": 11,
          "yref": "y"
         },
         {
          "font": {
           "color": "#000000"
          },
          "showarrow": false,
          "text": "738078",
          "x": 0,
          "xref": "x",
          "y": 12,
          "yref": "y"
         },
         {
          "font": {
           "color": "#000000"
          },
          "showarrow": false,
          "text": "6950000000000",
          "x": 1,
          "xref": "x",
          "y": 12,
          "yref": "y"
         },
         {
          "font": {
           "color": "#FFFFFF"
          },
          "showarrow": false,
          "text": "ACSLCJ-06      ",
          "x": 2,
          "xref": "x",
          "y": 12,
          "yref": "y"
         },
         {
          "font": {
           "color": "#FFFFFF"
          },
          "showarrow": false,
          "text": "BASEUS GRENADE BLACK/ARMY GREEN GRIP FOR SMARTPHONES                                                          ",
          "x": 3,
          "xref": "x",
          "y": 12,
          "yref": "y"
         },
         {
          "font": {
           "color": "#000000"
          },
          "showarrow": false,
          "text": "BASEUS                        ",
          "x": 4,
          "xref": "x",
          "y": 12,
          "yref": "y"
         },
         {
          "font": {
           "color": "#FFFFFF"
          },
          "showarrow": false,
          "text": "1",
          "x": 5,
          "xref": "x",
          "y": 12,
          "yref": "y"
         },
         {
          "font": {
           "color": "#000000"
          },
          "showarrow": false,
          "text": "24.5",
          "x": 6,
          "xref": "x",
          "y": 12,
          "yref": "y"
         },
         {
          "font": {
           "color": "#FFFFFF"
          },
          "showarrow": false,
          "text": "49",
          "x": 7,
          "xref": "x",
          "y": 12,
          "yref": "y"
         },
         {
          "font": {
           "color": "#000000"
          },
          "showarrow": false,
          "text": "739727",
          "x": 0,
          "xref": "x",
          "y": 13,
          "yref": "y"
         },
         {
          "font": {
           "color": "#FFFFFF"
          },
          "showarrow": false,
          "text": "6950000000000",
          "x": 1,
          "xref": "x",
          "y": 13,
          "yref": "y"
         },
         {
          "font": {
           "color": "#000000"
          },
          "showarrow": false,
          "text": "WIAPPOD-01     ",
          "x": 2,
          "xref": "x",
          "y": 13,
          "yref": "y"
         },
         {
          "font": {
           "color": "#000000"
          },
          "showarrow": false,
          "text": "BASEUS PROTECTIVE CASE/WIRELESS CHARGER BLACK FOR AIRPODS                                                     ",
          "x": 3,
          "xref": "x",
          "y": 13,
          "yref": "y"
         },
         {
          "font": {
           "color": "#000000"
          },
          "showarrow": false,
          "text": "BASEUS                        ",
          "x": 4,
          "xref": "x",
          "y": 13,
          "yref": "y"
         },
         {
          "font": {
           "color": "#FFFFFF"
          },
          "showarrow": false,
          "text": "1",
          "x": 5,
          "xref": "x",
          "y": 13,
          "yref": "y"
         },
         {
          "font": {
           "color": "#FFFFFF"
          },
          "showarrow": false,
          "text": "44.5",
          "x": 6,
          "xref": "x",
          "y": 13,
          "yref": "y"
         },
         {
          "font": {
           "color": "#FFFFFF"
          },
          "showarrow": false,
          "text": "99",
          "x": 7,
          "xref": "x",
          "y": 13,
          "yref": "y"
         },
         {
          "font": {
           "color": "#000000"
          },
          "showarrow": false,
          "text": "739728",
          "x": 0,
          "xref": "x",
          "y": 14,
          "yref": "y"
         },
         {
          "font": {
           "color": "#000000"
          },
          "showarrow": false,
          "text": "6950000000000",
          "x": 1,
          "xref": "x",
          "y": 14,
          "yref": "y"
         },
         {
          "font": {
           "color": "#000000"
          },
          "showarrow": false,
          "text": "WIAPPOD-09     ",
          "x": 2,
          "xref": "x",
          "y": 14,
          "yref": "y"
         },
         {
          "font": {
           "color": "#FFFFFF"
          },
          "showarrow": false,
          "text": "BASEUS PROTECTIVE CASE/WIRELESS CHARGER RED FOR AIRPODS                                                       ",
          "x": 3,
          "xref": "x",
          "y": 14,
          "yref": "y"
         },
         {
          "font": {
           "color": "#FFFFFF"
          },
          "showarrow": false,
          "text": "BASEUS                        ",
          "x": 4,
          "xref": "x",
          "y": 14,
          "yref": "y"
         },
         {
          "font": {
           "color": "#FFFFFF"
          },
          "showarrow": false,
          "text": "1",
          "x": 5,
          "xref": "x",
          "y": 14,
          "yref": "y"
         },
         {
          "font": {
           "color": "#FFFFFF"
          },
          "showarrow": false,
          "text": "44.5",
          "x": 6,
          "xref": "x",
          "y": 14,
          "yref": "y"
         },
         {
          "font": {
           "color": "#000000"
          },
          "showarrow": false,
          "text": "99",
          "x": 7,
          "xref": "x",
          "y": 14,
          "yref": "y"
         },
         {
          "font": {
           "color": "#000000"
          },
          "showarrow": false,
          "text": "742248",
          "x": 0,
          "xref": "x",
          "y": 15,
          "yref": "y"
         },
         {
          "font": {
           "color": "#FFFFFF"
          },
          "showarrow": false,
          "text": "6950000000000",
          "x": 1,
          "xref": "x",
          "y": 15,
          "yref": "y"
         },
         {
          "font": {
           "color": "#FFFFFF"
          },
          "showarrow": false,
          "text": "ACSLCJ-01      ",
          "x": 2,
          "xref": "x",
          "y": 15,
          "yref": "y"
         },
         {
          "font": {
           "color": "#000000"
          },
          "showarrow": false,
          "text": "BASEUS GRENADE BLACK GRIP FOR SMARTPHONES                                                                     ",
          "x": 3,
          "xref": "x",
          "y": 15,
          "yref": "y"
         },
         {
          "font": {
           "color": "#000000"
          },
          "showarrow": false,
          "text": "BASEUS                        ",
          "x": 4,
          "xref": "x",
          "y": 15,
          "yref": "y"
         },
         {
          "font": {
           "color": "#FFFFFF"
          },
          "showarrow": false,
          "text": "1",
          "x": 5,
          "xref": "x",
          "y": 15,
          "yref": "y"
         },
         {
          "font": {
           "color": "#000000"
          },
          "showarrow": false,
          "text": "24.5",
          "x": 6,
          "xref": "x",
          "y": 15,
          "yref": "y"
         },
         {
          "font": {
           "color": "#000000"
          },
          "showarrow": false,
          "text": "49",
          "x": 7,
          "xref": "x",
          "y": 15,
          "yref": "y"
         },
         {
          "font": {
           "color": "#000000"
          },
          "showarrow": false,
          "text": "742249",
          "x": 0,
          "xref": "x",
          "y": 16,
          "yref": "y"
         },
         {
          "font": {
           "color": "#FFFFFF"
          },
          "showarrow": false,
          "text": "6950000000000",
          "x": 1,
          "xref": "x",
          "y": 16,
          "yref": "y"
         },
         {
          "font": {
           "color": "#FFFFFF"
          },
          "showarrow": false,
          "text": "SUCJLF-01      ",
          "x": 2,
          "xref": "x",
          "y": 16,
          "yref": "y"
         },
         {
          "font": {
           "color": "#000000"
          },
          "showarrow": false,
          "text": "BASEUS WINNER COOLING HEAT SINK BLACK FOR SMARTPHONES                                                         ",
          "x": 3,
          "xref": "x",
          "y": 16,
          "yref": "y"
         },
         {
          "font": {
           "color": "#FFFFFF"
          },
          "showarrow": false,
          "text": "BASEUS                        ",
          "x": 4,
          "xref": "x",
          "y": 16,
          "yref": "y"
         },
         {
          "font": {
           "color": "#000000"
          },
          "showarrow": false,
          "text": "1",
          "x": 5,
          "xref": "x",
          "y": 16,
          "yref": "y"
         },
         {
          "font": {
           "color": "#000000"
          },
          "showarrow": false,
          "text": "44.5",
          "x": 6,
          "xref": "x",
          "y": 16,
          "yref": "y"
         },
         {
          "font": {
           "color": "#000000"
          },
          "showarrow": false,
          "text": "99",
          "x": 7,
          "xref": "x",
          "y": 16,
          "yref": "y"
         },
         {
          "font": {
           "color": "#000000"
          },
          "showarrow": false,
          "text": "742295",
          "x": 0,
          "xref": "x",
          "y": 17,
          "yref": "y"
         },
         {
          "font": {
           "color": "#FFFFFF"
          },
          "showarrow": false,
          "text": "6950000000000",
          "x": 1,
          "xref": "x",
          "y": 17,
          "yref": "y"
         },
         {
          "font": {
           "color": "#000000"
          },
          "showarrow": false,
          "text": "SUGENT-XF0S    ",
          "x": 2,
          "xref": "x",
          "y": 17,
          "yref": "y"
         },
         {
          "font": {
           "color": "#000000"
          },
          "showarrow": false,
          "text": "BASEUS SUSPENSION GLASS DESKTOP BRACKET SILVER FOR SMARTPHONES                                                ",
          "x": 3,
          "xref": "x",
          "y": 17,
          "yref": "y"
         },
         {
          "font": {
           "color": "#FFFFFF"
          },
          "showarrow": false,
          "text": "BASEUS                        ",
          "x": 4,
          "xref": "x",
          "y": 17,
          "yref": "y"
         },
         {
          "font": {
           "color": "#000000"
          },
          "showarrow": false,
          "text": "1",
          "x": 5,
          "xref": "x",
          "y": 17,
          "yref": "y"
         },
         {
          "font": {
           "color": "#FFFFFF"
          },
          "showarrow": false,
          "text": "39.5",
          "x": 6,
          "xref": "x",
          "y": 17,
          "yref": "y"
         },
         {
          "font": {
           "color": "#000000"
          },
          "showarrow": false,
          "text": "79",
          "x": 7,
          "xref": "x",
          "y": 17,
          "yref": "y"
         },
         {
          "font": {
           "color": "#FFFFFF"
          },
          "showarrow": false,
          "text": "742296",
          "x": 0,
          "xref": "x",
          "y": 18,
          "yref": "y"
         },
         {
          "font": {
           "color": "#FFFFFF"
          },
          "showarrow": false,
          "text": "6950000000000",
          "x": 1,
          "xref": "x",
          "y": 18,
          "yref": "y"
         },
         {
          "font": {
           "color": "#000000"
          },
          "showarrow": false,
          "text": "SUGENT-XF01    ",
          "x": 2,
          "xref": "x",
          "y": 18,
          "yref": "y"
         },
         {
          "font": {
           "color": "#FFFFFF"
          },
          "showarrow": false,
          "text": "BASEUS SUSPENSION GLASS DESKTOP BRACKET BLACK FOR SMARTPHONES                                                 ",
          "x": 3,
          "xref": "x",
          "y": 18,
          "yref": "y"
         },
         {
          "font": {
           "color": "#000000"
          },
          "showarrow": false,
          "text": "BASEUS                        ",
          "x": 4,
          "xref": "x",
          "y": 18,
          "yref": "y"
         },
         {
          "font": {
           "color": "#000000"
          },
          "showarrow": false,
          "text": "1",
          "x": 5,
          "xref": "x",
          "y": 18,
          "yref": "y"
         },
         {
          "font": {
           "color": "#000000"
          },
          "showarrow": false,
          "text": "39.5",
          "x": 6,
          "xref": "x",
          "y": 18,
          "yref": "y"
         },
         {
          "font": {
           "color": "#000000"
          },
          "showarrow": false,
          "text": "79",
          "x": 7,
          "xref": "x",
          "y": 18,
          "yref": "y"
         },
         {
          "font": {
           "color": "#FFFFFF"
          },
          "showarrow": false,
          "text": "742300",
          "x": 0,
          "xref": "x",
          "y": 19,
          "yref": "y"
         },
         {
          "font": {
           "color": "#FFFFFF"
          },
          "showarrow": false,
          "text": "6950000000000",
          "x": 1,
          "xref": "x",
          "y": 19,
          "yref": "y"
         },
         {
          "font": {
           "color": "#000000"
          },
          "showarrow": false,
          "text": "ACPCL-01       ",
          "x": 2,
          "xref": "x",
          "y": 19,
          "yref": "y"
         },
         {
          "font": {
           "color": "#FFFFFF"
          },
          "showarrow": false,
          "text": "BASEUS GOLDEN CUDGEL CAPACITIVE STYLUS BLACK                                                                  ",
          "x": 3,
          "xref": "x",
          "y": 19,
          "yref": "y"
         },
         {
          "font": {
           "color": "#000000"
          },
          "showarrow": false,
          "text": "BASEUS                        ",
          "x": 4,
          "xref": "x",
          "y": 19,
          "yref": "y"
         },
         {
          "font": {
           "color": "#FFFFFF"
          },
          "showarrow": false,
          "text": "1",
          "x": 5,
          "xref": "x",
          "y": 19,
          "yref": "y"
         },
         {
          "font": {
           "color": "#FFFFFF"
          },
          "showarrow": false,
          "text": "29.5",
          "x": 6,
          "xref": "x",
          "y": 19,
          "yref": "y"
         },
         {
          "font": {
           "color": "#FFFFFF"
          },
          "showarrow": false,
          "text": "59",
          "x": 7,
          "xref": "x",
          "y": 19,
          "yref": "y"
         },
         {
          "font": {
           "color": "#000000"
          },
          "showarrow": false,
          "text": "743939",
          "x": 0,
          "xref": "x",
          "y": 20,
          "yref": "y"
         },
         {
          "font": {
           "color": "#FFFFFF"
          },
          "showarrow": false,
          "text": "6950000000000",
          "x": 1,
          "xref": "x",
          "y": 20,
          "yref": "y"
         },
         {
          "font": {
           "color": "#000000"
          },
          "showarrow": false,
          "text": "NGH08-01       ",
          "x": 2,
          "xref": "x",
          "y": 20,
          "yref": "y"
         },
         {
          "font": {
           "color": "#FFFFFF"
          },
          "showarrow": false,
          "text": "BASEUS H08 BLACK IMMERSIVE VIRTUAL 3D GAMING IN-EAR EARPHONES                                                 ",
          "x": 3,
          "xref": "x",
          "y": 20,
          "yref": "y"
         },
         {
          "font": {
           "color": "#FFFFFF"
          },
          "showarrow": false,
          "text": "BASEUS                        ",
          "x": 4,
          "xref": "x",
          "y": 20,
          "yref": "y"
         },
         {
          "font": {
           "color": "#000000"
          },
          "showarrow": false,
          "text": "1",
          "x": 5,
          "xref": "x",
          "y": 20,
          "yref": "y"
         },
         {
          "font": {
           "color": "#000000"
          },
          "showarrow": false,
          "text": "140.0",
          "x": 6,
          "xref": "x",
          "y": 20,
          "yref": "y"
         },
         {
          "font": {
           "color": "#000000"
          },
          "showarrow": false,
          "text": "289",
          "x": 7,
          "xref": "x",
          "y": 20,
          "yref": "y"
         },
         {
          "font": {
           "color": "#FFFFFF"
          },
          "showarrow": false,
          "text": "743953",
          "x": 0,
          "xref": "x",
          "y": 21,
          "yref": "y"
         },
         {
          "font": {
           "color": "#000000"
          },
          "showarrow": false,
          "text": "6950000000000",
          "x": 1,
          "xref": "x",
          "y": 21,
          "yref": "y"
         },
         {
          "font": {
           "color": "#FFFFFF"
          },
          "showarrow": false,
          "text": "WIAPIPH58-ASL01",
          "x": 2,
          "xref": "x",
          "y": 21,
          "yref": "y"
         },
         {
          "font": {
           "color": "#000000"
          },
          "showarrow": false,
          "text": "BASEUS ORIGINAL LSR CASE BLACK FOR IPHONE XS                                                                  ",
          "x": 3,
          "xref": "x",
          "y": 21,
          "yref": "y"
         },
         {
          "font": {
           "color": "#FFFFFF"
          },
          "showarrow": false,
          "text": "BASEUS                        ",
          "x": 4,
          "xref": "x",
          "y": 21,
          "yref": "y"
         },
         {
          "font": {
           "color": "#FFFFFF"
          },
          "showarrow": false,
          "text": "1",
          "x": 5,
          "xref": "x",
          "y": 21,
          "yref": "y"
         },
         {
          "font": {
           "color": "#000000"
          },
          "showarrow": false,
          "text": "34.5",
          "x": 6,
          "xref": "x",
          "y": 21,
          "yref": "y"
         },
         {
          "font": {
           "color": "#000000"
          },
          "showarrow": false,
          "text": "69",
          "x": 7,
          "xref": "x",
          "y": 21,
          "yref": "y"
         },
         {
          "font": {
           "color": "#FFFFFF"
          },
          "showarrow": false,
          "text": "743955",
          "x": 0,
          "xref": "x",
          "y": 22,
          "yref": "y"
         },
         {
          "font": {
           "color": "#000000"
          },
          "showarrow": false,
          "text": "6950000000000",
          "x": 1,
          "xref": "x",
          "y": 22,
          "yref": "y"
         },
         {
          "font": {
           "color": "#000000"
          },
          "showarrow": false,
          "text": "WIAPIPH58-ASL03",
          "x": 2,
          "xref": "x",
          "y": 22,
          "yref": "y"
         },
         {
          "font": {
           "color": "#000000"
          },
          "showarrow": false,
          "text": "BASEUS ORIGINAL LSR CASE LIGHT AQUA MARINE FOR IPHONE XS                                                      ",
          "x": 3,
          "xref": "x",
          "y": 22,
          "yref": "y"
         },
         {
          "font": {
           "color": "#FFFFFF"
          },
          "showarrow": false,
          "text": "BASEUS                        ",
          "x": 4,
          "xref": "x",
          "y": 22,
          "yref": "y"
         },
         {
          "font": {
           "color": "#FFFFFF"
          },
          "showarrow": false,
          "text": "1",
          "x": 5,
          "xref": "x",
          "y": 22,
          "yref": "y"
         },
         {
          "font": {
           "color": "#FFFFFF"
          },
          "showarrow": false,
          "text": "34.5",
          "x": 6,
          "xref": "x",
          "y": 22,
          "yref": "y"
         },
         {
          "font": {
           "color": "#FFFFFF"
          },
          "showarrow": false,
          "text": "69",
          "x": 7,
          "xref": "x",
          "y": 22,
          "yref": "y"
         },
         {
          "font": {
           "color": "#000000"
          },
          "showarrow": false,
          "text": "743956",
          "x": 0,
          "xref": "x",
          "y": 23,
          "yref": "y"
         },
         {
          "font": {
           "color": "#FFFFFF"
          },
          "showarrow": false,
          "text": "6950000000000",
          "x": 1,
          "xref": "x",
          "y": 23,
          "yref": "y"
         },
         {
          "font": {
           "color": "#FFFFFF"
          },
          "showarrow": false,
          "text": "WIAPIPH58-ASL04",
          "x": 2,
          "xref": "x",
          "y": 23,
          "yref": "y"
         },
         {
          "font": {
           "color": "#000000"
          },
          "showarrow": false,
          "text": "BASEUS ORIGINAL LSR CASE PINK FOR IPHONE XS                                                                   ",
          "x": 3,
          "xref": "x",
          "y": 23,
          "yref": "y"
         },
         {
          "font": {
           "color": "#000000"
          },
          "showarrow": false,
          "text": "BASEUS                        ",
          "x": 4,
          "xref": "x",
          "y": 23,
          "yref": "y"
         },
         {
          "font": {
           "color": "#FFFFFF"
          },
          "showarrow": false,
          "text": "1",
          "x": 5,
          "xref": "x",
          "y": 23,
          "yref": "y"
         },
         {
          "font": {
           "color": "#FFFFFF"
          },
          "showarrow": false,
          "text": "34.5",
          "x": 6,
          "xref": "x",
          "y": 23,
          "yref": "y"
         },
         {
          "font": {
           "color": "#000000"
          },
          "showarrow": false,
          "text": "69",
          "x": 7,
          "xref": "x",
          "y": 23,
          "yref": "y"
         },
         {
          "font": {
           "color": "#FFFFFF"
          },
          "showarrow": false,
          "text": "743960",
          "x": 0,
          "xref": "x",
          "y": 24,
          "yref": "y"
         },
         {
          "font": {
           "color": "#FFFFFF"
          },
          "showarrow": false,
          "text": "6950000000000",
          "x": 1,
          "xref": "x",
          "y": 24,
          "yref": "y"
         },
         {
          "font": {
           "color": "#000000"
          },
          "showarrow": false,
          "text": "WIAPIPH65-ASL01",
          "x": 2,
          "xref": "x",
          "y": 24,
          "yref": "y"
         },
         {
          "font": {
           "color": "#000000"
          },
          "showarrow": false,
          "text": "BASEUS ORIGINAL LSR CASE BLACK FOR IPHONE XS MAX                                                              ",
          "x": 3,
          "xref": "x",
          "y": 24,
          "yref": "y"
         },
         {
          "font": {
           "color": "#000000"
          },
          "showarrow": false,
          "text": "BASEUS                        ",
          "x": 4,
          "xref": "x",
          "y": 24,
          "yref": "y"
         },
         {
          "font": {
           "color": "#000000"
          },
          "showarrow": false,
          "text": "1",
          "x": 5,
          "xref": "x",
          "y": 24,
          "yref": "y"
         },
         {
          "font": {
           "color": "#000000"
          },
          "showarrow": false,
          "text": "34.5",
          "x": 6,
          "xref": "x",
          "y": 24,
          "yref": "y"
         },
         {
          "font": {
           "color": "#000000"
          },
          "showarrow": false,
          "text": "69",
          "x": 7,
          "xref": "x",
          "y": 24,
          "yref": "y"
         },
         {
          "font": {
           "color": "#000000"
          },
          "showarrow": false,
          "text": "743966",
          "x": 0,
          "xref": "x",
          "y": 25,
          "yref": "y"
         },
         {
          "font": {
           "color": "#000000"
          },
          "showarrow": false,
          "text": "6950000000000",
          "x": 1,
          "xref": "x",
          "y": 25,
          "yref": "y"
         },
         {
          "font": {
           "color": "#000000"
          },
          "showarrow": false,
          "text": "CATKC-A01      ",
          "x": 2,
          "xref": "x",
          "y": 25,
          "yref": "y"
         },
         {
          "font": {
           "color": "#000000"
          },
          "showarrow": false,
          "text": "BASEUS DOUBLE FAST CHARGING TYPE-C CABLE 1M BLACK                                                             ",
          "x": 3,
          "xref": "x",
          "y": 25,
          "yref": "y"
         },
         {
          "font": {
           "color": "#000000"
          },
          "showarrow": false,
          "text": "BASEUS                        ",
          "x": 4,
          "xref": "x",
          "y": 25,
          "yref": "y"
         },
         {
          "font": {
           "color": "#FFFFFF"
          },
          "showarrow": false,
          "text": "1",
          "x": 5,
          "xref": "x",
          "y": 25,
          "yref": "y"
         },
         {
          "font": {
           "color": "#000000"
          },
          "showarrow": false,
          "text": "29.5",
          "x": 6,
          "xref": "x",
          "y": 25,
          "yref": "y"
         },
         {
          "font": {
           "color": "#000000"
          },
          "showarrow": false,
          "text": "59",
          "x": 7,
          "xref": "x",
          "y": 25,
          "yref": "y"
         },
         {
          "font": {
           "color": "#FFFFFF"
          },
          "showarrow": false,
          "text": "743968",
          "x": 0,
          "xref": "x",
          "y": 26,
          "yref": "y"
         },
         {
          "font": {
           "color": "#000000"
          },
          "showarrow": false,
          "text": "6950000000000",
          "x": 1,
          "xref": "x",
          "y": 26,
          "yref": "y"
         },
         {
          "font": {
           "color": "#000000"
          },
          "showarrow": false,
          "text": "SUCJG9-02      ",
          "x": 2,
          "xref": "x",
          "y": 26,
          "yref": "y"
         },
         {
          "font": {
           "color": "#FFFFFF"
          },
          "showarrow": false,
          "text": "BASEUS G9 MOBILE GAME SCORING TOOL WHITE FOR SMARTPHONES/TABLET                                               ",
          "x": 3,
          "xref": "x",
          "y": 26,
          "yref": "y"
         },
         {
          "font": {
           "color": "#FFFFFF"
          },
          "showarrow": false,
          "text": "BASEUS                        ",
          "x": 4,
          "xref": "x",
          "y": 26,
          "yref": "y"
         },
         {
          "font": {
           "color": "#000000"
          },
          "showarrow": false,
          "text": "1",
          "x": 5,
          "xref": "x",
          "y": 26,
          "yref": "y"
         },
         {
          "font": {
           "color": "#000000"
          },
          "showarrow": false,
          "text": "24.5",
          "x": 6,
          "xref": "x",
          "y": 26,
          "yref": "y"
         },
         {
          "font": {
           "color": "#000000"
          },
          "showarrow": false,
          "text": "49",
          "x": 7,
          "xref": "x",
          "y": 26,
          "yref": "y"
         },
         {
          "font": {
           "color": "#FFFFFF"
          },
          "showarrow": false,
          "text": "743975",
          "x": 0,
          "xref": "x",
          "y": 27,
          "yref": "y"
         },
         {
          "font": {
           "color": "#FFFFFF"
          },
          "showarrow": false,
          "text": "6950000000000",
          "x": 1,
          "xref": "x",
          "y": 27,
          "yref": "y"
         },
         {
          "font": {
           "color": "#000000"
          },
          "showarrow": false,
          "text": "SUCJG9-01      ",
          "x": 2,
          "xref": "x",
          "y": 27,
          "yref": "y"
         },
         {
          "font": {
           "color": "#000000"
          },
          "showarrow": false,
          "text": "BASEUS G9 MOBILE GAME SCORING TOOL BLACK FOR SMARTPHONES/TABLET                                               ",
          "x": 3,
          "xref": "x",
          "y": 27,
          "yref": "y"
         },
         {
          "font": {
           "color": "#000000"
          },
          "showarrow": false,
          "text": "BASEUS                        ",
          "x": 4,
          "xref": "x",
          "y": 27,
          "yref": "y"
         },
         {
          "font": {
           "color": "#FFFFFF"
          },
          "showarrow": false,
          "text": "1",
          "x": 5,
          "xref": "x",
          "y": 27,
          "yref": "y"
         },
         {
          "font": {
           "color": "#FFFFFF"
          },
          "showarrow": false,
          "text": "24.5",
          "x": 6,
          "xref": "x",
          "y": 27,
          "yref": "y"
         },
         {
          "font": {
           "color": "#FFFFFF"
          },
          "showarrow": false,
          "text": "49",
          "x": 7,
          "xref": "x",
          "y": 27,
          "yref": "y"
         },
         {
          "font": {
           "color": "#000000"
          },
          "showarrow": false,
          "text": "746699",
          "x": 0,
          "xref": "x",
          "y": 28,
          "yref": "y"
         },
         {
          "font": {
           "color": "#FFFFFF"
          },
          "showarrow": false,
          "text": "745000000000",
          "x": 1,
          "xref": "x",
          "y": 28,
          "yref": "y"
         },
         {
          "font": {
           "color": "#000000"
          },
          "showarrow": false,
          "text": "BHL-712        ",
          "x": 2,
          "xref": "x",
          "y": 28,
          "yref": "y"
         },
         {
          "font": {
           "color": "#000000"
          },
          "showarrow": false,
          "text": "BRAVE LOTTO SERIES MAGNETIC CAR MOUNTS                                                                        ",
          "x": 3,
          "xref": "x",
          "y": 28,
          "yref": "y"
         },
         {
          "font": {
           "color": "#000000"
          },
          "showarrow": false,
          "text": "BRAVE                         ",
          "x": 4,
          "xref": "x",
          "y": 28,
          "yref": "y"
         },
         {
          "font": {
           "color": "#FFFFFF"
          },
          "showarrow": false,
          "text": "1",
          "x": 5,
          "xref": "x",
          "y": 28,
          "yref": "y"
         },
         {
          "font": {
           "color": "#FFFFFF"
          },
          "showarrow": false,
          "text": "34.5",
          "x": 6,
          "xref": "x",
          "y": 28,
          "yref": "y"
         },
         {
          "font": {
           "color": "#FFFFFF"
          },
          "showarrow": false,
          "text": "69",
          "x": 7,
          "xref": "x",
          "y": 28,
          "yref": "y"
         },
         {
          "font": {
           "color": "#FFFFFF"
          },
          "showarrow": false,
          "text": "746700",
          "x": 0,
          "xref": "x",
          "y": 29,
          "yref": "y"
         },
         {
          "font": {
           "color": "#FFFFFF"
          },
          "showarrow": false,
          "text": "745000000000",
          "x": 1,
          "xref": "x",
          "y": 29,
          "yref": "y"
         },
         {
          "font": {
           "color": "#FFFFFF"
          },
          "showarrow": false,
          "text": "BHL-713        ",
          "x": 2,
          "xref": "x",
          "y": 29,
          "yref": "y"
         },
         {
          "font": {
           "color": "#FFFFFF"
          },
          "showarrow": false,
          "text": "BRAVE 2-IN-1 UNIVERSAL MAGNETIC HOLDER                                                                        ",
          "x": 3,
          "xref": "x",
          "y": 29,
          "yref": "y"
         },
         {
          "font": {
           "color": "#FFFFFF"
          },
          "showarrow": false,
          "text": "BRAVE                         ",
          "x": 4,
          "xref": "x",
          "y": 29,
          "yref": "y"
         },
         {
          "font": {
           "color": "#000000"
          },
          "showarrow": false,
          "text": "1",
          "x": 5,
          "xref": "x",
          "y": 29,
          "yref": "y"
         },
         {
          "font": {
           "color": "#FFFFFF"
          },
          "showarrow": false,
          "text": "29.5",
          "x": 6,
          "xref": "x",
          "y": 29,
          "yref": "y"
         },
         {
          "font": {
           "color": "#FFFFFF"
          },
          "showarrow": false,
          "text": "59",
          "x": 7,
          "xref": "x",
          "y": 29,
          "yref": "y"
         },
         {
          "font": {
           "color": "#FFFFFF"
          },
          "showarrow": false,
          "text": "751056",
          "x": 0,
          "xref": "x",
          "y": 30,
          "yref": "y"
         },
         {
          "font": {
           "color": "#000000"
          },
          "showarrow": false,
          "text": "6950000000000",
          "x": 1,
          "xref": "x",
          "y": 30,
          "yref": "y"
         },
         {
          "font": {
           "color": "#000000"
          },
          "showarrow": false,
          "text": "ACPBCJ-01      ",
          "x": 2,
          "xref": "x",
          "y": 30,
          "yref": "y"
         },
         {
          "font": {
           "color": "#FFFFFF"
          },
          "showarrow": false,
          "text": "BASEUS SHOOTING GAME TOOL FOR PAD BLACK                                                                       ",
          "x": 3,
          "xref": "x",
          "y": 30,
          "yref": "y"
         },
         {
          "font": {
           "color": "#000000"
          },
          "showarrow": false,
          "text": "BASEUS                        ",
          "x": 4,
          "xref": "x",
          "y": 30,
          "yref": "y"
         },
         {
          "font": {
           "color": "#FFFFFF"
          },
          "showarrow": false,
          "text": "1",
          "x": 5,
          "xref": "x",
          "y": 30,
          "yref": "y"
         },
         {
          "font": {
           "color": "#FFFFFF"
          },
          "showarrow": false,
          "text": "34.5",
          "x": 6,
          "xref": "x",
          "y": 30,
          "yref": "y"
         },
         {
          "font": {
           "color": "#FFFFFF"
          },
          "showarrow": false,
          "text": "69",
          "x": 7,
          "xref": "x",
          "y": 30,
          "yref": "y"
         },
         {
          "font": {
           "color": "#FFFFFF"
          },
          "showarrow": false,
          "text": "751059",
          "x": 0,
          "xref": "x",
          "y": 31,
          "yref": "y"
         },
         {
          "font": {
           "color": "#000000"
          },
          "showarrow": false,
          "text": "6950000000000",
          "x": 1,
          "xref": "x",
          "y": 31,
          "yref": "y"
         },
         {
          "font": {
           "color": "#000000"
          },
          "showarrow": false,
          "text": "ACPBCJ-02      ",
          "x": 2,
          "xref": "x",
          "y": 31,
          "yref": "y"
         },
         {
          "font": {
           "color": "#FFFFFF"
          },
          "showarrow": false,
          "text": "BASEUS SHOOTING GAME TOOL FOR PAD TRANSPARENT                                                                 ",
          "x": 3,
          "xref": "x",
          "y": 31,
          "yref": "y"
         },
         {
          "font": {
           "color": "#FFFFFF"
          },
          "showarrow": false,
          "text": "BASEUS                        ",
          "x": 4,
          "xref": "x",
          "y": 31,
          "yref": "y"
         },
         {
          "font": {
           "color": "#000000"
          },
          "showarrow": false,
          "text": "1",
          "x": 5,
          "xref": "x",
          "y": 31,
          "yref": "y"
         },
         {
          "font": {
           "color": "#000000"
          },
          "showarrow": false,
          "text": "34.5",
          "x": 6,
          "xref": "x",
          "y": 31,
          "yref": "y"
         },
         {
          "font": {
           "color": "#FFFFFF"
          },
          "showarrow": false,
          "text": "69",
          "x": 7,
          "xref": "x",
          "y": 31,
          "yref": "y"
         },
         {
          "font": {
           "color": "#000000"
          },
          "showarrow": false,
          "text": "751060",
          "x": 0,
          "xref": "x",
          "y": 32,
          "yref": "y"
         },
         {
          "font": {
           "color": "#000000"
          },
          "showarrow": false,
          "text": "6950000000000",
          "x": 1,
          "xref": "x",
          "y": 32,
          "yref": "y"
         },
         {
          "font": {
           "color": "#000000"
          },
          "showarrow": false,
          "text": "SGAPWA4-A01    ",
          "x": 2,
          "xref": "x",
          "y": 32,
          "yref": "y"
         },
         {
          "font": {
           "color": "#FFFFFF"
          },
          "showarrow": false,
          "text": "BASEUS 0.3MM FULL-SCREEN CURVED TEMPERED FILM BLACK FOR APPLE WATCH SERIES 4 40MM                             ",
          "x": 3,
          "xref": "x",
          "y": 32,
          "yref": "y"
         },
         {
          "font": {
           "color": "#000000"
          },
          "showarrow": false,
          "text": "BASEUS                        ",
          "x": 4,
          "xref": "x",
          "y": 32,
          "yref": "y"
         },
         {
          "font": {
           "color": "#FFFFFF"
          },
          "showarrow": false,
          "text": "1",
          "x": 5,
          "xref": "x",
          "y": 32,
          "yref": "y"
         },
         {
          "font": {
           "color": "#FFFFFF"
          },
          "showarrow": false,
          "text": "29.5",
          "x": 6,
          "xref": "x",
          "y": 32,
          "yref": "y"
         },
         {
          "font": {
           "color": "#FFFFFF"
          },
          "showarrow": false,
          "text": "59",
          "x": 7,
          "xref": "x",
          "y": 32,
          "yref": "y"
         },
         {
          "font": {
           "color": "#000000"
          },
          "showarrow": false,
          "text": "751063",
          "x": 0,
          "xref": "x",
          "y": 33,
          "yref": "y"
         },
         {
          "font": {
           "color": "#FFFFFF"
          },
          "showarrow": false,
          "text": "6950000000000",
          "x": 1,
          "xref": "x",
          "y": 33,
          "yref": "y"
         },
         {
          "font": {
           "color": "#000000"
          },
          "showarrow": false,
          "text": "SGAPWA4-B01    ",
          "x": 2,
          "xref": "x",
          "y": 33,
          "yref": "y"
         },
         {
          "font": {
           "color": "#FFFFFF"
          },
          "showarrow": false,
          "text": "BASEUS 0.3MM FULL-SCREEN CURVED TEMPERED FILM BLACK FOR APPLE WATCH SERIES 4 44MM                             ",
          "x": 3,
          "xref": "x",
          "y": 33,
          "yref": "y"
         },
         {
          "font": {
           "color": "#FFFFFF"
          },
          "showarrow": false,
          "text": "BASEUS                        ",
          "x": 4,
          "xref": "x",
          "y": 33,
          "yref": "y"
         },
         {
          "font": {
           "color": "#000000"
          },
          "showarrow": false,
          "text": "1",
          "x": 5,
          "xref": "x",
          "y": 33,
          "yref": "y"
         },
         {
          "font": {
           "color": "#000000"
          },
          "showarrow": false,
          "text": "29.5",
          "x": 6,
          "xref": "x",
          "y": 33,
          "yref": "y"
         },
         {
          "font": {
           "color": "#000000"
          },
          "showarrow": false,
          "text": "59",
          "x": 7,
          "xref": "x",
          "y": 33,
          "yref": "y"
         },
         {
          "font": {
           "color": "#000000"
          },
          "showarrow": false,
          "text": "758125",
          "x": 0,
          "xref": "x",
          "y": 34,
          "yref": "y"
         },
         {
          "font": {
           "color": "#000000"
          },
          "showarrow": false,
          "text": "6950000000000",
          "x": 1,
          "xref": "x",
          "y": 34,
          "yref": "y"
         },
         {
          "font": {
           "color": "#000000"
          },
          "showarrow": false,
          "text": "WXYL-A01       ",
          "x": 2,
          "xref": "x",
          "y": 34,
          "yref": "y"
         },
         {
          "font": {
           "color": "#000000"
          },
          "showarrow": false,
          "text": "BASEUS OSCULUM WIRELESS GRAVITY CAR CHARGER                                                                   ",
          "x": 3,
          "xref": "x",
          "y": 34,
          "yref": "y"
         },
         {
          "font": {
           "color": "#000000"
          },
          "showarrow": false,
          "text": "BASEUS                        ",
          "x": 4,
          "xref": "x",
          "y": 34,
          "yref": "y"
         },
         {
          "font": {
           "color": "#FFFFFF"
          },
          "showarrow": false,
          "text": "1",
          "x": 5,
          "xref": "x",
          "y": 34,
          "yref": "y"
         },
         {
          "font": {
           "color": "#000000"
          },
          "showarrow": false,
          "text": "74.5",
          "x": 6,
          "xref": "x",
          "y": 34,
          "yref": "y"
         },
         {
          "font": {
           "color": "#000000"
          },
          "showarrow": false,
          "text": "156",
          "x": 7,
          "xref": "x",
          "y": 34,
          "yref": "y"
         },
         {
          "font": {
           "color": "#000000"
          },
          "showarrow": false,
          "text": "758231",
          "x": 0,
          "xref": "x",
          "y": 35,
          "yref": "y"
         },
         {
          "font": {
           "color": "#FFFFFF"
          },
          "showarrow": false,
          "text": "7450000000000",
          "x": 1,
          "xref": "x",
          "y": 35,
          "yref": "y"
         },
         {
          "font": {
           "color": "#FFFFFF"
          },
          "showarrow": false,
          "text": "BHL-715        ",
          "x": 2,
          "xref": "x",
          "y": 35,
          "yref": "y"
         },
         {
          "font": {
           "color": "#000000"
          },
          "showarrow": false,
          "text": "BRAVE 2-IN-1 UNIVERSAL MAGNETIC HOLDER                                                                        ",
          "x": 3,
          "xref": "x",
          "y": 35,
          "yref": "y"
         },
         {
          "font": {
           "color": "#000000"
          },
          "showarrow": false,
          "text": "BRAVEN                        ",
          "x": 4,
          "xref": "x",
          "y": 35,
          "yref": "y"
         },
         {
          "font": {
           "color": "#FFFFFF"
          },
          "showarrow": false,
          "text": "1",
          "x": 5,
          "xref": "x",
          "y": 35,
          "yref": "y"
         },
         {
          "font": {
           "color": "#000000"
          },
          "showarrow": false,
          "text": "30.0",
          "x": 6,
          "xref": "x",
          "y": 35,
          "yref": "y"
         },
         {
          "font": {
           "color": "#000000"
          },
          "showarrow": false,
          "text": "62",
          "x": 7,
          "xref": "x",
          "y": 35,
          "yref": "y"
         }
        ],
        "xaxis": {
         "gridcolor": "rgb(0, 0, 0)",
         "showticklabels": false,
         "side": "top",
         "ticks": ""
        },
        "yaxis": {
         "showticklabels": false,
         "ticks": "",
         "ticksuffix": "  "
        }
       }
      },
      "text/html": [
       "<div>\n",
       "        \n",
       "        \n",
       "            <div id=\"c0e85b04-ba3f-4979-804d-eabcabf071c3\" class=\"plotly-graph-div\" style=\"height:525px; width:100%;\"></div>\n",
       "            <script type=\"text/javascript\">\n",
       "                require([\"plotly\"], function(Plotly) {\n",
       "                    window.PLOTLYENV=window.PLOTLYENV || {};\n",
       "                    window.PLOTLYENV.BASE_URL='https://plot.ly';\n",
       "                    \n",
       "                if (document.getElementById(\"c0e85b04-ba3f-4979-804d-eabcabf071c3\")) {\n",
       "                    Plotly.newPlot(\n",
       "                        'c0e85b04-ba3f-4979-804d-eabcabf071c3',\n",
       "                        [{\"colorscale\": \"RdBu\", \"reversescale\": false, \"showscale\": false, \"type\": \"heatmap\", \"uid\": \"c3bf0d55-486c-4251-ab14-477332863462\", \"z\": [[-0.8884471636875384, 1.8001412759168982, 1.2692731408729923, 0.969061008022709, 2.2247696954188516, 0.43622734741324454, 0.40436137324953547, -1.9346839587050546], [-0.7736209249084371, 1.3199015230928597, 1.3000559761578436, -2.065531846638963, -1.3691305630515749, 1.5496882136738455, 2.061414411567135, 0.3774322298812351], [-2.1562233980697325, 0.10775639832191518, 1.2932178873417794, 0.7125348562407742, -0.58871686843707, 0.37746914268564064, 1.9909635137325385, -0.534640204865476], [-0.035442355980418554, -0.9440148305821945, -0.6817219123816114, -0.3023678082544276, 0.41443680794776816, 0.3852487236559746, 0.4111849318429985, -0.13266202726676427], [0.5518890977371319, -1.6873475558049027, 0.6479595773688098, 0.6365754874432487, 0.20729497266381328, -1.126981632405575, 0.1778386315002588, -0.13807418880496317], [0.6035848726177533, -1.1179964715161568, -0.11114036217197415, 0.13752174482361162, -1.1692069388396586, -0.1653088348069275, -0.36054528497072363, -0.13766361735875118], [-2.0369558389568834, -0.3513702280347847, -0.6185379712041036, 0.8583177345160103, 1.4311004490127865, -0.67586358072148, -0.20648314412387933, -0.8821888817604074], [-0.06939109323143992, -0.07096088737841494, -0.9962130478571095, -0.7460357207957503, -0.08905279281969408, 2.1430624244935994, 1.2341751479201695, 1.1858235536834936], [1.4369315144564894, -0.7077542785106956, -1.375839254505725, 0.5180865171043744, -0.9973820182167781, -1.1420840296000212, -0.848456969435568, 0.6243503121971444], [-2.2093701111411597, 0.31910930933753195, 1.4660469636247409, -0.9655503919592154, -0.4706886388253188, 2.0033947228498157, 0.09143705311520063, 0.8784930976085195], [0.11879368835168345, 1.5598907644931779, -1.1998011224401348, -1.282312463186318, -1.3279098557951772, 0.2408711230593829, 1.6818204706733426, -0.5826813017834356], [-0.121806456170185, 1.0674710597744552, 0.39625560749800137, 0.3557965489776824, 0.7982252759515284, 0.2141474772674405, 1.9572861298478061, -1.779725938710131], [1.0314872036389438, 1.3945539561442555, -0.19062716883103645, -0.9744186828779453, 1.8081838970215, -1.1424028266026092, 0.17811996519900752, -0.4357227846919152], [0.7268160676322647, -1.2948915515231145, -0.04698376772081029, 1.38740572903823, -0.1332324661953786, -0.632018094121867, -1.1741022601462694, -0.240211237497534], [1.3609058406536474, 1.0871469711664432, 1.6212020539419003, -0.1645618087604891, -0.34537008456823975, -1.1453186119741454, -0.8827971934872555, 0.4952752384345332], [1.055135633433523, -0.3516699949788441, -0.40594347341343084, 0.728021902874621, 0.4445960877432969, -0.38838218587408685, 1.5867548785581365, 0.9622487808030938], [1.419381212226259, -0.8057247288799869, -0.42182388782999813, 0.4676620307883382, -0.4263124522048327, 0.37960005976235794, 0.21320104765563833, 0.6830715458182243], [1.0684521850409816, -0.8853480463251893, -0.031149767400449207, 2.4050058588084555, -2.710140127950508, 0.9678109496820418, -1.0822075552425472, 1.824341806029549], [-1.4763832103390302, -0.873437406069198, -0.08109281130865499, -0.3045124328528333, -0.1024196820493315, 0.11465584824550813, 0.6119001847644487, 0.715064063868729], [-0.2287083528054447, -1.4755572481163313, 0.7549352790738317, -0.6081418295306116, 0.2673423148629807, -0.9964783914082049, -0.46042561803278603, -0.8600065065261366], [0.8921082475168338, -0.5646989161793466, -0.10748512139201614, -0.6414979029481327, -0.5232093320691176, 1.661428642669182, 1.148645922239179, 0.12800875273174195], [-0.5941972655610696, 0.5812861208180254, -0.5208014258897291, 1.0830037041278566, -0.5738740412463014, -0.911520755883625, 0.7820626151576313, -0.1017167797568657], [-0.8392225794691012, 0.27468258521720407, 0.1624918318799111, 0.3925358726947723, -1.010580815687058, -0.38005492452606476, -0.7922817732536138, -0.6421355771006527], [1.4202657354063613, -1.1402359098669528, -0.7824618413456284, 0.14597282861744854, 0.19357601536720445, -0.6917381528011914, -1.9242205857947359, 0.21164700324425084], [-1.083168123054312, -0.9314780818737657, 0.9969682419066442, 1.5235177875262675, 0.16984440946379833, 0.6611696957478226, 0.20746247390833225, 0.9122811760510886], [0.644924614657496, 0.8029550990796087, 0.920802670033812, -0.13985306604432357, 1.030016065821932, -0.2301705203029824, 1.7368123543103318, 1.2907301266379652], [-0.27071084277172186, 1.349013553696621, 0.9945606247115054, -1.6810092263935876, -0.370337614227754, 0.8459759399958896, 0.41177958360693856, 1.6731901584170665], [-0.341892006205153, -0.5244902686248442, 0.5092775996705037, 2.27591547242262, 1.2379161331169024, -1.1698916337888068, -0.8454453345698487, -1.8149674963624887], [1.1381106601442572, -0.2688457450737396, 0.12074279967534833, 1.3181115790966638, 1.2054503866552355, -1.5206139176140316, -2.1197123751347933, -0.25038471920036015], [-0.7124060835278134, -0.7691938317207141, -0.6524024425683994, -0.18348289540980958, -1.4697392502332725, 0.3712334504278172, -0.26722692945155496, -0.9595086385446082], [-0.5056908369440442, 0.6977079172267943, -0.09602100767160981, -0.2843634634925653, 0.26386825258118013, -1.7291537530236991, -0.8102015731550428, -0.5708531619350905], [-1.06214941166301, 1.5363053648435976, 1.1063070061568132, -1.5416366132701573, -1.1604384817108642, 0.09637972567799591, 0.17296688128670595, -1.2822373089667924], [0.45969996500233956, 0.729345924779893, -0.11209101573602209, -0.7514849812957402, -0.047242420456826306, -1.225585605905729, -1.1717697340043487, -0.33590841488147793], [1.08051142115307, -1.1652241414028508, 0.19964972651146243, -0.6935022412909663, -0.9590945974134845, 0.8568546549903331, 0.39317611795629565, 0.7125870776731249], [0.16075016481794546, 0.9030435140870458, 0.2062069724097308, 1.1300304866348252, 0.47082809982760776, -1.0574331455310617, 0.5653286287360964, 0.92440405790886], [0.29402102073841324, -2.469755022610324, -0.8903588372248779, 0.7707527839447624, -0.0656409372611998, -0.2567294583912235, 1.2424571147831618, 1.0267425670895671]]}],\n",
       "                        {\"annotations\": [{\"font\": {\"color\": \"#FFFFFF\"}, \"showarrow\": false, \"text\": \"734836\", \"x\": 0, \"xref\": \"x\", \"y\": 0, \"yref\": \"y\"}, {\"font\": {\"color\": \"#000000\"}, \"showarrow\": false, \"text\": \"6950000000000\", \"x\": 1, \"xref\": \"x\", \"y\": 0, \"yref\": \"y\"}, {\"font\": {\"color\": \"#000000\"}, \"showarrow\": false, \"text\": \"WXZN-01        \", \"x\": 2, \"xref\": \"x\", \"y\": 0, \"yref\": \"y\"}, {\"font\": {\"color\": \"#000000\"}, \"showarrow\": false, \"text\": \"BASEUS CAR WIRELESS CHARGER SMART VEHICLE BRACKET                                                             \", \"x\": 3, \"xref\": \"x\", \"y\": 0, \"yref\": \"y\"}, {\"font\": {\"color\": \"#000000\"}, \"showarrow\": false, \"text\": \"BASEUS                        \", \"x\": 4, \"xref\": \"x\", \"y\": 0, \"yref\": \"y\"}, {\"font\": {\"color\": \"#000000\"}, \"showarrow\": false, \"text\": \"1\", \"x\": 5, \"xref\": \"x\", \"y\": 0, \"yref\": \"y\"}, {\"font\": {\"color\": \"#000000\"}, \"showarrow\": false, \"text\": \"69.5\", \"x\": 6, \"xref\": \"x\", \"y\": 0, \"yref\": \"y\"}, {\"font\": {\"color\": \"#FFFFFF\"}, \"showarrow\": false, \"text\": \"149\", \"x\": 7, \"xref\": \"x\", \"y\": 0, \"yref\": \"y\"}, {\"font\": {\"color\": \"#FFFFFF\"}, \"showarrow\": false, \"text\": \"734837\", \"x\": 0, \"xref\": \"x\", \"y\": 1, \"yref\": \"y\"}, {\"font\": {\"color\": \"#000000\"}, \"showarrow\": false, \"text\": \"6950000000000\", \"x\": 1, \"xref\": \"x\", \"y\": 1, \"yref\": \"y\"}, {\"font\": {\"color\": \"#000000\"}, \"showarrow\": false, \"text\": \"ACHDCJ-01      \", \"x\": 2, \"xref\": \"x\", \"y\": 1, \"yref\": \"y\"}, {\"font\": {\"color\": \"#FFFFFF\"}, \"showarrow\": false, \"text\": \"BASEUS HOLDER RED-DOT MOBILE GAME SCORING TOOL BLACK                                                          \", \"x\": 3, \"xref\": \"x\", \"y\": 1, \"yref\": \"y\"}, {\"font\": {\"color\": \"#FFFFFF\"}, \"showarrow\": false, \"text\": \"BASEUS                        \", \"x\": 4, \"xref\": \"x\", \"y\": 1, \"yref\": \"y\"}, {\"font\": {\"color\": \"#000000\"}, \"showarrow\": false, \"text\": \"1\", \"x\": 5, \"xref\": \"x\", \"y\": 1, \"yref\": \"y\"}, {\"font\": {\"color\": \"#000000\"}, \"showarrow\": false, \"text\": \"24.5\", \"x\": 6, \"xref\": \"x\", \"y\": 1, \"yref\": \"y\"}, {\"font\": {\"color\": \"#000000\"}, \"showarrow\": false, \"text\": \"49\", \"x\": 7, \"xref\": \"x\", \"y\": 1, \"yref\": \"y\"}, {\"font\": {\"color\": \"#FFFFFF\"}, \"showarrow\": false, \"text\": \"734838\", \"x\": 0, \"xref\": \"x\", \"y\": 2, \"yref\": \"y\"}, {\"font\": {\"color\": \"#000000\"}, \"showarrow\": false, \"text\": \"6950000000000\", \"x\": 1, \"xref\": \"x\", \"y\": 2, \"yref\": \"y\"}, {\"font\": {\"color\": \"#000000\"}, \"showarrow\": false, \"text\": \"ACHDCJ-02      \", \"x\": 2, \"xref\": \"x\", \"y\": 2, \"yref\": \"y\"}, {\"font\": {\"color\": \"#000000\"}, \"showarrow\": false, \"text\": \"BASEUS HOLDER RED-DOT MOBILE GAME SCORING TOOL TRANSPARENT                                                    \", \"x\": 3, \"xref\": \"x\", \"y\": 2, \"yref\": \"y\"}, {\"font\": {\"color\": \"#FFFFFF\"}, \"showarrow\": false, \"text\": \"BASEUS                        \", \"x\": 4, \"xref\": \"x\", \"y\": 2, \"yref\": \"y\"}, {\"font\": {\"color\": \"#000000\"}, \"showarrow\": false, \"text\": \"1\", \"x\": 5, \"xref\": \"x\", \"y\": 2, \"yref\": \"y\"}, {\"font\": {\"color\": \"#000000\"}, \"showarrow\": false, \"text\": \"24.5\", \"x\": 6, \"xref\": \"x\", \"y\": 2, \"yref\": \"y\"}, {\"font\": {\"color\": \"#FFFFFF\"}, \"showarrow\": false, \"text\": \"49\", \"x\": 7, \"xref\": \"x\", \"y\": 2, \"yref\": \"y\"}, {\"font\": {\"color\": \"#000000\"}, \"showarrow\": false, \"text\": \"734881\", \"x\": 0, \"xref\": \"x\", \"y\": 3, \"yref\": \"y\"}, {\"font\": {\"color\": \"#FFFFFF\"}, \"showarrow\": false, \"text\": \"6950000000000\", \"x\": 1, \"xref\": \"x\", \"y\": 3, \"yref\": \"y\"}, {\"font\": {\"color\": \"#FFFFFF\"}, \"showarrow\": false, \"text\": \"WX2IN1-02      \", \"x\": 2, \"xref\": \"x\", \"y\": 3, \"yref\": \"y\"}, {\"font\": {\"color\": \"#FFFFFF\"}, \"showarrow\": false, \"text\": \"BASEUS SMART 2 IN 1 WIRELESS CHARGER WHITE                                                                    \", \"x\": 3, \"xref\": \"x\", \"y\": 3, \"yref\": \"y\"}, {\"font\": {\"color\": \"#000000\"}, \"showarrow\": false, \"text\": \"BASEUS                        \", \"x\": 4, \"xref\": \"x\", \"y\": 3, \"yref\": \"y\"}, {\"font\": {\"color\": \"#000000\"}, \"showarrow\": false, \"text\": \"1\", \"x\": 5, \"xref\": \"x\", \"y\": 3, \"yref\": \"y\"}, {\"font\": {\"color\": \"#000000\"}, \"showarrow\": false, \"text\": \"84.5\", \"x\": 6, \"xref\": \"x\", \"y\": 3, \"yref\": \"y\"}, {\"font\": {\"color\": \"#000000\"}, \"showarrow\": false, \"text\": \"179\", \"x\": 7, \"xref\": \"x\", \"y\": 3, \"yref\": \"y\"}, {\"font\": {\"color\": \"#000000\"}, \"showarrow\": false, \"text\": \"734882\", \"x\": 0, \"xref\": \"x\", \"y\": 4, \"yref\": \"y\"}, {\"font\": {\"color\": \"#FFFFFF\"}, \"showarrow\": false, \"text\": \"6950000000000\", \"x\": 1, \"xref\": \"x\", \"y\": 4, \"yref\": \"y\"}, {\"font\": {\"color\": \"#000000\"}, \"showarrow\": false, \"text\": \"PPALL-AKU01    \", \"x\": 2, \"xref\": \"x\", \"y\": 4, \"yref\": \"y\"}, {\"font\": {\"color\": \"#000000\"}, \"showarrow\": false, \"text\": \"BASEUS MINI CU DIGITAL DISPLAY POWER BANK 10000MAH BLACK                                                      \", \"x\": 3, \"xref\": \"x\", \"y\": 4, \"yref\": \"y\"}, {\"font\": {\"color\": \"#000000\"}, \"showarrow\": false, \"text\": \"BASEUS                        \", \"x\": 4, \"xref\": \"x\", \"y\": 4, \"yref\": \"y\"}, {\"font\": {\"color\": \"#FFFFFF\"}, \"showarrow\": false, \"text\": \"1\", \"x\": 5, \"xref\": \"x\", \"y\": 4, \"yref\": \"y\"}, {\"font\": {\"color\": \"#000000\"}, \"showarrow\": false, \"text\": \"64.5\", \"x\": 6, \"xref\": \"x\", \"y\": 4, \"yref\": \"y\"}, {\"font\": {\"color\": \"#000000\"}, \"showarrow\": false, \"text\": \"139\", \"x\": 7, \"xref\": \"x\", \"y\": 4, \"yref\": \"y\"}, {\"font\": {\"color\": \"#000000\"}, \"showarrow\": false, \"text\": \"734906\", \"x\": 0, \"xref\": \"x\", \"y\": 5, \"yref\": \"y\"}, {\"font\": {\"color\": \"#FFFFFF\"}, \"showarrow\": false, \"text\": \"6950000000000\", \"x\": 1, \"xref\": \"x\", \"y\": 5, \"yref\": \"y\"}, {\"font\": {\"color\": \"#000000\"}, \"showarrow\": false, \"text\": \"SGAPIPHX-TZ01  \", \"x\": 2, \"xref\": \"x\", \"y\": 5, \"yref\": \"y\"}, {\"font\": {\"color\": \"#000000\"}, \"showarrow\": false, \"text\": \"BASEUS GLASS FILM SET BLACK FOR IPHONE X                                                                      \", \"x\": 3, \"xref\": \"x\", \"y\": 5, \"yref\": \"y\"}, {\"font\": {\"color\": \"#FFFFFF\"}, \"showarrow\": false, \"text\": \"BASEUS                        \", \"x\": 4, \"xref\": \"x\", \"y\": 5, \"yref\": \"y\"}, {\"font\": {\"color\": \"#FFFFFF\"}, \"showarrow\": false, \"text\": \"1\", \"x\": 5, \"xref\": \"x\", \"y\": 5, \"yref\": \"y\"}, {\"font\": {\"color\": \"#FFFFFF\"}, \"showarrow\": false, \"text\": \"49.5\", \"x\": 6, \"xref\": \"x\", \"y\": 5, \"yref\": \"y\"}, {\"font\": {\"color\": \"#000000\"}, \"showarrow\": false, \"text\": \"109\", \"x\": 7, \"xref\": \"x\", \"y\": 5, \"yref\": \"y\"}, {\"font\": {\"color\": \"#FFFFFF\"}, \"showarrow\": false, \"text\": \"734909\", \"x\": 0, \"xref\": \"x\", \"y\": 6, \"yref\": \"y\"}, {\"font\": {\"color\": \"#FFFFFF\"}, \"showarrow\": false, \"text\": \"6950000000000\", \"x\": 1, \"xref\": \"x\", \"y\": 6, \"yref\": \"y\"}, {\"font\": {\"color\": \"#FFFFFF\"}, \"showarrow\": false, \"text\": \"SUER-A01       \", \"x\": 2, \"xref\": \"x\", \"y\": 6, \"yref\": \"y\"}, {\"font\": {\"color\": \"#000000\"}, \"showarrow\": false, \"text\": \"BASEUS SMALL EARS MAGNETIC CAR VENT SUCTION BRACKET BLACK                                                     \", \"x\": 3, \"xref\": \"x\", \"y\": 6, \"yref\": \"y\"}, {\"font\": {\"color\": \"#000000\"}, \"showarrow\": false, \"text\": \"BASEUS                        \", \"x\": 4, \"xref\": \"x\", \"y\": 6, \"yref\": \"y\"}, {\"font\": {\"color\": \"#FFFFFF\"}, \"showarrow\": false, \"text\": \"1\", \"x\": 5, \"xref\": \"x\", \"y\": 6, \"yref\": \"y\"}, {\"font\": {\"color\": \"#FFFFFF\"}, \"showarrow\": false, \"text\": \"24.5\", \"x\": 6, \"xref\": \"x\", \"y\": 6, \"yref\": \"y\"}, {\"font\": {\"color\": \"#FFFFFF\"}, \"showarrow\": false, \"text\": \"49\", \"x\": 7, \"xref\": \"x\", \"y\": 6, \"yref\": \"y\"}, {\"font\": {\"color\": \"#000000\"}, \"showarrow\": false, \"text\": \"734920\", \"x\": 0, \"xref\": \"x\", \"y\": 7, \"yref\": \"y\"}, {\"font\": {\"color\": \"#000000\"}, \"showarrow\": false, \"text\": \"6950000000000\", \"x\": 1, \"xref\": \"x\", \"y\": 7, \"yref\": \"y\"}, {\"font\": {\"color\": \"#FFFFFF\"}, \"showarrow\": false, \"text\": \"SUYZD-01       \", \"x\": 2, \"xref\": \"x\", \"y\": 7, \"yref\": \"y\"}, {\"font\": {\"color\": \"#FFFFFF\"}, \"showarrow\": false, \"text\": \"BASEUS BULLET ON-BOARD CAR MAGNETIC BRACKET BLACK                                                             \", \"x\": 3, \"xref\": \"x\", \"y\": 7, \"yref\": \"y\"}, {\"font\": {\"color\": \"#000000\"}, \"showarrow\": false, \"text\": \"BASEUS                        \", \"x\": 4, \"xref\": \"x\", \"y\": 7, \"yref\": \"y\"}, {\"font\": {\"color\": \"#000000\"}, \"showarrow\": false, \"text\": \"1\", \"x\": 5, \"xref\": \"x\", \"y\": 7, \"yref\": \"y\"}, {\"font\": {\"color\": \"#000000\"}, \"showarrow\": false, \"text\": \"34.5\", \"x\": 6, \"xref\": \"x\", \"y\": 7, \"yref\": \"y\"}, {\"font\": {\"color\": \"#000000\"}, \"showarrow\": false, \"text\": \"69\", \"x\": 7, \"xref\": \"x\", \"y\": 7, \"yref\": \"y\"}, {\"font\": {\"color\": \"#000000\"}, \"showarrow\": false, \"text\": \"734922\", \"x\": 0, \"xref\": \"x\", \"y\": 8, \"yref\": \"y\"}, {\"font\": {\"color\": \"#FFFFFF\"}, \"showarrow\": false, \"text\": \"6950000000000\", \"x\": 1, \"xref\": \"x\", \"y\": 8, \"yref\": \"y\"}, {\"font\": {\"color\": \"#FFFFFF\"}, \"showarrow\": false, \"text\": \"SUYZD-0S       \", \"x\": 2, \"xref\": \"x\", \"y\": 8, \"yref\": \"y\"}, {\"font\": {\"color\": \"#000000\"}, \"showarrow\": false, \"text\": \"BASEUS BULLET ON-BOARD CAR MAGNETIC BRACKET SILVER                                                            \", \"x\": 3, \"xref\": \"x\", \"y\": 8, \"yref\": \"y\"}, {\"font\": {\"color\": \"#FFFFFF\"}, \"showarrow\": false, \"text\": \"BASEUS                        \", \"x\": 4, \"xref\": \"x\", \"y\": 8, \"yref\": \"y\"}, {\"font\": {\"color\": \"#FFFFFF\"}, \"showarrow\": false, \"text\": \"1\", \"x\": 5, \"xref\": \"x\", \"y\": 8, \"yref\": \"y\"}, {\"font\": {\"color\": \"#FFFFFF\"}, \"showarrow\": false, \"text\": \"34.5\", \"x\": 6, \"xref\": \"x\", \"y\": 8, \"yref\": \"y\"}, {\"font\": {\"color\": \"#000000\"}, \"showarrow\": false, \"text\": \"69\", \"x\": 7, \"xref\": \"x\", \"y\": 8, \"yref\": \"y\"}, {\"font\": {\"color\": \"#FFFFFF\"}, \"showarrow\": false, \"text\": \"734927\", \"x\": 0, \"xref\": \"x\", \"y\": 9, \"yref\": \"y\"}, {\"font\": {\"color\": \"#000000\"}, \"showarrow\": false, \"text\": \"6950000000000\", \"x\": 1, \"xref\": \"x\", \"y\": 9, \"yref\": \"y\"}, {\"font\": {\"color\": \"#000000\"}, \"showarrow\": false, \"text\": \"SUER-B01       \", \"x\": 2, \"xref\": \"x\", \"y\": 9, \"yref\": \"y\"}, {\"font\": {\"color\": \"#FFFFFF\"}, \"showarrow\": false, \"text\": \"BASEUS SMALL EARS VERTICAL MAGNETIC BRACKET BLACK                                                             \", \"x\": 3, \"xref\": \"x\", \"y\": 9, \"yref\": \"y\"}, {\"font\": {\"color\": \"#FFFFFF\"}, \"showarrow\": false, \"text\": \"BASEUS                        \", \"x\": 4, \"xref\": \"x\", \"y\": 9, \"yref\": \"y\"}, {\"font\": {\"color\": \"#000000\"}, \"showarrow\": false, \"text\": \"1\", \"x\": 5, \"xref\": \"x\", \"y\": 9, \"yref\": \"y\"}, {\"font\": {\"color\": \"#000000\"}, \"showarrow\": false, \"text\": \"24.5\", \"x\": 6, \"xref\": \"x\", \"y\": 9, \"yref\": \"y\"}, {\"font\": {\"color\": \"#000000\"}, \"showarrow\": false, \"text\": \"49\", \"x\": 7, \"xref\": \"x\", \"y\": 9, \"yref\": \"y\"}, {\"font\": {\"color\": \"#000000\"}, \"showarrow\": false, \"text\": \"734943\", \"x\": 0, \"xref\": \"x\", \"y\": 10, \"yref\": \"y\"}, {\"font\": {\"color\": \"#000000\"}, \"showarrow\": false, \"text\": \"6950000000000\", \"x\": 1, \"xref\": \"x\", \"y\": 10, \"yref\": \"y\"}, {\"font\": {\"color\": \"#FFFFFF\"}, \"showarrow\": false, \"text\": \"TZARGS-01      \", \"x\": 2, \"xref\": \"x\", \"y\": 10, \"yref\": \"y\"}, {\"font\": {\"color\": \"#FFFFFF\"}, \"showarrow\": false, \"text\": \"BASEUS CASE FOR AIRPODS BLACK                                                                                 \", \"x\": 3, \"xref\": \"x\", \"y\": 10, \"yref\": \"y\"}, {\"font\": {\"color\": \"#FFFFFF\"}, \"showarrow\": false, \"text\": \"BASEUS                        \", \"x\": 4, \"xref\": \"x\", \"y\": 10, \"yref\": \"y\"}, {\"font\": {\"color\": \"#000000\"}, \"showarrow\": false, \"text\": \"1\", \"x\": 5, \"xref\": \"x\", \"y\": 10, \"yref\": \"y\"}, {\"font\": {\"color\": \"#000000\"}, \"showarrow\": false, \"text\": \"24.5\", \"x\": 6, \"xref\": \"x\", \"y\": 10, \"yref\": \"y\"}, {\"font\": {\"color\": \"#FFFFFF\"}, \"showarrow\": false, \"text\": \"49\", \"x\": 7, \"xref\": \"x\", \"y\": 10, \"yref\": \"y\"}, {\"font\": {\"color\": \"#000000\"}, \"showarrow\": false, \"text\": \"735670\", \"x\": 0, \"xref\": \"x\", \"y\": 11, \"yref\": \"y\"}, {\"font\": {\"color\": \"#000000\"}, \"showarrow\": false, \"text\": \"6950000000000\", \"x\": 1, \"xref\": \"x\", \"y\": 11, \"yref\": \"y\"}, {\"font\": {\"color\": \"#000000\"}, \"showarrow\": false, \"text\": \"SGAPIPHX-RA01  \", \"x\": 2, \"xref\": \"x\", \"y\": 11, \"yref\": \"y\"}, {\"font\": {\"color\": \"#000000\"}, \"showarrow\": false, \"text\": \"BASEUS DROP-PROOF CURVED FULL SCREEN TEMPERED GLASS BLACK FOR IPHONE X                                        \", \"x\": 3, \"xref\": \"x\", \"y\": 11, \"yref\": \"y\"}, {\"font\": {\"color\": \"#000000\"}, \"showarrow\": false, \"text\": \"BASEUS                        \", \"x\": 4, \"xref\": \"x\", \"y\": 11, \"yref\": \"y\"}, {\"font\": {\"color\": \"#000000\"}, \"showarrow\": false, \"text\": \"1\", \"x\": 5, \"xref\": \"x\", \"y\": 11, \"yref\": \"y\"}, {\"font\": {\"color\": \"#000000\"}, \"showarrow\": false, \"text\": \"19.5\", \"x\": 6, \"xref\": \"x\", \"y\": 11, \"yref\": \"y\"}, {\"font\": {\"color\": \"#FFFFFF\"}, \"showarrow\": false, \"text\": \"39\", \"x\": 7, \"xref\": \"x\", \"y\": 11, \"yref\": \"y\"}, {\"font\": {\"color\": \"#000000\"}, \"showarrow\": false, \"text\": \"738078\", \"x\": 0, \"xref\": \"x\", \"y\": 12, \"yref\": \"y\"}, {\"font\": {\"color\": \"#000000\"}, \"showarrow\": false, \"text\": \"6950000000000\", \"x\": 1, \"xref\": \"x\", \"y\": 12, \"yref\": \"y\"}, {\"font\": {\"color\": \"#FFFFFF\"}, \"showarrow\": false, \"text\": \"ACSLCJ-06      \", \"x\": 2, \"xref\": \"x\", \"y\": 12, \"yref\": \"y\"}, {\"font\": {\"color\": \"#FFFFFF\"}, \"showarrow\": false, \"text\": \"BASEUS GRENADE BLACK/ARMY GREEN GRIP FOR SMARTPHONES                                                          \", \"x\": 3, \"xref\": \"x\", \"y\": 12, \"yref\": \"y\"}, {\"font\": {\"color\": \"#000000\"}, \"showarrow\": false, \"text\": \"BASEUS                        \", \"x\": 4, \"xref\": \"x\", \"y\": 12, \"yref\": \"y\"}, {\"font\": {\"color\": \"#FFFFFF\"}, \"showarrow\": false, \"text\": \"1\", \"x\": 5, \"xref\": \"x\", \"y\": 12, \"yref\": \"y\"}, {\"font\": {\"color\": \"#000000\"}, \"showarrow\": false, \"text\": \"24.5\", \"x\": 6, \"xref\": \"x\", \"y\": 12, \"yref\": \"y\"}, {\"font\": {\"color\": \"#FFFFFF\"}, \"showarrow\": false, \"text\": \"49\", \"x\": 7, \"xref\": \"x\", \"y\": 12, \"yref\": \"y\"}, {\"font\": {\"color\": \"#000000\"}, \"showarrow\": false, \"text\": \"739727\", \"x\": 0, \"xref\": \"x\", \"y\": 13, \"yref\": \"y\"}, {\"font\": {\"color\": \"#FFFFFF\"}, \"showarrow\": false, \"text\": \"6950000000000\", \"x\": 1, \"xref\": \"x\", \"y\": 13, \"yref\": \"y\"}, {\"font\": {\"color\": \"#000000\"}, \"showarrow\": false, \"text\": \"WIAPPOD-01     \", \"x\": 2, \"xref\": \"x\", \"y\": 13, \"yref\": \"y\"}, {\"font\": {\"color\": \"#000000\"}, \"showarrow\": false, \"text\": \"BASEUS PROTECTIVE CASE/WIRELESS CHARGER BLACK FOR AIRPODS                                                     \", \"x\": 3, \"xref\": \"x\", \"y\": 13, \"yref\": \"y\"}, {\"font\": {\"color\": \"#000000\"}, \"showarrow\": false, \"text\": \"BASEUS                        \", \"x\": 4, \"xref\": \"x\", \"y\": 13, \"yref\": \"y\"}, {\"font\": {\"color\": \"#FFFFFF\"}, \"showarrow\": false, \"text\": \"1\", \"x\": 5, \"xref\": \"x\", \"y\": 13, \"yref\": \"y\"}, {\"font\": {\"color\": \"#FFFFFF\"}, \"showarrow\": false, \"text\": \"44.5\", \"x\": 6, \"xref\": \"x\", \"y\": 13, \"yref\": \"y\"}, {\"font\": {\"color\": \"#FFFFFF\"}, \"showarrow\": false, \"text\": \"99\", \"x\": 7, \"xref\": \"x\", \"y\": 13, \"yref\": \"y\"}, {\"font\": {\"color\": \"#000000\"}, \"showarrow\": false, \"text\": \"739728\", \"x\": 0, \"xref\": \"x\", \"y\": 14, \"yref\": \"y\"}, {\"font\": {\"color\": \"#000000\"}, \"showarrow\": false, \"text\": \"6950000000000\", \"x\": 1, \"xref\": \"x\", \"y\": 14, \"yref\": \"y\"}, {\"font\": {\"color\": \"#000000\"}, \"showarrow\": false, \"text\": \"WIAPPOD-09     \", \"x\": 2, \"xref\": \"x\", \"y\": 14, \"yref\": \"y\"}, {\"font\": {\"color\": \"#FFFFFF\"}, \"showarrow\": false, \"text\": \"BASEUS PROTECTIVE CASE/WIRELESS CHARGER RED FOR AIRPODS                                                       \", \"x\": 3, \"xref\": \"x\", \"y\": 14, \"yref\": \"y\"}, {\"font\": {\"color\": \"#FFFFFF\"}, \"showarrow\": false, \"text\": \"BASEUS                        \", \"x\": 4, \"xref\": \"x\", \"y\": 14, \"yref\": \"y\"}, {\"font\": {\"color\": \"#FFFFFF\"}, \"showarrow\": false, \"text\": \"1\", \"x\": 5, \"xref\": \"x\", \"y\": 14, \"yref\": \"y\"}, {\"font\": {\"color\": \"#FFFFFF\"}, \"showarrow\": false, \"text\": \"44.5\", \"x\": 6, \"xref\": \"x\", \"y\": 14, \"yref\": \"y\"}, {\"font\": {\"color\": \"#000000\"}, \"showarrow\": false, \"text\": \"99\", \"x\": 7, \"xref\": \"x\", \"y\": 14, \"yref\": \"y\"}, {\"font\": {\"color\": \"#000000\"}, \"showarrow\": false, \"text\": \"742248\", \"x\": 0, \"xref\": \"x\", \"y\": 15, \"yref\": \"y\"}, {\"font\": {\"color\": \"#FFFFFF\"}, \"showarrow\": false, \"text\": \"6950000000000\", \"x\": 1, \"xref\": \"x\", \"y\": 15, \"yref\": \"y\"}, {\"font\": {\"color\": \"#FFFFFF\"}, \"showarrow\": false, \"text\": \"ACSLCJ-01      \", \"x\": 2, \"xref\": \"x\", \"y\": 15, \"yref\": \"y\"}, {\"font\": {\"color\": \"#000000\"}, \"showarrow\": false, \"text\": \"BASEUS GRENADE BLACK GRIP FOR SMARTPHONES                                                                     \", \"x\": 3, \"xref\": \"x\", \"y\": 15, \"yref\": \"y\"}, {\"font\": {\"color\": \"#000000\"}, \"showarrow\": false, \"text\": \"BASEUS                        \", \"x\": 4, \"xref\": \"x\", \"y\": 15, \"yref\": \"y\"}, {\"font\": {\"color\": \"#FFFFFF\"}, \"showarrow\": false, \"text\": \"1\", \"x\": 5, \"xref\": \"x\", \"y\": 15, \"yref\": \"y\"}, {\"font\": {\"color\": \"#000000\"}, \"showarrow\": false, \"text\": \"24.5\", \"x\": 6, \"xref\": \"x\", \"y\": 15, \"yref\": \"y\"}, {\"font\": {\"color\": \"#000000\"}, \"showarrow\": false, \"text\": \"49\", \"x\": 7, \"xref\": \"x\", \"y\": 15, \"yref\": \"y\"}, {\"font\": {\"color\": \"#000000\"}, \"showarrow\": false, \"text\": \"742249\", \"x\": 0, \"xref\": \"x\", \"y\": 16, \"yref\": \"y\"}, {\"font\": {\"color\": \"#FFFFFF\"}, \"showarrow\": false, \"text\": \"6950000000000\", \"x\": 1, \"xref\": \"x\", \"y\": 16, \"yref\": \"y\"}, {\"font\": {\"color\": \"#FFFFFF\"}, \"showarrow\": false, \"text\": \"SUCJLF-01      \", \"x\": 2, \"xref\": \"x\", \"y\": 16, \"yref\": \"y\"}, {\"font\": {\"color\": \"#000000\"}, \"showarrow\": false, \"text\": \"BASEUS WINNER COOLING HEAT SINK BLACK FOR SMARTPHONES                                                         \", \"x\": 3, \"xref\": \"x\", \"y\": 16, \"yref\": \"y\"}, {\"font\": {\"color\": \"#FFFFFF\"}, \"showarrow\": false, \"text\": \"BASEUS                        \", \"x\": 4, \"xref\": \"x\", \"y\": 16, \"yref\": \"y\"}, {\"font\": {\"color\": \"#000000\"}, \"showarrow\": false, \"text\": \"1\", \"x\": 5, \"xref\": \"x\", \"y\": 16, \"yref\": \"y\"}, {\"font\": {\"color\": \"#000000\"}, \"showarrow\": false, \"text\": \"44.5\", \"x\": 6, \"xref\": \"x\", \"y\": 16, \"yref\": \"y\"}, {\"font\": {\"color\": \"#000000\"}, \"showarrow\": false, \"text\": \"99\", \"x\": 7, \"xref\": \"x\", \"y\": 16, \"yref\": \"y\"}, {\"font\": {\"color\": \"#000000\"}, \"showarrow\": false, \"text\": \"742295\", \"x\": 0, \"xref\": \"x\", \"y\": 17, \"yref\": \"y\"}, {\"font\": {\"color\": \"#FFFFFF\"}, \"showarrow\": false, \"text\": \"6950000000000\", \"x\": 1, \"xref\": \"x\", \"y\": 17, \"yref\": \"y\"}, {\"font\": {\"color\": \"#000000\"}, \"showarrow\": false, \"text\": \"SUGENT-XF0S    \", \"x\": 2, \"xref\": \"x\", \"y\": 17, \"yref\": \"y\"}, {\"font\": {\"color\": \"#000000\"}, \"showarrow\": false, \"text\": \"BASEUS SUSPENSION GLASS DESKTOP BRACKET SILVER FOR SMARTPHONES                                                \", \"x\": 3, \"xref\": \"x\", \"y\": 17, \"yref\": \"y\"}, {\"font\": {\"color\": \"#FFFFFF\"}, \"showarrow\": false, \"text\": \"BASEUS                        \", \"x\": 4, \"xref\": \"x\", \"y\": 17, \"yref\": \"y\"}, {\"font\": {\"color\": \"#000000\"}, \"showarrow\": false, \"text\": \"1\", \"x\": 5, \"xref\": \"x\", \"y\": 17, \"yref\": \"y\"}, {\"font\": {\"color\": \"#FFFFFF\"}, \"showarrow\": false, \"text\": \"39.5\", \"x\": 6, \"xref\": \"x\", \"y\": 17, \"yref\": \"y\"}, {\"font\": {\"color\": \"#000000\"}, \"showarrow\": false, \"text\": \"79\", \"x\": 7, \"xref\": \"x\", \"y\": 17, \"yref\": \"y\"}, {\"font\": {\"color\": \"#FFFFFF\"}, \"showarrow\": false, \"text\": \"742296\", \"x\": 0, \"xref\": \"x\", \"y\": 18, \"yref\": \"y\"}, {\"font\": {\"color\": \"#FFFFFF\"}, \"showarrow\": false, \"text\": \"6950000000000\", \"x\": 1, \"xref\": \"x\", \"y\": 18, \"yref\": \"y\"}, {\"font\": {\"color\": \"#000000\"}, \"showarrow\": false, \"text\": \"SUGENT-XF01    \", \"x\": 2, \"xref\": \"x\", \"y\": 18, \"yref\": \"y\"}, {\"font\": {\"color\": \"#FFFFFF\"}, \"showarrow\": false, \"text\": \"BASEUS SUSPENSION GLASS DESKTOP BRACKET BLACK FOR SMARTPHONES                                                 \", \"x\": 3, \"xref\": \"x\", \"y\": 18, \"yref\": \"y\"}, {\"font\": {\"color\": \"#000000\"}, \"showarrow\": false, \"text\": \"BASEUS                        \", \"x\": 4, \"xref\": \"x\", \"y\": 18, \"yref\": \"y\"}, {\"font\": {\"color\": \"#000000\"}, \"showarrow\": false, \"text\": \"1\", \"x\": 5, \"xref\": \"x\", \"y\": 18, \"yref\": \"y\"}, {\"font\": {\"color\": \"#000000\"}, \"showarrow\": false, \"text\": \"39.5\", \"x\": 6, \"xref\": \"x\", \"y\": 18, \"yref\": \"y\"}, {\"font\": {\"color\": \"#000000\"}, \"showarrow\": false, \"text\": \"79\", \"x\": 7, \"xref\": \"x\", \"y\": 18, \"yref\": \"y\"}, {\"font\": {\"color\": \"#FFFFFF\"}, \"showarrow\": false, \"text\": \"742300\", \"x\": 0, \"xref\": \"x\", \"y\": 19, \"yref\": \"y\"}, {\"font\": {\"color\": \"#FFFFFF\"}, \"showarrow\": false, \"text\": \"6950000000000\", \"x\": 1, \"xref\": \"x\", \"y\": 19, \"yref\": \"y\"}, {\"font\": {\"color\": \"#000000\"}, \"showarrow\": false, \"text\": \"ACPCL-01       \", \"x\": 2, \"xref\": \"x\", \"y\": 19, \"yref\": \"y\"}, {\"font\": {\"color\": \"#FFFFFF\"}, \"showarrow\": false, \"text\": \"BASEUS GOLDEN CUDGEL CAPACITIVE STYLUS BLACK                                                                  \", \"x\": 3, \"xref\": \"x\", \"y\": 19, \"yref\": \"y\"}, {\"font\": {\"color\": \"#000000\"}, \"showarrow\": false, \"text\": \"BASEUS                        \", \"x\": 4, \"xref\": \"x\", \"y\": 19, \"yref\": \"y\"}, {\"font\": {\"color\": \"#FFFFFF\"}, \"showarrow\": false, \"text\": \"1\", \"x\": 5, \"xref\": \"x\", \"y\": 19, \"yref\": \"y\"}, {\"font\": {\"color\": \"#FFFFFF\"}, \"showarrow\": false, \"text\": \"29.5\", \"x\": 6, \"xref\": \"x\", \"y\": 19, \"yref\": \"y\"}, {\"font\": {\"color\": \"#FFFFFF\"}, \"showarrow\": false, \"text\": \"59\", \"x\": 7, \"xref\": \"x\", \"y\": 19, \"yref\": \"y\"}, {\"font\": {\"color\": \"#000000\"}, \"showarrow\": false, \"text\": \"743939\", \"x\": 0, \"xref\": \"x\", \"y\": 20, \"yref\": \"y\"}, {\"font\": {\"color\": \"#FFFFFF\"}, \"showarrow\": false, \"text\": \"6950000000000\", \"x\": 1, \"xref\": \"x\", \"y\": 20, \"yref\": \"y\"}, {\"font\": {\"color\": \"#000000\"}, \"showarrow\": false, \"text\": \"NGH08-01       \", \"x\": 2, \"xref\": \"x\", \"y\": 20, \"yref\": \"y\"}, {\"font\": {\"color\": \"#FFFFFF\"}, \"showarrow\": false, \"text\": \"BASEUS H08 BLACK IMMERSIVE VIRTUAL 3D GAMING IN-EAR EARPHONES                                                 \", \"x\": 3, \"xref\": \"x\", \"y\": 20, \"yref\": \"y\"}, {\"font\": {\"color\": \"#FFFFFF\"}, \"showarrow\": false, \"text\": \"BASEUS                        \", \"x\": 4, \"xref\": \"x\", \"y\": 20, \"yref\": \"y\"}, {\"font\": {\"color\": \"#000000\"}, \"showarrow\": false, \"text\": \"1\", \"x\": 5, \"xref\": \"x\", \"y\": 20, \"yref\": \"y\"}, {\"font\": {\"color\": \"#000000\"}, \"showarrow\": false, \"text\": \"140.0\", \"x\": 6, \"xref\": \"x\", \"y\": 20, \"yref\": \"y\"}, {\"font\": {\"color\": \"#000000\"}, \"showarrow\": false, \"text\": \"289\", \"x\": 7, \"xref\": \"x\", \"y\": 20, \"yref\": \"y\"}, {\"font\": {\"color\": \"#FFFFFF\"}, \"showarrow\": false, \"text\": \"743953\", \"x\": 0, \"xref\": \"x\", \"y\": 21, \"yref\": \"y\"}, {\"font\": {\"color\": \"#000000\"}, \"showarrow\": false, \"text\": \"6950000000000\", \"x\": 1, \"xref\": \"x\", \"y\": 21, \"yref\": \"y\"}, {\"font\": {\"color\": \"#FFFFFF\"}, \"showarrow\": false, \"text\": \"WIAPIPH58-ASL01\", \"x\": 2, \"xref\": \"x\", \"y\": 21, \"yref\": \"y\"}, {\"font\": {\"color\": \"#000000\"}, \"showarrow\": false, \"text\": \"BASEUS ORIGINAL LSR CASE BLACK FOR IPHONE XS                                                                  \", \"x\": 3, \"xref\": \"x\", \"y\": 21, \"yref\": \"y\"}, {\"font\": {\"color\": \"#FFFFFF\"}, \"showarrow\": false, \"text\": \"BASEUS                        \", \"x\": 4, \"xref\": \"x\", \"y\": 21, \"yref\": \"y\"}, {\"font\": {\"color\": \"#FFFFFF\"}, \"showarrow\": false, \"text\": \"1\", \"x\": 5, \"xref\": \"x\", \"y\": 21, \"yref\": \"y\"}, {\"font\": {\"color\": \"#000000\"}, \"showarrow\": false, \"text\": \"34.5\", \"x\": 6, \"xref\": \"x\", \"y\": 21, \"yref\": \"y\"}, {\"font\": {\"color\": \"#000000\"}, \"showarrow\": false, \"text\": \"69\", \"x\": 7, \"xref\": \"x\", \"y\": 21, \"yref\": \"y\"}, {\"font\": {\"color\": \"#FFFFFF\"}, \"showarrow\": false, \"text\": \"743955\", \"x\": 0, \"xref\": \"x\", \"y\": 22, \"yref\": \"y\"}, {\"font\": {\"color\": \"#000000\"}, \"showarrow\": false, \"text\": \"6950000000000\", \"x\": 1, \"xref\": \"x\", \"y\": 22, \"yref\": \"y\"}, {\"font\": {\"color\": \"#000000\"}, \"showarrow\": false, \"text\": \"WIAPIPH58-ASL03\", \"x\": 2, \"xref\": \"x\", \"y\": 22, \"yref\": \"y\"}, {\"font\": {\"color\": \"#000000\"}, \"showarrow\": false, \"text\": \"BASEUS ORIGINAL LSR CASE LIGHT AQUA MARINE FOR IPHONE XS                                                      \", \"x\": 3, \"xref\": \"x\", \"y\": 22, \"yref\": \"y\"}, {\"font\": {\"color\": \"#FFFFFF\"}, \"showarrow\": false, \"text\": \"BASEUS                        \", \"x\": 4, \"xref\": \"x\", \"y\": 22, \"yref\": \"y\"}, {\"font\": {\"color\": \"#FFFFFF\"}, \"showarrow\": false, \"text\": \"1\", \"x\": 5, \"xref\": \"x\", \"y\": 22, \"yref\": \"y\"}, {\"font\": {\"color\": \"#FFFFFF\"}, \"showarrow\": false, \"text\": \"34.5\", \"x\": 6, \"xref\": \"x\", \"y\": 22, \"yref\": \"y\"}, {\"font\": {\"color\": \"#FFFFFF\"}, \"showarrow\": false, \"text\": \"69\", \"x\": 7, \"xref\": \"x\", \"y\": 22, \"yref\": \"y\"}, {\"font\": {\"color\": \"#000000\"}, \"showarrow\": false, \"text\": \"743956\", \"x\": 0, \"xref\": \"x\", \"y\": 23, \"yref\": \"y\"}, {\"font\": {\"color\": \"#FFFFFF\"}, \"showarrow\": false, \"text\": \"6950000000000\", \"x\": 1, \"xref\": \"x\", \"y\": 23, \"yref\": \"y\"}, {\"font\": {\"color\": \"#FFFFFF\"}, \"showarrow\": false, \"text\": \"WIAPIPH58-ASL04\", \"x\": 2, \"xref\": \"x\", \"y\": 23, \"yref\": \"y\"}, {\"font\": {\"color\": \"#000000\"}, \"showarrow\": false, \"text\": \"BASEUS ORIGINAL LSR CASE PINK FOR IPHONE XS                                                                   \", \"x\": 3, \"xref\": \"x\", \"y\": 23, \"yref\": \"y\"}, {\"font\": {\"color\": \"#000000\"}, \"showarrow\": false, \"text\": \"BASEUS                        \", \"x\": 4, \"xref\": \"x\", \"y\": 23, \"yref\": \"y\"}, {\"font\": {\"color\": \"#FFFFFF\"}, \"showarrow\": false, \"text\": \"1\", \"x\": 5, \"xref\": \"x\", \"y\": 23, \"yref\": \"y\"}, {\"font\": {\"color\": \"#FFFFFF\"}, \"showarrow\": false, \"text\": \"34.5\", \"x\": 6, \"xref\": \"x\", \"y\": 23, \"yref\": \"y\"}, {\"font\": {\"color\": \"#000000\"}, \"showarrow\": false, \"text\": \"69\", \"x\": 7, \"xref\": \"x\", \"y\": 23, \"yref\": \"y\"}, {\"font\": {\"color\": \"#FFFFFF\"}, \"showarrow\": false, \"text\": \"743960\", \"x\": 0, \"xref\": \"x\", \"y\": 24, \"yref\": \"y\"}, {\"font\": {\"color\": \"#FFFFFF\"}, \"showarrow\": false, \"text\": \"6950000000000\", \"x\": 1, \"xref\": \"x\", \"y\": 24, \"yref\": \"y\"}, {\"font\": {\"color\": \"#000000\"}, \"showarrow\": false, \"text\": \"WIAPIPH65-ASL01\", \"x\": 2, \"xref\": \"x\", \"y\": 24, \"yref\": \"y\"}, {\"font\": {\"color\": \"#000000\"}, \"showarrow\": false, \"text\": \"BASEUS ORIGINAL LSR CASE BLACK FOR IPHONE XS MAX                                                              \", \"x\": 3, \"xref\": \"x\", \"y\": 24, \"yref\": \"y\"}, {\"font\": {\"color\": \"#000000\"}, \"showarrow\": false, \"text\": \"BASEUS                        \", \"x\": 4, \"xref\": \"x\", \"y\": 24, \"yref\": \"y\"}, {\"font\": {\"color\": \"#000000\"}, \"showarrow\": false, \"text\": \"1\", \"x\": 5, \"xref\": \"x\", \"y\": 24, \"yref\": \"y\"}, {\"font\": {\"color\": \"#000000\"}, \"showarrow\": false, \"text\": \"34.5\", \"x\": 6, \"xref\": \"x\", \"y\": 24, \"yref\": \"y\"}, {\"font\": {\"color\": \"#000000\"}, \"showarrow\": false, \"text\": \"69\", \"x\": 7, \"xref\": \"x\", \"y\": 24, \"yref\": \"y\"}, {\"font\": {\"color\": \"#000000\"}, \"showarrow\": false, \"text\": \"743966\", \"x\": 0, \"xref\": \"x\", \"y\": 25, \"yref\": \"y\"}, {\"font\": {\"color\": \"#000000\"}, \"showarrow\": false, \"text\": \"6950000000000\", \"x\": 1, \"xref\": \"x\", \"y\": 25, \"yref\": \"y\"}, {\"font\": {\"color\": \"#000000\"}, \"showarrow\": false, \"text\": \"CATKC-A01      \", \"x\": 2, \"xref\": \"x\", \"y\": 25, \"yref\": \"y\"}, {\"font\": {\"color\": \"#000000\"}, \"showarrow\": false, \"text\": \"BASEUS DOUBLE FAST CHARGING TYPE-C CABLE 1M BLACK                                                             \", \"x\": 3, \"xref\": \"x\", \"y\": 25, \"yref\": \"y\"}, {\"font\": {\"color\": \"#000000\"}, \"showarrow\": false, \"text\": \"BASEUS                        \", \"x\": 4, \"xref\": \"x\", \"y\": 25, \"yref\": \"y\"}, {\"font\": {\"color\": \"#FFFFFF\"}, \"showarrow\": false, \"text\": \"1\", \"x\": 5, \"xref\": \"x\", \"y\": 25, \"yref\": \"y\"}, {\"font\": {\"color\": \"#000000\"}, \"showarrow\": false, \"text\": \"29.5\", \"x\": 6, \"xref\": \"x\", \"y\": 25, \"yref\": \"y\"}, {\"font\": {\"color\": \"#000000\"}, \"showarrow\": false, \"text\": \"59\", \"x\": 7, \"xref\": \"x\", \"y\": 25, \"yref\": \"y\"}, {\"font\": {\"color\": \"#FFFFFF\"}, \"showarrow\": false, \"text\": \"743968\", \"x\": 0, \"xref\": \"x\", \"y\": 26, \"yref\": \"y\"}, {\"font\": {\"color\": \"#000000\"}, \"showarrow\": false, \"text\": \"6950000000000\", \"x\": 1, \"xref\": \"x\", \"y\": 26, \"yref\": \"y\"}, {\"font\": {\"color\": \"#000000\"}, \"showarrow\": false, \"text\": \"SUCJG9-02      \", \"x\": 2, \"xref\": \"x\", \"y\": 26, \"yref\": \"y\"}, {\"font\": {\"color\": \"#FFFFFF\"}, \"showarrow\": false, \"text\": \"BASEUS G9 MOBILE GAME SCORING TOOL WHITE FOR SMARTPHONES/TABLET                                               \", \"x\": 3, \"xref\": \"x\", \"y\": 26, \"yref\": \"y\"}, {\"font\": {\"color\": \"#FFFFFF\"}, \"showarrow\": false, \"text\": \"BASEUS                        \", \"x\": 4, \"xref\": \"x\", \"y\": 26, \"yref\": \"y\"}, {\"font\": {\"color\": \"#000000\"}, \"showarrow\": false, \"text\": \"1\", \"x\": 5, \"xref\": \"x\", \"y\": 26, \"yref\": \"y\"}, {\"font\": {\"color\": \"#000000\"}, \"showarrow\": false, \"text\": \"24.5\", \"x\": 6, \"xref\": \"x\", \"y\": 26, \"yref\": \"y\"}, {\"font\": {\"color\": \"#000000\"}, \"showarrow\": false, \"text\": \"49\", \"x\": 7, \"xref\": \"x\", \"y\": 26, \"yref\": \"y\"}, {\"font\": {\"color\": \"#FFFFFF\"}, \"showarrow\": false, \"text\": \"743975\", \"x\": 0, \"xref\": \"x\", \"y\": 27, \"yref\": \"y\"}, {\"font\": {\"color\": \"#FFFFFF\"}, \"showarrow\": false, \"text\": \"6950000000000\", \"x\": 1, \"xref\": \"x\", \"y\": 27, \"yref\": \"y\"}, {\"font\": {\"color\": \"#000000\"}, \"showarrow\": false, \"text\": \"SUCJG9-01      \", \"x\": 2, \"xref\": \"x\", \"y\": 27, \"yref\": \"y\"}, {\"font\": {\"color\": \"#000000\"}, \"showarrow\": false, \"text\": \"BASEUS G9 MOBILE GAME SCORING TOOL BLACK FOR SMARTPHONES/TABLET                                               \", \"x\": 3, \"xref\": \"x\", \"y\": 27, \"yref\": \"y\"}, {\"font\": {\"color\": \"#000000\"}, \"showarrow\": false, \"text\": \"BASEUS                        \", \"x\": 4, \"xref\": \"x\", \"y\": 27, \"yref\": \"y\"}, {\"font\": {\"color\": \"#FFFFFF\"}, \"showarrow\": false, \"text\": \"1\", \"x\": 5, \"xref\": \"x\", \"y\": 27, \"yref\": \"y\"}, {\"font\": {\"color\": \"#FFFFFF\"}, \"showarrow\": false, \"text\": \"24.5\", \"x\": 6, \"xref\": \"x\", \"y\": 27, \"yref\": \"y\"}, {\"font\": {\"color\": \"#FFFFFF\"}, \"showarrow\": false, \"text\": \"49\", \"x\": 7, \"xref\": \"x\", \"y\": 27, \"yref\": \"y\"}, {\"font\": {\"color\": \"#000000\"}, \"showarrow\": false, \"text\": \"746699\", \"x\": 0, \"xref\": \"x\", \"y\": 28, \"yref\": \"y\"}, {\"font\": {\"color\": \"#FFFFFF\"}, \"showarrow\": false, \"text\": \"745000000000\", \"x\": 1, \"xref\": \"x\", \"y\": 28, \"yref\": \"y\"}, {\"font\": {\"color\": \"#000000\"}, \"showarrow\": false, \"text\": \"BHL-712        \", \"x\": 2, \"xref\": \"x\", \"y\": 28, \"yref\": \"y\"}, {\"font\": {\"color\": \"#000000\"}, \"showarrow\": false, \"text\": \"BRAVE LOTTO SERIES MAGNETIC CAR MOUNTS                                                                        \", \"x\": 3, \"xref\": \"x\", \"y\": 28, \"yref\": \"y\"}, {\"font\": {\"color\": \"#000000\"}, \"showarrow\": false, \"text\": \"BRAVE                         \", \"x\": 4, \"xref\": \"x\", \"y\": 28, \"yref\": \"y\"}, {\"font\": {\"color\": \"#FFFFFF\"}, \"showarrow\": false, \"text\": \"1\", \"x\": 5, \"xref\": \"x\", \"y\": 28, \"yref\": \"y\"}, {\"font\": {\"color\": \"#FFFFFF\"}, \"showarrow\": false, \"text\": \"34.5\", \"x\": 6, \"xref\": \"x\", \"y\": 28, \"yref\": \"y\"}, {\"font\": {\"color\": \"#FFFFFF\"}, \"showarrow\": false, \"text\": \"69\", \"x\": 7, \"xref\": \"x\", \"y\": 28, \"yref\": \"y\"}, {\"font\": {\"color\": \"#FFFFFF\"}, \"showarrow\": false, \"text\": \"746700\", \"x\": 0, \"xref\": \"x\", \"y\": 29, \"yref\": \"y\"}, {\"font\": {\"color\": \"#FFFFFF\"}, \"showarrow\": false, \"text\": \"745000000000\", \"x\": 1, \"xref\": \"x\", \"y\": 29, \"yref\": \"y\"}, {\"font\": {\"color\": \"#FFFFFF\"}, \"showarrow\": false, \"text\": \"BHL-713        \", \"x\": 2, \"xref\": \"x\", \"y\": 29, \"yref\": \"y\"}, {\"font\": {\"color\": \"#FFFFFF\"}, \"showarrow\": false, \"text\": \"BRAVE 2-IN-1 UNIVERSAL MAGNETIC HOLDER                                                                        \", \"x\": 3, \"xref\": \"x\", \"y\": 29, \"yref\": \"y\"}, {\"font\": {\"color\": \"#FFFFFF\"}, \"showarrow\": false, \"text\": \"BRAVE                         \", \"x\": 4, \"xref\": \"x\", \"y\": 29, \"yref\": \"y\"}, {\"font\": {\"color\": \"#000000\"}, \"showarrow\": false, \"text\": \"1\", \"x\": 5, \"xref\": \"x\", \"y\": 29, \"yref\": \"y\"}, {\"font\": {\"color\": \"#FFFFFF\"}, \"showarrow\": false, \"text\": \"29.5\", \"x\": 6, \"xref\": \"x\", \"y\": 29, \"yref\": \"y\"}, {\"font\": {\"color\": \"#FFFFFF\"}, \"showarrow\": false, \"text\": \"59\", \"x\": 7, \"xref\": \"x\", \"y\": 29, \"yref\": \"y\"}, {\"font\": {\"color\": \"#FFFFFF\"}, \"showarrow\": false, \"text\": \"751056\", \"x\": 0, \"xref\": \"x\", \"y\": 30, \"yref\": \"y\"}, {\"font\": {\"color\": \"#000000\"}, \"showarrow\": false, \"text\": \"6950000000000\", \"x\": 1, \"xref\": \"x\", \"y\": 30, \"yref\": \"y\"}, {\"font\": {\"color\": \"#000000\"}, \"showarrow\": false, \"text\": \"ACPBCJ-01      \", \"x\": 2, \"xref\": \"x\", \"y\": 30, \"yref\": \"y\"}, {\"font\": {\"color\": \"#FFFFFF\"}, \"showarrow\": false, \"text\": \"BASEUS SHOOTING GAME TOOL FOR PAD BLACK                                                                       \", \"x\": 3, \"xref\": \"x\", \"y\": 30, \"yref\": \"y\"}, {\"font\": {\"color\": \"#000000\"}, \"showarrow\": false, \"text\": \"BASEUS                        \", \"x\": 4, \"xref\": \"x\", \"y\": 30, \"yref\": \"y\"}, {\"font\": {\"color\": \"#FFFFFF\"}, \"showarrow\": false, \"text\": \"1\", \"x\": 5, \"xref\": \"x\", \"y\": 30, \"yref\": \"y\"}, {\"font\": {\"color\": \"#FFFFFF\"}, \"showarrow\": false, \"text\": \"34.5\", \"x\": 6, \"xref\": \"x\", \"y\": 30, \"yref\": \"y\"}, {\"font\": {\"color\": \"#FFFFFF\"}, \"showarrow\": false, \"text\": \"69\", \"x\": 7, \"xref\": \"x\", \"y\": 30, \"yref\": \"y\"}, {\"font\": {\"color\": \"#FFFFFF\"}, \"showarrow\": false, \"text\": \"751059\", \"x\": 0, \"xref\": \"x\", \"y\": 31, \"yref\": \"y\"}, {\"font\": {\"color\": \"#000000\"}, \"showarrow\": false, \"text\": \"6950000000000\", \"x\": 1, \"xref\": \"x\", \"y\": 31, \"yref\": \"y\"}, {\"font\": {\"color\": \"#000000\"}, \"showarrow\": false, \"text\": \"ACPBCJ-02      \", \"x\": 2, \"xref\": \"x\", \"y\": 31, \"yref\": \"y\"}, {\"font\": {\"color\": \"#FFFFFF\"}, \"showarrow\": false, \"text\": \"BASEUS SHOOTING GAME TOOL FOR PAD TRANSPARENT                                                                 \", \"x\": 3, \"xref\": \"x\", \"y\": 31, \"yref\": \"y\"}, {\"font\": {\"color\": \"#FFFFFF\"}, \"showarrow\": false, \"text\": \"BASEUS                        \", \"x\": 4, \"xref\": \"x\", \"y\": 31, \"yref\": \"y\"}, {\"font\": {\"color\": \"#000000\"}, \"showarrow\": false, \"text\": \"1\", \"x\": 5, \"xref\": \"x\", \"y\": 31, \"yref\": \"y\"}, {\"font\": {\"color\": \"#000000\"}, \"showarrow\": false, \"text\": \"34.5\", \"x\": 6, \"xref\": \"x\", \"y\": 31, \"yref\": \"y\"}, {\"font\": {\"color\": \"#FFFFFF\"}, \"showarrow\": false, \"text\": \"69\", \"x\": 7, \"xref\": \"x\", \"y\": 31, \"yref\": \"y\"}, {\"font\": {\"color\": \"#000000\"}, \"showarrow\": false, \"text\": \"751060\", \"x\": 0, \"xref\": \"x\", \"y\": 32, \"yref\": \"y\"}, {\"font\": {\"color\": \"#000000\"}, \"showarrow\": false, \"text\": \"6950000000000\", \"x\": 1, \"xref\": \"x\", \"y\": 32, \"yref\": \"y\"}, {\"font\": {\"color\": \"#000000\"}, \"showarrow\": false, \"text\": \"SGAPWA4-A01    \", \"x\": 2, \"xref\": \"x\", \"y\": 32, \"yref\": \"y\"}, {\"font\": {\"color\": \"#FFFFFF\"}, \"showarrow\": false, \"text\": \"BASEUS 0.3MM FULL-SCREEN CURVED TEMPERED FILM BLACK FOR APPLE WATCH SERIES 4 40MM                             \", \"x\": 3, \"xref\": \"x\", \"y\": 32, \"yref\": \"y\"}, {\"font\": {\"color\": \"#000000\"}, \"showarrow\": false, \"text\": \"BASEUS                        \", \"x\": 4, \"xref\": \"x\", \"y\": 32, \"yref\": \"y\"}, {\"font\": {\"color\": \"#FFFFFF\"}, \"showarrow\": false, \"text\": \"1\", \"x\": 5, \"xref\": \"x\", \"y\": 32, \"yref\": \"y\"}, {\"font\": {\"color\": \"#FFFFFF\"}, \"showarrow\": false, \"text\": \"29.5\", \"x\": 6, \"xref\": \"x\", \"y\": 32, \"yref\": \"y\"}, {\"font\": {\"color\": \"#FFFFFF\"}, \"showarrow\": false, \"text\": \"59\", \"x\": 7, \"xref\": \"x\", \"y\": 32, \"yref\": \"y\"}, {\"font\": {\"color\": \"#000000\"}, \"showarrow\": false, \"text\": \"751063\", \"x\": 0, \"xref\": \"x\", \"y\": 33, \"yref\": \"y\"}, {\"font\": {\"color\": \"#FFFFFF\"}, \"showarrow\": false, \"text\": \"6950000000000\", \"x\": 1, \"xref\": \"x\", \"y\": 33, \"yref\": \"y\"}, {\"font\": {\"color\": \"#000000\"}, \"showarrow\": false, \"text\": \"SGAPWA4-B01    \", \"x\": 2, \"xref\": \"x\", \"y\": 33, \"yref\": \"y\"}, {\"font\": {\"color\": \"#FFFFFF\"}, \"showarrow\": false, \"text\": \"BASEUS 0.3MM FULL-SCREEN CURVED TEMPERED FILM BLACK FOR APPLE WATCH SERIES 4 44MM                             \", \"x\": 3, \"xref\": \"x\", \"y\": 33, \"yref\": \"y\"}, {\"font\": {\"color\": \"#FFFFFF\"}, \"showarrow\": false, \"text\": \"BASEUS                        \", \"x\": 4, \"xref\": \"x\", \"y\": 33, \"yref\": \"y\"}, {\"font\": {\"color\": \"#000000\"}, \"showarrow\": false, \"text\": \"1\", \"x\": 5, \"xref\": \"x\", \"y\": 33, \"yref\": \"y\"}, {\"font\": {\"color\": \"#000000\"}, \"showarrow\": false, \"text\": \"29.5\", \"x\": 6, \"xref\": \"x\", \"y\": 33, \"yref\": \"y\"}, {\"font\": {\"color\": \"#000000\"}, \"showarrow\": false, \"text\": \"59\", \"x\": 7, \"xref\": \"x\", \"y\": 33, \"yref\": \"y\"}, {\"font\": {\"color\": \"#000000\"}, \"showarrow\": false, \"text\": \"758125\", \"x\": 0, \"xref\": \"x\", \"y\": 34, \"yref\": \"y\"}, {\"font\": {\"color\": \"#000000\"}, \"showarrow\": false, \"text\": \"6950000000000\", \"x\": 1, \"xref\": \"x\", \"y\": 34, \"yref\": \"y\"}, {\"font\": {\"color\": \"#000000\"}, \"showarrow\": false, \"text\": \"WXYL-A01       \", \"x\": 2, \"xref\": \"x\", \"y\": 34, \"yref\": \"y\"}, {\"font\": {\"color\": \"#000000\"}, \"showarrow\": false, \"text\": \"BASEUS OSCULUM WIRELESS GRAVITY CAR CHARGER                                                                   \", \"x\": 3, \"xref\": \"x\", \"y\": 34, \"yref\": \"y\"}, {\"font\": {\"color\": \"#000000\"}, \"showarrow\": false, \"text\": \"BASEUS                        \", \"x\": 4, \"xref\": \"x\", \"y\": 34, \"yref\": \"y\"}, {\"font\": {\"color\": \"#FFFFFF\"}, \"showarrow\": false, \"text\": \"1\", \"x\": 5, \"xref\": \"x\", \"y\": 34, \"yref\": \"y\"}, {\"font\": {\"color\": \"#000000\"}, \"showarrow\": false, \"text\": \"74.5\", \"x\": 6, \"xref\": \"x\", \"y\": 34, \"yref\": \"y\"}, {\"font\": {\"color\": \"#000000\"}, \"showarrow\": false, \"text\": \"156\", \"x\": 7, \"xref\": \"x\", \"y\": 34, \"yref\": \"y\"}, {\"font\": {\"color\": \"#000000\"}, \"showarrow\": false, \"text\": \"758231\", \"x\": 0, \"xref\": \"x\", \"y\": 35, \"yref\": \"y\"}, {\"font\": {\"color\": \"#FFFFFF\"}, \"showarrow\": false, \"text\": \"7450000000000\", \"x\": 1, \"xref\": \"x\", \"y\": 35, \"yref\": \"y\"}, {\"font\": {\"color\": \"#FFFFFF\"}, \"showarrow\": false, \"text\": \"BHL-715        \", \"x\": 2, \"xref\": \"x\", \"y\": 35, \"yref\": \"y\"}, {\"font\": {\"color\": \"#000000\"}, \"showarrow\": false, \"text\": \"BRAVE 2-IN-1 UNIVERSAL MAGNETIC HOLDER                                                                        \", \"x\": 3, \"xref\": \"x\", \"y\": 35, \"yref\": \"y\"}, {\"font\": {\"color\": \"#000000\"}, \"showarrow\": false, \"text\": \"BRAVEN                        \", \"x\": 4, \"xref\": \"x\", \"y\": 35, \"yref\": \"y\"}, {\"font\": {\"color\": \"#FFFFFF\"}, \"showarrow\": false, \"text\": \"1\", \"x\": 5, \"xref\": \"x\", \"y\": 35, \"yref\": \"y\"}, {\"font\": {\"color\": \"#000000\"}, \"showarrow\": false, \"text\": \"30.0\", \"x\": 6, \"xref\": \"x\", \"y\": 35, \"yref\": \"y\"}, {\"font\": {\"color\": \"#000000\"}, \"showarrow\": false, \"text\": \"62\", \"x\": 7, \"xref\": \"x\", \"y\": 35, \"yref\": \"y\"}], \"xaxis\": {\"gridcolor\": \"rgb(0, 0, 0)\", \"showticklabels\": false, \"side\": \"top\", \"ticks\": \"\"}, \"yaxis\": {\"showticklabels\": false, \"ticks\": \"\", \"ticksuffix\": \"  \"}},\n",
       "                        {\"showLink\": false, \"linkText\": \"Export to plot.ly\", \"plotlyServerURL\": \"https://plot.ly\", \"responsive\": true}\n",
       "                    ).then(function(){\n",
       "                            \n",
       "var gd = document.getElementById('c0e85b04-ba3f-4979-804d-eabcabf071c3');\n",
       "var x = new MutationObserver(function (mutations, observer) {{\n",
       "        var display = window.getComputedStyle(gd).display;\n",
       "        if (!display || display === 'none') {{\n",
       "            console.log([gd, 'removed!']);\n",
       "            Plotly.purge(gd);\n",
       "            observer.disconnect();\n",
       "        }}\n",
       "}});\n",
       "\n",
       "// Listen for the removal of the full notebook cells\n",
       "var notebookContainer = gd.closest('#notebook-container');\n",
       "if (notebookContainer) {{\n",
       "    x.observe(notebookContainer, {childList: true});\n",
       "}}\n",
       "\n",
       "// Listen for the clearing of the current output cell\n",
       "var outputEl = gd.closest('.output');\n",
       "if (outputEl) {{\n",
       "    x.observe(outputEl, {childList: true});\n",
       "}}\n",
       "\n",
       "                        })\n",
       "                };\n",
       "                });\n",
       "            </script>\n",
       "        </div>"
      ]
     },
     "metadata": {},
     "output_type": "display_data"
    }
   ],
   "source": [
    "df = pd.read_csv('allMonthes.csv')\n",
    "newdf = df[df['Stock Status'] == 'Fast moving']\n",
    "newdf = newdf.loc[:,['Sku', 'UPC', 'Catalogue N', 'Title', 'Label', 'Arq COST', \"Cost Price\", 'V.S.P.']].reindex()\n",
    "from plotly.tools import FigureFactory as FF\n",
    "\n",
    "r,c = newdf.shape\n",
    "z = np.random.randn(r,c)\n",
    "fig = FF.create_annotated_heatmap(z,  annotation_text=newdf.values[:,:8])\n",
    "iplot(fig, filename='fast moving.html')"
   ]
  },
  {
   "cell_type": "markdown",
   "metadata": {},
   "source": [
    "#### Annotated Heatmap with numpy"
   ]
  },
  {
   "cell_type": "code",
   "execution_count": 11,
   "metadata": {},
   "outputs": [
    {
     "data": {
      "application/vnd.plotly.v1+json": {
       "config": {
        "linkText": "Export to plot.ly",
        "plotlyServerURL": "https://plot.ly",
        "showLink": false
       },
       "data": [
        {
         "colorscale": "Greys",
         "hoverinfo": "z",
         "reversescale": false,
         "showscale": false,
         "type": "heatmap",
         "uid": "2c5facf2-7db6-422e-af9d-c14125bbdfd2",
         "z": [
          [
           -0.08586066375740148,
           1.4593120462355802,
           -0.43162282781112243,
           0.3600295448064335,
           -1.5298658196254629,
           0.1380178243809237,
           0.5245457320163869,
           0.09851511195601388,
           -0.6242743989935576,
           -0.24078659046803438,
           0.7279052853590415,
           -0.615899192036713,
           -0.8604219415494834,
           1.10415067071826,
           -0.1284612020576367,
           -0.34534171405120284,
           0.1604173705892837,
           -1.07484765612352,
           -1.0338090424475463,
           -0.22440001393949127
          ],
          [
           -1.4738551305822443,
           0.3500783702886845,
           -0.8666565431209744,
           -0.0031977977536416244,
           -1.4576128980793506,
           -0.2980635400357395,
           0.054661491721287786,
           -0.411104536537598,
           -0.1554748432839135,
           -0.2944230461239009,
           -0.48993481850776216,
           -0.16376270719890845,
           -0.7231606018218711,
           -2.0869592425244496,
           -1.0879198344927523,
           0.879166304332712,
           0.699828999851987,
           0.5863830961514735,
           -0.4909862572192486,
           -0.2757903013895011
          ],
          [
           0.2880148503588112,
           -0.6320775509734383,
           0.5994146024892836,
           0.574401108440235,
           1.0982246588736686,
           -0.025345486781773872,
           1.2149777106251136,
           -0.9151836553007571,
           -2.7662812066381437,
           0.21792513141585873,
           0.9127286262526452,
           0.008297443123700846,
           0.880568417378276,
           -1.285494534209856,
           -0.35104053546153746,
           0.26216926085362313,
           1.8729159857000133,
           0.8021547088209733,
           -2.3696841439066536,
           0.3812354693554003
          ],
          [
           0.49931218660724097,
           0.9738123934187384,
           1.6220300303374786,
           -1.0372315934221257,
           0.8175874633313486,
           0.6274489562118631,
           0.052847955657611266,
           -0.16605594563499113,
           -0.3139200544091788,
           -1.2658869014572516,
           -0.05741869948475616,
           -0.6046907165589491,
           -0.04889293659977941,
           1.4380213684217404,
           0.10956812759764835,
           0.6116909977254378,
           1.1572353334177854,
           -1.444398788393435,
           1.017164590181421,
           -1.2045968906400601
          ],
          [
           1.5061391749795254,
           0.5994454596579167,
           1.0329950932038312,
           0.28171233429270814,
           1.1195109530905003,
           0.43241277564944947,
           -0.9010118087284493,
           -0.45109009239868114,
           -0.6017090502078939,
           0.3335774641104205,
           -0.7061074118369003,
           0.5061552104758398,
           -0.3955503572388567,
           -0.8118140276066903,
           1.3138619214257667,
           0.48890840544812464,
           -0.2823043230224176,
           0.9865511092880079,
           -0.35901662636429066,
           0.321613672278541
          ],
          [
           -1.07806045854907,
           -1.619381533861991,
           -0.22203458306276833,
           -2.1822838548613865,
           0.22702060734303153,
           1.404763328941183,
           0.93919651055846,
           -1.7033121703438663,
           -1.0421022427569904,
           4.001041810371828,
           -0.31042837322988537,
           -0.3277594855410116,
           -0.6548900376227322,
           0.8577470397104927,
           -1.1159118558437635,
           -1.5034267266583843,
           -1.314027109342961,
           0.7824977841038316,
           -0.08371097713089089,
           -0.17206497134926174
          ],
          [
           1.542616888188426,
           0.8530328103759388,
           -0.9126280597284865,
           0.15810730039189777,
           -0.2492257104721763,
           -2.011293350148031,
           0.7020434021715569,
           -0.43163862190364705,
           1.044829242403598,
           -0.8805416074518218,
           -0.1279318446884357,
           -1.6401614782973484,
           -0.8281660906332239,
           0.19631397319849014,
           0.7015225766044074,
           -1.52332040544211,
           -2.7157496869460953,
           0.4568042503135183,
           -1.9180068300652418,
           -1.3126800567240933
          ],
          [
           -1.0497264138075246,
           -1.027324012995258,
           -0.5040053323351683,
           -1.4656867656466461,
           -0.44310576703558036,
           -1.2906046023731184,
           1.6099872569781621,
           0.1331374068541394,
           -1.2197707878046486,
           -0.12899316092958338,
           -0.769352415453817,
           -0.5831857550184898,
           -0.039690393577543184,
           0.26624913469960193,
           0.2779161104818915,
           -0.3917272708837439,
           -0.4212074110726645,
           -0.6572321196560604,
           1.5350424568961438,
           -0.5971169283878103
          ],
          [
           -1.4140407518481386,
           0.2475249665934697,
           -0.33031753169675104,
           0.09104178316812139,
           0.636143017448963,
           -0.8376012589422335,
           0.8198013541422543,
           -0.4823533118400506,
           1.4120414295974766,
           -0.46401505348605143,
           0.30768496545420154,
           2.458782526261712,
           0.6163946250393854,
           1.6709493677684584,
           -0.23735993057675317,
           -1.462863879921136,
           1.3313693125539838,
           -1.042933609426074,
           -0.4263651115428176,
           -0.6270166535772657
          ],
          [
           0.18600553360661443,
           0.20719409398684135,
           -0.9942322322121343,
           -0.048289388987818815,
           -0.8520262556404442,
           -0.22712250038820933,
           1.5639626532065314,
           -1.3143903059991757,
           1.060599237144178,
           -2.2552276939422606,
           -0.22181809174087802,
           -1.2029982511390651,
           -1.010152801892039,
           -0.8266749216422712,
           0.41703827867823157,
           -1.7736128963080577,
           -0.7755676981464151,
           -0.610512990074877,
           0.21848677359308935,
           -0.1730996048183092
          ],
          [
           -0.06382121680465369,
           -1.30465590085011,
           1.3720071705510135,
           -0.19609712146605918,
           -0.3752617731750664,
           -1.310035963224021,
           0.0374354434394547,
           -0.8289428502262055,
           0.035684345633001636,
           0.9712340240127031,
           -0.5457902769520686,
           1.3037000570399906,
           -0.7154924959141363,
           -0.4836013766403637,
           0.22539688241884084,
           -1.4890184779144764,
           -0.07102129502201432,
           -1.1485905461539432,
           0.06085482824599193,
           -0.6630942681290557
          ],
          [
           -0.8283167540902181,
           0.3707558091441853,
           -0.5344359501026694,
           0.20260338495709523,
           1.48495831243482,
           1.3067619530797752,
           -1.2034356344118504,
           1.5415657071335758,
           -1.7114968187398523,
           0.06635576946429558,
           0.3568879523261483,
           -2.7610976579393265,
           0.5738269174215908,
           1.4509260129164416,
           0.7401400861372878,
           2.330247176726718,
           -1.6566520157582023,
           2.39713950636685,
           0.7846477590962327,
           -0.6166087799183486
          ],
          [
           0.8198886785859592,
           -0.07643617820169818,
           1.565933414462239,
           0.16216995475379356,
           -0.2752531170106007,
           0.31416229695512565,
           0.5791507113757297,
           0.4432899943540761,
           0.3304921821527882,
           0.4979653177387453,
           -0.5243068678632214,
           -0.13354488396128064,
           -0.38649435283170125,
           1.2918159955700441,
           -0.6131195193708283,
           -0.47297114248795286,
           2.2889471194076596,
           -0.5162017755924182,
           0.580525757293623,
           0.47985521743825854
          ],
          [
           0.8241365235992215,
           -0.9268447047317747,
           -0.27276489824366973,
           0.11660411528970359,
           0.6003465437097608,
           0.8763259944352846,
           0.5568828173703827,
           0.2537214870168399,
           0.41211812067223064,
           -0.4689519740149431,
           0.8605177099932312,
           -0.8682431271766274,
           -0.6960367801288886,
           -0.1318939234443373,
           -0.5648060185873551,
           0.01867994424770311,
           1.5331544616600536,
           1.6679721150471318,
           -0.5931711940135458,
           -0.6901739952917098
          ],
          [
           -0.4038945914466779,
           -0.45606342954376783,
           0.8821276912132184,
           -0.329133466267801,
           -0.5104672454695713,
           1.5408102437062845,
           0.16270552194055554,
           -0.21884207591099084,
           -0.15622662653701466,
           1.573577241949563,
           -1.3258038580943443,
           0.11817454147295117,
           0.8551615617329874,
           -1.0893693925768713,
           -0.5469785420293797,
           2.1351833563208027,
           -0.16982391176993383,
           -0.4420954754172358,
           0.5700764319656926,
           -0.6604521969241022
          ],
          [
           -0.16297164604022435,
           0.6390990428451903,
           0.2673089819289009,
           -0.8680529813374307,
           0.9170950201752301,
           -1.3678631026859789,
           0.14502577021445465,
           -0.3155652976121853,
           -0.31030740627490067,
           -0.4868852027302864,
           -0.17151608743273264,
           -0.020092775414790515,
           1.5658904666489115,
           0.02601332190772129,
           0.9843603452355798,
           -2.922228084077484,
           -0.8032002558411658,
           0.2117121683365261,
           -0.6927927820556042,
           -1.5285927931185246
          ],
          [
           -0.3534131976965821,
           -2.700395223980041,
           1.3764722472219466,
           0.005527000132000764,
           -0.9037274658544286,
           -0.9649815402204005,
           0.4601723727816565,
           -0.9560740198449867,
           1.032007696750518,
           -0.47132425686339513,
           0.3360577488447927,
           1.8655783892520343,
           -0.31536355350716994,
           -2.2866032693413576,
           0.4354016560226912,
           1.0001184512727508,
           1.095100542293479,
           -1.8498044948011645,
           -0.006772885510172797,
           -0.5871919589232784
          ],
          [
           2.863027537097619,
           -0.32020539958043553,
           0.5002731097105064,
           -0.6186438777647191,
           -0.1280148550649669,
           -2.0108052550588273,
           0.7764504242972533,
           0.47220992054382144,
           0.24450561263467283,
           -0.06492683245328695,
           0.5510452227077574,
           -0.23874655898153327,
           0.2329134409927204,
           -0.3642113293255727,
           0.1274498620297305,
           -0.9552926699610841,
           -1.9591564138033923,
           0.509966505234652,
           -1.202303811234944,
           0.23609769975715922
          ],
          [
           0.28866157814496823,
           2.3230643860369917,
           1.4247621241249488,
           -1.983849557514547,
           0.10991672562669301,
           1.0912480229807222,
           0.9589256178075486,
           -1.6605343856088777,
           0.39132906758410335,
           0.7808286651253086,
           0.24823211762126704,
           -0.34827652056367375,
           0.5331317537745685,
           1.289343471303238,
           0.8296864487939812,
           0.4149740675142691,
           1.1565667282270646,
           0.2924720938947311,
           0.4052423686527184,
           -0.9051877213901319
          ],
          [
           -2.5725322606026153,
           -0.854180745815608,
           -0.9987373216936326,
           1.2046845999880056,
           -0.3616471532676167,
           0.8671999706131235,
           -1.3853576657960969,
           0.36694207928675393,
           -1.4507792846663432,
           0.4144888743319255,
           -0.3133263246212114,
           0.9782378983259905,
           -1.498422215527017,
           2.2554509764713826,
           -1.440494563956423,
           0.6195574160530181,
           0.8423713252573528,
           -0.760308086069206,
           0.7101368430905745,
           -1.3248335863514877
          ]
         ]
        }
       ],
       "layout": {
        "annotations": [
         {
          "font": {
           "color": "#FFFFFF",
           "size": 8
          },
          "showarrow": false,
          "text": "-0.09",
          "x": 0,
          "xref": "x",
          "y": 0,
          "yref": "y"
         },
         {
          "font": {
           "color": "#000000",
           "size": 8
          },
          "showarrow": false,
          "text": "1.46",
          "x": 1,
          "xref": "x",
          "y": 0,
          "yref": "y"
         },
         {
          "font": {
           "color": "#FFFFFF",
           "size": 8
          },
          "showarrow": false,
          "text": "-0.43",
          "x": 2,
          "xref": "x",
          "y": 0,
          "yref": "y"
         },
         {
          "font": {
           "color": "#FFFFFF",
           "size": 8
          },
          "showarrow": false,
          "text": "0.36",
          "x": 3,
          "xref": "x",
          "y": 0,
          "yref": "y"
         },
         {
          "font": {
           "color": "#FFFFFF",
           "size": 8
          },
          "showarrow": false,
          "text": "-1.53",
          "x": 4,
          "xref": "x",
          "y": 0,
          "yref": "y"
         },
         {
          "font": {
           "color": "#FFFFFF",
           "size": 8
          },
          "showarrow": false,
          "text": "0.14",
          "x": 5,
          "xref": "x",
          "y": 0,
          "yref": "y"
         },
         {
          "font": {
           "color": "#FFFFFF",
           "size": 8
          },
          "showarrow": false,
          "text": "0.52",
          "x": 6,
          "xref": "x",
          "y": 0,
          "yref": "y"
         },
         {
          "font": {
           "color": "#FFFFFF",
           "size": 8
          },
          "showarrow": false,
          "text": "0.1",
          "x": 7,
          "xref": "x",
          "y": 0,
          "yref": "y"
         },
         {
          "font": {
           "color": "#FFFFFF",
           "size": 8
          },
          "showarrow": false,
          "text": "-0.62",
          "x": 8,
          "xref": "x",
          "y": 0,
          "yref": "y"
         },
         {
          "font": {
           "color": "#FFFFFF",
           "size": 8
          },
          "showarrow": false,
          "text": "-0.24",
          "x": 9,
          "xref": "x",
          "y": 0,
          "yref": "y"
         },
         {
          "font": {
           "color": "#000000",
           "size": 8
          },
          "showarrow": false,
          "text": "0.73",
          "x": 10,
          "xref": "x",
          "y": 0,
          "yref": "y"
         },
         {
          "font": {
           "color": "#FFFFFF",
           "size": 8
          },
          "showarrow": false,
          "text": "-0.62",
          "x": 11,
          "xref": "x",
          "y": 0,
          "yref": "y"
         },
         {
          "font": {
           "color": "#FFFFFF",
           "size": 8
          },
          "showarrow": false,
          "text": "-0.86",
          "x": 12,
          "xref": "x",
          "y": 0,
          "yref": "y"
         },
         {
          "font": {
           "color": "#000000",
           "size": 8
          },
          "showarrow": false,
          "text": "1.1",
          "x": 13,
          "xref": "x",
          "y": 0,
          "yref": "y"
         },
         {
          "font": {
           "color": "#FFFFFF",
           "size": 8
          },
          "showarrow": false,
          "text": "-0.13",
          "x": 14,
          "xref": "x",
          "y": 0,
          "yref": "y"
         },
         {
          "font": {
           "color": "#FFFFFF",
           "size": 8
          },
          "showarrow": false,
          "text": "-0.35",
          "x": 15,
          "xref": "x",
          "y": 0,
          "yref": "y"
         },
         {
          "font": {
           "color": "#FFFFFF",
           "size": 8
          },
          "showarrow": false,
          "text": "0.16",
          "x": 16,
          "xref": "x",
          "y": 0,
          "yref": "y"
         },
         {
          "font": {
           "color": "#FFFFFF",
           "size": 8
          },
          "showarrow": false,
          "text": "-1.07",
          "x": 17,
          "xref": "x",
          "y": 0,
          "yref": "y"
         },
         {
          "font": {
           "color": "#FFFFFF",
           "size": 8
          },
          "showarrow": false,
          "text": "-1.03",
          "x": 18,
          "xref": "x",
          "y": 0,
          "yref": "y"
         },
         {
          "font": {
           "color": "#FFFFFF",
           "size": 8
          },
          "showarrow": false,
          "text": "-0.22",
          "x": 19,
          "xref": "x",
          "y": 0,
          "yref": "y"
         },
         {
          "font": {
           "color": "#FFFFFF",
           "size": 8
          },
          "showarrow": false,
          "text": "-1.47",
          "x": 0,
          "xref": "x",
          "y": 1,
          "yref": "y"
         },
         {
          "font": {
           "color": "#FFFFFF",
           "size": 8
          },
          "showarrow": false,
          "text": "0.35",
          "x": 1,
          "xref": "x",
          "y": 1,
          "yref": "y"
         },
         {
          "font": {
           "color": "#FFFFFF",
           "size": 8
          },
          "showarrow": false,
          "text": "-0.87",
          "x": 2,
          "xref": "x",
          "y": 1,
          "yref": "y"
         },
         {
          "font": {
           "color": "#FFFFFF",
           "size": 8
          },
          "showarrow": false,
          "text": "-0.0",
          "x": 3,
          "xref": "x",
          "y": 1,
          "yref": "y"
         },
         {
          "font": {
           "color": "#FFFFFF",
           "size": 8
          },
          "showarrow": false,
          "text": "-1.46",
          "x": 4,
          "xref": "x",
          "y": 1,
          "yref": "y"
         },
         {
          "font": {
           "color": "#FFFFFF",
           "size": 8
          },
          "showarrow": false,
          "text": "-0.3",
          "x": 5,
          "xref": "x",
          "y": 1,
          "yref": "y"
         },
         {
          "font": {
           "color": "#FFFFFF",
           "size": 8
          },
          "showarrow": false,
          "text": "0.05",
          "x": 6,
          "xref": "x",
          "y": 1,
          "yref": "y"
         },
         {
          "font": {
           "color": "#FFFFFF",
           "size": 8
          },
          "showarrow": false,
          "text": "-0.41",
          "x": 7,
          "xref": "x",
          "y": 1,
          "yref": "y"
         },
         {
          "font": {
           "color": "#FFFFFF",
           "size": 8
          },
          "showarrow": false,
          "text": "-0.16",
          "x": 8,
          "xref": "x",
          "y": 1,
          "yref": "y"
         },
         {
          "font": {
           "color": "#FFFFFF",
           "size": 8
          },
          "showarrow": false,
          "text": "-0.29",
          "x": 9,
          "xref": "x",
          "y": 1,
          "yref": "y"
         },
         {
          "font": {
           "color": "#FFFFFF",
           "size": 8
          },
          "showarrow": false,
          "text": "-0.49",
          "x": 10,
          "xref": "x",
          "y": 1,
          "yref": "y"
         },
         {
          "font": {
           "color": "#FFFFFF",
           "size": 8
          },
          "showarrow": false,
          "text": "-0.16",
          "x": 11,
          "xref": "x",
          "y": 1,
          "yref": "y"
         },
         {
          "font": {
           "color": "#FFFFFF",
           "size": 8
          },
          "showarrow": false,
          "text": "-0.72",
          "x": 12,
          "xref": "x",
          "y": 1,
          "yref": "y"
         },
         {
          "font": {
           "color": "#FFFFFF",
           "size": 8
          },
          "showarrow": false,
          "text": "-2.09",
          "x": 13,
          "xref": "x",
          "y": 1,
          "yref": "y"
         },
         {
          "font": {
           "color": "#FFFFFF",
           "size": 8
          },
          "showarrow": false,
          "text": "-1.09",
          "x": 14,
          "xref": "x",
          "y": 1,
          "yref": "y"
         },
         {
          "font": {
           "color": "#000000",
           "size": 8
          },
          "showarrow": false,
          "text": "0.88",
          "x": 15,
          "xref": "x",
          "y": 1,
          "yref": "y"
         },
         {
          "font": {
           "color": "#000000",
           "size": 8
          },
          "showarrow": false,
          "text": "0.7",
          "x": 16,
          "xref": "x",
          "y": 1,
          "yref": "y"
         },
         {
          "font": {
           "color": "#000000",
           "size": 8
          },
          "showarrow": false,
          "text": "0.59",
          "x": 17,
          "xref": "x",
          "y": 1,
          "yref": "y"
         },
         {
          "font": {
           "color": "#FFFFFF",
           "size": 8
          },
          "showarrow": false,
          "text": "-0.49",
          "x": 18,
          "xref": "x",
          "y": 1,
          "yref": "y"
         },
         {
          "font": {
           "color": "#FFFFFF",
           "size": 8
          },
          "showarrow": false,
          "text": "-0.28",
          "x": 19,
          "xref": "x",
          "y": 1,
          "yref": "y"
         },
         {
          "font": {
           "color": "#FFFFFF",
           "size": 8
          },
          "showarrow": false,
          "text": "0.29",
          "x": 0,
          "xref": "x",
          "y": 2,
          "yref": "y"
         },
         {
          "font": {
           "color": "#FFFFFF",
           "size": 8
          },
          "showarrow": false,
          "text": "-0.63",
          "x": 1,
          "xref": "x",
          "y": 2,
          "yref": "y"
         },
         {
          "font": {
           "color": "#000000",
           "size": 8
          },
          "showarrow": false,
          "text": "0.6",
          "x": 2,
          "xref": "x",
          "y": 2,
          "yref": "y"
         },
         {
          "font": {
           "color": "#000000",
           "size": 8
          },
          "showarrow": false,
          "text": "0.57",
          "x": 3,
          "xref": "x",
          "y": 2,
          "yref": "y"
         },
         {
          "font": {
           "color": "#000000",
           "size": 8
          },
          "showarrow": false,
          "text": "1.1",
          "x": 4,
          "xref": "x",
          "y": 2,
          "yref": "y"
         },
         {
          "font": {
           "color": "#FFFFFF",
           "size": 8
          },
          "showarrow": false,
          "text": "-0.03",
          "x": 5,
          "xref": "x",
          "y": 2,
          "yref": "y"
         },
         {
          "font": {
           "color": "#000000",
           "size": 8
          },
          "showarrow": false,
          "text": "1.21",
          "x": 6,
          "xref": "x",
          "y": 2,
          "yref": "y"
         },
         {
          "font": {
           "color": "#FFFFFF",
           "size": 8
          },
          "showarrow": false,
          "text": "-0.92",
          "x": 7,
          "xref": "x",
          "y": 2,
          "yref": "y"
         },
         {
          "font": {
           "color": "#FFFFFF",
           "size": 8
          },
          "showarrow": false,
          "text": "-2.77",
          "x": 8,
          "xref": "x",
          "y": 2,
          "yref": "y"
         },
         {
          "font": {
           "color": "#FFFFFF",
           "size": 8
          },
          "showarrow": false,
          "text": "0.22",
          "x": 9,
          "xref": "x",
          "y": 2,
          "yref": "y"
         },
         {
          "font": {
           "color": "#000000",
           "size": 8
          },
          "showarrow": false,
          "text": "0.91",
          "x": 10,
          "xref": "x",
          "y": 2,
          "yref": "y"
         },
         {
          "font": {
           "color": "#FFFFFF",
           "size": 8
          },
          "showarrow": false,
          "text": "0.01",
          "x": 11,
          "xref": "x",
          "y": 2,
          "yref": "y"
         },
         {
          "font": {
           "color": "#000000",
           "size": 8
          },
          "showarrow": false,
          "text": "0.88",
          "x": 12,
          "xref": "x",
          "y": 2,
          "yref": "y"
         },
         {
          "font": {
           "color": "#FFFFFF",
           "size": 8
          },
          "showarrow": false,
          "text": "-1.29",
          "x": 13,
          "xref": "x",
          "y": 2,
          "yref": "y"
         },
         {
          "font": {
           "color": "#FFFFFF",
           "size": 8
          },
          "showarrow": false,
          "text": "-0.35",
          "x": 14,
          "xref": "x",
          "y": 2,
          "yref": "y"
         },
         {
          "font": {
           "color": "#FFFFFF",
           "size": 8
          },
          "showarrow": false,
          "text": "0.26",
          "x": 15,
          "xref": "x",
          "y": 2,
          "yref": "y"
         },
         {
          "font": {
           "color": "#000000",
           "size": 8
          },
          "showarrow": false,
          "text": "1.87",
          "x": 16,
          "xref": "x",
          "y": 2,
          "yref": "y"
         },
         {
          "font": {
           "color": "#000000",
           "size": 8
          },
          "showarrow": false,
          "text": "0.8",
          "x": 17,
          "xref": "x",
          "y": 2,
          "yref": "y"
         },
         {
          "font": {
           "color": "#FFFFFF",
           "size": 8
          },
          "showarrow": false,
          "text": "-2.37",
          "x": 18,
          "xref": "x",
          "y": 2,
          "yref": "y"
         },
         {
          "font": {
           "color": "#FFFFFF",
           "size": 8
          },
          "showarrow": false,
          "text": "0.38",
          "x": 19,
          "xref": "x",
          "y": 2,
          "yref": "y"
         },
         {
          "font": {
           "color": "#FFFFFF",
           "size": 8
          },
          "showarrow": false,
          "text": "0.5",
          "x": 0,
          "xref": "x",
          "y": 3,
          "yref": "y"
         },
         {
          "font": {
           "color": "#000000",
           "size": 8
          },
          "showarrow": false,
          "text": "0.97",
          "x": 1,
          "xref": "x",
          "y": 3,
          "yref": "y"
         },
         {
          "font": {
           "color": "#000000",
           "size": 8
          },
          "showarrow": false,
          "text": "1.62",
          "x": 2,
          "xref": "x",
          "y": 3,
          "yref": "y"
         },
         {
          "font": {
           "color": "#FFFFFF",
           "size": 8
          },
          "showarrow": false,
          "text": "-1.04",
          "x": 3,
          "xref": "x",
          "y": 3,
          "yref": "y"
         },
         {
          "font": {
           "color": "#000000",
           "size": 8
          },
          "showarrow": false,
          "text": "0.82",
          "x": 4,
          "xref": "x",
          "y": 3,
          "yref": "y"
         },
         {
          "font": {
           "color": "#000000",
           "size": 8
          },
          "showarrow": false,
          "text": "0.63",
          "x": 5,
          "xref": "x",
          "y": 3,
          "yref": "y"
         },
         {
          "font": {
           "color": "#FFFFFF",
           "size": 8
          },
          "showarrow": false,
          "text": "0.05",
          "x": 6,
          "xref": "x",
          "y": 3,
          "yref": "y"
         },
         {
          "font": {
           "color": "#FFFFFF",
           "size": 8
          },
          "showarrow": false,
          "text": "-0.17",
          "x": 7,
          "xref": "x",
          "y": 3,
          "yref": "y"
         },
         {
          "font": {
           "color": "#FFFFFF",
           "size": 8
          },
          "showarrow": false,
          "text": "-0.31",
          "x": 8,
          "xref": "x",
          "y": 3,
          "yref": "y"
         },
         {
          "font": {
           "color": "#FFFFFF",
           "size": 8
          },
          "showarrow": false,
          "text": "-1.27",
          "x": 9,
          "xref": "x",
          "y": 3,
          "yref": "y"
         },
         {
          "font": {
           "color": "#FFFFFF",
           "size": 8
          },
          "showarrow": false,
          "text": "-0.06",
          "x": 10,
          "xref": "x",
          "y": 3,
          "yref": "y"
         },
         {
          "font": {
           "color": "#FFFFFF",
           "size": 8
          },
          "showarrow": false,
          "text": "-0.6",
          "x": 11,
          "xref": "x",
          "y": 3,
          "yref": "y"
         },
         {
          "font": {
           "color": "#FFFFFF",
           "size": 8
          },
          "showarrow": false,
          "text": "-0.05",
          "x": 12,
          "xref": "x",
          "y": 3,
          "yref": "y"
         },
         {
          "font": {
           "color": "#000000",
           "size": 8
          },
          "showarrow": false,
          "text": "1.44",
          "x": 13,
          "xref": "x",
          "y": 3,
          "yref": "y"
         },
         {
          "font": {
           "color": "#FFFFFF",
           "size": 8
          },
          "showarrow": false,
          "text": "0.11",
          "x": 14,
          "xref": "x",
          "y": 3,
          "yref": "y"
         },
         {
          "font": {
           "color": "#000000",
           "size": 8
          },
          "showarrow": false,
          "text": "0.61",
          "x": 15,
          "xref": "x",
          "y": 3,
          "yref": "y"
         },
         {
          "font": {
           "color": "#000000",
           "size": 8
          },
          "showarrow": false,
          "text": "1.16",
          "x": 16,
          "xref": "x",
          "y": 3,
          "yref": "y"
         },
         {
          "font": {
           "color": "#FFFFFF",
           "size": 8
          },
          "showarrow": false,
          "text": "-1.44",
          "x": 17,
          "xref": "x",
          "y": 3,
          "yref": "y"
         },
         {
          "font": {
           "color": "#000000",
           "size": 8
          },
          "showarrow": false,
          "text": "1.02",
          "x": 18,
          "xref": "x",
          "y": 3,
          "yref": "y"
         },
         {
          "font": {
           "color": "#FFFFFF",
           "size": 8
          },
          "showarrow": false,
          "text": "-1.2",
          "x": 19,
          "xref": "x",
          "y": 3,
          "yref": "y"
         },
         {
          "font": {
           "color": "#000000",
           "size": 8
          },
          "showarrow": false,
          "text": "1.51",
          "x": 0,
          "xref": "x",
          "y": 4,
          "yref": "y"
         },
         {
          "font": {
           "color": "#000000",
           "size": 8
          },
          "showarrow": false,
          "text": "0.6",
          "x": 1,
          "xref": "x",
          "y": 4,
          "yref": "y"
         },
         {
          "font": {
           "color": "#000000",
           "size": 8
          },
          "showarrow": false,
          "text": "1.03",
          "x": 2,
          "xref": "x",
          "y": 4,
          "yref": "y"
         },
         {
          "font": {
           "color": "#FFFFFF",
           "size": 8
          },
          "showarrow": false,
          "text": "0.28",
          "x": 3,
          "xref": "x",
          "y": 4,
          "yref": "y"
         },
         {
          "font": {
           "color": "#000000",
           "size": 8
          },
          "showarrow": false,
          "text": "1.12",
          "x": 4,
          "xref": "x",
          "y": 4,
          "yref": "y"
         },
         {
          "font": {
           "color": "#FFFFFF",
           "size": 8
          },
          "showarrow": false,
          "text": "0.43",
          "x": 5,
          "xref": "x",
          "y": 4,
          "yref": "y"
         },
         {
          "font": {
           "color": "#FFFFFF",
           "size": 8
          },
          "showarrow": false,
          "text": "-0.9",
          "x": 6,
          "xref": "x",
          "y": 4,
          "yref": "y"
         },
         {
          "font": {
           "color": "#FFFFFF",
           "size": 8
          },
          "showarrow": false,
          "text": "-0.45",
          "x": 7,
          "xref": "x",
          "y": 4,
          "yref": "y"
         },
         {
          "font": {
           "color": "#FFFFFF",
           "size": 8
          },
          "showarrow": false,
          "text": "-0.6",
          "x": 8,
          "xref": "x",
          "y": 4,
          "yref": "y"
         },
         {
          "font": {
           "color": "#FFFFFF",
           "size": 8
          },
          "showarrow": false,
          "text": "0.33",
          "x": 9,
          "xref": "x",
          "y": 4,
          "yref": "y"
         },
         {
          "font": {
           "color": "#FFFFFF",
           "size": 8
          },
          "showarrow": false,
          "text": "-0.71",
          "x": 10,
          "xref": "x",
          "y": 4,
          "yref": "y"
         },
         {
          "font": {
           "color": "#FFFFFF",
           "size": 8
          },
          "showarrow": false,
          "text": "0.51",
          "x": 11,
          "xref": "x",
          "y": 4,
          "yref": "y"
         },
         {
          "font": {
           "color": "#FFFFFF",
           "size": 8
          },
          "showarrow": false,
          "text": "-0.4",
          "x": 12,
          "xref": "x",
          "y": 4,
          "yref": "y"
         },
         {
          "font": {
           "color": "#FFFFFF",
           "size": 8
          },
          "showarrow": false,
          "text": "-0.81",
          "x": 13,
          "xref": "x",
          "y": 4,
          "yref": "y"
         },
         {
          "font": {
           "color": "#000000",
           "size": 8
          },
          "showarrow": false,
          "text": "1.31",
          "x": 14,
          "xref": "x",
          "y": 4,
          "yref": "y"
         },
         {
          "font": {
           "color": "#FFFFFF",
           "size": 8
          },
          "showarrow": false,
          "text": "0.49",
          "x": 15,
          "xref": "x",
          "y": 4,
          "yref": "y"
         },
         {
          "font": {
           "color": "#FFFFFF",
           "size": 8
          },
          "showarrow": false,
          "text": "-0.28",
          "x": 16,
          "xref": "x",
          "y": 4,
          "yref": "y"
         },
         {
          "font": {
           "color": "#000000",
           "size": 8
          },
          "showarrow": false,
          "text": "0.99",
          "x": 17,
          "xref": "x",
          "y": 4,
          "yref": "y"
         },
         {
          "font": {
           "color": "#FFFFFF",
           "size": 8
          },
          "showarrow": false,
          "text": "-0.36",
          "x": 18,
          "xref": "x",
          "y": 4,
          "yref": "y"
         },
         {
          "font": {
           "color": "#FFFFFF",
           "size": 8
          },
          "showarrow": false,
          "text": "0.32",
          "x": 19,
          "xref": "x",
          "y": 4,
          "yref": "y"
         },
         {
          "font": {
           "color": "#FFFFFF",
           "size": 8
          },
          "showarrow": false,
          "text": "-1.08",
          "x": 0,
          "xref": "x",
          "y": 5,
          "yref": "y"
         },
         {
          "font": {
           "color": "#FFFFFF",
           "size": 8
          },
          "showarrow": false,
          "text": "-1.62",
          "x": 1,
          "xref": "x",
          "y": 5,
          "yref": "y"
         },
         {
          "font": {
           "color": "#FFFFFF",
           "size": 8
          },
          "showarrow": false,
          "text": "-0.22",
          "x": 2,
          "xref": "x",
          "y": 5,
          "yref": "y"
         },
         {
          "font": {
           "color": "#FFFFFF",
           "size": 8
          },
          "showarrow": false,
          "text": "-2.18",
          "x": 3,
          "xref": "x",
          "y": 5,
          "yref": "y"
         },
         {
          "font": {
           "color": "#FFFFFF",
           "size": 8
          },
          "showarrow": false,
          "text": "0.23",
          "x": 4,
          "xref": "x",
          "y": 5,
          "yref": "y"
         },
         {
          "font": {
           "color": "#000000",
           "size": 8
          },
          "showarrow": false,
          "text": "1.4",
          "x": 5,
          "xref": "x",
          "y": 5,
          "yref": "y"
         },
         {
          "font": {
           "color": "#000000",
           "size": 8
          },
          "showarrow": false,
          "text": "0.94",
          "x": 6,
          "xref": "x",
          "y": 5,
          "yref": "y"
         },
         {
          "font": {
           "color": "#FFFFFF",
           "size": 8
          },
          "showarrow": false,
          "text": "-1.7",
          "x": 7,
          "xref": "x",
          "y": 5,
          "yref": "y"
         },
         {
          "font": {
           "color": "#FFFFFF",
           "size": 8
          },
          "showarrow": false,
          "text": "-1.04",
          "x": 8,
          "xref": "x",
          "y": 5,
          "yref": "y"
         },
         {
          "font": {
           "color": "#000000",
           "size": 8
          },
          "showarrow": false,
          "text": "4.0",
          "x": 9,
          "xref": "x",
          "y": 5,
          "yref": "y"
         },
         {
          "font": {
           "color": "#FFFFFF",
           "size": 8
          },
          "showarrow": false,
          "text": "-0.31",
          "x": 10,
          "xref": "x",
          "y": 5,
          "yref": "y"
         },
         {
          "font": {
           "color": "#FFFFFF",
           "size": 8
          },
          "showarrow": false,
          "text": "-0.33",
          "x": 11,
          "xref": "x",
          "y": 5,
          "yref": "y"
         },
         {
          "font": {
           "color": "#FFFFFF",
           "size": 8
          },
          "showarrow": false,
          "text": "-0.65",
          "x": 12,
          "xref": "x",
          "y": 5,
          "yref": "y"
         },
         {
          "font": {
           "color": "#000000",
           "size": 8
          },
          "showarrow": false,
          "text": "0.86",
          "x": 13,
          "xref": "x",
          "y": 5,
          "yref": "y"
         },
         {
          "font": {
           "color": "#FFFFFF",
           "size": 8
          },
          "showarrow": false,
          "text": "-1.12",
          "x": 14,
          "xref": "x",
          "y": 5,
          "yref": "y"
         },
         {
          "font": {
           "color": "#FFFFFF",
           "size": 8
          },
          "showarrow": false,
          "text": "-1.5",
          "x": 15,
          "xref": "x",
          "y": 5,
          "yref": "y"
         },
         {
          "font": {
           "color": "#FFFFFF",
           "size": 8
          },
          "showarrow": false,
          "text": "-1.31",
          "x": 16,
          "xref": "x",
          "y": 5,
          "yref": "y"
         },
         {
          "font": {
           "color": "#000000",
           "size": 8
          },
          "showarrow": false,
          "text": "0.78",
          "x": 17,
          "xref": "x",
          "y": 5,
          "yref": "y"
         },
         {
          "font": {
           "color": "#FFFFFF",
           "size": 8
          },
          "showarrow": false,
          "text": "-0.08",
          "x": 18,
          "xref": "x",
          "y": 5,
          "yref": "y"
         },
         {
          "font": {
           "color": "#FFFFFF",
           "size": 8
          },
          "showarrow": false,
          "text": "-0.17",
          "x": 19,
          "xref": "x",
          "y": 5,
          "yref": "y"
         },
         {
          "font": {
           "color": "#000000",
           "size": 8
          },
          "showarrow": false,
          "text": "1.54",
          "x": 0,
          "xref": "x",
          "y": 6,
          "yref": "y"
         },
         {
          "font": {
           "color": "#000000",
           "size": 8
          },
          "showarrow": false,
          "text": "0.85",
          "x": 1,
          "xref": "x",
          "y": 6,
          "yref": "y"
         },
         {
          "font": {
           "color": "#FFFFFF",
           "size": 8
          },
          "showarrow": false,
          "text": "-0.91",
          "x": 2,
          "xref": "x",
          "y": 6,
          "yref": "y"
         },
         {
          "font": {
           "color": "#FFFFFF",
           "size": 8
          },
          "showarrow": false,
          "text": "0.16",
          "x": 3,
          "xref": "x",
          "y": 6,
          "yref": "y"
         },
         {
          "font": {
           "color": "#FFFFFF",
           "size": 8
          },
          "showarrow": false,
          "text": "-0.25",
          "x": 4,
          "xref": "x",
          "y": 6,
          "yref": "y"
         },
         {
          "font": {
           "color": "#FFFFFF",
           "size": 8
          },
          "showarrow": false,
          "text": "-2.01",
          "x": 5,
          "xref": "x",
          "y": 6,
          "yref": "y"
         },
         {
          "font": {
           "color": "#000000",
           "size": 8
          },
          "showarrow": false,
          "text": "0.7",
          "x": 6,
          "xref": "x",
          "y": 6,
          "yref": "y"
         },
         {
          "font": {
           "color": "#FFFFFF",
           "size": 8
          },
          "showarrow": false,
          "text": "-0.43",
          "x": 7,
          "xref": "x",
          "y": 6,
          "yref": "y"
         },
         {
          "font": {
           "color": "#000000",
           "size": 8
          },
          "showarrow": false,
          "text": "1.04",
          "x": 8,
          "xref": "x",
          "y": 6,
          "yref": "y"
         },
         {
          "font": {
           "color": "#FFFFFF",
           "size": 8
          },
          "showarrow": false,
          "text": "-0.88",
          "x": 9,
          "xref": "x",
          "y": 6,
          "yref": "y"
         },
         {
          "font": {
           "color": "#FFFFFF",
           "size": 8
          },
          "showarrow": false,
          "text": "-0.13",
          "x": 10,
          "xref": "x",
          "y": 6,
          "yref": "y"
         },
         {
          "font": {
           "color": "#FFFFFF",
           "size": 8
          },
          "showarrow": false,
          "text": "-1.64",
          "x": 11,
          "xref": "x",
          "y": 6,
          "yref": "y"
         },
         {
          "font": {
           "color": "#FFFFFF",
           "size": 8
          },
          "showarrow": false,
          "text": "-0.83",
          "x": 12,
          "xref": "x",
          "y": 6,
          "yref": "y"
         },
         {
          "font": {
           "color": "#FFFFFF",
           "size": 8
          },
          "showarrow": false,
          "text": "0.2",
          "x": 13,
          "xref": "x",
          "y": 6,
          "yref": "y"
         },
         {
          "font": {
           "color": "#000000",
           "size": 8
          },
          "showarrow": false,
          "text": "0.7",
          "x": 14,
          "xref": "x",
          "y": 6,
          "yref": "y"
         },
         {
          "font": {
           "color": "#FFFFFF",
           "size": 8
          },
          "showarrow": false,
          "text": "-1.52",
          "x": 15,
          "xref": "x",
          "y": 6,
          "yref": "y"
         },
         {
          "font": {
           "color": "#FFFFFF",
           "size": 8
          },
          "showarrow": false,
          "text": "-2.72",
          "x": 16,
          "xref": "x",
          "y": 6,
          "yref": "y"
         },
         {
          "font": {
           "color": "#FFFFFF",
           "size": 8
          },
          "showarrow": false,
          "text": "0.46",
          "x": 17,
          "xref": "x",
          "y": 6,
          "yref": "y"
         },
         {
          "font": {
           "color": "#FFFFFF",
           "size": 8
          },
          "showarrow": false,
          "text": "-1.92",
          "x": 18,
          "xref": "x",
          "y": 6,
          "yref": "y"
         },
         {
          "font": {
           "color": "#FFFFFF",
           "size": 8
          },
          "showarrow": false,
          "text": "-1.31",
          "x": 19,
          "xref": "x",
          "y": 6,
          "yref": "y"
         },
         {
          "font": {
           "color": "#FFFFFF",
           "size": 8
          },
          "showarrow": false,
          "text": "-1.05",
          "x": 0,
          "xref": "x",
          "y": 7,
          "yref": "y"
         },
         {
          "font": {
           "color": "#FFFFFF",
           "size": 8
          },
          "showarrow": false,
          "text": "-1.03",
          "x": 1,
          "xref": "x",
          "y": 7,
          "yref": "y"
         },
         {
          "font": {
           "color": "#FFFFFF",
           "size": 8
          },
          "showarrow": false,
          "text": "-0.5",
          "x": 2,
          "xref": "x",
          "y": 7,
          "yref": "y"
         },
         {
          "font": {
           "color": "#FFFFFF",
           "size": 8
          },
          "showarrow": false,
          "text": "-1.47",
          "x": 3,
          "xref": "x",
          "y": 7,
          "yref": "y"
         },
         {
          "font": {
           "color": "#FFFFFF",
           "size": 8
          },
          "showarrow": false,
          "text": "-0.44",
          "x": 4,
          "xref": "x",
          "y": 7,
          "yref": "y"
         },
         {
          "font": {
           "color": "#FFFFFF",
           "size": 8
          },
          "showarrow": false,
          "text": "-1.29",
          "x": 5,
          "xref": "x",
          "y": 7,
          "yref": "y"
         },
         {
          "font": {
           "color": "#000000",
           "size": 8
          },
          "showarrow": false,
          "text": "1.61",
          "x": 6,
          "xref": "x",
          "y": 7,
          "yref": "y"
         },
         {
          "font": {
           "color": "#FFFFFF",
           "size": 8
          },
          "showarrow": false,
          "text": "0.13",
          "x": 7,
          "xref": "x",
          "y": 7,
          "yref": "y"
         },
         {
          "font": {
           "color": "#FFFFFF",
           "size": 8
          },
          "showarrow": false,
          "text": "-1.22",
          "x": 8,
          "xref": "x",
          "y": 7,
          "yref": "y"
         },
         {
          "font": {
           "color": "#FFFFFF",
           "size": 8
          },
          "showarrow": false,
          "text": "-0.13",
          "x": 9,
          "xref": "x",
          "y": 7,
          "yref": "y"
         },
         {
          "font": {
           "color": "#FFFFFF",
           "size": 8
          },
          "showarrow": false,
          "text": "-0.77",
          "x": 10,
          "xref": "x",
          "y": 7,
          "yref": "y"
         },
         {
          "font": {
           "color": "#FFFFFF",
           "size": 8
          },
          "showarrow": false,
          "text": "-0.58",
          "x": 11,
          "xref": "x",
          "y": 7,
          "yref": "y"
         },
         {
          "font": {
           "color": "#FFFFFF",
           "size": 8
          },
          "showarrow": false,
          "text": "-0.04",
          "x": 12,
          "xref": "x",
          "y": 7,
          "yref": "y"
         },
         {
          "font": {
           "color": "#FFFFFF",
           "size": 8
          },
          "showarrow": false,
          "text": "0.27",
          "x": 13,
          "xref": "x",
          "y": 7,
          "yref": "y"
         },
         {
          "font": {
           "color": "#FFFFFF",
           "size": 8
          },
          "showarrow": false,
          "text": "0.28",
          "x": 14,
          "xref": "x",
          "y": 7,
          "yref": "y"
         },
         {
          "font": {
           "color": "#FFFFFF",
           "size": 8
          },
          "showarrow": false,
          "text": "-0.39",
          "x": 15,
          "xref": "x",
          "y": 7,
          "yref": "y"
         },
         {
          "font": {
           "color": "#FFFFFF",
           "size": 8
          },
          "showarrow": false,
          "text": "-0.42",
          "x": 16,
          "xref": "x",
          "y": 7,
          "yref": "y"
         },
         {
          "font": {
           "color": "#FFFFFF",
           "size": 8
          },
          "showarrow": false,
          "text": "-0.66",
          "x": 17,
          "xref": "x",
          "y": 7,
          "yref": "y"
         },
         {
          "font": {
           "color": "#000000",
           "size": 8
          },
          "showarrow": false,
          "text": "1.54",
          "x": 18,
          "xref": "x",
          "y": 7,
          "yref": "y"
         },
         {
          "font": {
           "color": "#FFFFFF",
           "size": 8
          },
          "showarrow": false,
          "text": "-0.6",
          "x": 19,
          "xref": "x",
          "y": 7,
          "yref": "y"
         },
         {
          "font": {
           "color": "#FFFFFF",
           "size": 8
          },
          "showarrow": false,
          "text": "-1.41",
          "x": 0,
          "xref": "x",
          "y": 8,
          "yref": "y"
         },
         {
          "font": {
           "color": "#FFFFFF",
           "size": 8
          },
          "showarrow": false,
          "text": "0.25",
          "x": 1,
          "xref": "x",
          "y": 8,
          "yref": "y"
         },
         {
          "font": {
           "color": "#FFFFFF",
           "size": 8
          },
          "showarrow": false,
          "text": "-0.33",
          "x": 2,
          "xref": "x",
          "y": 8,
          "yref": "y"
         },
         {
          "font": {
           "color": "#FFFFFF",
           "size": 8
          },
          "showarrow": false,
          "text": "0.09",
          "x": 3,
          "xref": "x",
          "y": 8,
          "yref": "y"
         },
         {
          "font": {
           "color": "#000000",
           "size": 8
          },
          "showarrow": false,
          "text": "0.64",
          "x": 4,
          "xref": "x",
          "y": 8,
          "yref": "y"
         },
         {
          "font": {
           "color": "#FFFFFF",
           "size": 8
          },
          "showarrow": false,
          "text": "-0.84",
          "x": 5,
          "xref": "x",
          "y": 8,
          "yref": "y"
         },
         {
          "font": {
           "color": "#000000",
           "size": 8
          },
          "showarrow": false,
          "text": "0.82",
          "x": 6,
          "xref": "x",
          "y": 8,
          "yref": "y"
         },
         {
          "font": {
           "color": "#FFFFFF",
           "size": 8
          },
          "showarrow": false,
          "text": "-0.48",
          "x": 7,
          "xref": "x",
          "y": 8,
          "yref": "y"
         },
         {
          "font": {
           "color": "#000000",
           "size": 8
          },
          "showarrow": false,
          "text": "1.41",
          "x": 8,
          "xref": "x",
          "y": 8,
          "yref": "y"
         },
         {
          "font": {
           "color": "#FFFFFF",
           "size": 8
          },
          "showarrow": false,
          "text": "-0.46",
          "x": 9,
          "xref": "x",
          "y": 8,
          "yref": "y"
         },
         {
          "font": {
           "color": "#FFFFFF",
           "size": 8
          },
          "showarrow": false,
          "text": "0.31",
          "x": 10,
          "xref": "x",
          "y": 8,
          "yref": "y"
         },
         {
          "font": {
           "color": "#000000",
           "size": 8
          },
          "showarrow": false,
          "text": "2.46",
          "x": 11,
          "xref": "x",
          "y": 8,
          "yref": "y"
         },
         {
          "font": {
           "color": "#000000",
           "size": 8
          },
          "showarrow": false,
          "text": "0.62",
          "x": 12,
          "xref": "x",
          "y": 8,
          "yref": "y"
         },
         {
          "font": {
           "color": "#000000",
           "size": 8
          },
          "showarrow": false,
          "text": "1.67",
          "x": 13,
          "xref": "x",
          "y": 8,
          "yref": "y"
         },
         {
          "font": {
           "color": "#FFFFFF",
           "size": 8
          },
          "showarrow": false,
          "text": "-0.24",
          "x": 14,
          "xref": "x",
          "y": 8,
          "yref": "y"
         },
         {
          "font": {
           "color": "#FFFFFF",
           "size": 8
          },
          "showarrow": false,
          "text": "-1.46",
          "x": 15,
          "xref": "x",
          "y": 8,
          "yref": "y"
         },
         {
          "font": {
           "color": "#000000",
           "size": 8
          },
          "showarrow": false,
          "text": "1.33",
          "x": 16,
          "xref": "x",
          "y": 8,
          "yref": "y"
         },
         {
          "font": {
           "color": "#FFFFFF",
           "size": 8
          },
          "showarrow": false,
          "text": "-1.04",
          "x": 17,
          "xref": "x",
          "y": 8,
          "yref": "y"
         },
         {
          "font": {
           "color": "#FFFFFF",
           "size": 8
          },
          "showarrow": false,
          "text": "-0.43",
          "x": 18,
          "xref": "x",
          "y": 8,
          "yref": "y"
         },
         {
          "font": {
           "color": "#FFFFFF",
           "size": 8
          },
          "showarrow": false,
          "text": "-0.63",
          "x": 19,
          "xref": "x",
          "y": 8,
          "yref": "y"
         },
         {
          "font": {
           "color": "#FFFFFF",
           "size": 8
          },
          "showarrow": false,
          "text": "0.19",
          "x": 0,
          "xref": "x",
          "y": 9,
          "yref": "y"
         },
         {
          "font": {
           "color": "#FFFFFF",
           "size": 8
          },
          "showarrow": false,
          "text": "0.21",
          "x": 1,
          "xref": "x",
          "y": 9,
          "yref": "y"
         },
         {
          "font": {
           "color": "#FFFFFF",
           "size": 8
          },
          "showarrow": false,
          "text": "-0.99",
          "x": 2,
          "xref": "x",
          "y": 9,
          "yref": "y"
         },
         {
          "font": {
           "color": "#FFFFFF",
           "size": 8
          },
          "showarrow": false,
          "text": "-0.05",
          "x": 3,
          "xref": "x",
          "y": 9,
          "yref": "y"
         },
         {
          "font": {
           "color": "#FFFFFF",
           "size": 8
          },
          "showarrow": false,
          "text": "-0.85",
          "x": 4,
          "xref": "x",
          "y": 9,
          "yref": "y"
         },
         {
          "font": {
           "color": "#FFFFFF",
           "size": 8
          },
          "showarrow": false,
          "text": "-0.23",
          "x": 5,
          "xref": "x",
          "y": 9,
          "yref": "y"
         },
         {
          "font": {
           "color": "#000000",
           "size": 8
          },
          "showarrow": false,
          "text": "1.56",
          "x": 6,
          "xref": "x",
          "y": 9,
          "yref": "y"
         },
         {
          "font": {
           "color": "#FFFFFF",
           "size": 8
          },
          "showarrow": false,
          "text": "-1.31",
          "x": 7,
          "xref": "x",
          "y": 9,
          "yref": "y"
         },
         {
          "font": {
           "color": "#000000",
           "size": 8
          },
          "showarrow": false,
          "text": "1.06",
          "x": 8,
          "xref": "x",
          "y": 9,
          "yref": "y"
         },
         {
          "font": {
           "color": "#FFFFFF",
           "size": 8
          },
          "showarrow": false,
          "text": "-2.26",
          "x": 9,
          "xref": "x",
          "y": 9,
          "yref": "y"
         },
         {
          "font": {
           "color": "#FFFFFF",
           "size": 8
          },
          "showarrow": false,
          "text": "-0.22",
          "x": 10,
          "xref": "x",
          "y": 9,
          "yref": "y"
         },
         {
          "font": {
           "color": "#FFFFFF",
           "size": 8
          },
          "showarrow": false,
          "text": "-1.2",
          "x": 11,
          "xref": "x",
          "y": 9,
          "yref": "y"
         },
         {
          "font": {
           "color": "#FFFFFF",
           "size": 8
          },
          "showarrow": false,
          "text": "-1.01",
          "x": 12,
          "xref": "x",
          "y": 9,
          "yref": "y"
         },
         {
          "font": {
           "color": "#FFFFFF",
           "size": 8
          },
          "showarrow": false,
          "text": "-0.83",
          "x": 13,
          "xref": "x",
          "y": 9,
          "yref": "y"
         },
         {
          "font": {
           "color": "#FFFFFF",
           "size": 8
          },
          "showarrow": false,
          "text": "0.42",
          "x": 14,
          "xref": "x",
          "y": 9,
          "yref": "y"
         },
         {
          "font": {
           "color": "#FFFFFF",
           "size": 8
          },
          "showarrow": false,
          "text": "-1.77",
          "x": 15,
          "xref": "x",
          "y": 9,
          "yref": "y"
         },
         {
          "font": {
           "color": "#FFFFFF",
           "size": 8
          },
          "showarrow": false,
          "text": "-0.78",
          "x": 16,
          "xref": "x",
          "y": 9,
          "yref": "y"
         },
         {
          "font": {
           "color": "#FFFFFF",
           "size": 8
          },
          "showarrow": false,
          "text": "-0.61",
          "x": 17,
          "xref": "x",
          "y": 9,
          "yref": "y"
         },
         {
          "font": {
           "color": "#FFFFFF",
           "size": 8
          },
          "showarrow": false,
          "text": "0.22",
          "x": 18,
          "xref": "x",
          "y": 9,
          "yref": "y"
         },
         {
          "font": {
           "color": "#FFFFFF",
           "size": 8
          },
          "showarrow": false,
          "text": "-0.17",
          "x": 19,
          "xref": "x",
          "y": 9,
          "yref": "y"
         },
         {
          "font": {
           "color": "#FFFFFF",
           "size": 8
          },
          "showarrow": false,
          "text": "-0.06",
          "x": 0,
          "xref": "x",
          "y": 10,
          "yref": "y"
         },
         {
          "font": {
           "color": "#FFFFFF",
           "size": 8
          },
          "showarrow": false,
          "text": "-1.3",
          "x": 1,
          "xref": "x",
          "y": 10,
          "yref": "y"
         },
         {
          "font": {
           "color": "#000000",
           "size": 8
          },
          "showarrow": false,
          "text": "1.37",
          "x": 2,
          "xref": "x",
          "y": 10,
          "yref": "y"
         },
         {
          "font": {
           "color": "#FFFFFF",
           "size": 8
          },
          "showarrow": false,
          "text": "-0.2",
          "x": 3,
          "xref": "x",
          "y": 10,
          "yref": "y"
         },
         {
          "font": {
           "color": "#FFFFFF",
           "size": 8
          },
          "showarrow": false,
          "text": "-0.38",
          "x": 4,
          "xref": "x",
          "y": 10,
          "yref": "y"
         },
         {
          "font": {
           "color": "#FFFFFF",
           "size": 8
          },
          "showarrow": false,
          "text": "-1.31",
          "x": 5,
          "xref": "x",
          "y": 10,
          "yref": "y"
         },
         {
          "font": {
           "color": "#FFFFFF",
           "size": 8
          },
          "showarrow": false,
          "text": "0.04",
          "x": 6,
          "xref": "x",
          "y": 10,
          "yref": "y"
         },
         {
          "font": {
           "color": "#FFFFFF",
           "size": 8
          },
          "showarrow": false,
          "text": "-0.83",
          "x": 7,
          "xref": "x",
          "y": 10,
          "yref": "y"
         },
         {
          "font": {
           "color": "#FFFFFF",
           "size": 8
          },
          "showarrow": false,
          "text": "0.04",
          "x": 8,
          "xref": "x",
          "y": 10,
          "yref": "y"
         },
         {
          "font": {
           "color": "#000000",
           "size": 8
          },
          "showarrow": false,
          "text": "0.97",
          "x": 9,
          "xref": "x",
          "y": 10,
          "yref": "y"
         },
         {
          "font": {
           "color": "#FFFFFF",
           "size": 8
          },
          "showarrow": false,
          "text": "-0.55",
          "x": 10,
          "xref": "x",
          "y": 10,
          "yref": "y"
         },
         {
          "font": {
           "color": "#000000",
           "size": 8
          },
          "showarrow": false,
          "text": "1.3",
          "x": 11,
          "xref": "x",
          "y": 10,
          "yref": "y"
         },
         {
          "font": {
           "color": "#FFFFFF",
           "size": 8
          },
          "showarrow": false,
          "text": "-0.72",
          "x": 12,
          "xref": "x",
          "y": 10,
          "yref": "y"
         },
         {
          "font": {
           "color": "#FFFFFF",
           "size": 8
          },
          "showarrow": false,
          "text": "-0.48",
          "x": 13,
          "xref": "x",
          "y": 10,
          "yref": "y"
         },
         {
          "font": {
           "color": "#FFFFFF",
           "size": 8
          },
          "showarrow": false,
          "text": "0.23",
          "x": 14,
          "xref": "x",
          "y": 10,
          "yref": "y"
         },
         {
          "font": {
           "color": "#FFFFFF",
           "size": 8
          },
          "showarrow": false,
          "text": "-1.49",
          "x": 15,
          "xref": "x",
          "y": 10,
          "yref": "y"
         },
         {
          "font": {
           "color": "#FFFFFF",
           "size": 8
          },
          "showarrow": false,
          "text": "-0.07",
          "x": 16,
          "xref": "x",
          "y": 10,
          "yref": "y"
         },
         {
          "font": {
           "color": "#FFFFFF",
           "size": 8
          },
          "showarrow": false,
          "text": "-1.15",
          "x": 17,
          "xref": "x",
          "y": 10,
          "yref": "y"
         },
         {
          "font": {
           "color": "#FFFFFF",
           "size": 8
          },
          "showarrow": false,
          "text": "0.06",
          "x": 18,
          "xref": "x",
          "y": 10,
          "yref": "y"
         },
         {
          "font": {
           "color": "#FFFFFF",
           "size": 8
          },
          "showarrow": false,
          "text": "-0.66",
          "x": 19,
          "xref": "x",
          "y": 10,
          "yref": "y"
         },
         {
          "font": {
           "color": "#FFFFFF",
           "size": 8
          },
          "showarrow": false,
          "text": "-0.83",
          "x": 0,
          "xref": "x",
          "y": 11,
          "yref": "y"
         },
         {
          "font": {
           "color": "#FFFFFF",
           "size": 8
          },
          "showarrow": false,
          "text": "0.37",
          "x": 1,
          "xref": "x",
          "y": 11,
          "yref": "y"
         },
         {
          "font": {
           "color": "#FFFFFF",
           "size": 8
          },
          "showarrow": false,
          "text": "-0.53",
          "x": 2,
          "xref": "x",
          "y": 11,
          "yref": "y"
         },
         {
          "font": {
           "color": "#FFFFFF",
           "size": 8
          },
          "showarrow": false,
          "text": "0.2",
          "x": 3,
          "xref": "x",
          "y": 11,
          "yref": "y"
         },
         {
          "font": {
           "color": "#000000",
           "size": 8
          },
          "showarrow": false,
          "text": "1.48",
          "x": 4,
          "xref": "x",
          "y": 11,
          "yref": "y"
         },
         {
          "font": {
           "color": "#000000",
           "size": 8
          },
          "showarrow": false,
          "text": "1.31",
          "x": 5,
          "xref": "x",
          "y": 11,
          "yref": "y"
         },
         {
          "font": {
           "color": "#FFFFFF",
           "size": 8
          },
          "showarrow": false,
          "text": "-1.2",
          "x": 6,
          "xref": "x",
          "y": 11,
          "yref": "y"
         },
         {
          "font": {
           "color": "#000000",
           "size": 8
          },
          "showarrow": false,
          "text": "1.54",
          "x": 7,
          "xref": "x",
          "y": 11,
          "yref": "y"
         },
         {
          "font": {
           "color": "#FFFFFF",
           "size": 8
          },
          "showarrow": false,
          "text": "-1.71",
          "x": 8,
          "xref": "x",
          "y": 11,
          "yref": "y"
         },
         {
          "font": {
           "color": "#FFFFFF",
           "size": 8
          },
          "showarrow": false,
          "text": "0.07",
          "x": 9,
          "xref": "x",
          "y": 11,
          "yref": "y"
         },
         {
          "font": {
           "color": "#FFFFFF",
           "size": 8
          },
          "showarrow": false,
          "text": "0.36",
          "x": 10,
          "xref": "x",
          "y": 11,
          "yref": "y"
         },
         {
          "font": {
           "color": "#FFFFFF",
           "size": 8
          },
          "showarrow": false,
          "text": "-2.76",
          "x": 11,
          "xref": "x",
          "y": 11,
          "yref": "y"
         },
         {
          "font": {
           "color": "#000000",
           "size": 8
          },
          "showarrow": false,
          "text": "0.57",
          "x": 12,
          "xref": "x",
          "y": 11,
          "yref": "y"
         },
         {
          "font": {
           "color": "#000000",
           "size": 8
          },
          "showarrow": false,
          "text": "1.45",
          "x": 13,
          "xref": "x",
          "y": 11,
          "yref": "y"
         },
         {
          "font": {
           "color": "#000000",
           "size": 8
          },
          "showarrow": false,
          "text": "0.74",
          "x": 14,
          "xref": "x",
          "y": 11,
          "yref": "y"
         },
         {
          "font": {
           "color": "#000000",
           "size": 8
          },
          "showarrow": false,
          "text": "2.33",
          "x": 15,
          "xref": "x",
          "y": 11,
          "yref": "y"
         },
         {
          "font": {
           "color": "#FFFFFF",
           "size": 8
          },
          "showarrow": false,
          "text": "-1.66",
          "x": 16,
          "xref": "x",
          "y": 11,
          "yref": "y"
         },
         {
          "font": {
           "color": "#000000",
           "size": 8
          },
          "showarrow": false,
          "text": "2.4",
          "x": 17,
          "xref": "x",
          "y": 11,
          "yref": "y"
         },
         {
          "font": {
           "color": "#000000",
           "size": 8
          },
          "showarrow": false,
          "text": "0.78",
          "x": 18,
          "xref": "x",
          "y": 11,
          "yref": "y"
         },
         {
          "font": {
           "color": "#FFFFFF",
           "size": 8
          },
          "showarrow": false,
          "text": "-0.62",
          "x": 19,
          "xref": "x",
          "y": 11,
          "yref": "y"
         },
         {
          "font": {
           "color": "#000000",
           "size": 8
          },
          "showarrow": false,
          "text": "0.82",
          "x": 0,
          "xref": "x",
          "y": 12,
          "yref": "y"
         },
         {
          "font": {
           "color": "#FFFFFF",
           "size": 8
          },
          "showarrow": false,
          "text": "-0.08",
          "x": 1,
          "xref": "x",
          "y": 12,
          "yref": "y"
         },
         {
          "font": {
           "color": "#000000",
           "size": 8
          },
          "showarrow": false,
          "text": "1.57",
          "x": 2,
          "xref": "x",
          "y": 12,
          "yref": "y"
         },
         {
          "font": {
           "color": "#FFFFFF",
           "size": 8
          },
          "showarrow": false,
          "text": "0.16",
          "x": 3,
          "xref": "x",
          "y": 12,
          "yref": "y"
         },
         {
          "font": {
           "color": "#FFFFFF",
           "size": 8
          },
          "showarrow": false,
          "text": "-0.28",
          "x": 4,
          "xref": "x",
          "y": 12,
          "yref": "y"
         },
         {
          "font": {
           "color": "#FFFFFF",
           "size": 8
          },
          "showarrow": false,
          "text": "0.31",
          "x": 5,
          "xref": "x",
          "y": 12,
          "yref": "y"
         },
         {
          "font": {
           "color": "#000000",
           "size": 8
          },
          "showarrow": false,
          "text": "0.58",
          "x": 6,
          "xref": "x",
          "y": 12,
          "yref": "y"
         },
         {
          "font": {
           "color": "#FFFFFF",
           "size": 8
          },
          "showarrow": false,
          "text": "0.44",
          "x": 7,
          "xref": "x",
          "y": 12,
          "yref": "y"
         },
         {
          "font": {
           "color": "#FFFFFF",
           "size": 8
          },
          "showarrow": false,
          "text": "0.33",
          "x": 8,
          "xref": "x",
          "y": 12,
          "yref": "y"
         },
         {
          "font": {
           "color": "#FFFFFF",
           "size": 8
          },
          "showarrow": false,
          "text": "0.5",
          "x": 9,
          "xref": "x",
          "y": 12,
          "yref": "y"
         },
         {
          "font": {
           "color": "#FFFFFF",
           "size": 8
          },
          "showarrow": false,
          "text": "-0.52",
          "x": 10,
          "xref": "x",
          "y": 12,
          "yref": "y"
         },
         {
          "font": {
           "color": "#FFFFFF",
           "size": 8
          },
          "showarrow": false,
          "text": "-0.13",
          "x": 11,
          "xref": "x",
          "y": 12,
          "yref": "y"
         },
         {
          "font": {
           "color": "#FFFFFF",
           "size": 8
          },
          "showarrow": false,
          "text": "-0.39",
          "x": 12,
          "xref": "x",
          "y": 12,
          "yref": "y"
         },
         {
          "font": {
           "color": "#000000",
           "size": 8
          },
          "showarrow": false,
          "text": "1.29",
          "x": 13,
          "xref": "x",
          "y": 12,
          "yref": "y"
         },
         {
          "font": {
           "color": "#FFFFFF",
           "size": 8
          },
          "showarrow": false,
          "text": "-0.61",
          "x": 14,
          "xref": "x",
          "y": 12,
          "yref": "y"
         },
         {
          "font": {
           "color": "#FFFFFF",
           "size": 8
          },
          "showarrow": false,
          "text": "-0.47",
          "x": 15,
          "xref": "x",
          "y": 12,
          "yref": "y"
         },
         {
          "font": {
           "color": "#000000",
           "size": 8
          },
          "showarrow": false,
          "text": "2.29",
          "x": 16,
          "xref": "x",
          "y": 12,
          "yref": "y"
         },
         {
          "font": {
           "color": "#FFFFFF",
           "size": 8
          },
          "showarrow": false,
          "text": "-0.52",
          "x": 17,
          "xref": "x",
          "y": 12,
          "yref": "y"
         },
         {
          "font": {
           "color": "#000000",
           "size": 8
          },
          "showarrow": false,
          "text": "0.58",
          "x": 18,
          "xref": "x",
          "y": 12,
          "yref": "y"
         },
         {
          "font": {
           "color": "#FFFFFF",
           "size": 8
          },
          "showarrow": false,
          "text": "0.48",
          "x": 19,
          "xref": "x",
          "y": 12,
          "yref": "y"
         },
         {
          "font": {
           "color": "#000000",
           "size": 8
          },
          "showarrow": false,
          "text": "0.82",
          "x": 0,
          "xref": "x",
          "y": 13,
          "yref": "y"
         },
         {
          "font": {
           "color": "#FFFFFF",
           "size": 8
          },
          "showarrow": false,
          "text": "-0.93",
          "x": 1,
          "xref": "x",
          "y": 13,
          "yref": "y"
         },
         {
          "font": {
           "color": "#FFFFFF",
           "size": 8
          },
          "showarrow": false,
          "text": "-0.27",
          "x": 2,
          "xref": "x",
          "y": 13,
          "yref": "y"
         },
         {
          "font": {
           "color": "#FFFFFF",
           "size": 8
          },
          "showarrow": false,
          "text": "0.12",
          "x": 3,
          "xref": "x",
          "y": 13,
          "yref": "y"
         },
         {
          "font": {
           "color": "#000000",
           "size": 8
          },
          "showarrow": false,
          "text": "0.6",
          "x": 4,
          "xref": "x",
          "y": 13,
          "yref": "y"
         },
         {
          "font": {
           "color": "#000000",
           "size": 8
          },
          "showarrow": false,
          "text": "0.88",
          "x": 5,
          "xref": "x",
          "y": 13,
          "yref": "y"
         },
         {
          "font": {
           "color": "#000000",
           "size": 8
          },
          "showarrow": false,
          "text": "0.56",
          "x": 6,
          "xref": "x",
          "y": 13,
          "yref": "y"
         },
         {
          "font": {
           "color": "#FFFFFF",
           "size": 8
          },
          "showarrow": false,
          "text": "0.25",
          "x": 7,
          "xref": "x",
          "y": 13,
          "yref": "y"
         },
         {
          "font": {
           "color": "#FFFFFF",
           "size": 8
          },
          "showarrow": false,
          "text": "0.41",
          "x": 8,
          "xref": "x",
          "y": 13,
          "yref": "y"
         },
         {
          "font": {
           "color": "#FFFFFF",
           "size": 8
          },
          "showarrow": false,
          "text": "-0.47",
          "x": 9,
          "xref": "x",
          "y": 13,
          "yref": "y"
         },
         {
          "font": {
           "color": "#000000",
           "size": 8
          },
          "showarrow": false,
          "text": "0.86",
          "x": 10,
          "xref": "x",
          "y": 13,
          "yref": "y"
         },
         {
          "font": {
           "color": "#FFFFFF",
           "size": 8
          },
          "showarrow": false,
          "text": "-0.87",
          "x": 11,
          "xref": "x",
          "y": 13,
          "yref": "y"
         },
         {
          "font": {
           "color": "#FFFFFF",
           "size": 8
          },
          "showarrow": false,
          "text": "-0.7",
          "x": 12,
          "xref": "x",
          "y": 13,
          "yref": "y"
         },
         {
          "font": {
           "color": "#FFFFFF",
           "size": 8
          },
          "showarrow": false,
          "text": "-0.13",
          "x": 13,
          "xref": "x",
          "y": 13,
          "yref": "y"
         },
         {
          "font": {
           "color": "#FFFFFF",
           "size": 8
          },
          "showarrow": false,
          "text": "-0.56",
          "x": 14,
          "xref": "x",
          "y": 13,
          "yref": "y"
         },
         {
          "font": {
           "color": "#FFFFFF",
           "size": 8
          },
          "showarrow": false,
          "text": "0.02",
          "x": 15,
          "xref": "x",
          "y": 13,
          "yref": "y"
         },
         {
          "font": {
           "color": "#000000",
           "size": 8
          },
          "showarrow": false,
          "text": "1.53",
          "x": 16,
          "xref": "x",
          "y": 13,
          "yref": "y"
         },
         {
          "font": {
           "color": "#000000",
           "size": 8
          },
          "showarrow": false,
          "text": "1.67",
          "x": 17,
          "xref": "x",
          "y": 13,
          "yref": "y"
         },
         {
          "font": {
           "color": "#FFFFFF",
           "size": 8
          },
          "showarrow": false,
          "text": "-0.59",
          "x": 18,
          "xref": "x",
          "y": 13,
          "yref": "y"
         },
         {
          "font": {
           "color": "#FFFFFF",
           "size": 8
          },
          "showarrow": false,
          "text": "-0.69",
          "x": 19,
          "xref": "x",
          "y": 13,
          "yref": "y"
         },
         {
          "font": {
           "color": "#FFFFFF",
           "size": 8
          },
          "showarrow": false,
          "text": "-0.4",
          "x": 0,
          "xref": "x",
          "y": 14,
          "yref": "y"
         },
         {
          "font": {
           "color": "#FFFFFF",
           "size": 8
          },
          "showarrow": false,
          "text": "-0.46",
          "x": 1,
          "xref": "x",
          "y": 14,
          "yref": "y"
         },
         {
          "font": {
           "color": "#000000",
           "size": 8
          },
          "showarrow": false,
          "text": "0.88",
          "x": 2,
          "xref": "x",
          "y": 14,
          "yref": "y"
         },
         {
          "font": {
           "color": "#FFFFFF",
           "size": 8
          },
          "showarrow": false,
          "text": "-0.33",
          "x": 3,
          "xref": "x",
          "y": 14,
          "yref": "y"
         },
         {
          "font": {
           "color": "#FFFFFF",
           "size": 8
          },
          "showarrow": false,
          "text": "-0.51",
          "x": 4,
          "xref": "x",
          "y": 14,
          "yref": "y"
         },
         {
          "font": {
           "color": "#000000",
           "size": 8
          },
          "showarrow": false,
          "text": "1.54",
          "x": 5,
          "xref": "x",
          "y": 14,
          "yref": "y"
         },
         {
          "font": {
           "color": "#FFFFFF",
           "size": 8
          },
          "showarrow": false,
          "text": "0.16",
          "x": 6,
          "xref": "x",
          "y": 14,
          "yref": "y"
         },
         {
          "font": {
           "color": "#FFFFFF",
           "size": 8
          },
          "showarrow": false,
          "text": "-0.22",
          "x": 7,
          "xref": "x",
          "y": 14,
          "yref": "y"
         },
         {
          "font": {
           "color": "#FFFFFF",
           "size": 8
          },
          "showarrow": false,
          "text": "-0.16",
          "x": 8,
          "xref": "x",
          "y": 14,
          "yref": "y"
         },
         {
          "font": {
           "color": "#000000",
           "size": 8
          },
          "showarrow": false,
          "text": "1.57",
          "x": 9,
          "xref": "x",
          "y": 14,
          "yref": "y"
         },
         {
          "font": {
           "color": "#FFFFFF",
           "size": 8
          },
          "showarrow": false,
          "text": "-1.33",
          "x": 10,
          "xref": "x",
          "y": 14,
          "yref": "y"
         },
         {
          "font": {
           "color": "#FFFFFF",
           "size": 8
          },
          "showarrow": false,
          "text": "0.12",
          "x": 11,
          "xref": "x",
          "y": 14,
          "yref": "y"
         },
         {
          "font": {
           "color": "#000000",
           "size": 8
          },
          "showarrow": false,
          "text": "0.86",
          "x": 12,
          "xref": "x",
          "y": 14,
          "yref": "y"
         },
         {
          "font": {
           "color": "#FFFFFF",
           "size": 8
          },
          "showarrow": false,
          "text": "-1.09",
          "x": 13,
          "xref": "x",
          "y": 14,
          "yref": "y"
         },
         {
          "font": {
           "color": "#FFFFFF",
           "size": 8
          },
          "showarrow": false,
          "text": "-0.55",
          "x": 14,
          "xref": "x",
          "y": 14,
          "yref": "y"
         },
         {
          "font": {
           "color": "#000000",
           "size": 8
          },
          "showarrow": false,
          "text": "2.14",
          "x": 15,
          "xref": "x",
          "y": 14,
          "yref": "y"
         },
         {
          "font": {
           "color": "#FFFFFF",
           "size": 8
          },
          "showarrow": false,
          "text": "-0.17",
          "x": 16,
          "xref": "x",
          "y": 14,
          "yref": "y"
         },
         {
          "font": {
           "color": "#FFFFFF",
           "size": 8
          },
          "showarrow": false,
          "text": "-0.44",
          "x": 17,
          "xref": "x",
          "y": 14,
          "yref": "y"
         },
         {
          "font": {
           "color": "#000000",
           "size": 8
          },
          "showarrow": false,
          "text": "0.57",
          "x": 18,
          "xref": "x",
          "y": 14,
          "yref": "y"
         },
         {
          "font": {
           "color": "#FFFFFF",
           "size": 8
          },
          "showarrow": false,
          "text": "-0.66",
          "x": 19,
          "xref": "x",
          "y": 14,
          "yref": "y"
         },
         {
          "font": {
           "color": "#FFFFFF",
           "size": 8
          },
          "showarrow": false,
          "text": "-0.16",
          "x": 0,
          "xref": "x",
          "y": 15,
          "yref": "y"
         },
         {
          "font": {
           "color": "#000000",
           "size": 8
          },
          "showarrow": false,
          "text": "0.64",
          "x": 1,
          "xref": "x",
          "y": 15,
          "yref": "y"
         },
         {
          "font": {
           "color": "#FFFFFF",
           "size": 8
          },
          "showarrow": false,
          "text": "0.27",
          "x": 2,
          "xref": "x",
          "y": 15,
          "yref": "y"
         },
         {
          "font": {
           "color": "#FFFFFF",
           "size": 8
          },
          "showarrow": false,
          "text": "-0.87",
          "x": 3,
          "xref": "x",
          "y": 15,
          "yref": "y"
         },
         {
          "font": {
           "color": "#000000",
           "size": 8
          },
          "showarrow": false,
          "text": "0.92",
          "x": 4,
          "xref": "x",
          "y": 15,
          "yref": "y"
         },
         {
          "font": {
           "color": "#FFFFFF",
           "size": 8
          },
          "showarrow": false,
          "text": "-1.37",
          "x": 5,
          "xref": "x",
          "y": 15,
          "yref": "y"
         },
         {
          "font": {
           "color": "#FFFFFF",
           "size": 8
          },
          "showarrow": false,
          "text": "0.15",
          "x": 6,
          "xref": "x",
          "y": 15,
          "yref": "y"
         },
         {
          "font": {
           "color": "#FFFFFF",
           "size": 8
          },
          "showarrow": false,
          "text": "-0.32",
          "x": 7,
          "xref": "x",
          "y": 15,
          "yref": "y"
         },
         {
          "font": {
           "color": "#FFFFFF",
           "size": 8
          },
          "showarrow": false,
          "text": "-0.31",
          "x": 8,
          "xref": "x",
          "y": 15,
          "yref": "y"
         },
         {
          "font": {
           "color": "#FFFFFF",
           "size": 8
          },
          "showarrow": false,
          "text": "-0.49",
          "x": 9,
          "xref": "x",
          "y": 15,
          "yref": "y"
         },
         {
          "font": {
           "color": "#FFFFFF",
           "size": 8
          },
          "showarrow": false,
          "text": "-0.17",
          "x": 10,
          "xref": "x",
          "y": 15,
          "yref": "y"
         },
         {
          "font": {
           "color": "#FFFFFF",
           "size": 8
          },
          "showarrow": false,
          "text": "-0.02",
          "x": 11,
          "xref": "x",
          "y": 15,
          "yref": "y"
         },
         {
          "font": {
           "color": "#000000",
           "size": 8
          },
          "showarrow": false,
          "text": "1.57",
          "x": 12,
          "xref": "x",
          "y": 15,
          "yref": "y"
         },
         {
          "font": {
           "color": "#FFFFFF",
           "size": 8
          },
          "showarrow": false,
          "text": "0.03",
          "x": 13,
          "xref": "x",
          "y": 15,
          "yref": "y"
         },
         {
          "font": {
           "color": "#000000",
           "size": 8
          },
          "showarrow": false,
          "text": "0.98",
          "x": 14,
          "xref": "x",
          "y": 15,
          "yref": "y"
         },
         {
          "font": {
           "color": "#FFFFFF",
           "size": 8
          },
          "showarrow": false,
          "text": "-2.92",
          "x": 15,
          "xref": "x",
          "y": 15,
          "yref": "y"
         },
         {
          "font": {
           "color": "#FFFFFF",
           "size": 8
          },
          "showarrow": false,
          "text": "-0.8",
          "x": 16,
          "xref": "x",
          "y": 15,
          "yref": "y"
         },
         {
          "font": {
           "color": "#FFFFFF",
           "size": 8
          },
          "showarrow": false,
          "text": "0.21",
          "x": 17,
          "xref": "x",
          "y": 15,
          "yref": "y"
         },
         {
          "font": {
           "color": "#FFFFFF",
           "size": 8
          },
          "showarrow": false,
          "text": "-0.69",
          "x": 18,
          "xref": "x",
          "y": 15,
          "yref": "y"
         },
         {
          "font": {
           "color": "#FFFFFF",
           "size": 8
          },
          "showarrow": false,
          "text": "-1.53",
          "x": 19,
          "xref": "x",
          "y": 15,
          "yref": "y"
         },
         {
          "font": {
           "color": "#FFFFFF",
           "size": 8
          },
          "showarrow": false,
          "text": "-0.35",
          "x": 0,
          "xref": "x",
          "y": 16,
          "yref": "y"
         },
         {
          "font": {
           "color": "#FFFFFF",
           "size": 8
          },
          "showarrow": false,
          "text": "-2.7",
          "x": 1,
          "xref": "x",
          "y": 16,
          "yref": "y"
         },
         {
          "font": {
           "color": "#000000",
           "size": 8
          },
          "showarrow": false,
          "text": "1.38",
          "x": 2,
          "xref": "x",
          "y": 16,
          "yref": "y"
         },
         {
          "font": {
           "color": "#FFFFFF",
           "size": 8
          },
          "showarrow": false,
          "text": "0.01",
          "x": 3,
          "xref": "x",
          "y": 16,
          "yref": "y"
         },
         {
          "font": {
           "color": "#FFFFFF",
           "size": 8
          },
          "showarrow": false,
          "text": "-0.9",
          "x": 4,
          "xref": "x",
          "y": 16,
          "yref": "y"
         },
         {
          "font": {
           "color": "#FFFFFF",
           "size": 8
          },
          "showarrow": false,
          "text": "-0.96",
          "x": 5,
          "xref": "x",
          "y": 16,
          "yref": "y"
         },
         {
          "font": {
           "color": "#FFFFFF",
           "size": 8
          },
          "showarrow": false,
          "text": "0.46",
          "x": 6,
          "xref": "x",
          "y": 16,
          "yref": "y"
         },
         {
          "font": {
           "color": "#FFFFFF",
           "size": 8
          },
          "showarrow": false,
          "text": "-0.96",
          "x": 7,
          "xref": "x",
          "y": 16,
          "yref": "y"
         },
         {
          "font": {
           "color": "#000000",
           "size": 8
          },
          "showarrow": false,
          "text": "1.03",
          "x": 8,
          "xref": "x",
          "y": 16,
          "yref": "y"
         },
         {
          "font": {
           "color": "#FFFFFF",
           "size": 8
          },
          "showarrow": false,
          "text": "-0.47",
          "x": 9,
          "xref": "x",
          "y": 16,
          "yref": "y"
         },
         {
          "font": {
           "color": "#FFFFFF",
           "size": 8
          },
          "showarrow": false,
          "text": "0.34",
          "x": 10,
          "xref": "x",
          "y": 16,
          "yref": "y"
         },
         {
          "font": {
           "color": "#000000",
           "size": 8
          },
          "showarrow": false,
          "text": "1.87",
          "x": 11,
          "xref": "x",
          "y": 16,
          "yref": "y"
         },
         {
          "font": {
           "color": "#FFFFFF",
           "size": 8
          },
          "showarrow": false,
          "text": "-0.32",
          "x": 12,
          "xref": "x",
          "y": 16,
          "yref": "y"
         },
         {
          "font": {
           "color": "#FFFFFF",
           "size": 8
          },
          "showarrow": false,
          "text": "-2.29",
          "x": 13,
          "xref": "x",
          "y": 16,
          "yref": "y"
         },
         {
          "font": {
           "color": "#FFFFFF",
           "size": 8
          },
          "showarrow": false,
          "text": "0.44",
          "x": 14,
          "xref": "x",
          "y": 16,
          "yref": "y"
         },
         {
          "font": {
           "color": "#000000",
           "size": 8
          },
          "showarrow": false,
          "text": "1.0",
          "x": 15,
          "xref": "x",
          "y": 16,
          "yref": "y"
         },
         {
          "font": {
           "color": "#000000",
           "size": 8
          },
          "showarrow": false,
          "text": "1.1",
          "x": 16,
          "xref": "x",
          "y": 16,
          "yref": "y"
         },
         {
          "font": {
           "color": "#FFFFFF",
           "size": 8
          },
          "showarrow": false,
          "text": "-1.85",
          "x": 17,
          "xref": "x",
          "y": 16,
          "yref": "y"
         },
         {
          "font": {
           "color": "#FFFFFF",
           "size": 8
          },
          "showarrow": false,
          "text": "-0.01",
          "x": 18,
          "xref": "x",
          "y": 16,
          "yref": "y"
         },
         {
          "font": {
           "color": "#FFFFFF",
           "size": 8
          },
          "showarrow": false,
          "text": "-0.59",
          "x": 19,
          "xref": "x",
          "y": 16,
          "yref": "y"
         },
         {
          "font": {
           "color": "#000000",
           "size": 8
          },
          "showarrow": false,
          "text": "2.86",
          "x": 0,
          "xref": "x",
          "y": 17,
          "yref": "y"
         },
         {
          "font": {
           "color": "#FFFFFF",
           "size": 8
          },
          "showarrow": false,
          "text": "-0.32",
          "x": 1,
          "xref": "x",
          "y": 17,
          "yref": "y"
         },
         {
          "font": {
           "color": "#FFFFFF",
           "size": 8
          },
          "showarrow": false,
          "text": "0.5",
          "x": 2,
          "xref": "x",
          "y": 17,
          "yref": "y"
         },
         {
          "font": {
           "color": "#FFFFFF",
           "size": 8
          },
          "showarrow": false,
          "text": "-0.62",
          "x": 3,
          "xref": "x",
          "y": 17,
          "yref": "y"
         },
         {
          "font": {
           "color": "#FFFFFF",
           "size": 8
          },
          "showarrow": false,
          "text": "-0.13",
          "x": 4,
          "xref": "x",
          "y": 17,
          "yref": "y"
         },
         {
          "font": {
           "color": "#FFFFFF",
           "size": 8
          },
          "showarrow": false,
          "text": "-2.01",
          "x": 5,
          "xref": "x",
          "y": 17,
          "yref": "y"
         },
         {
          "font": {
           "color": "#000000",
           "size": 8
          },
          "showarrow": false,
          "text": "0.78",
          "x": 6,
          "xref": "x",
          "y": 17,
          "yref": "y"
         },
         {
          "font": {
           "color": "#FFFFFF",
           "size": 8
          },
          "showarrow": false,
          "text": "0.47",
          "x": 7,
          "xref": "x",
          "y": 17,
          "yref": "y"
         },
         {
          "font": {
           "color": "#FFFFFF",
           "size": 8
          },
          "showarrow": false,
          "text": "0.24",
          "x": 8,
          "xref": "x",
          "y": 17,
          "yref": "y"
         },
         {
          "font": {
           "color": "#FFFFFF",
           "size": 8
          },
          "showarrow": false,
          "text": "-0.06",
          "x": 9,
          "xref": "x",
          "y": 17,
          "yref": "y"
         },
         {
          "font": {
           "color": "#000000",
           "size": 8
          },
          "showarrow": false,
          "text": "0.55",
          "x": 10,
          "xref": "x",
          "y": 17,
          "yref": "y"
         },
         {
          "font": {
           "color": "#FFFFFF",
           "size": 8
          },
          "showarrow": false,
          "text": "-0.24",
          "x": 11,
          "xref": "x",
          "y": 17,
          "yref": "y"
         },
         {
          "font": {
           "color": "#FFFFFF",
           "size": 8
          },
          "showarrow": false,
          "text": "0.23",
          "x": 12,
          "xref": "x",
          "y": 17,
          "yref": "y"
         },
         {
          "font": {
           "color": "#FFFFFF",
           "size": 8
          },
          "showarrow": false,
          "text": "-0.36",
          "x": 13,
          "xref": "x",
          "y": 17,
          "yref": "y"
         },
         {
          "font": {
           "color": "#FFFFFF",
           "size": 8
          },
          "showarrow": false,
          "text": "0.13",
          "x": 14,
          "xref": "x",
          "y": 17,
          "yref": "y"
         },
         {
          "font": {
           "color": "#FFFFFF",
           "size": 8
          },
          "showarrow": false,
          "text": "-0.96",
          "x": 15,
          "xref": "x",
          "y": 17,
          "yref": "y"
         },
         {
          "font": {
           "color": "#FFFFFF",
           "size": 8
          },
          "showarrow": false,
          "text": "-1.96",
          "x": 16,
          "xref": "x",
          "y": 17,
          "yref": "y"
         },
         {
          "font": {
           "color": "#FFFFFF",
           "size": 8
          },
          "showarrow": false,
          "text": "0.51",
          "x": 17,
          "xref": "x",
          "y": 17,
          "yref": "y"
         },
         {
          "font": {
           "color": "#FFFFFF",
           "size": 8
          },
          "showarrow": false,
          "text": "-1.2",
          "x": 18,
          "xref": "x",
          "y": 17,
          "yref": "y"
         },
         {
          "font": {
           "color": "#FFFFFF",
           "size": 8
          },
          "showarrow": false,
          "text": "0.24",
          "x": 19,
          "xref": "x",
          "y": 17,
          "yref": "y"
         },
         {
          "font": {
           "color": "#FFFFFF",
           "size": 8
          },
          "showarrow": false,
          "text": "0.29",
          "x": 0,
          "xref": "x",
          "y": 18,
          "yref": "y"
         },
         {
          "font": {
           "color": "#000000",
           "size": 8
          },
          "showarrow": false,
          "text": "2.32",
          "x": 1,
          "xref": "x",
          "y": 18,
          "yref": "y"
         },
         {
          "font": {
           "color": "#000000",
           "size": 8
          },
          "showarrow": false,
          "text": "1.42",
          "x": 2,
          "xref": "x",
          "y": 18,
          "yref": "y"
         },
         {
          "font": {
           "color": "#FFFFFF",
           "size": 8
          },
          "showarrow": false,
          "text": "-1.98",
          "x": 3,
          "xref": "x",
          "y": 18,
          "yref": "y"
         },
         {
          "font": {
           "color": "#FFFFFF",
           "size": 8
          },
          "showarrow": false,
          "text": "0.11",
          "x": 4,
          "xref": "x",
          "y": 18,
          "yref": "y"
         },
         {
          "font": {
           "color": "#000000",
           "size": 8
          },
          "showarrow": false,
          "text": "1.09",
          "x": 5,
          "xref": "x",
          "y": 18,
          "yref": "y"
         },
         {
          "font": {
           "color": "#000000",
           "size": 8
          },
          "showarrow": false,
          "text": "0.96",
          "x": 6,
          "xref": "x",
          "y": 18,
          "yref": "y"
         },
         {
          "font": {
           "color": "#FFFFFF",
           "size": 8
          },
          "showarrow": false,
          "text": "-1.66",
          "x": 7,
          "xref": "x",
          "y": 18,
          "yref": "y"
         },
         {
          "font": {
           "color": "#FFFFFF",
           "size": 8
          },
          "showarrow": false,
          "text": "0.39",
          "x": 8,
          "xref": "x",
          "y": 18,
          "yref": "y"
         },
         {
          "font": {
           "color": "#000000",
           "size": 8
          },
          "showarrow": false,
          "text": "0.78",
          "x": 9,
          "xref": "x",
          "y": 18,
          "yref": "y"
         },
         {
          "font": {
           "color": "#FFFFFF",
           "size": 8
          },
          "showarrow": false,
          "text": "0.25",
          "x": 10,
          "xref": "x",
          "y": 18,
          "yref": "y"
         },
         {
          "font": {
           "color": "#FFFFFF",
           "size": 8
          },
          "showarrow": false,
          "text": "-0.35",
          "x": 11,
          "xref": "x",
          "y": 18,
          "yref": "y"
         },
         {
          "font": {
           "color": "#FFFFFF",
           "size": 8
          },
          "showarrow": false,
          "text": "0.53",
          "x": 12,
          "xref": "x",
          "y": 18,
          "yref": "y"
         },
         {
          "font": {
           "color": "#000000",
           "size": 8
          },
          "showarrow": false,
          "text": "1.29",
          "x": 13,
          "xref": "x",
          "y": 18,
          "yref": "y"
         },
         {
          "font": {
           "color": "#000000",
           "size": 8
          },
          "showarrow": false,
          "text": "0.83",
          "x": 14,
          "xref": "x",
          "y": 18,
          "yref": "y"
         },
         {
          "font": {
           "color": "#FFFFFF",
           "size": 8
          },
          "showarrow": false,
          "text": "0.41",
          "x": 15,
          "xref": "x",
          "y": 18,
          "yref": "y"
         },
         {
          "font": {
           "color": "#000000",
           "size": 8
          },
          "showarrow": false,
          "text": "1.16",
          "x": 16,
          "xref": "x",
          "y": 18,
          "yref": "y"
         },
         {
          "font": {
           "color": "#FFFFFF",
           "size": 8
          },
          "showarrow": false,
          "text": "0.29",
          "x": 17,
          "xref": "x",
          "y": 18,
          "yref": "y"
         },
         {
          "font": {
           "color": "#FFFFFF",
           "size": 8
          },
          "showarrow": false,
          "text": "0.41",
          "x": 18,
          "xref": "x",
          "y": 18,
          "yref": "y"
         },
         {
          "font": {
           "color": "#FFFFFF",
           "size": 8
          },
          "showarrow": false,
          "text": "-0.91",
          "x": 19,
          "xref": "x",
          "y": 18,
          "yref": "y"
         },
         {
          "font": {
           "color": "#FFFFFF",
           "size": 8
          },
          "showarrow": false,
          "text": "-2.57",
          "x": 0,
          "xref": "x",
          "y": 19,
          "yref": "y"
         },
         {
          "font": {
           "color": "#FFFFFF",
           "size": 8
          },
          "showarrow": false,
          "text": "-0.85",
          "x": 1,
          "xref": "x",
          "y": 19,
          "yref": "y"
         },
         {
          "font": {
           "color": "#FFFFFF",
           "size": 8
          },
          "showarrow": false,
          "text": "-1.0",
          "x": 2,
          "xref": "x",
          "y": 19,
          "yref": "y"
         },
         {
          "font": {
           "color": "#000000",
           "size": 8
          },
          "showarrow": false,
          "text": "1.2",
          "x": 3,
          "xref": "x",
          "y": 19,
          "yref": "y"
         },
         {
          "font": {
           "color": "#FFFFFF",
           "size": 8
          },
          "showarrow": false,
          "text": "-0.36",
          "x": 4,
          "xref": "x",
          "y": 19,
          "yref": "y"
         },
         {
          "font": {
           "color": "#000000",
           "size": 8
          },
          "showarrow": false,
          "text": "0.87",
          "x": 5,
          "xref": "x",
          "y": 19,
          "yref": "y"
         },
         {
          "font": {
           "color": "#FFFFFF",
           "size": 8
          },
          "showarrow": false,
          "text": "-1.39",
          "x": 6,
          "xref": "x",
          "y": 19,
          "yref": "y"
         },
         {
          "font": {
           "color": "#FFFFFF",
           "size": 8
          },
          "showarrow": false,
          "text": "0.37",
          "x": 7,
          "xref": "x",
          "y": 19,
          "yref": "y"
         },
         {
          "font": {
           "color": "#FFFFFF",
           "size": 8
          },
          "showarrow": false,
          "text": "-1.45",
          "x": 8,
          "xref": "x",
          "y": 19,
          "yref": "y"
         },
         {
          "font": {
           "color": "#FFFFFF",
           "size": 8
          },
          "showarrow": false,
          "text": "0.41",
          "x": 9,
          "xref": "x",
          "y": 19,
          "yref": "y"
         },
         {
          "font": {
           "color": "#FFFFFF",
           "size": 8
          },
          "showarrow": false,
          "text": "-0.31",
          "x": 10,
          "xref": "x",
          "y": 19,
          "yref": "y"
         },
         {
          "font": {
           "color": "#000000",
           "size": 8
          },
          "showarrow": false,
          "text": "0.98",
          "x": 11,
          "xref": "x",
          "y": 19,
          "yref": "y"
         },
         {
          "font": {
           "color": "#FFFFFF",
           "size": 8
          },
          "showarrow": false,
          "text": "-1.5",
          "x": 12,
          "xref": "x",
          "y": 19,
          "yref": "y"
         },
         {
          "font": {
           "color": "#000000",
           "size": 8
          },
          "showarrow": false,
          "text": "2.26",
          "x": 13,
          "xref": "x",
          "y": 19,
          "yref": "y"
         },
         {
          "font": {
           "color": "#FFFFFF",
           "size": 8
          },
          "showarrow": false,
          "text": "-1.44",
          "x": 14,
          "xref": "x",
          "y": 19,
          "yref": "y"
         },
         {
          "font": {
           "color": "#000000",
           "size": 8
          },
          "showarrow": false,
          "text": "0.62",
          "x": 15,
          "xref": "x",
          "y": 19,
          "yref": "y"
         },
         {
          "font": {
           "color": "#000000",
           "size": 8
          },
          "showarrow": false,
          "text": "0.84",
          "x": 16,
          "xref": "x",
          "y": 19,
          "yref": "y"
         },
         {
          "font": {
           "color": "#FFFFFF",
           "size": 8
          },
          "showarrow": false,
          "text": "-0.76",
          "x": 17,
          "xref": "x",
          "y": 19,
          "yref": "y"
         },
         {
          "font": {
           "color": "#000000",
           "size": 8
          },
          "showarrow": false,
          "text": "0.71",
          "x": 18,
          "xref": "x",
          "y": 19,
          "yref": "y"
         },
         {
          "font": {
           "color": "#FFFFFF",
           "size": 8
          },
          "showarrow": false,
          "text": "-1.32",
          "x": 19,
          "xref": "x",
          "y": 19,
          "yref": "y"
         }
        ],
        "xaxis": {
         "gridcolor": "rgb(0, 0, 0)",
         "showticklabels": false,
         "side": "top",
         "ticks": ""
        },
        "yaxis": {
         "showticklabels": false,
         "ticks": "",
         "ticksuffix": "  "
        }
       }
      },
      "text/html": [
       "<div>\n",
       "        \n",
       "        \n",
       "            <div id=\"5e095363-57bb-447b-9d8e-098549644ded\" class=\"plotly-graph-div\" style=\"height:525px; width:100%;\"></div>\n",
       "            <script type=\"text/javascript\">\n",
       "                require([\"plotly\"], function(Plotly) {\n",
       "                    window.PLOTLYENV=window.PLOTLYENV || {};\n",
       "                    window.PLOTLYENV.BASE_URL='https://plot.ly';\n",
       "                    \n",
       "                if (document.getElementById(\"5e095363-57bb-447b-9d8e-098549644ded\")) {\n",
       "                    Plotly.newPlot(\n",
       "                        '5e095363-57bb-447b-9d8e-098549644ded',\n",
       "                        [{\"colorscale\": \"Greys\", \"hoverinfo\": \"z\", \"reversescale\": false, \"showscale\": false, \"type\": \"heatmap\", \"uid\": \"2c5facf2-7db6-422e-af9d-c14125bbdfd2\", \"z\": [[-0.08586066375740148, 1.4593120462355802, -0.43162282781112243, 0.3600295448064335, -1.5298658196254629, 0.1380178243809237, 0.5245457320163869, 0.09851511195601388, -0.6242743989935576, -0.24078659046803438, 0.7279052853590415, -0.615899192036713, -0.8604219415494834, 1.10415067071826, -0.1284612020576367, -0.34534171405120284, 0.1604173705892837, -1.07484765612352, -1.0338090424475463, -0.22440001393949127], [-1.4738551305822443, 0.3500783702886845, -0.8666565431209744, -0.0031977977536416244, -1.4576128980793506, -0.2980635400357395, 0.054661491721287786, -0.411104536537598, -0.1554748432839135, -0.2944230461239009, -0.48993481850776216, -0.16376270719890845, -0.7231606018218711, -2.0869592425244496, -1.0879198344927523, 0.879166304332712, 0.699828999851987, 0.5863830961514735, -0.4909862572192486, -0.2757903013895011], [0.2880148503588112, -0.6320775509734383, 0.5994146024892836, 0.574401108440235, 1.0982246588736686, -0.025345486781773872, 1.2149777106251136, -0.9151836553007571, -2.7662812066381437, 0.21792513141585873, 0.9127286262526452, 0.008297443123700846, 0.880568417378276, -1.285494534209856, -0.35104053546153746, 0.26216926085362313, 1.8729159857000133, 0.8021547088209733, -2.3696841439066536, 0.3812354693554003], [0.49931218660724097, 0.9738123934187384, 1.6220300303374786, -1.0372315934221257, 0.8175874633313486, 0.6274489562118631, 0.052847955657611266, -0.16605594563499113, -0.3139200544091788, -1.2658869014572516, -0.05741869948475616, -0.6046907165589491, -0.04889293659977941, 1.4380213684217404, 0.10956812759764835, 0.6116909977254378, 1.1572353334177854, -1.444398788393435, 1.017164590181421, -1.2045968906400601], [1.5061391749795254, 0.5994454596579167, 1.0329950932038312, 0.28171233429270814, 1.1195109530905003, 0.43241277564944947, -0.9010118087284493, -0.45109009239868114, -0.6017090502078939, 0.3335774641104205, -0.7061074118369003, 0.5061552104758398, -0.3955503572388567, -0.8118140276066903, 1.3138619214257667, 0.48890840544812464, -0.2823043230224176, 0.9865511092880079, -0.35901662636429066, 0.321613672278541], [-1.07806045854907, -1.619381533861991, -0.22203458306276833, -2.1822838548613865, 0.22702060734303153, 1.404763328941183, 0.93919651055846, -1.7033121703438663, -1.0421022427569904, 4.001041810371828, -0.31042837322988537, -0.3277594855410116, -0.6548900376227322, 0.8577470397104927, -1.1159118558437635, -1.5034267266583843, -1.314027109342961, 0.7824977841038316, -0.08371097713089089, -0.17206497134926174], [1.542616888188426, 0.8530328103759388, -0.9126280597284865, 0.15810730039189777, -0.2492257104721763, -2.011293350148031, 0.7020434021715569, -0.43163862190364705, 1.044829242403598, -0.8805416074518218, -0.1279318446884357, -1.6401614782973484, -0.8281660906332239, 0.19631397319849014, 0.7015225766044074, -1.52332040544211, -2.7157496869460953, 0.4568042503135183, -1.9180068300652418, -1.3126800567240933], [-1.0497264138075246, -1.027324012995258, -0.5040053323351683, -1.4656867656466461, -0.44310576703558036, -1.2906046023731184, 1.6099872569781621, 0.1331374068541394, -1.2197707878046486, -0.12899316092958338, -0.769352415453817, -0.5831857550184898, -0.039690393577543184, 0.26624913469960193, 0.2779161104818915, -0.3917272708837439, -0.4212074110726645, -0.6572321196560604, 1.5350424568961438, -0.5971169283878103], [-1.4140407518481386, 0.2475249665934697, -0.33031753169675104, 0.09104178316812139, 0.636143017448963, -0.8376012589422335, 0.8198013541422543, -0.4823533118400506, 1.4120414295974766, -0.46401505348605143, 0.30768496545420154, 2.458782526261712, 0.6163946250393854, 1.6709493677684584, -0.23735993057675317, -1.462863879921136, 1.3313693125539838, -1.042933609426074, -0.4263651115428176, -0.6270166535772657], [0.18600553360661443, 0.20719409398684135, -0.9942322322121343, -0.048289388987818815, -0.8520262556404442, -0.22712250038820933, 1.5639626532065314, -1.3143903059991757, 1.060599237144178, -2.2552276939422606, -0.22181809174087802, -1.2029982511390651, -1.010152801892039, -0.8266749216422712, 0.41703827867823157, -1.7736128963080577, -0.7755676981464151, -0.610512990074877, 0.21848677359308935, -0.1730996048183092], [-0.06382121680465369, -1.30465590085011, 1.3720071705510135, -0.19609712146605918, -0.3752617731750664, -1.310035963224021, 0.0374354434394547, -0.8289428502262055, 0.035684345633001636, 0.9712340240127031, -0.5457902769520686, 1.3037000570399906, -0.7154924959141363, -0.4836013766403637, 0.22539688241884084, -1.4890184779144764, -0.07102129502201432, -1.1485905461539432, 0.06085482824599193, -0.6630942681290557], [-0.8283167540902181, 0.3707558091441853, -0.5344359501026694, 0.20260338495709523, 1.48495831243482, 1.3067619530797752, -1.2034356344118504, 1.5415657071335758, -1.7114968187398523, 0.06635576946429558, 0.3568879523261483, -2.7610976579393265, 0.5738269174215908, 1.4509260129164416, 0.7401400861372878, 2.330247176726718, -1.6566520157582023, 2.39713950636685, 0.7846477590962327, -0.6166087799183486], [0.8198886785859592, -0.07643617820169818, 1.565933414462239, 0.16216995475379356, -0.2752531170106007, 0.31416229695512565, 0.5791507113757297, 0.4432899943540761, 0.3304921821527882, 0.4979653177387453, -0.5243068678632214, -0.13354488396128064, -0.38649435283170125, 1.2918159955700441, -0.6131195193708283, -0.47297114248795286, 2.2889471194076596, -0.5162017755924182, 0.580525757293623, 0.47985521743825854], [0.8241365235992215, -0.9268447047317747, -0.27276489824366973, 0.11660411528970359, 0.6003465437097608, 0.8763259944352846, 0.5568828173703827, 0.2537214870168399, 0.41211812067223064, -0.4689519740149431, 0.8605177099932312, -0.8682431271766274, -0.6960367801288886, -0.1318939234443373, -0.5648060185873551, 0.01867994424770311, 1.5331544616600536, 1.6679721150471318, -0.5931711940135458, -0.6901739952917098], [-0.4038945914466779, -0.45606342954376783, 0.8821276912132184, -0.329133466267801, -0.5104672454695713, 1.5408102437062845, 0.16270552194055554, -0.21884207591099084, -0.15622662653701466, 1.573577241949563, -1.3258038580943443, 0.11817454147295117, 0.8551615617329874, -1.0893693925768713, -0.5469785420293797, 2.1351833563208027, -0.16982391176993383, -0.4420954754172358, 0.5700764319656926, -0.6604521969241022], [-0.16297164604022435, 0.6390990428451903, 0.2673089819289009, -0.8680529813374307, 0.9170950201752301, -1.3678631026859789, 0.14502577021445465, -0.3155652976121853, -0.31030740627490067, -0.4868852027302864, -0.17151608743273264, -0.020092775414790515, 1.5658904666489115, 0.02601332190772129, 0.9843603452355798, -2.922228084077484, -0.8032002558411658, 0.2117121683365261, -0.6927927820556042, -1.5285927931185246], [-0.3534131976965821, -2.700395223980041, 1.3764722472219466, 0.005527000132000764, -0.9037274658544286, -0.9649815402204005, 0.4601723727816565, -0.9560740198449867, 1.032007696750518, -0.47132425686339513, 0.3360577488447927, 1.8655783892520343, -0.31536355350716994, -2.2866032693413576, 0.4354016560226912, 1.0001184512727508, 1.095100542293479, -1.8498044948011645, -0.006772885510172797, -0.5871919589232784], [2.863027537097619, -0.32020539958043553, 0.5002731097105064, -0.6186438777647191, -0.1280148550649669, -2.0108052550588273, 0.7764504242972533, 0.47220992054382144, 0.24450561263467283, -0.06492683245328695, 0.5510452227077574, -0.23874655898153327, 0.2329134409927204, -0.3642113293255727, 0.1274498620297305, -0.9552926699610841, -1.9591564138033923, 0.509966505234652, -1.202303811234944, 0.23609769975715922], [0.28866157814496823, 2.3230643860369917, 1.4247621241249488, -1.983849557514547, 0.10991672562669301, 1.0912480229807222, 0.9589256178075486, -1.6605343856088777, 0.39132906758410335, 0.7808286651253086, 0.24823211762126704, -0.34827652056367375, 0.5331317537745685, 1.289343471303238, 0.8296864487939812, 0.4149740675142691, 1.1565667282270646, 0.2924720938947311, 0.4052423686527184, -0.9051877213901319], [-2.5725322606026153, -0.854180745815608, -0.9987373216936326, 1.2046845999880056, -0.3616471532676167, 0.8671999706131235, -1.3853576657960969, 0.36694207928675393, -1.4507792846663432, 0.4144888743319255, -0.3133263246212114, 0.9782378983259905, -1.498422215527017, 2.2554509764713826, -1.440494563956423, 0.6195574160530181, 0.8423713252573528, -0.760308086069206, 0.7101368430905745, -1.3248335863514877]]}],\n",
       "                        {\"annotations\": [{\"font\": {\"color\": \"#FFFFFF\", \"size\": 8}, \"showarrow\": false, \"text\": \"-0.09\", \"x\": 0, \"xref\": \"x\", \"y\": 0, \"yref\": \"y\"}, {\"font\": {\"color\": \"#000000\", \"size\": 8}, \"showarrow\": false, \"text\": \"1.46\", \"x\": 1, \"xref\": \"x\", \"y\": 0, \"yref\": \"y\"}, {\"font\": {\"color\": \"#FFFFFF\", \"size\": 8}, \"showarrow\": false, \"text\": \"-0.43\", \"x\": 2, \"xref\": \"x\", \"y\": 0, \"yref\": \"y\"}, {\"font\": {\"color\": \"#FFFFFF\", \"size\": 8}, \"showarrow\": false, \"text\": \"0.36\", \"x\": 3, \"xref\": \"x\", \"y\": 0, \"yref\": \"y\"}, {\"font\": {\"color\": \"#FFFFFF\", \"size\": 8}, \"showarrow\": false, \"text\": \"-1.53\", \"x\": 4, \"xref\": \"x\", \"y\": 0, \"yref\": \"y\"}, {\"font\": {\"color\": \"#FFFFFF\", \"size\": 8}, \"showarrow\": false, \"text\": \"0.14\", \"x\": 5, \"xref\": \"x\", \"y\": 0, \"yref\": \"y\"}, {\"font\": {\"color\": \"#FFFFFF\", \"size\": 8}, \"showarrow\": false, \"text\": \"0.52\", \"x\": 6, \"xref\": \"x\", \"y\": 0, \"yref\": \"y\"}, {\"font\": {\"color\": \"#FFFFFF\", \"size\": 8}, \"showarrow\": false, \"text\": \"0.1\", \"x\": 7, \"xref\": \"x\", \"y\": 0, \"yref\": \"y\"}, {\"font\": {\"color\": \"#FFFFFF\", \"size\": 8}, \"showarrow\": false, \"text\": \"-0.62\", \"x\": 8, \"xref\": \"x\", \"y\": 0, \"yref\": \"y\"}, {\"font\": {\"color\": \"#FFFFFF\", \"size\": 8}, \"showarrow\": false, \"text\": \"-0.24\", \"x\": 9, \"xref\": \"x\", \"y\": 0, \"yref\": \"y\"}, {\"font\": {\"color\": \"#000000\", \"size\": 8}, \"showarrow\": false, \"text\": \"0.73\", \"x\": 10, \"xref\": \"x\", \"y\": 0, \"yref\": \"y\"}, {\"font\": {\"color\": \"#FFFFFF\", \"size\": 8}, \"showarrow\": false, \"text\": \"-0.62\", \"x\": 11, \"xref\": \"x\", \"y\": 0, \"yref\": \"y\"}, {\"font\": {\"color\": \"#FFFFFF\", \"size\": 8}, \"showarrow\": false, \"text\": \"-0.86\", \"x\": 12, \"xref\": \"x\", \"y\": 0, \"yref\": \"y\"}, {\"font\": {\"color\": \"#000000\", \"size\": 8}, \"showarrow\": false, \"text\": \"1.1\", \"x\": 13, \"xref\": \"x\", \"y\": 0, \"yref\": \"y\"}, {\"font\": {\"color\": \"#FFFFFF\", \"size\": 8}, \"showarrow\": false, \"text\": \"-0.13\", \"x\": 14, \"xref\": \"x\", \"y\": 0, \"yref\": \"y\"}, {\"font\": {\"color\": \"#FFFFFF\", \"size\": 8}, \"showarrow\": false, \"text\": \"-0.35\", \"x\": 15, \"xref\": \"x\", \"y\": 0, \"yref\": \"y\"}, {\"font\": {\"color\": \"#FFFFFF\", \"size\": 8}, \"showarrow\": false, \"text\": \"0.16\", \"x\": 16, \"xref\": \"x\", \"y\": 0, \"yref\": \"y\"}, {\"font\": {\"color\": \"#FFFFFF\", \"size\": 8}, \"showarrow\": false, \"text\": \"-1.07\", \"x\": 17, \"xref\": \"x\", \"y\": 0, \"yref\": \"y\"}, {\"font\": {\"color\": \"#FFFFFF\", \"size\": 8}, \"showarrow\": false, \"text\": \"-1.03\", \"x\": 18, \"xref\": \"x\", \"y\": 0, \"yref\": \"y\"}, {\"font\": {\"color\": \"#FFFFFF\", \"size\": 8}, \"showarrow\": false, \"text\": \"-0.22\", \"x\": 19, \"xref\": \"x\", \"y\": 0, \"yref\": \"y\"}, {\"font\": {\"color\": \"#FFFFFF\", \"size\": 8}, \"showarrow\": false, \"text\": \"-1.47\", \"x\": 0, \"xref\": \"x\", \"y\": 1, \"yref\": \"y\"}, {\"font\": {\"color\": \"#FFFFFF\", \"size\": 8}, \"showarrow\": false, \"text\": \"0.35\", \"x\": 1, \"xref\": \"x\", \"y\": 1, \"yref\": \"y\"}, {\"font\": {\"color\": \"#FFFFFF\", \"size\": 8}, \"showarrow\": false, \"text\": \"-0.87\", \"x\": 2, \"xref\": \"x\", \"y\": 1, \"yref\": \"y\"}, {\"font\": {\"color\": \"#FFFFFF\", \"size\": 8}, \"showarrow\": false, \"text\": \"-0.0\", \"x\": 3, \"xref\": \"x\", \"y\": 1, \"yref\": \"y\"}, {\"font\": {\"color\": \"#FFFFFF\", \"size\": 8}, \"showarrow\": false, \"text\": \"-1.46\", \"x\": 4, \"xref\": \"x\", \"y\": 1, \"yref\": \"y\"}, {\"font\": {\"color\": \"#FFFFFF\", \"size\": 8}, \"showarrow\": false, \"text\": \"-0.3\", \"x\": 5, \"xref\": \"x\", \"y\": 1, \"yref\": \"y\"}, {\"font\": {\"color\": \"#FFFFFF\", \"size\": 8}, \"showarrow\": false, \"text\": \"0.05\", \"x\": 6, \"xref\": \"x\", \"y\": 1, \"yref\": \"y\"}, {\"font\": {\"color\": \"#FFFFFF\", \"size\": 8}, \"showarrow\": false, \"text\": \"-0.41\", \"x\": 7, \"xref\": \"x\", \"y\": 1, \"yref\": \"y\"}, {\"font\": {\"color\": \"#FFFFFF\", \"size\": 8}, \"showarrow\": false, \"text\": \"-0.16\", \"x\": 8, \"xref\": \"x\", \"y\": 1, \"yref\": \"y\"}, {\"font\": {\"color\": \"#FFFFFF\", \"size\": 8}, \"showarrow\": false, \"text\": \"-0.29\", \"x\": 9, \"xref\": \"x\", \"y\": 1, \"yref\": \"y\"}, {\"font\": {\"color\": \"#FFFFFF\", \"size\": 8}, \"showarrow\": false, \"text\": \"-0.49\", \"x\": 10, \"xref\": \"x\", \"y\": 1, \"yref\": \"y\"}, {\"font\": {\"color\": \"#FFFFFF\", \"size\": 8}, \"showarrow\": false, \"text\": \"-0.16\", \"x\": 11, \"xref\": \"x\", \"y\": 1, \"yref\": \"y\"}, {\"font\": {\"color\": \"#FFFFFF\", \"size\": 8}, \"showarrow\": false, \"text\": \"-0.72\", \"x\": 12, \"xref\": \"x\", \"y\": 1, \"yref\": \"y\"}, {\"font\": {\"color\": \"#FFFFFF\", \"size\": 8}, \"showarrow\": false, \"text\": \"-2.09\", \"x\": 13, \"xref\": \"x\", \"y\": 1, \"yref\": \"y\"}, {\"font\": {\"color\": \"#FFFFFF\", \"size\": 8}, \"showarrow\": false, \"text\": \"-1.09\", \"x\": 14, \"xref\": \"x\", \"y\": 1, \"yref\": \"y\"}, {\"font\": {\"color\": \"#000000\", \"size\": 8}, \"showarrow\": false, \"text\": \"0.88\", \"x\": 15, \"xref\": \"x\", \"y\": 1, \"yref\": \"y\"}, {\"font\": {\"color\": \"#000000\", \"size\": 8}, \"showarrow\": false, \"text\": \"0.7\", \"x\": 16, \"xref\": \"x\", \"y\": 1, \"yref\": \"y\"}, {\"font\": {\"color\": \"#000000\", \"size\": 8}, \"showarrow\": false, \"text\": \"0.59\", \"x\": 17, \"xref\": \"x\", \"y\": 1, \"yref\": \"y\"}, {\"font\": {\"color\": \"#FFFFFF\", \"size\": 8}, \"showarrow\": false, \"text\": \"-0.49\", \"x\": 18, \"xref\": \"x\", \"y\": 1, \"yref\": \"y\"}, {\"font\": {\"color\": \"#FFFFFF\", \"size\": 8}, \"showarrow\": false, \"text\": \"-0.28\", \"x\": 19, \"xref\": \"x\", \"y\": 1, \"yref\": \"y\"}, {\"font\": {\"color\": \"#FFFFFF\", \"size\": 8}, \"showarrow\": false, \"text\": \"0.29\", \"x\": 0, \"xref\": \"x\", \"y\": 2, \"yref\": \"y\"}, {\"font\": {\"color\": \"#FFFFFF\", \"size\": 8}, \"showarrow\": false, \"text\": \"-0.63\", \"x\": 1, \"xref\": \"x\", \"y\": 2, \"yref\": \"y\"}, {\"font\": {\"color\": \"#000000\", \"size\": 8}, \"showarrow\": false, \"text\": \"0.6\", \"x\": 2, \"xref\": \"x\", \"y\": 2, \"yref\": \"y\"}, {\"font\": {\"color\": \"#000000\", \"size\": 8}, \"showarrow\": false, \"text\": \"0.57\", \"x\": 3, \"xref\": \"x\", \"y\": 2, \"yref\": \"y\"}, {\"font\": {\"color\": \"#000000\", \"size\": 8}, \"showarrow\": false, \"text\": \"1.1\", \"x\": 4, \"xref\": \"x\", \"y\": 2, \"yref\": \"y\"}, {\"font\": {\"color\": \"#FFFFFF\", \"size\": 8}, \"showarrow\": false, \"text\": \"-0.03\", \"x\": 5, \"xref\": \"x\", \"y\": 2, \"yref\": \"y\"}, {\"font\": {\"color\": \"#000000\", \"size\": 8}, \"showarrow\": false, \"text\": \"1.21\", \"x\": 6, \"xref\": \"x\", \"y\": 2, \"yref\": \"y\"}, {\"font\": {\"color\": \"#FFFFFF\", \"size\": 8}, \"showarrow\": false, \"text\": \"-0.92\", \"x\": 7, \"xref\": \"x\", \"y\": 2, \"yref\": \"y\"}, {\"font\": {\"color\": \"#FFFFFF\", \"size\": 8}, \"showarrow\": false, \"text\": \"-2.77\", \"x\": 8, \"xref\": \"x\", \"y\": 2, \"yref\": \"y\"}, {\"font\": {\"color\": \"#FFFFFF\", \"size\": 8}, \"showarrow\": false, \"text\": \"0.22\", \"x\": 9, \"xref\": \"x\", \"y\": 2, \"yref\": \"y\"}, {\"font\": {\"color\": \"#000000\", \"size\": 8}, \"showarrow\": false, \"text\": \"0.91\", \"x\": 10, \"xref\": \"x\", \"y\": 2, \"yref\": \"y\"}, {\"font\": {\"color\": \"#FFFFFF\", \"size\": 8}, \"showarrow\": false, \"text\": \"0.01\", \"x\": 11, \"xref\": \"x\", \"y\": 2, \"yref\": \"y\"}, {\"font\": {\"color\": \"#000000\", \"size\": 8}, \"showarrow\": false, \"text\": \"0.88\", \"x\": 12, \"xref\": \"x\", \"y\": 2, \"yref\": \"y\"}, {\"font\": {\"color\": \"#FFFFFF\", \"size\": 8}, \"showarrow\": false, \"text\": \"-1.29\", \"x\": 13, \"xref\": \"x\", \"y\": 2, \"yref\": \"y\"}, {\"font\": {\"color\": \"#FFFFFF\", \"size\": 8}, \"showarrow\": false, \"text\": \"-0.35\", \"x\": 14, \"xref\": \"x\", \"y\": 2, \"yref\": \"y\"}, {\"font\": {\"color\": \"#FFFFFF\", \"size\": 8}, \"showarrow\": false, \"text\": \"0.26\", \"x\": 15, \"xref\": \"x\", \"y\": 2, \"yref\": \"y\"}, {\"font\": {\"color\": \"#000000\", \"size\": 8}, \"showarrow\": false, \"text\": \"1.87\", \"x\": 16, \"xref\": \"x\", \"y\": 2, \"yref\": \"y\"}, {\"font\": {\"color\": \"#000000\", \"size\": 8}, \"showarrow\": false, \"text\": \"0.8\", \"x\": 17, \"xref\": \"x\", \"y\": 2, \"yref\": \"y\"}, {\"font\": {\"color\": \"#FFFFFF\", \"size\": 8}, \"showarrow\": false, \"text\": \"-2.37\", \"x\": 18, \"xref\": \"x\", \"y\": 2, \"yref\": \"y\"}, {\"font\": {\"color\": \"#FFFFFF\", \"size\": 8}, \"showarrow\": false, \"text\": \"0.38\", \"x\": 19, \"xref\": \"x\", \"y\": 2, \"yref\": \"y\"}, {\"font\": {\"color\": \"#FFFFFF\", \"size\": 8}, \"showarrow\": false, \"text\": \"0.5\", \"x\": 0, \"xref\": \"x\", \"y\": 3, \"yref\": \"y\"}, {\"font\": {\"color\": \"#000000\", \"size\": 8}, \"showarrow\": false, \"text\": \"0.97\", \"x\": 1, \"xref\": \"x\", \"y\": 3, \"yref\": \"y\"}, {\"font\": {\"color\": \"#000000\", \"size\": 8}, \"showarrow\": false, \"text\": \"1.62\", \"x\": 2, \"xref\": \"x\", \"y\": 3, \"yref\": \"y\"}, {\"font\": {\"color\": \"#FFFFFF\", \"size\": 8}, \"showarrow\": false, \"text\": \"-1.04\", \"x\": 3, \"xref\": \"x\", \"y\": 3, \"yref\": \"y\"}, {\"font\": {\"color\": \"#000000\", \"size\": 8}, \"showarrow\": false, \"text\": \"0.82\", \"x\": 4, \"xref\": \"x\", \"y\": 3, \"yref\": \"y\"}, {\"font\": {\"color\": \"#000000\", \"size\": 8}, \"showarrow\": false, \"text\": \"0.63\", \"x\": 5, \"xref\": \"x\", \"y\": 3, \"yref\": \"y\"}, {\"font\": {\"color\": \"#FFFFFF\", \"size\": 8}, \"showarrow\": false, \"text\": \"0.05\", \"x\": 6, \"xref\": \"x\", \"y\": 3, \"yref\": \"y\"}, {\"font\": {\"color\": \"#FFFFFF\", \"size\": 8}, \"showarrow\": false, \"text\": \"-0.17\", \"x\": 7, \"xref\": \"x\", \"y\": 3, \"yref\": \"y\"}, {\"font\": {\"color\": \"#FFFFFF\", \"size\": 8}, \"showarrow\": false, \"text\": \"-0.31\", \"x\": 8, \"xref\": \"x\", \"y\": 3, \"yref\": \"y\"}, {\"font\": {\"color\": \"#FFFFFF\", \"size\": 8}, \"showarrow\": false, \"text\": \"-1.27\", \"x\": 9, \"xref\": \"x\", \"y\": 3, \"yref\": \"y\"}, {\"font\": {\"color\": \"#FFFFFF\", \"size\": 8}, \"showarrow\": false, \"text\": \"-0.06\", \"x\": 10, \"xref\": \"x\", \"y\": 3, \"yref\": \"y\"}, {\"font\": {\"color\": \"#FFFFFF\", \"size\": 8}, \"showarrow\": false, \"text\": \"-0.6\", \"x\": 11, \"xref\": \"x\", \"y\": 3, \"yref\": \"y\"}, {\"font\": {\"color\": \"#FFFFFF\", \"size\": 8}, \"showarrow\": false, \"text\": \"-0.05\", \"x\": 12, \"xref\": \"x\", \"y\": 3, \"yref\": \"y\"}, {\"font\": {\"color\": \"#000000\", \"size\": 8}, \"showarrow\": false, \"text\": \"1.44\", \"x\": 13, \"xref\": \"x\", \"y\": 3, \"yref\": \"y\"}, {\"font\": {\"color\": \"#FFFFFF\", \"size\": 8}, \"showarrow\": false, \"text\": \"0.11\", \"x\": 14, \"xref\": \"x\", \"y\": 3, \"yref\": \"y\"}, {\"font\": {\"color\": \"#000000\", \"size\": 8}, \"showarrow\": false, \"text\": \"0.61\", \"x\": 15, \"xref\": \"x\", \"y\": 3, \"yref\": \"y\"}, {\"font\": {\"color\": \"#000000\", \"size\": 8}, \"showarrow\": false, \"text\": \"1.16\", \"x\": 16, \"xref\": \"x\", \"y\": 3, \"yref\": \"y\"}, {\"font\": {\"color\": \"#FFFFFF\", \"size\": 8}, \"showarrow\": false, \"text\": \"-1.44\", \"x\": 17, \"xref\": \"x\", \"y\": 3, \"yref\": \"y\"}, {\"font\": {\"color\": \"#000000\", \"size\": 8}, \"showarrow\": false, \"text\": \"1.02\", \"x\": 18, \"xref\": \"x\", \"y\": 3, \"yref\": \"y\"}, {\"font\": {\"color\": \"#FFFFFF\", \"size\": 8}, \"showarrow\": false, \"text\": \"-1.2\", \"x\": 19, \"xref\": \"x\", \"y\": 3, \"yref\": \"y\"}, {\"font\": {\"color\": \"#000000\", \"size\": 8}, \"showarrow\": false, \"text\": \"1.51\", \"x\": 0, \"xref\": \"x\", \"y\": 4, \"yref\": \"y\"}, {\"font\": {\"color\": \"#000000\", \"size\": 8}, \"showarrow\": false, \"text\": \"0.6\", \"x\": 1, \"xref\": \"x\", \"y\": 4, \"yref\": \"y\"}, {\"font\": {\"color\": \"#000000\", \"size\": 8}, \"showarrow\": false, \"text\": \"1.03\", \"x\": 2, \"xref\": \"x\", \"y\": 4, \"yref\": \"y\"}, {\"font\": {\"color\": \"#FFFFFF\", \"size\": 8}, \"showarrow\": false, \"text\": \"0.28\", \"x\": 3, \"xref\": \"x\", \"y\": 4, \"yref\": \"y\"}, {\"font\": {\"color\": \"#000000\", \"size\": 8}, \"showarrow\": false, \"text\": \"1.12\", \"x\": 4, \"xref\": \"x\", \"y\": 4, \"yref\": \"y\"}, {\"font\": {\"color\": \"#FFFFFF\", \"size\": 8}, \"showarrow\": false, \"text\": \"0.43\", \"x\": 5, \"xref\": \"x\", \"y\": 4, \"yref\": \"y\"}, {\"font\": {\"color\": \"#FFFFFF\", \"size\": 8}, \"showarrow\": false, \"text\": \"-0.9\", \"x\": 6, \"xref\": \"x\", \"y\": 4, \"yref\": \"y\"}, {\"font\": {\"color\": \"#FFFFFF\", \"size\": 8}, \"showarrow\": false, \"text\": \"-0.45\", \"x\": 7, \"xref\": \"x\", \"y\": 4, \"yref\": \"y\"}, {\"font\": {\"color\": \"#FFFFFF\", \"size\": 8}, \"showarrow\": false, \"text\": \"-0.6\", \"x\": 8, \"xref\": \"x\", \"y\": 4, \"yref\": \"y\"}, {\"font\": {\"color\": \"#FFFFFF\", \"size\": 8}, \"showarrow\": false, \"text\": \"0.33\", \"x\": 9, \"xref\": \"x\", \"y\": 4, \"yref\": \"y\"}, {\"font\": {\"color\": \"#FFFFFF\", \"size\": 8}, \"showarrow\": false, \"text\": \"-0.71\", \"x\": 10, \"xref\": \"x\", \"y\": 4, \"yref\": \"y\"}, {\"font\": {\"color\": \"#FFFFFF\", \"size\": 8}, \"showarrow\": false, \"text\": \"0.51\", \"x\": 11, \"xref\": \"x\", \"y\": 4, \"yref\": \"y\"}, {\"font\": {\"color\": \"#FFFFFF\", \"size\": 8}, \"showarrow\": false, \"text\": \"-0.4\", \"x\": 12, \"xref\": \"x\", \"y\": 4, \"yref\": \"y\"}, {\"font\": {\"color\": \"#FFFFFF\", \"size\": 8}, \"showarrow\": false, \"text\": \"-0.81\", \"x\": 13, \"xref\": \"x\", \"y\": 4, \"yref\": \"y\"}, {\"font\": {\"color\": \"#000000\", \"size\": 8}, \"showarrow\": false, \"text\": \"1.31\", \"x\": 14, \"xref\": \"x\", \"y\": 4, \"yref\": \"y\"}, {\"font\": {\"color\": \"#FFFFFF\", \"size\": 8}, \"showarrow\": false, \"text\": \"0.49\", \"x\": 15, \"xref\": \"x\", \"y\": 4, \"yref\": \"y\"}, {\"font\": {\"color\": \"#FFFFFF\", \"size\": 8}, \"showarrow\": false, \"text\": \"-0.28\", \"x\": 16, \"xref\": \"x\", \"y\": 4, \"yref\": \"y\"}, {\"font\": {\"color\": \"#000000\", \"size\": 8}, \"showarrow\": false, \"text\": \"0.99\", \"x\": 17, \"xref\": \"x\", \"y\": 4, \"yref\": \"y\"}, {\"font\": {\"color\": \"#FFFFFF\", \"size\": 8}, \"showarrow\": false, \"text\": \"-0.36\", \"x\": 18, \"xref\": \"x\", \"y\": 4, \"yref\": \"y\"}, {\"font\": {\"color\": \"#FFFFFF\", \"size\": 8}, \"showarrow\": false, \"text\": \"0.32\", \"x\": 19, \"xref\": \"x\", \"y\": 4, \"yref\": \"y\"}, {\"font\": {\"color\": \"#FFFFFF\", \"size\": 8}, \"showarrow\": false, \"text\": \"-1.08\", \"x\": 0, \"xref\": \"x\", \"y\": 5, \"yref\": \"y\"}, {\"font\": {\"color\": \"#FFFFFF\", \"size\": 8}, \"showarrow\": false, \"text\": \"-1.62\", \"x\": 1, \"xref\": \"x\", \"y\": 5, \"yref\": \"y\"}, {\"font\": {\"color\": \"#FFFFFF\", \"size\": 8}, \"showarrow\": false, \"text\": \"-0.22\", \"x\": 2, \"xref\": \"x\", \"y\": 5, \"yref\": \"y\"}, {\"font\": {\"color\": \"#FFFFFF\", \"size\": 8}, \"showarrow\": false, \"text\": \"-2.18\", \"x\": 3, \"xref\": \"x\", \"y\": 5, \"yref\": \"y\"}, {\"font\": {\"color\": \"#FFFFFF\", \"size\": 8}, \"showarrow\": false, \"text\": \"0.23\", \"x\": 4, \"xref\": \"x\", \"y\": 5, \"yref\": \"y\"}, {\"font\": {\"color\": \"#000000\", \"size\": 8}, \"showarrow\": false, \"text\": \"1.4\", \"x\": 5, \"xref\": \"x\", \"y\": 5, \"yref\": \"y\"}, {\"font\": {\"color\": \"#000000\", \"size\": 8}, \"showarrow\": false, \"text\": \"0.94\", \"x\": 6, \"xref\": \"x\", \"y\": 5, \"yref\": \"y\"}, {\"font\": {\"color\": \"#FFFFFF\", \"size\": 8}, \"showarrow\": false, \"text\": \"-1.7\", \"x\": 7, \"xref\": \"x\", \"y\": 5, \"yref\": \"y\"}, {\"font\": {\"color\": \"#FFFFFF\", \"size\": 8}, \"showarrow\": false, \"text\": \"-1.04\", \"x\": 8, \"xref\": \"x\", \"y\": 5, \"yref\": \"y\"}, {\"font\": {\"color\": \"#000000\", \"size\": 8}, \"showarrow\": false, \"text\": \"4.0\", \"x\": 9, \"xref\": \"x\", \"y\": 5, \"yref\": \"y\"}, {\"font\": {\"color\": \"#FFFFFF\", \"size\": 8}, \"showarrow\": false, \"text\": \"-0.31\", \"x\": 10, \"xref\": \"x\", \"y\": 5, \"yref\": \"y\"}, {\"font\": {\"color\": \"#FFFFFF\", \"size\": 8}, \"showarrow\": false, \"text\": \"-0.33\", \"x\": 11, \"xref\": \"x\", \"y\": 5, \"yref\": \"y\"}, {\"font\": {\"color\": \"#FFFFFF\", \"size\": 8}, \"showarrow\": false, \"text\": \"-0.65\", \"x\": 12, \"xref\": \"x\", \"y\": 5, \"yref\": \"y\"}, {\"font\": {\"color\": \"#000000\", \"size\": 8}, \"showarrow\": false, \"text\": \"0.86\", \"x\": 13, \"xref\": \"x\", \"y\": 5, \"yref\": \"y\"}, {\"font\": {\"color\": \"#FFFFFF\", \"size\": 8}, \"showarrow\": false, \"text\": \"-1.12\", \"x\": 14, \"xref\": \"x\", \"y\": 5, \"yref\": \"y\"}, {\"font\": {\"color\": \"#FFFFFF\", \"size\": 8}, \"showarrow\": false, \"text\": \"-1.5\", \"x\": 15, \"xref\": \"x\", \"y\": 5, \"yref\": \"y\"}, {\"font\": {\"color\": \"#FFFFFF\", \"size\": 8}, \"showarrow\": false, \"text\": \"-1.31\", \"x\": 16, \"xref\": \"x\", \"y\": 5, \"yref\": \"y\"}, {\"font\": {\"color\": \"#000000\", \"size\": 8}, \"showarrow\": false, \"text\": \"0.78\", \"x\": 17, \"xref\": \"x\", \"y\": 5, \"yref\": \"y\"}, {\"font\": {\"color\": \"#FFFFFF\", \"size\": 8}, \"showarrow\": false, \"text\": \"-0.08\", \"x\": 18, \"xref\": \"x\", \"y\": 5, \"yref\": \"y\"}, {\"font\": {\"color\": \"#FFFFFF\", \"size\": 8}, \"showarrow\": false, \"text\": \"-0.17\", \"x\": 19, \"xref\": \"x\", \"y\": 5, \"yref\": \"y\"}, {\"font\": {\"color\": \"#000000\", \"size\": 8}, \"showarrow\": false, \"text\": \"1.54\", \"x\": 0, \"xref\": \"x\", \"y\": 6, \"yref\": \"y\"}, {\"font\": {\"color\": \"#000000\", \"size\": 8}, \"showarrow\": false, \"text\": \"0.85\", \"x\": 1, \"xref\": \"x\", \"y\": 6, \"yref\": \"y\"}, {\"font\": {\"color\": \"#FFFFFF\", \"size\": 8}, \"showarrow\": false, \"text\": \"-0.91\", \"x\": 2, \"xref\": \"x\", \"y\": 6, \"yref\": \"y\"}, {\"font\": {\"color\": \"#FFFFFF\", \"size\": 8}, \"showarrow\": false, \"text\": \"0.16\", \"x\": 3, \"xref\": \"x\", \"y\": 6, \"yref\": \"y\"}, {\"font\": {\"color\": \"#FFFFFF\", \"size\": 8}, \"showarrow\": false, \"text\": \"-0.25\", \"x\": 4, \"xref\": \"x\", \"y\": 6, \"yref\": \"y\"}, {\"font\": {\"color\": \"#FFFFFF\", \"size\": 8}, \"showarrow\": false, \"text\": \"-2.01\", \"x\": 5, \"xref\": \"x\", \"y\": 6, \"yref\": \"y\"}, {\"font\": {\"color\": \"#000000\", \"size\": 8}, \"showarrow\": false, \"text\": \"0.7\", \"x\": 6, \"xref\": \"x\", \"y\": 6, \"yref\": \"y\"}, {\"font\": {\"color\": \"#FFFFFF\", \"size\": 8}, \"showarrow\": false, \"text\": \"-0.43\", \"x\": 7, \"xref\": \"x\", \"y\": 6, \"yref\": \"y\"}, {\"font\": {\"color\": \"#000000\", \"size\": 8}, \"showarrow\": false, \"text\": \"1.04\", \"x\": 8, \"xref\": \"x\", \"y\": 6, \"yref\": \"y\"}, {\"font\": {\"color\": \"#FFFFFF\", \"size\": 8}, \"showarrow\": false, \"text\": \"-0.88\", \"x\": 9, \"xref\": \"x\", \"y\": 6, \"yref\": \"y\"}, {\"font\": {\"color\": \"#FFFFFF\", \"size\": 8}, \"showarrow\": false, \"text\": \"-0.13\", \"x\": 10, \"xref\": \"x\", \"y\": 6, \"yref\": \"y\"}, {\"font\": {\"color\": \"#FFFFFF\", \"size\": 8}, \"showarrow\": false, \"text\": \"-1.64\", \"x\": 11, \"xref\": \"x\", \"y\": 6, \"yref\": \"y\"}, {\"font\": {\"color\": \"#FFFFFF\", \"size\": 8}, \"showarrow\": false, \"text\": \"-0.83\", \"x\": 12, \"xref\": \"x\", \"y\": 6, \"yref\": \"y\"}, {\"font\": {\"color\": \"#FFFFFF\", \"size\": 8}, \"showarrow\": false, \"text\": \"0.2\", \"x\": 13, \"xref\": \"x\", \"y\": 6, \"yref\": \"y\"}, {\"font\": {\"color\": \"#000000\", \"size\": 8}, \"showarrow\": false, \"text\": \"0.7\", \"x\": 14, \"xref\": \"x\", \"y\": 6, \"yref\": \"y\"}, {\"font\": {\"color\": \"#FFFFFF\", \"size\": 8}, \"showarrow\": false, \"text\": \"-1.52\", \"x\": 15, \"xref\": \"x\", \"y\": 6, \"yref\": \"y\"}, {\"font\": {\"color\": \"#FFFFFF\", \"size\": 8}, \"showarrow\": false, \"text\": \"-2.72\", \"x\": 16, \"xref\": \"x\", \"y\": 6, \"yref\": \"y\"}, {\"font\": {\"color\": \"#FFFFFF\", \"size\": 8}, \"showarrow\": false, \"text\": \"0.46\", \"x\": 17, \"xref\": \"x\", \"y\": 6, \"yref\": \"y\"}, {\"font\": {\"color\": \"#FFFFFF\", \"size\": 8}, \"showarrow\": false, \"text\": \"-1.92\", \"x\": 18, \"xref\": \"x\", \"y\": 6, \"yref\": \"y\"}, {\"font\": {\"color\": \"#FFFFFF\", \"size\": 8}, \"showarrow\": false, \"text\": \"-1.31\", \"x\": 19, \"xref\": \"x\", \"y\": 6, \"yref\": \"y\"}, {\"font\": {\"color\": \"#FFFFFF\", \"size\": 8}, \"showarrow\": false, \"text\": \"-1.05\", \"x\": 0, \"xref\": \"x\", \"y\": 7, \"yref\": \"y\"}, {\"font\": {\"color\": \"#FFFFFF\", \"size\": 8}, \"showarrow\": false, \"text\": \"-1.03\", \"x\": 1, \"xref\": \"x\", \"y\": 7, \"yref\": \"y\"}, {\"font\": {\"color\": \"#FFFFFF\", \"size\": 8}, \"showarrow\": false, \"text\": \"-0.5\", \"x\": 2, \"xref\": \"x\", \"y\": 7, \"yref\": \"y\"}, {\"font\": {\"color\": \"#FFFFFF\", \"size\": 8}, \"showarrow\": false, \"text\": \"-1.47\", \"x\": 3, \"xref\": \"x\", \"y\": 7, \"yref\": \"y\"}, {\"font\": {\"color\": \"#FFFFFF\", \"size\": 8}, \"showarrow\": false, \"text\": \"-0.44\", \"x\": 4, \"xref\": \"x\", \"y\": 7, \"yref\": \"y\"}, {\"font\": {\"color\": \"#FFFFFF\", \"size\": 8}, \"showarrow\": false, \"text\": \"-1.29\", \"x\": 5, \"xref\": \"x\", \"y\": 7, \"yref\": \"y\"}, {\"font\": {\"color\": \"#000000\", \"size\": 8}, \"showarrow\": false, \"text\": \"1.61\", \"x\": 6, \"xref\": \"x\", \"y\": 7, \"yref\": \"y\"}, {\"font\": {\"color\": \"#FFFFFF\", \"size\": 8}, \"showarrow\": false, \"text\": \"0.13\", \"x\": 7, \"xref\": \"x\", \"y\": 7, \"yref\": \"y\"}, {\"font\": {\"color\": \"#FFFFFF\", \"size\": 8}, \"showarrow\": false, \"text\": \"-1.22\", \"x\": 8, \"xref\": \"x\", \"y\": 7, \"yref\": \"y\"}, {\"font\": {\"color\": \"#FFFFFF\", \"size\": 8}, \"showarrow\": false, \"text\": \"-0.13\", \"x\": 9, \"xref\": \"x\", \"y\": 7, \"yref\": \"y\"}, {\"font\": {\"color\": \"#FFFFFF\", \"size\": 8}, \"showarrow\": false, \"text\": \"-0.77\", \"x\": 10, \"xref\": \"x\", \"y\": 7, \"yref\": \"y\"}, {\"font\": {\"color\": \"#FFFFFF\", \"size\": 8}, \"showarrow\": false, \"text\": \"-0.58\", \"x\": 11, \"xref\": \"x\", \"y\": 7, \"yref\": \"y\"}, {\"font\": {\"color\": \"#FFFFFF\", \"size\": 8}, \"showarrow\": false, \"text\": \"-0.04\", \"x\": 12, \"xref\": \"x\", \"y\": 7, \"yref\": \"y\"}, {\"font\": {\"color\": \"#FFFFFF\", \"size\": 8}, \"showarrow\": false, \"text\": \"0.27\", \"x\": 13, \"xref\": \"x\", \"y\": 7, \"yref\": \"y\"}, {\"font\": {\"color\": \"#FFFFFF\", \"size\": 8}, \"showarrow\": false, \"text\": \"0.28\", \"x\": 14, \"xref\": \"x\", \"y\": 7, \"yref\": \"y\"}, {\"font\": {\"color\": \"#FFFFFF\", \"size\": 8}, \"showarrow\": false, \"text\": \"-0.39\", \"x\": 15, \"xref\": \"x\", \"y\": 7, \"yref\": \"y\"}, {\"font\": {\"color\": \"#FFFFFF\", \"size\": 8}, \"showarrow\": false, \"text\": \"-0.42\", \"x\": 16, \"xref\": \"x\", \"y\": 7, \"yref\": \"y\"}, {\"font\": {\"color\": \"#FFFFFF\", \"size\": 8}, \"showarrow\": false, \"text\": \"-0.66\", \"x\": 17, \"xref\": \"x\", \"y\": 7, \"yref\": \"y\"}, {\"font\": {\"color\": \"#000000\", \"size\": 8}, \"showarrow\": false, \"text\": \"1.54\", \"x\": 18, \"xref\": \"x\", \"y\": 7, \"yref\": \"y\"}, {\"font\": {\"color\": \"#FFFFFF\", \"size\": 8}, \"showarrow\": false, \"text\": \"-0.6\", \"x\": 19, \"xref\": \"x\", \"y\": 7, \"yref\": \"y\"}, {\"font\": {\"color\": \"#FFFFFF\", \"size\": 8}, \"showarrow\": false, \"text\": \"-1.41\", \"x\": 0, \"xref\": \"x\", \"y\": 8, \"yref\": \"y\"}, {\"font\": {\"color\": \"#FFFFFF\", \"size\": 8}, \"showarrow\": false, \"text\": \"0.25\", \"x\": 1, \"xref\": \"x\", \"y\": 8, \"yref\": \"y\"}, {\"font\": {\"color\": \"#FFFFFF\", \"size\": 8}, \"showarrow\": false, \"text\": \"-0.33\", \"x\": 2, \"xref\": \"x\", \"y\": 8, \"yref\": \"y\"}, {\"font\": {\"color\": \"#FFFFFF\", \"size\": 8}, \"showarrow\": false, \"text\": \"0.09\", \"x\": 3, \"xref\": \"x\", \"y\": 8, \"yref\": \"y\"}, {\"font\": {\"color\": \"#000000\", \"size\": 8}, \"showarrow\": false, \"text\": \"0.64\", \"x\": 4, \"xref\": \"x\", \"y\": 8, \"yref\": \"y\"}, {\"font\": {\"color\": \"#FFFFFF\", \"size\": 8}, \"showarrow\": false, \"text\": \"-0.84\", \"x\": 5, \"xref\": \"x\", \"y\": 8, \"yref\": \"y\"}, {\"font\": {\"color\": \"#000000\", \"size\": 8}, \"showarrow\": false, \"text\": \"0.82\", \"x\": 6, \"xref\": \"x\", \"y\": 8, \"yref\": \"y\"}, {\"font\": {\"color\": \"#FFFFFF\", \"size\": 8}, \"showarrow\": false, \"text\": \"-0.48\", \"x\": 7, \"xref\": \"x\", \"y\": 8, \"yref\": \"y\"}, {\"font\": {\"color\": \"#000000\", \"size\": 8}, \"showarrow\": false, \"text\": \"1.41\", \"x\": 8, \"xref\": \"x\", \"y\": 8, \"yref\": \"y\"}, {\"font\": {\"color\": \"#FFFFFF\", \"size\": 8}, \"showarrow\": false, \"text\": \"-0.46\", \"x\": 9, \"xref\": \"x\", \"y\": 8, \"yref\": \"y\"}, {\"font\": {\"color\": \"#FFFFFF\", \"size\": 8}, \"showarrow\": false, \"text\": \"0.31\", \"x\": 10, \"xref\": \"x\", \"y\": 8, \"yref\": \"y\"}, {\"font\": {\"color\": \"#000000\", \"size\": 8}, \"showarrow\": false, \"text\": \"2.46\", \"x\": 11, \"xref\": \"x\", \"y\": 8, \"yref\": \"y\"}, {\"font\": {\"color\": \"#000000\", \"size\": 8}, \"showarrow\": false, \"text\": \"0.62\", \"x\": 12, \"xref\": \"x\", \"y\": 8, \"yref\": \"y\"}, {\"font\": {\"color\": \"#000000\", \"size\": 8}, \"showarrow\": false, \"text\": \"1.67\", \"x\": 13, \"xref\": \"x\", \"y\": 8, \"yref\": \"y\"}, {\"font\": {\"color\": \"#FFFFFF\", \"size\": 8}, \"showarrow\": false, \"text\": \"-0.24\", \"x\": 14, \"xref\": \"x\", \"y\": 8, \"yref\": \"y\"}, {\"font\": {\"color\": \"#FFFFFF\", \"size\": 8}, \"showarrow\": false, \"text\": \"-1.46\", \"x\": 15, \"xref\": \"x\", \"y\": 8, \"yref\": \"y\"}, {\"font\": {\"color\": \"#000000\", \"size\": 8}, \"showarrow\": false, \"text\": \"1.33\", \"x\": 16, \"xref\": \"x\", \"y\": 8, \"yref\": \"y\"}, {\"font\": {\"color\": \"#FFFFFF\", \"size\": 8}, \"showarrow\": false, \"text\": \"-1.04\", \"x\": 17, \"xref\": \"x\", \"y\": 8, \"yref\": \"y\"}, {\"font\": {\"color\": \"#FFFFFF\", \"size\": 8}, \"showarrow\": false, \"text\": \"-0.43\", \"x\": 18, \"xref\": \"x\", \"y\": 8, \"yref\": \"y\"}, {\"font\": {\"color\": \"#FFFFFF\", \"size\": 8}, \"showarrow\": false, \"text\": \"-0.63\", \"x\": 19, \"xref\": \"x\", \"y\": 8, \"yref\": \"y\"}, {\"font\": {\"color\": \"#FFFFFF\", \"size\": 8}, \"showarrow\": false, \"text\": \"0.19\", \"x\": 0, \"xref\": \"x\", \"y\": 9, \"yref\": \"y\"}, {\"font\": {\"color\": \"#FFFFFF\", \"size\": 8}, \"showarrow\": false, \"text\": \"0.21\", \"x\": 1, \"xref\": \"x\", \"y\": 9, \"yref\": \"y\"}, {\"font\": {\"color\": \"#FFFFFF\", \"size\": 8}, \"showarrow\": false, \"text\": \"-0.99\", \"x\": 2, \"xref\": \"x\", \"y\": 9, \"yref\": \"y\"}, {\"font\": {\"color\": \"#FFFFFF\", \"size\": 8}, \"showarrow\": false, \"text\": \"-0.05\", \"x\": 3, \"xref\": \"x\", \"y\": 9, \"yref\": \"y\"}, {\"font\": {\"color\": \"#FFFFFF\", \"size\": 8}, \"showarrow\": false, \"text\": \"-0.85\", \"x\": 4, \"xref\": \"x\", \"y\": 9, \"yref\": \"y\"}, {\"font\": {\"color\": \"#FFFFFF\", \"size\": 8}, \"showarrow\": false, \"text\": \"-0.23\", \"x\": 5, \"xref\": \"x\", \"y\": 9, \"yref\": \"y\"}, {\"font\": {\"color\": \"#000000\", \"size\": 8}, \"showarrow\": false, \"text\": \"1.56\", \"x\": 6, \"xref\": \"x\", \"y\": 9, \"yref\": \"y\"}, {\"font\": {\"color\": \"#FFFFFF\", \"size\": 8}, \"showarrow\": false, \"text\": \"-1.31\", \"x\": 7, \"xref\": \"x\", \"y\": 9, \"yref\": \"y\"}, {\"font\": {\"color\": \"#000000\", \"size\": 8}, \"showarrow\": false, \"text\": \"1.06\", \"x\": 8, \"xref\": \"x\", \"y\": 9, \"yref\": \"y\"}, {\"font\": {\"color\": \"#FFFFFF\", \"size\": 8}, \"showarrow\": false, \"text\": \"-2.26\", \"x\": 9, \"xref\": \"x\", \"y\": 9, \"yref\": \"y\"}, {\"font\": {\"color\": \"#FFFFFF\", \"size\": 8}, \"showarrow\": false, \"text\": \"-0.22\", \"x\": 10, \"xref\": \"x\", \"y\": 9, \"yref\": \"y\"}, {\"font\": {\"color\": \"#FFFFFF\", \"size\": 8}, \"showarrow\": false, \"text\": \"-1.2\", \"x\": 11, \"xref\": \"x\", \"y\": 9, \"yref\": \"y\"}, {\"font\": {\"color\": \"#FFFFFF\", \"size\": 8}, \"showarrow\": false, \"text\": \"-1.01\", \"x\": 12, \"xref\": \"x\", \"y\": 9, \"yref\": \"y\"}, {\"font\": {\"color\": \"#FFFFFF\", \"size\": 8}, \"showarrow\": false, \"text\": \"-0.83\", \"x\": 13, \"xref\": \"x\", \"y\": 9, \"yref\": \"y\"}, {\"font\": {\"color\": \"#FFFFFF\", \"size\": 8}, \"showarrow\": false, \"text\": \"0.42\", \"x\": 14, \"xref\": \"x\", \"y\": 9, \"yref\": \"y\"}, {\"font\": {\"color\": \"#FFFFFF\", \"size\": 8}, \"showarrow\": false, \"text\": \"-1.77\", \"x\": 15, \"xref\": \"x\", \"y\": 9, \"yref\": \"y\"}, {\"font\": {\"color\": \"#FFFFFF\", \"size\": 8}, \"showarrow\": false, \"text\": \"-0.78\", \"x\": 16, \"xref\": \"x\", \"y\": 9, \"yref\": \"y\"}, {\"font\": {\"color\": \"#FFFFFF\", \"size\": 8}, \"showarrow\": false, \"text\": \"-0.61\", \"x\": 17, \"xref\": \"x\", \"y\": 9, \"yref\": \"y\"}, {\"font\": {\"color\": \"#FFFFFF\", \"size\": 8}, \"showarrow\": false, \"text\": \"0.22\", \"x\": 18, \"xref\": \"x\", \"y\": 9, \"yref\": \"y\"}, {\"font\": {\"color\": \"#FFFFFF\", \"size\": 8}, \"showarrow\": false, \"text\": \"-0.17\", \"x\": 19, \"xref\": \"x\", \"y\": 9, \"yref\": \"y\"}, {\"font\": {\"color\": \"#FFFFFF\", \"size\": 8}, \"showarrow\": false, \"text\": \"-0.06\", \"x\": 0, \"xref\": \"x\", \"y\": 10, \"yref\": \"y\"}, {\"font\": {\"color\": \"#FFFFFF\", \"size\": 8}, \"showarrow\": false, \"text\": \"-1.3\", \"x\": 1, \"xref\": \"x\", \"y\": 10, \"yref\": \"y\"}, {\"font\": {\"color\": \"#000000\", \"size\": 8}, \"showarrow\": false, \"text\": \"1.37\", \"x\": 2, \"xref\": \"x\", \"y\": 10, \"yref\": \"y\"}, {\"font\": {\"color\": \"#FFFFFF\", \"size\": 8}, \"showarrow\": false, \"text\": \"-0.2\", \"x\": 3, \"xref\": \"x\", \"y\": 10, \"yref\": \"y\"}, {\"font\": {\"color\": \"#FFFFFF\", \"size\": 8}, \"showarrow\": false, \"text\": \"-0.38\", \"x\": 4, \"xref\": \"x\", \"y\": 10, \"yref\": \"y\"}, {\"font\": {\"color\": \"#FFFFFF\", \"size\": 8}, \"showarrow\": false, \"text\": \"-1.31\", \"x\": 5, \"xref\": \"x\", \"y\": 10, \"yref\": \"y\"}, {\"font\": {\"color\": \"#FFFFFF\", \"size\": 8}, \"showarrow\": false, \"text\": \"0.04\", \"x\": 6, \"xref\": \"x\", \"y\": 10, \"yref\": \"y\"}, {\"font\": {\"color\": \"#FFFFFF\", \"size\": 8}, \"showarrow\": false, \"text\": \"-0.83\", \"x\": 7, \"xref\": \"x\", \"y\": 10, \"yref\": \"y\"}, {\"font\": {\"color\": \"#FFFFFF\", \"size\": 8}, \"showarrow\": false, \"text\": \"0.04\", \"x\": 8, \"xref\": \"x\", \"y\": 10, \"yref\": \"y\"}, {\"font\": {\"color\": \"#000000\", \"size\": 8}, \"showarrow\": false, \"text\": \"0.97\", \"x\": 9, \"xref\": \"x\", \"y\": 10, \"yref\": \"y\"}, {\"font\": {\"color\": \"#FFFFFF\", \"size\": 8}, \"showarrow\": false, \"text\": \"-0.55\", \"x\": 10, \"xref\": \"x\", \"y\": 10, \"yref\": \"y\"}, {\"font\": {\"color\": \"#000000\", \"size\": 8}, \"showarrow\": false, \"text\": \"1.3\", \"x\": 11, \"xref\": \"x\", \"y\": 10, \"yref\": \"y\"}, {\"font\": {\"color\": \"#FFFFFF\", \"size\": 8}, \"showarrow\": false, \"text\": \"-0.72\", \"x\": 12, \"xref\": \"x\", \"y\": 10, \"yref\": \"y\"}, {\"font\": {\"color\": \"#FFFFFF\", \"size\": 8}, \"showarrow\": false, \"text\": \"-0.48\", \"x\": 13, \"xref\": \"x\", \"y\": 10, \"yref\": \"y\"}, {\"font\": {\"color\": \"#FFFFFF\", \"size\": 8}, \"showarrow\": false, \"text\": \"0.23\", \"x\": 14, \"xref\": \"x\", \"y\": 10, \"yref\": \"y\"}, {\"font\": {\"color\": \"#FFFFFF\", \"size\": 8}, \"showarrow\": false, \"text\": \"-1.49\", \"x\": 15, \"xref\": \"x\", \"y\": 10, \"yref\": \"y\"}, {\"font\": {\"color\": \"#FFFFFF\", \"size\": 8}, \"showarrow\": false, \"text\": \"-0.07\", \"x\": 16, \"xref\": \"x\", \"y\": 10, \"yref\": \"y\"}, {\"font\": {\"color\": \"#FFFFFF\", \"size\": 8}, \"showarrow\": false, \"text\": \"-1.15\", \"x\": 17, \"xref\": \"x\", \"y\": 10, \"yref\": \"y\"}, {\"font\": {\"color\": \"#FFFFFF\", \"size\": 8}, \"showarrow\": false, \"text\": \"0.06\", \"x\": 18, \"xref\": \"x\", \"y\": 10, \"yref\": \"y\"}, {\"font\": {\"color\": \"#FFFFFF\", \"size\": 8}, \"showarrow\": false, \"text\": \"-0.66\", \"x\": 19, \"xref\": \"x\", \"y\": 10, \"yref\": \"y\"}, {\"font\": {\"color\": \"#FFFFFF\", \"size\": 8}, \"showarrow\": false, \"text\": \"-0.83\", \"x\": 0, \"xref\": \"x\", \"y\": 11, \"yref\": \"y\"}, {\"font\": {\"color\": \"#FFFFFF\", \"size\": 8}, \"showarrow\": false, \"text\": \"0.37\", \"x\": 1, \"xref\": \"x\", \"y\": 11, \"yref\": \"y\"}, {\"font\": {\"color\": \"#FFFFFF\", \"size\": 8}, \"showarrow\": false, \"text\": \"-0.53\", \"x\": 2, \"xref\": \"x\", \"y\": 11, \"yref\": \"y\"}, {\"font\": {\"color\": \"#FFFFFF\", \"size\": 8}, \"showarrow\": false, \"text\": \"0.2\", \"x\": 3, \"xref\": \"x\", \"y\": 11, \"yref\": \"y\"}, {\"font\": {\"color\": \"#000000\", \"size\": 8}, \"showarrow\": false, \"text\": \"1.48\", \"x\": 4, \"xref\": \"x\", \"y\": 11, \"yref\": \"y\"}, {\"font\": {\"color\": \"#000000\", \"size\": 8}, \"showarrow\": false, \"text\": \"1.31\", \"x\": 5, \"xref\": \"x\", \"y\": 11, \"yref\": \"y\"}, {\"font\": {\"color\": \"#FFFFFF\", \"size\": 8}, \"showarrow\": false, \"text\": \"-1.2\", \"x\": 6, \"xref\": \"x\", \"y\": 11, \"yref\": \"y\"}, {\"font\": {\"color\": \"#000000\", \"size\": 8}, \"showarrow\": false, \"text\": \"1.54\", \"x\": 7, \"xref\": \"x\", \"y\": 11, \"yref\": \"y\"}, {\"font\": {\"color\": \"#FFFFFF\", \"size\": 8}, \"showarrow\": false, \"text\": \"-1.71\", \"x\": 8, \"xref\": \"x\", \"y\": 11, \"yref\": \"y\"}, {\"font\": {\"color\": \"#FFFFFF\", \"size\": 8}, \"showarrow\": false, \"text\": \"0.07\", \"x\": 9, \"xref\": \"x\", \"y\": 11, \"yref\": \"y\"}, {\"font\": {\"color\": \"#FFFFFF\", \"size\": 8}, \"showarrow\": false, \"text\": \"0.36\", \"x\": 10, \"xref\": \"x\", \"y\": 11, \"yref\": \"y\"}, {\"font\": {\"color\": \"#FFFFFF\", \"size\": 8}, \"showarrow\": false, \"text\": \"-2.76\", \"x\": 11, \"xref\": \"x\", \"y\": 11, \"yref\": \"y\"}, {\"font\": {\"color\": \"#000000\", \"size\": 8}, \"showarrow\": false, \"text\": \"0.57\", \"x\": 12, \"xref\": \"x\", \"y\": 11, \"yref\": \"y\"}, {\"font\": {\"color\": \"#000000\", \"size\": 8}, \"showarrow\": false, \"text\": \"1.45\", \"x\": 13, \"xref\": \"x\", \"y\": 11, \"yref\": \"y\"}, {\"font\": {\"color\": \"#000000\", \"size\": 8}, \"showarrow\": false, \"text\": \"0.74\", \"x\": 14, \"xref\": \"x\", \"y\": 11, \"yref\": \"y\"}, {\"font\": {\"color\": \"#000000\", \"size\": 8}, \"showarrow\": false, \"text\": \"2.33\", \"x\": 15, \"xref\": \"x\", \"y\": 11, \"yref\": \"y\"}, {\"font\": {\"color\": \"#FFFFFF\", \"size\": 8}, \"showarrow\": false, \"text\": \"-1.66\", \"x\": 16, \"xref\": \"x\", \"y\": 11, \"yref\": \"y\"}, {\"font\": {\"color\": \"#000000\", \"size\": 8}, \"showarrow\": false, \"text\": \"2.4\", \"x\": 17, \"xref\": \"x\", \"y\": 11, \"yref\": \"y\"}, {\"font\": {\"color\": \"#000000\", \"size\": 8}, \"showarrow\": false, \"text\": \"0.78\", \"x\": 18, \"xref\": \"x\", \"y\": 11, \"yref\": \"y\"}, {\"font\": {\"color\": \"#FFFFFF\", \"size\": 8}, \"showarrow\": false, \"text\": \"-0.62\", \"x\": 19, \"xref\": \"x\", \"y\": 11, \"yref\": \"y\"}, {\"font\": {\"color\": \"#000000\", \"size\": 8}, \"showarrow\": false, \"text\": \"0.82\", \"x\": 0, \"xref\": \"x\", \"y\": 12, \"yref\": \"y\"}, {\"font\": {\"color\": \"#FFFFFF\", \"size\": 8}, \"showarrow\": false, \"text\": \"-0.08\", \"x\": 1, \"xref\": \"x\", \"y\": 12, \"yref\": \"y\"}, {\"font\": {\"color\": \"#000000\", \"size\": 8}, \"showarrow\": false, \"text\": \"1.57\", \"x\": 2, \"xref\": \"x\", \"y\": 12, \"yref\": \"y\"}, {\"font\": {\"color\": \"#FFFFFF\", \"size\": 8}, \"showarrow\": false, \"text\": \"0.16\", \"x\": 3, \"xref\": \"x\", \"y\": 12, \"yref\": \"y\"}, {\"font\": {\"color\": \"#FFFFFF\", \"size\": 8}, \"showarrow\": false, \"text\": \"-0.28\", \"x\": 4, \"xref\": \"x\", \"y\": 12, \"yref\": \"y\"}, {\"font\": {\"color\": \"#FFFFFF\", \"size\": 8}, \"showarrow\": false, \"text\": \"0.31\", \"x\": 5, \"xref\": \"x\", \"y\": 12, \"yref\": \"y\"}, {\"font\": {\"color\": \"#000000\", \"size\": 8}, \"showarrow\": false, \"text\": \"0.58\", \"x\": 6, \"xref\": \"x\", \"y\": 12, \"yref\": \"y\"}, {\"font\": {\"color\": \"#FFFFFF\", \"size\": 8}, \"showarrow\": false, \"text\": \"0.44\", \"x\": 7, \"xref\": \"x\", \"y\": 12, \"yref\": \"y\"}, {\"font\": {\"color\": \"#FFFFFF\", \"size\": 8}, \"showarrow\": false, \"text\": \"0.33\", \"x\": 8, \"xref\": \"x\", \"y\": 12, \"yref\": \"y\"}, {\"font\": {\"color\": \"#FFFFFF\", \"size\": 8}, \"showarrow\": false, \"text\": \"0.5\", \"x\": 9, \"xref\": \"x\", \"y\": 12, \"yref\": \"y\"}, {\"font\": {\"color\": \"#FFFFFF\", \"size\": 8}, \"showarrow\": false, \"text\": \"-0.52\", \"x\": 10, \"xref\": \"x\", \"y\": 12, \"yref\": \"y\"}, {\"font\": {\"color\": \"#FFFFFF\", \"size\": 8}, \"showarrow\": false, \"text\": \"-0.13\", \"x\": 11, \"xref\": \"x\", \"y\": 12, \"yref\": \"y\"}, {\"font\": {\"color\": \"#FFFFFF\", \"size\": 8}, \"showarrow\": false, \"text\": \"-0.39\", \"x\": 12, \"xref\": \"x\", \"y\": 12, \"yref\": \"y\"}, {\"font\": {\"color\": \"#000000\", \"size\": 8}, \"showarrow\": false, \"text\": \"1.29\", \"x\": 13, \"xref\": \"x\", \"y\": 12, \"yref\": \"y\"}, {\"font\": {\"color\": \"#FFFFFF\", \"size\": 8}, \"showarrow\": false, \"text\": \"-0.61\", \"x\": 14, \"xref\": \"x\", \"y\": 12, \"yref\": \"y\"}, {\"font\": {\"color\": \"#FFFFFF\", \"size\": 8}, \"showarrow\": false, \"text\": \"-0.47\", \"x\": 15, \"xref\": \"x\", \"y\": 12, \"yref\": \"y\"}, {\"font\": {\"color\": \"#000000\", \"size\": 8}, \"showarrow\": false, \"text\": \"2.29\", \"x\": 16, \"xref\": \"x\", \"y\": 12, \"yref\": \"y\"}, {\"font\": {\"color\": \"#FFFFFF\", \"size\": 8}, \"showarrow\": false, \"text\": \"-0.52\", \"x\": 17, \"xref\": \"x\", \"y\": 12, \"yref\": \"y\"}, {\"font\": {\"color\": \"#000000\", \"size\": 8}, \"showarrow\": false, \"text\": \"0.58\", \"x\": 18, \"xref\": \"x\", \"y\": 12, \"yref\": \"y\"}, {\"font\": {\"color\": \"#FFFFFF\", \"size\": 8}, \"showarrow\": false, \"text\": \"0.48\", \"x\": 19, \"xref\": \"x\", \"y\": 12, \"yref\": \"y\"}, {\"font\": {\"color\": \"#000000\", \"size\": 8}, \"showarrow\": false, \"text\": \"0.82\", \"x\": 0, \"xref\": \"x\", \"y\": 13, \"yref\": \"y\"}, {\"font\": {\"color\": \"#FFFFFF\", \"size\": 8}, \"showarrow\": false, \"text\": \"-0.93\", \"x\": 1, \"xref\": \"x\", \"y\": 13, \"yref\": \"y\"}, {\"font\": {\"color\": \"#FFFFFF\", \"size\": 8}, \"showarrow\": false, \"text\": \"-0.27\", \"x\": 2, \"xref\": \"x\", \"y\": 13, \"yref\": \"y\"}, {\"font\": {\"color\": \"#FFFFFF\", \"size\": 8}, \"showarrow\": false, \"text\": \"0.12\", \"x\": 3, \"xref\": \"x\", \"y\": 13, \"yref\": \"y\"}, {\"font\": {\"color\": \"#000000\", \"size\": 8}, \"showarrow\": false, \"text\": \"0.6\", \"x\": 4, \"xref\": \"x\", \"y\": 13, \"yref\": \"y\"}, {\"font\": {\"color\": \"#000000\", \"size\": 8}, \"showarrow\": false, \"text\": \"0.88\", \"x\": 5, \"xref\": \"x\", \"y\": 13, \"yref\": \"y\"}, {\"font\": {\"color\": \"#000000\", \"size\": 8}, \"showarrow\": false, \"text\": \"0.56\", \"x\": 6, \"xref\": \"x\", \"y\": 13, \"yref\": \"y\"}, {\"font\": {\"color\": \"#FFFFFF\", \"size\": 8}, \"showarrow\": false, \"text\": \"0.25\", \"x\": 7, \"xref\": \"x\", \"y\": 13, \"yref\": \"y\"}, {\"font\": {\"color\": \"#FFFFFF\", \"size\": 8}, \"showarrow\": false, \"text\": \"0.41\", \"x\": 8, \"xref\": \"x\", \"y\": 13, \"yref\": \"y\"}, {\"font\": {\"color\": \"#FFFFFF\", \"size\": 8}, \"showarrow\": false, \"text\": \"-0.47\", \"x\": 9, \"xref\": \"x\", \"y\": 13, \"yref\": \"y\"}, {\"font\": {\"color\": \"#000000\", \"size\": 8}, \"showarrow\": false, \"text\": \"0.86\", \"x\": 10, \"xref\": \"x\", \"y\": 13, \"yref\": \"y\"}, {\"font\": {\"color\": \"#FFFFFF\", \"size\": 8}, \"showarrow\": false, \"text\": \"-0.87\", \"x\": 11, \"xref\": \"x\", \"y\": 13, \"yref\": \"y\"}, {\"font\": {\"color\": \"#FFFFFF\", \"size\": 8}, \"showarrow\": false, \"text\": \"-0.7\", \"x\": 12, \"xref\": \"x\", \"y\": 13, \"yref\": \"y\"}, {\"font\": {\"color\": \"#FFFFFF\", \"size\": 8}, \"showarrow\": false, \"text\": \"-0.13\", \"x\": 13, \"xref\": \"x\", \"y\": 13, \"yref\": \"y\"}, {\"font\": {\"color\": \"#FFFFFF\", \"size\": 8}, \"showarrow\": false, \"text\": \"-0.56\", \"x\": 14, \"xref\": \"x\", \"y\": 13, \"yref\": \"y\"}, {\"font\": {\"color\": \"#FFFFFF\", \"size\": 8}, \"showarrow\": false, \"text\": \"0.02\", \"x\": 15, \"xref\": \"x\", \"y\": 13, \"yref\": \"y\"}, {\"font\": {\"color\": \"#000000\", \"size\": 8}, \"showarrow\": false, \"text\": \"1.53\", \"x\": 16, \"xref\": \"x\", \"y\": 13, \"yref\": \"y\"}, {\"font\": {\"color\": \"#000000\", \"size\": 8}, \"showarrow\": false, \"text\": \"1.67\", \"x\": 17, \"xref\": \"x\", \"y\": 13, \"yref\": \"y\"}, {\"font\": {\"color\": \"#FFFFFF\", \"size\": 8}, \"showarrow\": false, \"text\": \"-0.59\", \"x\": 18, \"xref\": \"x\", \"y\": 13, \"yref\": \"y\"}, {\"font\": {\"color\": \"#FFFFFF\", \"size\": 8}, \"showarrow\": false, \"text\": \"-0.69\", \"x\": 19, \"xref\": \"x\", \"y\": 13, \"yref\": \"y\"}, {\"font\": {\"color\": \"#FFFFFF\", \"size\": 8}, \"showarrow\": false, \"text\": \"-0.4\", \"x\": 0, \"xref\": \"x\", \"y\": 14, \"yref\": \"y\"}, {\"font\": {\"color\": \"#FFFFFF\", \"size\": 8}, \"showarrow\": false, \"text\": \"-0.46\", \"x\": 1, \"xref\": \"x\", \"y\": 14, \"yref\": \"y\"}, {\"font\": {\"color\": \"#000000\", \"size\": 8}, \"showarrow\": false, \"text\": \"0.88\", \"x\": 2, \"xref\": \"x\", \"y\": 14, \"yref\": \"y\"}, {\"font\": {\"color\": \"#FFFFFF\", \"size\": 8}, \"showarrow\": false, \"text\": \"-0.33\", \"x\": 3, \"xref\": \"x\", \"y\": 14, \"yref\": \"y\"}, {\"font\": {\"color\": \"#FFFFFF\", \"size\": 8}, \"showarrow\": false, \"text\": \"-0.51\", \"x\": 4, \"xref\": \"x\", \"y\": 14, \"yref\": \"y\"}, {\"font\": {\"color\": \"#000000\", \"size\": 8}, \"showarrow\": false, \"text\": \"1.54\", \"x\": 5, \"xref\": \"x\", \"y\": 14, \"yref\": \"y\"}, {\"font\": {\"color\": \"#FFFFFF\", \"size\": 8}, \"showarrow\": false, \"text\": \"0.16\", \"x\": 6, \"xref\": \"x\", \"y\": 14, \"yref\": \"y\"}, {\"font\": {\"color\": \"#FFFFFF\", \"size\": 8}, \"showarrow\": false, \"text\": \"-0.22\", \"x\": 7, \"xref\": \"x\", \"y\": 14, \"yref\": \"y\"}, {\"font\": {\"color\": \"#FFFFFF\", \"size\": 8}, \"showarrow\": false, \"text\": \"-0.16\", \"x\": 8, \"xref\": \"x\", \"y\": 14, \"yref\": \"y\"}, {\"font\": {\"color\": \"#000000\", \"size\": 8}, \"showarrow\": false, \"text\": \"1.57\", \"x\": 9, \"xref\": \"x\", \"y\": 14, \"yref\": \"y\"}, {\"font\": {\"color\": \"#FFFFFF\", \"size\": 8}, \"showarrow\": false, \"text\": \"-1.33\", \"x\": 10, \"xref\": \"x\", \"y\": 14, \"yref\": \"y\"}, {\"font\": {\"color\": \"#FFFFFF\", \"size\": 8}, \"showarrow\": false, \"text\": \"0.12\", \"x\": 11, \"xref\": \"x\", \"y\": 14, \"yref\": \"y\"}, {\"font\": {\"color\": \"#000000\", \"size\": 8}, \"showarrow\": false, \"text\": \"0.86\", \"x\": 12, \"xref\": \"x\", \"y\": 14, \"yref\": \"y\"}, {\"font\": {\"color\": \"#FFFFFF\", \"size\": 8}, \"showarrow\": false, \"text\": \"-1.09\", \"x\": 13, \"xref\": \"x\", \"y\": 14, \"yref\": \"y\"}, {\"font\": {\"color\": \"#FFFFFF\", \"size\": 8}, \"showarrow\": false, \"text\": \"-0.55\", \"x\": 14, \"xref\": \"x\", \"y\": 14, \"yref\": \"y\"}, {\"font\": {\"color\": \"#000000\", \"size\": 8}, \"showarrow\": false, \"text\": \"2.14\", \"x\": 15, \"xref\": \"x\", \"y\": 14, \"yref\": \"y\"}, {\"font\": {\"color\": \"#FFFFFF\", \"size\": 8}, \"showarrow\": false, \"text\": \"-0.17\", \"x\": 16, \"xref\": \"x\", \"y\": 14, \"yref\": \"y\"}, {\"font\": {\"color\": \"#FFFFFF\", \"size\": 8}, \"showarrow\": false, \"text\": \"-0.44\", \"x\": 17, \"xref\": \"x\", \"y\": 14, \"yref\": \"y\"}, {\"font\": {\"color\": \"#000000\", \"size\": 8}, \"showarrow\": false, \"text\": \"0.57\", \"x\": 18, \"xref\": \"x\", \"y\": 14, \"yref\": \"y\"}, {\"font\": {\"color\": \"#FFFFFF\", \"size\": 8}, \"showarrow\": false, \"text\": \"-0.66\", \"x\": 19, \"xref\": \"x\", \"y\": 14, \"yref\": \"y\"}, {\"font\": {\"color\": \"#FFFFFF\", \"size\": 8}, \"showarrow\": false, \"text\": \"-0.16\", \"x\": 0, \"xref\": \"x\", \"y\": 15, \"yref\": \"y\"}, {\"font\": {\"color\": \"#000000\", \"size\": 8}, \"showarrow\": false, \"text\": \"0.64\", \"x\": 1, \"xref\": \"x\", \"y\": 15, \"yref\": \"y\"}, {\"font\": {\"color\": \"#FFFFFF\", \"size\": 8}, \"showarrow\": false, \"text\": \"0.27\", \"x\": 2, \"xref\": \"x\", \"y\": 15, \"yref\": \"y\"}, {\"font\": {\"color\": \"#FFFFFF\", \"size\": 8}, \"showarrow\": false, \"text\": \"-0.87\", \"x\": 3, \"xref\": \"x\", \"y\": 15, \"yref\": \"y\"}, {\"font\": {\"color\": \"#000000\", \"size\": 8}, \"showarrow\": false, \"text\": \"0.92\", \"x\": 4, \"xref\": \"x\", \"y\": 15, \"yref\": \"y\"}, {\"font\": {\"color\": \"#FFFFFF\", \"size\": 8}, \"showarrow\": false, \"text\": \"-1.37\", \"x\": 5, \"xref\": \"x\", \"y\": 15, \"yref\": \"y\"}, {\"font\": {\"color\": \"#FFFFFF\", \"size\": 8}, \"showarrow\": false, \"text\": \"0.15\", \"x\": 6, \"xref\": \"x\", \"y\": 15, \"yref\": \"y\"}, {\"font\": {\"color\": \"#FFFFFF\", \"size\": 8}, \"showarrow\": false, \"text\": \"-0.32\", \"x\": 7, \"xref\": \"x\", \"y\": 15, \"yref\": \"y\"}, {\"font\": {\"color\": \"#FFFFFF\", \"size\": 8}, \"showarrow\": false, \"text\": \"-0.31\", \"x\": 8, \"xref\": \"x\", \"y\": 15, \"yref\": \"y\"}, {\"font\": {\"color\": \"#FFFFFF\", \"size\": 8}, \"showarrow\": false, \"text\": \"-0.49\", \"x\": 9, \"xref\": \"x\", \"y\": 15, \"yref\": \"y\"}, {\"font\": {\"color\": \"#FFFFFF\", \"size\": 8}, \"showarrow\": false, \"text\": \"-0.17\", \"x\": 10, \"xref\": \"x\", \"y\": 15, \"yref\": \"y\"}, {\"font\": {\"color\": \"#FFFFFF\", \"size\": 8}, \"showarrow\": false, \"text\": \"-0.02\", \"x\": 11, \"xref\": \"x\", \"y\": 15, \"yref\": \"y\"}, {\"font\": {\"color\": \"#000000\", \"size\": 8}, \"showarrow\": false, \"text\": \"1.57\", \"x\": 12, \"xref\": \"x\", \"y\": 15, \"yref\": \"y\"}, {\"font\": {\"color\": \"#FFFFFF\", \"size\": 8}, \"showarrow\": false, \"text\": \"0.03\", \"x\": 13, \"xref\": \"x\", \"y\": 15, \"yref\": \"y\"}, {\"font\": {\"color\": \"#000000\", \"size\": 8}, \"showarrow\": false, \"text\": \"0.98\", \"x\": 14, \"xref\": \"x\", \"y\": 15, \"yref\": \"y\"}, {\"font\": {\"color\": \"#FFFFFF\", \"size\": 8}, \"showarrow\": false, \"text\": \"-2.92\", \"x\": 15, \"xref\": \"x\", \"y\": 15, \"yref\": \"y\"}, {\"font\": {\"color\": \"#FFFFFF\", \"size\": 8}, \"showarrow\": false, \"text\": \"-0.8\", \"x\": 16, \"xref\": \"x\", \"y\": 15, \"yref\": \"y\"}, {\"font\": {\"color\": \"#FFFFFF\", \"size\": 8}, \"showarrow\": false, \"text\": \"0.21\", \"x\": 17, \"xref\": \"x\", \"y\": 15, \"yref\": \"y\"}, {\"font\": {\"color\": \"#FFFFFF\", \"size\": 8}, \"showarrow\": false, \"text\": \"-0.69\", \"x\": 18, \"xref\": \"x\", \"y\": 15, \"yref\": \"y\"}, {\"font\": {\"color\": \"#FFFFFF\", \"size\": 8}, \"showarrow\": false, \"text\": \"-1.53\", \"x\": 19, \"xref\": \"x\", \"y\": 15, \"yref\": \"y\"}, {\"font\": {\"color\": \"#FFFFFF\", \"size\": 8}, \"showarrow\": false, \"text\": \"-0.35\", \"x\": 0, \"xref\": \"x\", \"y\": 16, \"yref\": \"y\"}, {\"font\": {\"color\": \"#FFFFFF\", \"size\": 8}, \"showarrow\": false, \"text\": \"-2.7\", \"x\": 1, \"xref\": \"x\", \"y\": 16, \"yref\": \"y\"}, {\"font\": {\"color\": \"#000000\", \"size\": 8}, \"showarrow\": false, \"text\": \"1.38\", \"x\": 2, \"xref\": \"x\", \"y\": 16, \"yref\": \"y\"}, {\"font\": {\"color\": \"#FFFFFF\", \"size\": 8}, \"showarrow\": false, \"text\": \"0.01\", \"x\": 3, \"xref\": \"x\", \"y\": 16, \"yref\": \"y\"}, {\"font\": {\"color\": \"#FFFFFF\", \"size\": 8}, \"showarrow\": false, \"text\": \"-0.9\", \"x\": 4, \"xref\": \"x\", \"y\": 16, \"yref\": \"y\"}, {\"font\": {\"color\": \"#FFFFFF\", \"size\": 8}, \"showarrow\": false, \"text\": \"-0.96\", \"x\": 5, \"xref\": \"x\", \"y\": 16, \"yref\": \"y\"}, {\"font\": {\"color\": \"#FFFFFF\", \"size\": 8}, \"showarrow\": false, \"text\": \"0.46\", \"x\": 6, \"xref\": \"x\", \"y\": 16, \"yref\": \"y\"}, {\"font\": {\"color\": \"#FFFFFF\", \"size\": 8}, \"showarrow\": false, \"text\": \"-0.96\", \"x\": 7, \"xref\": \"x\", \"y\": 16, \"yref\": \"y\"}, {\"font\": {\"color\": \"#000000\", \"size\": 8}, \"showarrow\": false, \"text\": \"1.03\", \"x\": 8, \"xref\": \"x\", \"y\": 16, \"yref\": \"y\"}, {\"font\": {\"color\": \"#FFFFFF\", \"size\": 8}, \"showarrow\": false, \"text\": \"-0.47\", \"x\": 9, \"xref\": \"x\", \"y\": 16, \"yref\": \"y\"}, {\"font\": {\"color\": \"#FFFFFF\", \"size\": 8}, \"showarrow\": false, \"text\": \"0.34\", \"x\": 10, \"xref\": \"x\", \"y\": 16, \"yref\": \"y\"}, {\"font\": {\"color\": \"#000000\", \"size\": 8}, \"showarrow\": false, \"text\": \"1.87\", \"x\": 11, \"xref\": \"x\", \"y\": 16, \"yref\": \"y\"}, {\"font\": {\"color\": \"#FFFFFF\", \"size\": 8}, \"showarrow\": false, \"text\": \"-0.32\", \"x\": 12, \"xref\": \"x\", \"y\": 16, \"yref\": \"y\"}, {\"font\": {\"color\": \"#FFFFFF\", \"size\": 8}, \"showarrow\": false, \"text\": \"-2.29\", \"x\": 13, \"xref\": \"x\", \"y\": 16, \"yref\": \"y\"}, {\"font\": {\"color\": \"#FFFFFF\", \"size\": 8}, \"showarrow\": false, \"text\": \"0.44\", \"x\": 14, \"xref\": \"x\", \"y\": 16, \"yref\": \"y\"}, {\"font\": {\"color\": \"#000000\", \"size\": 8}, \"showarrow\": false, \"text\": \"1.0\", \"x\": 15, \"xref\": \"x\", \"y\": 16, \"yref\": \"y\"}, {\"font\": {\"color\": \"#000000\", \"size\": 8}, \"showarrow\": false, \"text\": \"1.1\", \"x\": 16, \"xref\": \"x\", \"y\": 16, \"yref\": \"y\"}, {\"font\": {\"color\": \"#FFFFFF\", \"size\": 8}, \"showarrow\": false, \"text\": \"-1.85\", \"x\": 17, \"xref\": \"x\", \"y\": 16, \"yref\": \"y\"}, {\"font\": {\"color\": \"#FFFFFF\", \"size\": 8}, \"showarrow\": false, \"text\": \"-0.01\", \"x\": 18, \"xref\": \"x\", \"y\": 16, \"yref\": \"y\"}, {\"font\": {\"color\": \"#FFFFFF\", \"size\": 8}, \"showarrow\": false, \"text\": \"-0.59\", \"x\": 19, \"xref\": \"x\", \"y\": 16, \"yref\": \"y\"}, {\"font\": {\"color\": \"#000000\", \"size\": 8}, \"showarrow\": false, \"text\": \"2.86\", \"x\": 0, \"xref\": \"x\", \"y\": 17, \"yref\": \"y\"}, {\"font\": {\"color\": \"#FFFFFF\", \"size\": 8}, \"showarrow\": false, \"text\": \"-0.32\", \"x\": 1, \"xref\": \"x\", \"y\": 17, \"yref\": \"y\"}, {\"font\": {\"color\": \"#FFFFFF\", \"size\": 8}, \"showarrow\": false, \"text\": \"0.5\", \"x\": 2, \"xref\": \"x\", \"y\": 17, \"yref\": \"y\"}, {\"font\": {\"color\": \"#FFFFFF\", \"size\": 8}, \"showarrow\": false, \"text\": \"-0.62\", \"x\": 3, \"xref\": \"x\", \"y\": 17, \"yref\": \"y\"}, {\"font\": {\"color\": \"#FFFFFF\", \"size\": 8}, \"showarrow\": false, \"text\": \"-0.13\", \"x\": 4, \"xref\": \"x\", \"y\": 17, \"yref\": \"y\"}, {\"font\": {\"color\": \"#FFFFFF\", \"size\": 8}, \"showarrow\": false, \"text\": \"-2.01\", \"x\": 5, \"xref\": \"x\", \"y\": 17, \"yref\": \"y\"}, {\"font\": {\"color\": \"#000000\", \"size\": 8}, \"showarrow\": false, \"text\": \"0.78\", \"x\": 6, \"xref\": \"x\", \"y\": 17, \"yref\": \"y\"}, {\"font\": {\"color\": \"#FFFFFF\", \"size\": 8}, \"showarrow\": false, \"text\": \"0.47\", \"x\": 7, \"xref\": \"x\", \"y\": 17, \"yref\": \"y\"}, {\"font\": {\"color\": \"#FFFFFF\", \"size\": 8}, \"showarrow\": false, \"text\": \"0.24\", \"x\": 8, \"xref\": \"x\", \"y\": 17, \"yref\": \"y\"}, {\"font\": {\"color\": \"#FFFFFF\", \"size\": 8}, \"showarrow\": false, \"text\": \"-0.06\", \"x\": 9, \"xref\": \"x\", \"y\": 17, \"yref\": \"y\"}, {\"font\": {\"color\": \"#000000\", \"size\": 8}, \"showarrow\": false, \"text\": \"0.55\", \"x\": 10, \"xref\": \"x\", \"y\": 17, \"yref\": \"y\"}, {\"font\": {\"color\": \"#FFFFFF\", \"size\": 8}, \"showarrow\": false, \"text\": \"-0.24\", \"x\": 11, \"xref\": \"x\", \"y\": 17, \"yref\": \"y\"}, {\"font\": {\"color\": \"#FFFFFF\", \"size\": 8}, \"showarrow\": false, \"text\": \"0.23\", \"x\": 12, \"xref\": \"x\", \"y\": 17, \"yref\": \"y\"}, {\"font\": {\"color\": \"#FFFFFF\", \"size\": 8}, \"showarrow\": false, \"text\": \"-0.36\", \"x\": 13, \"xref\": \"x\", \"y\": 17, \"yref\": \"y\"}, {\"font\": {\"color\": \"#FFFFFF\", \"size\": 8}, \"showarrow\": false, \"text\": \"0.13\", \"x\": 14, \"xref\": \"x\", \"y\": 17, \"yref\": \"y\"}, {\"font\": {\"color\": \"#FFFFFF\", \"size\": 8}, \"showarrow\": false, \"text\": \"-0.96\", \"x\": 15, \"xref\": \"x\", \"y\": 17, \"yref\": \"y\"}, {\"font\": {\"color\": \"#FFFFFF\", \"size\": 8}, \"showarrow\": false, \"text\": \"-1.96\", \"x\": 16, \"xref\": \"x\", \"y\": 17, \"yref\": \"y\"}, {\"font\": {\"color\": \"#FFFFFF\", \"size\": 8}, \"showarrow\": false, \"text\": \"0.51\", \"x\": 17, \"xref\": \"x\", \"y\": 17, \"yref\": \"y\"}, {\"font\": {\"color\": \"#FFFFFF\", \"size\": 8}, \"showarrow\": false, \"text\": \"-1.2\", \"x\": 18, \"xref\": \"x\", \"y\": 17, \"yref\": \"y\"}, {\"font\": {\"color\": \"#FFFFFF\", \"size\": 8}, \"showarrow\": false, \"text\": \"0.24\", \"x\": 19, \"xref\": \"x\", \"y\": 17, \"yref\": \"y\"}, {\"font\": {\"color\": \"#FFFFFF\", \"size\": 8}, \"showarrow\": false, \"text\": \"0.29\", \"x\": 0, \"xref\": \"x\", \"y\": 18, \"yref\": \"y\"}, {\"font\": {\"color\": \"#000000\", \"size\": 8}, \"showarrow\": false, \"text\": \"2.32\", \"x\": 1, \"xref\": \"x\", \"y\": 18, \"yref\": \"y\"}, {\"font\": {\"color\": \"#000000\", \"size\": 8}, \"showarrow\": false, \"text\": \"1.42\", \"x\": 2, \"xref\": \"x\", \"y\": 18, \"yref\": \"y\"}, {\"font\": {\"color\": \"#FFFFFF\", \"size\": 8}, \"showarrow\": false, \"text\": \"-1.98\", \"x\": 3, \"xref\": \"x\", \"y\": 18, \"yref\": \"y\"}, {\"font\": {\"color\": \"#FFFFFF\", \"size\": 8}, \"showarrow\": false, \"text\": \"0.11\", \"x\": 4, \"xref\": \"x\", \"y\": 18, \"yref\": \"y\"}, {\"font\": {\"color\": \"#000000\", \"size\": 8}, \"showarrow\": false, \"text\": \"1.09\", \"x\": 5, \"xref\": \"x\", \"y\": 18, \"yref\": \"y\"}, {\"font\": {\"color\": \"#000000\", \"size\": 8}, \"showarrow\": false, \"text\": \"0.96\", \"x\": 6, \"xref\": \"x\", \"y\": 18, \"yref\": \"y\"}, {\"font\": {\"color\": \"#FFFFFF\", \"size\": 8}, \"showarrow\": false, \"text\": \"-1.66\", \"x\": 7, \"xref\": \"x\", \"y\": 18, \"yref\": \"y\"}, {\"font\": {\"color\": \"#FFFFFF\", \"size\": 8}, \"showarrow\": false, \"text\": \"0.39\", \"x\": 8, \"xref\": \"x\", \"y\": 18, \"yref\": \"y\"}, {\"font\": {\"color\": \"#000000\", \"size\": 8}, \"showarrow\": false, \"text\": \"0.78\", \"x\": 9, \"xref\": \"x\", \"y\": 18, \"yref\": \"y\"}, {\"font\": {\"color\": \"#FFFFFF\", \"size\": 8}, \"showarrow\": false, \"text\": \"0.25\", \"x\": 10, \"xref\": \"x\", \"y\": 18, \"yref\": \"y\"}, {\"font\": {\"color\": \"#FFFFFF\", \"size\": 8}, \"showarrow\": false, \"text\": \"-0.35\", \"x\": 11, \"xref\": \"x\", \"y\": 18, \"yref\": \"y\"}, {\"font\": {\"color\": \"#FFFFFF\", \"size\": 8}, \"showarrow\": false, \"text\": \"0.53\", \"x\": 12, \"xref\": \"x\", \"y\": 18, \"yref\": \"y\"}, {\"font\": {\"color\": \"#000000\", \"size\": 8}, \"showarrow\": false, \"text\": \"1.29\", \"x\": 13, \"xref\": \"x\", \"y\": 18, \"yref\": \"y\"}, {\"font\": {\"color\": \"#000000\", \"size\": 8}, \"showarrow\": false, \"text\": \"0.83\", \"x\": 14, \"xref\": \"x\", \"y\": 18, \"yref\": \"y\"}, {\"font\": {\"color\": \"#FFFFFF\", \"size\": 8}, \"showarrow\": false, \"text\": \"0.41\", \"x\": 15, \"xref\": \"x\", \"y\": 18, \"yref\": \"y\"}, {\"font\": {\"color\": \"#000000\", \"size\": 8}, \"showarrow\": false, \"text\": \"1.16\", \"x\": 16, \"xref\": \"x\", \"y\": 18, \"yref\": \"y\"}, {\"font\": {\"color\": \"#FFFFFF\", \"size\": 8}, \"showarrow\": false, \"text\": \"0.29\", \"x\": 17, \"xref\": \"x\", \"y\": 18, \"yref\": \"y\"}, {\"font\": {\"color\": \"#FFFFFF\", \"size\": 8}, \"showarrow\": false, \"text\": \"0.41\", \"x\": 18, \"xref\": \"x\", \"y\": 18, \"yref\": \"y\"}, {\"font\": {\"color\": \"#FFFFFF\", \"size\": 8}, \"showarrow\": false, \"text\": \"-0.91\", \"x\": 19, \"xref\": \"x\", \"y\": 18, \"yref\": \"y\"}, {\"font\": {\"color\": \"#FFFFFF\", \"size\": 8}, \"showarrow\": false, \"text\": \"-2.57\", \"x\": 0, \"xref\": \"x\", \"y\": 19, \"yref\": \"y\"}, {\"font\": {\"color\": \"#FFFFFF\", \"size\": 8}, \"showarrow\": false, \"text\": \"-0.85\", \"x\": 1, \"xref\": \"x\", \"y\": 19, \"yref\": \"y\"}, {\"font\": {\"color\": \"#FFFFFF\", \"size\": 8}, \"showarrow\": false, \"text\": \"-1.0\", \"x\": 2, \"xref\": \"x\", \"y\": 19, \"yref\": \"y\"}, {\"font\": {\"color\": \"#000000\", \"size\": 8}, \"showarrow\": false, \"text\": \"1.2\", \"x\": 3, \"xref\": \"x\", \"y\": 19, \"yref\": \"y\"}, {\"font\": {\"color\": \"#FFFFFF\", \"size\": 8}, \"showarrow\": false, \"text\": \"-0.36\", \"x\": 4, \"xref\": \"x\", \"y\": 19, \"yref\": \"y\"}, {\"font\": {\"color\": \"#000000\", \"size\": 8}, \"showarrow\": false, \"text\": \"0.87\", \"x\": 5, \"xref\": \"x\", \"y\": 19, \"yref\": \"y\"}, {\"font\": {\"color\": \"#FFFFFF\", \"size\": 8}, \"showarrow\": false, \"text\": \"-1.39\", \"x\": 6, \"xref\": \"x\", \"y\": 19, \"yref\": \"y\"}, {\"font\": {\"color\": \"#FFFFFF\", \"size\": 8}, \"showarrow\": false, \"text\": \"0.37\", \"x\": 7, \"xref\": \"x\", \"y\": 19, \"yref\": \"y\"}, {\"font\": {\"color\": \"#FFFFFF\", \"size\": 8}, \"showarrow\": false, \"text\": \"-1.45\", \"x\": 8, \"xref\": \"x\", \"y\": 19, \"yref\": \"y\"}, {\"font\": {\"color\": \"#FFFFFF\", \"size\": 8}, \"showarrow\": false, \"text\": \"0.41\", \"x\": 9, \"xref\": \"x\", \"y\": 19, \"yref\": \"y\"}, {\"font\": {\"color\": \"#FFFFFF\", \"size\": 8}, \"showarrow\": false, \"text\": \"-0.31\", \"x\": 10, \"xref\": \"x\", \"y\": 19, \"yref\": \"y\"}, {\"font\": {\"color\": \"#000000\", \"size\": 8}, \"showarrow\": false, \"text\": \"0.98\", \"x\": 11, \"xref\": \"x\", \"y\": 19, \"yref\": \"y\"}, {\"font\": {\"color\": \"#FFFFFF\", \"size\": 8}, \"showarrow\": false, \"text\": \"-1.5\", \"x\": 12, \"xref\": \"x\", \"y\": 19, \"yref\": \"y\"}, {\"font\": {\"color\": \"#000000\", \"size\": 8}, \"showarrow\": false, \"text\": \"2.26\", \"x\": 13, \"xref\": \"x\", \"y\": 19, \"yref\": \"y\"}, {\"font\": {\"color\": \"#FFFFFF\", \"size\": 8}, \"showarrow\": false, \"text\": \"-1.44\", \"x\": 14, \"xref\": \"x\", \"y\": 19, \"yref\": \"y\"}, {\"font\": {\"color\": \"#000000\", \"size\": 8}, \"showarrow\": false, \"text\": \"0.62\", \"x\": 15, \"xref\": \"x\", \"y\": 19, \"yref\": \"y\"}, {\"font\": {\"color\": \"#000000\", \"size\": 8}, \"showarrow\": false, \"text\": \"0.84\", \"x\": 16, \"xref\": \"x\", \"y\": 19, \"yref\": \"y\"}, {\"font\": {\"color\": \"#FFFFFF\", \"size\": 8}, \"showarrow\": false, \"text\": \"-0.76\", \"x\": 17, \"xref\": \"x\", \"y\": 19, \"yref\": \"y\"}, {\"font\": {\"color\": \"#000000\", \"size\": 8}, \"showarrow\": false, \"text\": \"0.71\", \"x\": 18, \"xref\": \"x\", \"y\": 19, \"yref\": \"y\"}, {\"font\": {\"color\": \"#FFFFFF\", \"size\": 8}, \"showarrow\": false, \"text\": \"-1.32\", \"x\": 19, \"xref\": \"x\", \"y\": 19, \"yref\": \"y\"}], \"xaxis\": {\"gridcolor\": \"rgb(0, 0, 0)\", \"showticklabels\": false, \"side\": \"top\", \"ticks\": \"\"}, \"yaxis\": {\"showticklabels\": false, \"ticks\": \"\", \"ticksuffix\": \"  \"}},\n",
       "                        {\"showLink\": false, \"linkText\": \"Export to plot.ly\", \"plotlyServerURL\": \"https://plot.ly\", \"responsive\": true}\n",
       "                    ).then(function(){\n",
       "                            \n",
       "var gd = document.getElementById('5e095363-57bb-447b-9d8e-098549644ded');\n",
       "var x = new MutationObserver(function (mutations, observer) {{\n",
       "        var display = window.getComputedStyle(gd).display;\n",
       "        if (!display || display === 'none') {{\n",
       "            console.log([gd, 'removed!']);\n",
       "            Plotly.purge(gd);\n",
       "            observer.disconnect();\n",
       "        }}\n",
       "}});\n",
       "\n",
       "// Listen for the removal of the full notebook cells\n",
       "var notebookContainer = gd.closest('#notebook-container');\n",
       "if (notebookContainer) {{\n",
       "    x.observe(notebookContainer, {childList: true});\n",
       "}}\n",
       "\n",
       "// Listen for the clearing of the current output cell\n",
       "var outputEl = gd.closest('.output');\n",
       "if (outputEl) {{\n",
       "    x.observe(outputEl, {childList: true});\n",
       "}}\n",
       "\n",
       "                        })\n",
       "                };\n",
       "                });\n",
       "            </script>\n",
       "        </div>"
      ]
     },
     "metadata": {},
     "output_type": "display_data"
    }
   ],
   "source": [
    "import plotly.plotly as py\n",
    "from plotly.tools import FigureFactory as FF\n",
    "import numpy as np\n",
    "\n",
    "z = np.random.randn(20, 20)\n",
    "z_text = np.around(z, decimals=2) # Only show rounded value (full value on hover)\n",
    "\n",
    "fig = FF.create_annotated_heatmap(z, annotation_text=z_text, colorscale='Greys', hoverinfo='z')\n",
    "\n",
    "# Make text size smaller\n",
    "for i in range(len(fig.layout.annotations)):\n",
    "    fig.layout.annotations[i].font.size = 8\n",
    "    \n",
    "iplot(fig, filename='annotated_heatmap_numpy')"
   ]
  },
  {
   "cell_type": "markdown",
   "metadata": {},
   "source": [
    "#### Custom Hovertext"
   ]
  },
  {
   "cell_type": "code",
   "execution_count": 12,
   "metadata": {},
   "outputs": [
    {
     "ename": "TypeError",
     "evalue": "'range' object does not support item assignment",
     "output_type": "error",
     "traceback": [
      "\u001b[1;31m---------------------------------------------------------------------------\u001b[0m",
      "\u001b[1;31mTypeError\u001b[0m                                 Traceback (most recent call last)",
      "\u001b[1;32m<ipython-input-12-05328137cb75>\u001b[0m in \u001b[0;36m<module>\u001b[1;34m\u001b[0m\n\u001b[0;32m     55\u001b[0m \u001b[0mhover\u001b[0m\u001b[1;33m=\u001b[0m\u001b[0mrange\u001b[0m\u001b[1;33m(\u001b[0m\u001b[0mlen\u001b[0m\u001b[1;33m(\u001b[0m\u001b[0msymbol\u001b[0m\u001b[1;33m)\u001b[0m\u001b[1;33m)\u001b[0m\u001b[1;33m\u001b[0m\u001b[1;33m\u001b[0m\u001b[0m\n\u001b[0;32m     56\u001b[0m \u001b[1;32mfor\u001b[0m \u001b[0mx\u001b[0m \u001b[1;32min\u001b[0m \u001b[0mrange\u001b[0m\u001b[1;33m(\u001b[0m\u001b[0mlen\u001b[0m\u001b[1;33m(\u001b[0m\u001b[0msymbol\u001b[0m\u001b[1;33m)\u001b[0m\u001b[1;33m)\u001b[0m\u001b[1;33m:\u001b[0m\u001b[1;33m\u001b[0m\u001b[1;33m\u001b[0m\u001b[0m\n\u001b[1;32m---> 57\u001b[1;33m     \u001b[0mhover\u001b[0m\u001b[1;33m[\u001b[0m\u001b[0mx\u001b[0m\u001b[1;33m]\u001b[0m \u001b[1;33m=\u001b[0m \u001b[1;33m[\u001b[0m\u001b[0mi\u001b[0m \u001b[1;33m+\u001b[0m \u001b[1;34m'<br>'\u001b[0m \u001b[1;33m+\u001b[0m \u001b[1;34m'Atomic Mass: '\u001b[0m \u001b[1;33m+\u001b[0m \u001b[0mstr\u001b[0m\u001b[1;33m(\u001b[0m\u001b[0mj\u001b[0m\u001b[1;33m)\u001b[0m \u001b[1;32mfor\u001b[0m \u001b[0mi\u001b[0m\u001b[1;33m,\u001b[0m \u001b[0mj\u001b[0m \u001b[1;32min\u001b[0m \u001b[0mzip\u001b[0m\u001b[1;33m(\u001b[0m\u001b[0melement\u001b[0m\u001b[1;33m[\u001b[0m\u001b[0mx\u001b[0m\u001b[1;33m]\u001b[0m\u001b[1;33m,\u001b[0m \u001b[0matomic_mass\u001b[0m\u001b[1;33m[\u001b[0m\u001b[0mx\u001b[0m\u001b[1;33m]\u001b[0m\u001b[1;33m)\u001b[0m\u001b[1;33m]\u001b[0m\u001b[1;33m\u001b[0m\u001b[1;33m\u001b[0m\u001b[0m\n\u001b[0m\u001b[0;32m     58\u001b[0m \u001b[1;33m\u001b[0m\u001b[0m\n\u001b[0;32m     59\u001b[0m \u001b[1;31m# Invert Matrices\u001b[0m\u001b[1;33m\u001b[0m\u001b[1;33m\u001b[0m\u001b[1;33m\u001b[0m\u001b[0m\n",
      "\u001b[1;31mTypeError\u001b[0m: 'range' object does not support item assignment"
     ]
    }
   ],
   "source": [
    "# Add Periodic Table Data\n",
    "symbol = [['H', '', '', '', '', '', '', '', '', '', '', '', '', '', '', '', '', 'He'],\n",
    "         ['Li', 'Be', '', '', '', '', '', '', '', '', '', '', 'B', 'C', 'N', 'O', 'F', 'Ne'],\n",
    "         ['Na', 'Mg', '', '', '', '', '', '', '', '', '', '', 'Al', 'Si', 'P', 'S', 'Cl', 'Ar'],\n",
    "         ['K', 'Ca', 'Sc', 'Ti', 'V', 'Cr', 'Mn', 'Fe', 'Co', 'Ni', 'Cu', 'Zn', 'Ga', 'Ge', 'As', 'Se', 'Br', 'Kr'],\n",
    "         ['Rb ', 'Sr', 'Y', 'Zr', 'Nb', 'Mo', 'Tc', 'Ru', 'Rh', 'Pd', 'Ag', 'Cd', 'In', 'Sn', 'Sb', 'Te', 'I', 'Xe' ],\n",
    "         ['Cs', 'Ba', '', 'Hf', 'Ta', 'W', 'Re', 'Os', 'Ir', 'Pt', 'Au', 'Hg', 'Tl', 'Pb', 'Bi', 'Po', 'At', 'Rn' ],\n",
    "         ['Fr', 'Ra', '', 'Rf', 'Db', 'Sg', 'Bh', 'Hs', 'Mt', 'Ds', 'Rg', 'Cn', 'Uut', 'Fl', 'Uup', 'Lv', 'Uus', 'Uuo'],\n",
    "         ['', '', 'La', 'Ce', 'Pr', 'Nd', 'Pm', 'Sm', 'Eu', 'Gd', 'Tb', 'Dy', 'Ho', 'Er', 'Tm', 'Yb', 'Lu', ''],\n",
    "         ['', '', 'Ac', 'Th', 'Pa', 'U', 'Np', 'Pu', 'Am', 'Cm', 'Bk', 'Cf', 'Es', 'Fm', 'Md', 'No', 'Lr', '' ],\n",
    "         ['', '', '', '', '', '', '', '', '', '', '', '', '', '', '', '', '', ''],\n",
    "         ['', 'Alkali Metal', '', '', 'Transition Metal', '', '', 'Actinide', '', '', 'Semimetal', '', '', 'Halogen', '', '', '', ''],\n",
    "         ['', 'Alkaline Metal', '', '', 'Lanthanide', '', '', 'Basic Metal', '', '', 'Nonmetal', '', '', 'Noble Gas', '', '', '', '']]\n",
    "\n",
    "element = [['Hydrogen', '', '', '', '', '', '', '', '', '', '', '', '', '', '', '', '', 'Helium'],\n",
    "           ['Lithium', 'Beryllium', '', '', '', '', '', '', '', '', '', '', 'Boron', 'Carbon', 'Nitrogen', 'Oxygen', 'Fluorine', 'Neon'],\n",
    "           ['Sodium', 'Magnesium', '', '', '', '', '', '', '', '', '', '', 'Aluminium', 'Silicon', 'Phosphorus', 'Sulfur', 'Chlorine', ' Argon'],\n",
    "           ['Potassium', ' Calcium', ' Scandium', ' Titanium', ' Vanadium', ' Chromium',  'Manganese', 'Iron', 'Cobalt', 'Nickel', 'Copper', 'Zinc', 'Gallium', 'Germanium', 'Arsenic', 'Selenium', 'Bromine', 'Krypton'],\n",
    "           ['Rubidium', 'Strontium', 'Yttrium', 'Zirconium', 'Niobium', 'Molybdenum', 'Technetium', 'Ruthenium', 'Rhodium', 'Palladium', 'Silver', 'Cadmium', 'Indium', 'Tin', 'Antimony', 'Tellurium', 'Iodine', 'Xenon'],\n",
    "           [' Cesium', ' Barium', '',  'Hafnium', 'Tantalum', 'Tungsten', 'Rhenium', 'Osmium', 'Iridium', 'Platinum', 'Gold', 'Mercury', 'Thallium', 'Lead', 'Bismuth', 'Polonium', 'Astatine', 'Radon'],\n",
    "           [' Francium', ' Radium', '', 'Rutherfordium','Dubnium','Seaborgium','Bohrium','Hassium','Meitnerium','Darmstadtium','Roentgenium','Copernicium','Ununtrium','Ununquadium','Ununpentium','Ununhexium','Ununseptium','Ununoctium'],\n",
    "           ['', '',  'Lanthanum', 'Cerium', 'Praseodymium', 'Neodymium', 'Promethium', 'Samarium', 'Europium', 'Gadolinium', 'Terbium', 'Dysprosium', 'Holmium', 'Erbium', 'Thulium', 'Ytterbium', 'Lutetium', ''],\n",
    "           ['', '', 'Actinium', 'Thorium', 'Protactinium', 'Uranium', 'Neptunium', 'Plutonium', 'Americium', 'Curium', 'Berkelium', 'Californium', 'Einsteinium','Fermium' ,'Mendelevium', 'Nobelium', 'Lawrencium', '' ],\n",
    "           ['', '', '', '', '', '', '', '', '', '', '', '', '', '', '', '', '', ''],\n",
    "           ['', '', '', '', '', '', '', '', '', '', '', '', '', '', '', '', '', ''],\n",
    "           ['', '', '', '', '', '', '', '', '', '', '', '', '', '', '', '', '', '']]\n",
    "\n",
    "atomic_mass = [[ 1.00794, .0, .0, .0, .0, .0, .0, .0, .0, .0, .0, .0, .0, .0, .0, .0, .0,  4.002602],\n",
    "     [ 6.941, 9.012182, .0, .0, .0, .0, .0, .0, .0, .0, .0, .0,  10.811, 12.0107, 14.0067, 15.9994, 18.9984032, 20.1797],\n",
    "     [ 22.98976928, 24.3050, .0, .0, .0, .0, .0, .0, .0, .0, .0, .0,  26.9815386, 28.0855, 30.973762, 32.065, 35.453, 39.948], \n",
    "     [ 39.0983, 40.078, 44.955912, 47.867, 50.9415, 51.9961, 54.938045, 55.845, 58.933195, 58.6934, 63.546, 65.38, 69.723, 72.64, 74.92160, 78.96, 79.904, 83.798],\n",
    "     [ 85.4678, 87.62, 88.90585, 91.224, 92.90638, 95.96, 98, 101.07, 102.90550, 106.42, 107.8682, 112.411, 114.818, 118.710, 121.760, 127.60, 126.90447, 131.293],\n",
    "     [ 132.9054519, 137.327, .0, 178.49, 180.94788, 183.84, 186.207, 190.23, 192.217, 195.084, 196.966569, 200.59, 204.3833, 207.2, 208.98040, 209, 210, 222],\n",
    "     [223, 226, .0, 267, 268, 271, 272, 270, 276, 281, 280, 285, 284, 289, 288, 293, 'unknown', 294],\n",
    "     [.0, .0, 138.90547, 140.116, 140.90765, 144.242, 145, 150.36, 151.964, 157.25, 158.92535, 162.500, 164.93032, 167.259, 168.93421, 173.054, 174.9668, .0],\n",
    "     [.0, .0, 227, 232.03806, 231.03588, 238.02891, 237, 244, 243, 247, 247, 251, 252, 257, 258, 259, 262, .0],\n",
    "     [.0, .0, .0, .0, .0, .0, .0, .0, .0, .0, .0, .0, .0, .0, .0, .0, .0, .0],\n",
    "     [.0, .0, .0, .0, .0, .0, .0, .0, .0, .0, .0, .0, .0, .0, .0, .0, .0, .0],\n",
    "     [.0, .0, .0, .0, .0, .0, .0, .0, .0, .0, .0, .0, .0, .0, .0, .0, .0, .0]]\n",
    "\n",
    "z = [[.8, .0, .0, .0, .0, .0, .0, .0, .0, .0, .0, .0, .0, .0, .0, .0, .0, 1.],\n",
    "     [.1, .2, .0, .0, .0, .0, .0, .0, .0, .0, .0, .0, .7, .8, .8, .8, .9, 1.],\n",
    "     [.1, .2, .0, .0, .0, .0, .0, .0, .0, .0, .0, .0, .6, .7, .8, .8, .9, 1], \n",
    "     [.1, .2, .3, .3, .3, .3, .3, .3, .3, .3, .3, .3, .6, .7, .8, .8, .9, 1.],\n",
    "     [.1, .2, .3, .3, .3, .3, .3, .3, .3, .3, .3, .3, .6, .6, .7, .7, .9, 1.],\n",
    "     [.1, .2, .4, .3, .3, .3, .3, .3, .3, .3, .3, .3, .6, .6, .6, .7, .9, 1.],\n",
    "     [.1, .2, .5, .3, .3, .3, .3, .3, .3, .3, .3, .3, .6, .6, .6, .6, .9, 1.],\n",
    "     [.0, .0, .4, .4, .4, .4, .4, .4, .4, .4, .4, .4, .4, .4, .4, .4, .4, .0],\n",
    "     [.0, .0, .5, .5, .5, .5, .5, .5, .5, .5, .5, .5, .5, .5, .5, .5, .5, .0],\n",
    "     [.0, .0, .0, .0, .0, .0, .0, .0, .0, .0, .0, .0, .0, .0, .0, .0, .0, .0],\n",
    "     [.1, .1, .1, .3, .3, .3, .5, .5, .5, .7, .7, .7, .9, .9, .9, .0, .0, .0],\n",
    "     [.2, .2, .2, .4, .4, .4, .6, .6, .6, .8, .8, .8, 1., 1., 1., .0, .0, .0]]\n",
    "\n",
    "# Display element name and atomic mass on hover\n",
    "hover=range(len(symbol))\n",
    "for x in range(len(symbol)):\n",
    "    hover[x] = [i + '<br>' + 'Atomic Mass: ' + str(j) for i, j in zip(element[x], atomic_mass[x])]\n",
    "\n",
    "# Invert Matrices\n",
    "symbol = symbol[::-1]\n",
    "hover = hover[::-1]\n",
    "z = z[::-1]\n",
    "\n",
    "# Set Colorscale\n",
    "colorscale=[[0.0, 'rgb(255,255,255)'], [.2, 'rgb(255, 255, 153)'], \n",
    "            [.4, 'rgb(153, 255, 204)'], [.6, 'rgb(179, 217, 255)'], \n",
    "            [.8, 'rgb(240, 179, 255)'],[1.0, 'rgb(255, 77, 148)']]\n",
    "\n",
    "# Make Annotated Heatmap\n",
    "pt = FF.create_annotated_heatmap(z, annotation_text=symbol, text=hover,\n",
    "                                 colorscale=colorscale, font_colors=['black'], hoverinfo='text')\n",
    "pt.layout.title = 'Periodic Table'\n",
    "\n",
    "iplot(pt, filename='periodic_table')"
   ]
  },
  {
   "cell_type": "markdown",
   "metadata": {},
   "source": [
    "#### Reference\n",
    "For more info on Plotly heatmaps, see: https://plot.ly/python/reference/#heatmap.<br> For more info on using colorscales with Plotly see: https://plot.ly/python/heatmap-and-contour-colorscales/ <br>For more info on annotated_heatmaps, see:"
   ]
  },
  {
   "cell_type": "code",
   "execution_count": 13,
   "metadata": {},
   "outputs": [
    {
     "name": "stdout",
     "output_type": "stream",
     "text": [
      "Help on function create_annotated_heatmap in module plotly.tools:\n",
      "\n",
      "create_annotated_heatmap(*args, **kwargs)\n",
      "\n"
     ]
    }
   ],
   "source": [
    "help(FF.create_annotated_heatmap)"
   ]
  },
  {
   "cell_type": "code",
   "execution_count": null,
   "metadata": {},
   "outputs": [],
   "source": []
  }
 ],
 "metadata": {
  "anaconda-cloud": {},
  "kernelspec": {
   "display_name": "Python 3",
   "language": "python",
   "name": "python3"
  },
  "language_info": {
   "codemirror_mode": {
    "name": "ipython",
    "version": 3
   },
   "file_extension": ".py",
   "mimetype": "text/x-python",
   "name": "python",
   "nbconvert_exporter": "python",
   "pygments_lexer": "ipython3",
   "version": "3.6.7"
  }
 },
 "nbformat": 4,
 "nbformat_minor": 1
}
