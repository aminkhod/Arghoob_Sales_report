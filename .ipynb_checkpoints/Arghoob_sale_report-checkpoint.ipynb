{
 "cells": [
  {
   "cell_type": "code",
   "execution_count": 38,
   "metadata": {},
   "outputs": [
    {
     "data": {
      "text/html": [
       "        <script type=\"text/javascript\">\n",
       "        window.PlotlyConfig = {MathJaxConfig: 'local'};\n",
       "        if (window.MathJax) {MathJax.Hub.Config({SVG: {font: \"STIX-Web\"}});}\n",
       "        if (typeof require !== 'undefined') {\n",
       "        require.undef(\"plotly\");\n",
       "        requirejs.config({\n",
       "            paths: {\n",
       "                'plotly': ['https://cdn.plot.ly/plotly-latest.min']\n",
       "            }\n",
       "        });\n",
       "        require(['plotly'], function(Plotly) {\n",
       "            window._Plotly = Plotly;\n",
       "        });\n",
       "        }\n",
       "        </script>\n",
       "        "
      ]
     },
     "metadata": {},
     "output_type": "display_data"
    }
   ],
   "source": [
    "import pandas as pd\n",
    "import numpy as np\n",
    "import os\n",
    "import plotly.graph_objs as go\n",
    "import plotly.io as pio\n",
    "import plotly.plotly as py\n",
    "import plotly.figure_factory as ff\n",
    "import dash\n",
    "import dash_core_components as dcc\n",
    "import dash_html_components as html\n",
    "from  plotly.offline import plot\n",
    "import plotly\n",
    "from IPython.display import SVG, display\n",
    "from IPython.display import Image\n",
    "from IPython.display import display, Math, Latex\n",
    "import colorlover as cl\n",
    "from IPython.display import HTML\n",
    "from IPython.display import IFrame\n",
    "from plotly.offline import iplot, init_notebook_mode\n",
    "from IPython.display import YouTubeVideo\n",
    "init_notebook_mode(connected=True)\n",
    "\n",
    "# import subprocess\n",
    "# subprocess.check_call(['pip', 'install', 'numpy']) # install pkg\n",
    "# subprocess.check_call(['pip', 'install',\"--upgrade\", 'numpy']) # upgrade pkg"
   ]
  },
  {
   "cell_type": "code",
   "execution_count": 4,
   "metadata": {},
   "outputs": [],
   "source": [
    "# sku = rawData.values[:189,0]\n",
    "# upc = rawData.values[:189,1]\n",
    "# Catalogue = rawData.values[:189,2]\n",
    "# title = rawData.values[:189,3]\n",
    "# label = rawData.values[:189,4]\n",
    "# Cost_Price = rawData.values[:189,5]\n",
    "# VSP = rawData.values[:189,6]\n"
   ]
  },
  {
   "cell_type": "code",
   "execution_count": 5,
   "metadata": {
    "scrolled": true
   },
   "outputs": [],
   "source": [
    "# rawDatVal = []\n",
    "# rawDatVal = rawData.values[:189,7:149]\n",
    "# eachRaw = []\n",
    "# allRawvalue = []\n",
    "# BranchTotal = rawDatVal.sum(axis=0)\n",
    "\n",
    "# for i in range(len(rawDatVal[:,0])):\n",
    "#     for j in range(int((len(rawDatVal[0,:]))/3)):\n",
    "        \n",
    "#         k=3 * j \n",
    "\n",
    "#         eachRaw.append(rawDatVal[i,k])\n",
    "#     eachRaw = np.array(eachRaw)\n",
    "#     allRawvalue.append(eachRaw.sum())\n",
    "#     eachRaw = []\n",
    "\n",
    "# # rawData['Sum of sale for each goods'] = allRawvalue"
   ]
  },
  {
   "cell_type": "code",
   "execution_count": 6,
   "metadata": {},
   "outputs": [],
   "source": [
    "\n",
    "# eachRaw = []\n",
    "\n",
    "# BranchTotal = rawDatVal.sum(axis=0)\n",
    "# for j in range(int(len(rawDatVal[0,:])/3)):\n",
    "#     k=3 * j \n",
    "#     sum = 0\n",
    "#     for i in range(len(rawDatVal[:,0])):\n",
    "#         sum += rawDatVal[i,k]\n",
    "#     rawData.iloc[i+1,k] = sum\n",
    "    \n",
    "\n",
    "#     eachRaw = []\n",
    "# # allRawvalue.append(np.array(allRawvalue).sum())\n",
    "# # allRawvalue.append(np.array(allRawvalue).sum())\n",
    "\n"
   ]
  },
  {
   "cell_type": "code",
   "execution_count": 7,
   "metadata": {},
   "outputs": [],
   "source": [
    "# Virgin_Stock = []\n",
    "# Virgin_Stock = pd.DataFrame(Virgin_Stock)\n",
    "# Virgin_Stock['sku'] = sku\n",
    "# Virgin_Stock['upc'] = upc\n",
    "# Virgin_Stock['Catalogue'] = Catalogue\n",
    "# Virgin_Stock['title'] = title\n",
    "# Virgin_Stock['label'] = label\n",
    "# Virgin_Stock['VMS Cost'] = Cost_Price\n",
    "# Virgin_Stock['VSP'] = VSP\n",
    "\n",
    "\n",
    "# Virgin_Stock[f1] = list(allRawvalue)\n"
   ]
  },
  {
   "cell_type": "code",
   "execution_count": 8,
   "metadata": {},
   "outputs": [],
   "source": [
    "# i = 1\n",
    "# buf = np.zeros(len(Virgin_Stock.values[:,1]), dtype=int)\n",
    "\n",
    "\n",
    "\n",
    "# ## i\n",
    "# for j in range(i):\n",
    "#     buf += np.array(Virgin_Stock.values[:,7+j], dtype = int)\n",
    "\n",
    "# Virgin_Stock[\"TOTAL\"] = buf\n",
    "# ii = np.full(len(Virgin_Stock.values[:,1]) ,i )\n",
    "\n",
    "# Virgin_Stock[\"AVG. WEEK\"] = np.divide(Virgin_Stock[\"TOTAL\"] , ii)\n",
    "# Virgin_Stock['total VMS Cost'] = Virgin_Stock[\"TOTAL\"] * Virgin_Stock['VMS Cost']\n",
    "# Virgin_Stock['total V.S.P.'] = Virgin_Stock[\"TOTAL\"] * Virgin_Stock['VSP']\n",
    "# count = 0\n",
    "# for head in list(rawData.head(0)):\n",
    "#     if \".Sales Quantity\" in head:\n",
    "#         Virgin_Stock[head] = rawData[head]\n",
    "#         try:\n",
    "#             headNum = int(head.replace(\".Sales Quantity\",''))\n",
    "#         except:\n",
    "#             print(int(headNum),\" can't be cast to int\")\n",
    "#         headNum = str(headNum)\n",
    "#         Virgin_Stock['TOTAL' + headNum] = rawData.values[:189, count]\n",
    "#         Virgin_Stock['VMS Cost' + headNum] = Virgin_Stock['VMS Cost'] * Virgin_Stock['TOTAL' + headNum]\n",
    "#         Virgin_Stock['V.S.P.' + headNum] = Virgin_Stock['VSP'] * Virgin_Stock['TOTAL' + headNum]\n",
    "#         Virgin_Stock['AVG. WEEK' + headNum] = np.divide(Virgin_Stock['TOTAL' + headNum] , ii)\n",
    "#     count +=1\n",
    "        \n"
   ]
  },
  {
   "cell_type": "code",
   "execution_count": 10,
   "metadata": {},
   "outputs": [],
   "source": [
    "#  Virgin_Stock['VMS Cost'] * Virgin_Stock['TOTAL' + headNum]"
   ]
  },
  {
   "cell_type": "code",
   "execution_count": 3,
   "metadata": {
    "scrolled": true
   },
   "outputs": [],
   "source": [
    "numListOfBranch = ['401','402','404','405','412','416','417','423',\n",
    "                   '424','425','426','429','444','490',]\n",
    "listOfBranch = ['401', '401.VMS cost', '401.V.S.P.', '401.AVG. WEEK',\n",
    "                '402', '402.VMS cost', '402.V.S.P.', '402.AVG. WEEK',\n",
    "                '404', '404.VMS cost', '404.V.S.P.', '404.AVG. WEEK',\n",
    "                '405', '405.VMS cost', '405.V.S.P.', '405.AVG. WEEK',\n",
    "                '412', '412.VMS cost', '412.V.S.P.', '412.AVG. WEEK',\n",
    "                '416', '416.VMS cost', '416.V.S.P.', '416.AVG. WEEK',\n",
    "                '417', '417.VMS cost', '417.V.S.P.', '417.AVG. WEEK',\n",
    "                '423', '423.VMS cost', '423.V.S.P.', '423.AVG. WEEK',\n",
    "                '424', '424.VMS cost', '424.V.S.P.', '424.AVG. WEEK',\n",
    "                '425', '425.VMS cost', '425.V.S.P.', '425.AVG. WEEK',\n",
    "                '426', '426.VMS cost', '426.V.S.P.', '426.AVG. WEEK',\n",
    "                '429', '429.VMS cost', '429.V.S.P.', '429.AVG. WEEK',\n",
    "                '444', '444.VMS cost', '444.V.S.P.', '444.AVG. WEEK',\n",
    "                '490', '490.VMS cost', '490.V.S.P.', '490.AVG. WEEK']\n",
    "\n",
    "productDetail = ['Sku', 'UPC', 'Catalogue N', 'Title', 'Label' ,'Cost Price' ,'V.S.P.']\n",
    "header = productDetail.copy()\n",
    "header.extend(listOfBranch.copy())\n"
   ]
  },
  {
   "cell_type": "code",
   "execution_count": 5,
   "metadata": {},
   "outputs": [],
   "source": [
    "# findID(str(748116), rawData)\n",
    "# rawData"
   ]
  },
  {
   "cell_type": "code",
   "execution_count": 20,
   "metadata": {},
   "outputs": [],
   "source": [
    "# noStock(748116,rawData)"
   ]
  },
  {
   "cell_type": "code",
   "execution_count": 27,
   "metadata": {},
   "outputs": [],
   "source": [
    "# monthRawData.iloc[155]['Sku']"
   ]
  },
  {
   "cell_type": "code",
   "execution_count": 29,
   "metadata": {
    "scrolled": true
   },
   "outputs": [],
   "source": [
    "\n",
    "# df = pd.read_csv('hg.csv')\n",
    "\n",
    "\n",
    "# def generate_table(dataframe, max_rows=10):\n",
    "#     return html.Table(\n",
    "#         # Header\n",
    "#         [html.Tr([html.Th(col) for col in dataframe.columns])] +\n",
    "\n",
    "#         # Body\n",
    "#         [html.Tr([\n",
    "#             html.Td(dataframe.iloc[i][col]) for col in dataframe.columns\n",
    "#         ]) for i in range(min(len(dataframe), max_rows))]\n",
    "#     )\n",
    "\n",
    "\n",
    "# external_stylesheets = ['https://codepen.io/chriddyp/pen/bWLwgP.css']\n",
    "\n",
    "# app = dash.Dash(__name__, external_stylesheets=external_stylesheets)\n",
    "\n",
    "# app.layout = html.Div(children=[\n",
    "#     html.H4(children='US Agriculture Exports (2011)'),\n",
    "#     generate_table(df)\n",
    "# ])\n",
    "\n",
    "# if __name__ == '__main__':\n",
    "#     app.run_server(debug=True)"
   ]
  },
  {
   "cell_type": "code",
   "execution_count": 4,
   "metadata": {},
   "outputs": [],
   "source": [
    "df = pd.read_csv('toalOfMonth.csv')\n",
    "\n",
    "branchTot = []\n",
    "for col in numListOfBranch:\n",
    "    branchTot.append(df[col].sum())"
   ]
  },
  {
   "cell_type": "code",
   "execution_count": 4,
   "metadata": {},
   "outputs": [
    {
     "name": "stderr",
     "output_type": "stream",
     "text": [
      "c:\\program files\\python36\\lib\\site-packages\\plotly\\offline\\offline.py:524: UserWarning:\n",
      "\n",
      "Your filename `basic_table` didn't end with .html. Adding .html to the end of your file.\n",
      "\n"
     ]
    },
    {
     "data": {
      "text/plain": [
       "'basic_table.html'"
      ]
     },
     "execution_count": 4,
     "metadata": {},
     "output_type": "execute_result"
    }
   ],
   "source": [
    "\n",
    "\n",
    "trace = go.Table(\n",
    "    header=dict(values=numListOfBranch),\n",
    "    cells=dict(values=branchTot))\n",
    "\n",
    "data = [trace] \n",
    "plot(data, filename = 'basic_table')"
   ]
  },
  {
   "cell_type": "code",
   "execution_count": 33,
   "metadata": {},
   "outputs": [
    {
     "data": {
      "text/plain": [
       "'styled_table.html'"
      ]
     },
     "execution_count": 33,
     "metadata": {},
     "output_type": "execute_result"
    }
   ],
   "source": [
    "\n",
    "\n",
    "trace = go.Table(\n",
    "    header=dict(values=numListOfBranch,\n",
    "                line = dict(color='#7D7F80'),\n",
    "                fill = dict(color='#a1c3d1'),\n",
    "                align = ['left'] * 5),\n",
    "    cells=dict(values=branchTot,\n",
    "               line = dict(color='#7D7F80'),\n",
    "               fill = dict(color='#EDFAFF'),\n",
    "               align = ['left'] * 5))\n",
    "\n",
    "layout = dict(width=1000, height=600)\n",
    "data = [trace]\n",
    "fig = dict(data=data, layout=layout)\n",
    "plot(fig, filename = 'styled_table')"
   ]
  },
  {
   "cell_type": "code",
   "execution_count": 38,
   "metadata": {
    "scrolled": true
   },
   "outputs": [
    {
     "data": {
      "text/plain": [
       "'pandas_table.html'"
      ]
     },
     "execution_count": 38,
     "metadata": {},
     "output_type": "execute_result"
    }
   ],
   "source": [
    "\n",
    "\n",
    "# df = pd.read_csv('https://raw.githubusercontent.com/plotly/datasets/master/2014_usa_states.csv')\n",
    "df = monthRawData\n",
    "\n",
    "trace = go.Table(\n",
    "    header=dict(values=list(numListOfBranch),\n",
    "                fill = dict(color='#C2D4FF'),\n",
    "                align = ['left'] * len(branchTot)),\n",
    "                cells=dict(values=branchTot,\n",
    "                fill = dict(color='#F5F8FF'),\n",
    "                align = ['left'] * len(branchTot)))\n",
    "\n",
    "data = [trace] \n",
    "plot(data, filename = 'pandas_table')"
   ]
  },
  {
   "cell_type": "code",
   "execution_count": 35,
   "metadata": {},
   "outputs": [],
   "source": [
    "\n",
    "\n",
    "# values = [[['Salaries', 'Office', 'Merchandise', 'Legal', '<b>TOTAL<br>EXPENSES</b>']],\n",
    "# [[\"Lorem ipsum dolor sit amet, tollit discere inermis pri ut. Eos ea iusto timeam, an prima laboramus\"\n",
    "#   +\" vim. Id usu aeterno adversarium, summo mollis timeam vel ad\",\n",
    "#   \"Lorem ipsum dolor sit amet, tollit discere inermis pri ut. Eos ea iusto timeam, an prima laboramus\"\n",
    "#   +\" vim. Id usu aeterno adversarium, summo mollis timeam vel ad\",\n",
    "#   \"Lorem ipsum dolor sit amet, tollit discere inermis pri ut. Eos ea iusto timeam, an prima laboramus\"\n",
    "#   +\" vim. Id usu aeterno adversarium, summo mollis timeam vel ad\",\n",
    "#   \"Lorem ipsum dolor sit amet, tollit discere inermis pri ut. Eos ea iusto timeam, an prima laboramus\"\n",
    "#   + \" vim. Id usu aeterno adversarium, summo mollis timeam vel ad\",\n",
    "#   \"Lorem ipsum dolor sit amet, tollit discere inermis pri ut. Eos ea iusto timeam, an prima laboramus\"\n",
    "#   +\" vim. Id usu aeterno adversarium, summo mollis timeam vel ad\"]]]\n",
    "\n",
    "\n",
    "# trace0 = go.Table(\n",
    "#   columnorder = [1,2],\n",
    "#   columnwidth = [80,400],\n",
    "#   header = dict(\n",
    "#     values = [['<b>EXPENSES</b><br>as of July 2017'],\n",
    "#                   ['<b>DESCRIPTION</b>']],\n",
    "#     line = dict(color = '#506784'),\n",
    "#     fill = dict(color = '#119DFF'),\n",
    "#     align = ['left','center'],\n",
    "#     font = dict(color = 'white', size = 12),\n",
    "#     height = 40\n",
    "#   ),\n",
    "#   cells = dict(\n",
    "#     values = values,\n",
    "#     line = dict(color = '#506784'),\n",
    "#     fill = dict(color = ['#25FEFD', 'white']),\n",
    "#     align = ['left', 'center'],\n",
    "#     font = dict(color = '#506784', size = 12),\n",
    "#     height = 30\n",
    "#     ))\n",
    "\n",
    "# data = [trace0]\n",
    "\n",
    "# plot(data, filename = \"Row and Column Size\")"
   ]
  },
  {
   "cell_type": "code",
   "execution_count": 17,
   "metadata": {
    "scrolled": false
   },
   "outputs": [],
   "source": [
    "\n",
    "\n",
    "# headerColor = 'grey'\n",
    "# rowEvenColor = 'lightgrey'\n",
    "# rowOddColor = 'white'\n",
    "\n",
    "# trace0 = go.Table(\n",
    "#   header = dict(\n",
    "#     values = [['<b>EXPENSES</b>'],\n",
    "#                   ['<b>Q1</b>'],\n",
    "#                   ['<b>Q2</b>'],\n",
    "#                   ['<b>Q3</b>'],\n",
    "#                   ['<b>Q4</b>']],\n",
    "#     line = dict(color = '#506784'),\n",
    "#     fill = dict(color = headerColor),\n",
    "#     align = ['left','center'],\n",
    "#     font = dict(color = 'white', size = 12)\n",
    "#   ),\n",
    "#   cells = dict(\n",
    "#     values = [\n",
    "#       [['Salaries', 'Office', 'Merchandise', 'Legal', '<b>TOTAL</b>']],\n",
    "#       [[1200000, 20000, 80000, 2000, 12120000]],\n",
    "#       [[1300000, 20000, 70000, 2000, 130902000]],\n",
    "#       [[1300000, 20000, 120000, 2000, 131222000]],\n",
    "#       [[1400000, 20000, 90000, 2000, 14102000]]],\n",
    "#     line = dict(color = '#506784'),\n",
    "#     fill = dict(color = [rowOddColor,rowEvenColor,rowOddColor, rowEvenColor,rowOddColor]),\n",
    "#     align = ['left', 'center'],\n",
    "#     font = dict(color = '#506784', size = 11)\n",
    "#     ))\n",
    "\n",
    "# data = [trace0]\n",
    "\n",
    "# plot(data, filename = \"alternating row colors\")\n",
    "if len(cl.scales['7']['seq']['Blues']) <= 14:\n",
    "    color = cl.scales['7']['seq']['Blues']\n",
    "    color.extend(cl.scales['7']['seq']['Blues'])\n",
    "    len(color)"
   ]
  },
  {
   "cell_type": "code",
   "execution_count": 18,
   "metadata": {},
   "outputs": [
    {
     "name": "stdout",
     "output_type": "stream",
     "text": [
      "14\n"
     ]
    },
    {
     "name": "stderr",
     "output_type": "stream",
     "text": [
      "c:\\program files\\python36\\lib\\site-packages\\plotly\\offline\\offline.py:524: UserWarning:\n",
      "\n",
      "Your filename `row variable color` didn't end with .html. Adding .html to the end of your file.\n",
      "\n"
     ]
    },
    {
     "data": {
      "text/plain": [
       "'row variable color.html'"
      ]
     },
     "execution_count": 18,
     "metadata": {},
     "output_type": "execute_result"
    }
   ],
   "source": [
    "\n",
    "colors = cl.scales['7']['seq']['Blues']\n",
    "len(colors)\n",
    "\n",
    "print(len(colors))\n",
    "\n",
    "data = {'Branch' : list(numListOfBranch),\n",
    "        'Total' : list(branchTot),\n",
    "        'Color' : list(colors[:14])}\n",
    "df = pd.DataFrame(data)\n",
    "\n",
    "\n",
    "trace0 = go.Table(\n",
    "  header = dict(\n",
    "    values = [\"Total Sale\", \"<b>Branch</b>\"],\n",
    "    line = dict(color = 'white'),\n",
    "    fill = dict(color = 'white'),\n",
    "    align = ['center'],\n",
    "    font = dict(color = 'black', size = 12)\n",
    "  ),\n",
    "  cells = dict(\n",
    "    values = [df.Total, df.Branch],\n",
    "    line = dict(color = [df.Color]),\n",
    "    fill = dict(color = [df.Color]),\n",
    "    align = 'center',\n",
    "    font = dict(color = 'black', size = 11)\n",
    "    ))\n",
    "\n",
    "data = [trace0]\n",
    "\n",
    "plot(data, filename = \"row variable color\")"
   ]
  },
  {
   "cell_type": "code",
   "execution_count": 25,
   "metadata": {},
   "outputs": [],
   "source": [
    "\n",
    "# colors = cl.scales['9']['seq']['Reds']\n",
    "# a = np.random.randint(low=0, high=9, size=10)\n",
    "# b = np.random.randint(low=0, high=9, size=10)\n",
    "# c = np.random.randint(low=0, high=9, size=10)\n",
    "\n",
    "\n",
    "# trace0 = go.Table(\n",
    "#   header = dict(\n",
    "#     values = numListOfBranch,\n",
    "#     line = dict(color = 'white'),\n",
    "#     fill = dict(color = 'white'),\n",
    "#     align = 'center',\n",
    "#     font = dict(color = 'black', size = 12)\n",
    "#   ),\n",
    "#   cells = dict(\n",
    "#     values =branchTot,\n",
    "#     line = dict(color = [np.array(colors)[a],np.array(colors)[b],\n",
    "#                         np.array(colors)[c]]),\n",
    "#     fill = dict(color = [np.array(colors)[a],np.array(colors)[b],\n",
    "#                         np.array(colors)[c]]),\n",
    "#     align = 'center',\n",
    "#     font = dict(color = 'white', size = 11)\n",
    "#     ))\n",
    "\n",
    "# data = [trace0]\n",
    "\n",
    "# plot(data, filename = \"cell variable color\")"
   ]
  },
  {
   "cell_type": "code",
   "execution_count": null,
   "metadata": {},
   "outputs": [],
   "source": []
  },
  {
   "cell_type": "code",
   "execution_count": null,
   "metadata": {},
   "outputs": [],
   "source": []
  },
  {
   "cell_type": "code",
   "execution_count": null,
   "metadata": {},
   "outputs": [],
   "source": []
  },
  {
   "cell_type": "code",
   "execution_count": 26,
   "metadata": {},
   "outputs": [],
   "source": [
    "\n",
    "# df = pd.read_csv(\"hg.csv\")\n",
    "# ff = df[['Sku','Catalogue N','Cost Price','V.S.P.','total sale of Goods','Status']]\n",
    "\n",
    "# table = ff.create_table(df)\n",
    "# # print(table)\n",
    "# # table\n",
    "# plot(table)\n",
    "# pio.write_image(table, 'table.webp')\n",
    "# pio.write_image(table, 'table.pdf')\n"
   ]
  },
  {
   "cell_type": "code",
   "execution_count": 11,
   "metadata": {
    "scrolled": false
   },
   "outputs": [],
   "source": [
    "# import tkinter\n",
    "# from tkinter import messagebox\n",
    "# root = tkinter.Tk()\n",
    "# root.withdraw()\n",
    "# df = pd.read_csv(\"hg.csv\")\n",
    "# # messagebox.showinfo(str(df.std()))\n",
    "# # messagebox.showinfo(str(df.mean()))\n",
    "# # messagebox.showinfo(str(df.info()))\n",
    "# # print(df.mean())\n",
    "# # print(df.info())\n",
    "\n",
    "# top = tkinter.Tk()\n",
    "# def STD():\n",
    "#     messagebox.showinfo('STD',str(df.std()))\n",
    "# def mean():\n",
    "#     messagebox.showinfo('Mean',str(df.mean()))\n",
    "# def info():\n",
    "#     messagebox.showinfo('Info', str(df.info()))\n",
    "\n",
    "# B1 = tkinter.Button(top, text = 'STD', command = STD)\n",
    "# B1.pack()\n",
    "\n",
    "\n",
    "\n",
    "# B2 = tkinter.Button(top, text = 'Mean', command = mean)\n",
    "# B2.pack()\n",
    "\n",
    "\n",
    "\n",
    "# B3 = tkinter.Button(top,text = 'Info', command = info)\n",
    "# B3.pack()\n",
    "\n",
    "# top.mainloop()\n"
   ]
  },
  {
   "cell_type": "code",
   "execution_count": 12,
   "metadata": {},
   "outputs": [
    {
     "name": "stderr",
     "output_type": "stream",
     "text": [
      "c:\\program files\\python36\\lib\\site-packages\\plotly\\offline\\offline.py:524: UserWarning:\n",
      "\n",
      "Your filename `jupyter-basic_bar` didn't end with .html. Adding .html to the end of your file.\n",
      "\n"
     ]
    },
    {
     "data": {
      "text/plain": [
       "'jupyter-basic_bar.html'"
      ]
     },
     "execution_count": 12,
     "metadata": {},
     "output_type": "execute_result"
    }
   ],
   "source": [
    "\n",
    "data = pd.read_csv('toalOfMonth.csv')\n",
    "\n",
    "branchTot = []\n",
    "for col in numListOfBranch:\n",
    "    branchTot.append(data[col].sum())\n",
    "    \n",
    "data = [go.Bar(x=numListOfBranch,\n",
    "            y=branchTot)]\n",
    "\n",
    "\n",
    "plot(data, filename='jupyter-basic_bar')"
   ]
  },
  {
   "cell_type": "code",
   "execution_count": 13,
   "metadata": {},
   "outputs": [
    {
     "data": {
      "text/plain": [
       "'temp-plot.html'"
      ]
     },
     "execution_count": 13,
     "metadata": {},
     "output_type": "execute_result"
    }
   ],
   "source": [
    "\n",
    "\n",
    "data = pd.read_csv('toalOfMonth.csv')\n",
    "\n",
    "branchTot = []\n",
    "for col in numListOfBranch:\n",
    "    branchTot.append(data[col].sum())\n",
    "N = 100\n",
    "x = numListOfBranch\n",
    "y = branchTot\n",
    "colors = np.random.rand(N)\n",
    "sz = np.random.rand(N)*30\n",
    "\n",
    "fig = go.Figure()\n",
    "fig.add_scatter(x=x,\n",
    "                y=y,\n",
    "                mode='markers',\n",
    "                marker={'size': sz,\n",
    "                        'color': colors,\n",
    "                        'opacity': 0.6,\n",
    "                        'colorscale': 'Viridis'\n",
    "                       });\n",
    "plot(fig)"
   ]
  },
  {
   "cell_type": "code",
   "execution_count": 14,
   "metadata": {},
   "outputs": [
    {
     "data": {
      "image/svg+xml": [
       "<svg class=\"main-svg\" height=\"500\" viewBox=\"0 0 700 500\" width=\"700\" xmlns=\"http://www.w3.org/2000/svg\" xmlns:xlink=\"http://www.w3.org/1999/xlink\"><rect height=\"500\" style=\"fill: rgb(255, 255, 255); fill-opacity: 1;\" width=\"700\" x=\"0\" y=\"0\"/><defs id=\"defs-ca64ca\"><g class=\"clips\"><clipPath class=\"plotclip\" id=\"clipca64caxyplot\"><rect height=\"320\" width=\"540\"/></clipPath><clipPath class=\"axesclip\" id=\"clipca64cax\"><rect height=\"500\" width=\"540\" x=\"80\" y=\"0\"/></clipPath><clipPath class=\"axesclip\" id=\"clipca64cay\"><rect height=\"320\" width=\"700\" x=\"0\" y=\"100\"/></clipPath><clipPath class=\"axesclip\" id=\"clipca64caxy\"><rect height=\"320\" width=\"540\" x=\"80\" y=\"100\"/></clipPath></g><g class=\"gradients\"/></defs><g class=\"bglayer\"/><g class=\"layer-below\"><g class=\"imagelayer\"/><g class=\"shapelayer\"/></g><g class=\"cartesianlayer\"><g class=\"subplot xy\"><g class=\"layer-subplot\"><g class=\"shapelayer\"/><g class=\"imagelayer\"/></g><g class=\"gridlayer\"><g class=\"x\"/><g class=\"y\"><path class=\"ygrid crisp\" d=\"M80,0h540\" style=\"stroke: rgb(238, 238, 238); stroke-opacity: 1; stroke-width: 1px;\" transform=\"translate(0,342.45)\"/><path class=\"ygrid crisp\" d=\"M80,0h540\" style=\"stroke: rgb(238, 238, 238); stroke-opacity: 1; stroke-width: 1px;\" transform=\"translate(0,264.9)\"/><path class=\"ygrid crisp\" d=\"M80,0h540\" style=\"stroke: rgb(238, 238, 238); stroke-opacity: 1; stroke-width: 1px;\" transform=\"translate(0,187.35)\"/><path class=\"ygrid crisp\" d=\"M80,0h540\" style=\"stroke: rgb(238, 238, 238); stroke-opacity: 1; stroke-width: 1px;\" transform=\"translate(0,109.8)\"/></g></g><g class=\"zerolinelayer\"><path class=\"yzl zl crisp\" d=\"M80,0h540\" style=\"stroke: rgb(68, 68, 68); stroke-opacity: 1; stroke-width: 1px;\" transform=\"translate(0,420)\"/></g><path class=\"xlines-below\"/><path class=\"ylines-below\"/><g class=\"overlines-below\"/><g class=\"xaxislayer-below\"/><g class=\"yaxislayer-below\"/><g class=\"overaxes-below\"/><g class=\"plot\" clip-path=\"url('#clipca64caxyplot')\" transform=\"translate(80, 100)\"><g class=\"barlayer mlayer\"><g class=\"trace bars\" style=\"opacity: 1;\"><g class=\"points\"><g class=\"point\"><path d=\"M0.6,320V247.1H5.4V320Z\" style=\"vector-effect: non-scaling-stroke; opacity: 0.6; stroke-width: 0px; fill: rgb(214, 226, 26); fill-opacity: 1;\"/></g><g class=\"point\"><path d=\"M6.6,320V248.65H11.4V320Z\" style=\"vector-effect: non-scaling-stroke; opacity: 0.6; stroke-width: 0px; fill: rgb(35, 138, 141); fill-opacity: 1;\"/></g><g class=\"point\"><path d=\"M18.6,320V257.96H23.4V320Z\" style=\"vector-effect: non-scaling-stroke; opacity: 0.6; stroke-width: 0px; fill: rgb(60, 80, 138); fill-opacity: 1;\"/></g><g class=\"point\"><path d=\"M24.6,320V60.98H29.4V320Z\" style=\"vector-effect: non-scaling-stroke; opacity: 0.6; stroke-width: 0px; fill: rgb(35, 138, 141); fill-opacity: 1;\"/></g><g class=\"point\"><path d=\"M66.6,320V237.8H71.4V320Z\" style=\"vector-effect: non-scaling-stroke; opacity: 0.6; stroke-width: 0px; fill: rgb(72, 31, 112); fill-opacity: 1;\"/></g><g class=\"point\"><path d=\"M90.6,320V16H95.4V320Z\" style=\"vector-effect: non-scaling-stroke; opacity: 0.6; stroke-width: 0px; fill: rgb(47, 109, 142); fill-opacity: 1;\"/></g><g class=\"point\"><path d=\"M96.6,320V239.35H101.4V320Z\" style=\"vector-effect: non-scaling-stroke; opacity: 0.6; stroke-width: 0px; fill: rgb(31, 160, 136); fill-opacity: 1;\"/></g><g class=\"point\"><path d=\"M132.6,320V284.33H137.4V320Z\" style=\"vector-effect: non-scaling-stroke; opacity: 0.6; stroke-width: 0px; fill: rgb(60, 81, 139); fill-opacity: 1;\"/></g><g class=\"point\"><path d=\"M138.6,320V189.71H143.4V320Z\" style=\"vector-effect: non-scaling-stroke; opacity: 0.6; stroke-width: 0px; fill: rgb(43, 176, 126); fill-opacity: 1;\"/></g><g class=\"point\"><path d=\"M144.6,320V299.84H149.4V320Z\" style=\"vector-effect: non-scaling-stroke; opacity: 0.6; stroke-width: 0px; fill: rgb(36, 167, 132); fill-opacity: 1;\"/></g><g class=\"point\"><path d=\"M150.6,320V268.82H155.4V320Z\" style=\"vector-effect: non-scaling-stroke; opacity: 0.6; stroke-width: 0px; fill: rgb(60, 186, 116); fill-opacity: 1;\"/></g><g class=\"point\"><path d=\"M168.6,320V267.27H173.4V320Z\" style=\"vector-effect: non-scaling-stroke; opacity: 0.6; stroke-width: 0px; fill: rgb(90, 200, 100); fill-opacity: 1;\"/></g><g class=\"point\"><path d=\"M0,0Z\" style=\"vector-effect: non-scaling-stroke; opacity: 0.6; stroke-width: 0px; fill: rgb(71, 17, 100); fill-opacity: 1;\"/></g><g class=\"point\"><path d=\"M0,0Z\" style=\"vector-effect: non-scaling-stroke; opacity: 0.6; stroke-width: 0px; fill: rgb(130, 211, 76); fill-opacity: 1;\"/></g></g></g></g></g><g class=\"overplot\"/><path class=\"xlines-above crisp\" d=\"M0,0\" style=\"fill: none;\"/><path class=\"ylines-above crisp\" d=\"M0,0\" style=\"fill: none;\"/><g class=\"overlines-above\"/><g class=\"xaxislayer-above\"><g class=\"xtick\"><text style=\"font-family: 'Open Sans', verdana, arial, sans-serif; font-size: 12px; fill: rgb(68, 68, 68); fill-opacity: 1; white-space: pre;\" text-anchor=\"middle\" transform=\"translate(197,0)\" x=\"0\" y=\"433\">420</text></g><g class=\"xtick\"><text style=\"font-family: 'Open Sans', verdana, arial, sans-serif; font-size: 12px; fill: rgb(68, 68, 68); fill-opacity: 1; white-space: pre;\" text-anchor=\"middle\" transform=\"translate(317,0)\" x=\"0\" y=\"433\">440</text></g><g class=\"xtick\"><text style=\"font-family: 'Open Sans', verdana, arial, sans-serif; font-size: 12px; fill: rgb(68, 68, 68); fill-opacity: 1; white-space: pre;\" text-anchor=\"middle\" transform=\"translate(437,0)\" x=\"0\" y=\"433\">460</text></g><g class=\"xtick\"><text style=\"font-family: 'Open Sans', verdana, arial, sans-serif; font-size: 12px; fill: rgb(68, 68, 68); fill-opacity: 1; white-space: pre;\" text-anchor=\"middle\" transform=\"translate(557,0)\" x=\"0\" y=\"433\">480</text></g></g><g class=\"yaxislayer-above\"><g class=\"ytick\"><text style=\"font-family: 'Open Sans', verdana, arial, sans-serif; font-size: 12px; fill: rgb(68, 68, 68); fill-opacity: 1; white-space: pre;\" text-anchor=\"end\" transform=\"translate(0,420)\" x=\"79\" y=\"4.199999999999999\">0</text></g><g class=\"ytick\"><text style=\"font-family: 'Open Sans', verdana, arial, sans-serif; font-size: 12px; fill: rgb(68, 68, 68); fill-opacity: 1; white-space: pre;\" text-anchor=\"end\" transform=\"translate(0,342.45)\" x=\"79\" y=\"4.199999999999999\">50</text></g><g class=\"ytick\"><text style=\"font-family: 'Open Sans', verdana, arial, sans-serif; font-size: 12px; fill: rgb(68, 68, 68); fill-opacity: 1; white-space: pre;\" text-anchor=\"end\" transform=\"translate(0,264.9)\" x=\"79\" y=\"4.199999999999999\">100</text></g><g class=\"ytick\"><text style=\"font-family: 'Open Sans', verdana, arial, sans-serif; font-size: 12px; fill: rgb(68, 68, 68); fill-opacity: 1; white-space: pre;\" text-anchor=\"end\" transform=\"translate(0,187.35)\" x=\"79\" y=\"4.199999999999999\">150</text></g><g class=\"ytick\"><text style=\"font-family: 'Open Sans', verdana, arial, sans-serif; font-size: 12px; fill: rgb(68, 68, 68); fill-opacity: 1; white-space: pre;\" text-anchor=\"end\" transform=\"translate(0,109.8)\" x=\"79\" y=\"4.199999999999999\">200</text></g></g><g class=\"overaxes-above\"/></g></g><g class=\"polarlayer\"/><g class=\"ternarylayer\"/><g class=\"geolayer\"/><g class=\"pielayer\"/><g class=\"sunburstlayer\"/><g class=\"glimages\"/><defs id=\"topdefs-ca64ca\"><g class=\"clips\"/></defs><g class=\"layer-above\"><g class=\"imagelayer\"/><g class=\"shapelayer\"/></g><g class=\"infolayer\"><g class=\"g-gtitle\"/><g class=\"g-xtitle\"/><g class=\"g-ytitle\"/></g></svg>"
      ],
      "text/plain": [
       "<IPython.core.display.SVG object>"
      ]
     },
     "metadata": {},
     "output_type": "display_data"
    }
   ],
   "source": [
    "\n",
    "data = pd.read_csv('toalOfMonth.csv')\n",
    "\n",
    "branchTot = []\n",
    "for col in numListOfBranch:\n",
    "    branchTot.append(data[col].sum())\n",
    "\n",
    "x = numListOfBranch\n",
    "y = branchTot\n",
    "colors = np.random.rand(N)\n",
    "  \n",
    "data = go.Figure()\n",
    "data.add_bar(x=x,\n",
    "                y=y,\n",
    "                marker={\n",
    "                        'color': colors,\n",
    "                        'opacity': 0.6,\n",
    "                        'colorscale': 'Viridis'\n",
    "                       })\n",
    "pio.write_image(data, 'fig1.jpeg')\n",
    "img_bytes = pio.to_image(data, format='svg')\n",
    "pio.write_image(data, 'fig1.webp')\n",
    "display(SVG(img_bytes))"
   ]
  },
  {
   "cell_type": "code",
   "execution_count": 15,
   "metadata": {},
   "outputs": [
    {
     "data": {
      "image/png": "[encoded data removed]",
      "text/plain": [
       "<IPython.core.display.Image object>"
      ]
     },
     "execution_count": 15,
     "metadata": {},
     "output_type": "execute_result"
    }
   ],
   "source": [
    "img_bytes = pio.to_image(data, format='png', width=600, height=400, scale=2)\n",
    "Image(img_bytes)"
   ]
  },
  {
   "cell_type": "code",
   "execution_count": 33,
   "metadata": {},
   "outputs": [],
   "source": [
    "# %%time\n",
    "# pio.write_image(data, 'fig1.jpeg')\n",
    "# img_bytes = pio.to_image(data, format='svg')\n",
    "\n",
    "# display(SVG(img_bytes))"
   ]
  },
  {
   "cell_type": "code",
   "execution_count": 23,
   "metadata": {},
   "outputs": [],
   "source": [
    "\n",
    "# df = pd.read_csv(\"https://raw.githubusercontent.com/plotly/datasets/master/school_earnings.csv\")\n",
    "\n",
    "# trace_women = go.Bar(x=df.School,\n",
    "#                   y=df.Women,\n",
    "#                   name='Women',\n",
    "#                   marker=dict(color='#ffcdd2'))\n",
    "\n",
    "# trace_men = go.Bar(x=df.School,\n",
    "#                 y=df.Men,\n",
    "#                 name='Men',\n",
    "#                 marker=dict(color='#A2D5F2'))\n",
    "\n",
    "# trace_gap = go.Bar(x=df.School,\n",
    "#                 y=df.Gap,\n",
    "#                 name='Gap',\n",
    "#                 marker=dict(color='#59606D'))\n",
    "\n",
    "# data = [trace_women, trace_men, trace_gap]\n",
    "\n",
    "# layout = go.Layout(title=\"Average Earnings for Graduates\",\n",
    "#                 xaxis=dict(title='School'),\n",
    "#                 yaxis=dict(title='Salary (in thousands)'))\n",
    "\n",
    "# fig = go.Figure(data=data, layout=layout)\n",
    "\n",
    "# plot(fig, sharing='private', filename='jupyter-styled_bar')"
   ]
  },
  {
   "cell_type": "code",
   "execution_count": 24,
   "metadata": {
    "scrolled": true
   },
   "outputs": [],
   "source": [
    "\n",
    "# mapbox_access_token = 'dfg'\n",
    "\n",
    "# df = pd.read_csv('https://raw.githubusercontent.com/plotly/datasets/master/Nuclear%20Waste%20Sites%20on%20American%20Campuses.csv')\n",
    "# site_lat = df.lat\n",
    "# site_lon = df.lon\n",
    "# locations_name = df.text\n",
    "\n",
    "# data = [\n",
    "#     go.Scattermapbox(\n",
    "#         lat=site_lat,\n",
    "#         lon=site_lon,\n",
    "#         mode='markers',\n",
    "#         marker=dict(\n",
    "#             size=17,\n",
    "#             color='rgb(255, 0, 0)',\n",
    "#             opacity=0.7\n",
    "#         ),\n",
    "#         text=locations_name,\n",
    "#         hoverinfo='text'\n",
    "#     ),\n",
    "#     go.Scattermapbox(\n",
    "#         lat=site_lat,\n",
    "#         lon=site_lon,\n",
    "#         mode='markers',\n",
    "#         marker=dict(\n",
    "#             size=8,\n",
    "#             color='rgb(242, 177, 172)',\n",
    "#             opacity=0.7\n",
    "#         ),\n",
    "#         hoverinfo='none'\n",
    "#     )]\n",
    "\n",
    "\n",
    "# layout = go.Layout(\n",
    "#     title='Nuclear Waste Sites on Campus',\n",
    "#     autosize=True,\n",
    "#     hovermode='closest',\n",
    "#     showlegend=False,\n",
    "#     mapbox=dict(\n",
    "#         accesstoken=mapbox_access_token,\n",
    "#         bearing=0,\n",
    "#         center=dict(\n",
    "#             lat=38,\n",
    "#             lon=-94\n",
    "#         ),\n",
    "#         pitch=0,\n",
    "#         zoom=3,\n",
    "#         style='light'\n",
    "#     ),\n",
    "# )\n",
    "\n",
    "# fig = dict(data=data, layout=layout)\n",
    "\n",
    "# plot(fig, filename='jupyter-Nuclear Waste Sites on American Campuses')"
   ]
  },
  {
   "cell_type": "code",
   "execution_count": 25,
   "metadata": {},
   "outputs": [],
   "source": [
    "\n",
    "# s = np.linspace(0, 2 * np.pi, 240)\n",
    "# t = np.linspace(0, np.pi, 240)\n",
    "# tGrid, sGrid = np.meshgrid(s, t)\n",
    "\n",
    "# r = 2 + np.sin(7 * sGrid + 5 * tGrid)  # r = 2 + sin(7s+5t)\n",
    "# x = r * np.cos(sGrid) * np.sin(tGrid)  # x = r*cos(s)*sin(t)\n",
    "# y = r * np.sin(sGrid) * np.sin(tGrid)  # y = r*sin(s)*sin(t)\n",
    "# z = r * np.cos(tGrid)                  # z = r*cos(t)\n",
    "\n",
    "# surface = go.Surface(x=x, y=y, z=z)\n",
    "# data = [surface]\n",
    "\n",
    "# layout = go.Layout(\n",
    "#     title='Parametric Plot',\n",
    "#     scene=dict(\n",
    "#         xaxis=dict(\n",
    "#             gridcolor='rgb(255, 255, 255)',\n",
    "#             zerolinecolor='rgb(255, 255, 255)',\n",
    "#             showbackground=True,\n",
    "#             backgroundcolor='rgb(230, 230,230)'\n",
    "#         ),\n",
    "#         yaxis=dict(\n",
    "#             gridcolor='rgb(255, 255, 255)',\n",
    "#             zerolinecolor='rgb(255, 255, 255)',\n",
    "#             showbackground=True,\n",
    "#             backgroundcolor='rgb(230, 230,230)'\n",
    "#         ),\n",
    "#         zaxis=dict(\n",
    "#             gridcolor='rgb(255, 255, 255)',\n",
    "#             zerolinecolor='rgb(255, 255, 255)',\n",
    "#             showbackground=True,\n",
    "#             backgroundcolor='rgb(230, 230,230)'\n",
    "#         )\n",
    "#     )\n",
    "# )\n",
    "\n",
    "# fig = go.Figure(data=data, layout=layout)\n",
    "# plot(fig, filename='jupyter-parametric_plot')"
   ]
  },
  {
   "cell_type": "code",
   "execution_count": 26,
   "metadata": {},
   "outputs": [],
   "source": [
    "\n",
    "\n",
    "# data = [dict(\n",
    "#         visible = False,\n",
    "#         line=dict(color='#00CED1', width=6),\n",
    "#         name = '𝜈 = '+str(step),\n",
    "#         x = np.arange(0,10,0.01),\n",
    "#         y = np.sin(step*np.arange(0,10,0.01))) for step in np.arange(0,5,0.1)]\n",
    "# data[10]['visible'] = True\n",
    "\n",
    "# steps = []\n",
    "# for i in range(len(data)):\n",
    "#     step = dict(\n",
    "#         method = 'restyle',\n",
    "#         args = ['visible', [False] * len(data)],\n",
    "#     )\n",
    "#     step['args'][1][i] = True # Toggle i'th trace to \"visible\"\n",
    "#     steps.append(step)\n",
    "\n",
    "# sliders = [dict(\n",
    "#     active = 10,\n",
    "#     currentvalue = {\"prefix\": \"Frequency: \"},\n",
    "#     pad = {\"t\": 50},\n",
    "#     steps = steps\n",
    "# )]\n",
    "\n",
    "# layout = dict(sliders=sliders)\n",
    "# fig = dict(data=data, layout=layout)\n",
    "\n",
    "# plot(fig, filename='Sine Wave Slider')"
   ]
  },
  {
   "cell_type": "code",
   "execution_count": 27,
   "metadata": {},
   "outputs": [],
   "source": [
    "\n",
    "\n",
    "# YouTubeVideo(\"wupToqz1e2g\")\n",
    "# # YouTubeVideo('')"
   ]
  },
  {
   "cell_type": "code",
   "execution_count": 28,
   "metadata": {},
   "outputs": [],
   "source": [
    "\n",
    "\n",
    "\n",
    "# display(Math(r'F(k) = \\int_{-\\infty}^{\\infty} f(x) e^{2\\pi i k} dx'))"
   ]
  },
  {
   "cell_type": "code",
   "execution_count": 29,
   "metadata": {},
   "outputs": [],
   "source": [
    "# IFrame(src= \"https://dash-simple-apps.plotly.host/dash-tableplot/\", width=\"100%\", height=\"850px\", frameBorder=\"0\")"
   ]
  },
  {
   "cell_type": "code",
   "execution_count": 30,
   "metadata": {},
   "outputs": [],
   "source": [
    "\n",
    "# IFrame(src= \"https://dash-simple-apps.plotly.host/dash-tableplot/code\", width=\"100%\", height=500, frameBorder=\"0\")"
   ]
  },
  {
   "cell_type": "code",
   "execution_count": 34,
   "metadata": {},
   "outputs": [],
   "source": [
    "toalOfMonth = pd.read_csv('toalOfMonth.csv')\n",
    "numListOfBranch = ['401','402','404','405','412','416','417','423',\n",
    "                   '424','425','426','429','444','490',]\n",
    "branchTot = []\n",
    "for col in numListOfBranch:\n",
    "    branchTot.append(toalOfMonth[col].sum())\n",
    "    \n",
    "np.random.seed(42)\n",
    "random_x = np.random.randint(1,101,100)\n",
    "random_y = np.random.randint(1,101,100)"
   ]
  },
  {
   "cell_type": "code",
   "execution_count": 35,
   "metadata": {},
   "outputs": [
    {
     "name": "stderr",
     "output_type": "stream",
     "text": [
      "c:\\program files\\python36\\lib\\site-packages\\plotly\\offline\\offline.py:524: UserWarning:\n",
      "\n",
      "Your filename `sale distribution of each branch` didn't end with .html. Adding .html to the end of your file.\n",
      "\n"
     ]
    },
    {
     "data": {
      "text/plain": [
       "'sale distribution of each branch.html'"
      ]
     },
     "execution_count": 35,
     "metadata": {},
     "output_type": "execute_result"
    }
   ],
   "source": [
    "data = [go.Box(y = branchTot, name = 'sale distribution',\n",
    "               marker = dict(\n",
    "                   size = 12,\n",
    "                   color = 'rgb(120,56,98)',\n",
    "                   symbol = 'pentagon',\n",
    "                   line = {'width':2}\n",
    "               ),\n",
    "               boxmean=True, boxpoints = 'all')]\n",
    "# boxmean = 'sd'\n",
    "# boxpoints = 'outliers'\n",
    "# boxpoints = 'suspectedoutliers\n",
    "# boxpoints = False\n",
    "\n",
    "layout = go.Layout(\n",
    "    title = \"sale distribution\",\n",
    "    xaxis = {'title':''},\n",
    "    yaxis = dict(title = 'sale values'),\n",
    "    hovermode = 'closest'\n",
    ")\n",
    "\n",
    "fig = go.Figure(data=data,layout=layout)\n",
    "plot(fig, filename = \"sale distribution of each branch\")\n"
   ]
  },
  {
   "cell_type": "code",
   "execution_count": 36,
   "metadata": {},
   "outputs": [
    {
     "name": "stderr",
     "output_type": "stream",
     "text": [
      "c:\\program files\\python36\\lib\\site-packages\\plotly\\offline\\offline.py:524: UserWarning:\n",
      "\n",
      "Your filename `sale amount of each branch` didn't end with .html. Adding .html to the end of your file.\n",
      "\n"
     ]
    },
    {
     "data": {
      "text/plain": [
       "'sale amount of each branch.html'"
      ]
     },
     "execution_count": 36,
     "metadata": {},
     "output_type": "execute_result"
    }
   ],
   "source": [
    "data = [go.Bar(x = numListOfBranch, y = branchTot,\n",
    "               marker = dict(\n",
    "                   color = 'rgb(18,95,200)',\n",
    "                   line = {'width':2}\n",
    "               ))]\n",
    "\n",
    "layout = go.Layout(\n",
    "    title = \"sale distribution\",\n",
    "    xaxis = {'title':'Branches'},\n",
    "    yaxis = dict(title = 'sale values'),\n",
    "    hovermode = 'closest'\n",
    "    \n",
    ")\n",
    "\n",
    "fig = go.Figure(data = data, layout = layout)\n",
    "\n",
    "plot(fig, filename = 'sale amount of each branch')\n"
   ]
  },
  {
   "cell_type": "code",
   "execution_count": 37,
   "metadata": {},
   "outputs": [
    {
     "data": {
      "text/html": [
       "\n",
       "        <iframe\n",
       "            width=\"100%\"\n",
       "            height=\"650px\"\n",
       "            src=\"https://dash-simple-apps.plotly.host/dash-boxplot/?frameBorder=0\"\n",
       "            frameborder=\"0\"\n",
       "            allowfullscreen\n",
       "        ></iframe>\n",
       "        "
      ],
      "text/plain": [
       "<IPython.lib.display.IFrame at 0x18c0029c0f0>"
      ]
     },
     "execution_count": 37,
     "metadata": {},
     "output_type": "execute_result"
    }
   ],
   "source": [
    "\n",
    "IFrame(src= \"https://dash-simple-apps.plotly.host/dash-boxplot/\",\n",
    "       width=\"100%\", height=\"650px\", frameBorder=\"0\")"
   ]
  },
  {
   "cell_type": "code",
   "execution_count": null,
   "metadata": {},
   "outputs": [],
   "source": []
  }
 ],
 "metadata": {
  "kernelspec": {
   "display_name": "Python 3",
   "language": "python",
   "name": "python3"
  },
  "language_info": {
   "codemirror_mode": {
    "name": "ipython",
    "version": 3
   },
   "file_extension": ".py",
   "mimetype": "text/x-python",
   "name": "python",
   "nbconvert_exporter": "python",
   "pygments_lexer": "ipython3",
   "version": "3.6.7"
  }
 },
 "nbformat": 4,
 "nbformat_minor": 2
}
