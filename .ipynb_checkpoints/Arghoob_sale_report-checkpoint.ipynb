{
 "cells": [
  {
   "cell_type": "code",
   "execution_count": 6,
   "metadata": {},
   "outputs": [],
   "source": [
    "import pandas as pd\n",
    "import numpy as np\n",
    "import os\n",
    "# import subprocess\n",
    "# subprocess.check_call(['pip', 'install', 'numpy']) # install pkg\n",
    "# subprocess.check_call(['pip', 'install',\"--upgrade\", 'numpy']) # upgrade pkg"
   ]
  },
  {
   "cell_type": "code",
   "execution_count": 57,
   "metadata": {},
   "outputs": [
    {
     "name": "stdout",
     "output_type": "stream",
     "text": [
      "04-05-2019.CSV\n",
      "09-03-2019.CSV\n",
      "16-03-2019.CSV\n",
      "23-02-2019.CSV\n",
      "23-03-2019.CSV\n",
      "30-03-2019.CSV\n"
     ]
    }
   ],
   "source": [
    "import os\n",
    "\n",
    "path = 'Main bank/'\n",
    "\n",
    "files = []\n",
    "filesNoAdd = []\n",
    "# r=root, d=directories, f = files\n",
    "for r, d, f in os.walk(path):\n",
    "    for file in f:\n",
    "        if '.CSV' in file:\n",
    "            files.append(os.path.join(r, file))\n",
    "            filesNoAdd.append(file)\n",
    "\n",
    "for f in filesNoAdd:\n",
    "    print(f)\n"
   ]
  },
  {
   "cell_type": "code",
   "execution_count": 58,
   "metadata": {},
   "outputs": [],
   "source": [
    "f1 = '04-05-2019'\n",
    "f = ('Main bank/' + f1 + '.CSV')\n",
    "rawData = pd.read_csv(f , encoding='latin1')\n",
    "# rawData"
   ]
  },
  {
   "cell_type": "code",
   "execution_count": 59,
   "metadata": {},
   "outputs": [],
   "source": [
    "sku = rawData.values[:189,0]\n",
    "\n",
    "upc = rawData.values[:189,1]\n",
    "\n",
    "Catalogue = rawData.values[:189,2]\n",
    "\n",
    "title = rawData.values[:189,3]\n",
    "\n",
    "label = rawData.values[:189,4]\n",
    "\n",
    "Cost_Price = rawData.values[:189,5]\n",
    "\n",
    "VSP = rawData.values[:189,6]\n"
   ]
  },
  {
   "cell_type": "code",
   "execution_count": 60,
   "metadata": {
    "scrolled": true
   },
   "outputs": [],
   "source": [
    "rawDatVal = []\n",
    "rawDatVal = rawData.values[:189,7:149]\n",
    "eachRaw = []\n",
    "allRawvalue = []\n",
    "BranchTotal = rawDatVal.sum(axis=0)\n",
    "\n",
    "for i in range(len(rawDatVal[:,0])):\n",
    "    for j in range(int((len(rawDatVal[0,:]))/3)):\n",
    "        \n",
    "        k=3 * j \n",
    "\n",
    "        eachRaw.append(rawDatVal[i,k])\n",
    "    eachRaw = np.array(eachRaw)\n",
    "    allRawvalue.append(eachRaw.sum())\n",
    "    eachRaw = []\n",
    "\n",
    "\n",
    "\n",
    "# rawData['Sum of sale for each goods'] = allRawvalue"
   ]
  },
  {
   "cell_type": "code",
   "execution_count": 61,
   "metadata": {},
   "outputs": [],
   "source": [
    "\n",
    "eachRaw = []\n",
    "\n",
    "BranchTotal = rawDatVal.sum(axis=0)\n",
    "for j in range(int(len(rawDatVal[0,:])/3)):\n",
    "    k=3 * j \n",
    "    sum = 0\n",
    "    for i in range(len(rawDatVal[:,0])):\n",
    "        sum += rawDatVal[i,k]\n",
    "    rawData.iloc[i+1,k] = sum\n",
    "    \n",
    "\n",
    "    eachRaw = []\n",
    "# allRawvalue.append(np.array(allRawvalue).sum())\n",
    "# allRawvalue.append(np.array(allRawvalue).sum())\n",
    "\n"
   ]
  },
  {
   "cell_type": "code",
   "execution_count": 62,
   "metadata": {},
   "outputs": [],
   "source": [
    "Virgin_Stock = []\n",
    "Virgin_Stock = pd.DataFrame(Virgin_Stock)\n",
    "Virgin_Stock['sku'] = sku\n",
    "Virgin_Stock['upc'] = upc\n",
    "Virgin_Stock['Catalogue'] = Catalogue\n",
    "Virgin_Stock['title'] = title\n",
    "Virgin_Stock['label'] = label\n",
    "Virgin_Stock['VMS Cost'] = Cost_Price\n",
    "Virgin_Stock['VSP'] = VSP\n",
    "\n",
    "\n",
    "Virgin_Stock[f1] = list(allRawvalue)\n"
   ]
  },
  {
   "cell_type": "code",
   "execution_count": 63,
   "metadata": {},
   "outputs": [],
   "source": [
    "i = 1\n",
    "buf = np.zeros(len(Virgin_Stock.values[:,1]), dtype=int)\n",
    "\n",
    "\n",
    "\n",
    "## i\n",
    "for j in range(i):\n",
    "    buf += np.array(Virgin_Stock.values[:,7+j], dtype = int)\n",
    "\n",
    "Virgin_Stock[\"TOTAL\"] = buf\n",
    "ii = np.full(len(Virgin_Stock.values[:,1]) ,i )\n",
    "\n",
    "Virgin_Stock[\"AVG. WEEK\"] = np.divide(Virgin_Stock[\"TOTAL\"] , ii)\n",
    "Virgin_Stock['total VMS Cost'] = Virgin_Stock[\"TOTAL\"] * Virgin_Stock['VMS Cost']\n",
    "Virgin_Stock['total V.S.P.'] = Virgin_Stock[\"TOTAL\"] * Virgin_Stock['VSP']\n",
    "count = 0\n",
    "for head in list(rawData.head(0)):\n",
    "    if \".Sales Quantity\" in head:\n",
    "        Virgin_Stock[head] = rawData[head]\n",
    "        try:\n",
    "            headNum = int(head.replace(\".Sales Quantity\",''))\n",
    "        except:\n",
    "            print(int(headNum),\" can't be cast to int\")\n",
    "        headNum = str(headNum)\n",
    "        Virgin_Stock['TOTAL' + headNum] = rawData.values[:189, count]\n",
    "        Virgin_Stock['VMS Cost' + headNum] = Virgin_Stock['VMS Cost'] * Virgin_Stock['TOTAL' + headNum]\n",
    "        Virgin_Stock['V.S.P.' + headNum] = Virgin_Stock['VSP'] * Virgin_Stock['TOTAL' + headNum]\n",
    "        Virgin_Stock['AVG. WEEK' + headNum] = np.divide(Virgin_Stock['TOTAL' + headNum] , ii)\n",
    "    count +=1\n",
    "        \n"
   ]
  },
  {
   "cell_type": "code",
   "execution_count": 64,
   "metadata": {},
   "outputs": [],
   "source": [
    "Virgin_Stock.to_csv('Virgin_Stock.csv', index =False)"
   ]
  },
  {
   "cell_type": "code",
   "execution_count": 65,
   "metadata": {},
   "outputs": [],
   "source": [
    "#  Virgin_Stock['VMS Cost'] * Virgin_Stock['TOTAL' + headNum]"
   ]
  },
  {
   "cell_type": "code",
   "execution_count": 108,
   "metadata": {},
   "outputs": [
    {
     "name": "stdout",
     "output_type": "stream",
     "text": [
      "06-04-2019.CSV\n",
      "13-04-2019.CSV\n",
      "20-04-2019.CSV\n",
      "27-04-2019.CSV\n"
     ]
    }
   ],
   "source": [
    "path = '4Th Month/'\n",
    "\n",
    "files = []\n",
    "filesNoAdd = []\n",
    "# r=root, d=directories, f = files\n",
    "for r, d, f in os.walk(path):\n",
    "    for file in f:\n",
    "        if '.CSV' in file:\n",
    "            files.append(os.path.join(r, file))\n",
    "            filesNoAdd.append(file)\n",
    "\n",
    "for f in filesNoAdd:\n",
    "    print(f)\n"
   ]
  },
  {
   "cell_type": "code",
   "execution_count": 109,
   "metadata": {
    "scrolled": true
   },
   "outputs": [],
   "source": [
    "listOfBranch = ['401','402','404','405', '412', '416', '417',\n",
    "                '423', '424','425','426','429','444','490']\n",
    "productDetail = ['Sku', 'UPC', 'Catalogue N', 'Title', 'Label' ,'Cost Price' ,'V.S.P.']\n",
    "header = productDetail.copy()\n",
    "header.extend(listOfBranch.copy())\n"
   ]
  },
  {
   "cell_type": "code",
   "execution_count": 119,
   "metadata": {},
   "outputs": [],
   "source": [
    "def buildList(ide, productDetail, listOfBranch, rawData):\n",
    "    \n",
    "    producList = []\n",
    "    for det in productDetail:\n",
    "        producList.append(rawData[det][ide])\n",
    "    for branch in listOfBranch:\n",
    "        head = str(branch + '.Sales Quantity')\n",
    "        if head in rawData.head(0):\n",
    "            producList.append(rawData[head][ide])\n",
    "                \n",
    "    return producList"
   ]
  },
  {
   "cell_type": "code",
   "execution_count": 122,
   "metadata": {},
   "outputs": [],
   "source": [
    "def listAddition(ide, productDetail, listOfBranch, rawData, monthRawData):\n",
    "    producList = []\n",
    "    for branch in listOfBranch:\n",
    "        head = str(branch + '.Sales Quantity')\n",
    "        if head in rawData.head(0):\n",
    "            producList.append(rawData[head][ide])\n",
    "                \n",
    "    return monthRawData"
   ]
  },
  {
   "cell_type": "code",
   "execution_count": 123,
   "metadata": {},
   "outputs": [
    {
     "ename": "NameError",
     "evalue": "name 'head' is not defined",
     "output_type": "error",
     "traceback": [
      "\u001b[1;31m---------------------------------------------------------------------------\u001b[0m",
      "\u001b[1;31mNameError\u001b[0m                                 Traceback (most recent call last)",
      "\u001b[1;32m<ipython-input-123-eb7e797cb9c9>\u001b[0m in \u001b[0;36m<module>\u001b[1;34m\u001b[0m\n\u001b[0;32m     19\u001b[0m         \u001b[1;32melse\u001b[0m\u001b[1;33m:\u001b[0m\u001b[1;33m\u001b[0m\u001b[1;33m\u001b[0m\u001b[0m\n\u001b[0;32m     20\u001b[0m             \u001b[1;32mfor\u001b[0m \u001b[0mcolid\u001b[0m \u001b[1;32min\u001b[0m \u001b[0mrange\u001b[0m\u001b[1;33m(\u001b[0m\u001b[1;36m7\u001b[0m\u001b[1;33m,\u001b[0m \u001b[1;36m148\u001b[0m\u001b[1;33m)\u001b[0m\u001b[1;33m:\u001b[0m\u001b[1;33m\u001b[0m\u001b[1;33m\u001b[0m\u001b[0m\n\u001b[1;32m---> 21\u001b[1;33m                 \u001b[0mlistAddition\u001b[0m\u001b[1;33m(\u001b[0m\u001b[0msid\u001b[0m\u001b[1;33m,\u001b[0m \u001b[0mproductDetail\u001b[0m\u001b[1;33m,\u001b[0m \u001b[0mlistOfBranch\u001b[0m\u001b[1;33m,\u001b[0m \u001b[0mrawData\u001b[0m\u001b[1;33m,\u001b[0m \u001b[0mmonthRawData\u001b[0m\u001b[1;33m)\u001b[0m\u001b[1;33m\u001b[0m\u001b[1;33m\u001b[0m\u001b[0m\n\u001b[0m\u001b[0;32m     22\u001b[0m         \u001b[0msid\u001b[0m \u001b[1;33m+=\u001b[0m\u001b[1;36m1\u001b[0m\u001b[1;33m\u001b[0m\u001b[1;33m\u001b[0m\u001b[0m\n\u001b[0;32m     23\u001b[0m \u001b[1;33m\u001b[0m\u001b[0m\n",
      "\u001b[1;32m<ipython-input-122-1aee41db54e7>\u001b[0m in \u001b[0;36mlistAddition\u001b[1;34m(ide, productDetail, listOfBranch, rawData, monthRawData)\u001b[0m\n\u001b[0;32m      3\u001b[0m     \u001b[1;32mfor\u001b[0m \u001b[0mbranch\u001b[0m \u001b[1;32min\u001b[0m \u001b[0mlistOfBranch\u001b[0m\u001b[1;33m:\u001b[0m\u001b[1;33m\u001b[0m\u001b[1;33m\u001b[0m\u001b[0m\n\u001b[0;32m      4\u001b[0m         \u001b[1;32mif\u001b[0m \u001b[0mstr\u001b[0m\u001b[1;33m(\u001b[0m\u001b[0mbranch\u001b[0m \u001b[1;33m+\u001b[0m \u001b[1;34m'.Sales Quantity'\u001b[0m\u001b[1;33m)\u001b[0m \u001b[1;32min\u001b[0m \u001b[0mrawData\u001b[0m\u001b[1;33m.\u001b[0m\u001b[0mhead\u001b[0m\u001b[1;33m(\u001b[0m\u001b[1;36m0\u001b[0m\u001b[1;33m)\u001b[0m\u001b[1;33m:\u001b[0m\u001b[1;33m\u001b[0m\u001b[1;33m\u001b[0m\u001b[0m\n\u001b[1;32m----> 5\u001b[1;33m             \u001b[0mproducList\u001b[0m\u001b[1;33m.\u001b[0m\u001b[0mappend\u001b[0m\u001b[1;33m(\u001b[0m\u001b[0mrawData\u001b[0m\u001b[1;33m[\u001b[0m\u001b[0mhead\u001b[0m\u001b[1;33m]\u001b[0m\u001b[1;33m[\u001b[0m\u001b[0mide\u001b[0m\u001b[1;33m]\u001b[0m\u001b[1;33m)\u001b[0m\u001b[1;33m\u001b[0m\u001b[1;33m\u001b[0m\u001b[0m\n\u001b[0m\u001b[0;32m      6\u001b[0m \u001b[1;33m\u001b[0m\u001b[0m\n\u001b[0;32m      7\u001b[0m     \u001b[1;32mreturn\u001b[0m \u001b[0mmonthRawData\u001b[0m\u001b[1;33m\u001b[0m\u001b[1;33m\u001b[0m\u001b[0m\n",
      "\u001b[1;31mNameError\u001b[0m: name 'head' is not defined"
     ]
    }
   ],
   "source": [
    "# a = np.zeros(shape=(1,len(header)))\n",
    "monthRawData = pd.DataFrame(columns = list(header))\n",
    "\n",
    "fcount = 0\n",
    "\n",
    "for f in filesNoAdd: \n",
    "    f1 = ('4Th Month/' + f)\n",
    "    rawData = pd.read_csv(f1 , encoding='latin1')\n",
    "\n",
    "    \n",
    "    sid =0\n",
    "    b = 0\n",
    "    for sku in rawData['Sku']:\n",
    "        if sku not in list(monthRawData['Sku']):\n",
    "            df = pd.DataFrame([list(buildList(sid, productDetail, listOfBranch, rawData))],\n",
    "                              columns= list(header))\n",
    "            monthRawData = monthRawData.append(df)\n",
    "            \n",
    "        else:\n",
    "            for colid in range(7, 148):\n",
    "                listAddition(sid, productDetail, listOfBranch, rawData, monthRawData)\n",
    "        sid +=1\n",
    "\n",
    "                \n",
    "# monthRawData  "
   ]
  },
  {
   "cell_type": "code",
   "execution_count": null,
   "metadata": {},
   "outputs": [],
   "source": []
  },
  {
   "cell_type": "code",
   "execution_count": 112,
   "metadata": {},
   "outputs": [],
   "source": [
    "monthRawData.to_csv(\"hg.csv\", index=False)"
   ]
  },
  {
   "cell_type": "code",
   "execution_count": 45,
   "metadata": {},
   "outputs": [
    {
     "data": {
      "text/html": [
       "<div>\n",
       "<style scoped>\n",
       "    .dataframe tbody tr th:only-of-type {\n",
       "        vertical-align: middle;\n",
       "    }\n",
       "\n",
       "    .dataframe tbody tr th {\n",
       "        vertical-align: top;\n",
       "    }\n",
       "\n",
       "    .dataframe thead th {\n",
       "        text-align: right;\n",
       "    }\n",
       "</style>\n",
       "<table border=\"1\" class=\"dataframe\">\n",
       "  <thead>\n",
       "    <tr style=\"text-align: right;\">\n",
       "      <th></th>\n",
       "      <th>A</th>\n",
       "      <th>B</th>\n",
       "    </tr>\n",
       "  </thead>\n",
       "  <tbody>\n",
       "  </tbody>\n",
       "</table>\n",
       "</div>"
      ],
      "text/plain": [
       "Empty DataFrame\n",
       "Columns: [A, B]\n",
       "Index: []"
      ]
     },
     "execution_count": 45,
     "metadata": {},
     "output_type": "execute_result"
    }
   ],
   "source": [
    "monthData = pd.DataFrame(columns=list('AB'))\n",
    "monthData"
   ]
  },
  {
   "cell_type": "code",
   "execution_count": 17,
   "metadata": {},
   "outputs": [
    {
     "ename": "NameError",
     "evalue": "name 'monthData' is not defined",
     "output_type": "error",
     "traceback": [
      "\u001b[1;31m---------------------------------------------------------------------------\u001b[0m",
      "\u001b[1;31mNameError\u001b[0m                                 Traceback (most recent call last)",
      "\u001b[1;32m<ipython-input-17-cc6eaba87819>\u001b[0m in \u001b[0;36m<module>\u001b[1;34m\u001b[0m\n\u001b[1;32m----> 1\u001b[1;33m \u001b[0mmonthData\u001b[0m\u001b[1;33m.\u001b[0m\u001b[0mappend\u001b[0m\u001b[1;33m(\u001b[0m\u001b[0mpd\u001b[0m\u001b[1;33m.\u001b[0m\u001b[0mDataFrame\u001b[0m\u001b[1;33m(\u001b[0m\u001b[1;33m[\u001b[0m\u001b[1;33m[\u001b[0m\u001b[1;36m5\u001b[0m\u001b[1;33m,\u001b[0m \u001b[1;36m6\u001b[0m\u001b[1;33m]\u001b[0m\u001b[1;33m]\u001b[0m\u001b[1;33m,\u001b[0m \u001b[0mcolumns\u001b[0m\u001b[1;33m=\u001b[0m\u001b[0mlist\u001b[0m\u001b[1;33m(\u001b[0m\u001b[1;34m'AB'\u001b[0m\u001b[1;33m)\u001b[0m\u001b[1;33m)\u001b[0m\u001b[1;33m)\u001b[0m\u001b[1;33m\u001b[0m\u001b[1;33m\u001b[0m\u001b[0m\n\u001b[0m",
      "\u001b[1;31mNameError\u001b[0m: name 'monthData' is not defined"
     ]
    }
   ],
   "source": [
    "monthData.append(pd.DataFrame([[5, 6]], columns=list('AB')))"
   ]
  },
  {
   "cell_type": "code",
   "execution_count": null,
   "metadata": {},
   "outputs": [],
   "source": []
  }
 ],
 "metadata": {
  "kernelspec": {
   "display_name": "Python 3",
   "language": "python",
   "name": "python3"
  },
  "language_info": {
   "codemirror_mode": {
    "name": "ipython",
    "version": 3
   },
   "file_extension": ".py",
   "mimetype": "text/x-python",
   "name": "python",
   "nbconvert_exporter": "python",
   "pygments_lexer": "ipython3",
   "version": "3.6.7"
  }
 },
 "nbformat": 4,
 "nbformat_minor": 2
}
