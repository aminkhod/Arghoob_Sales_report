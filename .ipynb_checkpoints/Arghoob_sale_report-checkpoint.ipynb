{
 "cells": [
  {
   "cell_type": "code",
   "execution_count": 1,
   "metadata": {},
   "outputs": [],
   "source": [
    "import pandas as pd\n",
    "import numpy as np\n",
    "import os\n",
    "# import subprocess\n",
    "# subprocess.check_call(['pip', 'install', 'numpy']) # install pkg\n",
    "# subprocess.check_call(['pip', 'install',\"--upgrade\", 'numpy']) # upgrade pkg"
   ]
  },
  {
   "cell_type": "code",
   "execution_count": 57,
   "metadata": {},
   "outputs": [
    {
     "name": "stdout",
     "output_type": "stream",
     "text": [
      "04-05-2019.CSV\n",
      "09-03-2019.CSV\n",
      "16-03-2019.CSV\n",
      "23-02-2019.CSV\n",
      "23-03-2019.CSV\n",
      "30-03-2019.CSV\n"
     ]
    }
   ],
   "source": [
    "import os\n",
    "\n",
    "path = 'Main bank/'\n",
    "\n",
    "files = []\n",
    "filesNoAdd = []\n",
    "# r=root, d=directories, f = files\n",
    "for r, d, f in os.walk(path):\n",
    "    for file in f:\n",
    "        if '.CSV' in file:\n",
    "            files.append(os.path.join(r, file))\n",
    "            filesNoAdd.append(file)\n",
    "\n",
    "for f in filesNoAdd:\n",
    "    print(f)\n"
   ]
  },
  {
   "cell_type": "code",
   "execution_count": 58,
   "metadata": {},
   "outputs": [],
   "source": [
    "f1 = '04-05-2019'\n",
    "f = ('Main bank/' + f1 + '.CSV')\n",
    "rawData = pd.read_csv(f , encoding='latin1')\n",
    "# rawData"
   ]
  },
  {
   "cell_type": "code",
   "execution_count": 59,
   "metadata": {},
   "outputs": [],
   "source": [
    "sku = rawData.values[:189,0]\n",
    "\n",
    "upc = rawData.values[:189,1]\n",
    "\n",
    "Catalogue = rawData.values[:189,2]\n",
    "\n",
    "title = rawData.values[:189,3]\n",
    "\n",
    "label = rawData.values[:189,4]\n",
    "\n",
    "Cost_Price = rawData.values[:189,5]\n",
    "\n",
    "VSP = rawData.values[:189,6]\n"
   ]
  },
  {
   "cell_type": "code",
   "execution_count": 60,
   "metadata": {
    "scrolled": true
   },
   "outputs": [],
   "source": [
    "rawDatVal = []\n",
    "rawDatVal = rawData.values[:189,7:149]\n",
    "eachRaw = []\n",
    "allRawvalue = []\n",
    "BranchTotal = rawDatVal.sum(axis=0)\n",
    "\n",
    "for i in range(len(rawDatVal[:,0])):\n",
    "    for j in range(int((len(rawDatVal[0,:]))/3)):\n",
    "        \n",
    "        k=3 * j \n",
    "\n",
    "        eachRaw.append(rawDatVal[i,k])\n",
    "    eachRaw = np.array(eachRaw)\n",
    "    allRawvalue.append(eachRaw.sum())\n",
    "    eachRaw = []\n",
    "\n",
    "\n",
    "\n",
    "# rawData['Sum of sale for each goods'] = allRawvalue"
   ]
  },
  {
   "cell_type": "code",
   "execution_count": 61,
   "metadata": {},
   "outputs": [],
   "source": [
    "\n",
    "eachRaw = []\n",
    "\n",
    "BranchTotal = rawDatVal.sum(axis=0)\n",
    "for j in range(int(len(rawDatVal[0,:])/3)):\n",
    "    k=3 * j \n",
    "    sum = 0\n",
    "    for i in range(len(rawDatVal[:,0])):\n",
    "        sum += rawDatVal[i,k]\n",
    "    rawData.iloc[i+1,k] = sum\n",
    "    \n",
    "\n",
    "    eachRaw = []\n",
    "# allRawvalue.append(np.array(allRawvalue).sum())\n",
    "# allRawvalue.append(np.array(allRawvalue).sum())\n",
    "\n"
   ]
  },
  {
   "cell_type": "code",
   "execution_count": 62,
   "metadata": {},
   "outputs": [],
   "source": [
    "Virgin_Stock = []\n",
    "Virgin_Stock = pd.DataFrame(Virgin_Stock)\n",
    "Virgin_Stock['sku'] = sku\n",
    "Virgin_Stock['upc'] = upc\n",
    "Virgin_Stock['Catalogue'] = Catalogue\n",
    "Virgin_Stock['title'] = title\n",
    "Virgin_Stock['label'] = label\n",
    "Virgin_Stock['VMS Cost'] = Cost_Price\n",
    "Virgin_Stock['VSP'] = VSP\n",
    "\n",
    "\n",
    "Virgin_Stock[f1] = list(allRawvalue)\n"
   ]
  },
  {
   "cell_type": "code",
   "execution_count": 63,
   "metadata": {},
   "outputs": [],
   "source": [
    "i = 1\n",
    "buf = np.zeros(len(Virgin_Stock.values[:,1]), dtype=int)\n",
    "\n",
    "\n",
    "\n",
    "## i\n",
    "for j in range(i):\n",
    "    buf += np.array(Virgin_Stock.values[:,7+j], dtype = int)\n",
    "\n",
    "Virgin_Stock[\"TOTAL\"] = buf\n",
    "ii = np.full(len(Virgin_Stock.values[:,1]) ,i )\n",
    "\n",
    "Virgin_Stock[\"AVG. WEEK\"] = np.divide(Virgin_Stock[\"TOTAL\"] , ii)\n",
    "Virgin_Stock['total VMS Cost'] = Virgin_Stock[\"TOTAL\"] * Virgin_Stock['VMS Cost']\n",
    "Virgin_Stock['total V.S.P.'] = Virgin_Stock[\"TOTAL\"] * Virgin_Stock['VSP']\n",
    "count = 0\n",
    "for head in list(rawData.head(0)):\n",
    "    if \".Sales Quantity\" in head:\n",
    "        Virgin_Stock[head] = rawData[head]\n",
    "        try:\n",
    "            headNum = int(head.replace(\".Sales Quantity\",''))\n",
    "        except:\n",
    "            print(int(headNum),\" can't be cast to int\")\n",
    "        headNum = str(headNum)\n",
    "        Virgin_Stock['TOTAL' + headNum] = rawData.values[:189, count]\n",
    "        Virgin_Stock['VMS Cost' + headNum] = Virgin_Stock['VMS Cost'] * Virgin_Stock['TOTAL' + headNum]\n",
    "        Virgin_Stock['V.S.P.' + headNum] = Virgin_Stock['VSP'] * Virgin_Stock['TOTAL' + headNum]\n",
    "        Virgin_Stock['AVG. WEEK' + headNum] = np.divide(Virgin_Stock['TOTAL' + headNum] , ii)\n",
    "    count +=1\n",
    "        \n"
   ]
  },
  {
   "cell_type": "code",
   "execution_count": 64,
   "metadata": {},
   "outputs": [],
   "source": [
    "Virgin_Stock.to_csv('Virgin_Stock.csv', index =False)"
   ]
  },
  {
   "cell_type": "code",
   "execution_count": 65,
   "metadata": {},
   "outputs": [],
   "source": [
    "#  Virgin_Stock['VMS Cost'] * Virgin_Stock['TOTAL' + headNum]"
   ]
  },
  {
   "cell_type": "code",
   "execution_count": 90,
   "metadata": {},
   "outputs": [
    {
     "name": "stdout",
     "output_type": "stream",
     "text": [
      "06-04-2019.CSV\n",
      "13-04-2019.CSV\n",
      "20-04-2019.CSV\n",
      "27-04-2019.CSV\n"
     ]
    }
   ],
   "source": [
    "path = '4Th Month/'\n",
    "\n",
    "files = []\n",
    "filesNoAdd = []\n",
    "# r=root, d=directories, f = files\n",
    "for r, d, f in os.walk(path):\n",
    "    for file in f:\n",
    "        if '.CSV' in file:\n",
    "            files.append(os.path.join(r, file))\n",
    "            filesNoAdd.append(file)\n",
    "\n",
    "for f in filesNoAdd:\n",
    "    print(f)\n"
   ]
  },
  {
   "cell_type": "code",
   "execution_count": 119,
   "metadata": {
    "scrolled": true
   },
   "outputs": [],
   "source": [
    "numListOfBranch = ['401','402','404','405','412','416','417','423',\n",
    "                   '424','425','426','429','444','490',]\n",
    "listOfBranch = ['401', '401.VMS cost', '401.V.S.P.', '401.AVG. WEEK',\n",
    "                '402', '402.VMS cost', '402.V.S.P.', '402.AVG. WEEK',\n",
    "                '404', '404.VMS cost', '404.V.S.P.', '404.AVG. WEEK',\n",
    "                '405', '405.VMS cost', '405.V.S.P.', '405.AVG. WEEK',\n",
    "                '412', '412.VMS cost', '412.V.S.P.', '412.AVG. WEEK',\n",
    "                '416', '416.VMS cost', '416.V.S.P.', '416.AVG. WEEK',\n",
    "                '417', '417.VMS cost', '417.V.S.P.', '417.AVG. WEEK',\n",
    "                '423', '423.VMS cost', '423.V.S.P.', '423.AVG. WEEK',\n",
    "                '424', '424.VMS cost', '424.V.S.P.', '424.AVG. WEEK',\n",
    "                '425', '425.VMS cost', '425.V.S.P.', '425.AVG. WEEK',\n",
    "                '426', '426.VMS cost', '426.V.S.P.', '426.AVG. WEEK',\n",
    "                '429', '429.VMS cost', '429.V.S.P.', '429.AVG. WEEK',\n",
    "                '444', '444.VMS cost', '444.V.S.P.', '444.AVG. WEEK',\n",
    "                '490', '490.VMS cost', '490.V.S.P.', '490.AVG. WEEK']\n",
    "\n",
    "productDetail = ['Sku', 'UPC', 'Catalogue N', 'Title', 'Label' ,'Cost Price' ,'V.S.P.']\n",
    "header = productDetail.copy()\n",
    "header.extend(listOfBranch.copy())\n"
   ]
  },
  {
   "cell_type": "code",
   "execution_count": 120,
   "metadata": {},
   "outputs": [],
   "source": [
    "def findID(sku, monthRawData):\n",
    "    numb = 0\n",
    "    for SKUref in monthRawData['Sku']:\n",
    "        if sku == SKUref:\n",
    "            return numb\n",
    "        numb += 1\n",
    "    return \"This good with Sku of \" + sku + \"is not in data.\" "
   ]
  },
  {
   "cell_type": "code",
   "execution_count": 121,
   "metadata": {},
   "outputs": [],
   "source": [
    "def buildList(num, ide, productDetail, listOfBranch, rawData):\n",
    "    \n",
    "    producList = []\n",
    "    for det in productDetail:\n",
    "        producList.append(rawData[det][ide])\n",
    "    for branch in listOfBranch:\n",
    "        head = str(branch + '.Sales Quantity')\n",
    "        if head in rawData.head(0):\n",
    "            try:\n",
    "                producList.append(float(rawData[head][ide]))\n",
    "                producList.append(float(rawData[head][ide]) * float(rawData['V.S.P.'][ide]))\n",
    "                producList.append(float(rawData[head][ide]) * float(rawData['Cost Price'][ide]))\n",
    "                producList.append(float(rawData[head][ide]) / float(num))\n",
    "                \n",
    "            except:\n",
    "                print(\"A number in raw data is string\")\n",
    "                \n",
    "    return producList"
   ]
  },
  {
   "cell_type": "code",
   "execution_count": 122,
   "metadata": {},
   "outputs": [],
   "source": [
    "def listAddition(Dataide, ide, num, productDetail, listOfBranch, rawData, monthRawData):\n",
    "    colid = 0\n",
    "    for branch in listOfBranch:\n",
    "        head = str(branch + '.Sales Quantity')\n",
    "        if head in rawData.head(0):\n",
    "            monthRawData.iloc[Dataide, colid+7] = monthRawData.iloc[Dataide, colid+7] + rawData[head][ide]\n",
    "            monthRawData.iloc[Dataide, colid+8] = monthRawData.iloc[Dataide, colid+7] * float(rawData['V.S.P.'][ide])\n",
    "            monthRawData.iloc[Dataide, colid+9] = monthRawData.iloc[Dataide, colid+7] * float(rawData['Cost Price'][ide])\n",
    "            monthRawData.iloc[Dataide, colid+10]= monthRawData.iloc[Dataide, colid+7] / float(num)\n",
    "        colid += 1\n",
    "    return monthRawData"
   ]
  },
  {
   "cell_type": "code",
   "execution_count": 123,
   "metadata": {},
   "outputs": [],
   "source": [
    "# a = np.zeros(shape=(1,len(header)))\n",
    "monthRawData = pd.DataFrame(columns = list(header))\n",
    "\n",
    "fcount = len(filesNoAdd)\n",
    "b = []\n",
    "for f in filesNoAdd:\n",
    "    f1 = ('4Th Month/' + f)\n",
    "    rawData = pd.read_csv(f1 , encoding='latin1')\n",
    "\n",
    "    \n",
    "    sid =0\n",
    "    b = 0\n",
    "    for sku in rawData['Sku']:\n",
    "        if sku not in list(monthRawData['Sku']):\n",
    "            df = pd.DataFrame([list(buildList(fcount, sid, productDetail, listOfBranch, rawData))],\n",
    "                              columns= list(header))\n",
    "            monthRawData = monthRawData.append(df)\n",
    "            \n",
    "        else:\n",
    "            Dataide = findID(sku, monthRawData)\n",
    "            b = listAddition(Dataide, sid, fcount, productDetail, listOfBranch, rawData, monthRawData)\n",
    "        sid +=1\n",
    "\n"
   ]
  },
  {
   "cell_type": "code",
   "execution_count": 134,
   "metadata": {},
   "outputs": [],
   "source": [
    "totalGoodSale = []\n",
    "count = 0\n",
    "for sku in monthRawData['Sku']:\n",
    "    saleOfGood = []\n",
    "    for numB in numListOfBranch:\n",
    "        saleOfGood.append(monthRawData.iloc[count][numB])\n",
    "    totalGoodSale.append(np.sum(saleOfGood))\n",
    "    count += 1\n",
    "monthRawData[\"total sale of Goods\"] = totalGoodSale\n",
    "status = []\n",
    "for tot in totalGoodSale:\n",
    "#     if tot == 0:\n",
    "    if tot <= 0:\n",
    "        status.append('Not moving')\n",
    "    if (tot > 0) and (tot <=2):\n",
    "        status.append('Slow moving')\n",
    "    if tot > 2:\n",
    "        status.append('Fast moving')\n",
    "monthRawData[\"Status\"] = status    "
   ]
  },
  {
   "cell_type": "code",
   "execution_count": 135,
   "metadata": {},
   "outputs": [],
   "source": [
    "b.to_csv(\"hg.csv\", index=False)"
   ]
  },
  {
   "cell_type": "code",
   "execution_count": null,
   "metadata": {},
   "outputs": [],
   "source": []
  }
 ],
 "metadata": {
  "kernelspec": {
   "display_name": "Python 3",
   "language": "python",
   "name": "python3"
  },
  "language_info": {
   "codemirror_mode": {
    "name": "ipython",
    "version": 3
   },
   "file_extension": ".py",
   "mimetype": "text/x-python",
   "name": "python",
   "nbconvert_exporter": "python",
   "pygments_lexer": "ipython3",
   "version": "3.6.7"
  }
 },
 "nbformat": 4,
 "nbformat_minor": 2
}
