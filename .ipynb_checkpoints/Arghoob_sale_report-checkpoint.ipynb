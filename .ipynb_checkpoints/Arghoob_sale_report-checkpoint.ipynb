{
 "cells": [
  {
   "cell_type": "code",
   "execution_count": 6,
   "metadata": {},
   "outputs": [],
   "source": [
    "import pandas as pd\n",
    "import numpy as np\n",
    "import os\n",
    "import plotly.graph_objs as go\n",
    "\n",
    "import plotly.plotly as py\n",
    "import plotly.figure_factory as ff\n",
    "import dash\n",
    "import dash_auth\n",
    "import dash_core_components as dcc\n",
    "import dash_html_components as html\n",
    "from  plotly.offline import plot\n",
    "import plotly\n",
    "import colorlover as cl"
   ]
  },
  {
   "cell_type": "code",
   "execution_count": 7,
   "metadata": {},
   "outputs": [],
   "source": [
    "VALID_USERNAME_PASSWORD_PAIRS = [\n",
    "    ['123', '123']\n",
    "]\n",
    "app = dash.Dash('auth')\n",
    "auth = dash_auth.BasicAuth(\n",
    "    app,\n",
    "    VALID_USERNAME_PASSWORD_PAIRS)"
   ]
  },
  {
   "cell_type": "code",
   "execution_count": 8,
   "metadata": {
    "scrolled": true
   },
   "outputs": [],
   "source": [
    "numListOfBranch = ['401 Co','402 Co','404 Co','405 Co','412 Co','416 Co','417 Co','423 Co',\n",
    "                   '424 Co','425 Co','426 Co','429 Co','444 Co','490 Co',]\n",
    "listOfBranch = ['401 Co', '401.VMS cost', '401.V.S.P.', '401.AVG. WEEK',\n",
    "                '402 Co', '402.VMS cost', '402.V.S.P.', '402.AVG. WEEK',\n",
    "                '404 Co', '404.VMS cost', '404.V.S.P.', '404.AVG. WEEK',\n",
    "                '405 Co', '405.VMS cost', '405.V.S.P.', '405.AVG. WEEK',\n",
    "                '412 Co', '412.VMS cost', '412.V.S.P.', '412.AVG. WEEK',\n",
    "                '416 Co', '416.VMS cost', '416.V.S.P.', '416.AVG. WEEK',\n",
    "                '417 Co', '417.VMS cost', '417.V.S.P.', '417.AVG. WEEK',\n",
    "                '423 Co', '423.VMS cost', '423.V.S.P.', '423.AVG. WEEK',\n",
    "                '424 Co', '424.VMS cost', '424.V.S.P.', '424.AVG. WEEK',\n",
    "                '425 Co', '425.VMS cost', '425.V.S.P.', '425.AVG. WEEK',\n",
    "                '426 Co', '426.VMS cost', '426.V.S.P.', '426.AVG. WEEK',\n",
    "                '429 Co', '429.VMS cost', '429.V.S.P.', '429.AVG. WEEK',\n",
    "                '444 Co', '444.VMS cost', '444.V.S.P.', '444.AVG. WEEK',\n",
    "                '490 Co', '490.VMS cost', '490.V.S.P.', '490.AVG. WEEK']\n",
    "\n",
    "productDetail = ['Sku', 'UPC', 'Catalogue N', 'Title', 'Label' ,'Cost Price' ,'V.S.P.']\n",
    "header = productDetail.copy()\n",
    "header.extend(listOfBranch.copy())\n"
   ]
  },
  {
   "cell_type": "code",
   "execution_count": 11,
   "metadata": {},
   "outputs": [],
   "source": [
    "df = pd.read_csv('Monthes/01-2019.csv')\n",
    "\n",
    "branchTot = []\n",
    "for col in numListOfBranch:\n",
    "    branchTot.append(df[col].sum())"
   ]
  },
  {
   "cell_type": "code",
   "execution_count": 12,
   "metadata": {},
   "outputs": [
    {
     "name": "stdout",
     "output_type": "stream",
     "text": [
      " * Serving Flask app \"__main__\" (lazy loading)\n",
      " * Environment: production\n",
      "   WARNING: This is a development server. Do not use it in a production deployment.\n",
      "   Use a production WSGI server instead.\n",
      " * Debug mode: off\n"
     ]
    },
    {
     "name": "stderr",
     "output_type": "stream",
     "text": [
      " * Running on http://127.0.0.1:8050/ (Press CTRL+C to quit)\n",
      "127.0.0.1 - - [03/Jul/2019 12:50:49] \"\u001b[37mGET / HTTP/1.1\u001b[0m\" 200 -\n",
      "127.0.0.1 - - [03/Jul/2019 12:50:50] \"\u001b[37mGET /_dash-layout HTTP/1.1\u001b[0m\" 200 -\n",
      "127.0.0.1 - - [03/Jul/2019 12:50:50] \"\u001b[37mGET /_dash-dependencies HTTP/1.1\u001b[0m\" 200 -\n"
     ]
    }
   ],
   "source": [
    "\n",
    "\n",
    "app = dash.Dash(__name__)\n",
    "server = app.server\n",
    "\n",
    "trace = go.Table(\n",
    "    header=dict(values=numListOfBranch,\n",
    "                line = dict(color='#7D7F80'),\n",
    "                fill = dict(color='#a1c3d1'),\n",
    "                align = ['left'] * 5),\n",
    "    cells=dict(values=branchTot,\n",
    "               line = dict(color='#7D7F80'),\n",
    "               fill = dict(color='#EDFAFF'),\n",
    "               align = ['left'] * 5))\n",
    "data = [trace]\n",
    "\n",
    "app.layout = html.Div([\n",
    "    dcc.Graph(\n",
    "        id='Sales-Of-Each-Branches',\n",
    "        figure={\n",
    "            'data': [\n",
    "                go.Bar(\n",
    "                    x=numListOfBranch,\n",
    "                    y=branchTot,\n",
    "#                     text=df[df['continent'] == i]['country'],\n",
    "#                     mode='markers',\n",
    "                    opacity=0.8,\n",
    "                    marker={\n",
    "#                         'size': 15,\n",
    "                        'line': {'width': 0.5, 'color': 'white'}\n",
    "                    },\n",
    "                    name='Total Sale')\n",
    "#                 ) for i in numListOfBranch\n",
    "            ],\n",
    "            'layout': go.Layout(\n",
    "                xaxis={'type': 'log', 'title': 'Branches'},\n",
    "                yaxis={'title': 'Sale'},\n",
    "                margin={'l': 40, 'b': 40, 't': 10, 'r': 10},\n",
    "                legend={'x': 0, 'y': 1},\n",
    "                hovermode='closest'\n",
    "            )\n",
    "        }\n",
    "    )\n",
    "])\n",
    "\n",
    "if __name__ == '__main__':\n",
    "    app.run_server()"
   ]
  },
  {
   "cell_type": "code",
   "execution_count": 13,
   "metadata": {},
   "outputs": [
    {
     "name": "stderr",
     "output_type": "stream",
     "text": [
      "c:\\program files\\python36\\lib\\site-packages\\plotly\\offline\\offline.py:526: UserWarning:\n",
      "\n",
      "Your filename `basic_table` didn't end with .html. Adding .html to the end of your file.\n",
      "\n"
     ]
    },
    {
     "data": {
      "text/plain": [
       "'basic_table.html'"
      ]
     },
     "execution_count": 13,
     "metadata": {},
     "output_type": "execute_result"
    }
   ],
   "source": [
    "\n",
    "\n",
    "trace = go.Table(\n",
    "    header=dict(values=numListOfBranch),\n",
    "    cells=dict(values=branchTot))\n",
    "\n",
    "data = [trace] \n",
    "plot(data, filename = 'basic_table')"
   ]
  },
  {
   "cell_type": "code",
   "execution_count": 14,
   "metadata": {},
   "outputs": [
    {
     "name": "stderr",
     "output_type": "stream",
     "text": [
      "c:\\program files\\python36\\lib\\site-packages\\plotly\\offline\\offline.py:526: UserWarning:\n",
      "\n",
      "Your filename `styled_table` didn't end with .html. Adding .html to the end of your file.\n",
      "\n"
     ]
    },
    {
     "data": {
      "text/plain": [
       "'styled_table.html'"
      ]
     },
     "execution_count": 14,
     "metadata": {},
     "output_type": "execute_result"
    }
   ],
   "source": [
    "trace = go.Table(\n",
    "    header=dict(values=numListOfBranch,\n",
    "                line = dict(color='#7D7F80'),\n",
    "                fill = dict(color='#a1c3d1'),\n",
    "                align = ['left'] * 5),\n",
    "    cells=dict(values=branchTot,\n",
    "               line = dict(color='#7D7F80'),\n",
    "               fill = dict(color='#EDFAFF'),\n",
    "               align = ['left'] * 5))\n",
    "data = [trace]\n",
    "layout = dict(width=1000, height=600)\n",
    "\n",
    "fig = dict(data=data, layout=layout)\n",
    "plot(fig, filename = 'styled_table')"
   ]
  },
  {
   "cell_type": "code",
   "execution_count": 18,
   "metadata": {
    "scrolled": true
   },
   "outputs": [
    {
     "data": {
      "text/plain": [
       "'pandas_table.html'"
      ]
     },
     "execution_count": 18,
     "metadata": {},
     "output_type": "execute_result"
    }
   ],
   "source": [
    "trace = go.Table(\n",
    "    header=dict(values=list(numListOfBranch),\n",
    "                fill = dict(color='#C2D4FF'),\n",
    "                align = ['left'] * len(branchTot)),\n",
    "                cells=dict(values=branchTot,\n",
    "                fill = dict(color='#F5F8FF'),\n",
    "                align = ['left'] * len(branchTot)))\n",
    "\n",
    "data = [trace] \n",
    "plot(data, filename = 'pandas_table')"
   ]
  },
  {
   "cell_type": "code",
   "execution_count": 19,
   "metadata": {},
   "outputs": [
    {
     "ename": "ValueError",
     "evalue": "arrays must all be same length",
     "output_type": "error",
     "traceback": [
      "\u001b[1;31m---------------------------------------------------------------------------\u001b[0m",
      "\u001b[1;31mValueError\u001b[0m                                Traceback (most recent call last)",
      "\u001b[1;32m<ipython-input-19-9f39fc885348>\u001b[0m in \u001b[0;36m<module>\u001b[1;34m\u001b[0m\n\u001b[0;32m      6\u001b[0m         \u001b[1;34m'Total'\u001b[0m \u001b[1;33m:\u001b[0m \u001b[0mlist\u001b[0m\u001b[1;33m(\u001b[0m\u001b[0mbranchTot\u001b[0m\u001b[1;33m)\u001b[0m\u001b[1;33m,\u001b[0m\u001b[1;33m\u001b[0m\u001b[1;33m\u001b[0m\u001b[0m\n\u001b[0;32m      7\u001b[0m         'Color' : list(colors[:14])}\n\u001b[1;32m----> 8\u001b[1;33m \u001b[0mdf\u001b[0m \u001b[1;33m=\u001b[0m \u001b[0mpd\u001b[0m\u001b[1;33m.\u001b[0m\u001b[0mDataFrame\u001b[0m\u001b[1;33m(\u001b[0m\u001b[0mdata\u001b[0m\u001b[1;33m)\u001b[0m\u001b[1;33m\u001b[0m\u001b[1;33m\u001b[0m\u001b[0m\n\u001b[0m\u001b[0;32m      9\u001b[0m \u001b[1;33m\u001b[0m\u001b[0m\n\u001b[0;32m     10\u001b[0m \u001b[1;33m\u001b[0m\u001b[0m\n",
      "\u001b[1;32mc:\\program files\\python36\\lib\\site-packages\\pandas\\core\\frame.py\u001b[0m in \u001b[0;36m__init__\u001b[1;34m(self, data, index, columns, dtype, copy)\u001b[0m\n\u001b[0;32m    390\u001b[0m                                  dtype=dtype, copy=copy)\n\u001b[0;32m    391\u001b[0m         \u001b[1;32melif\u001b[0m \u001b[0misinstance\u001b[0m\u001b[1;33m(\u001b[0m\u001b[0mdata\u001b[0m\u001b[1;33m,\u001b[0m \u001b[0mdict\u001b[0m\u001b[1;33m)\u001b[0m\u001b[1;33m:\u001b[0m\u001b[1;33m\u001b[0m\u001b[1;33m\u001b[0m\u001b[0m\n\u001b[1;32m--> 392\u001b[1;33m             \u001b[0mmgr\u001b[0m \u001b[1;33m=\u001b[0m \u001b[0minit_dict\u001b[0m\u001b[1;33m(\u001b[0m\u001b[0mdata\u001b[0m\u001b[1;33m,\u001b[0m \u001b[0mindex\u001b[0m\u001b[1;33m,\u001b[0m \u001b[0mcolumns\u001b[0m\u001b[1;33m,\u001b[0m \u001b[0mdtype\u001b[0m\u001b[1;33m=\u001b[0m\u001b[0mdtype\u001b[0m\u001b[1;33m)\u001b[0m\u001b[1;33m\u001b[0m\u001b[1;33m\u001b[0m\u001b[0m\n\u001b[0m\u001b[0;32m    393\u001b[0m         \u001b[1;32melif\u001b[0m \u001b[0misinstance\u001b[0m\u001b[1;33m(\u001b[0m\u001b[0mdata\u001b[0m\u001b[1;33m,\u001b[0m \u001b[0mma\u001b[0m\u001b[1;33m.\u001b[0m\u001b[0mMaskedArray\u001b[0m\u001b[1;33m)\u001b[0m\u001b[1;33m:\u001b[0m\u001b[1;33m\u001b[0m\u001b[1;33m\u001b[0m\u001b[0m\n\u001b[0;32m    394\u001b[0m             \u001b[1;32mimport\u001b[0m \u001b[0mnumpy\u001b[0m\u001b[1;33m.\u001b[0m\u001b[0mma\u001b[0m\u001b[1;33m.\u001b[0m\u001b[0mmrecords\u001b[0m \u001b[1;32mas\u001b[0m \u001b[0mmrecords\u001b[0m\u001b[1;33m\u001b[0m\u001b[1;33m\u001b[0m\u001b[0m\n",
      "\u001b[1;32mc:\\program files\\python36\\lib\\site-packages\\pandas\\core\\internals\\construction.py\u001b[0m in \u001b[0;36minit_dict\u001b[1;34m(data, index, columns, dtype)\u001b[0m\n\u001b[0;32m    210\u001b[0m         \u001b[0marrays\u001b[0m \u001b[1;33m=\u001b[0m \u001b[1;33m[\u001b[0m\u001b[0mdata\u001b[0m\u001b[1;33m[\u001b[0m\u001b[0mk\u001b[0m\u001b[1;33m]\u001b[0m \u001b[1;32mfor\u001b[0m \u001b[0mk\u001b[0m \u001b[1;32min\u001b[0m \u001b[0mkeys\u001b[0m\u001b[1;33m]\u001b[0m\u001b[1;33m\u001b[0m\u001b[1;33m\u001b[0m\u001b[0m\n\u001b[0;32m    211\u001b[0m \u001b[1;33m\u001b[0m\u001b[0m\n\u001b[1;32m--> 212\u001b[1;33m     \u001b[1;32mreturn\u001b[0m \u001b[0marrays_to_mgr\u001b[0m\u001b[1;33m(\u001b[0m\u001b[0marrays\u001b[0m\u001b[1;33m,\u001b[0m \u001b[0mdata_names\u001b[0m\u001b[1;33m,\u001b[0m \u001b[0mindex\u001b[0m\u001b[1;33m,\u001b[0m \u001b[0mcolumns\u001b[0m\u001b[1;33m,\u001b[0m \u001b[0mdtype\u001b[0m\u001b[1;33m=\u001b[0m\u001b[0mdtype\u001b[0m\u001b[1;33m)\u001b[0m\u001b[1;33m\u001b[0m\u001b[1;33m\u001b[0m\u001b[0m\n\u001b[0m\u001b[0;32m    213\u001b[0m \u001b[1;33m\u001b[0m\u001b[0m\n\u001b[0;32m    214\u001b[0m \u001b[1;33m\u001b[0m\u001b[0m\n",
      "\u001b[1;32mc:\\program files\\python36\\lib\\site-packages\\pandas\\core\\internals\\construction.py\u001b[0m in \u001b[0;36marrays_to_mgr\u001b[1;34m(arrays, arr_names, index, columns, dtype)\u001b[0m\n\u001b[0;32m     49\u001b[0m     \u001b[1;31m# figure out the index, if necessary\u001b[0m\u001b[1;33m\u001b[0m\u001b[1;33m\u001b[0m\u001b[1;33m\u001b[0m\u001b[0m\n\u001b[0;32m     50\u001b[0m     \u001b[1;32mif\u001b[0m \u001b[0mindex\u001b[0m \u001b[1;32mis\u001b[0m \u001b[1;32mNone\u001b[0m\u001b[1;33m:\u001b[0m\u001b[1;33m\u001b[0m\u001b[1;33m\u001b[0m\u001b[0m\n\u001b[1;32m---> 51\u001b[1;33m         \u001b[0mindex\u001b[0m \u001b[1;33m=\u001b[0m \u001b[0mextract_index\u001b[0m\u001b[1;33m(\u001b[0m\u001b[0marrays\u001b[0m\u001b[1;33m)\u001b[0m\u001b[1;33m\u001b[0m\u001b[1;33m\u001b[0m\u001b[0m\n\u001b[0m\u001b[0;32m     52\u001b[0m     \u001b[1;32melse\u001b[0m\u001b[1;33m:\u001b[0m\u001b[1;33m\u001b[0m\u001b[1;33m\u001b[0m\u001b[0m\n\u001b[0;32m     53\u001b[0m         \u001b[0mindex\u001b[0m \u001b[1;33m=\u001b[0m \u001b[0mensure_index\u001b[0m\u001b[1;33m(\u001b[0m\u001b[0mindex\u001b[0m\u001b[1;33m)\u001b[0m\u001b[1;33m\u001b[0m\u001b[1;33m\u001b[0m\u001b[0m\n",
      "\u001b[1;32mc:\\program files\\python36\\lib\\site-packages\\pandas\\core\\internals\\construction.py\u001b[0m in \u001b[0;36mextract_index\u001b[1;34m(data)\u001b[0m\n\u001b[0;32m    315\u001b[0m             \u001b[0mlengths\u001b[0m \u001b[1;33m=\u001b[0m \u001b[0mlist\u001b[0m\u001b[1;33m(\u001b[0m\u001b[0mset\u001b[0m\u001b[1;33m(\u001b[0m\u001b[0mraw_lengths\u001b[0m\u001b[1;33m)\u001b[0m\u001b[1;33m)\u001b[0m\u001b[1;33m\u001b[0m\u001b[1;33m\u001b[0m\u001b[0m\n\u001b[0;32m    316\u001b[0m             \u001b[1;32mif\u001b[0m \u001b[0mlen\u001b[0m\u001b[1;33m(\u001b[0m\u001b[0mlengths\u001b[0m\u001b[1;33m)\u001b[0m \u001b[1;33m>\u001b[0m \u001b[1;36m1\u001b[0m\u001b[1;33m:\u001b[0m\u001b[1;33m\u001b[0m\u001b[1;33m\u001b[0m\u001b[0m\n\u001b[1;32m--> 317\u001b[1;33m                 \u001b[1;32mraise\u001b[0m \u001b[0mValueError\u001b[0m\u001b[1;33m(\u001b[0m\u001b[1;34m'arrays must all be same length'\u001b[0m\u001b[1;33m)\u001b[0m\u001b[1;33m\u001b[0m\u001b[1;33m\u001b[0m\u001b[0m\n\u001b[0m\u001b[0;32m    318\u001b[0m \u001b[1;33m\u001b[0m\u001b[0m\n\u001b[0;32m    319\u001b[0m             \u001b[1;32mif\u001b[0m \u001b[0mhave_dicts\u001b[0m\u001b[1;33m:\u001b[0m\u001b[1;33m\u001b[0m\u001b[1;33m\u001b[0m\u001b[0m\n",
      "\u001b[1;31mValueError\u001b[0m: arrays must all be same length"
     ]
    }
   ],
   "source": [
    "\n",
    "colors = cl.scales['7']['seq']['Blues']\n",
    "len(colors)\n",
    "\n",
    "data = {'Branch' : list(numListOfBranch),\n",
    "        'Total' : list(branchTot),\n",
    "        'Color' : list(colors[:14])}\n",
    "df = pd.DataFrame(data)\n",
    "\n",
    "\n",
    "trace0 = go.Table(\n",
    "  header = dict(\n",
    "    values = [\"Total Sale\", \"<b>Branch</b>\"],\n",
    "    line = dict(color = 'white'),\n",
    "    fill = dict(color = 'white'),\n",
    "    align = ['center'],\n",
    "    font = dict(color = 'black', size = 12)\n",
    "  ),\n",
    "  cells = dict(\n",
    "    values = [df.Total, df.Branch],\n",
    "    line = dict(color = [df.Color]),\n",
    "    fill = dict(color = [df.Color]),\n",
    "    align = 'center',\n",
    "    font = dict(color = 'black', size = 11)\n",
    "    ))\n",
    "\n",
    "data = [trace0]\n",
    "\n",
    "plot(data, filename = \"row variable color\")"
   ]
  },
  {
   "cell_type": "code",
   "execution_count": 20,
   "metadata": {},
   "outputs": [
    {
     "name": "stderr",
     "output_type": "stream",
     "text": [
      "c:\\program files\\python36\\lib\\site-packages\\plotly\\offline\\offline.py:526: UserWarning:\n",
      "\n",
      "Your filename `jupyter-basic_bar` didn't end with .html. Adding .html to the end of your file.\n",
      "\n"
     ]
    },
    {
     "data": {
      "text/plain": [
       "'jupyter-basic_bar.html'"
      ]
     },
     "execution_count": 20,
     "metadata": {},
     "output_type": "execute_result"
    }
   ],
   "source": [
    "\n",
    "data = pd.read_csv('Monthes/01-2019.csv')\n",
    "\n",
    "branchTot = []\n",
    "for col in numListOfBranch:\n",
    "    branchTot.append(data[col].sum())\n",
    "    \n",
    "data = [go.Bar(x=numListOfBranch,\n",
    "            y=branchTot)]\n",
    "\n",
    "\n",
    "plot(data, filename='jupyter-basic_bar')"
   ]
  },
  {
   "cell_type": "code",
   "execution_count": 21,
   "metadata": {},
   "outputs": [
    {
     "data": {
      "text/plain": [
       "'temp-plot.html'"
      ]
     },
     "execution_count": 21,
     "metadata": {},
     "output_type": "execute_result"
    }
   ],
   "source": [
    "data = pd.read_csv('Monthes/01-2019.csv')\n",
    "\n",
    "branchTot = []\n",
    "for col in numListOfBranch:\n",
    "    branchTot.append(data[col].sum())\n",
    "N = 100\n",
    "x = numListOfBranch\n",
    "y = branchTot\n",
    "colors = np.random.rand(N)\n",
    "sz = np.random.rand(N)*30\n",
    "\n",
    "fig = go.Figure()\n",
    "fig.add_scatter(x=x,\n",
    "                y=y,\n",
    "                mode='markers',\n",
    "                marker={'size': sz,\n",
    "                        'color': colors,\n",
    "                        'opacity': 0.6,\n",
    "                        'colorscale': 'Viridis'\n",
    "                       });\n",
    "plot(fig)"
   ]
  },
  {
   "cell_type": "code",
   "execution_count": 22,
   "metadata": {},
   "outputs": [
    {
     "name": "stderr",
     "output_type": "stream",
     "text": [
      "c:\\program files\\python36\\lib\\site-packages\\plotly\\offline\\offline.py:526: UserWarning:\n",
      "\n",
      "Your filename `sale distribution of each branch` didn't end with .html. Adding .html to the end of your file.\n",
      "\n"
     ]
    },
    {
     "data": {
      "text/plain": [
       "'sale distribution of each branch.html'"
      ]
     },
     "execution_count": 22,
     "metadata": {},
     "output_type": "execute_result"
    }
   ],
   "source": [
    "data = [go.Box(y = branchTot, name = 'sale distribution',\n",
    "               marker = dict(\n",
    "                   size = 12,\n",
    "                   color = 'rgb(120,56,98)',\n",
    "                   symbol = 'pentagon',\n",
    "                   line = {'width':2}\n",
    "               ),\n",
    "               boxmean=True, boxpoints = 'all')]\n",
    "\n",
    "layout = go.Layout(\n",
    "    title = \"sale distribution\",\n",
    "    xaxis = {'title':''},\n",
    "    yaxis = dict(title = 'sale values'),\n",
    "    hovermode = 'closest'\n",
    ")\n",
    "\n",
    "fig = go.Figure(data=data,layout=layout)\n",
    "plot(fig, filename = \"sale distribution of each branch\")\n"
   ]
  },
  {
   "cell_type": "code",
   "execution_count": 23,
   "metadata": {},
   "outputs": [
    {
     "name": "stderr",
     "output_type": "stream",
     "text": [
      "c:\\program files\\python36\\lib\\site-packages\\plotly\\offline\\offline.py:526: UserWarning:\n",
      "\n",
      "Your filename `sale amount of each branch` didn't end with .html. Adding .html to the end of your file.\n",
      "\n"
     ]
    },
    {
     "data": {
      "text/plain": [
       "'sale amount of each branch.html'"
      ]
     },
     "execution_count": 23,
     "metadata": {},
     "output_type": "execute_result"
    }
   ],
   "source": [
    "data = [go.Bar(x = numListOfBranch, y = branchTot,\n",
    "               marker = dict(\n",
    "                   color = 'rgb(18,95,200)',\n",
    "                   line = {'width':2}\n",
    "               ))]\n",
    "\n",
    "layout = go.Layout(\n",
    "    title = \"sale distribution\",\n",
    "    xaxis = {'title':'Branches'},\n",
    "    yaxis = dict(title = 'sale values'),\n",
    "    hovermode = 'closest'\n",
    "    \n",
    ")\n",
    "\n",
    "fig = go.Figure(data = data, layout = layout)\n",
    "\n",
    "plot(fig, filename = 'sale amount of each branch')\n"
   ]
  },
  {
   "cell_type": "code",
   "execution_count": null,
   "metadata": {},
   "outputs": [],
   "source": []
  }
 ],
 "metadata": {
  "kernelspec": {
   "display_name": "Python 3",
   "language": "python",
   "name": "python3"
  },
  "language_info": {
   "codemirror_mode": {
    "name": "ipython",
    "version": 3
   },
   "file_extension": ".py",
   "mimetype": "text/x-python",
   "name": "python",
   "nbconvert_exporter": "python",
   "pygments_lexer": "ipython3",
   "version": "3.6.7"
  }
 },
 "nbformat": 4,
 "nbformat_minor": 2
}
