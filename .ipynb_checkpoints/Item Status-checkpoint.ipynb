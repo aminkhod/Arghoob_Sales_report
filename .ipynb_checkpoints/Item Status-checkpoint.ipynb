{
 "cells": [
  {
   "cell_type": "code",
   "execution_count": 70,
   "metadata": {},
   "outputs": [],
   "source": [
    "import pandas as pd\n",
    "import numpy as np\n",
    "import os"
   ]
  },
  {
   "cell_type": "code",
   "execution_count": 219,
   "metadata": {},
   "outputs": [
    {
     "name": "stdout",
     "output_type": "stream",
     "text": [
      "01-2019.csv\n",
      "02-2019.csv\n",
      "03-2019.csv\n",
      "04-2019.csv\n",
      "05-2019.csv\n"
     ]
    }
   ],
   "source": [
    "path = 'Monthes/'\n",
    "\n",
    "files = []\n",
    "filesNoAdd = []\n",
    "# r=root, d=directories, f = files\n",
    "for r, d, f in os.walk(path):\n",
    "    for file in f:\n",
    "        if '.csv' in file:\n",
    "            files.append(os.path.join(r, file))\n",
    "            filesNoAdd.append(file)\n",
    "\n",
    "for f in filesNoAdd:\n",
    "    print(f)\n"
   ]
  },
  {
   "cell_type": "code",
   "execution_count": 220,
   "metadata": {},
   "outputs": [],
   "source": [
    "# monthresult = ['total sale of Goods', 'Status']\n",
    "monthresult = ['total sale of Goods']\n",
    "productDetail = ['Sku', 'UPC', 'Catalogue N', 'Title', 'Label' ,'Arq COST', 'Cost Price' ,'V.S.P.', 'Latest SOH']\n",
    "header = productDetail.copy()"
   ]
  },
  {
   "cell_type": "code",
   "execution_count": 221,
   "metadata": {},
   "outputs": [],
   "source": [
    "def findID(sku, Data):\n",
    "    numb = 0\n",
    "    for SKUref in Data['Sku']: \n",
    "        \n",
    "        if str(sku) == str(SKUref): \n",
    "            return numb\n",
    "        numb += 1\n",
    "    return \"This good with Sku of \" + str(sku) + \" is not in data.\" "
   ]
  },
  {
   "cell_type": "code",
   "execution_count": 222,
   "metadata": {},
   "outputs": [],
   "source": [
    "def listOfGoods(files):\n",
    "    listOfSku = []\n",
    "    for file in files:\n",
    "        rawData = pd.read_csv(file, encoding='latin1')\n",
    "        for i in range(len(rawData['Sku'])):\n",
    "                if rawData.loc[ i , 'Sku'] in listOfSku:\n",
    "                       continue\n",
    "                else:\n",
    "                       listOfSku.append(rawData.loc[i,'Sku' ])\n",
    "                       \n",
    "    return listOfSku"
   ]
  },
  {
   "cell_type": "code",
   "execution_count": 223,
   "metadata": {},
   "outputs": [],
   "source": [
    "def buildList(file, ide, productDetail, monthresult, rawData, sku,monthRawData, finalFile):\n",
    "\n",
    "    for det in productDetail:\n",
    "        if det =='Sku':\n",
    "            continue\n",
    "        monthRawData.loc[findID(sku, monthRawData),det] = rawData[det][ide]\n",
    "    file = str(file).replace('.csv','')\n",
    "    file = file.replace('Monthes/','')\n",
    "    for head in monthresult:\n",
    "        monthRawData.loc[findID(sku, monthRawData), file + ' ' + head] = rawData[head][ide]\n",
    "    if finalFile:\n",
    "        monthRawData.loc[findID(sku, monthRawData), 'Latest SOH'] = rawData['Latest SOH'][ide]\n",
    "    return monthRawData"
   ]
  },
  {
   "cell_type": "code",
   "execution_count": 224,
   "metadata": {},
   "outputs": [],
   "source": [
    "# 'Existence on Shop'\n",
    "def existence(sku, files):\n",
    "    numExistence = 0\n",
    "    for file in files:\n",
    "        Data = pd.read_csv(file)\n",
    "        try:\n",
    "            ide = findID(sku, Data)\n",
    "            if Data.loc[ide, 'Latest SOH'] > 0:\n",
    "                numExistence +=1\n",
    "            else:\n",
    "                numExistence = 0\n",
    "        except:\n",
    "            numExistence = 0\n",
    "\n",
    "    if numExistence > 3:\n",
    "        numExistence = 3\n",
    "    return numExistence"
   ]
  },
  {
   "cell_type": "code",
   "execution_count": 225,
   "metadata": {},
   "outputs": [],
   "source": [
    "monthRawData = pd.DataFrame(columns = list(header))"
   ]
  },
  {
   "cell_type": "code",
   "execution_count": 226,
   "metadata": {},
   "outputs": [],
   "source": [
    "for file in filesNoAdd:\n",
    "    monthRawData['Sku'] = listOfGoods(files)\n",
    "    for head in monthresult:\n",
    "        \n",
    "        file = str(file).replace('.csv','')\n",
    "        monthRawData[file + ' ' + head] = np.zeros(len(listOfGoods(files)))\n",
    "monthRawData['Latest SOH'] = np.zeros(len(monthRawData['Sku']))"
   ]
  },
  {
   "cell_type": "code",
   "execution_count": 227,
   "metadata": {},
   "outputs": [],
   "source": [
    "# a = np.zeros(shape=(1,len(header)))\n",
    "# monthRawData = pd.DataFrame(columns = list(header))\n",
    "fcount = len(files)\n",
    "b = []\n",
    "finalFile =False\n",
    "for file in files:\n",
    "    rawData = pd.read_csv(file , encoding='latin1')\n",
    "    sid =0\n",
    "    if file ==files[-1]:\n",
    "        finalFile = True\n",
    "    Existence = []\n",
    "#     b = 0\n",
    "    for sku in rawData['Sku']:\n",
    "        monthRawData = buildList(file, sid, productDetail, monthresult,\n",
    "                                 rawData,sku,monthRawData, finalFile)\n",
    "        if finalFile:\n",
    "            e = existence(sku, files)\n",
    "            if e == 3:\n",
    "                Existence.append('Min ' + str(e) + ' months')\n",
    "            elif e <= 1:\n",
    "                Existence.append(str(e) + ' month')\n",
    "            else:\n",
    "                Existence.append(str(e) + ' months')\n",
    "#             try:\n",
    "#                 ide = findID(sku, monthRawData)\n",
    "#                 average.append((np.sum(monthRawData.values[ide,-1:-3]))/3)\n",
    "#             except:\n",
    "#                 average.append(0)\n",
    "        sid +=1\n",
    "monthRawData['Existence on Shop'] =Existence"
   ]
  },
  {
   "cell_type": "code",
   "execution_count": 228,
   "metadata": {},
   "outputs": [],
   "source": [
    "average = []\n",
    "for sku in monthRawData['Sku']:\n",
    "    ide = findID(sku, monthRawData)\n",
    "    average.append(np.round(np.sum(monthRawData.values[ide,-4:-1])/3,decimals=2))\n",
    "#     if average[-1] == 0 and monthRawData.loc[ide, 'Latest SOH'] == 0:\n",
    "#         average[-1] = 'No stock'\n",
    "average1 = average.copy() \n",
    "monthRawData['3 months avrage sale'] = average1        \n",
    "     "
   ]
  },
  {
   "cell_type": "code",
   "execution_count": 229,
   "metadata": {},
   "outputs": [],
   "source": [
    "  \n",
    "delList =[]\n",
    "for i in range(len(monthRawData['Sku'])):\n",
    "    if average[i] == 0 and monthRawData.loc[i, 'Latest SOH'] == 0:\n",
    "        delList.append(i)\n",
    "delList = delList[::-1]"
   ]
  },
  {
   "cell_type": "code",
   "execution_count": 230,
   "metadata": {},
   "outputs": [],
   "source": [
    "\n",
    "for i in delList:\n",
    "    del average[i]\n"
   ]
  },
  {
   "cell_type": "code",
   "execution_count": 231,
   "metadata": {},
   "outputs": [],
   "source": [
    "frame = pd.DataFrame(average)\n",
    "x, y, z = frame[0].quantile([0.25, 0.5, 0.75])\n",
    "# print(x,y,z)\n",
    "# print(delList,average)"
   ]
  },
  {
   "cell_type": "code",
   "execution_count": 232,
   "metadata": {},
   "outputs": [],
   "source": [
    "Status = strs = [\"\" for x in range(len(monthRawData['Sku']))]\n",
    "\n",
    "\n",
    "for i in range(len(monthRawData['Sku'])):\n",
    "    if i in delList:\n",
    "        Status[i] = 'Run out of stock'\n",
    "    elif average[0] >= z:\n",
    "        Status[i] = 'Fast moving'\n",
    "        del average[0]\n",
    "    elif average[0] <= x:\n",
    "        Status[i] = 'Non moving'\n",
    "        del average[0]\n",
    "    elif average[0] < z and average[0] > x:\n",
    "        Status[i] = 'Slow moving'\n",
    "        del average[0]\n",
    "    \n",
    "monthRawData['Status'] = Status"
   ]
  },
  {
   "cell_type": "code",
   "execution_count": 233,
   "metadata": {},
   "outputs": [],
   "source": [
    "profit = []\n",
    "for i in range(len(monthRawData['Sku'])):\n",
    "    profit.append(average1[i]*(monthRawData.loc[i,'Cost Price'] - monthRawData.loc[i, 'Arq COST']))\n",
    "profit1 = profit.copy()\n",
    "monthRawData['profit'] = profit1"
   ]
  },
  {
   "cell_type": "code",
   "execution_count": 234,
   "metadata": {},
   "outputs": [
    {
     "name": "stdout",
     "output_type": "stream",
     "text": [
      "198\n"
     ]
    }
   ],
   "source": [
    "print(len(profit))"
   ]
  },
  {
   "cell_type": "code",
   "execution_count": 235,
   "metadata": {},
   "outputs": [
    {
     "name": "stdout",
     "output_type": "stream",
     "text": [
      "48.4475 161.48 362.14\n"
     ]
    }
   ],
   "source": [
    "\n",
    "delList =[]\n",
    "for i in range(len(monthRawData['Sku'])):\n",
    "    if profit[i] == 0:\n",
    "        delList.append(i)\n",
    "delList = delList[::-1]\n",
    "\n",
    "for i in delList:\n",
    "    del profit[i]\n",
    "frame = pd.DataFrame(profit)\n",
    "x, y, z = frame[0].quantile([0.25, 0.5, 0.75])\n",
    "print(x,y,z)\n",
    "# print(delList,profit)"
   ]
  },
  {
   "cell_type": "code",
   "execution_count": 236,
   "metadata": {},
   "outputs": [],
   "source": [
    "profitStatus = strs = [\"\" for x in range(len(monthRawData['Sku']))]\n",
    "\n",
    "\n",
    "for i in range(len(monthRawData['Sku'])):\n",
    "    if i in delList:\n",
    "        profitStatus[i] = 'Run out of stock'\n",
    "    elif profit[0] >= z:\n",
    "        profitStatus[i] = 'Most profitable'\n",
    "        del profit[0]\n",
    "    elif profit[0] <= x:\n",
    "        profitStatus[i] = 'Less profitable'\n",
    "        del profit[0]\n",
    "    else:\n",
    "        profitStatus[i] = 'Profitable'\n",
    "        del profit[0]\n",
    "    \n",
    "monthRawData['Profit status'] = profitStatus"
   ]
  },
  {
   "cell_type": "code",
   "execution_count": 237,
   "metadata": {},
   "outputs": [],
   "source": [
    "finalStatus = []\n",
    "for i in range(len(monthRawData['Sku'])):\n",
    "    finalStatus.append(str(Status[i]) + ' - ' + str(profitStatus[i]))\n",
    "monthRawData['Final Status'] = finalStatus"
   ]
  },
  {
   "cell_type": "code",
   "execution_count": 238,
   "metadata": {},
   "outputs": [],
   "source": [
    "nonMovingAction = []\n",
    "for i in range(len(monthRawData['Sku'])):\n",
    "    if Existence[i] == 'Min 3 months' and Status[i] == 'Non moving':\n",
    "        nonMovingAction.append('Buying Price')\n",
    "    elif Existence[i] == '2 months' and Status[i] == 'Non moving':\n",
    "        nonMovingAction.append('Discount')\n",
    "    elif Existence[i] == '1 month' and Status[i] == 'Non moving':\n",
    "        nonMovingAction.append('Transfer')\n",
    "    else:\n",
    "        nonMovingAction.append('-')\n",
    "monthRawData['Non Moving Action'] = nonMovingAction"
   ]
  },
  {
   "cell_type": "code",
   "execution_count": 242,
   "metadata": {},
   "outputs": [],
   "source": [
    "#=IF(O5=\"Run out of stock - Most Profitable\",\"No Stock - Reorder\",\n",
    "# IF(O5=\"Fast Moving - Most Profitable\",\"Profitable - Reorder\",\n",
    "# IF(O5=\"Run out of stock - Less Profitable\",\"Stop Ordering\", \" - \")))\n",
    "Reordering = []\n",
    "for i in range(len(monthRawData['Sku'])):\n",
    "    if Existence[i] == 'Run out of stock - Most profitable':\n",
    "        Reordering.append('Non Stock - Reorder')\n",
    "    elif Existence[i] == 'Fast moving - Most profitable':\n",
    "        Reordering.append('Profitable - Reorder')\n",
    "    elif Existence[i] == 'Run out of stock - Less profitable':\n",
    "        Reordering.append('Stop Ordering')\n",
    "    else:\n",
    "        Reordering.append('-')\n",
    "monthRawData['Reordering'] = Reordering"
   ]
  },
  {
   "cell_type": "code",
   "execution_count": 243,
   "metadata": {},
   "outputs": [
    {
     "ename": "PermissionError",
     "evalue": "[Errno 13] Permission denied: 'allMonthes.csv'",
     "output_type": "error",
     "traceback": [
      "\u001b[1;31m---------------------------------------------------------------------------\u001b[0m",
      "\u001b[1;31mPermissionError\u001b[0m                           Traceback (most recent call last)",
      "\u001b[1;32m<ipython-input-243-2ad90ea6cf48>\u001b[0m in \u001b[0;36m<module>\u001b[1;34m\u001b[0m\n\u001b[1;32m----> 1\u001b[1;33m \u001b[0mmonthRawData\u001b[0m\u001b[1;33m.\u001b[0m\u001b[0mto_csv\u001b[0m\u001b[1;33m(\u001b[0m\u001b[1;34m'allMonthes.csv'\u001b[0m\u001b[1;33m,\u001b[0m\u001b[0mindex\u001b[0m\u001b[1;33m=\u001b[0m\u001b[1;32mFalse\u001b[0m\u001b[1;33m)\u001b[0m\u001b[1;33m\u001b[0m\u001b[1;33m\u001b[0m\u001b[0m\n\u001b[0m",
      "\u001b[1;32mc:\\program files\\python36\\lib\\site-packages\\pandas\\core\\generic.py\u001b[0m in \u001b[0;36mto_csv\u001b[1;34m(self, path_or_buf, sep, na_rep, float_format, columns, header, index, index_label, mode, encoding, compression, quoting, quotechar, line_terminator, chunksize, tupleize_cols, date_format, doublequote, escapechar, decimal)\u001b[0m\n\u001b[0;32m   3018\u001b[0m                                  \u001b[0mdoublequote\u001b[0m\u001b[1;33m=\u001b[0m\u001b[0mdoublequote\u001b[0m\u001b[1;33m,\u001b[0m\u001b[1;33m\u001b[0m\u001b[1;33m\u001b[0m\u001b[0m\n\u001b[0;32m   3019\u001b[0m                                  escapechar=escapechar, decimal=decimal)\n\u001b[1;32m-> 3020\u001b[1;33m         \u001b[0mformatter\u001b[0m\u001b[1;33m.\u001b[0m\u001b[0msave\u001b[0m\u001b[1;33m(\u001b[0m\u001b[1;33m)\u001b[0m\u001b[1;33m\u001b[0m\u001b[1;33m\u001b[0m\u001b[0m\n\u001b[0m\u001b[0;32m   3021\u001b[0m \u001b[1;33m\u001b[0m\u001b[0m\n\u001b[0;32m   3022\u001b[0m         \u001b[1;32mif\u001b[0m \u001b[0mpath_or_buf\u001b[0m \u001b[1;32mis\u001b[0m \u001b[1;32mNone\u001b[0m\u001b[1;33m:\u001b[0m\u001b[1;33m\u001b[0m\u001b[1;33m\u001b[0m\u001b[0m\n",
      "\u001b[1;32mc:\\program files\\python36\\lib\\site-packages\\pandas\\io\\formats\\csvs.py\u001b[0m in \u001b[0;36msave\u001b[1;34m(self)\u001b[0m\n\u001b[0;32m    155\u001b[0m             f, handles = _get_handle(self.path_or_buf, self.mode,\n\u001b[0;32m    156\u001b[0m                                      \u001b[0mencoding\u001b[0m\u001b[1;33m=\u001b[0m\u001b[0mself\u001b[0m\u001b[1;33m.\u001b[0m\u001b[0mencoding\u001b[0m\u001b[1;33m,\u001b[0m\u001b[1;33m\u001b[0m\u001b[1;33m\u001b[0m\u001b[0m\n\u001b[1;32m--> 157\u001b[1;33m                                      compression=self.compression)\n\u001b[0m\u001b[0;32m    158\u001b[0m             \u001b[0mclose\u001b[0m \u001b[1;33m=\u001b[0m \u001b[1;32mTrue\u001b[0m\u001b[1;33m\u001b[0m\u001b[1;33m\u001b[0m\u001b[0m\n\u001b[0;32m    159\u001b[0m \u001b[1;33m\u001b[0m\u001b[0m\n",
      "\u001b[1;32mc:\\program files\\python36\\lib\\site-packages\\pandas\\io\\common.py\u001b[0m in \u001b[0;36m_get_handle\u001b[1;34m(path_or_buf, mode, encoding, compression, memory_map, is_text)\u001b[0m\n\u001b[0;32m    422\u001b[0m         \u001b[1;32melif\u001b[0m \u001b[0mencoding\u001b[0m\u001b[1;33m:\u001b[0m\u001b[1;33m\u001b[0m\u001b[1;33m\u001b[0m\u001b[0m\n\u001b[0;32m    423\u001b[0m             \u001b[1;31m# Python 3 and encoding\u001b[0m\u001b[1;33m\u001b[0m\u001b[1;33m\u001b[0m\u001b[1;33m\u001b[0m\u001b[0m\n\u001b[1;32m--> 424\u001b[1;33m             \u001b[0mf\u001b[0m \u001b[1;33m=\u001b[0m \u001b[0mopen\u001b[0m\u001b[1;33m(\u001b[0m\u001b[0mpath_or_buf\u001b[0m\u001b[1;33m,\u001b[0m \u001b[0mmode\u001b[0m\u001b[1;33m,\u001b[0m \u001b[0mencoding\u001b[0m\u001b[1;33m=\u001b[0m\u001b[0mencoding\u001b[0m\u001b[1;33m,\u001b[0m \u001b[0mnewline\u001b[0m\u001b[1;33m=\u001b[0m\u001b[1;34m\"\"\u001b[0m\u001b[1;33m)\u001b[0m\u001b[1;33m\u001b[0m\u001b[1;33m\u001b[0m\u001b[0m\n\u001b[0m\u001b[0;32m    425\u001b[0m         \u001b[1;32melif\u001b[0m \u001b[0mis_text\u001b[0m\u001b[1;33m:\u001b[0m\u001b[1;33m\u001b[0m\u001b[1;33m\u001b[0m\u001b[0m\n\u001b[0;32m    426\u001b[0m             \u001b[1;31m# Python 3 and no explicit encoding\u001b[0m\u001b[1;33m\u001b[0m\u001b[1;33m\u001b[0m\u001b[1;33m\u001b[0m\u001b[0m\n",
      "\u001b[1;31mPermissionError\u001b[0m: [Errno 13] Permission denied: 'allMonthes.csv'"
     ]
    }
   ],
   "source": [
    "monthRawData.to_csv('allMonthes.csv',index=False)"
   ]
  },
  {
   "cell_type": "code",
   "execution_count": null,
   "metadata": {},
   "outputs": [],
   "source": []
  },
  {
   "cell_type": "code",
   "execution_count": null,
   "metadata": {},
   "outputs": [],
   "source": []
  },
  {
   "cell_type": "code",
   "execution_count": null,
   "metadata": {},
   "outputs": [],
   "source": []
  },
  {
   "cell_type": "code",
   "execution_count": null,
   "metadata": {},
   "outputs": [],
   "source": []
  }
 ],
 "metadata": {
  "kernelspec": {
   "display_name": "Python 3",
   "language": "python",
   "name": "python3"
  },
  "language_info": {
   "codemirror_mode": {
    "name": "ipython",
    "version": 3
   },
   "file_extension": ".py",
   "mimetype": "text/x-python",
   "name": "python",
   "nbconvert_exporter": "python",
   "pygments_lexer": "ipython3",
   "version": "3.6.7"
  }
 },
 "nbformat": 4,
 "nbformat_minor": 2
}
