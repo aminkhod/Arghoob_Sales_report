{
 "cells": [
  {
   "cell_type": "code",
   "execution_count": 1,
   "metadata": {},
   "outputs": [],
   "source": [
    "import pandas as pd\n",
    "import numpy as np\n",
    "import os"
   ]
  },
  {
   "cell_type": "code",
   "execution_count": 68,
   "metadata": {},
   "outputs": [
    {
     "name": "stdout",
     "output_type": "stream",
     "text": [
      "01-2019.csv\n",
      "02-2019.csv\n",
      "03-2019.csv\n",
      "04-2019.csv\n",
      "05-2019.csv\n"
     ]
    }
   ],
   "source": [
    "path = 'Monthes/'\n",
    "\n",
    "files = []\n",
    "filesNoAdd = []\n",
    "# r=root, d=directories, f = files\n",
    "for r, d, f in os.walk(path):\n",
    "    for file in f:\n",
    "        if '.csv' in file:\n",
    "            files.append(os.path.join(r, file))\n",
    "            filesNoAdd.append(file)\n",
    "\n",
    "for f in filesNoAdd:\n",
    "    print(f)\n"
   ]
  },
  {
   "cell_type": "code",
   "execution_count": 48,
   "metadata": {},
   "outputs": [],
   "source": [
    "monthresult = ['total sale of Goods', 'Status']\n",
    "productDetail = ['Sku', 'UPC', 'Catalogue N', 'Title', 'Label' ,'Cost Price' ,'V.S.P.']\n",
    "header = productDetail.copy()"
   ]
  },
  {
   "cell_type": "code",
   "execution_count": 49,
   "metadata": {},
   "outputs": [],
   "source": [
    "def findID(sku, Data):\n",
    "    numb = 0\n",
    "    for SKUref in Data['Sku']: \n",
    "        \n",
    "        if str(sku) == str(SKUref): \n",
    "            return numb\n",
    "        numb += 1\n",
    "    return \"This good with Sku of \" + sku + \" is not in data.\" "
   ]
  },
  {
   "cell_type": "code",
   "execution_count": 64,
   "metadata": {},
   "outputs": [],
   "source": [
    "def buildList(file, ide, productDetail, monthresult, rawData,sku,monthRawData):\n",
    "\n",
    "    for det in productDetail:\n",
    "        if det =='Sku':\n",
    "            continue\n",
    "        monthRawData.loc[findID(sku, monthRawData),det] = rawData[det][ide]\n",
    "    file = str(file).replace('.csv','')\n",
    "    file = file.replace('Monthes/','')\n",
    "    for head in monthresult:\n",
    "        monthRawData.loc[findID(sku, monthRawData), file + ' ' + head] = rawData[head][ide]\n",
    "    return monthRawData"
   ]
  },
  {
   "cell_type": "code",
   "execution_count": 65,
   "metadata": {},
   "outputs": [],
   "source": [
    "# buildList('01-2019.csv',0,productDetail, monthresult, rawData)"
   ]
  },
  {
   "cell_type": "code",
   "execution_count": 67,
   "metadata": {},
   "outputs": [],
   "source": [
    "def listOfGoods(files):\n",
    "    listOfSku = []\n",
    "    for file in files:\n",
    "        rawData = pd.read_csv(file, encoding='latin1')\n",
    "        for i in range(len(rawData['Sku'])):\n",
    "                if rawData.loc[ i , 'Sku'] in listOfSku:\n",
    "                       continue\n",
    "                else:\n",
    "                       listOfSku.append(rawData.loc[i,'Sku' ])\n",
    "                       \n",
    "    return listOfSku"
   ]
  },
  {
   "cell_type": "code",
   "execution_count": null,
   "metadata": {},
   "outputs": [],
   "source": [
    "monthRawData = pd.DataFrame(columns = list(header))"
   ]
  },
  {
   "cell_type": "code",
   "execution_count": null,
   "metadata": {},
   "outputs": [],
   "source": [
    "for file in filesNoAdd:\n",
    "    monthRawData['Sku'] = listOfGoods(files)\n",
    "    for head in monthresult:\n",
    "        \n",
    "        file = str(file).replace('.csv','')\n",
    "        monthRawData[file + ' ' + head] = np.zeros(len(listOfGoods(files)))\n",
    "    "
   ]
  },
  {
   "cell_type": "code",
   "execution_count": 55,
   "metadata": {},
   "outputs": [],
   "source": [
    "# a = np.zeros(shape=(1,len(header)))\n",
    "# monthRawData = pd.DataFrame(columns = list(header))\n",
    "fcount = len(files)\n",
    "b = []\n",
    "for file in files:\n",
    "    rawData = pd.read_csv(file , encoding='latin1')\n",
    "    sid =0\n",
    "#     b = 0\n",
    "    for sku in rawData['Sku']:\n",
    "        monthRawData = buildList(file, sid, productDetail, monthresult, rawData,sku,monthRawData)\n",
    "    #             Dataide = findID(sku, monthRawData)\n",
    "    #             b = listAddition(Dataide, sid, fcount, productDetail, monthresult, rawData, monthRawData)\n",
    "        sid +=1"
   ]
  },
  {
   "cell_type": "code",
   "execution_count": null,
   "metadata": {},
   "outputs": [],
   "source": [
    " monthRawData.to_csv('allMonthes.csv',index=False)"
   ]
  },
  {
   "cell_type": "code",
   "execution_count": 9,
   "metadata": {},
   "outputs": [],
   "source": [
    "totalGoodSale = []\n",
    "count = 0\n",
    "for sku in monthRawData['Sku']:\n",
    "    saleOfGood = []\n",
    "    for numB in numListOfBranch:\n",
    "        saleOfGood.append(monthRawData.iloc[count][numB])\n",
    "    totalGoodSale.append(np.sum(saleOfGood))\n",
    "    count += 1\n",
    "monthRawData[\"total sale of Goods\"] = totalGoodSale\n",
    "status = []\n",
    "for tot in totalGoodSale:\n",
    "#     if tot == 0:\n",
    "    if tot <= 0:\n",
    "        status.append('Not moving')\n",
    "    if (tot > 0) and (tot <=2):\n",
    "        status.append('Slow moving')\n",
    "    if tot > 2:\n",
    "        status.append('Fast moving')\n",
    "#\n",
    "for j in range(len(filesNoAdd)):\n",
    "    rawData = pd.read_csv(files[j])\n",
    "\n",
    "    for i in range(len(status)):\n",
    "#         print(i)\n",
    "        try:\n",
    "            if noStock(monthRawData.iloc[i]['Sku'],rawData):\n",
    "                status[i] = 'Run out of stock'\n",
    "        except:\n",
    "            continue\n",
    "#\n",
    "monthRawData[\"Status\"] = status\n",
    "\n"
   ]
  },
  {
   "cell_type": "code",
   "execution_count": 41,
   "metadata": {},
   "outputs": [],
   "source": []
  },
  {
   "cell_type": "code",
   "execution_count": null,
   "metadata": {},
   "outputs": [],
   "source": []
  }
 ],
 "metadata": {
  "kernelspec": {
   "display_name": "Python 3",
   "language": "python",
   "name": "python3"
  },
  "language_info": {
   "codemirror_mode": {
    "name": "ipython",
    "version": 3
   },
   "file_extension": ".py",
   "mimetype": "text/x-python",
   "name": "python",
   "nbconvert_exporter": "python",
   "pygments_lexer": "ipython3",
   "version": "3.6.7"
  }
 },
 "nbformat": 4,
 "nbformat_minor": 2
}
