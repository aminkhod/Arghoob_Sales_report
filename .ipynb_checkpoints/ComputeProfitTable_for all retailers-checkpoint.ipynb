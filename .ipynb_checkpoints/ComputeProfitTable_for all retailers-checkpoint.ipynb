{
 "cells": [
  {
   "cell_type": "code",
   "execution_count": 6,
   "metadata": {},
   "outputs": [],
   "source": [
    "import pandas as pd\n",
    "import numpy as np\n"
   ]
  },
  {
   "cell_type": "code",
   "execution_count": 7,
   "metadata": {},
   "outputs": [],
   "source": [
    "SupplierData = pd.read_csv('Supplier Forecast -UAE.csv', encoding='latin1')\n"
   ]
  },
  {
   "cell_type": "code",
   "execution_count": 9,
   "metadata": {},
   "outputs": [],
   "source": [
    "# numListOfBranch = ['401 Co','402 Co','404 Co','405 Co','412 Co','416 Co',\n",
    "#                    '417 Co','423 Co', '424 Co','425 Co','426 Co','429 Co','444 Co','490 Co']\n",
    "MonthesList = ['January', 'february', 'March', 'April', 'May', 'June', 'July', \n",
    "               'August', 'September', 'October', 'November', 'December']\n",
    "listOfBranch = ['401 Co', '401.Arq COST', '401.Cost Price', '401.V.S.P.', '401.AVG. WEEK',\n",
    "                '402 Co', '402.Arq COST', '402.Cost Price', '402.V.S.P.', '402.AVG. WEEK',\n",
    "                '404 Co', '404.Arq COST', '404.Cost Price', '404.V.S.P.', '404.AVG. WEEK',\n",
    "                '405 Co', '405.Arq COST', '405.Cost Price', '405.V.S.P.', '405.AVG. WEEK',\n",
    "                '412 Co', '412.Arq COST', '412.Cost Price', '412.V.S.P.', '412.AVG. WEEK',\n",
    "                '416 Co', '416.Arq COST', '416.Cost Price', '416.V.S.P.', '416.AVG. WEEK',\n",
    "                '417 Co', '417.Arq COST', '417.Cost Price', '417.V.S.P.', '417.AVG. WEEK',\n",
    "                '423 Co', '423.Arq COST', '423.Cost Price', '423.V.S.P.', '423.AVG. WEEK',\n",
    "                '424 Co', '424.Arq COST', '424.Cost Price', '424.V.S.P.', '424.AVG. WEEK',\n",
    "                '425 Co', '425.Arq COST', '425.Cost Price', '425.V.S.P.', '425.AVG. WEEK',\n",
    "                '426 Co', '426.Arq COST', '426.Cost Price', '426.V.S.P.', '426.AVG. WEEK',\n",
    "                '429 Co', '429.Arq COST', '429.Cost Price', '429.V.S.P.', '429.AVG. WEEK',\n",
    "                '444 Co', '444.Arq COST', '444.Cost Price', '444.V.S.P.', '444.AVG. WEEK',\n",
    "                '490 Co', '490.Arq COST', '490.Cost Price', '490.V.S.P.', '490.AVG. WEEK',\n",
    "                'Latest SOH']\n",
    "\n",
    "productDetail = ['Part No', \"Description\", 'UPC', 'ARQOOB SOH', 'HMV_SOH', 'VMS-U_SOH',\n",
    "                 'VMS-Q_SOH', 'Vir_SOH', 'Total', 'HMV_Cost', 'VMS-U_Cost', 'VMS-Q_Cost',\n",
    "                 'Vir (QAR)_Cost', 'Final_Cost', 'HMV_Price', 'VMS-U_Price',\n",
    "                 'VMS-Q_Price', 'Vir (QAR)_Price', 'HMV_RRP', 'VMS-U_RRP', 'VMS-Q_RRP',\n",
    "                 'Vir (QAR)_RRP']\n",
    "header = productDetail.copy()\n",
    "header.extend(listOfBranch.copy())"
   ]
  },
  {
   "cell_type": "code",
   "execution_count": 12,
   "metadata": {},
   "outputs": [],
   "source": [
    "supplierForecast = pd.DataFrame(columns = list(header))"
   ]
  },
  {
   "cell_type": "code",
   "execution_count": 11,
   "metadata": {},
   "outputs": [
    {
     "data": {
      "text/html": [
       "<div>\n",
       "<style scoped>\n",
       "    .dataframe tbody tr th:only-of-type {\n",
       "        vertical-align: middle;\n",
       "    }\n",
       "\n",
       "    .dataframe tbody tr th {\n",
       "        vertical-align: top;\n",
       "    }\n",
       "\n",
       "    .dataframe thead th {\n",
       "        text-align: right;\n",
       "    }\n",
       "</style>\n",
       "<table border=\"1\" class=\"dataframe\">\n",
       "  <thead>\n",
       "    <tr style=\"text-align: right;\">\n",
       "      <th></th>\n",
       "      <th>Part No</th>\n",
       "      <th>Description</th>\n",
       "      <th>UPC</th>\n",
       "      <th>ARQOOB SOH</th>\n",
       "      <th>HMV_SOH</th>\n",
       "      <th>VMS-U_SOH</th>\n",
       "      <th>VMS-Q_SOH</th>\n",
       "      <th>Vir_SOH</th>\n",
       "      <th>Total</th>\n",
       "      <th>HMV_Cost</th>\n",
       "      <th>...</th>\n",
       "      <th>444.Arq COST</th>\n",
       "      <th>444.Cost Price</th>\n",
       "      <th>444.V.S.P.</th>\n",
       "      <th>444.AVG. WEEK</th>\n",
       "      <th>490 Co</th>\n",
       "      <th>490.Arq COST</th>\n",
       "      <th>490.Cost Price</th>\n",
       "      <th>490.V.S.P.</th>\n",
       "      <th>490.AVG. WEEK</th>\n",
       "      <th>Latest SOH</th>\n",
       "    </tr>\n",
       "  </thead>\n",
       "  <tbody>\n",
       "  </tbody>\n",
       "</table>\n",
       "<p>0 rows × 93 columns</p>\n",
       "</div>"
      ],
      "text/plain": [
       "Empty DataFrame\n",
       "Columns: [Part No, Description, UPC, ARQOOB SOH, HMV_SOH, VMS-U_SOH, VMS-Q_SOH, Vir_SOH, Total, HMV_Cost, VMS-U_Cost, VMS-Q_Cost, Vir (QAR)_Cost, Final_Cost, HMV_Price, VMS-U_Price, VMS-Q_Price, Vir (QAR)_Price, HMV_RRP, VMS-U_RRP, VMS-Q_RRP, Vir (QAR)_RRP, 401 Co, 401.Arq COST, 401.Cost Price, 401.V.S.P., 401.AVG. WEEK, 402 Co, 402.Arq COST, 402.Cost Price, 402.V.S.P., 402.AVG. WEEK, 404 Co, 404.Arq COST, 404.Cost Price, 404.V.S.P., 404.AVG. WEEK, 405 Co, 405.Arq COST, 405.Cost Price, 405.V.S.P., 405.AVG. WEEK, 412 Co, 412.Arq COST, 412.Cost Price, 412.V.S.P., 412.AVG. WEEK, 416 Co, 416.Arq COST, 416.Cost Price, 416.V.S.P., 416.AVG. WEEK, 417 Co, 417.Arq COST, 417.Cost Price, 417.V.S.P., 417.AVG. WEEK, 423 Co, 423.Arq COST, 423.Cost Price, 423.V.S.P., 423.AVG. WEEK, 424 Co, 424.Arq COST, 424.Cost Price, 424.V.S.P., 424.AVG. WEEK, 425 Co, 425.Arq COST, 425.Cost Price, 425.V.S.P., 425.AVG. WEEK, 426 Co, 426.Arq COST, 426.Cost Price, 426.V.S.P., 426.AVG. WEEK, 429 Co, 429.Arq COST, 429.Cost Price, 429.V.S.P., 429.AVG. WEEK, 444 Co, 444.Arq COST, 444.Cost Price, 444.V.S.P., 444.AVG. WEEK, 490 Co, 490.Arq COST, 490.Cost Price, 490.V.S.P., 490.AVG. WEEK, Latest SOH]\n",
       "Index: []\n",
       "\n",
       "[0 rows x 93 columns]"
      ]
     },
     "execution_count": 11,
     "metadata": {},
     "output_type": "execute_result"
    }
   ],
   "source": [
    "supplierForecast"
   ]
  },
  {
   "cell_type": "code",
   "execution_count": null,
   "metadata": {},
   "outputs": [],
   "source": []
  }
 ],
 "metadata": {
  "kernelspec": {
   "display_name": "Python 3",
   "language": "python",
   "name": "python3"
  },
  "language_info": {
   "codemirror_mode": {
    "name": "ipython",
    "version": 3
   },
   "file_extension": ".py",
   "mimetype": "text/x-python",
   "name": "python",
   "nbconvert_exporter": "python",
   "pygments_lexer": "ipython3",
   "version": "3.6.7"
  }
 },
 "nbformat": 4,
 "nbformat_minor": 2
}
