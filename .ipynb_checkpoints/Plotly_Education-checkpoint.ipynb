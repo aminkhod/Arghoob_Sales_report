{
 "cells": [
  {
   "cell_type": "code",
   "execution_count": 12,
   "metadata": {},
   "outputs": [
    {
     "ename": "ModuleNotFoundError",
     "evalue": "No module named 'app'",
     "output_type": "error",
     "traceback": [
      "\u001b[1;31m---------------------------------------------------------------------------\u001b[0m",
      "\u001b[1;31mModuleNotFoundError\u001b[0m                       Traceback (most recent call last)",
      "\u001b[1;32m<ipython-input-12-198df6920da2>\u001b[0m in \u001b[0;36m<module>\u001b[1;34m\u001b[0m\n\u001b[0;32m      4\u001b[0m \u001b[1;32mimport\u001b[0m \u001b[0mpandas\u001b[0m \u001b[1;32mas\u001b[0m \u001b[0mpd\u001b[0m\u001b[1;33m\u001b[0m\u001b[1;33m\u001b[0m\u001b[0m\n\u001b[0;32m      5\u001b[0m \u001b[1;32mimport\u001b[0m \u001b[0mos\u001b[0m\u001b[1;33m\u001b[0m\u001b[1;33m\u001b[0m\u001b[0m\n\u001b[1;32m----> 6\u001b[1;33m \u001b[1;32mimport\u001b[0m \u001b[0mapp\u001b[0m\u001b[1;33m\u001b[0m\u001b[1;33m\u001b[0m\u001b[0m\n\u001b[0m\u001b[0;32m      7\u001b[0m \u001b[1;33m\u001b[0m\u001b[0m\n\u001b[0;32m      8\u001b[0m \u001b[1;32mimport\u001b[0m \u001b[0mdash_core_components\u001b[0m \u001b[1;32mas\u001b[0m \u001b[0mdcc\u001b[0m\u001b[1;33m\u001b[0m\u001b[1;33m\u001b[0m\u001b[0m\n",
      "\u001b[1;31mModuleNotFoundError\u001b[0m: No module named 'app'"
     ]
    }
   ],
   "source": [
    "import numpy as np\n",
    "import plotly.offline as pyo\n",
    "import plotly.graph_objs as go\n",
    "import pandas as pd\n",
    "import os\n",
    "import app\n",
    "\n",
    "import dash_core_components as dcc\n",
    "import dash_html_components as html\n",
    "from dash.dependencies import Input, Output\n",
    "\n",
    "from plotly.offline import iplot, init_notebook_mode\n",
    "init_notebook_mode(connected=True)\n"
   ]
  },
  {
   "cell_type": "code",
   "execution_count": 2,
   "metadata": {},
   "outputs": [],
   "source": [
    "hg = pd.read_csv('hg.csv')\n",
    "numListOfBranch = ['401','402','404','405','412','416','417','423',\n",
    "                   '424','425','426','429','444','490',]\n",
    "branchTot = []\n",
    "for col in numListOfBranch:\n",
    "    branchTot.append(hg[col].sum())\n",
    "    \n",
    "np.random.seed(42)\n",
    "random_x = np.random.randint(1,101,100)\n",
    "random_y = np.random.randint(1,101,100)"
   ]
  },
  {
   "cell_type": "code",
   "execution_count": 3,
   "metadata": {},
   "outputs": [
    {
     "data": {
      "application/vnd.plotly.v1+json": {
       "config": {
        "linkText": "Export to plot.ly",
        "plotlyServerURL": "https://plot.ly",
        "responsive": true,
        "showLink": false
       },
       "data": [
        {
         "boxmean": true,
         "boxpoints": "all",
         "name": "sale distribution",
         "type": "box",
         "uid": "5e96e68d-0ac3-4c76-a45d-ea695abd929d",
         "y": [
          42,
          10,
          21,
          91,
          48,
          388,
          34,
          14,
          104,
          7,
          23,
          21,
          1,
          12
         ]
        }
       ],
       "layout": {
        "title": {
         "text": "sale distribution"
        }
       }
      },
      "text/html": [
       "<div>\n",
       "        \n",
       "        \n",
       "            <div id=\"50869b9d-fe77-4a49-a78a-f6f8ecd372b9\" class=\"plotly-graph-div\" style=\"height:525px; width:100%;\"></div>\n",
       "            <script type=\"text/javascript\">\n",
       "                require([\"plotly\"], function(Plotly) {\n",
       "                    window.PLOTLYENV=window.PLOTLYENV || {};\n",
       "                    window.PLOTLYENV.BASE_URL='https://plot.ly';\n",
       "                    \n",
       "                if (document.getElementById(\"50869b9d-fe77-4a49-a78a-f6f8ecd372b9\")) {\n",
       "                    Plotly.newPlot(\n",
       "                        '50869b9d-fe77-4a49-a78a-f6f8ecd372b9',\n",
       "                        [{\"boxmean\": true, \"boxpoints\": \"all\", \"name\": \"sale distribution\", \"type\": \"box\", \"uid\": \"8195ff78-016d-474d-9352-e7d0b5146c29\", \"y\": [42.0, 10.0, 21.0, 91.0, 48.0, 388.0, 34.0, 14.0, 104.0, 7.0, 23.0, 21.0, 1.0, 12.0]}],\n",
       "                        {\"title\": {\"text\": \"sale distribution\"}},\n",
       "                        {\"showLink\": false, \"linkText\": \"Export to plot.ly\", \"plotlyServerURL\": \"https://plot.ly\", \"responsive\": true}\n",
       "                    ).then(function(){\n",
       "                            \n",
       "var gd = document.getElementById('50869b9d-fe77-4a49-a78a-f6f8ecd372b9');\n",
       "var x = new MutationObserver(function (mutations, observer) {{\n",
       "        var display = window.getComputedStyle(gd).display;\n",
       "        if (!display || display === 'none') {{\n",
       "            console.log([gd, 'removed!']);\n",
       "            Plotly.purge(gd);\n",
       "            observer.disconnect();\n",
       "        }}\n",
       "}});\n",
       "\n",
       "// Listen for the removal of the full notebook cells\n",
       "var notebookContainer = gd.closest('#notebook-container');\n",
       "if (notebookContainer) {{\n",
       "    x.observe(notebookContainer, {childList: true});\n",
       "}}\n",
       "\n",
       "// Listen for the clearing of the current output cell\n",
       "var outputEl = gd.closest('.output');\n",
       "if (outputEl) {{\n",
       "    x.observe(outputEl, {childList: true});\n",
       "}}\n",
       "\n",
       "                        })\n",
       "                };\n",
       "                });\n",
       "            </script>\n",
       "        </div>"
      ]
     },
     "metadata": {},
     "output_type": "display_data"
    }
   ],
   "source": [
    "data = [go.Box(y = branchTot, name = 'sale distribution', boxmean=True, boxpoints = 'all')]\n",
    "# boxmean = 'sd'\n",
    "# boxpoints = 'outliers'\n",
    "# boxpoints = 'suspectedoutliers\n",
    "# boxpoints = False\n",
    "\n",
    "layout = go.Layout(\n",
    "    title = \"sale distribution\"\n",
    ")\n",
    "\n",
    "fig = go.Figure(data=data,layout=layout)\n",
    "iplot(fig, filename = \"sale distribution of each branch\")\n"
   ]
  },
  {
   "cell_type": "code",
   "execution_count": 4,
   "metadata": {},
   "outputs": [
    {
     "data": {
      "application/vnd.plotly.v1+json": {
       "config": {
        "linkText": "Export to plot.ly",
        "plotlyServerURL": "https://plot.ly",
        "responsive": true,
        "showLink": false
       },
       "data": [
        {
         "name": "sale of each branch",
         "type": "bar",
         "uid": "ba8fe69a-3eea-406a-bcca-7f2cf9033f9c",
         "x": [
          "401",
          "402",
          "404",
          "405",
          "412",
          "416",
          "417",
          "423",
          "424",
          "425",
          "426",
          "429",
          "444",
          "490"
         ],
         "y": [
          42,
          10,
          21,
          91,
          48,
          388,
          34,
          14,
          104,
          7,
          23,
          21,
          1,
          12
         ]
        }
       ],
       "layout": {}
      },
      "text/html": [
       "<div>\n",
       "        \n",
       "        \n",
       "            <div id=\"b6c33ed0-ffcd-4286-96b7-a61f886d6045\" class=\"plotly-graph-div\" style=\"height:525px; width:100%;\"></div>\n",
       "            <script type=\"text/javascript\">\n",
       "                require([\"plotly\"], function(Plotly) {\n",
       "                    window.PLOTLYENV=window.PLOTLYENV || {};\n",
       "                    window.PLOTLYENV.BASE_URL='https://plot.ly';\n",
       "                    \n",
       "                if (document.getElementById(\"b6c33ed0-ffcd-4286-96b7-a61f886d6045\")) {\n",
       "                    Plotly.newPlot(\n",
       "                        'b6c33ed0-ffcd-4286-96b7-a61f886d6045',\n",
       "                        [{\"name\": \"sale of each branch\", \"type\": \"bar\", \"uid\": \"2945eeb6-22d8-4427-a448-c64bf9d6ef36\", \"x\": [\"401\", \"402\", \"404\", \"405\", \"412\", \"416\", \"417\", \"423\", \"424\", \"425\", \"426\", \"429\", \"444\", \"490\"], \"y\": [42.0, 10.0, 21.0, 91.0, 48.0, 388.0, 34.0, 14.0, 104.0, 7.0, 23.0, 21.0, 1.0, 12.0]}],\n",
       "                        {},\n",
       "                        {\"showLink\": false, \"linkText\": \"Export to plot.ly\", \"plotlyServerURL\": \"https://plot.ly\", \"responsive\": true}\n",
       "                    ).then(function(){\n",
       "                            \n",
       "var gd = document.getElementById('b6c33ed0-ffcd-4286-96b7-a61f886d6045');\n",
       "var x = new MutationObserver(function (mutations, observer) {{\n",
       "        var display = window.getComputedStyle(gd).display;\n",
       "        if (!display || display === 'none') {{\n",
       "            console.log([gd, 'removed!']);\n",
       "            Plotly.purge(gd);\n",
       "            observer.disconnect();\n",
       "        }}\n",
       "}});\n",
       "\n",
       "// Listen for the removal of the full notebook cells\n",
       "var notebookContainer = gd.closest('#notebook-container');\n",
       "if (notebookContainer) {{\n",
       "    x.observe(notebookContainer, {childList: true});\n",
       "}}\n",
       "\n",
       "// Listen for the clearing of the current output cell\n",
       "var outputEl = gd.closest('.output');\n",
       "if (outputEl) {{\n",
       "    x.observe(outputEl, {childList: true});\n",
       "}}\n",
       "\n",
       "                        })\n",
       "                };\n",
       "                });\n",
       "            </script>\n",
       "        </div>"
      ]
     },
     "metadata": {},
     "output_type": "display_data"
    }
   ],
   "source": [
    "data = [go.Bar(x = numListOfBranch, y = branchTot, name = 'sale of each branch')]\n",
    "iplot(data,filename='sale amount of each branch.html')"
   ]
  },
  {
   "cell_type": "code",
   "execution_count": 5,
   "metadata": {},
   "outputs": [
    {
     "data": {
      "text/html": [
       "\n",
       "        <iframe\n",
       "            width=\"100%\"\n",
       "            height=\"650px\"\n",
       "            src=\"https://dash-simple-apps.plotly.host/dash-boxplot/?frameBorder=0\"\n",
       "            frameborder=\"0\"\n",
       "            allowfullscreen\n",
       "        ></iframe>\n",
       "        "
      ],
      "text/plain": [
       "<IPython.lib.display.IFrame at 0x24f50760908>"
      ]
     },
     "execution_count": 5,
     "metadata": {},
     "output_type": "execute_result"
    }
   ],
   "source": [
    "from IPython.display import IFrame\n",
    "IFrame(src= \"https://dash-simple-apps.plotly.host/dash-boxplot/\", width=\"100%\", height=\"650px\", frameBorder=\"0\")"
   ]
  },
  {
   "cell_type": "code",
   "execution_count": 10,
   "metadata": {},
   "outputs": [
    {
     "ename": "NameError",
     "evalue": "name 'app' is not defined",
     "output_type": "error",
     "traceback": [
      "\u001b[1;31m---------------------------------------------------------------------------\u001b[0m",
      "\u001b[1;31mNameError\u001b[0m                                 Traceback (most recent call last)",
      "\u001b[1;32m<ipython-input-10-b55156115eb3>\u001b[0m in \u001b[0;36m<module>\u001b[1;34m\u001b[0m\n\u001b[0;32m     16\u001b[0m \u001b[1;33m\u001b[0m\u001b[0m\n\u001b[0;32m     17\u001b[0m \u001b[1;33m\u001b[0m\u001b[0m\n\u001b[1;32m---> 18\u001b[1;33m @app.callback(\n\u001b[0m\u001b[0;32m     19\u001b[0m     \u001b[0mOutput\u001b[0m\u001b[1;33m(\u001b[0m\u001b[1;34m'my-graph'\u001b[0m\u001b[1;33m,\u001b[0m \u001b[1;34m'figure'\u001b[0m\u001b[1;33m)\u001b[0m\u001b[1;33m,\u001b[0m\u001b[1;33m\u001b[0m\u001b[1;33m\u001b[0m\u001b[0m\n\u001b[0;32m     20\u001b[0m     [Input('selected-continent', 'value')])\n",
      "\u001b[1;31mNameError\u001b[0m: name 'app' is not defined"
     ]
    }
   ],
   "source": [
    "\n",
    "df = pd.read_csv('https://raw.githubusercontent.com/plotly/datasets/master/Emissions%20Data.csv')\n",
    "\n",
    "if 'DYNO' in os.environ:\n",
    "    app_name = os.environ['DASH_APP_NAME']\n",
    "else:\n",
    "    app_name = 'dash-boxplot'\n",
    "\n",
    "layout = html.Div([html.Div([\n",
    "        html.H1(\"Greenhouse Gas Emissions by Continent\")], style={\"textAlign\": \"center\"}),\n",
    "        dcc.Graph(id=\"my-graph\"),\n",
    "        html.Div([dcc.RangeSlider(id=\"selected-continent\",min=2008,max=2011,\n",
    "                 marks={2008: \"2008\", 2009: \"2009\", 2010: \"2010\", 2011: \"2011\"},value=[2008, 2010],)],\n",
    "                 style={\"display\": \"block\",\"margin-left\": \"auto\",\"margin-right\": \"auto\",\"width\": \"60%\"}),\n",
    "], className=\"container\")\n",
    "\n",
    "\n",
    "@app.callback(\n",
    "    Output('my-graph', 'figure'),\n",
    "    [Input('selected-continent', 'value')])\n",
    "def update_figure(selected):\n",
    "    dff = df[(df[\"Year\"] >= selected[0]) & (df[\"Year\"] <= selected[1])]\n",
    "    traces = []\n",
    "    for continent in dff.Continent.unique():\n",
    "        traces.append(go.Box(y=dff[dff[\"Continent\"] == continent][\"Emission\"],name=continent,marker={\"size\": 4}))\n",
    "    return {\"data\": traces,\n",
    "            \"layout\": go.Layout(title=f\"Emission Levels for {'-'.join(str(i) for i in selected)}\",autosize=True,\n",
    "                                margin={\"l\": 200, \"b\": 100, \"r\": 200},xaxis={\"showticklabels\": False,},\n",
    "                                yaxis={\"title\": f\"Emissions (gigatonnes of CO2)\",\"type\": \"log\",},)}\n",
    "\n"
   ]
  },
  {
   "cell_type": "code",
   "execution_count": null,
   "metadata": {},
   "outputs": [],
   "source": []
  }
 ],
 "metadata": {
  "kernelspec": {
   "display_name": "Python 3",
   "language": "python",
   "name": "python3"
  },
  "language_info": {
   "codemirror_mode": {
    "name": "ipython",
    "version": 3
   },
   "file_extension": ".py",
   "mimetype": "text/x-python",
   "name": "python",
   "nbconvert_exporter": "python",
   "pygments_lexer": "ipython3",
   "version": "3.6.7"
  }
 },
 "nbformat": 4,
 "nbformat_minor": 2
}
