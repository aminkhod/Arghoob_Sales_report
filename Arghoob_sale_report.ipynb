{
 "cells": [
  {
   "cell_type": "code",
   "execution_count": 60,
   "metadata": {},
   "outputs": [],
   "source": [
    "import pandas as pd\n",
    "import numpy as np\n",
    "import os\n",
    "from plotly.offline import iplot, init_notebook_mode\n",
    "import plotly.graph_objs as go\n",
    "import plotly.io as pio\n",
    "import plotly.plotly as py\n",
    "import plotly.figure_factory as ff\n",
    "import dash\n",
    "import dash_core_components as dcc\n",
    "import dash_html_components as html\n",
    "from  plotly.offline import plot\n",
    "import plotly \n",
    "from IPython.display import SVG, display\n",
    "from IPython.display import Image\n",
    "\n",
    "\n",
    "\n",
    "# import subprocess\n",
    "# subprocess.check_call(['pip', 'install', 'numpy']) # install pkg\n",
    "# subprocess.check_call(['pip', 'install',\"--upgrade\", 'numpy']) # upgrade pkg"
   ]
  },
  {
   "cell_type": "code",
   "execution_count": 2,
   "metadata": {},
   "outputs": [
    {
     "name": "stdout",
     "output_type": "stream",
     "text": [
      "04-05-2019.CSV\n",
      "06-04-2019.CSV\n",
      "09-03-2019.CSV\n",
      "13-04-2019.CSV\n",
      "16-03-2019.CSV\n",
      "20-04-2019.CSV\n",
      "23-02-2019.CSV\n",
      "23-03-2019.CSV\n",
      "27-04-2019.CSV\n",
      "30-03-2019.CSV\n",
      "23-02-2019.CSV\n",
      "06-04-2019.CSV\n",
      "09-03-2019.CSV\n",
      "16-03-2019.CSV\n",
      "23-03-2019.CSV\n",
      "30-03-2019.CSV\n",
      "13-04-2019.CSV\n",
      "20-04-2019.CSV\n",
      "27-04-2019.CSV\n",
      "28-04-2019.CSV\n",
      "05-05-2019.CSV\n",
      "11-05-2019.CSV\n",
      "18-05-2019.CSV\n"
     ]
    }
   ],
   "source": [
    "path = 'Main bank/'\n",
    "\n",
    "files = []\n",
    "filesNoAdd = []\n",
    "# r=root, d=directories, f = files\n",
    "for r, d, f in os.walk(path):\n",
    "    for file in f:\n",
    "        if '.CSV' in file:\n",
    "            files.append(os.path.join(r, file))\n",
    "            filesNoAdd.append(file)\n",
    "\n",
    "for f in filesNoAdd:\n",
    "    print(f)\n"
   ]
  },
  {
   "cell_type": "code",
   "execution_count": 3,
   "metadata": {},
   "outputs": [],
   "source": [
    "f1 = '04-05-2019'\n",
    "f = ('Main bank/' + f1 + '.CSV')\n",
    "rawData = pd.read_csv(f , encoding='latin1')\n",
    "# rawData"
   ]
  },
  {
   "cell_type": "code",
   "execution_count": 4,
   "metadata": {},
   "outputs": [],
   "source": [
    "sku = rawData.values[:189,0]\n",
    "\n",
    "\n",
    "upc = rawData.values[:189,1]\n",
    "\n",
    "Catalogue = rawData.values[:189,2]\n",
    "\n",
    "title = rawData.values[:189,3]\n",
    "\n",
    "label = rawData.values[:189,4]\n",
    "\n",
    "Cost_Price = rawData.values[:189,5]\n",
    "\n",
    "VSP = rawData.values[:189,6]\n"
   ]
  },
  {
   "cell_type": "code",
   "execution_count": 5,
   "metadata": {
    "scrolled": true
   },
   "outputs": [],
   "source": [
    "rawDatVal = []\n",
    "rawDatVal = rawData.values[:189,7:149]\n",
    "eachRaw = []\n",
    "allRawvalue = []\n",
    "BranchTotal = rawDatVal.sum(axis=0)\n",
    "\n",
    "for i in range(len(rawDatVal[:,0])):\n",
    "    for j in range(int((len(rawDatVal[0,:]))/3)):\n",
    "        \n",
    "        k=3 * j \n",
    "\n",
    "        eachRaw.append(rawDatVal[i,k])\n",
    "    eachRaw = np.array(eachRaw)\n",
    "    allRawvalue.append(eachRaw.sum())\n",
    "    eachRaw = []\n",
    "\n",
    "\n",
    "\n",
    "# rawData['Sum of sale for each goods'] = allRawvalue"
   ]
  },
  {
   "cell_type": "code",
   "execution_count": 6,
   "metadata": {},
   "outputs": [],
   "source": [
    "\n",
    "eachRaw = []\n",
    "\n",
    "BranchTotal = rawDatVal.sum(axis=0)\n",
    "for j in range(int(len(rawDatVal[0,:])/3)):\n",
    "    k=3 * j \n",
    "    sum = 0\n",
    "    for i in range(len(rawDatVal[:,0])):\n",
    "        sum += rawDatVal[i,k]\n",
    "    rawData.iloc[i+1,k] = sum\n",
    "    \n",
    "\n",
    "    eachRaw = []\n",
    "# allRawvalue.append(np.array(allRawvalue).sum())\n",
    "# allRawvalue.append(np.array(allRawvalue).sum())\n",
    "\n"
   ]
  },
  {
   "cell_type": "code",
   "execution_count": 7,
   "metadata": {},
   "outputs": [],
   "source": [
    "Virgin_Stock = []\n",
    "Virgin_Stock = pd.DataFrame(Virgin_Stock)\n",
    "Virgin_Stock['sku'] = sku\n",
    "Virgin_Stock['upc'] = upc\n",
    "Virgin_Stock['Catalogue'] = Catalogue\n",
    "Virgin_Stock['title'] = title\n",
    "Virgin_Stock['label'] = label\n",
    "Virgin_Stock['VMS Cost'] = Cost_Price\n",
    "Virgin_Stock['VSP'] = VSP\n",
    "\n",
    "\n",
    "Virgin_Stock[f1] = list(allRawvalue)\n"
   ]
  },
  {
   "cell_type": "code",
   "execution_count": 8,
   "metadata": {},
   "outputs": [],
   "source": [
    "i = 1\n",
    "buf = np.zeros(len(Virgin_Stock.values[:,1]), dtype=int)\n",
    "\n",
    "\n",
    "\n",
    "## i\n",
    "for j in range(i):\n",
    "    buf += np.array(Virgin_Stock.values[:,7+j], dtype = int)\n",
    "\n",
    "Virgin_Stock[\"TOTAL\"] = buf\n",
    "ii = np.full(len(Virgin_Stock.values[:,1]) ,i )\n",
    "\n",
    "Virgin_Stock[\"AVG. WEEK\"] = np.divide(Virgin_Stock[\"TOTAL\"] , ii)\n",
    "Virgin_Stock['total VMS Cost'] = Virgin_Stock[\"TOTAL\"] * Virgin_Stock['VMS Cost']\n",
    "Virgin_Stock['total V.S.P.'] = Virgin_Stock[\"TOTAL\"] * Virgin_Stock['VSP']\n",
    "count = 0\n",
    "for head in list(rawData.head(0)):\n",
    "    if \".Sales Quantity\" in head:\n",
    "        Virgin_Stock[head] = rawData[head]\n",
    "        try:\n",
    "            headNum = int(head.replace(\".Sales Quantity\",''))\n",
    "        except:\n",
    "            print(int(headNum),\" can't be cast to int\")\n",
    "        headNum = str(headNum)\n",
    "        Virgin_Stock['TOTAL' + headNum] = rawData.values[:189, count]\n",
    "        Virgin_Stock['VMS Cost' + headNum] = Virgin_Stock['VMS Cost'] * Virgin_Stock['TOTAL' + headNum]\n",
    "        Virgin_Stock['V.S.P.' + headNum] = Virgin_Stock['VSP'] * Virgin_Stock['TOTAL' + headNum]\n",
    "        Virgin_Stock['AVG. WEEK' + headNum] = np.divide(Virgin_Stock['TOTAL' + headNum] , ii)\n",
    "    count +=1\n",
    "        \n"
   ]
  },
  {
   "cell_type": "code",
   "execution_count": 9,
   "metadata": {},
   "outputs": [],
   "source": [
    "Virgin_Stock.to_csv('Virgin_Stock.csv', index =False)"
   ]
  },
  {
   "cell_type": "code",
   "execution_count": 10,
   "metadata": {},
   "outputs": [],
   "source": [
    "#  Virgin_Stock['VMS Cost'] * Virgin_Stock['TOTAL' + headNum]"
   ]
  },
  {
   "cell_type": "code",
   "execution_count": 11,
   "metadata": {},
   "outputs": [
    {
     "name": "stdout",
     "output_type": "stream",
     "text": [
      "05-01-2019.csv\n",
      "12-01-2019.csv\n",
      "19-01-2019.csv\n",
      "26-01-2019.csv\n"
     ]
    }
   ],
   "source": [
    "path = '4Th Month/'\n",
    "\n",
    "files = []\n",
    "filesNoAdd = []\n",
    "# r=root, d=directories, f = files\n",
    "for r, d, f in os.walk(path):\n",
    "    for file in f:\n",
    "        if '.csv' in file:\n",
    "            files.append(os.path.join(r, file))\n",
    "            filesNoAdd.append(file)\n",
    "\n",
    "for f in filesNoAdd:\n",
    "    print(f)\n"
   ]
  },
  {
   "cell_type": "code",
   "execution_count": 2,
   "metadata": {
    "scrolled": true
   },
   "outputs": [],
   "source": [
    "numListOfBranch = ['401','402','404','405','412','416','417','423',\n",
    "                   '424','425','426','429','444','490',]\n",
    "listOfBranch = ['401', '401.VMS cost', '401.V.S.P.', '401.AVG. WEEK',\n",
    "                '402', '402.VMS cost', '402.V.S.P.', '402.AVG. WEEK',\n",
    "                '404', '404.VMS cost', '404.V.S.P.', '404.AVG. WEEK',\n",
    "                '405', '405.VMS cost', '405.V.S.P.', '405.AVG. WEEK',\n",
    "                '412', '412.VMS cost', '412.V.S.P.', '412.AVG. WEEK',\n",
    "                '416', '416.VMS cost', '416.V.S.P.', '416.AVG. WEEK',\n",
    "                '417', '417.VMS cost', '417.V.S.P.', '417.AVG. WEEK',\n",
    "                '423', '423.VMS cost', '423.V.S.P.', '423.AVG. WEEK',\n",
    "                '424', '424.VMS cost', '424.V.S.P.', '424.AVG. WEEK',\n",
    "                '425', '425.VMS cost', '425.V.S.P.', '425.AVG. WEEK',\n",
    "                '426', '426.VMS cost', '426.V.S.P.', '426.AVG. WEEK',\n",
    "                '429', '429.VMS cost', '429.V.S.P.', '429.AVG. WEEK',\n",
    "                '444', '444.VMS cost', '444.V.S.P.', '444.AVG. WEEK',\n",
    "                '490', '490.VMS cost', '490.V.S.P.', '490.AVG. WEEK']\n",
    "\n",
    "productDetail = ['Sku', 'UPC', 'Catalogue N', 'Title', 'Label' ,'Cost Price' ,'V.S.P.']\n",
    "header = productDetail.copy()\n",
    "header.extend(listOfBranch.copy())\n"
   ]
  },
  {
   "cell_type": "code",
   "execution_count": 13,
   "metadata": {},
   "outputs": [],
   "source": [
    "def findID(sku, Data):\n",
    "    numb = 0\n",
    "    for SKUref in Data['Sku']:\n",
    "        if sku == SKUref:\n",
    "            return numb\n",
    "        numb += 1\n",
    "    return \"This good with Sku of \" + sku + \"is not in data.\" "
   ]
  },
  {
   "cell_type": "code",
   "execution_count": 14,
   "metadata": {},
   "outputs": [],
   "source": [
    "def buildList(num, ide, productDetail, listOfBranch, rawData):\n",
    "    \n",
    "    producList = []\n",
    "    for det in productDetail:\n",
    "        producList.append(rawData[det][ide])\n",
    "    for branch in listOfBranch:\n",
    "        head = str(branch + '.Sales Quantity')\n",
    "        if head in rawData.head(0):\n",
    "            try:\n",
    "                producList.append(float(rawData[head][ide]))\n",
    "                producList.append(float(rawData[head][ide]) * float(rawData['V.S.P.'][ide]))\n",
    "                producList.append(float(rawData[head][ide]) * float(rawData['Cost Price'][ide]))\n",
    "                producList.append(float(rawData[head][ide]) / float(num))\n",
    "                \n",
    "            except:\n",
    "                print(\"A number in raw data is string\")\n",
    "                \n",
    "    return producList"
   ]
  },
  {
   "cell_type": "code",
   "execution_count": 15,
   "metadata": {},
   "outputs": [],
   "source": [
    "def listAddition(Dataide, ide, num, productDetail, listOfBranch, rawData, monthRawData):\n",
    "    colid = 0\n",
    "    for branch in listOfBranch:\n",
    "        head = str(branch + '.Sales Quantity')\n",
    "        if head in rawData.head(0):\n",
    "            monthRawData.iloc[Dataide, colid+7] = monthRawData.iloc[Dataide, colid+7] + rawData[head][ide]\n",
    "            monthRawData.iloc[Dataide, colid+8] = monthRawData.iloc[Dataide, colid+7] * float(rawData['V.S.P.'][ide])\n",
    "            monthRawData.iloc[Dataide, colid+9] = monthRawData.iloc[Dataide, colid+7] * float(rawData['Cost Price'][ide])\n",
    "            monthRawData.iloc[Dataide, colid+10]= monthRawData.iloc[Dataide, colid+7] / float(num)\n",
    "        colid += 1\n",
    "    return monthRawData"
   ]
  },
  {
   "cell_type": "code",
   "execution_count": 16,
   "metadata": {},
   "outputs": [],
   "source": [
    "def noStock(sku,rawData):\n",
    "    sku = str(sku)\n",
    "    i = findID(sku, rawData)\n",
    "    if np.sum(rawData.values[i,7:]) > 0:\n",
    "        return False\n",
    "    else:\n",
    "        return True\n"
   ]
  },
  {
   "cell_type": "code",
   "execution_count": 98,
   "metadata": {},
   "outputs": [],
   "source": [
    "# a = np.zeros(shape=(1,len(header)))\n",
    "monthRawData = pd.DataFrame(columns = list(header))\n",
    "\n",
    "fcount = len(files)\n",
    "b = []\n",
    "for f in files:\n",
    "#     f1 = (path + f)\n",
    "    f1 = (f)\n",
    "    rawData = pd.read_csv(f1 , encoding='latin1')\n",
    "\n",
    "    \n",
    "    sid =0\n",
    "    b = 0\n",
    "    for sku in rawData['Sku']:\n",
    "        if sku not in list(monthRawData['Sku']):\n",
    "            df = pd.DataFrame([list(buildList(fcount, sid, productDetail, listOfBranch, rawData))],\n",
    "                              columns= list(header))\n",
    "            monthRawData = monthRawData.append(df)\n",
    "            \n",
    "        else:\n",
    "            Dataide = findID(sku, monthRawData)\n",
    "            b = listAddition(Dataide, sid, fcount, productDetail, listOfBranch, rawData, monthRawData)\n",
    "        sid +=1\n",
    "\n"
   ]
  },
  {
   "cell_type": "code",
   "execution_count": 99,
   "metadata": {},
   "outputs": [
    {
     "ename": "IndexError",
     "evalue": "only integers, slices (`:`), ellipsis (`...`), numpy.newaxis (`None`) and integer or boolean arrays are valid indices",
     "output_type": "error",
     "traceback": [
      "\u001b[1;31m---------------------------------------------------------------------------\u001b[0m",
      "\u001b[1;31mIndexError\u001b[0m                                Traceback (most recent call last)",
      "\u001b[1;32m<ipython-input-99-3fcecd55c674>\u001b[0m in \u001b[0;36m<module>\u001b[1;34m\u001b[0m\n\u001b[0;32m     22\u001b[0m \u001b[1;33m\u001b[0m\u001b[0m\n\u001b[0;32m     23\u001b[0m \u001b[1;32mfor\u001b[0m \u001b[0mi\u001b[0m \u001b[1;32min\u001b[0m \u001b[0mrange\u001b[0m\u001b[1;33m(\u001b[0m\u001b[0mlen\u001b[0m\u001b[1;33m(\u001b[0m\u001b[0mstatus\u001b[0m\u001b[1;33m)\u001b[0m\u001b[1;33m)\u001b[0m\u001b[1;33m:\u001b[0m\u001b[1;33m\u001b[0m\u001b[1;33m\u001b[0m\u001b[0m\n\u001b[1;32m---> 24\u001b[1;33m     \u001b[1;32mif\u001b[0m \u001b[0mnoStock\u001b[0m\u001b[1;33m(\u001b[0m\u001b[0mmonthRawData\u001b[0m\u001b[1;33m.\u001b[0m\u001b[0miloc\u001b[0m\u001b[1;33m[\u001b[0m\u001b[0mi\u001b[0m\u001b[1;33m]\u001b[0m\u001b[1;33m[\u001b[0m\u001b[1;34m'Sku'\u001b[0m\u001b[1;33m]\u001b[0m\u001b[1;33m,\u001b[0m\u001b[0mrawData\u001b[0m\u001b[1;33m)\u001b[0m\u001b[1;33m:\u001b[0m\u001b[1;33m\u001b[0m\u001b[1;33m\u001b[0m\u001b[0m\n\u001b[0m\u001b[0;32m     25\u001b[0m         \u001b[0mstatus\u001b[0m\u001b[1;33m[\u001b[0m\u001b[0mi\u001b[0m\u001b[1;33m]\u001b[0m \u001b[1;33m=\u001b[0m \u001b[1;34m'Run out of stock'\u001b[0m\u001b[1;33m\u001b[0m\u001b[1;33m\u001b[0m\u001b[0m\n\u001b[0;32m     26\u001b[0m \u001b[1;31m#\u001b[0m\u001b[1;33m\u001b[0m\u001b[1;33m\u001b[0m\u001b[1;33m\u001b[0m\u001b[0m\n",
      "\u001b[1;32m<ipython-input-97-52a64df94277>\u001b[0m in \u001b[0;36mnoStock\u001b[1;34m(sku, rawData)\u001b[0m\n\u001b[0;32m      2\u001b[0m     \u001b[0msku\u001b[0m \u001b[1;33m=\u001b[0m \u001b[0mstr\u001b[0m\u001b[1;33m(\u001b[0m\u001b[0msku\u001b[0m\u001b[1;33m)\u001b[0m\u001b[1;33m\u001b[0m\u001b[1;33m\u001b[0m\u001b[0m\n\u001b[0;32m      3\u001b[0m     \u001b[0mi\u001b[0m \u001b[1;33m=\u001b[0m \u001b[0mfindID\u001b[0m\u001b[1;33m(\u001b[0m\u001b[0msku\u001b[0m\u001b[1;33m,\u001b[0m \u001b[0mrawData\u001b[0m\u001b[1;33m)\u001b[0m\u001b[1;33m\u001b[0m\u001b[1;33m\u001b[0m\u001b[0m\n\u001b[1;32m----> 4\u001b[1;33m     \u001b[1;32mif\u001b[0m \u001b[0mnp\u001b[0m\u001b[1;33m.\u001b[0m\u001b[0msum\u001b[0m\u001b[1;33m(\u001b[0m\u001b[0mrawData\u001b[0m\u001b[1;33m.\u001b[0m\u001b[0mvalues\u001b[0m\u001b[1;33m[\u001b[0m\u001b[0mi\u001b[0m\u001b[1;33m,\u001b[0m\u001b[1;36m7\u001b[0m\u001b[1;33m:\u001b[0m\u001b[1;33m]\u001b[0m\u001b[1;33m)\u001b[0m \u001b[1;33m>\u001b[0m \u001b[1;36m0\u001b[0m\u001b[1;33m:\u001b[0m\u001b[1;33m\u001b[0m\u001b[1;33m\u001b[0m\u001b[0m\n\u001b[0m\u001b[0;32m      5\u001b[0m         \u001b[1;32mreturn\u001b[0m \u001b[1;32mFalse\u001b[0m\u001b[1;33m\u001b[0m\u001b[1;33m\u001b[0m\u001b[0m\n\u001b[0;32m      6\u001b[0m     \u001b[1;32melse\u001b[0m\u001b[1;33m:\u001b[0m\u001b[1;33m\u001b[0m\u001b[1;33m\u001b[0m\u001b[0m\n",
      "\u001b[1;31mIndexError\u001b[0m: only integers, slices (`:`), ellipsis (`...`), numpy.newaxis (`None`) and integer or boolean arrays are valid indices"
     ]
    }
   ],
   "source": [
    "totalGoodSale = []\n",
    "count = 0\n",
    "for sku in monthRawData['Sku']:\n",
    "    saleOfGood = []\n",
    "    for numB in numListOfBranch:\n",
    "        saleOfGood.append(monthRawData.iloc[count][numB])\n",
    "    totalGoodSale.append(np.sum(saleOfGood))\n",
    "    count += 1\n",
    "monthRawData[\"total sale of Goods\"] = totalGoodSale\n",
    "status = []\n",
    "for tot in totalGoodSale:\n",
    "#     if tot == 0:\n",
    "    if tot <= 0:\n",
    "        status.append('Not moving')\n",
    "    if (tot > 0) and (tot <=2):\n",
    "        status.append('Slow moving')\n",
    "    if tot > 2:\n",
    "        status.append('Fast moving')\n",
    "#\n",
    "\n",
    "rawData = pd.read_csv(files[0])\n",
    "\n",
    "for i in range(len(status)):\n",
    "    if noStock(monthRawData.iloc[i]['Sku'],rawData):\n",
    "        status[i] = 'Run out of stock'\n",
    "#\n",
    "monthRawData[\"Status\"] = status\n",
    "\n"
   ]
  },
  {
   "cell_type": "code",
   "execution_count": null,
   "metadata": {},
   "outputs": [],
   "source": [
    "b.to_csv(\"hg.csv\", index=False)"
   ]
  },
  {
   "cell_type": "code",
   "execution_count": 39,
   "metadata": {
    "scrolled": true
   },
   "outputs": [
    {
     "name": "stdout",
     "output_type": "stream",
     "text": [
      "Running on http://127.0.0.1:8050/\n",
      "Debugger PIN: 534-604-585\n",
      " * Serving Flask app \"__main__\" (lazy loading)\n",
      " * Environment: production\n",
      "   WARNING: This is a development server. Do not use it in a production deployment.\n",
      "   Use a production WSGI server instead.\n",
      " * Debug mode: on\n"
     ]
    },
    {
     "ename": "SystemExit",
     "evalue": "1",
     "output_type": "error",
     "traceback": [
      "An exception has occurred, use %tb to see the full traceback.\n",
      "\u001b[1;31mSystemExit\u001b[0m\u001b[1;31m:\u001b[0m 1\n"
     ]
    },
    {
     "name": "stderr",
     "output_type": "stream",
     "text": [
      "c:\\program files\\python36\\lib\\site-packages\\IPython\\core\\interactiveshell.py:3304: UserWarning:\n",
      "\n",
      "To exit: use 'exit', 'quit', or Ctrl-D.\n",
      "\n"
     ]
    }
   ],
   "source": [
    "\n",
    "df = pd.read_csv('hg.csv')\n",
    "\n",
    "\n",
    "def generate_table(dataframe, max_rows=10):\n",
    "    return html.Table(\n",
    "        # Header\n",
    "        [html.Tr([html.Th(col) for col in dataframe.columns])] +\n",
    "\n",
    "        # Body\n",
    "        [html.Tr([\n",
    "            html.Td(dataframe.iloc[i][col]) for col in dataframe.columns\n",
    "        ]) for i in range(min(len(dataframe), max_rows))]\n",
    "    )\n",
    "\n",
    "\n",
    "external_stylesheets = ['https://codepen.io/chriddyp/pen/bWLwgP.css']\n",
    "\n",
    "app = dash.Dash(__name__, external_stylesheets=external_stylesheets)\n",
    "\n",
    "app.layout = html.Div(children=[\n",
    "    html.H4(children='US Agriculture Exports (2011)'),\n",
    "    generate_table(df)\n",
    "])\n",
    "\n",
    "if __name__ == '__main__':\n",
    "    app.run_server(debug=True)"
   ]
  },
  {
   "cell_type": "code",
   "execution_count": 69,
   "metadata": {},
   "outputs": [],
   "source": [
    "\n",
    "df = pd.read_csv(\"hg.csv\")\n",
    "df = df[['Sku','Catalogue N','Cost Price','V.S.P.','total sale of Goods','Status']]\n",
    "\n",
    "table = ff.create_table(df)\n",
    "# print(table)\n",
    "# table\n",
    "plot(table)\n",
    "pio.write_image(table, 'table.webp')\n",
    "pio.write_image(table, 'table.pdf')\n"
   ]
  },
  {
   "cell_type": "code",
   "execution_count": 70,
   "metadata": {
    "scrolled": false
   },
   "outputs": [
    {
     "name": "stdout",
     "output_type": "stream",
     "text": [
      "Sku                    7746.865792\n",
      "Cost Price               78.985116\n",
      "V.S.P.                  133.992479\n",
      "total sale of Goods       8.083393\n",
      "dtype: float64\n",
      "Sku                    740622.121053\n",
      "Cost Price                 64.403684\n",
      "V.S.P.                    127.315789\n",
      "total sale of Goods         4.294737\n",
      "dtype: float64\n",
      "<class 'pandas.core.frame.DataFrame'>\n",
      "RangeIndex: 190 entries, 0 to 189\n",
      "Data columns (total 6 columns):\n",
      "Sku                    190 non-null int64\n",
      "Catalogue N            190 non-null object\n",
      "Cost Price             190 non-null float64\n",
      "V.S.P.                 190 non-null int64\n",
      "total sale of Goods    190 non-null float64\n",
      "Status                 190 non-null object\n",
      "dtypes: float64(2), int64(2), object(2)\n",
      "memory usage: 9.0+ KB\n",
      "None\n"
     ]
    }
   ],
   "source": [
    "print(df.std())\n",
    "print(df.mean())\n",
    "print(df.info())\n"
   ]
  },
  {
   "cell_type": "code",
   "execution_count": 74,
   "metadata": {},
   "outputs": [
    {
     "ename": "AttributeError",
     "evalue": "'list' object has no attribute 'Layout'",
     "output_type": "error",
     "traceback": [
      "\u001b[1;31m---------------------------------------------------------------------------\u001b[0m",
      "\u001b[1;31mAttributeError\u001b[0m                            Traceback (most recent call last)",
      "\u001b[1;32m<ipython-input-74-01d70c3bc11b>\u001b[0m in \u001b[0;36m<module>\u001b[1;34m\u001b[0m\n\u001b[0;32m      8\u001b[0m data = [go.Bar(x=numListOfBranch,\n\u001b[0;32m      9\u001b[0m             y=branchTot)]\n\u001b[1;32m---> 10\u001b[1;33m data.Layout(title=\"Average Earnings for Graduates\",\n\u001b[0m\u001b[0;32m     11\u001b[0m                 \u001b[0mxaxis\u001b[0m\u001b[1;33m=\u001b[0m\u001b[0mdict\u001b[0m\u001b[1;33m(\u001b[0m\u001b[0mtitle\u001b[0m\u001b[1;33m=\u001b[0m\u001b[1;34m'School'\u001b[0m\u001b[1;33m)\u001b[0m\u001b[1;33m,\u001b[0m\u001b[1;33m\u001b[0m\u001b[1;33m\u001b[0m\u001b[0m\n\u001b[0;32m     12\u001b[0m                 yaxis=dict(title='Salary (in thousands)'))\n",
      "\u001b[1;31mAttributeError\u001b[0m: 'list' object has no attribute 'Layout'"
     ]
    }
   ],
   "source": [
    "\n",
    "data = pd.read_csv('hg.csv')\n",
    "\n",
    "branchTot = []\n",
    "for col in numListOfBranch:\n",
    "    branchTot.append(data[col].sum())\n",
    "    \n",
    "data = [go.Bar(x=numListOfBranch,\n",
    "            y=branchTot)]\n",
    "data.Layout(title=\"Average Earnings for Graduates\",\n",
    "                xaxis=dict(title='School'),\n",
    "                yaxis=dict(title='Salary (in thousands)'))\n",
    "\n",
    "plot(data, filename='jupyter-basic_bar')"
   ]
  },
  {
   "cell_type": "code",
   "execution_count": 72,
   "metadata": {},
   "outputs": [
    {
     "data": {
      "text/html": [
       "        <script type=\"text/javascript\">\n",
       "        window.PlotlyConfig = {MathJaxConfig: 'local'};\n",
       "        if (window.MathJax) {MathJax.Hub.Config({SVG: {font: \"STIX-Web\"}});}\n",
       "        if (typeof require !== 'undefined') {\n",
       "        require.undef(\"plotly\");\n",
       "        requirejs.config({\n",
       "            paths: {\n",
       "                'plotly': ['https://cdn.plot.ly/plotly-latest.min']\n",
       "            }\n",
       "        });\n",
       "        require(['plotly'], function(Plotly) {\n",
       "            window._Plotly = Plotly;\n",
       "        });\n",
       "        }\n",
       "        </script>\n",
       "        "
      ]
     },
     "metadata": {},
     "output_type": "display_data"
    },
    {
     "data": {
      "application/vnd.plotly.v1+json": {
       "config": {
        "linkText": "Export to plot.ly",
        "plotlyServerURL": "https://plot.ly",
        "responsive": true,
        "showLink": false
       },
       "data": [
        {
         "marker": {
          "color": [
           0.6166508520196904,
           0.18711614998756088,
           0.3304641435837151,
           0.5730255988522472,
           0.369090592056427,
           0.1697689098813715,
           0.5015260414552661,
           0.34184459073069196,
           0.8266394082690615,
           0.192864733408171,
           0.18464931823354747,
           0.6485318876023423,
           0.3192626388057278,
           0.2404186940492109,
           0.7524205916193633,
           0.9073288347496362,
           0.44245458415116556,
           0.03935375654673401,
           0.8554277307987831,
           0.5170122049607253,
           0.6358743809581394,
           0.516712512422259,
           0.2742306652768256,
           0.5653267303244837,
           0.8198911611817363,
           0.24163950519084243,
           0.806427582268073,
           0.8856821822667639,
           0.44120832187211545,
           0.2976540621840411,
           0.45315298734135745,
           0.9770399900457025,
           0.9809219726693434,
           0.07498432518817044,
           0.9976745947452279,
           0.10248528764983633,
           0.17147592466504358,
           0.3013232612132858,
           0.955753338441649,
           0.6755849503157673,
           0.9130503731528832,
           0.9324521456541597,
           0.9565116670400304,
           0.7983256176173494,
           0.9588960033456307,
           0.7580953810409333,
           0.34583555522418397,
           0.8910672658907233,
           0.3706847877654026,
           0.9222933881997963,
           0.5717603122810174,
           0.5844137168937334,
           0.5657499754441894,
           0.25225594757091996,
           0.13785479073684692,
           0.26278990565282445,
           0.7128583566690476,
           0.24845384648787538,
           0.8861694289939479,
           0.39176083248004634,
           0.3829912430887329,
           0.27233693313119733,
           0.15278676585347972,
           0.7751490994949891,
           0.13954226156700889,
           0.9496464093152958,
           0.2818590216806125,
           0.026634732096028402,
           0.5149543114619646,
           0.26396893205888317,
           0.46211456453233346,
           0.3478325997208259,
           0.8256282687297007,
           0.11714399987784141,
           0.6851451095399583,
           0.4091109387730124,
           0.1573235835713278,
           0.45484470253133724,
           0.2854813697811812,
           0.4834339054047626,
           0.13675732341830027,
           0.8218332540253004,
           0.46841286026030327,
           0.06250497719683912,
           0.15709838274752752,
           0.6374216786315974,
           0.12900547845241195,
           0.8817864197932382,
           0.5380359037960356,
           0.623850382014714,
           0.6956575019043044,
           0.008861011816055697,
           0.40326394980571,
           0.1222825203471044,
           0.5872052919144106,
           0.5686239225289625,
           0.3131272563507037,
           0.2380074068735375,
           0.6671728022012829,
           0.642400494514319
          ],
          "colorscale": "Viridis",
          "opacity": 0.6,
          "size": [
           0.23331832114308892,
           10.054838429165843,
           25.850537809713202,
           2.4439834372321068,
           5.222166241194231,
           11.635518355093739,
           15.637705962665622,
           3.450097593666924,
           28.56017999126077,
           7.498400800299573,
           9.488060006394118,
           6.894070230097854,
           7.057118822031393,
           21.961695317649188,
           15.4935244630302,
           26.190660575512425,
           28.822426377867963,
           17.476571700662692,
           12.621287883109893,
           14.1197328939888,
           16.698220439362693,
           26.044098529655965,
           26.121101193800573,
           5.08384324281905,
           7.089408064034059,
           22.19512215152049,
           12.230462048541037,
           10.355473525326609,
           7.372079341307578,
           10.771312992400556,
           21.56907270450475,
           10.619969828263187,
           13.39573359386595,
           22.104109074992632,
           6.90639641388465,
           15.221889378672508,
           16.294340705896197,
           7.817731525723738,
           1.0639050485997437,
           21.625845127273088,
           27.962935806684634,
           9.015924780073496,
           5.390064374126149,
           14.271751832112301,
           3.2916295911644236,
           8.066337941125441,
           22.569046186084265,
           4.340314801731781,
           0.021632469549920375,
           11.458007564141484,
           10.917443476053684,
           3.752285309235157,
           17.006156269951326,
           2.51125529688369,
           17.53499156297785,
           5.475404373318683,
           29.21140615444854,
           22.318396498099347,
           8.364157243081014,
           0.6839669564325457,
           19.034353894464054,
           17.712184794039636,
           28.74576502481041,
           0.88913229092484,
           4.5577956837385045,
           0.6368687709574572,
           14.00148756372873,
           12.840735109356679,
           24.83513427292551,
           10.9663934203398,
           12.949996945023411,
           5.704026360531675,
           4.316552824497873,
           16.535404148545922,
           11.9416309611924,
           28.684613269563503,
           23.347453248651615,
           19.724259910657032,
           11.558023759805865,
           6.307533659479602,
           1.6397913326503033,
           3.734707642681061,
           26.413018041548977,
           26.880939090186985,
           23.34262175466049,
           20.353501930108692,
           1.8257937713570327,
           3.680821603103166,
           14.033271241505506,
           21.49876243815651,
           0.9066281526070896,
           0.10750775593768358,
           1.5248969078170882,
           13.651013037358021,
           10.312695908498966,
           12.893976482409187,
           14.813474463937872,
           26.74972383403513,
           22.991622161860644,
           24.71488653266118
          ]
         },
         "mode": "markers",
         "type": "scatter",
         "uid": "a1806262-157f-4d18-b450-5cbf9cb6cb1c",
         "x": [
          "401",
          "402",
          "404",
          "405",
          "412",
          "416",
          "417",
          "423",
          "424",
          "425",
          "426",
          "429",
          "444",
          "490"
         ],
         "y": [
          42,
          10,
          21,
          91,
          48,
          388,
          34,
          14,
          104,
          7,
          23,
          21,
          1,
          12
         ]
        }
       ],
       "layout": {}
      },
      "text/html": [
       "<div>\n",
       "        \n",
       "        \n",
       "            <div id=\"ed216c8c-0f22-4fa8-ba13-5794a8386e9e\" class=\"plotly-graph-div\" style=\"height:525px; width:100%;\"></div>\n",
       "            <script type=\"text/javascript\">\n",
       "                require([\"plotly\"], function(Plotly) {\n",
       "                    window.PLOTLYENV=window.PLOTLYENV || {};\n",
       "                    window.PLOTLYENV.BASE_URL='https://plot.ly';\n",
       "                    \n",
       "                if (document.getElementById(\"ed216c8c-0f22-4fa8-ba13-5794a8386e9e\")) {\n",
       "                    Plotly.newPlot(\n",
       "                        'ed216c8c-0f22-4fa8-ba13-5794a8386e9e',\n",
       "                        [{\"marker\": {\"color\": [0.6166508520196904, 0.18711614998756088, 0.3304641435837151, 0.5730255988522472, 0.369090592056427, 0.1697689098813715, 0.5015260414552661, 0.34184459073069196, 0.8266394082690615, 0.192864733408171, 0.18464931823354747, 0.6485318876023423, 0.3192626388057278, 0.2404186940492109, 0.7524205916193633, 0.9073288347496362, 0.44245458415116556, 0.03935375654673401, 0.8554277307987831, 0.5170122049607253, 0.6358743809581394, 0.516712512422259, 0.2742306652768256, 0.5653267303244837, 0.8198911611817363, 0.24163950519084243, 0.806427582268073, 0.8856821822667639, 0.44120832187211545, 0.2976540621840411, 0.45315298734135745, 0.9770399900457025, 0.9809219726693434, 0.07498432518817044, 0.9976745947452279, 0.10248528764983633, 0.17147592466504358, 0.3013232612132858, 0.955753338441649, 0.6755849503157673, 0.9130503731528832, 0.9324521456541597, 0.9565116670400304, 0.7983256176173494, 0.9588960033456307, 0.7580953810409333, 0.34583555522418397, 0.8910672658907233, 0.3706847877654026, 0.9222933881997963, 0.5717603122810174, 0.5844137168937334, 0.5657499754441894, 0.25225594757091996, 0.13785479073684692, 0.26278990565282445, 0.7128583566690476, 0.24845384648787538, 0.8861694289939479, 0.39176083248004634, 0.3829912430887329, 0.27233693313119733, 0.15278676585347972, 0.7751490994949891, 0.13954226156700889, 0.9496464093152958, 0.2818590216806125, 0.026634732096028402, 0.5149543114619646, 0.26396893205888317, 0.46211456453233346, 0.3478325997208259, 0.8256282687297007, 0.11714399987784141, 0.6851451095399583, 0.4091109387730124, 0.1573235835713278, 0.45484470253133724, 0.2854813697811812, 0.4834339054047626, 0.13675732341830027, 0.8218332540253004, 0.46841286026030327, 0.06250497719683912, 0.15709838274752752, 0.6374216786315974, 0.12900547845241195, 0.8817864197932382, 0.5380359037960356, 0.623850382014714, 0.6956575019043044, 0.008861011816055697, 0.40326394980571, 0.1222825203471044, 0.5872052919144106, 0.5686239225289625, 0.3131272563507037, 0.2380074068735375, 0.6671728022012829, 0.642400494514319], \"colorscale\": \"Viridis\", \"opacity\": 0.6, \"size\": [0.23331832114308892, 10.054838429165843, 25.850537809713202, 2.4439834372321068, 5.222166241194231, 11.635518355093739, 15.637705962665622, 3.450097593666924, 28.56017999126077, 7.498400800299573, 9.488060006394118, 6.894070230097854, 7.057118822031393, 21.961695317649188, 15.4935244630302, 26.190660575512425, 28.822426377867963, 17.476571700662692, 12.621287883109893, 14.1197328939888, 16.698220439362693, 26.044098529655965, 26.121101193800573, 5.08384324281905, 7.089408064034059, 22.19512215152049, 12.230462048541037, 10.355473525326609, 7.372079341307578, 10.771312992400556, 21.56907270450475, 10.619969828263187, 13.39573359386595, 22.104109074992632, 6.90639641388465, 15.221889378672508, 16.294340705896197, 7.817731525723738, 1.0639050485997437, 21.625845127273088, 27.962935806684634, 9.015924780073496, 5.390064374126149, 14.271751832112301, 3.2916295911644236, 8.066337941125441, 22.569046186084265, 4.340314801731781, 0.021632469549920375, 11.458007564141484, 10.917443476053684, 3.752285309235157, 17.006156269951326, 2.51125529688369, 17.53499156297785, 5.475404373318683, 29.21140615444854, 22.318396498099347, 8.364157243081014, 0.6839669564325457, 19.034353894464054, 17.712184794039636, 28.74576502481041, 0.88913229092484, 4.5577956837385045, 0.6368687709574572, 14.00148756372873, 12.840735109356679, 24.83513427292551, 10.9663934203398, 12.949996945023411, 5.704026360531675, 4.316552824497873, 16.535404148545922, 11.9416309611924, 28.684613269563503, 23.347453248651615, 19.724259910657032, 11.558023759805865, 6.307533659479602, 1.6397913326503033, 3.734707642681061, 26.413018041548977, 26.880939090186985, 23.34262175466049, 20.353501930108692, 1.8257937713570327, 3.680821603103166, 14.033271241505506, 21.49876243815651, 0.9066281526070896, 0.10750775593768358, 1.5248969078170882, 13.651013037358021, 10.312695908498966, 12.893976482409187, 14.813474463937872, 26.74972383403513, 22.991622161860644, 24.71488653266118]}, \"mode\": \"markers\", \"type\": \"scatter\", \"uid\": \"1695b6cf-ac11-4c6d-8817-b7c2f7be2971\", \"x\": [\"401\", \"402\", \"404\", \"405\", \"412\", \"416\", \"417\", \"423\", \"424\", \"425\", \"426\", \"429\", \"444\", \"490\"], \"y\": [42.0, 10.0, 21.0, 91.0, 48.0, 388.0, 34.0, 14.0, 104.0, 7.0, 23.0, 21.0, 1.0, 12.0]}],\n",
       "                        {},\n",
       "                        {\"showLink\": false, \"linkText\": \"Export to plot.ly\", \"plotlyServerURL\": \"https://plot.ly\", \"responsive\": true}\n",
       "                    ).then(function(){\n",
       "                            \n",
       "var gd = document.getElementById('ed216c8c-0f22-4fa8-ba13-5794a8386e9e');\n",
       "var x = new MutationObserver(function (mutations, observer) {{\n",
       "        var display = window.getComputedStyle(gd).display;\n",
       "        if (!display || display === 'none') {{\n",
       "            console.log([gd, 'removed!']);\n",
       "            Plotly.purge(gd);\n",
       "            observer.disconnect();\n",
       "        }}\n",
       "}});\n",
       "\n",
       "// Listen for the removal of the full notebook cells\n",
       "var notebookContainer = gd.closest('#notebook-container');\n",
       "if (notebookContainer) {{\n",
       "    x.observe(notebookContainer, {childList: true});\n",
       "}}\n",
       "\n",
       "// Listen for the clearing of the current output cell\n",
       "var outputEl = gd.closest('.output');\n",
       "if (outputEl) {{\n",
       "    x.observe(outputEl, {childList: true});\n",
       "}}\n",
       "\n",
       "                        })\n",
       "                };\n",
       "                });\n",
       "            </script>\n",
       "        </div>"
      ]
     },
     "metadata": {},
     "output_type": "display_data"
    }
   ],
   "source": [
    "\n",
    "init_notebook_mode(connected=True)\n",
    "data = pd.read_csv('hg.csv')\n",
    "\n",
    "branchTot = []\n",
    "for col in numListOfBranch:\n",
    "    branchTot.append(data[col].sum())\n",
    "N = 100\n",
    "x = numListOfBranch\n",
    "y = branchTot\n",
    "colors = np.random.rand(N)\n",
    "sz = np.random.rand(N)*30\n",
    "\n",
    "fig = go.Figure()\n",
    "fig.add_scatter(x=x,\n",
    "                y=y,\n",
    "                mode='markers',\n",
    "                marker={'size': sz,\n",
    "                        'color': colors,\n",
    "                        'opacity': 0.6,\n",
    "                        'colorscale': 'Viridis'\n",
    "                       });\n",
    "iplot(fig)"
   ]
  },
  {
   "cell_type": "code",
   "execution_count": 48,
   "metadata": {},
   "outputs": [
    {
     "data": {
      "image/svg+xml": [
       "<svg class=\"main-svg\" height=\"500\" viewBox=\"0 0 700 500\" width=\"700\" xmlns=\"http://www.w3.org/2000/svg\" xmlns:xlink=\"http://www.w3.org/1999/xlink\"><rect height=\"500\" style=\"fill: rgb(255, 255, 255); fill-opacity: 1;\" width=\"700\" x=\"0\" y=\"0\"/><defs id=\"defs-5ed448\"><g class=\"clips\"><clipPath class=\"plotclip\" id=\"clip5ed448xyplot\"><rect height=\"320\" width=\"540\"/></clipPath><clipPath class=\"axesclip\" id=\"clip5ed448x\"><rect height=\"500\" width=\"540\" x=\"80\" y=\"0\"/></clipPath><clipPath class=\"axesclip\" id=\"clip5ed448y\"><rect height=\"320\" width=\"700\" x=\"0\" y=\"100\"/></clipPath><clipPath class=\"axesclip\" id=\"clip5ed448xy\"><rect height=\"320\" width=\"540\" x=\"80\" y=\"100\"/></clipPath></g><g class=\"gradients\"/></defs><g class=\"bglayer\"/><g class=\"layer-below\"><g class=\"imagelayer\"/><g class=\"shapelayer\"/></g><g class=\"cartesianlayer\"><g class=\"subplot xy\"><g class=\"layer-subplot\"><g class=\"shapelayer\"/><g class=\"imagelayer\"/></g><g class=\"gridlayer\"><g class=\"x\"/><g class=\"y\"><path class=\"ygrid crisp\" d=\"M80,0h540\" style=\"stroke: rgb(238, 238, 238); stroke-opacity: 1; stroke-width: 1px;\" transform=\"translate(0,380.82)\"/><path class=\"ygrid crisp\" d=\"M80,0h540\" style=\"stroke: rgb(238, 238, 238); stroke-opacity: 1; stroke-width: 1px;\" transform=\"translate(0,341.65)\"/><path class=\"ygrid crisp\" d=\"M80,0h540\" style=\"stroke: rgb(238, 238, 238); stroke-opacity: 1; stroke-width: 1px;\" transform=\"translate(0,302.47)\"/><path class=\"ygrid crisp\" d=\"M80,0h540\" style=\"stroke: rgb(238, 238, 238); stroke-opacity: 1; stroke-width: 1px;\" transform=\"translate(0,263.3)\"/><path class=\"ygrid crisp\" d=\"M80,0h540\" style=\"stroke: rgb(238, 238, 238); stroke-opacity: 1; stroke-width: 1px;\" transform=\"translate(0,224.12)\"/><path class=\"ygrid crisp\" d=\"M80,0h540\" style=\"stroke: rgb(238, 238, 238); stroke-opacity: 1; stroke-width: 1px;\" transform=\"translate(0,184.95)\"/><path class=\"ygrid crisp\" d=\"M80,0h540\" style=\"stroke: rgb(238, 238, 238); stroke-opacity: 1; stroke-width: 1px;\" transform=\"translate(0,145.77)\"/><path class=\"ygrid crisp\" d=\"M80,0h540\" style=\"stroke: rgb(238, 238, 238); stroke-opacity: 1; stroke-width: 1px;\" transform=\"translate(0,106.6)\"/></g></g><g class=\"zerolinelayer\"><path class=\"yzl zl crisp\" d=\"M80,0h540\" style=\"stroke: rgb(68, 68, 68); stroke-opacity: 1; stroke-width: 1px;\" transform=\"translate(0,420)\"/></g><path class=\"xlines-below\"/><path class=\"ylines-below\"/><g class=\"overlines-below\"/><g class=\"xaxislayer-below\"/><g class=\"yaxislayer-below\"/><g class=\"overaxes-below\"/><g class=\"plot\" clip-path=\"url('#clip5ed448xyplot')\" transform=\"translate(80, 100)\"><g class=\"barlayer mlayer\"><g class=\"trace bars\" style=\"opacity: 1;\"><g class=\"points\"><g class=\"point\"><path d=\"M0.6,320V287.09H5.4V320Z\" style=\"vector-effect: non-scaling-stroke; opacity: 0.6; stroke-width: 0px; fill: rgb(72, 32, 113); fill-opacity: 1;\"/></g><g class=\"point\"><path d=\"M6.6,320V312.16H11.4V320Z\" style=\"vector-effect: non-scaling-stroke; opacity: 0.6; stroke-width: 0px; fill: rgb(111, 206, 88); fill-opacity: 1;\"/></g><g class=\"point\"><path d=\"M18.6,320V303.55H23.4V320Z\" style=\"vector-effect: non-scaling-stroke; opacity: 0.6; stroke-width: 0px; fill: rgb(71, 46, 124); fill-opacity: 1;\"/></g><g class=\"point\"><path d=\"M24.6,320V248.7H29.4V320Z\" style=\"vector-effect: non-scaling-stroke; opacity: 0.6; stroke-width: 0px; fill: rgb(31, 157, 137); fill-opacity: 1;\"/></g><g class=\"point\"><path d=\"M66.6,320V282.39H71.4V320Z\" style=\"vector-effect: non-scaling-stroke; opacity: 0.6; stroke-width: 0px; fill: rgb(32, 150, 139); fill-opacity: 1;\"/></g><g class=\"point\"><path d=\"M90.6,320V16H95.4V320Z\" style=\"vector-effect: non-scaling-stroke; opacity: 0.6; stroke-width: 0px; fill: rgb(71, 43, 121); fill-opacity: 1;\"/></g><g class=\"point\"><path d=\"M96.6,320V293.36H101.4V320Z\" style=\"vector-effect: non-scaling-stroke; opacity: 0.6; stroke-width: 0px; fill: rgb(202, 224, 32); fill-opacity: 1;\"/></g><g class=\"point\"><path d=\"M132.6,320V309.03H137.4V320Z\" style=\"vector-effect: non-scaling-stroke; opacity: 0.6; stroke-width: 0px; fill: rgb(56, 88, 140); fill-opacity: 1;\"/></g><g class=\"point\"><path d=\"M138.6,320V238.52H143.4V320Z\" style=\"vector-effect: non-scaling-stroke; opacity: 0.6; stroke-width: 0px; fill: rgb(45, 111, 142); fill-opacity: 1;\"/></g><g class=\"point\"><path d=\"M144.6,320V314.52H149.4V320Z\" style=\"vector-effect: non-scaling-stroke; opacity: 0.6; stroke-width: 0px; fill: rgb(157, 217, 58); fill-opacity: 1;\"/></g><g class=\"point\"><path d=\"M150.6,320V301.98H155.4V320Z\" style=\"vector-effect: non-scaling-stroke; opacity: 0.6; stroke-width: 0px; fill: rgb(57, 86, 139); fill-opacity: 1;\"/></g><g class=\"point\"><path d=\"M168.6,320V303.55H173.4V320Z\" style=\"vector-effect: non-scaling-stroke; opacity: 0.6; stroke-width: 0px; fill: rgb(87, 198, 102); fill-opacity: 1;\"/></g><g class=\"point\"><path d=\"M258.6,320V319.22H263.4V320Z\" style=\"vector-effect: non-scaling-stroke; opacity: 0.6; stroke-width: 0px; fill: rgb(46, 110, 142); fill-opacity: 1;\"/></g><g class=\"point\"><path d=\"M534.6,320V310.6H539.4V320Z\" style=\"vector-effect: non-scaling-stroke; opacity: 0.6; stroke-width: 0px; fill: rgb(33, 163, 134); fill-opacity: 1;\"/></g></g></g></g></g><g class=\"overplot\"/><path class=\"xlines-above crisp\" d=\"M0,0\" style=\"fill: none;\"/><path class=\"ylines-above crisp\" d=\"M0,0\" style=\"fill: none;\"/><g class=\"overlines-above\"/><g class=\"xaxislayer-above\"><g class=\"xtick\"><text style=\"font-family: 'Open Sans', verdana, arial, sans-serif; font-size: 12px; fill: rgb(68, 68, 68); fill-opacity: 1; white-space: pre;\" text-anchor=\"middle\" transform=\"translate(197,0)\" x=\"0\" y=\"433\">420</text></g><g class=\"xtick\"><text style=\"font-family: 'Open Sans', verdana, arial, sans-serif; font-size: 12px; fill: rgb(68, 68, 68); fill-opacity: 1; white-space: pre;\" text-anchor=\"middle\" transform=\"translate(317,0)\" x=\"0\" y=\"433\">440</text></g><g class=\"xtick\"><text style=\"font-family: 'Open Sans', verdana, arial, sans-serif; font-size: 12px; fill: rgb(68, 68, 68); fill-opacity: 1; white-space: pre;\" text-anchor=\"middle\" transform=\"translate(437,0)\" x=\"0\" y=\"433\">460</text></g><g class=\"xtick\"><text style=\"font-family: 'Open Sans', verdana, arial, sans-serif; font-size: 12px; fill: rgb(68, 68, 68); fill-opacity: 1; white-space: pre;\" text-anchor=\"middle\" transform=\"translate(557,0)\" x=\"0\" y=\"433\">480</text></g></g><g class=\"yaxislayer-above\"><g class=\"ytick\"><text style=\"font-family: 'Open Sans', verdana, arial, sans-serif; font-size: 12px; fill: rgb(68, 68, 68); fill-opacity: 1; white-space: pre;\" text-anchor=\"end\" transform=\"translate(0,420)\" x=\"79\" y=\"4.199999999999999\">0</text></g><g class=\"ytick\"><text style=\"font-family: 'Open Sans', verdana, arial, sans-serif; font-size: 12px; fill: rgb(68, 68, 68); fill-opacity: 1; white-space: pre;\" text-anchor=\"end\" transform=\"translate(0,380.82)\" x=\"79\" y=\"4.199999999999999\">50</text></g><g class=\"ytick\"><text style=\"font-family: 'Open Sans', verdana, arial, sans-serif; font-size: 12px; fill: rgb(68, 68, 68); fill-opacity: 1; white-space: pre;\" text-anchor=\"end\" transform=\"translate(0,341.65)\" x=\"79\" y=\"4.199999999999999\">100</text></g><g class=\"ytick\"><text style=\"font-family: 'Open Sans', verdana, arial, sans-serif; font-size: 12px; fill: rgb(68, 68, 68); fill-opacity: 1; white-space: pre;\" text-anchor=\"end\" transform=\"translate(0,302.47)\" x=\"79\" y=\"4.199999999999999\">150</text></g><g class=\"ytick\"><text style=\"font-family: 'Open Sans', verdana, arial, sans-serif; font-size: 12px; fill: rgb(68, 68, 68); fill-opacity: 1; white-space: pre;\" text-anchor=\"end\" transform=\"translate(0,263.3)\" x=\"79\" y=\"4.199999999999999\">200</text></g><g class=\"ytick\"><text style=\"font-family: 'Open Sans', verdana, arial, sans-serif; font-size: 12px; fill: rgb(68, 68, 68); fill-opacity: 1; white-space: pre;\" text-anchor=\"end\" transform=\"translate(0,224.12)\" x=\"79\" y=\"4.199999999999999\">250</text></g><g class=\"ytick\"><text style=\"font-family: 'Open Sans', verdana, arial, sans-serif; font-size: 12px; fill: rgb(68, 68, 68); fill-opacity: 1; white-space: pre;\" text-anchor=\"end\" transform=\"translate(0,184.95)\" x=\"79\" y=\"4.199999999999999\">300</text></g><g class=\"ytick\"><text style=\"font-family: 'Open Sans', verdana, arial, sans-serif; font-size: 12px; fill: rgb(68, 68, 68); fill-opacity: 1; white-space: pre;\" text-anchor=\"end\" transform=\"translate(0,145.77)\" x=\"79\" y=\"4.199999999999999\">350</text></g><g class=\"ytick\"><text style=\"font-family: 'Open Sans', verdana, arial, sans-serif; font-size: 12px; fill: rgb(68, 68, 68); fill-opacity: 1; white-space: pre;\" text-anchor=\"end\" transform=\"translate(0,106.6)\" x=\"79\" y=\"4.199999999999999\">400</text></g></g><g class=\"overaxes-above\"/></g></g><g class=\"polarlayer\"/><g class=\"ternarylayer\"/><g class=\"geolayer\"/><g class=\"pielayer\"/><g class=\"sunburstlayer\"/><g class=\"glimages\"/><defs id=\"topdefs-5ed448\"><g class=\"clips\"/></defs><g class=\"layer-above\"><g class=\"imagelayer\"/><g class=\"shapelayer\"/></g><g class=\"infolayer\"><g class=\"g-gtitle\"/><g class=\"g-xtitle\"/><g class=\"g-ytitle\"/></g></svg>"
      ],
      "text/plain": [
       "<IPython.core.display.SVG object>"
      ]
     },
     "metadata": {},
     "output_type": "display_data"
    }
   ],
   "source": [
    "\n",
    "data = pd.read_csv('hg.csv')\n",
    "\n",
    "branchTot = []\n",
    "for col in numListOfBranch:\n",
    "    branchTot.append(data[col].sum())\n",
    "\n",
    "x = numListOfBranch\n",
    "y = branchTot\n",
    "colors = np.random.rand(N)\n",
    "  \n",
    "data = go.Figure()\n",
    "data.add_bar(x=x,\n",
    "                y=y,\n",
    "                marker={\n",
    "                        'color': colors,\n",
    "                        'opacity': 0.6,\n",
    "                        'colorscale': 'Viridis'\n",
    "                       })\n",
    "pio.write_image(data, 'fig1.jpeg')\n",
    "img_bytes = pio.to_image(data, format='svg')\n",
    "pio.write_image(data, 'fig1.webp')\n",
    "display(SVG(img_bytes))"
   ]
  },
  {
   "cell_type": "code",
   "execution_count": 55,
   "metadata": {},
   "outputs": [
    {
     "data": {
      "image/png": "[encoded data removed]",
      "text/plain": [
       "<IPython.core.display.Image object>"
      ]
     },
     "execution_count": 55,
     "metadata": {},
     "output_type": "execute_result"
    }
   ],
   "source": [
    "img_bytes = pio.to_image(data, format='png', width=600, height=400, scale=2)\n",
    "Image(img_bytes)"
   ]
  },
  {
   "cell_type": "code",
   "execution_count": 43,
   "metadata": {},
   "outputs": [
    {
     "data": {
      "image/svg+xml": [
       "<svg class=\"main-svg\" height=\"500\" viewBox=\"0 0 700 500\" width=\"700\" xmlns=\"http://www.w3.org/2000/svg\" xmlns:xlink=\"http://www.w3.org/1999/xlink\"><rect height=\"500\" style=\"fill: rgb(255, 255, 255); fill-opacity: 1;\" width=\"700\" x=\"0\" y=\"0\"/><defs id=\"defs-a28ac5\"><g class=\"clips\"><clipPath class=\"plotclip\" id=\"clipa28ac5xyplot\"><rect height=\"320\" width=\"540\"/></clipPath><clipPath class=\"axesclip\" id=\"clipa28ac5x\"><rect height=\"500\" width=\"540\" x=\"80\" y=\"0\"/></clipPath><clipPath class=\"axesclip\" id=\"clipa28ac5y\"><rect height=\"320\" width=\"700\" x=\"0\" y=\"100\"/></clipPath><clipPath class=\"axesclip\" id=\"clipa28ac5xy\"><rect height=\"320\" width=\"540\" x=\"80\" y=\"100\"/></clipPath></g><g class=\"gradients\"/></defs><g class=\"bglayer\"/><g class=\"layer-below\"><g class=\"imagelayer\"/><g class=\"shapelayer\"/></g><g class=\"cartesianlayer\"><g class=\"subplot xy\"><g class=\"layer-subplot\"><g class=\"shapelayer\"/><g class=\"imagelayer\"/></g><g class=\"gridlayer\"><g class=\"x\"/><g class=\"y\"><path class=\"ygrid crisp\" d=\"M80,0h540\" style=\"stroke: rgb(238, 238, 238); stroke-opacity: 1; stroke-width: 1px;\" transform=\"translate(0,380.82)\"/><path class=\"ygrid crisp\" d=\"M80,0h540\" style=\"stroke: rgb(238, 238, 238); stroke-opacity: 1; stroke-width: 1px;\" transform=\"translate(0,341.65)\"/><path class=\"ygrid crisp\" d=\"M80,0h540\" style=\"stroke: rgb(238, 238, 238); stroke-opacity: 1; stroke-width: 1px;\" transform=\"translate(0,302.47)\"/><path class=\"ygrid crisp\" d=\"M80,0h540\" style=\"stroke: rgb(238, 238, 238); stroke-opacity: 1; stroke-width: 1px;\" transform=\"translate(0,263.3)\"/><path class=\"ygrid crisp\" d=\"M80,0h540\" style=\"stroke: rgb(238, 238, 238); stroke-opacity: 1; stroke-width: 1px;\" transform=\"translate(0,224.12)\"/><path class=\"ygrid crisp\" d=\"M80,0h540\" style=\"stroke: rgb(238, 238, 238); stroke-opacity: 1; stroke-width: 1px;\" transform=\"translate(0,184.95)\"/><path class=\"ygrid crisp\" d=\"M80,0h540\" style=\"stroke: rgb(238, 238, 238); stroke-opacity: 1; stroke-width: 1px;\" transform=\"translate(0,145.77)\"/><path class=\"ygrid crisp\" d=\"M80,0h540\" style=\"stroke: rgb(238, 238, 238); stroke-opacity: 1; stroke-width: 1px;\" transform=\"translate(0,106.6)\"/></g></g><g class=\"zerolinelayer\"><path class=\"yzl zl crisp\" d=\"M80,0h540\" style=\"stroke: rgb(68, 68, 68); stroke-opacity: 1; stroke-width: 1px;\" transform=\"translate(0,420)\"/></g><path class=\"xlines-below\"/><path class=\"ylines-below\"/><g class=\"overlines-below\"/><g class=\"xaxislayer-below\"/><g class=\"yaxislayer-below\"/><g class=\"overaxes-below\"/><g class=\"plot\" clip-path=\"url('#clipa28ac5xyplot')\" transform=\"translate(80, 100)\"><g class=\"barlayer mlayer\"><g class=\"trace bars\" style=\"opacity: 1;\"><g class=\"points\"><g class=\"point\"><path d=\"M0.6,320V287.09H5.4V320Z\" style=\"vector-effect: non-scaling-stroke; opacity: 0.6; stroke-width: 0px; fill: rgb(48, 104, 141); fill-opacity: 1;\"/></g><g class=\"point\"><path d=\"M6.6,320V312.16H11.4V320Z\" style=\"vector-effect: non-scaling-stroke; opacity: 0.6; stroke-width: 0px; fill: rgb(67, 62, 133); fill-opacity: 1;\"/></g><g class=\"point\"><path d=\"M18.6,320V303.55H23.4V320Z\" style=\"vector-effect: non-scaling-stroke; opacity: 0.6; stroke-width: 0px; fill: rgb(70, 48, 125); fill-opacity: 1;\"/></g><g class=\"point\"><path d=\"M24.6,320V248.7H29.4V320Z\" style=\"vector-effect: non-scaling-stroke; opacity: 0.6; stroke-width: 0px; fill: rgb(61, 186, 116); fill-opacity: 1;\"/></g><g class=\"point\"><path d=\"M66.6,320V282.39H71.4V320Z\" style=\"vector-effect: non-scaling-stroke; opacity: 0.6; stroke-width: 0px; fill: rgb(42, 121, 142); fill-opacity: 1;\"/></g><g class=\"point\"><path d=\"M90.6,320V16H95.4V320Z\" style=\"vector-effect: non-scaling-stroke; opacity: 0.6; stroke-width: 0px; fill: rgb(71, 43, 121); fill-opacity: 1;\"/></g><g class=\"point\"><path d=\"M96.6,320V293.36H101.4V320Z\" style=\"vector-effect: non-scaling-stroke; opacity: 0.6; stroke-width: 0px; fill: rgb(70, 49, 125); fill-opacity: 1;\"/></g><g class=\"point\"><path d=\"M132.6,320V309.03H137.4V320Z\" style=\"vector-effect: non-scaling-stroke; opacity: 0.6; stroke-width: 0px; fill: rgb(55, 90, 140); fill-opacity: 1;\"/></g><g class=\"point\"><path d=\"M138.6,320V238.52H143.4V320Z\" style=\"vector-effect: non-scaling-stroke; opacity: 0.6; stroke-width: 0px; fill: rgb(172, 220, 49); fill-opacity: 1;\"/></g><g class=\"point\"><path d=\"M144.6,320V314.52H149.4V320Z\" style=\"vector-effect: non-scaling-stroke; opacity: 0.6; stroke-width: 0px; fill: rgb(150, 215, 63); fill-opacity: 1;\"/></g><g class=\"point\"><path d=\"M150.6,320V301.98H155.4V320Z\" style=\"vector-effect: non-scaling-stroke; opacity: 0.6; stroke-width: 0px; fill: rgb(221, 227, 27); fill-opacity: 1;\"/></g><g class=\"point\"><path d=\"M168.6,320V303.55H173.4V320Z\" style=\"vector-effect: non-scaling-stroke; opacity: 0.6; stroke-width: 0px; fill: rgb(55, 183, 119); fill-opacity: 1;\"/></g><g class=\"point\"><path d=\"M258.6,320V319.22H263.4V320Z\" style=\"vector-effect: non-scaling-stroke; opacity: 0.6; stroke-width: 0px; fill: rgb(53, 94, 140); fill-opacity: 1;\"/></g><g class=\"point\"><path d=\"M534.6,320V310.6H539.4V320Z\" style=\"vector-effect: non-scaling-stroke; opacity: 0.6; stroke-width: 0px; fill: rgb(67, 62, 133); fill-opacity: 1;\"/></g></g></g></g></g><g class=\"overplot\"/><path class=\"xlines-above crisp\" d=\"M0,0\" style=\"fill: none;\"/><path class=\"ylines-above crisp\" d=\"M0,0\" style=\"fill: none;\"/><g class=\"overlines-above\"/><g class=\"xaxislayer-above\"><g class=\"xtick\"><text style=\"font-family: 'Open Sans', verdana, arial, sans-serif; font-size: 12px; fill: rgb(68, 68, 68); fill-opacity: 1; white-space: pre;\" text-anchor=\"middle\" transform=\"translate(197,0)\" x=\"0\" y=\"433\">420</text></g><g class=\"xtick\"><text style=\"font-family: 'Open Sans', verdana, arial, sans-serif; font-size: 12px; fill: rgb(68, 68, 68); fill-opacity: 1; white-space: pre;\" text-anchor=\"middle\" transform=\"translate(317,0)\" x=\"0\" y=\"433\">440</text></g><g class=\"xtick\"><text style=\"font-family: 'Open Sans', verdana, arial, sans-serif; font-size: 12px; fill: rgb(68, 68, 68); fill-opacity: 1; white-space: pre;\" text-anchor=\"middle\" transform=\"translate(437,0)\" x=\"0\" y=\"433\">460</text></g><g class=\"xtick\"><text style=\"font-family: 'Open Sans', verdana, arial, sans-serif; font-size: 12px; fill: rgb(68, 68, 68); fill-opacity: 1; white-space: pre;\" text-anchor=\"middle\" transform=\"translate(557,0)\" x=\"0\" y=\"433\">480</text></g></g><g class=\"yaxislayer-above\"><g class=\"ytick\"><text style=\"font-family: 'Open Sans', verdana, arial, sans-serif; font-size: 12px; fill: rgb(68, 68, 68); fill-opacity: 1; white-space: pre;\" text-anchor=\"end\" transform=\"translate(0,420)\" x=\"79\" y=\"4.199999999999999\">0</text></g><g class=\"ytick\"><text style=\"font-family: 'Open Sans', verdana, arial, sans-serif; font-size: 12px; fill: rgb(68, 68, 68); fill-opacity: 1; white-space: pre;\" text-anchor=\"end\" transform=\"translate(0,380.82)\" x=\"79\" y=\"4.199999999999999\">50</text></g><g class=\"ytick\"><text style=\"font-family: 'Open Sans', verdana, arial, sans-serif; font-size: 12px; fill: rgb(68, 68, 68); fill-opacity: 1; white-space: pre;\" text-anchor=\"end\" transform=\"translate(0,341.65)\" x=\"79\" y=\"4.199999999999999\">100</text></g><g class=\"ytick\"><text style=\"font-family: 'Open Sans', verdana, arial, sans-serif; font-size: 12px; fill: rgb(68, 68, 68); fill-opacity: 1; white-space: pre;\" text-anchor=\"end\" transform=\"translate(0,302.47)\" x=\"79\" y=\"4.199999999999999\">150</text></g><g class=\"ytick\"><text style=\"font-family: 'Open Sans', verdana, arial, sans-serif; font-size: 12px; fill: rgb(68, 68, 68); fill-opacity: 1; white-space: pre;\" text-anchor=\"end\" transform=\"translate(0,263.3)\" x=\"79\" y=\"4.199999999999999\">200</text></g><g class=\"ytick\"><text style=\"font-family: 'Open Sans', verdana, arial, sans-serif; font-size: 12px; fill: rgb(68, 68, 68); fill-opacity: 1; white-space: pre;\" text-anchor=\"end\" transform=\"translate(0,224.12)\" x=\"79\" y=\"4.199999999999999\">250</text></g><g class=\"ytick\"><text style=\"font-family: 'Open Sans', verdana, arial, sans-serif; font-size: 12px; fill: rgb(68, 68, 68); fill-opacity: 1; white-space: pre;\" text-anchor=\"end\" transform=\"translate(0,184.95)\" x=\"79\" y=\"4.199999999999999\">300</text></g><g class=\"ytick\"><text style=\"font-family: 'Open Sans', verdana, arial, sans-serif; font-size: 12px; fill: rgb(68, 68, 68); fill-opacity: 1; white-space: pre;\" text-anchor=\"end\" transform=\"translate(0,145.77)\" x=\"79\" y=\"4.199999999999999\">350</text></g><g class=\"ytick\"><text style=\"font-family: 'Open Sans', verdana, arial, sans-serif; font-size: 12px; fill: rgb(68, 68, 68); fill-opacity: 1; white-space: pre;\" text-anchor=\"end\" transform=\"translate(0,106.6)\" x=\"79\" y=\"4.199999999999999\">400</text></g></g><g class=\"overaxes-above\"/></g></g><g class=\"polarlayer\"/><g class=\"ternarylayer\"/><g class=\"geolayer\"/><g class=\"pielayer\"/><g class=\"sunburstlayer\"/><g class=\"glimages\"/><defs id=\"topdefs-a28ac5\"><g class=\"clips\"/></defs><g class=\"layer-above\"><g class=\"imagelayer\"/><g class=\"shapelayer\"/></g><g class=\"infolayer\"><g class=\"g-gtitle\"/><g class=\"g-xtitle\"/><g class=\"g-ytitle\"/></g></svg>"
      ],
      "text/plain": [
       "<IPython.core.display.SVG object>"
      ]
     },
     "metadata": {},
     "output_type": "display_data"
    },
    {
     "name": "stdout",
     "output_type": "stream",
     "text": [
      "Wall time: 60.2 ms\n"
     ]
    }
   ],
   "source": [
    "%%time\n",
    "pio.write_image(data, 'fig1.jpeg')\n",
    "img_bytes = pio.to_image(data, format='svg')\n",
    "\n",
    "display(SVG(img_bytes))"
   ]
  },
  {
   "cell_type": "code",
   "execution_count": 28,
   "metadata": {},
   "outputs": [
    {
     "data": {
      "text/plain": [
       "orca status\n",
       "-----------\n",
       "    state: validated\n",
       "    executable: C:\\ProgramData\\Miniconda3\\orca.CMD\n",
       "    version: 1.2.1\n",
       "    port: None\n",
       "    pid: None\n",
       "    command: None\n"
      ]
     },
     "execution_count": 28,
     "metadata": {},
     "output_type": "execute_result"
    }
   ],
   "source": [
    "pio.orca.shutdown_server()\n",
    "pio.orca.status"
   ]
  },
  {
   "cell_type": "code",
   "execution_count": 27,
   "metadata": {},
   "outputs": [
    {
     "data": {
      "image/svg+xml": [
       "<svg class=\"main-svg\" height=\"500\" viewBox=\"0 0 700 500\" width=\"700\" xmlns=\"http://www.w3.org/2000/svg\" xmlns:xlink=\"http://www.w3.org/1999/xlink\"><rect height=\"500\" style=\"fill: rgb(255, 255, 255); fill-opacity: 1;\" width=\"700\" x=\"0\" y=\"0\"/><defs id=\"defs-952194\"><g class=\"clips\"><clipPath class=\"plotclip\" id=\"clip952194xyplot\"><rect height=\"320\" width=\"540\"/></clipPath><clipPath class=\"axesclip\" id=\"clip952194x\"><rect height=\"500\" width=\"540\" x=\"80\" y=\"0\"/></clipPath><clipPath class=\"axesclip\" id=\"clip952194y\"><rect height=\"320\" width=\"700\" x=\"0\" y=\"100\"/></clipPath><clipPath class=\"axesclip\" id=\"clip952194xy\"><rect height=\"320\" width=\"540\" x=\"80\" y=\"100\"/></clipPath></g><g class=\"gradients\"/></defs><g class=\"bglayer\"/><g class=\"layer-below\"><g class=\"imagelayer\"/><g class=\"shapelayer\"/></g><g class=\"cartesianlayer\"><g class=\"subplot xy\"><g class=\"layer-subplot\"><g class=\"shapelayer\"/><g class=\"imagelayer\"/></g><g class=\"gridlayer\"><g class=\"x\"><path class=\"xgrid crisp\" d=\"M0,100v320\" style=\"stroke: rgb(238, 238, 238); stroke-opacity: 1; stroke-width: 1px;\" transform=\"translate(109.51,0)\"/><path class=\"xgrid crisp\" d=\"M0,100v320\" style=\"stroke: rgb(238, 238, 238); stroke-opacity: 1; stroke-width: 1px;\" transform=\"translate(214.11,0)\"/><path class=\"xgrid crisp\" d=\"M0,100v320\" style=\"stroke: rgb(238, 238, 238); stroke-opacity: 1; stroke-width: 1px;\" transform=\"translate(318.72,0)\"/><path class=\"xgrid crisp\" d=\"M0,100v320\" style=\"stroke: rgb(238, 238, 238); stroke-opacity: 1; stroke-width: 1px;\" transform=\"translate(423.32,0)\"/><path class=\"xgrid crisp\" d=\"M0,100v320\" style=\"stroke: rgb(238, 238, 238); stroke-opacity: 1; stroke-width: 1px;\" transform=\"translate(527.9300000000001,0)\"/></g><g class=\"y\"><path class=\"ygrid crisp\" d=\"M80,0h540\" style=\"stroke: rgb(238, 238, 238); stroke-opacity: 1; stroke-width: 1px;\" transform=\"translate(0,319.05)\"/><path class=\"ygrid crisp\" d=\"M80,0h540\" style=\"stroke: rgb(238, 238, 238); stroke-opacity: 1; stroke-width: 1px;\" transform=\"translate(0,251.54)\"/><path class=\"ygrid crisp\" d=\"M80,0h540\" style=\"stroke: rgb(238, 238, 238); stroke-opacity: 1; stroke-width: 1px;\" transform=\"translate(0,184.01999999999998)\"/><path class=\"ygrid crisp\" d=\"M80,0h540\" style=\"stroke: rgb(238, 238, 238); stroke-opacity: 1; stroke-width: 1px;\" transform=\"translate(0,116.51)\"/></g></g><g class=\"zerolinelayer\"><path class=\"yzl zl crisp\" d=\"M80,0h540\" style=\"stroke: rgb(68, 68, 68); stroke-opacity: 1; stroke-width: 1px;\" transform=\"translate(0,386.57)\"/></g><path class=\"xlines-below\"/><path class=\"ylines-below\"/><g class=\"overlines-below\"/><g class=\"xaxislayer-below\"/><g class=\"yaxislayer-below\"/><g class=\"overaxes-below\"/><g class=\"plot\" clip-path=\"url('#clip952194xyplot')\" transform=\"translate(80, 100)\"><g class=\"scatterlayer mlayer\"><g class=\"trace scatter trace8b419eaf-1668-4763-a30c-c4624f3ee113\" style=\"stroke-miterlimit: 2; opacity: 1;\"><g class=\"fills\"/><g class=\"errorbars\"/><g class=\"lines\"/><g class=\"points\"><path class=\"point\" d=\"M1.2,0A1.2,1.2 0 1,1 0,-1.2A1.2,1.2 0 0,1 1.2,0Z\" style=\"opacity: 0.6; stroke-width: 1px; fill: rgb(71, 17, 99); fill-opacity: 1; stroke: rgb(255, 255, 255); stroke-opacity: 1;\" transform=\"translate(34.74,258.21)\"/><path class=\"point\" d=\"M10.37,0A10.37,10.37 0 1,1 0,-10.37A10.37,10.37 0 0,1 10.37,0Z\" style=\"opacity: 0.6; stroke-width: 1px; fill: rgb(155, 216, 60); fill-opacity: 1; stroke: rgb(255, 255, 255); stroke-opacity: 1;\" transform=\"translate(39.97,279.82)\"/><path class=\"point\" d=\"M6.83,0A6.83,6.83 0 1,1 0,-6.83A6.83,6.83 0 0,1 6.83,0Z\" style=\"opacity: 0.6; stroke-width: 1px; fill: rgb(46, 110, 142); fill-opacity: 1; stroke: rgb(255, 255, 255); stroke-opacity: 1;\" transform=\"translate(50.43,272.39)\"/><path class=\"point\" d=\"M0.11,0A0.11,0.11 0 1,1 0,-0.11A0.11,0.11 0 0,1 0.11,0Z\" style=\"opacity: 0.6; stroke-width: 1px; fill: rgb(167, 219, 52); fill-opacity: 1; stroke: rgb(255, 255, 255); stroke-opacity: 1;\" transform=\"translate(55.66,225.13)\"/><path class=\"point\" d=\"M8.36,0A8.36,8.36 0 1,1 0,-8.36A8.36,8.36 0 0,1 8.36,0Z\" style=\"opacity: 0.6; stroke-width: 1px; fill: rgb(33, 164, 134); fill-opacity: 1; stroke: rgb(255, 255, 255); stroke-opacity: 1;\" transform=\"translate(92.27,254.16)\"/><path class=\"point\" d=\"M6.89,0A6.89,6.89 0 1,1 0,-6.89A6.89,6.89 0 0,1 6.89,0Z\" style=\"opacity: 0.6; stroke-width: 1px; fill: rgb(65, 67, 135); fill-opacity: 1; stroke: rgb(255, 255, 255); stroke-opacity: 1;\" transform=\"translate(113.19,24.61)\"/><path class=\"point\" d=\"M9.56,0A9.56,9.56 0 1,1 0,-9.56A9.56,9.56 0 0,1 9.56,0Z\" style=\"opacity: 0.6; stroke-width: 1px; fill: rgb(52, 97, 141); fill-opacity: 1; stroke: rgb(255, 255, 255); stroke-opacity: 1;\" transform=\"translate(118.42,263.61)\"/><path class=\"point\" d=\"M10.13,0A10.13,10.13 0 1,1 0,-10.13A10.13,10.13 0 0,1 10.13,0Z\" style=\"opacity: 0.6; stroke-width: 1px; fill: rgb(47, 108, 142); fill-opacity: 1; stroke: rgb(255, 255, 255); stroke-opacity: 1;\" transform=\"translate(149.8,277.12)\"/><path class=\"point\" d=\"M10.63,0A10.63,10.63 0 1,1 0,-10.63A10.63,10.63 0 0,1 10.63,0Z\" style=\"opacity: 0.6; stroke-width: 1px; fill: rgb(134, 212, 74); fill-opacity: 1; stroke: rgb(255, 255, 255); stroke-opacity: 1;\" transform=\"translate(155.03,216.35)\"/><path class=\"point\" d=\"M10.66,0A10.66,10.66 0 1,1 0,-10.66A10.66,10.66 0 0,1 10.66,0Z\" style=\"opacity: 0.6; stroke-width: 1px; fill: rgb(57, 185, 118); fill-opacity: 1; stroke: rgb(255, 255, 255); stroke-opacity: 1;\" transform=\"translate(160.26,281.84)\"/><path class=\"point\" d=\"M8.98,0A8.98,8.98 0 1,1 0,-8.98A8.98,8.98 0 0,1 8.98,0Z\" style=\"opacity: 0.6; stroke-width: 1px; fill: rgb(31, 159, 136); fill-opacity: 1; stroke: rgb(255, 255, 255); stroke-opacity: 1;\" transform=\"translate(165.49,271.04)\"/><path class=\"point\" d=\"M8.35,0A8.35,8.35 0 1,1 0,-8.35A8.35,8.35 0 0,1 8.35,0Z\" style=\"opacity: 0.6; stroke-width: 1px; fill: rgb(33, 147, 139); fill-opacity: 1; stroke: rgb(255, 255, 255); stroke-opacity: 1;\" transform=\"translate(181.18,272.39)\"/><path class=\"point\" d=\"M14.48,0A14.48,14.48 0 1,1 0,-14.48A14.48,14.48 0 0,1 14.48,0Z\" style=\"opacity: 0.6; stroke-width: 1px; fill: rgb(33, 144, 140); fill-opacity: 1; stroke: rgb(255, 255, 255); stroke-opacity: 1;\" transform=\"translate(259.64,285.89)\"/><path class=\"point\" d=\"M10.22,0A10.22,10.22 0 1,1 0,-10.22A10.22,10.22 0 0,1 10.22,0Z\" style=\"opacity: 0.6; stroke-width: 1px; fill: rgb(72, 27, 108); fill-opacity: 1; stroke: rgb(255, 255, 255); stroke-opacity: 1;\" transform=\"translate(500.23,278.47)\"/></g><g class=\"text\"/></g></g></g><g class=\"overplot\"/><path class=\"xlines-above crisp\" d=\"M0,0\" style=\"fill: none;\"/><path class=\"ylines-above crisp\" d=\"M0,0\" style=\"fill: none;\"/><g class=\"overlines-above\"/><g class=\"xaxislayer-above\"><g class=\"xtick\"><text style=\"font-family: 'Open Sans', verdana, arial, sans-serif; font-size: 12px; fill: rgb(68, 68, 68); fill-opacity: 1; white-space: pre;\" text-anchor=\"middle\" transform=\"translate(109.51,0)\" x=\"0\" y=\"433\">400</text></g><g class=\"xtick\"><text style=\"font-family: 'Open Sans', verdana, arial, sans-serif; font-size: 12px; fill: rgb(68, 68, 68); fill-opacity: 1; white-space: pre;\" text-anchor=\"middle\" transform=\"translate(214.11,0)\" x=\"0\" y=\"433\">420</text></g><g class=\"xtick\"><text style=\"font-family: 'Open Sans', verdana, arial, sans-serif; font-size: 12px; fill: rgb(68, 68, 68); fill-opacity: 1; white-space: pre;\" text-anchor=\"middle\" transform=\"translate(318.72,0)\" x=\"0\" y=\"433\">440</text></g><g class=\"xtick\"><text style=\"font-family: 'Open Sans', verdana, arial, sans-serif; font-size: 12px; fill: rgb(68, 68, 68); fill-opacity: 1; white-space: pre;\" text-anchor=\"middle\" transform=\"translate(423.32,0)\" x=\"0\" y=\"433\">460</text></g><g class=\"xtick\"><text style=\"font-family: 'Open Sans', verdana, arial, sans-serif; font-size: 12px; fill: rgb(68, 68, 68); fill-opacity: 1; white-space: pre;\" text-anchor=\"middle\" transform=\"translate(527.9300000000001,0)\" x=\"0\" y=\"433\">480</text></g></g><g class=\"yaxislayer-above\"><g class=\"ytick\"><text style=\"font-family: 'Open Sans', verdana, arial, sans-serif; font-size: 12px; fill: rgb(68, 68, 68); fill-opacity: 1; white-space: pre;\" text-anchor=\"end\" transform=\"translate(0,386.57)\" x=\"79\" y=\"4.199999999999999\">0</text></g><g class=\"ytick\"><text style=\"font-family: 'Open Sans', verdana, arial, sans-serif; font-size: 12px; fill: rgb(68, 68, 68); fill-opacity: 1; white-space: pre;\" text-anchor=\"end\" transform=\"translate(0,319.05)\" x=\"79\" y=\"4.199999999999999\">100</text></g><g class=\"ytick\"><text style=\"font-family: 'Open Sans', verdana, arial, sans-serif; font-size: 12px; fill: rgb(68, 68, 68); fill-opacity: 1; white-space: pre;\" text-anchor=\"end\" transform=\"translate(0,251.54)\" x=\"79\" y=\"4.199999999999999\">200</text></g><g class=\"ytick\"><text style=\"font-family: 'Open Sans', verdana, arial, sans-serif; font-size: 12px; fill: rgb(68, 68, 68); fill-opacity: 1; white-space: pre;\" text-anchor=\"end\" transform=\"translate(0,184.01999999999998)\" x=\"79\" y=\"4.199999999999999\">300</text></g><g class=\"ytick\"><text style=\"font-family: 'Open Sans', verdana, arial, sans-serif; font-size: 12px; fill: rgb(68, 68, 68); fill-opacity: 1; white-space: pre;\" text-anchor=\"end\" transform=\"translate(0,116.51)\" x=\"79\" y=\"4.199999999999999\">400</text></g></g><g class=\"overaxes-above\"/></g></g><g class=\"polarlayer\"/><g class=\"ternarylayer\"/><g class=\"geolayer\"/><g class=\"pielayer\"/><g class=\"sunburstlayer\"/><g class=\"glimages\"/><defs id=\"topdefs-952194\"><g class=\"clips\"/></defs><g class=\"layer-above\"><g class=\"imagelayer\"/><g class=\"shapelayer\"/></g><g class=\"infolayer\"><g class=\"g-gtitle\"/><g class=\"g-xtitle\"/><g class=\"g-ytitle\"/></g></svg>"
      ],
      "text/plain": [
       "<IPython.core.display.SVG object>"
      ]
     },
     "metadata": {},
     "output_type": "display_data"
    }
   ],
   "source": []
  },
  {
   "cell_type": "code",
   "execution_count": null,
   "metadata": {},
   "outputs": [],
   "source": []
  }
 ],
 "metadata": {
  "kernelspec": {
   "display_name": "Python 3",
   "language": "python",
   "name": "python3"
  },
  "language_info": {
   "codemirror_mode": {
    "name": "ipython",
    "version": 3
   },
   "file_extension": ".py",
   "mimetype": "text/x-python",
   "name": "python",
   "nbconvert_exporter": "python",
   "pygments_lexer": "ipython3",
   "version": "3.6.7"
  }
 },
 "nbformat": 4,
 "nbformat_minor": 2
}
