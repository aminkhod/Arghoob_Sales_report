{
 "cells": [
  {
   "cell_type": "code",
   "execution_count": null,
   "metadata": {},
   "outputs": [],
   "source": [
    "VALID_USERNAME_PASSWORD_PAIRS = [\n",
    "    ['123', '123']\n",
    "]"
   ]
  },
  {
   "cell_type": "code",
   "execution_count": null,
   "metadata": {},
   "outputs": [],
   "source": [
    "app = dash.Dash('auth')\n",
    "auth = dash_auth.BasicAuth(\n",
    "    app,\n",
    "    VALID_USERNAME_PASSWORD_PAIRS\n",
    ")"
   ]
  },
  {
   "cell_type": "code",
   "execution_count": 15,
   "metadata": {},
   "outputs": [],
   "source": [
    "import pandas as pd\n",
    "import numpy as np\n",
    "import os\n",
    "import plotly.graph_objs as go\n",
    "\n",
    "import plotly.plotly as py\n",
    "import plotly.figure_factory as ff\n",
    "import dash\n",
    "import dash_core_components as dcc\n",
    "import dash_html_components as html\n",
    "from  plotly.offline import plot\n",
    "import plotly\n",
    "import colorlover as cl"
   ]
  },
  {
   "cell_type": "code",
   "execution_count": 22,
   "metadata": {
    "scrolled": true
   },
   "outputs": [],
   "source": [
    "numListOfBranch = ['401 Co','402 Co','404 Co','405 Co','412 Co','416 Co','417 Co','423 Co',\n",
    "                   '424 Co','425 Co','426 Co','429 Co','444 Co','490 Co',]\n",
    "listOfBranch = ['401 Co', '401.VMS cost', '401.V.S.P.', '401.AVG. WEEK',\n",
    "                '402 Co', '402.VMS cost', '402.V.S.P.', '402.AVG. WEEK',\n",
    "                '404 Co', '404.VMS cost', '404.V.S.P.', '404.AVG. WEEK',\n",
    "                '405 Co', '405.VMS cost', '405.V.S.P.', '405.AVG. WEEK',\n",
    "                '412 Co', '412.VMS cost', '412.V.S.P.', '412.AVG. WEEK',\n",
    "                '416 Co', '416.VMS cost', '416.V.S.P.', '416.AVG. WEEK',\n",
    "                '417 Co', '417.VMS cost', '417.V.S.P.', '417.AVG. WEEK',\n",
    "                '423 Co', '423.VMS cost', '423.V.S.P.', '423.AVG. WEEK',\n",
    "                '424 Co', '424.VMS cost', '424.V.S.P.', '424.AVG. WEEK',\n",
    "                '425 Co', '425.VMS cost', '425.V.S.P.', '425.AVG. WEEK',\n",
    "                '426 Co', '426.VMS cost', '426.V.S.P.', '426.AVG. WEEK',\n",
    "                '429 Co', '429.VMS cost', '429.V.S.P.', '429.AVG. WEEK',\n",
    "                '444 Co', '444.VMS cost', '444.V.S.P.', '444.AVG. WEEK',\n",
    "                '490 Co', '490.VMS cost', '490.V.S.P.', '490.AVG. WEEK']\n",
    "\n",
    "productDetail = ['Sku', 'UPC', 'Catalogue N', 'Title', 'Label' ,'Cost Price' ,'V.S.P.']\n",
    "header = productDetail.copy()\n",
    "header.extend(listOfBranch.copy())\n"
   ]
  },
  {
   "cell_type": "code",
   "execution_count": 27,
   "metadata": {},
   "outputs": [],
   "source": [
    "df = pd.read_csv('toalOfMonth.csv')\n",
    "\n",
    "branchTot = []\n",
    "for col in numListOfBranch:\n",
    "    branchTot.append(df[col].sum())"
   ]
  },
  {
   "cell_type": "code",
   "execution_count": null,
   "metadata": {},
   "outputs": [],
   "source": [
    "\n",
    "\n",
    "app = dash.Dash(__name__)\n",
    "server = app.server\n",
    "\n",
    "trace = go.Table(\n",
    "    header=dict(values=numListOfBranch,\n",
    "                line = dict(color='#7D7F80'),\n",
    "                fill = dict(color='#a1c3d1'),\n",
    "                align = ['left'] * 5),\n",
    "    cells=dict(values=branchTot,\n",
    "               line = dict(color='#7D7F80'),\n",
    "               fill = dict(color='#EDFAFF'),\n",
    "               align = ['left'] * 5))\n",
    "data = [trace]\n",
    "\n",
    "app.layout = html.Div([\n",
    "    dcc.Graph(\n",
    "        id='Sales-Of-Each-Branches',\n",
    "        figure={\n",
    "            'data': [\n",
    "                go.Bar(\n",
    "                    x=numListOfBranch,\n",
    "                    y=branchTot,\n",
    "#                     text=df[df['continent'] == i]['country'],\n",
    "#                     mode='markers',\n",
    "                    opacity=0.8,\n",
    "                    marker={\n",
    "#                         'size': 15,\n",
    "                        'line': {'width': 0.5, 'color': 'white'}\n",
    "                    },\n",
    "                    name='Total Sale')\n",
    "#                 ) for i in numListOfBranch\n",
    "            ],\n",
    "            'layout': go.Layout(\n",
    "                xaxis={'type': 'log', 'title': 'Branches'},\n",
    "                yaxis={'title': 'Sale'},\n",
    "                margin={'l': 40, 'b': 40, 't': 10, 'r': 10},\n",
    "                legend={'x': 0, 'y': 1},\n",
    "                hovermode='closest'\n",
    "            )\n",
    "        }\n",
    "    )\n",
    "])\n",
    "\n",
    "if __name__ == '__main__':\n",
    "    app.run_server()"
   ]
  },
  {
   "cell_type": "code",
   "execution_count": 28,
   "metadata": {},
   "outputs": [
    {
     "data": {
      "text/plain": [
       "'basic_table.html'"
      ]
     },
     "execution_count": 28,
     "metadata": {},
     "output_type": "execute_result"
    }
   ],
   "source": [
    "\n",
    "\n",
    "trace = go.Table(\n",
    "    header=dict(values=numListOfBranch),\n",
    "    cells=dict(values=branchTot))\n",
    "\n",
    "data = [trace] \n",
    "plot(data, filename = 'basic_table')"
   ]
  },
  {
   "cell_type": "code",
   "execution_count": 29,
   "metadata": {},
   "outputs": [
    {
     "name": "stderr",
     "output_type": "stream",
     "text": [
      "c:\\program files\\python36\\lib\\site-packages\\plotly\\offline\\offline.py:526: UserWarning:\n",
      "\n",
      "Your filename `styled_table` didn't end with .html. Adding .html to the end of your file.\n",
      "\n"
     ]
    },
    {
     "data": {
      "text/plain": [
       "'styled_table.html'"
      ]
     },
     "execution_count": 29,
     "metadata": {},
     "output_type": "execute_result"
    }
   ],
   "source": [
    "trace = go.Table(\n",
    "    header=dict(values=numListOfBranch,\n",
    "                line = dict(color='#7D7F80'),\n",
    "                fill = dict(color='#a1c3d1'),\n",
    "                align = ['left'] * 5),\n",
    "    cells=dict(values=branchTot,\n",
    "               line = dict(color='#7D7F80'),\n",
    "               fill = dict(color='#EDFAFF'),\n",
    "               align = ['left'] * 5))\n",
    "data = [trace]\n",
    "layout = dict(width=1000, height=600)\n",
    "\n",
    "fig = dict(data=data, layout=layout)\n",
    "plot(fig, filename = 'styled_table')"
   ]
  },
  {
   "cell_type": "code",
   "execution_count": 30,
   "metadata": {
    "scrolled": true
   },
   "outputs": [
    {
     "name": "stderr",
     "output_type": "stream",
     "text": [
      "c:\\program files\\python36\\lib\\site-packages\\plotly\\offline\\offline.py:526: UserWarning:\n",
      "\n",
      "Your filename `pandas_table` didn't end with .html. Adding .html to the end of your file.\n",
      "\n"
     ]
    },
    {
     "data": {
      "text/plain": [
       "'pandas_table.html'"
      ]
     },
     "execution_count": 30,
     "metadata": {},
     "output_type": "execute_result"
    }
   ],
   "source": [
    "df = pd.read_csv('toalOfMonth.csv')\n",
    "\n",
    "trace = go.Table(\n",
    "    header=dict(values=list(numListOfBranch),\n",
    "                fill = dict(color='#C2D4FF'),\n",
    "                align = ['left'] * len(branchTot)),\n",
    "                cells=dict(values=branchTot,\n",
    "                fill = dict(color='#F5F8FF'),\n",
    "                align = ['left'] * len(branchTot)))\n",
    "\n",
    "data = [trace] \n",
    "plot(data, filename = 'pandas_table')"
   ]
  },
  {
   "cell_type": "code",
   "execution_count": 33,
   "metadata": {},
   "outputs": [
    {
     "name": "stdout",
     "output_type": "stream",
     "text": [
      "14\n"
     ]
    },
    {
     "name": "stderr",
     "output_type": "stream",
     "text": [
      "c:\\program files\\python36\\lib\\site-packages\\plotly\\offline\\offline.py:526: UserWarning:\n",
      "\n",
      "Your filename `row variable color` didn't end with .html. Adding .html to the end of your file.\n",
      "\n"
     ]
    },
    {
     "data": {
      "text/plain": [
       "'row variable color.html'"
      ]
     },
     "execution_count": 33,
     "metadata": {},
     "output_type": "execute_result"
    }
   ],
   "source": [
    "\n",
    "colors = cl.scales['7']['seq']['Blues']\n",
    "len(colors)\n",
    "\n",
    "print(len(colors))\n",
    "\n",
    "data = {'Branch' : list(numListOfBranch),\n",
    "        'Total' : list(branchTot),\n",
    "        'Color' : list(colors[:14])}\n",
    "df = pd.DataFrame(data)\n",
    "\n",
    "\n",
    "trace0 = go.Table(\n",
    "  header = dict(\n",
    "    values = [\"Total Sale\", \"<b>Branch</b>\"],\n",
    "    line = dict(color = 'white'),\n",
    "    fill = dict(color = 'white'),\n",
    "    align = ['center'],\n",
    "    font = dict(color = 'black', size = 12)\n",
    "  ),\n",
    "  cells = dict(\n",
    "    values = [df.Total, df.Branch],\n",
    "    line = dict(color = [df.Color]),\n",
    "    fill = dict(color = [df.Color]),\n",
    "    align = 'center',\n",
    "    font = dict(color = 'black', size = 11)\n",
    "    ))\n",
    "\n",
    "data = [trace0]\n",
    "\n",
    "plot(data, filename = \"row variable color\")"
   ]
  },
  {
   "cell_type": "code",
   "execution_count": 37,
   "metadata": {},
   "outputs": [
    {
     "name": "stderr",
     "output_type": "stream",
     "text": [
      "c:\\program files\\python36\\lib\\site-packages\\plotly\\offline\\offline.py:526: UserWarning:\n",
      "\n",
      "Your filename `jupyter-basic_bar` didn't end with .html. Adding .html to the end of your file.\n",
      "\n"
     ]
    },
    {
     "data": {
      "text/plain": [
       "'jupyter-basic_bar.html'"
      ]
     },
     "execution_count": 37,
     "metadata": {},
     "output_type": "execute_result"
    }
   ],
   "source": [
    "\n",
    "data = pd.read_csv('toalOfMonth.csv')\n",
    "\n",
    "branchTot = []\n",
    "for col in numListOfBranch:\n",
    "    branchTot.append(data[col].sum())\n",
    "    \n",
    "data = [go.Bar(x=numListOfBranch,\n",
    "            y=branchTot)]\n",
    "\n",
    "\n",
    "plot(data, filename='jupyter-basic_bar')"
   ]
  },
  {
   "cell_type": "code",
   "execution_count": 38,
   "metadata": {},
   "outputs": [
    {
     "data": {
      "text/plain": [
       "'temp-plot.html'"
      ]
     },
     "execution_count": 38,
     "metadata": {},
     "output_type": "execute_result"
    }
   ],
   "source": [
    "\n",
    "\n",
    "data = pd.read_csv('toalOfMonth.csv')\n",
    "\n",
    "branchTot = []\n",
    "for col in numListOfBranch:\n",
    "    branchTot.append(data[col].sum())\n",
    "N = 100\n",
    "x = numListOfBranch\n",
    "y = branchTot\n",
    "colors = np.random.rand(N)\n",
    "sz = np.random.rand(N)*30\n",
    "\n",
    "fig = go.Figure()\n",
    "fig.add_scatter(x=x,\n",
    "                y=y,\n",
    "                mode='markers',\n",
    "                marker={'size': sz,\n",
    "                        'color': colors,\n",
    "                        'opacity': 0.6,\n",
    "                        'colorscale': 'Viridis'\n",
    "                       });\n",
    "plot(fig)"
   ]
  },
  {
   "cell_type": "code",
   "execution_count": 40,
   "metadata": {},
   "outputs": [],
   "source": [
    "\n",
    "# data = pd.read_csv('toalOfMonth.csv')\n",
    "\n",
    "# branchTot = []\n",
    "# for col in numListOfBranch:\n",
    "#     branchTot.append(data[col].sum())\n",
    "\n",
    "# x = numListOfBranch\n",
    "# y = branchTot\n",
    "# colors = np.random.rand(N)\n",
    "  \n",
    "# data = go.Figure()\n",
    "# data.add_bar(x=x,\n",
    "#                 y=y,\n",
    "#                 marker={\n",
    "#                         'color': colors,\n",
    "#                         'opacity': 0.6,\n",
    "#                         'colorscale': 'Viridis'\n",
    "#                        })\n",
    "# pio.write_image(data, 'fig1.jpeg')\n",
    "# img_bytes = pio.to_image(data, format='svg')\n",
    "# pio.write_image(data, 'fig1.webp')\n",
    "# display(SVG(img_bytes))"
   ]
  },
  {
   "cell_type": "code",
   "execution_count": 42,
   "metadata": {},
   "outputs": [],
   "source": [
    "# img_bytes = pio.to_image(data, format='png', width=600, height=400, scale=2)\n",
    "# Image(img_bytes)"
   ]
  },
  {
   "cell_type": "code",
   "execution_count": 43,
   "metadata": {},
   "outputs": [],
   "source": [
    "# %%time\n",
    "# pio.write_image(data, 'fig1.jpeg')\n",
    "# img_bytes = pio.to_image(data, format='svg')\n",
    "\n",
    "# display(SVG(img_bytes))"
   ]
  },
  {
   "cell_type": "code",
   "execution_count": 44,
   "metadata": {},
   "outputs": [],
   "source": [
    "\n",
    "# df = pd.read_csv(\"https://raw.githubusercontent.com/plotly/datasets/master/school_earnings.csv\")\n",
    "\n",
    "# trace_women = go.Bar(x=df.School,\n",
    "#                   y=df.Women,\n",
    "#                   name='Women',\n",
    "#                   marker=dict(color='#ffcdd2'))\n",
    "\n",
    "# trace_men = go.Bar(x=df.School,\n",
    "#                 y=df.Men,\n",
    "#                 name='Men',\n",
    "#                 marker=dict(color='#A2D5F2'))\n",
    "\n",
    "# trace_gap = go.Bar(x=df.School,\n",
    "#                 y=df.Gap,\n",
    "#                 name='Gap',\n",
    "#                 marker=dict(color='#59606D'))\n",
    "\n",
    "# data = [trace_women, trace_men, trace_gap]\n",
    "\n",
    "# layout = go.Layout(title=\"Average Earnings for Graduates\",\n",
    "#                 xaxis=dict(title='School'),\n",
    "#                 yaxis=dict(title='Salary (in thousands)'))\n",
    "\n",
    "# fig = go.Figure(data=data, layout=layout)\n",
    "\n",
    "# plot(fig, sharing='private', filename='jupyter-styled_bar')"
   ]
  },
  {
   "cell_type": "code",
   "execution_count": 45,
   "metadata": {
    "scrolled": true
   },
   "outputs": [],
   "source": [
    "\n",
    "# mapbox_access_token = 'dfg'\n",
    "\n",
    "# df = pd.read_csv('https://raw.githubusercontent.com/plotly/datasets/master/Nuclear%20Waste%20Sites%20on%20American%20Campuses.csv')\n",
    "# site_lat = df.lat\n",
    "# site_lon = df.lon\n",
    "# locations_name = df.text\n",
    "\n",
    "# data = [\n",
    "#     go.Scattermapbox(\n",
    "#         lat=site_lat,\n",
    "#         lon=site_lon,\n",
    "#         mode='markers',\n",
    "#         marker=dict(\n",
    "#             size=17,\n",
    "#             color='rgb(255, 0, 0)',\n",
    "#             opacity=0.7\n",
    "#         ),\n",
    "#         text=locations_name,\n",
    "#         hoverinfo='text'\n",
    "#     ),\n",
    "#     go.Scattermapbox(\n",
    "#         lat=site_lat,\n",
    "#         lon=site_lon,\n",
    "#         mode='markers',\n",
    "#         marker=dict(\n",
    "#             size=8,\n",
    "#             color='rgb(242, 177, 172)',\n",
    "#             opacity=0.7\n",
    "#         ),\n",
    "#         hoverinfo='none'\n",
    "#     )]\n",
    "\n",
    "\n",
    "# layout = go.Layout(\n",
    "#     title='Nuclear Waste Sites on Campus',\n",
    "#     autosize=True,\n",
    "#     hovermode='closest',\n",
    "#     showlegend=False,\n",
    "#     mapbox=dict(\n",
    "#         accesstoken=mapbox_access_token,\n",
    "#         bearing=0,\n",
    "#         center=dict(\n",
    "#             lat=38,\n",
    "#             lon=-94\n",
    "#         ),\n",
    "#         pitch=0,\n",
    "#         zoom=3,\n",
    "#         style='light'\n",
    "#     ),\n",
    "# )\n",
    "\n",
    "# fig = dict(data=data, layout=layout)\n",
    "\n",
    "# plot(fig, filename='jupyter-Nuclear Waste Sites on American Campuses')"
   ]
  },
  {
   "cell_type": "code",
   "execution_count": 46,
   "metadata": {},
   "outputs": [],
   "source": [
    "\n",
    "# s = np.linspace(0, 2 * np.pi, 240)\n",
    "# t = np.linspace(0, np.pi, 240)\n",
    "# tGrid, sGrid = np.meshgrid(s, t)\n",
    "\n",
    "# r = 2 + np.sin(7 * sGrid + 5 * tGrid)  # r = 2 + sin(7s+5t)\n",
    "# x = r * np.cos(sGrid) * np.sin(tGrid)  # x = r*cos(s)*sin(t)\n",
    "# y = r * np.sin(sGrid) * np.sin(tGrid)  # y = r*sin(s)*sin(t)\n",
    "# z = r * np.cos(tGrid)                  # z = r*cos(t)\n",
    "\n",
    "# surface = go.Surface(x=x, y=y, z=z)\n",
    "# data = [surface]\n",
    "\n",
    "# layout = go.Layout(\n",
    "#     title='Parametric Plot',\n",
    "#     scene=dict(\n",
    "#         xaxis=dict(\n",
    "#             gridcolor='rgb(255, 255, 255)',\n",
    "#             zerolinecolor='rgb(255, 255, 255)',\n",
    "#             showbackground=True,\n",
    "#             backgroundcolor='rgb(230, 230,230)'\n",
    "#         ),\n",
    "#         yaxis=dict(\n",
    "#             gridcolor='rgb(255, 255, 255)',\n",
    "#             zerolinecolor='rgb(255, 255, 255)',\n",
    "#             showbackground=True,\n",
    "#             backgroundcolor='rgb(230, 230,230)'\n",
    "#         ),\n",
    "#         zaxis=dict(\n",
    "#             gridcolor='rgb(255, 255, 255)',\n",
    "#             zerolinecolor='rgb(255, 255, 255)',\n",
    "#             showbackground=True,\n",
    "#             backgroundcolor='rgb(230, 230,230)'\n",
    "#         )\n",
    "#     )\n",
    "# )\n",
    "\n",
    "# fig = go.Figure(data=data, layout=layout)\n",
    "# plot(fig, filename='jupyter-parametric_plot')"
   ]
  },
  {
   "cell_type": "code",
   "execution_count": 47,
   "metadata": {},
   "outputs": [],
   "source": [
    "\n",
    "\n",
    "# data = [dict(\n",
    "#         visible = False,\n",
    "#         line=dict(color='#00CED1', width=6),\n",
    "#         name = '𝜈 = '+str(step),\n",
    "#         x = np.arange(0,10,0.01),\n",
    "#         y = np.sin(step*np.arange(0,10,0.01))) for step in np.arange(0,5,0.1)]\n",
    "# data[10]['visible'] = True\n",
    "\n",
    "# steps = []\n",
    "# for i in range(len(data)):\n",
    "#     step = dict(\n",
    "#         method = 'restyle',\n",
    "#         args = ['visible', [False] * len(data)],\n",
    "#     )\n",
    "#     step['args'][1][i] = True # Toggle i'th trace to \"visible\"\n",
    "#     steps.append(step)\n",
    "\n",
    "# sliders = [dict(\n",
    "#     active = 10,\n",
    "#     currentvalue = {\"prefix\": \"Frequency: \"},\n",
    "#     pad = {\"t\": 50},\n",
    "#     steps = steps\n",
    "# )]\n",
    "\n",
    "# layout = dict(sliders=sliders)\n",
    "# fig = dict(data=data, layout=layout)\n",
    "\n",
    "# plot(fig, filename='Sine Wave Slider')"
   ]
  },
  {
   "cell_type": "code",
   "execution_count": 48,
   "metadata": {},
   "outputs": [],
   "source": [
    "\n",
    "\n",
    "# YouTubeVideo(\"wupToqz1e2g\")\n",
    "# # YouTubeVideo('')"
   ]
  },
  {
   "cell_type": "code",
   "execution_count": 49,
   "metadata": {},
   "outputs": [],
   "source": [
    "\n",
    "\n",
    "\n",
    "# display(Math(r'F(k) = \\int_{-\\infty}^{\\infty} f(x) e^{2\\pi i k} dx'))"
   ]
  },
  {
   "cell_type": "code",
   "execution_count": 50,
   "metadata": {},
   "outputs": [],
   "source": [
    "# IFrame(src= \"https://dash-simple-apps.plotly.host/dash-tableplot/\", width=\"100%\", height=\"850px\", frameBorder=\"0\")"
   ]
  },
  {
   "cell_type": "code",
   "execution_count": 51,
   "metadata": {},
   "outputs": [],
   "source": [
    "\n",
    "# IFrame(src= \"https://dash-simple-apps.plotly.host/dash-tableplot/code\", width=\"100%\", height=500, frameBorder=\"0\")"
   ]
  },
  {
   "cell_type": "code",
   "execution_count": 52,
   "metadata": {},
   "outputs": [],
   "source": [
    "# toalOfMonth = pd.read_csv('toalOfMonth.csv')\n",
    "\n",
    "# branchTot = []\n",
    "# for col in numListOfBranch:\n",
    "#     branchTot.append(toalOfMonth[col].sum())\n",
    "    \n",
    "# np.random.seed(42)\n",
    "# random_x = np.random.randint(1,101,100)\n",
    "# random_y = np.random.randint(1,101,100)"
   ]
  },
  {
   "cell_type": "code",
   "execution_count": 53,
   "metadata": {},
   "outputs": [
    {
     "name": "stderr",
     "output_type": "stream",
     "text": [
      "c:\\program files\\python36\\lib\\site-packages\\plotly\\offline\\offline.py:526: UserWarning:\n",
      "\n",
      "Your filename `sale distribution of each branch` didn't end with .html. Adding .html to the end of your file.\n",
      "\n"
     ]
    },
    {
     "data": {
      "text/plain": [
       "'sale distribution of each branch.html'"
      ]
     },
     "execution_count": 53,
     "metadata": {},
     "output_type": "execute_result"
    }
   ],
   "source": [
    "data = [go.Box(y = branchTot, name = 'sale distribution',\n",
    "               marker = dict(\n",
    "                   size = 12,\n",
    "                   color = 'rgb(120,56,98)',\n",
    "                   symbol = 'pentagon',\n",
    "                   line = {'width':2}\n",
    "               ),\n",
    "               boxmean=True, boxpoints = 'all')]\n",
    "# boxmean = 'sd'\n",
    "# boxpoints = 'outliers'\n",
    "# boxpoints = 'suspectedoutliers\n",
    "# boxpoints = False\n",
    "\n",
    "layout = go.Layout(\n",
    "    title = \"sale distribution\",\n",
    "    xaxis = {'title':''},\n",
    "    yaxis = dict(title = 'sale values'),\n",
    "    hovermode = 'closest'\n",
    ")\n",
    "\n",
    "fig = go.Figure(data=data,layout=layout)\n",
    "plot(fig, filename = \"sale distribution of each branch\")\n"
   ]
  },
  {
   "cell_type": "code",
   "execution_count": 54,
   "metadata": {},
   "outputs": [
    {
     "name": "stderr",
     "output_type": "stream",
     "text": [
      "c:\\program files\\python36\\lib\\site-packages\\plotly\\offline\\offline.py:526: UserWarning:\n",
      "\n",
      "Your filename `sale amount of each branch` didn't end with .html. Adding .html to the end of your file.\n",
      "\n"
     ]
    },
    {
     "data": {
      "text/plain": [
       "'sale amount of each branch.html'"
      ]
     },
     "execution_count": 54,
     "metadata": {},
     "output_type": "execute_result"
    }
   ],
   "source": [
    "data = [go.Bar(x = numListOfBranch, y = branchTot,\n",
    "               marker = dict(\n",
    "                   color = 'rgb(18,95,200)',\n",
    "                   line = {'width':2}\n",
    "               ))]\n",
    "\n",
    "layout = go.Layout(\n",
    "    title = \"sale distribution\",\n",
    "    xaxis = {'title':'Branches'},\n",
    "    yaxis = dict(title = 'sale values'),\n",
    "    hovermode = 'closest'\n",
    "    \n",
    ")\n",
    "\n",
    "fig = go.Figure(data = data, layout = layout)\n",
    "\n",
    "plot(fig, filename = 'sale amount of each branch')\n"
   ]
  },
  {
   "cell_type": "code",
   "execution_count": 56,
   "metadata": {},
   "outputs": [],
   "source": [
    "# IFrame(src= \"https://dash-simple-apps.plotly.host/dash-boxplot/\",\n",
    "#        width=\"100%\", height=\"650px\", frameBorder=\"0\")"
   ]
  },
  {
   "cell_type": "code",
   "execution_count": null,
   "metadata": {},
   "outputs": [],
   "source": []
  }
 ],
 "metadata": {
  "kernelspec": {
   "display_name": "Python 3",
   "language": "python",
   "name": "python3"
  },
  "language_info": {
   "codemirror_mode": {
    "name": "ipython",
    "version": 3
   },
   "file_extension": ".py",
   "mimetype": "text/x-python",
   "name": "python",
   "nbconvert_exporter": "python",
   "pygments_lexer": "ipython3",
   "version": "3.6.7"
  }
 },
 "nbformat": 4,
 "nbformat_minor": 2
}
