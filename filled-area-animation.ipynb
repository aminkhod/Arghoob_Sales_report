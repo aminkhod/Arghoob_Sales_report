{
    "cells": [
        {
            "source": [
                "#### New to Plotly?\n",
                "Plotly's Python library is free and open source! [Get started](https://plot.ly/python/getting-started/) by downloading the client and [reading the primer](https://plot.ly/python/getting-started/).\n",
                "<br>You can set up Plotly to work in [online](https://plot.ly/python/getting-started/#initialization-for-online-plotting) or [offline](https://plot.ly/python/getting-started/#initialization-for-offline-plotting) mode, or in [jupyter notebooks](https://plot.ly/python/getting-started/#start-plotting-online).\n",
                "<br>We also have a quick-reference [cheatsheet](https://images.plot.ly/plotly-documentation/images/python_cheat_sheet.pdf) (new!) to help you get started!"
            ],
            "metadata": {},
            "cell_type": "markdown"
        },
        {
            "source": [
                "#### Version Check\n",
                "Note: Animations are available in version 1.12.10+\n",
                "Run `pip install plotly --upgrade` to update your Plotly version."
            ],
            "metadata": {},
            "cell_type": "markdown"
        },
        {
            "source": [
                "import plotly\n",
                "plotly.__version__"
            ],
            "outputs": [
                {
                    "data": {
                        "text/plain": [
                            "'1.12.12'"
                        ]
                    },
                    "metadata": {},
                    "output_type": "execute_result",
                    "execution_count": 1
                }
            ],
            "metadata": {
                "collapsed": false
            },
            "cell_type": "code",
            "execution_count": 1
        },
        {
            "source": [
                "#### Import Data\n",
                "Let us import some apple stock data for this animation."
            ],
            "metadata": {},
            "cell_type": "markdown"
        },
        {
            "source": [
                "import plotly.plotly as py\n",
                "from plotly.grid_objs import Grid, Column\n",
                "from plotly.tools import FigureFactory as FF \n",
                "\n",
                "import time\n",
                "from datetime import datetime\n",
                "import numpy as np\n",
                "import pandas as pd\n",
                "import pandas_datareader.data as web\n",
                "\n",
                "appl = web.get_data_yahoo('AAPL', '2016-01-01', '2016-11-30')\n",
                "apple_data_matrix = appl.head(10)\n",
                "\n",
                "table = FF.create_table(apple_data_matrix)\n",
                "py.iplot(table, filename='apple_data_table')"
            ],
            "outputs": [
                {
                    "data": {
                        "text/html": [
                            "<iframe id=\"igraph\" scrolling=\"no\" style=\"border:none;\" seamless=\"seamless\" src=\"https://plot.ly/~AdamKulidjian/2193.embed\" height=\"380px\" width=\"100%\"></iframe>"
                        ],
                        "text/plain": [
                            "<plotly.tools.PlotlyDisplay object>"
                        ]
                    },
                    "metadata": {},
                    "output_type": "execute_result",
                    "execution_count": 2
                }
            ],
            "metadata": {
                "scrolled": true,
                "collapsed": false
            },
            "cell_type": "code",
            "execution_count": 2
        },
        {
            "source": [
                "#### Make the Grid"
            ],
            "metadata": {},
            "cell_type": "markdown"
        },
        {
            "source": [
                "def to_unix_time(dt):\n",
                "    epoch =  datetime.utcfromtimestamp(0)\n",
                "    return (dt - epoch).total_seconds() * 1000\n",
                "\n",
                "appl_price = list(appl['Adj Close'])\n",
                "my_columns = []\n",
                "for k in range(len(appl.index) - 1):\n",
                "    my_columns.append(Column(appl.index[:k + 1], 'x{}'.format(k + 1)))   \n",
                "    my_columns.append(Column(appl_price[:k + 1], 'y{}'.format(k + 1)))\n",
                "grid = Grid(my_columns)\n",
                "py.grid_ops.upload(grid, 'AAPL-daily-stock-price' + str(time.time()), auto_open=False)"
            ],
            "outputs": [
                {
                    "data": {
                        "text/plain": [
                            "u'https://plot.ly/~AdamKulidjian/2195/'"
                        ]
                    },
                    "metadata": {},
                    "output_type": "execute_result",
                    "execution_count": 3
                }
            ],
            "metadata": {
                "collapsed": false
            },
            "cell_type": "code",
            "execution_count": 3
        },
        {
            "source": [
                "#### Make the Figure"
            ],
            "metadata": {},
            "cell_type": "markdown"
        },
        {
            "source": [
                "data=[dict(type='scatter',\n",
                "           xsrc=grid.get_column_reference('x1'),\n",
                "           ysrc= grid.get_column_reference('y1'),\n",
                "           name='AAPL',\n",
                "           mode='lines',\n",
                "           line=dict(color= 'rgb(114, 186, 59)'),\n",
                "           fill='tozeroy',\n",
                "           fillcolor='rgba(114, 186, 59, 0.5)')]\n",
                "\n",
                "axis=dict(ticklen=4,\n",
                "          mirror=True,\n",
                "          zeroline=False,\n",
                "          showline=True,\n",
                "          autorange=False,\n",
                "          showgrid=False)\n",
                "\n",
                "layout = dict(title='AAPL Daily Stock Price',\n",
                "              font=dict(family='Balto'),\n",
                "              showlegend=False,\n",
                "              autosize=False,\n",
                "              width=800,\n",
                "              height=400,\n",
                "              xaxis=dict(axis, **{'nticks':12, 'tickangle':-45,\n",
                "                                  'range': [to_unix_time(datetime(2016, 1, 4)),\n",
                "                                            to_unix_time(datetime(2016, 11, 30))]}),\n",
                "              yaxis=dict(axis, **{'title': '$', 'range':[0,120]}),\n",
                "              updatemenus=[dict(type='buttons',\n",
                "                                showactive=False,\n",
                "                                y=1,\n",
                "                                x=1.1,\n",
                "                                xanchor='right',\n",
                "                                yanchor='top',\n",
                "                                pad=dict(t=0, r=10),\n",
                "                                buttons=[dict(label='Play',\n",
                "                                              method='animate',\n",
                "                                              args=[None, dict(frame=dict(duration=50, redraw=False), \n",
                "                                                               transition=dict(duration=0),\n",
                "                                                               fromcurrent=True,\n",
                "                                                               mode='immediate')])])])\n",
                "\n",
                "frames=[{'data':[{'xsrc': grid.get_column_reference('x{}'.format(k + 1)),\n",
                "                  'ysrc': grid.get_column_reference('y{}'.format(k + 1))}],\n",
                "         'traces': [0]\n",
                "        } for k in range(len(appl.index) - 1)]\n",
                "\n",
                "fig=dict(data=data, layout=layout, frames=frames)\n",
                "py.icreate_animations(fig, 'AAPL-stockprice' + str(time.time()))"
            ],
            "outputs": [
                {
                    "data": {
                        "text/html": [
                            "<iframe id=\"igraph\" scrolling=\"no\" style=\"border:none;\" seamless=\"seamless\" src=\"https://plot.ly/~AdamKulidjian/2196.embed\" height=\"400px\" width=\"800px\"></iframe>"
                        ],
                        "text/plain": [
                            "<plotly.tools.PlotlyDisplay object>"
                        ]
                    },
                    "metadata": {},
                    "output_type": "execute_result",
                    "execution_count": 4
                }
            ],
            "metadata": {
                "collapsed": false
            },
            "cell_type": "code",
            "execution_count": 4
        },
        {
            "source": [
                "#### Reference\n",
                "For additional information on filled area plots in Plotly see: https://plot.ly/python/filled-area-plots/.\n",
                "For more documentation on creating animations with Plotly, see https://plot.ly/python/#animations."
            ],
            "metadata": {},
            "cell_type": "markdown"
        },
        {
            "source": [],
            "outputs": [],
            "metadata": {
                "collapsed": true
            },
            "cell_type": "code",
            "execution_count": null
        }
    ],
    "metadata": {
        "kernelspec": {
            "name": "python2",
            "language": "python",
            "display_name": "Python 2"
        },
        "language_info": {
            "name": "python",
            "version": "2.7.12",
            "mimetype": "text/x-python",
            "file_extension": ".py",
            "pygments_lexer": "ipython2",
            "codemirror_mode": {
                "name": "ipython",
                "version": 2
            },
            "nbconvert_exporter": "python"
        }
    },
    "nbformat": 4,
    "nbformat_minor": 0
}