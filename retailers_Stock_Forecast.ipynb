{
 "cells": [
  {
   "cell_type": "code",
   "execution_count": 27,
   "metadata": {},
   "outputs": [],
   "source": [
    "import pandas as pd\n",
    "import numpy as np\n"
   ]
  },
  {
   "cell_type": "code",
   "execution_count": 28,
   "metadata": {},
   "outputs": [],
   "source": [
    "consolidateSalesReports = pd.read_csv('Consolidate Sales Reports.csv', encoding='latin1')\n"
   ]
  },
  {
   "cell_type": "code",
   "execution_count": 42,
   "metadata": {},
   "outputs": [],
   "source": [
    "# numListOfBranch = ['401 Co','402 Co','404 Co','405 Co','412 Co','416 Co',\n",
    "#                    '417 Co','423 Co', '424 Co','425 Co','426 Co','429 Co','444 Co','490 Co']\n",
    "monthesList = ['January', 'February', 'March', 'April', 'May', 'June', 'July', 'August',\n",
    "               'September', 'October', 'November', 'December']\n",
    "listOfBranch = ['ARQOOB SOH','Retailer SOH', 'Final_Cost', 'Month', 'Weeks']\n",
    "\n",
    "productDetail = ['Part No', \"Description\", 'UPC']\n",
    "header = productDetail.copy()\n",
    "header.extend(listOfBranch.copy())\n"
   ]
  },
  {
   "cell_type": "code",
   "execution_count": 43,
   "metadata": {},
   "outputs": [],
   "source": [
    "supplierForecast = pd.DataFrame(columns = list(header))\n",
    "for col in supplierForecast.columns:\n",
    "    supplierForecast[col] = consolidateSalesReports[col]\n"
   ]
  },
  {
   "cell_type": "code",
   "execution_count": 48,
   "metadata": {},
   "outputs": [],
   "source": [
    "realMonthes = []\n",
    "for month in monthesList:\n",
    "    try:\n",
    "        supplierForecast[month + '_QTY'] = consolidateSalesReports[month[:3] + '_Total']\n",
    "        realMonthes.append(month + '_QTY')\n",
    "    except:\n",
    "        continue\n"
   ]
  },
  {
   "cell_type": "code",
   "execution_count": 51,
   "metadata": {},
   "outputs": [
    {
     "ename": "SyntaxError",
     "evalue": "unexpected EOF while parsing (<ipython-input-51-b9b90725c076>, line 8)",
     "output_type": "error",
     "traceback": [
      "\u001b[1;36m  File \u001b[1;32m\"<ipython-input-51-b9b90725c076>\"\u001b[1;36m, line \u001b[1;32m8\u001b[0m\n\u001b[1;33m    for m in supplierForecast['Month']:\u001b[0m\n\u001b[1;37m                                       ^\u001b[0m\n\u001b[1;31mSyntaxError\u001b[0m\u001b[1;31m:\u001b[0m unexpected EOF while parsing\n"
     ]
    }
   ],
   "source": [
    "QTY_Sold =0\n",
    "for rm in realMonthes:\n",
    "    QTY_Sold = QTY_Sold + supplierForecast[rm]\n",
    "supplierForecast['QTY Sold'] = QTY_Sold\n",
    "'=IFERROR(IF(L5=0,V5/(S5*30),V5/(((S5-1)*30)+(T5*7))),0)'\n",
    "avgPerDay = []\n",
    "avgPerMonth = []\n",
    "i = 0\n",
    "for m in supplierForecast['Month']:\n",
    "    if "
   ]
  },
  {
   "cell_type": "code",
   "execution_count": 50,
   "metadata": {},
   "outputs": [],
   "source": [
    "supplierForecast.to_csv('supplierForecast.csv', index=False)"
   ]
  },
  {
   "cell_type": "code",
   "execution_count": null,
   "metadata": {},
   "outputs": [],
   "source": []
  }
 ],
 "metadata": {
  "kernelspec": {
   "display_name": "Python 3",
   "language": "python",
   "name": "python3"
  },
  "language_info": {
   "codemirror_mode": {
    "name": "ipython",
    "version": 3
   },
   "file_extension": ".py",
   "mimetype": "text/x-python",
   "name": "python",
   "nbconvert_exporter": "python",
   "pygments_lexer": "ipython3",
   "version": "3.6.7"
  }
 },
 "nbformat": 4,
 "nbformat_minor": 2
}
