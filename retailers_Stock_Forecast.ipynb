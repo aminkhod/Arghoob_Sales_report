{
 "cells": [
  {
   "cell_type": "code",
   "execution_count": 27,
   "metadata": {},
   "outputs": [],
   "source": [
    "import pandas as pd\n",
    "import numpy as np\n"
   ]
  },
  {
   "cell_type": "code",
   "execution_count": 28,
   "metadata": {},
   "outputs": [],
   "source": [
    "consolidateSalesReports = pd.read_csv('Consolidate Sales Reports.csv', encoding='latin1')\n"
   ]
  },
  {
   "cell_type": "code",
   "execution_count": 53,
   "metadata": {},
   "outputs": [],
   "source": [
    "# numListOfBranch = ['401 Co','402 Co','404 Co','405 Co','412 Co','416 Co',\n",
    "#                    '417 Co','423 Co', '424 Co','425 Co','426 Co','429 Co','444 Co','490 Co']\n",
    "\n",
    "monthesList = ['January', 'February', 'March', 'April', 'May', 'June', 'July', 'August',\n",
    "               'September', 'October', 'November', 'December']\n",
    "listOfBranch = ['ARQOOB SOH','Retailer SOH', 'Final_Cost', 'Month', 'Weeks']\n",
    "\n",
    "productDetail = ['Part No', \"Description\", 'UPC']\n",
    "header = productDetail.copy()\n",
    "header.extend(listOfBranch.copy())\n"
   ]
  },
  {
   "cell_type": "code",
   "execution_count": 54,
   "metadata": {},
   "outputs": [],
   "source": [
    "supplierForecast = pd.DataFrame(columns = list(header))\n",
    "for col in supplierForecast.columns:\n",
    "    supplierForecast[col] = consolidateSalesReports[col]\n"
   ]
  },
  {
   "cell_type": "code",
   "execution_count": 55,
   "metadata": {},
   "outputs": [],
   "source": [
    "realMonthes = []\n",
    "lastMonth = ''\n",
    "for month in monthesList:\n",
    "    try:\n",
    "        supplierForecast[month + '_QTY'] = consolidateSalesReports[month[:3] + '_Total']\n",
    "        realMonthes.append(month + '_QTY')\n",
    "        lastMonth = month + '_QTY'\n",
    "    except:\n",
    "        continue\n"
   ]
  },
  {
   "cell_type": "code",
   "execution_count": 65,
   "metadata": {},
   "outputs": [],
   "source": [
    "QTY_Sold =0\n",
    "for rm in realMonthes:\n",
    "    QTY_Sold = QTY_Sold + supplierForecast[rm]\n",
    "supplierForecast['QTY Sold'] = QTY_Sold\n",
    "\n",
    "avgPerDay = []\n",
    "avgPerMonth = []\n",
    "i = 0\n",
    "for m in supplierForecast['Month']:\n",
    "    if supplierForecast.loc[i,lastMonth] == 0:\n",
    "        if m == 0:\n",
    "            avgPerDay.append(0)\n",
    "            avgPerMonth.append(0)\n",
    "        else:\n",
    "            avgPerDay.append(np.around(QTY_Sold[i] / (m * 30), 2))\n",
    "            avgPerMonth.append(np.around(QTY_Sold[i] / m,2))\n",
    "    else:\n",
    "        avgPerDay.append(np.around(QTY_Sold[i]/((m*30)+(supplierForecast.loc[i,'Weeks']*7)),2))\n",
    "        avgPerMonth.append(np.around(QTY_Sold[i] / m,2))\n",
    "    i += 1\n",
    "supplierForecast['Avh per Day'],supplierForecast['Avg per Month'] = avgPerDay, avgPerMonth"
   ]
  },
  {
   "cell_type": "code",
   "execution_count": 66,
   "metadata": {},
   "outputs": [],
   "source": [
    "supplierForecast.to_csv('supplierForecast.csv', index=False)"
   ]
  },
  {
   "cell_type": "code",
   "execution_count": null,
   "metadata": {},
   "outputs": [],
   "source": []
  }
 ],
 "metadata": {
  "kernelspec": {
   "display_name": "Python 3",
   "language": "python",
   "name": "python3"
  },
  "language_info": {
   "codemirror_mode": {
    "name": "ipython",
    "version": 3
   },
   "file_extension": ".py",
   "mimetype": "text/x-python",
   "name": "python",
   "nbconvert_exporter": "python",
   "pygments_lexer": "ipython3",
   "version": "3.6.7"
  }
 },
 "nbformat": 4,
 "nbformat_minor": 2
}
