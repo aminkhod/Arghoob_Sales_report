{
 "cells": [
  {
   "cell_type": "code",
   "execution_count": 63,
   "metadata": {},
   "outputs": [],
   "source": [
    "import pandas as pd\n",
    "import numpy as np\n",
    "from datetime import datetime, timedelta"
   ]
  },
  {
   "cell_type": "code",
   "execution_count": 64,
   "metadata": {},
   "outputs": [],
   "source": [
    "consolidateSalesReports = pd.read_csv('Consolidate Sales Reports.csv', encoding='latin1')\n"
   ]
  },
  {
   "cell_type": "code",
   "execution_count": 65,
   "metadata": {},
   "outputs": [],
   "source": [
    "# numListOfBranch = ['401 Co','402 Co','404 Co','405 Co','412 Co','416 Co',\n",
    "#                    '417 Co','423 Co', '424 Co','425 Co','426 Co','429 Co','444 Co','490 Co']\n",
    "\n",
    "monthesList = ['January', 'February', 'March', 'April', 'May', 'June', 'July',\n",
    "               'August', 'September', 'October', 'November', 'December']\n",
    "listOfBranch = ['ARQOOB SOH','Retailer SOH', 'Final_Cost', 'Month', 'Weeks',\n",
    "                'Product Lead Time (Days)', 'Last Update']\n",
    "\n",
    "productDetail = ['Part No', \"Description\", 'UPC']\n",
    "header = productDetail.copy()\n",
    "header.extend(listOfBranch.copy())\n"
   ]
  },
  {
   "cell_type": "code",
   "execution_count": 66,
   "metadata": {},
   "outputs": [],
   "source": [
    "supplierForecast = pd.DataFrame(columns = list(header))\n",
    "for col in supplierForecast.columns:\n",
    "    supplierForecast[col] = consolidateSalesReports[col]\n"
   ]
  },
  {
   "cell_type": "code",
   "execution_count": 67,
   "metadata": {},
   "outputs": [],
   "source": [
    "realMonthes = []\n",
    "lastMonth = ''\n",
    "for month in monthesList:\n",
    "    try:\n",
    "        supplierForecast[month + '_QTY'] = consolidateSalesReports[month[:3] + '_Total']\n",
    "        realMonthes.append(month + '_QTY')\n",
    "        lastMonth = month + '_QTY'\n",
    "    except:\n",
    "        continue\n"
   ]
  },
  {
   "cell_type": "code",
   "execution_count": 75,
   "metadata": {},
   "outputs": [],
   "source": [
    "QTY_Sold =0\n",
    "for rm in realMonthes:\n",
    "    QTY_Sold = QTY_Sold + supplierForecast[rm]\n",
    "supplierForecast['QTY Sold'] = QTY_Sold\n",
    "\n",
    "avgPerDay = []\n",
    "avgPerMonth = []\n",
    "i = 0\n",
    "for m in supplierForecast['Month']:\n",
    "    if supplierForecast.loc[i,lastMonth] == 0:\n",
    "        if m == 0:\n",
    "            avgPerDay.append(0)\n",
    "            avgPerMonth.append(0)\n",
    "        else:\n",
    "            avgPerDay.append(np.around(QTY_Sold[i] / (m * 30), 2))\n",
    "            avgPerMonth.append(np.around(QTY_Sold[i] / m,2))\n",
    "    else:\n",
    "        avgPerDay.append(np.around(QTY_Sold[i]/((m*30)+(supplierForecast.loc[i,'Weeks']*7)),2))\n",
    "        avgPerMonth.append(np.around(QTY_Sold[i] / m,2))\n",
    "    i += 1\n",
    "supplierForecast['Avh per Day'],supplierForecast['Avg per Month'] = avgPerDay, avgPerMonth\n",
    "i = 0\n",
    "closingStock = []\n",
    "for soh in supplierForecast['ARQOOB SOH']:\n",
    "    try:\n",
    "        int(supplierForecast.loc[i,'ARQOOB SOH'])\n",
    "    except:\n",
    "        supplierForecast.loc[i,'ARQOOB SOH'] = 0\n",
    "    try:\n",
    "        int(supplierForecast.loc[i,'Retailer SOH'])\n",
    "    except:\n",
    "        supplierForecast.loc[i,'Retailer SOH'] = 0\n",
    "    closingStock.append(supplierForecast.loc[i,'Retailer SOH'] + supplierForecast.loc[i,'ARQOOB SOH'])\n",
    "    i += 1\n",
    "\n",
    "supplierForecast['Closing Stock'] = closingStock\n",
    "i = 0\n",
    "stockInHand = []\n",
    "for cl in supplierForecast['Closing Stock']:\n",
    "    if supplierForecast.loc[i,'Avh per Day'] !=0:\n",
    "        stockInHand.append(cl/supplierForecast.loc[i,'Avh per Day'])\n",
    "    else:\n",
    "        stockInHand.append(\"Not Sold\")\n",
    "    i += 1\n",
    "supplierForecast['Days Stock in Hand'] = stockInHand\n",
    "\n",
    "i = 0\n",
    "minStock = []\n",
    "for day in supplierForecast['Days Stock in Hand']:\n",
    "    try:\n",
    "        int(supplierForecast.loc[i,'Days Stock in Hand'])\n",
    "        minStock.append(supplierForecast.loc[i,'Days Stock in Hand'])\n",
    "    except:\n",
    "        minStock.append('-')\n",
    "    \n",
    "supplierForecast['Deviation from Minimum Stock Level'] = minStock\n",
    "\n",
    "\n",
    "supplierForecast['MSL (2 Mont Covering)'] = supplierForecast['Avg per Month'] * 2\n",
    "\n",
    "stockCover = []\n",
    "i = 0 \n",
    "for day in supplierForecast['Days Stock in Hand']:\n",
    "    try:\n",
    "        date_1 = supplierForecast.loc[i,'Last Update']\n",
    "\n",
    "        stockCover.append(pd.to_datetime(date_1) + pd.DateOffset(days=5)[:10])\n",
    "    except:    \n",
    "        stockCover.append('Not Sold')\n",
    "    i += 1\n",
    "supplierForecast['Current Stock Cover upto (Date)'] = stockCover"
   ]
  },
  {
   "cell_type": "code",
   "execution_count": 76,
   "metadata": {},
   "outputs": [],
   "source": [
    "supplierForecast.to_csv('supplierForecast.csv', index=False)"
   ]
  },
  {
   "cell_type": "code",
   "execution_count": 72,
   "metadata": {},
   "outputs": [
    {
     "data": {
      "text/plain": [
       "datetime.datetime(2019, 8, 6, 0, 0)"
      ]
     },
     "execution_count": 72,
     "metadata": {},
     "output_type": "execute_result"
    }
   ],
   "source": [
    "date_1 = datetime.strptime('27/07/19', \"%d/%m/%y\")\n",
    "\n",
    "date_1 + timedelta(days=10)"
   ]
  },
  {
   "cell_type": "code",
   "execution_count": 73,
   "metadata": {},
   "outputs": [
    {
     "data": {
      "text/plain": [
       "Timestamp('2011-10-12 00:00:00')"
      ]
     },
     "execution_count": 73,
     "metadata": {},
     "output_type": "execute_result"
    }
   ],
   "source": [
    "startdate = \"10/7/2011\"\n",
    "pd.to_datetime(startdate) + pd.DateOffset(days=5)"
   ]
  },
  {
   "cell_type": "code",
   "execution_count": null,
   "metadata": {},
   "outputs": [],
   "source": []
  }
 ],
 "metadata": {
  "kernelspec": {
   "display_name": "Python 3",
   "language": "python",
   "name": "python3"
  },
  "language_info": {
   "codemirror_mode": {
    "name": "ipython",
    "version": 3
   },
   "file_extension": ".py",
   "mimetype": "text/x-python",
   "name": "python",
   "nbconvert_exporter": "python",
   "pygments_lexer": "ipython3",
   "version": "3.6.7"
  }
 },
 "nbformat": 4,
 "nbformat_minor": 2
}
