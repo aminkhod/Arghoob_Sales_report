{
 "cells": [
  {
   "cell_type": "code",
   "execution_count": 347,
   "metadata": {},
   "outputs": [],
   "source": [
    "import pandas as pd\n",
    "import numpy as np\n",
    "import os\n",
    "# import subprocess\n",
    "# subprocess.check_call(['pip', 'install', 'numpy']) # install pkg\n",
    "# subprocess.check_call(['pip', 'install',\"--upgrade\", 'numpy']) # upgrade pkg"
   ]
  },
  {
   "cell_type": "code",
   "execution_count": 360,
   "metadata": {},
   "outputs": [
    {
     "name": "stdout",
     "output_type": "stream",
     "text": [
      "02-09-2019.csv\n",
      "02-16-2019.csv\n",
      "02-23-2019.csv\n",
      "03-02-2019.csv\n"
     ]
    }
   ],
   "source": [
    "path = 'Weaks of Month/'\n",
    "\n",
    "files = []\n",
    "filesNoAdd = []\n",
    "# r=root, d=directories, f = files\n",
    "for r, d, f in os.walk(path):\n",
    "    for file in f:\n",
    "        if '.csv' in file:\n",
    "            files.append(os.path.join(r, file))\n",
    "            filesNoAdd.append(file)\n",
    "\n",
    "for f in filesNoAdd:\n",
    "    print(f)\n"
   ]
  },
  {
   "cell_type": "code",
   "execution_count": 361,
   "metadata": {},
   "outputs": [],
   "source": [
    "numListOfBranch = ['401 Co','402 Co','404 Co','405 Co','412 Co','416 Co',\n",
    "                   '417 Co','423 Co', '424 Co','425 Co','426 Co','429 Co','444 Co','490 Co']\n",
    "listOfBranch = ['401 Co', '401.VMS cost', '401.V.S.P.', '401.AVG. WEEK',\n",
    "                '402 Co', '402.VMS cost', '402.V.S.P.', '402.AVG. WEEK',\n",
    "                '404 Co', '404.VMS cost', '404.V.S.P.', '404.AVG. WEEK',\n",
    "                '405 Co', '405.VMS cost', '405.V.S.P.', '405.AVG. WEEK',\n",
    "                '412 Co', '412.VMS cost', '412.V.S.P.', '412.AVG. WEEK',\n",
    "                '416 Co', '416.VMS cost', '416.V.S.P.', '416.AVG. WEEK',\n",
    "                '417 Co', '417.VMS cost', '417.V.S.P.', '417.AVG. WEEK',\n",
    "                '423 Co', '423.VMS cost', '423.V.S.P.', '423.AVG. WEEK',\n",
    "                '424 Co', '424.VMS cost', '424.V.S.P.', '424.AVG. WEEK',\n",
    "                '425 Co', '425.VMS cost', '425.V.S.P.', '425.AVG. WEEK',\n",
    "                '426 Co', '426.VMS cost', '426.V.S.P.', '426.AVG. WEEK',\n",
    "                '429 Co', '429.VMS cost', '429.V.S.P.', '429.AVG. WEEK',\n",
    "                '444 Co', '444.VMS cost', '444.V.S.P.', '444.AVG. WEEK',\n",
    "                '490 Co', '490.VMS cost', '490.V.S.P.', '490.AVG. WEEK', 'Latest SOH']\n",
    "\n",
    "productDetail = ['Sku', 'UPC', 'Catalogue N', 'Title', 'Label' ,'Cost Price' ,'V.S.P.']\n",
    "header = productDetail.copy()\n",
    "header.extend(listOfBranch.copy())\n"
   ]
  },
  {
   "cell_type": "code",
   "execution_count": 362,
   "metadata": {},
   "outputs": [],
   "source": [
    "def findID(sku, Data):\n",
    "    numb = 0\n",
    "    for SKUref in Data['Sku']:\n",
    "        \n",
    "        if str(sku) == str(SKUref):\n",
    "            return numb\n",
    "        numb += 1\n",
    "    return \"This good with Sku of \" + sku + \" is not in data.\" "
   ]
  },
  {
   "cell_type": "code",
   "execution_count": 363,
   "metadata": {},
   "outputs": [],
   "source": [
    "def buildList(num, ide, productDetail, listOfBranch, rawData, final):\n",
    "    producList = []\n",
    "    qSum = 0\n",
    "    for det in productDetail:\n",
    "        producList.append(rawData[det][ide])\n",
    "    for branch in listOfBranch:\n",
    "        branch = branch.replace(' Co','')\n",
    "        qbranch = str(branch + '.Quantit')\n",
    "        head = str(branch + '.Sales Quantity')\n",
    "        if head in rawData.head(0):\n",
    "            try:\n",
    "                producList.append(float(rawData[head][ide]))\n",
    "                producList.append(float(rawData[head][ide]) * float(rawData['V.S.P.'][ide]))\n",
    "                producList.append(float(rawData[head][ide]) * float(rawData['Cost Price'][ide]))\n",
    "                producList.append(float(rawData[head][ide]) / float(num))\n",
    "            except:\n",
    "                print(\"A number in raw data is string\" , head, ide)\n",
    "        if qbranch in rawData.head(0) and str(branch)!='444'and str(branch)!='490'and final==True:\n",
    "            try:\n",
    "#                 print('wtf',ide)\n",
    "                qSum = qSum + rawData[qbranch][ide]\n",
    "#                 print(qSum)\n",
    "            except:\n",
    "                print(\"A number in raw data is string\", qbranch, ide)\n",
    "    producList.append(qSum)\n",
    "\n",
    "                \n",
    "    return producList"
   ]
  },
  {
   "cell_type": "code",
   "execution_count": 364,
   "metadata": {},
   "outputs": [],
   "source": [
    "def listAddition(Dataide, ide, num, productDetail, listOfBranch, rawData, monthRawData, final):\n",
    "    colid = 0\n",
    "    qSum = 0\n",
    "    buf = 0\n",
    "    for branch in listOfBranch:        \n",
    "        branch = branch.replace(' Co','')\n",
    "        qbranch = str(branch + '.Quantit')        \n",
    "        head = str(branch + '.Sales Quantity')\n",
    "        if head in rawData.head(0):\n",
    "            buf = colid + 10\n",
    "            monthRawData.iloc[Dataide, colid+7] = monthRawData.iloc[Dataide, colid+7] + rawData[head][ide]\n",
    "            monthRawData.iloc[Dataide, colid+8] = monthRawData.iloc[Dataide, colid+7] * float(rawData['V.S.P.'][ide])\n",
    "            monthRawData.iloc[Dataide, colid+9] = monthRawData.iloc[Dataide, colid+7] * float(rawData['Cost Price'][ide])\n",
    "            monthRawData.iloc[Dataide, colid+10]= monthRawData.iloc[Dataide, colid+7] / float(num)\n",
    "\n",
    "        colid += 1\n",
    "        if qbranch in rawData.head(0) and str(branch)!='444'and str(branch)!='490'and final==True:\n",
    "            try:\n",
    "                qSum = qSum + rawData[qbranch][ide]\n",
    "            except:\n",
    "                print(\"A number in raw data is string\", qbranch, ide)\n",
    "\n",
    "    if final:\n",
    "        monthRawData.iloc[Dataide, buf + 1] = qSum\n",
    "        \n",
    "    return monthRawData"
   ]
  },
  {
   "cell_type": "code",
   "execution_count": 365,
   "metadata": {},
   "outputs": [],
   "source": [
    "def noStock(sku,rawData):\n",
    "    sku = str(sku)\n",
    "    try:\n",
    "        i = findID(sku, rawData)\n",
    "        i = int(i)\n",
    "    except:\n",
    "        return True\n",
    "    for branch in numListOfBranch:        \n",
    "        branch = branch.replace(' Co','')\n",
    "        qbranch = str(branch + '.Quantit')\n",
    "        if rawData.loc[i,qbranch] > 0 and str(branch)!='444'and str(branch)!='490':\n",
    "            return False\n",
    "    return True\n"
   ]
  },
  {
   "cell_type": "code",
   "execution_count": 366,
   "metadata": {},
   "outputs": [],
   "source": [
    "# noStock(734865,rawData)"
   ]
  },
  {
   "cell_type": "code",
   "execution_count": 367,
   "metadata": {},
   "outputs": [],
   "source": [
    "# a = np.zeros(shape=(1,len(header)))\n",
    "monthRawData = pd.DataFrame(columns = list(header))\n",
    "\n",
    "\n",
    "fcount = len(files)\n",
    "b = []\n",
    "finalFile =False\n",
    "for f in files:\n",
    "#     f1 = (path + f)\n",
    "    f1 = (f)\n",
    "    rawData = pd.read_csv(f1 , encoding='latin1')\n",
    "\n",
    "    if f == files[-1]:\n",
    "        finalFile = True\n",
    "    sid =0\n",
    "    b = 0\n",
    "    \n",
    "    for sku in rawData['Sku']:\n",
    "        if sku not in list(monthRawData['Sku']):\n",
    "            df = pd.DataFrame([list(buildList(fcount, sid, productDetail,\n",
    "                            listOfBranch, rawData, finalFile))], columns= list(header))\n",
    "            monthRawData = monthRawData.append(df)\n",
    "            \n",
    "        else:\n",
    "            Dataide = findID(sku, monthRawData)\n",
    "            b = listAddition(Dataide, sid, fcount, productDetail, listOfBranch, rawData,\n",
    "                             monthRawData, finalFile)\n",
    "        sid +=1\n",
    "\n"
   ]
  },
  {
   "cell_type": "code",
   "execution_count": 368,
   "metadata": {},
   "outputs": [
    {
     "ename": "ValueError",
     "evalue": "Length of values does not match length of index",
     "output_type": "error",
     "traceback": [
      "\u001b[1;31m---------------------------------------------------------------------------\u001b[0m",
      "\u001b[1;31mValueError\u001b[0m                                Traceback (most recent call last)",
      "\u001b[1;32m<ipython-input-368-256673de2549>\u001b[0m in \u001b[0;36m<module>\u001b[1;34m\u001b[0m\n\u001b[0;32m     44\u001b[0m         \u001b[1;32mcontinue\u001b[0m\u001b[1;33m\u001b[0m\u001b[1;33m\u001b[0m\u001b[0m\n\u001b[0;32m     45\u001b[0m \u001b[1;31m#\u001b[0m\u001b[1;33m\u001b[0m\u001b[1;33m\u001b[0m\u001b[1;33m\u001b[0m\u001b[0m\n\u001b[1;32m---> 46\u001b[1;33m \u001b[0mmonthRawData\u001b[0m\u001b[1;33m[\u001b[0m\u001b[1;34m\"Status\"\u001b[0m\u001b[1;33m]\u001b[0m \u001b[1;33m=\u001b[0m \u001b[0mstatus\u001b[0m\u001b[1;33m\u001b[0m\u001b[1;33m\u001b[0m\u001b[0m\n\u001b[0m\u001b[0;32m     47\u001b[0m \u001b[1;33m\u001b[0m\u001b[0m\n",
      "\u001b[1;32mc:\\program files\\python36\\lib\\site-packages\\pandas\\core\\frame.py\u001b[0m in \u001b[0;36m__setitem__\u001b[1;34m(self, key, value)\u001b[0m\n\u001b[0;32m   3368\u001b[0m         \u001b[1;32melse\u001b[0m\u001b[1;33m:\u001b[0m\u001b[1;33m\u001b[0m\u001b[1;33m\u001b[0m\u001b[0m\n\u001b[0;32m   3369\u001b[0m             \u001b[1;31m# set column\u001b[0m\u001b[1;33m\u001b[0m\u001b[1;33m\u001b[0m\u001b[1;33m\u001b[0m\u001b[0m\n\u001b[1;32m-> 3370\u001b[1;33m             \u001b[0mself\u001b[0m\u001b[1;33m.\u001b[0m\u001b[0m_set_item\u001b[0m\u001b[1;33m(\u001b[0m\u001b[0mkey\u001b[0m\u001b[1;33m,\u001b[0m \u001b[0mvalue\u001b[0m\u001b[1;33m)\u001b[0m\u001b[1;33m\u001b[0m\u001b[1;33m\u001b[0m\u001b[0m\n\u001b[0m\u001b[0;32m   3371\u001b[0m \u001b[1;33m\u001b[0m\u001b[0m\n\u001b[0;32m   3372\u001b[0m     \u001b[1;32mdef\u001b[0m \u001b[0m_setitem_slice\u001b[0m\u001b[1;33m(\u001b[0m\u001b[0mself\u001b[0m\u001b[1;33m,\u001b[0m \u001b[0mkey\u001b[0m\u001b[1;33m,\u001b[0m \u001b[0mvalue\u001b[0m\u001b[1;33m)\u001b[0m\u001b[1;33m:\u001b[0m\u001b[1;33m\u001b[0m\u001b[1;33m\u001b[0m\u001b[0m\n",
      "\u001b[1;32mc:\\program files\\python36\\lib\\site-packages\\pandas\\core\\frame.py\u001b[0m in \u001b[0;36m_set_item\u001b[1;34m(self, key, value)\u001b[0m\n\u001b[0;32m   3443\u001b[0m \u001b[1;33m\u001b[0m\u001b[0m\n\u001b[0;32m   3444\u001b[0m         \u001b[0mself\u001b[0m\u001b[1;33m.\u001b[0m\u001b[0m_ensure_valid_index\u001b[0m\u001b[1;33m(\u001b[0m\u001b[0mvalue\u001b[0m\u001b[1;33m)\u001b[0m\u001b[1;33m\u001b[0m\u001b[1;33m\u001b[0m\u001b[0m\n\u001b[1;32m-> 3445\u001b[1;33m         \u001b[0mvalue\u001b[0m \u001b[1;33m=\u001b[0m \u001b[0mself\u001b[0m\u001b[1;33m.\u001b[0m\u001b[0m_sanitize_column\u001b[0m\u001b[1;33m(\u001b[0m\u001b[0mkey\u001b[0m\u001b[1;33m,\u001b[0m \u001b[0mvalue\u001b[0m\u001b[1;33m)\u001b[0m\u001b[1;33m\u001b[0m\u001b[1;33m\u001b[0m\u001b[0m\n\u001b[0m\u001b[0;32m   3446\u001b[0m         \u001b[0mNDFrame\u001b[0m\u001b[1;33m.\u001b[0m\u001b[0m_set_item\u001b[0m\u001b[1;33m(\u001b[0m\u001b[0mself\u001b[0m\u001b[1;33m,\u001b[0m \u001b[0mkey\u001b[0m\u001b[1;33m,\u001b[0m \u001b[0mvalue\u001b[0m\u001b[1;33m)\u001b[0m\u001b[1;33m\u001b[0m\u001b[1;33m\u001b[0m\u001b[0m\n\u001b[0;32m   3447\u001b[0m \u001b[1;33m\u001b[0m\u001b[0m\n",
      "\u001b[1;32mc:\\program files\\python36\\lib\\site-packages\\pandas\\core\\frame.py\u001b[0m in \u001b[0;36m_sanitize_column\u001b[1;34m(self, key, value, broadcast)\u001b[0m\n\u001b[0;32m   3628\u001b[0m \u001b[1;33m\u001b[0m\u001b[0m\n\u001b[0;32m   3629\u001b[0m             \u001b[1;31m# turn me into an ndarray\u001b[0m\u001b[1;33m\u001b[0m\u001b[1;33m\u001b[0m\u001b[1;33m\u001b[0m\u001b[0m\n\u001b[1;32m-> 3630\u001b[1;33m             \u001b[0mvalue\u001b[0m \u001b[1;33m=\u001b[0m \u001b[0msanitize_index\u001b[0m\u001b[1;33m(\u001b[0m\u001b[0mvalue\u001b[0m\u001b[1;33m,\u001b[0m \u001b[0mself\u001b[0m\u001b[1;33m.\u001b[0m\u001b[0mindex\u001b[0m\u001b[1;33m,\u001b[0m \u001b[0mcopy\u001b[0m\u001b[1;33m=\u001b[0m\u001b[1;32mFalse\u001b[0m\u001b[1;33m)\u001b[0m\u001b[1;33m\u001b[0m\u001b[1;33m\u001b[0m\u001b[0m\n\u001b[0m\u001b[0;32m   3631\u001b[0m             \u001b[1;32mif\u001b[0m \u001b[1;32mnot\u001b[0m \u001b[0misinstance\u001b[0m\u001b[1;33m(\u001b[0m\u001b[0mvalue\u001b[0m\u001b[1;33m,\u001b[0m \u001b[1;33m(\u001b[0m\u001b[0mnp\u001b[0m\u001b[1;33m.\u001b[0m\u001b[0mndarray\u001b[0m\u001b[1;33m,\u001b[0m \u001b[0mIndex\u001b[0m\u001b[1;33m)\u001b[0m\u001b[1;33m)\u001b[0m\u001b[1;33m:\u001b[0m\u001b[1;33m\u001b[0m\u001b[1;33m\u001b[0m\u001b[0m\n\u001b[0;32m   3632\u001b[0m                 \u001b[1;32mif\u001b[0m \u001b[0misinstance\u001b[0m\u001b[1;33m(\u001b[0m\u001b[0mvalue\u001b[0m\u001b[1;33m,\u001b[0m \u001b[0mlist\u001b[0m\u001b[1;33m)\u001b[0m \u001b[1;32mand\u001b[0m \u001b[0mlen\u001b[0m\u001b[1;33m(\u001b[0m\u001b[0mvalue\u001b[0m\u001b[1;33m)\u001b[0m \u001b[1;33m>\u001b[0m \u001b[1;36m0\u001b[0m\u001b[1;33m:\u001b[0m\u001b[1;33m\u001b[0m\u001b[1;33m\u001b[0m\u001b[0m\n",
      "\u001b[1;32mc:\\program files\\python36\\lib\\site-packages\\pandas\\core\\internals\\construction.py\u001b[0m in \u001b[0;36msanitize_index\u001b[1;34m(data, index, copy)\u001b[0m\n\u001b[0;32m    517\u001b[0m \u001b[1;33m\u001b[0m\u001b[0m\n\u001b[0;32m    518\u001b[0m     \u001b[1;32mif\u001b[0m \u001b[0mlen\u001b[0m\u001b[1;33m(\u001b[0m\u001b[0mdata\u001b[0m\u001b[1;33m)\u001b[0m \u001b[1;33m!=\u001b[0m \u001b[0mlen\u001b[0m\u001b[1;33m(\u001b[0m\u001b[0mindex\u001b[0m\u001b[1;33m)\u001b[0m\u001b[1;33m:\u001b[0m\u001b[1;33m\u001b[0m\u001b[1;33m\u001b[0m\u001b[0m\n\u001b[1;32m--> 519\u001b[1;33m         \u001b[1;32mraise\u001b[0m \u001b[0mValueError\u001b[0m\u001b[1;33m(\u001b[0m\u001b[1;34m'Length of values does not match length of index'\u001b[0m\u001b[1;33m)\u001b[0m\u001b[1;33m\u001b[0m\u001b[1;33m\u001b[0m\u001b[0m\n\u001b[0m\u001b[0;32m    520\u001b[0m \u001b[1;33m\u001b[0m\u001b[0m\n\u001b[0;32m    521\u001b[0m     \u001b[1;32mif\u001b[0m \u001b[0misinstance\u001b[0m\u001b[1;33m(\u001b[0m\u001b[0mdata\u001b[0m\u001b[1;33m,\u001b[0m \u001b[0mABCIndexClass\u001b[0m\u001b[1;33m)\u001b[0m \u001b[1;32mand\u001b[0m \u001b[1;32mnot\u001b[0m \u001b[0mcopy\u001b[0m\u001b[1;33m:\u001b[0m\u001b[1;33m\u001b[0m\u001b[1;33m\u001b[0m\u001b[0m\n",
      "\u001b[1;31mValueError\u001b[0m: Length of values does not match length of index"
     ]
    }
   ],
   "source": [
    "# monthRawData ['Latest SOH'] = np.zeros(len(monthRawData['Sku']))\n",
    "# def listAddition(Dataide, ide, num, productDetail, listOfBranch, rawData, monthRawData):\n",
    "#     colid = 0\n",
    "#     qSum = 0\n",
    "#     for branch in listOfBranch:        \n",
    "#         branch = branch.replace(' Co','')\n",
    "#         qbranch = str(branch + '.Quantit')\n",
    "#         head = str(branch + '.Sales Quantity')\n",
    "#         if head in rawData.head(0):\n",
    "#             monthRawData.iloc[Dataide, colid+7] = monthRawData.iloc[Dataide, colid+7] + rawData[head][ide]\n",
    "#             monthRawData.iloc[Dataide, colid+8] = monthRawData.iloc[Dataide, colid+7] * float(rawData['V.S.P.'][ide])\n",
    "#             monthRawData.iloc[Dataide, colid+9] = monthRawData.iloc[Dataide, colid+7] * float(rawData['Cost Price'][ide])\n",
    "#             monthRawData.iloc[Dataide, colid+10]= monthRawData.iloc[Dataide, colid+7] / float(num)\n",
    "#         colid += 1\n",
    "#     return monthRawData\n",
    "totalGoodSale = []\n",
    "count = 0\n",
    "for sku in monthRawData['Sku']:\n",
    "    saleOfGood = []\n",
    "    for numB in numListOfBranch:\n",
    "        saleOfGood.append(monthRawData.iloc[count][numB])\n",
    "    totalGoodSale.append(np.sum(saleOfGood))\n",
    "    count += 1\n",
    "monthRawData[\"total sale of Goods\"] = totalGoodSale\n",
    "status = []\n",
    "for tot in totalGoodSale:\n",
    "#     if tot == 0:\n",
    "    if tot <= 0:\n",
    "        status.append('Non moving')\n",
    "    if (tot > 0) and (tot <=2):\n",
    "        status.append('Slow moving')\n",
    "    if tot > 2:\n",
    "        status.append('Fast moving')\n",
    "#\n",
    "\n",
    "rawData = pd.read_csv(files[-1])\n",
    "\n",
    "for i in range(len(status)):\n",
    "#         print(i)\n",
    "    try:\n",
    "        if noStock(monthRawData.iloc[i]['Sku'],rawData) and status[i]=='Non moving':\n",
    "            status[i] = 'Run out of stock'\n",
    "    except:\n",
    "        continue\n",
    "#\n",
    "monthRawData[\"Status\"] = status\n",
    "\n"
   ]
  },
  {
   "cell_type": "code",
   "execution_count": null,
   "metadata": {},
   "outputs": [],
   "source": [
    "monthRawData.to_csv(\"toalOfMonth.csv\", index=False)"
   ]
  },
  {
   "cell_type": "code",
   "execution_count": null,
   "metadata": {},
   "outputs": [],
   "source": []
  }
 ],
 "metadata": {
  "kernelspec": {
   "display_name": "Python 3",
   "language": "python",
   "name": "python3"
  },
  "language_info": {
   "codemirror_mode": {
    "name": "ipython",
    "version": 3
   },
   "file_extension": ".py",
   "mimetype": "text/x-python",
   "name": "python",
   "nbconvert_exporter": "python",
   "pygments_lexer": "ipython3",
   "version": "3.6.7"
  }
 },
 "nbformat": 4,
 "nbformat_minor": 2
}
