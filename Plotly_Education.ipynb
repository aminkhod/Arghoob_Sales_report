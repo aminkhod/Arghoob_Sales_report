{
 "cells": [
  {
   "cell_type": "code",
   "execution_count": 59,
   "metadata": {},
   "outputs": [
    {
     "name": "stdout",
     "output_type": "stream",
     "text": [
      " * Serving Flask app \"__main__\" (lazy loading)\n",
      " * Environment: production\n",
      "   WARNING: This is a development server. Do not use it in a production deployment.\n",
      "   Use a production WSGI server instead.\n",
      " * Debug mode: off\n"
     ]
    },
    {
     "name": "stderr",
     "output_type": "stream",
     "text": [
      " * Running on http://127.0.0.1:5000/ (Press CTRL+C to quit)\n",
      "[2019-06-02 10:50:43,879] ERROR in app: Exception on / [GET]\n",
      "Traceback (most recent call last):\n",
      "  File \"c:\\program files\\python36\\lib\\site-packages\\flask\\app.py\", line 2311, in wsgi_app\n",
      "    response = self.full_dispatch_request()\n",
      "  File \"c:\\program files\\python36\\lib\\site-packages\\flask\\app.py\", line 1834, in full_dispatch_request\n",
      "    rv = self.handle_user_exception(e)\n",
      "  File \"c:\\program files\\python36\\lib\\site-packages\\flask\\app.py\", line 1737, in handle_user_exception\n",
      "    reraise(exc_type, exc_value, tb)\n",
      "  File \"c:\\program files\\python36\\lib\\site-packages\\flask\\_compat.py\", line 36, in reraise\n",
      "    raise value\n",
      "  File \"c:\\program files\\python36\\lib\\site-packages\\flask\\app.py\", line 1832, in full_dispatch_request\n",
      "    rv = self.dispatch_request()\n",
      "  File \"c:\\program files\\python36\\lib\\site-packages\\flask\\app.py\", line 1818, in dispatch_request\n",
      "    return self.view_functions[rule.endpoint](**req.view_args)\n",
      "  File \"<ipython-input-59-362a3ef81904>\", line 12, in index\n",
      "    block_list = getBlockList()\n",
      "NameError: name 'getBlockList' is not defined\n",
      "127.0.0.1 - - [02/Jun/2019 10:50:43] \"\u001b[1m\u001b[35mGET / HTTP/1.1\u001b[0m\" 500 -\n"
     ]
    }
   ],
   "source": [
    "# encoding: utf-8\n",
    "\n",
    "import configparser\n",
    "import codecs\n",
    "from flask import Flask\n",
    "from flask import render_template\n",
    "\n",
    "app = Flask(__name__)\n",
    "\n",
    "@app.route('/')\n",
    "def index():\n",
    "    block_list = getBlockList()\n",
    "    website_dict = getWebsiteDict()\n",
    "    return render_template('index.html', block_list=block_list, website_dict=website_dict)\n",
    "\n",
    "if __name__ == '__main__':\n",
    "    app.run()"
   ]
  },
  {
   "cell_type": "code",
   "execution_count": 60,
   "metadata": {},
   "outputs": [
    {
     "data": {
      "text/html": [
       "        <script type=\"text/javascript\">\n",
       "        window.PlotlyConfig = {MathJaxConfig: 'local'};\n",
       "        if (window.MathJax) {MathJax.Hub.Config({SVG: {font: \"STIX-Web\"}});}\n",
       "        if (typeof require !== 'undefined') {\n",
       "        require.undef(\"plotly\");\n",
       "        requirejs.config({\n",
       "            paths: {\n",
       "                'plotly': ['https://cdn.plot.ly/plotly-latest.min']\n",
       "            }\n",
       "        });\n",
       "        require(['plotly'], function(Plotly) {\n",
       "            window._Plotly = Plotly;\n",
       "        });\n",
       "        }\n",
       "        </script>\n",
       "        "
      ]
     },
     "metadata": {},
     "output_type": "display_data"
    }
   ],
   "source": [
    "import numpy as np\n",
    "import plotly.offline as plot\n",
    "import plotly.graph_objs as go\n",
    "import pandas as pd\n",
    "import os\n",
    "import dash_core_components as dcc\n",
    "import dash_html_components as html\n",
    "from dash.dependencies import Input, Output\n",
    "from IPython.display import IFrame\n",
    "from plotly.offline import iplot, init_notebook_mode\n",
    "\n",
    "init_notebook_mode(connected=True)\n"
   ]
  },
  {
   "cell_type": "code",
   "execution_count": 61,
   "metadata": {},
   "outputs": [],
   "source": [
    "hg = pd.read_csv('hg.csv')\n",
    "numListOfBranch = ['401','402','404','405','412','416','417','423',\n",
    "                   '424','425','426','429','444','490',]\n",
    "branchTot = []\n",
    "for col in numListOfBranch:\n",
    "    branchTot.append(hg[col].sum())\n",
    "    \n",
    "np.random.seed(42)\n",
    "random_x = np.random.randint(1,101,100)\n",
    "random_y = np.random.randint(1,101,100)"
   ]
  },
  {
   "cell_type": "code",
   "execution_count": 62,
   "metadata": {},
   "outputs": [
    {
     "data": {
      "application/vnd.plotly.v1+json": {
       "config": {
        "linkText": "Export to plot.ly",
        "plotlyServerURL": "https://plot.ly",
        "responsive": true,
        "showLink": false
       },
       "data": [
        {
         "boxmean": true,
         "boxpoints": "all",
         "name": "sale distribution",
         "type": "box",
         "uid": "ee8c80ef-cc5e-40ba-8da7-b63f5306c112",
         "y": [
          42,
          10,
          21,
          91,
          48,
          388,
          34,
          14,
          104,
          7,
          23,
          21,
          1,
          12
         ]
        }
       ],
       "layout": {
        "title": {
         "text": "sale distribution"
        }
       }
      },
      "text/html": [
       "<div>\n",
       "        \n",
       "        \n",
       "            <div id=\"905d42e5-9482-4aff-924d-01a0009c8b21\" class=\"plotly-graph-div\" style=\"height:525px; width:100%;\"></div>\n",
       "            <script type=\"text/javascript\">\n",
       "                require([\"plotly\"], function(Plotly) {\n",
       "                    window.PLOTLYENV=window.PLOTLYENV || {};\n",
       "                    window.PLOTLYENV.BASE_URL='https://plot.ly';\n",
       "                    \n",
       "                if (document.getElementById(\"905d42e5-9482-4aff-924d-01a0009c8b21\")) {\n",
       "                    Plotly.newPlot(\n",
       "                        '905d42e5-9482-4aff-924d-01a0009c8b21',\n",
       "                        [{\"boxmean\": true, \"boxpoints\": \"all\", \"name\": \"sale distribution\", \"type\": \"box\", \"uid\": \"75bba766-163e-42cf-9f2c-841432107370\", \"y\": [42.0, 10.0, 21.0, 91.0, 48.0, 388.0, 34.0, 14.0, 104.0, 7.0, 23.0, 21.0, 1.0, 12.0]}],\n",
       "                        {\"title\": {\"text\": \"sale distribution\"}},\n",
       "                        {\"showLink\": false, \"linkText\": \"Export to plot.ly\", \"plotlyServerURL\": \"https://plot.ly\", \"responsive\": true}\n",
       "                    ).then(function(){\n",
       "                            \n",
       "var gd = document.getElementById('905d42e5-9482-4aff-924d-01a0009c8b21');\n",
       "var x = new MutationObserver(function (mutations, observer) {{\n",
       "        var display = window.getComputedStyle(gd).display;\n",
       "        if (!display || display === 'none') {{\n",
       "            console.log([gd, 'removed!']);\n",
       "            Plotly.purge(gd);\n",
       "            observer.disconnect();\n",
       "        }}\n",
       "}});\n",
       "\n",
       "// Listen for the removal of the full notebook cells\n",
       "var notebookContainer = gd.closest('#notebook-container');\n",
       "if (notebookContainer) {{\n",
       "    x.observe(notebookContainer, {childList: true});\n",
       "}}\n",
       "\n",
       "// Listen for the clearing of the current output cell\n",
       "var outputEl = gd.closest('.output');\n",
       "if (outputEl) {{\n",
       "    x.observe(outputEl, {childList: true});\n",
       "}}\n",
       "\n",
       "                        })\n",
       "                };\n",
       "                });\n",
       "            </script>\n",
       "        </div>"
      ]
     },
     "metadata": {},
     "output_type": "display_data"
    }
   ],
   "source": [
    "data = [go.Box(y = branchTot, name = 'sale distribution', boxmean=True, boxpoints = 'all')]\n",
    "# boxmean = 'sd'\n",
    "# boxpoints = 'outliers'\n",
    "# boxpoints = 'suspectedoutliers\n",
    "# boxpoints = False\n",
    "\n",
    "layout = go.Layout(\n",
    "    title = \"sale distribution\"\n",
    ")\n",
    "\n",
    "fig = go.Figure(data=data,layout=layout)\n",
    "iplot(fig, filename = \"sale distribution of each branch\")\n"
   ]
  },
  {
   "cell_type": "code",
   "execution_count": 63,
   "metadata": {},
   "outputs": [
    {
     "data": {
      "application/vnd.plotly.v1+json": {
       "config": {
        "linkText": "Export to plot.ly",
        "plotlyServerURL": "https://plot.ly",
        "responsive": true,
        "showLink": false
       },
       "data": [
        {
         "name": "sale of each branch",
         "type": "bar",
         "uid": "8d9ba61e-8324-4770-8040-698fa1fe8492",
         "x": [
          "401",
          "402",
          "404",
          "405",
          "412",
          "416",
          "417",
          "423",
          "424",
          "425",
          "426",
          "429",
          "444",
          "490"
         ],
         "y": [
          42,
          10,
          21,
          91,
          48,
          388,
          34,
          14,
          104,
          7,
          23,
          21,
          1,
          12
         ]
        }
       ],
       "layout": {}
      },
      "text/html": [
       "<div>\n",
       "        \n",
       "        \n",
       "            <div id=\"6dd4c1ed-502e-4244-84b2-a9f2e6e3a1d2\" class=\"plotly-graph-div\" style=\"height:525px; width:100%;\"></div>\n",
       "            <script type=\"text/javascript\">\n",
       "                require([\"plotly\"], function(Plotly) {\n",
       "                    window.PLOTLYENV=window.PLOTLYENV || {};\n",
       "                    window.PLOTLYENV.BASE_URL='https://plot.ly';\n",
       "                    \n",
       "                if (document.getElementById(\"6dd4c1ed-502e-4244-84b2-a9f2e6e3a1d2\")) {\n",
       "                    Plotly.newPlot(\n",
       "                        '6dd4c1ed-502e-4244-84b2-a9f2e6e3a1d2',\n",
       "                        [{\"name\": \"sale of each branch\", \"type\": \"bar\", \"uid\": \"8744527d-ad82-4a6b-971f-b10ab78d6ca7\", \"x\": [\"401\", \"402\", \"404\", \"405\", \"412\", \"416\", \"417\", \"423\", \"424\", \"425\", \"426\", \"429\", \"444\", \"490\"], \"y\": [42.0, 10.0, 21.0, 91.0, 48.0, 388.0, 34.0, 14.0, 104.0, 7.0, 23.0, 21.0, 1.0, 12.0]}],\n",
       "                        {},\n",
       "                        {\"showLink\": false, \"linkText\": \"Export to plot.ly\", \"plotlyServerURL\": \"https://plot.ly\", \"responsive\": true}\n",
       "                    ).then(function(){\n",
       "                            \n",
       "var gd = document.getElementById('6dd4c1ed-502e-4244-84b2-a9f2e6e3a1d2');\n",
       "var x = new MutationObserver(function (mutations, observer) {{\n",
       "        var display = window.getComputedStyle(gd).display;\n",
       "        if (!display || display === 'none') {{\n",
       "            console.log([gd, 'removed!']);\n",
       "            Plotly.purge(gd);\n",
       "            observer.disconnect();\n",
       "        }}\n",
       "}});\n",
       "\n",
       "// Listen for the removal of the full notebook cells\n",
       "var notebookContainer = gd.closest('#notebook-container');\n",
       "if (notebookContainer) {{\n",
       "    x.observe(notebookContainer, {childList: true});\n",
       "}}\n",
       "\n",
       "// Listen for the clearing of the current output cell\n",
       "var outputEl = gd.closest('.output');\n",
       "if (outputEl) {{\n",
       "    x.observe(outputEl, {childList: true});\n",
       "}}\n",
       "\n",
       "                        })\n",
       "                };\n",
       "                });\n",
       "            </script>\n",
       "        </div>"
      ]
     },
     "metadata": {},
     "output_type": "display_data"
    }
   ],
   "source": [
    "data = [go.Bar(x = numListOfBranch, y = branchTot, name = 'sale of each branch')]\n",
    "iplot(data,filename='sale amount of each branch.html')"
   ]
  },
  {
   "cell_type": "code",
   "execution_count": null,
   "metadata": {},
   "outputs": [],
   "source": []
  },
  {
   "cell_type": "code",
   "execution_count": 64,
   "metadata": {},
   "outputs": [
    {
     "data": {
      "text/html": [
       "\n",
       "        <iframe\n",
       "            width=\"100%\"\n",
       "            height=\"650px\"\n",
       "            src=\"https://dash-simple-apps.plotly.host/dash-boxplot/?frameBorder=0\"\n",
       "            frameborder=\"0\"\n",
       "            allowfullscreen\n",
       "        ></iframe>\n",
       "        "
      ],
      "text/plain": [
       "<IPython.lib.display.IFrame at 0x1aea0f99828>"
      ]
     },
     "execution_count": 64,
     "metadata": {},
     "output_type": "execute_result"
    }
   ],
   "source": [
    "\n",
    "IFrame(src= \"https://dash-simple-apps.plotly.host/dash-boxplot/\",\n",
    "       width=\"100%\", height=\"650px\", frameBorder=\"0\")"
   ]
  },
  {
   "cell_type": "code",
   "execution_count": 65,
   "metadata": {},
   "outputs": [
    {
     "ename": "AttributeError",
     "evalue": "'Flask' object has no attribute 'callback'",
     "output_type": "error",
     "traceback": [
      "\u001b[1;31m---------------------------------------------------------------------------\u001b[0m",
      "\u001b[1;31mAttributeError\u001b[0m                            Traceback (most recent call last)",
      "\u001b[1;32m<ipython-input-65-b55156115eb3>\u001b[0m in \u001b[0;36m<module>\u001b[1;34m\u001b[0m\n\u001b[0;32m     16\u001b[0m \u001b[1;33m\u001b[0m\u001b[0m\n\u001b[0;32m     17\u001b[0m \u001b[1;33m\u001b[0m\u001b[0m\n\u001b[1;32m---> 18\u001b[1;33m @app.callback(\n\u001b[0m\u001b[0;32m     19\u001b[0m     \u001b[0mOutput\u001b[0m\u001b[1;33m(\u001b[0m\u001b[1;34m'my-graph'\u001b[0m\u001b[1;33m,\u001b[0m \u001b[1;34m'figure'\u001b[0m\u001b[1;33m)\u001b[0m\u001b[1;33m,\u001b[0m\u001b[1;33m\u001b[0m\u001b[1;33m\u001b[0m\u001b[0m\n\u001b[0;32m     20\u001b[0m     [Input('selected-continent', 'value')])\n",
      "\u001b[1;31mAttributeError\u001b[0m: 'Flask' object has no attribute 'callback'"
     ]
    }
   ],
   "source": [
    "from manage import app\n",
    "df = pd.read_csv('https://raw.githubusercontent.com/plotly/datasets/master/Emissions%20Data.csv')\n",
    "\n",
    "if 'DYNO' in os.environ:\n",
    "    app_name = os.environ['DASH_APP_NAME']\n",
    "else:\n",
    "    app_name = 'dash-boxplot'\n",
    "\n",
    "layout = html.Div([html.Div([\n",
    "        html.H1(\"Greenhouse Gas Emissions by Continent\")], style={\"textAlign\": \"center\"}),\n",
    "        dcc.Graph(id=\"my-graph\"),\n",
    "        html.Div([dcc.RangeSlider(id=\"selected-continent\",min=2008,max=2011,\n",
    "                 marks={2008: \"2008\", 2009: \"2009\", 2010: \"2010\", 2011: \"2011\"},value=[2008, 2010],)],\n",
    "                 style={\"display\": \"block\",\"margin-left\": \"auto\",\"margin-right\": \"auto\",\"width\": \"60%\"}),\n",
    "], className=\"container\")\n",
    "\n",
    "\n",
    "@app.callback(\n",
    "    Output('my-graph', 'figure'),\n",
    "    [Input('selected-continent', 'value')])\n",
    "def update_figure(selected):\n",
    "    dff = df[(df[\"Year\"] >= selected[0]) & (df[\"Year\"] <= selected[1])]\n",
    "    traces = []\n",
    "    for continent in dff.Continent.unique():\n",
    "        traces.append(go.Box(y=dff[dff[\"Continent\"] == continent][\"Emission\"],name=continent,marker={\"size\": 4}))\n",
    "    return {\"data\": traces,\n",
    "            \"layout\": go.Layout(title=f\"Emission Levels for {'-'.join(str(i) for i in selected)}\",autosize=True,\n",
    "                                margin={\"l\": 200, \"b\": 100, \"r\": 200},xaxis={\"showticklabels\": False,},\n",
    "                                yaxis={\"title\": f\"Emissions (gigatonnes of CO2)\",\"type\": \"log\",},)}\n",
    "\n"
   ]
  },
  {
   "cell_type": "code",
   "execution_count": null,
   "metadata": {},
   "outputs": [],
   "source": []
  }
 ],
 "metadata": {
  "kernelspec": {
   "display_name": "Python 3",
   "language": "python",
   "name": "python3"
  },
  "language_info": {
   "codemirror_mode": {
    "name": "ipython",
    "version": 3
   },
   "file_extension": ".py",
   "mimetype": "text/x-python",
   "name": "python",
   "nbconvert_exporter": "python",
   "pygments_lexer": "ipython3",
   "version": "3.6.7"
  }
 },
 "nbformat": 4,
 "nbformat_minor": 2
}
