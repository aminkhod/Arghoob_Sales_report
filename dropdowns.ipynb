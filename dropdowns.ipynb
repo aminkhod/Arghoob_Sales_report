{
    "cells": [
        {
            "source": [
                "#### New to Plotly?\n",
                "Plotly's Python library is free and open source! [Get started](https://plot.ly/python/getting-started/) by downloading the client and [reading the primer](https://plot.ly/python/getting-started/).\n",
                "<br>You can set up Plotly to work in [online](https://plot.ly/python/getting-started/#initialization-for-online-plotting) or [offline](https://plot.ly/python/getting-started/#initialization-for-offline-plotting) mode, or in [jupyter notebooks](https://plot.ly/python/getting-started/#start-plotting-online).\n",
                "<br>We also have a quick-reference [cheatsheet](https://images.plot.ly/plotly-documentation/images/python_cheat_sheet.pdf) (new!) to help you get started!"
            ],
            "metadata": {},
            "cell_type": "markdown"
        },
        {
            "source": [
                "#### Version Check\n",
                "Note: Dropdown Menus are available in version <b>1.12.6+</b><br>\n",
                "Run  `pip install plotly --upgrade` to update your Plotly version"
            ],
            "metadata": {},
            "cell_type": "markdown"
        },
        {
            "source": [
                "import plotly\n",
                "plotly.__version__"
            ],
            "outputs": [
                {
                    "data": {
                        "text/plain": [
                            "'1.12.6'"
                        ]
                    },
                    "metadata": {},
                    "output_type": "execute_result",
                    "execution_count": 1
                }
            ],
            "metadata": {
                "collapsed": false
            },
            "cell_type": "code",
            "execution_count": 1
        },
        {
            "source": [
                "#### Simple Dropdown Menu\n",
                "Dropdown Menus can now be used in Plotly to change the data displayed or style of a plot!"
            ],
            "metadata": {},
            "cell_type": "markdown"
        },
        {
            "source": [
                "import plotly.plotly as py\n",
                "from plotly.graph_objs import *\n",
                "\n",
                "countries = ['United States', 'China', 'South Korea', 'Hungary', 'Austraila', 'Canada']\n",
                "gold = [10, 8, 4, 4, 4, 0]\n",
                "silver = [8, 3, 2, 1, 0, 1]\n",
                "bronze = [9, 6, 1, 1, 5, 4]\n",
                "total = [27, 17, 7, 6, 9, 5]\n",
                "\n",
                "trace1 = Scatter(\n",
                "    x=countries, y=gold,\n",
                "    line=Line(\n",
                "        color='#FFD700',\n",
                "        width=3\n",
                "    ),\n",
                "    name='Gold'\n",
                ")\n",
                "\n",
                "trace2 = Scatter(\n",
                "    x=countries, y=silver,\n",
                "    line=Line(\n",
                "        color='#C0C0C0',\n",
                "        width=3\n",
                "    ),\n",
                "    name='Silver'\n",
                ")\n",
                "\n",
                "trace3 = Scatter(\n",
                "    x=countries, y=bronze,\n",
                "    line=Line(\n",
                "        color='#BA8651',\n",
                "        width=3\n",
                "    ),\n",
                "    name='Bronze'\n",
                ")\n",
                "\n",
                "trace4 = Scatter(\n",
                "    x=countries, y=total,\n",
                "    line=Line(\n",
                "        color='#000000',\n",
                "        width=4\n",
                "    ),\n",
                "    name='Total'\n",
                ")\n",
                "\n",
                "data = Data([trace1, trace2, trace3, trace4])\n",
                "layout = Layout(\n",
                "    title='2016 Summer Olympic Medal Count',\n",
                "    updatemenus=list([\n",
                "        dict(\n",
                "            x=-0.05,\n",
                "            y=1,\n",
                "            yanchor='top',\n",
                "            buttons=list([\n",
                "                dict(\n",
                "                    args=['visible', [True, True, True, True]],\n",
                "                    label='All',\n",
                "                    method='restyle'\n",
                "                ),\n",
                "                dict(\n",
                "                    args=['visible', [True, False, False, False]],\n",
                "                    label='Gold',\n",
                "                    method='restyle'\n",
                "                ),\n",
                "                dict(\n",
                "                    args=['visible', [False, True, False, False]],\n",
                "                    label='Silver',\n",
                "                    method='restyle'\n",
                "                ),\n",
                "                dict(\n",
                "                    args=['visible', [False, False, True, False]],\n",
                "                    label='Bronze',\n",
                "                    method='restyle'\n",
                "                ),\n",
                "                dict(\n",
                "                    args=['visible', [False, False, False, True]],\n",
                "                    label='Total',\n",
                "                    method='restyle'\n",
                "                )\n",
                "            ]),\n",
                "        )\n",
                "    ]),\n",
                ")\n",
                "fig = Figure(data=data, layout=layout)\n",
                "py.iplot(fig)"
            ],
            "outputs": [
                {
                    "data": {
                        "text/html": [
                            "<iframe id=\"igraph\" scrolling=\"no\" style=\"border:none;\" seamless=\"seamless\" src=\"https://plot.ly/~chelsea_lyn/12871.embed\" height=\"525px\" width=\"100%\"></iframe>"
                        ],
                        "text/plain": [
                            "<plotly.tools.PlotlyDisplay object>"
                        ]
                    },
                    "metadata": {},
                    "output_type": "execute_result",
                    "execution_count": 2
                }
            ],
            "metadata": {
                "collapsed": false
            },
            "cell_type": "code",
            "execution_count": 2
        },
        {
            "source": [
                "#### Add Multiple Dropdown Menus"
            ],
            "metadata": {},
            "cell_type": "markdown"
        },
        {
            "source": [
                "import plotly.plotly as py\n",
                "from plotly.graph_objs import *\n",
                "\n",
                "trace1 = Scatter(\n",
                "    y=[0.9811517321019101, 0.1786216491876189, 0.914448712848716, \n",
                "       0.6304173657769527, 0.8523920330052668, 0.6441693787052116, \n",
                "       0.026608139127452413, 0.5533894498601162, 0.3984403467889206, \n",
                "       0.4041165335437975],\n",
                "    line=Line(\n",
                "        color='red',\n",
                "        shape='spline'\n",
                "    ),\n",
                "    name='Data Set 1'\n",
                ")\n",
                "\n",
                "trace2 = Scatter(\n",
                "    y=[0.585710785814439, 0.3430887677330601, 0.4584226994722529, \n",
                "       0.2765770916324737, 0.3799651357341245, 0.08327961475466394, \n",
                "       0.13306360933716, 0.6468040257640011, 0.3574845623367817, \n",
                "       0.6906963617910844],\n",
                "    line=Line(\n",
                "        color='red',\n",
                "        shape='spline'\n",
                "    ),\n",
                "    name='Data Set 2',\n",
                "    visible=False,\n",
                ")\n",
                "\n",
                "trace3 = Scatter(\n",
                "    y=[0.8730924772005504, 0.2502287847221978, 0.4977706549396861, \n",
                "       0.8697548378149877, 0.2764916236291508, 0.9321797368391336, \n",
                "       0.668390989554607, 0.3190700540510323, 0.5551541121285288, \n",
                "       0.9220083303110946],\n",
                "    line=Line(\n",
                "        color='red',\n",
                "        shape='spline'\n",
                "    ),\n",
                "    name='Data Set 3',\n",
                "    visible=False,\n",
                ")\n",
                "\n",
                "trace4 = Scatter(\n",
                "    y=[0.5007964550744415, 0.5433206590323669, 0.5566315092423986, \n",
                "       0.17269775092493655, 0.06952350531583895, 0.8606722243359786, \n",
                "       0.8772074711040978, 0.20259890631699906, 0.43977313616572666, \n",
                "       0.8856663080881806],\n",
                "    line=Line(\n",
                "        color='red',\n",
                "        shape='spline'\n",
                "    ),\n",
                "    name='Data Set 4',\n",
                "    visible=False,\n",
                ")\n",
                "\n",
                "data = Data([trace1, trace2, trace3, trace4])\n",
                "layout = Layout(\n",
                "    updatemenus=list([\n",
                "        dict(\n",
                "            x=-0.05,\n",
                "            y=0.8,\n",
                "            buttons=list([\n",
                "                dict(\n",
                "                    args=['line.color', 'red'],\n",
                "                    label='red',\n",
                "                    method='restyle'\n",
                "                ),\n",
                "                dict(\n",
                "                    args=['line.color', 'blue'],\n",
                "                    label='blue',\n",
                "                    method='restyle'\n",
                "                ),\n",
                "                dict(\n",
                "                    args=['line.color', 'green'],\n",
                "                    label='green',\n",
                "                    method='restyle'\n",
                "                )\n",
                "            ]),\n",
                "            yanchor='top'\n",
                "        ),\n",
                "        dict(\n",
                "            x=-0.05,\n",
                "            y=1,\n",
                "            buttons=list([\n",
                "                dict(\n",
                "                    args=['visible', [True, False, False, False]],\n",
                "                    label='Data Set 1',\n",
                "                    method='restyle'\n",
                "                ),\n",
                "                dict(\n",
                "                    args=['visible', [False, True, False, False]],\n",
                "                    label='Data Set 2',\n",
                "                    method='restyle'\n",
                "                ),\n",
                "                dict(\n",
                "                    args=['visible', [False, False, True, False]],\n",
                "                    label='Data Set 3',\n",
                "                    method='restyle'\n",
                "                ),\n",
                "                dict(\n",
                "                    args=['visible', [False, False, False, True]],\n",
                "                    label='Data Set 4',\n",
                "                    method='restyle'\n",
                "                )\n",
                "            ]),\n",
                "            yanchor='top'\n",
                "        )\n",
                "    ]),\n",
                ")\n",
                "fig = Figure(data=data, layout=layout)\n",
                "py.iplot(fig)"
            ],
            "outputs": [
                {
                    "data": {
                        "text/html": [
                            "<iframe id=\"igraph\" scrolling=\"no\" style=\"border:none;\" seamless=\"seamless\" src=\"https://plot.ly/~chelsea_lyn/12873.embed\" height=\"525px\" width=\"100%\"></iframe>"
                        ],
                        "text/plain": [
                            "<plotly.tools.PlotlyDisplay object>"
                        ]
                    },
                    "metadata": {},
                    "output_type": "execute_result",
                    "execution_count": 3
                }
            ],
            "metadata": {
                "collapsed": false
            },
            "cell_type": "code",
            "execution_count": 3
        },
        {
            "source": [
                "#### Reference\n",
                "Check out https://plot.ly/python/reference/#layout-updatemenus for more information!"
            ],
            "metadata": {},
            "cell_type": "markdown"
        },
        {
            "source": [],
            "outputs": [],
            "metadata": {
                "collapsed": true
            },
            "cell_type": "code",
            "execution_count": null
        }
    ],
    "metadata": {
        "kernelspec": {
            "name": "python2",
            "language": "python",
            "display_name": "Python 2"
        },
        "language_info": {
            "name": "python",
            "version": "2.7.10",
            "mimetype": "text/x-python",
            "file_extension": ".py",
            "pygments_lexer": "ipython2",
            "codemirror_mode": {
                "name": "ipython",
                "version": 2
            },
            "nbconvert_exporter": "python"
        }
    },
    "nbformat": 4,
    "nbformat_minor": 0
}