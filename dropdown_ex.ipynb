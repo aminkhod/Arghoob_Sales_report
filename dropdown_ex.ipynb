{
    "cells": [
        {
            "source": [
                "import plotly.plotly as py\n",
                "from plotly.graph_objs import *\n",
                "\n",
                "countries = ['United States', 'China', 'South Korea', 'Hungary', 'Austraila', 'Canada']\n",
                "gold = [10, 8, 4, 4, 4, 0]\n",
                "silver = [8, 3, 2, 1, 0, 1]\n",
                "bronze = [9, 6, 1, 1, 5, 4]\n",
                "total = [27, 17, 7, 6, 9, 5]\n",
                "\n",
                "trace1 = Scatter(\n",
                "    x=countries, y=gold,\n",
                "    line=Line(\n",
                "        color='#FFD700',\n",
                "        width=3\n",
                "    ),\n",
                "    name='Gold'\n",
                ")\n",
                "\n",
                "trace2 = Scatter(\n",
                "    x=countries, y=silver,\n",
                "    visible=False,\n",
                "    line=Line(\n",
                "        color='#C0C0C0',\n",
                "        width=3\n",
                "    ),\n",
                "    name='Silver'\n",
                ")\n",
                "\n",
                "trace3 = Scatter(\n",
                "    x=countries, y=bronze,\n",
                "    visible=False,\n",
                "    line=Line(\n",
                "        color='#BA8651',\n",
                "        width=3\n",
                "    ),\n",
                "    name='Bronze'\n",
                ")\n",
                "\n",
                "trace4 = Scatter(\n",
                "    x=countries, y=total,\n",
                "    visible=False,\n",
                "    line=Line(\n",
                "        color='#000000',\n",
                "        width=4\n",
                "    ),\n",
                "    name='Total'\n",
                ")\n",
                "\n",
                "data = Data([trace1, trace2, trace3, trace4])\n",
                "layout = Layout(\n",
                "    title='2016 Summer Olympic Medal Count',\n",
                "    updatemenus=list([\n",
                "        dict(\n",
                "            x=-0.05,\n",
                "            y=1,\n",
                "            yanchor='top',\n",
                "            buttons=list([\n",
                "                dict(\n",
                "                    args=['visible', [True, False, False, False]],\n",
                "                    label='Gold',\n",
                "                    method='restyle'\n",
                "                ),\n",
                "                dict(\n",
                "                    args=['visible', [False, True, False, False]],\n",
                "                    label='Silver',\n",
                "                    method='restyle'\n",
                "                ),\n",
                "                dict(\n",
                "                    args=['visible', [False, False, True, False]],\n",
                "                    label='Bronze',\n",
                "                    method='restyle'\n",
                "                ),\n",
                "                dict(\n",
                "                    args=['visible', [False, False, False, True]],\n",
                "                    label='Total',\n",
                "                    method='restyle'\n",
                "                ),\n",
                "                dict(\n",
                "                    args=['visible', [True, True, True, True]],\n",
                "                    label='All',\n",
                "                    method='restyle'\n",
                "                ),\n",
                "            ]),\n",
                "        )\n",
                "    ]),\n",
                ")\n",
                "fig = Figure(data=data, layout=layout)\n",
                "py.iplot(fig, filename='dropdown_ex')\n"
            ],
            "outputs": [
                {
                    "data": {
                        "text/html": [
                            "<iframe id=\"igraph\" scrolling=\"no\" style=\"border:none;\" seamless=\"seamless\" src=\"https://plot.ly/~PythonPlotBot/141.embed\" height=\"525px\" width=\"100%\"></iframe>"
                        ],
                        "text/plain": [
                            "<plotly.tools.PlotlyDisplay object>"
                        ]
                    },
                    "metadata": {},
                    "output_type": "execute_result",
                    "execution_count": 5
                }
            ],
            "metadata": {
                "collapsed": false
            },
            "cell_type": "code",
            "execution_count": 5
        },
        {
            "source": [],
            "outputs": [],
            "metadata": {
                "collapsed": true
            },
            "cell_type": "code",
            "execution_count": null
        }
    ],
    "metadata": {
        "kernelspec": {
            "name": "python2",
            "language": "python",
            "display_name": "Python 2"
        },
        "language_info": {
            "name": "python",
            "version": "2.7.12",
            "mimetype": "text/x-python",
            "file_extension": ".py",
            "pygments_lexer": "ipython2",
            "codemirror_mode": {
                "name": "ipython",
                "version": 2
            },
            "nbconvert_exporter": "python"
        }
    },
    "nbformat": 4,
    "nbformat_minor": 2
}